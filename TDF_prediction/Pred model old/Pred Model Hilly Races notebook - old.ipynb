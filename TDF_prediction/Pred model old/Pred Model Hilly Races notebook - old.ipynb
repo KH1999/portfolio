{
 "cells": [
  {
   "cell_type": "code",
   "execution_count": null,
   "id": "a79d6c53",
   "metadata": {
    "vscode": {
     "languageId": "r"
    }
   },
   "outputs": [
    {
     "ename": "",
     "evalue": "",
     "output_type": "error",
     "traceback": [
      "\u001b[1;31mFailed to start the Kernel. \n",
      "dyld[27060]: Library not loaded: @rpath/libreadline.6.2.dylib\n",
      "  Referenced from: /opt/anaconda3/lib/R/lib/libR.dylib\n",
      "  Reason: tried: '/opt/anaconda3/lib/R/lib/../../libreadline.6.2.dylib' (no such file), '/opt/anaconda3/lib/R/bin/exec/../../../libreadline.6.2.dylib' (no such file), '/opt/anaconda3/lib/R/bin/exec/../../../libreadline.6.2.dylib' (no such file), '/opt/anaconda3/lib/R/lib/libreadline.6.2.dylib' (no such file), '/opt/anaconda3/lib/libreadline.6.2.dylib' (no such file), '/opt/anaconda3/libreadline.6.2.dylib' (no such file). \n",
      "View Jupyter <a href='command:jupyter.viewOutput'>log</a> for further details."
     ]
    }
   ],
   "source": [
    "library(pacman)\n",
    "p_load(lubridate, AUC, tidyverse,magrittr, dplyr, tidyr,rlist,dummy , e1071, ROSE , rotationForest, xgboost, Boruta, varSelRF, caret)\n"
   ]
  },
  {
   "cell_type": "code",
   "execution_count": null,
   "id": "070d509d",
   "metadata": {
    "vscode": {
     "languageId": "r"
    }
   },
   "outputs": [
    {
     "ename": "",
     "evalue": "",
     "output_type": "error",
     "traceback": [
      "\u001b[1;31mFailed to start the Kernel. \n",
      "dyld[27060]: Library not loaded: @rpath/libreadline.6.2.dylib\n",
      "  Referenced from: /opt/anaconda3/lib/R/lib/libR.dylib\n",
      "  Reason: tried: '/opt/anaconda3/lib/R/lib/../../libreadline.6.2.dylib' (no such file), '/opt/anaconda3/lib/R/bin/exec/../../../libreadline.6.2.dylib' (no such file), '/opt/anaconda3/lib/R/bin/exec/../../../libreadline.6.2.dylib' (no such file), '/opt/anaconda3/lib/R/lib/libreadline.6.2.dylib' (no such file), '/opt/anaconda3/lib/libreadline.6.2.dylib' (no such file), '/opt/anaconda3/libreadline.6.2.dylib' (no such file). \n",
      "View Jupyter <a href='command:jupyter.viewOutput'>log</a> for further details."
     ]
    }
   ],
   "source": [
    "p_load(caret)\n",
    "\n",
    "p_load(FNN)\n",
    "\n",
    "p_load(randomForest)\n",
    "\n",
    "options(repr.matrix.max.cols=1000, repr.matrix.max.rows=1000)"
   ]
  },
  {
   "cell_type": "code",
   "execution_count": null,
   "id": "e2e2b666",
   "metadata": {
    "vscode": {
     "languageId": "r"
    }
   },
   "outputs": [
    {
     "ename": "",
     "evalue": "",
     "output_type": "error",
     "traceback": [
      "\u001b[1;31mFailed to start the Kernel. \n",
      "dyld[27060]: Library not loaded: @rpath/libreadline.6.2.dylib\n",
      "  Referenced from: /opt/anaconda3/lib/R/lib/libR.dylib\n",
      "  Reason: tried: '/opt/anaconda3/lib/R/lib/../../libreadline.6.2.dylib' (no such file), '/opt/anaconda3/lib/R/bin/exec/../../../libreadline.6.2.dylib' (no such file), '/opt/anaconda3/lib/R/bin/exec/../../../libreadline.6.2.dylib' (no such file), '/opt/anaconda3/lib/R/lib/libreadline.6.2.dylib' (no such file), '/opt/anaconda3/lib/libreadline.6.2.dylib' (no such file), '/opt/anaconda3/libreadline.6.2.dylib' (no such file). \n",
      "View Jupyter <a href='command:jupyter.viewOutput'>log</a> for further details."
     ]
    }
   ],
   "source": [
    "p_load(ranger)"
   ]
  },
  {
   "cell_type": "markdown",
   "id": "b3088e99",
   "metadata": {},
   "source": [
    "# Building basetable"
   ]
  },
  {
   "cell_type": "code",
   "execution_count": null,
   "id": "39abb9b3",
   "metadata": {
    "vscode": {
     "languageId": "r"
    }
   },
   "outputs": [
    {
     "data": {
      "text/html": [
       "<table>\n",
       "<thead><tr><th scope=col>Pos</th><th scope=col>Rider</th><th scope=col>Team</th><th scope=col>Time</th><th scope=col>Rider_ID</th><th scope=col>Rider_Country</th><th scope=col>Team_ID</th><th scope=col>Year</th><th scope=col>Stage</th><th scope=col>UCI</th><th scope=col>ID</th><th scope=col>Stage.Type</th><th scope=col>Race</th><th scope=col>ACCELERATION</th><th scope=col>ATTACK</th><th scope=col>Birthday</th><th scope=col>COBBLES</th><th scope=col>CONSTANT</th><th scope=col>DOWNHILL</th><th scope=col>ENDURANCE</th><th scope=col>FLAT</th><th scope=col>Family.Name</th><th scope=col>Given.Name</th><th scope=col>HILL</th><th scope=col>MOUNTAIN</th><th scope=col>Name</th><th scope=col>PROLOGUE</th><th scope=col>Popularity</th><th scope=col>RECUP</th><th scope=col>RESISTANCE</th><th scope=col>Region</th><th scope=col>SPRINT</th><th scope=col>Size</th><th scope=col>TT</th><th scope=col>Weight</th><th scope=col>fitness_i_handicap</th><th scope=col>fkIDcyclist_state</th><th scope=col>fkIDinjury</th><th scope=col>fkIDrace</th><th scope=col>fkIDstaff_physician</th><th scope=col>fkIDstaff_trainer</th><th scope=col>fkIDstate_roster</th><th scope=col>fkIDtga_skin</th><th scope=col>fkIDtraining_camp</th><th scope=col>fkIDtype_rider</th><th scope=col>gene_b_inshortlist</th><th scope=col>gene_b_nominated</th><th scope=col>gene_b_selected_in_roster</th><th scope=col>gene_b_will_retire</th><th scope=col>gene_f_popularity_max</th><th scope=col>gene_i_champion_bit</th><th scope=col>gene_i_date_last_breakaway</th><th scope=col>gene_i_date_last_punchers</th><th scope=col>gene_i_day_progression</th><th scope=col>gene_i_dossard</th><th scope=col>gene_i_year_progression</th><th scope=col>gene_ilist_fkIDfavorite_races</th><th scope=col>gene_sz_firstlastname</th><th scope=col>gene_sz_soundname</th><th scope=col>limit_i_acceleration</th><th scope=col>limit_i_baroudeur</th><th scope=col>limit_i_cobble</th><th scope=col>limit_i_downhilling</th><th scope=col>limit_i_endurance</th><th scope=col>limit_i_hill</th><th scope=col>limit_i_mountain</th><th scope=col>limit_i_plain</th><th scope=col>limit_i_prologue</th><th scope=col>limit_i_recuperation</th><th scope=col>limit_i_resistance</th><th scope=col>limit_i_sprint</th><th scope=col>limit_i_timetrial</th><th scope=col>prerace_i_cyclist</th><th scope=col>race_b_withdrawal</th><th scope=col>value_i_potentiel</th><th scope=col>value_i_rank_voted</th></tr></thead>\n",
       "<tbody>\n",
       "\t<tr><td>1                             </td><td>rubiano miguel angel          </td><td>Androni Giocattoli - Venezuela</td><td>05:38:30                      </td><td> 885                          </td><td>COL                           </td><td>23                            </td><td>2012                          </td><td>6                             </td><td>NA                            </td><td>5134                          </td><td>Hilly                         </td><td>Giro                          </td><td>68                            </td><td>68                            </td><td>19841003                      </td><td>53                            </td><td>                              </td><td>68                            </td><td>67                            </td><td>64                            </td><td>Rubiano Chavez                </td><td>Miguel Angel                  </td><td>71                            </td><td>72                            </td><td>M.Rubiano Chavez              </td><td>65                            </td><td>26                            </td><td>66                            </td><td>69                            </td><td>1101                          </td><td>64                            </td><td>170                           </td><td>62                            </td><td>58                            </td><td>0                             </td><td>3                             </td><td>0                             </td><td>0                             </td><td>0                             </td><td>0                             </td><td>0                             </td><td>0                             </td><td>0                             </td><td>0                             </td><td>0                             </td><td>0                             </td><td>0                             </td><td>0                             </td><td>0                             </td><td> 0                            </td><td>0                             </td><td>0                             </td><td>0                             </td><td>0                             </td><td>0                             </td><td>                              </td><td>M.Rubiano Chavez              </td><td>                              </td><td>0                             </td><td>0                             </td><td>0                             </td><td>0                             </td><td>0                             </td><td>0                             </td><td>0                             </td><td>0                             </td><td>0                             </td><td>0                             </td><td>0                             </td><td>0                             </td><td>0                             </td><td>0                             </td><td>0                             </td><td>5                             </td><td>0                             </td></tr>\n",
       "\t<tr><td>2                             </td><td>malori adriano                </td><td>Lampre-ISD                    </td><td>+ 01:10                       </td><td> 791                          </td><td>ITA                           </td><td>11                            </td><td>2012                          </td><td>6                             </td><td>NA                            </td><td>1958                          </td><td>Hilly                         </td><td>Giro                          </td><td>63                            </td><td>68                            </td><td>19880128                      </td><td>56                            </td><td>                              </td><td>63                            </td><td>64                            </td><td>70                            </td><td>Malori                        </td><td>Adriano                       </td><td>64                            </td><td>64                            </td><td>A.Malori                      </td><td>74                            </td><td>18                            </td><td>66                            </td><td>67                            </td><td> 208                          </td><td>60                            </td><td>182                           </td><td>74                            </td><td>68                            </td><td>0                             </td><td>3                             </td><td>0                             </td><td>0                             </td><td>0                             </td><td>0                             </td><td>0                             </td><td>0                             </td><td>0                             </td><td>0                             </td><td>0                             </td><td>0                             </td><td>0                             </td><td>0                             </td><td>0                             </td><td>16                            </td><td>0                             </td><td>0                             </td><td>0                             </td><td>0                             </td><td>0                             </td><td>                              </td><td>A.Malori                      </td><td>                              </td><td>0                             </td><td>0                             </td><td>0                             </td><td>0                             </td><td>0                             </td><td>0                             </td><td>0                             </td><td>0                             </td><td>0                             </td><td>0                             </td><td>0                             </td><td>0                             </td><td>0                             </td><td>0                             </td><td>0                             </td><td>6                             </td><td>0                             </td></tr>\n",
       "\t<tr><td>3                             </td><td>golas michal                  </td><td>Omega Pharma - Quick Step     </td><td>+ 01:10                       </td><td> 926                          </td><td>POL                           </td><td>13                            </td><td>2012                          </td><td>6                             </td><td>NA                            </td><td> 976                          </td><td>Hilly                         </td><td>Giro                          </td><td>70                            </td><td>63                            </td><td>19840429                      </td><td>59                            </td><td>                              </td><td>63                            </td><td>65                            </td><td>69                            </td><td>Go?a?                         </td><td>Micha?                        </td><td>65                            </td><td>61                            </td><td>M.Go?a?                       </td><td>62                            </td><td>23                            </td><td>63                            </td><td>65                            </td><td>3001                          </td><td>70                            </td><td>180                           </td><td>60                            </td><td>65                            </td><td>0                             </td><td>3                             </td><td>0                             </td><td>0                             </td><td>0                             </td><td>0                             </td><td>0                             </td><td>0                             </td><td>0                             </td><td>0                             </td><td>0                             </td><td>0                             </td><td>0                             </td><td>0                             </td><td>0                             </td><td> 0                            </td><td>0                             </td><td>0                             </td><td>0                             </td><td>0                             </td><td>0                             </td><td>359|25|175                    </td><td>M.Go?a?                       </td><td>                              </td><td>0                             </td><td>0                             </td><td>0                             </td><td>0                             </td><td>0                             </td><td>0                             </td><td>0                             </td><td>0                             </td><td>0                             </td><td>0                             </td><td>0                             </td><td>0                             </td><td>0                             </td><td>0                             </td><td>0                             </td><td>5                             </td><td>0                             </td></tr>\n",
       "\t<tr><td>4                             </td><td>dyachenko alexsandr           </td><td>Astana Pro Team               </td><td>+ 01:10                       </td><td> 478                          </td><td>KAZ                           </td><td>25                            </td><td>2012                          </td><td>6                             </td><td>NA                            </td><td> 499                          </td><td>Hilly                         </td><td>Giro                          </td><td>63                            </td><td>62                            </td><td>19831017                      </td><td>54                            </td><td>                              </td><td>64                            </td><td>66                            </td><td>64                            </td><td>Dyachenko                     </td><td>Alexandr                      </td><td>69                            </td><td>71                            </td><td>A.Dyachenko                   </td><td>65                            </td><td>22                            </td><td>66                            </td><td>67                            </td><td>1301                          </td><td>58                            </td><td>175                           </td><td>67                            </td><td>63                            </td><td>0                             </td><td>3                             </td><td>0                             </td><td>0                             </td><td>0                             </td><td>0                             </td><td>0                             </td><td>0                             </td><td>0                             </td><td>0                             </td><td>0                             </td><td>0                             </td><td>0                             </td><td>0                             </td><td>0                             </td><td> 1                            </td><td>0                             </td><td>0                             </td><td>0                             </td><td>0                             </td><td>0                             </td><td>                              </td><td>A.Dyachenko                   </td><td>                              </td><td>0                             </td><td>0                             </td><td>0                             </td><td>0                             </td><td>0                             </td><td>0                             </td><td>0                             </td><td>0                             </td><td>0                             </td><td>0                             </td><td>0                             </td><td>0                             </td><td>0                             </td><td>0                             </td><td>0                             </td><td>4                             </td><td>0                             </td></tr>\n",
       "\t<tr><td>5                             </td><td>benedetti cesare              </td><td>Team NetApp                   </td><td>+ 01:10                       </td><td>3224                          </td><td>POL                           </td><td>57                            </td><td>2012                          </td><td>6                             </td><td>NA                            </td><td>2281                          </td><td>Hilly                         </td><td>Giro                          </td><td>63                            </td><td>64                            </td><td>19870803                      </td><td>57                            </td><td>                              </td><td>64                            </td><td>64                            </td><td>66                            </td><td>Benedetti                     </td><td>Cesare                        </td><td>64                            </td><td>63                            </td><td>C.Benedetti                   </td><td>59                            </td><td> 5                            </td><td>61                            </td><td>63                            </td><td> 206                          </td><td>60                            </td><td>170                           </td><td>61                            </td><td>63                            </td><td>0                             </td><td>3                             </td><td>0                             </td><td>0                             </td><td>0                             </td><td>0                             </td><td>0                             </td><td>0                             </td><td>0                             </td><td>0                             </td><td>0                             </td><td>0                             </td><td>0                             </td><td>0                             </td><td>0                             </td><td> 0                            </td><td>0                             </td><td>0                             </td><td>0                             </td><td>0                             </td><td>0                             </td><td>                              </td><td>C.Benedetti                   </td><td>                              </td><td>0                             </td><td>0                             </td><td>0                             </td><td>0                             </td><td>0                             </td><td>0                             </td><td>0                             </td><td>0                             </td><td>0                             </td><td>0                             </td><td>0                             </td><td>0                             </td><td>0                             </td><td>0                             </td><td>0                             </td><td>4                             </td><td>0                             </td></tr>\n",
       "\t<tr><td>6                             </td><td>impey daryl                   </td><td>Orica - GreenEDGE             </td><td>+ 01:51                       </td><td> 706                          </td><td>RSA                           </td><td> 6                            </td><td>2012                          </td><td>6                             </td><td>NA                            </td><td> 306                          </td><td>Hilly                         </td><td>Giro                          </td><td>74                            </td><td>62                            </td><td>19841206                      </td><td>53                            </td><td>                              </td><td>66                            </td><td>67                            </td><td>70                            </td><td>Impey                         </td><td>Daryl                         </td><td>70                            </td><td>64                            </td><td>D.Impey                       </td><td>69                            </td><td>38                            </td><td>69                            </td><td>67                            </td><td>3601                          </td><td>72                            </td><td>183                           </td><td>67                            </td><td>70                            </td><td>0                             </td><td>3                             </td><td>0                             </td><td>0                             </td><td>0                             </td><td>0                             </td><td>0                             </td><td>0                             </td><td>0                             </td><td>0                             </td><td>0                             </td><td>0                             </td><td>0                             </td><td>0                             </td><td>0                             </td><td>16                            </td><td>0                             </td><td>0                             </td><td>0                             </td><td>0                             </td><td>0                             </td><td>                              </td><td>D.Impey                       </td><td>                              </td><td>0                             </td><td>0                             </td><td>0                             </td><td>0                             </td><td>0                             </td><td>0                             </td><td>0                             </td><td>0                             </td><td>0                             </td><td>0                             </td><td>0                             </td><td>0                             </td><td>0                             </td><td>0                             </td><td>0                             </td><td>5                             </td><td>0                             </td></tr>\n",
       "</tbody>\n",
       "</table>\n"
      ],
      "text/latex": [
       "\\begin{tabular}{r|llllllllllllllllllllllllllllllllllllllllllllllllllllllllllllllllllllllllllll}\n",
       " Pos & Rider & Team & Time & Rider\\_ID & Rider\\_Country & Team\\_ID & Year & Stage & UCI & ID & Stage.Type & Race & ACCELERATION & ATTACK & Birthday & COBBLES & CONSTANT & DOWNHILL & ENDURANCE & FLAT & Family.Name & Given.Name & HILL & MOUNTAIN & Name & PROLOGUE & Popularity & RECUP & RESISTANCE & Region & SPRINT & Size & TT & Weight & fitness\\_i\\_handicap & fkIDcyclist\\_state & fkIDinjury & fkIDrace & fkIDstaff\\_physician & fkIDstaff\\_trainer & fkIDstate\\_roster & fkIDtga\\_skin & fkIDtraining\\_camp & fkIDtype\\_rider & gene\\_b\\_inshortlist & gene\\_b\\_nominated & gene\\_b\\_selected\\_in\\_roster & gene\\_b\\_will\\_retire & gene\\_f\\_popularity\\_max & gene\\_i\\_champion\\_bit & gene\\_i\\_date\\_last\\_breakaway & gene\\_i\\_date\\_last\\_punchers & gene\\_i\\_day\\_progression & gene\\_i\\_dossard & gene\\_i\\_year\\_progression & gene\\_ilist\\_fkIDfavorite\\_races & gene\\_sz\\_firstlastname & gene\\_sz\\_soundname & limit\\_i\\_acceleration & limit\\_i\\_baroudeur & limit\\_i\\_cobble & limit\\_i\\_downhilling & limit\\_i\\_endurance & limit\\_i\\_hill & limit\\_i\\_mountain & limit\\_i\\_plain & limit\\_i\\_prologue & limit\\_i\\_recuperation & limit\\_i\\_resistance & limit\\_i\\_sprint & limit\\_i\\_timetrial & prerace\\_i\\_cyclist & race\\_b\\_withdrawal & value\\_i\\_potentiel & value\\_i\\_rank\\_voted\\\\\n",
       "\\hline\n",
       "\t 1                              & rubiano miguel angel           & Androni Giocattoli - Venezuela & 05:38:30                       &  885                           & COL                            & 23                             & 2012                           & 6                              & NA                             & 5134                           & Hilly                          & Giro                           & 68                             & 68                             & 19841003                       & 53                             &                                & 68                             & 67                             & 64                             & Rubiano Chavez                 & Miguel Angel                   & 71                             & 72                             & M.Rubiano Chavez               & 65                             & 26                             & 66                             & 69                             & 1101                           & 64                             & 170                            & 62                             & 58                             & 0                              & 3                              & 0                              & 0                              & 0                              & 0                              & 0                              & 0                              & 0                              & 0                              & 0                              & 0                              & 0                              & 0                              & 0                              &  0                             & 0                              & 0                              & 0                              & 0                              & 0                              &                                & M.Rubiano Chavez               &                                & 0                              & 0                              & 0                              & 0                              & 0                              & 0                              & 0                              & 0                              & 0                              & 0                              & 0                              & 0                              & 0                              & 0                              & 0                              & 5                              & 0                             \\\\\n",
       "\t 2                              & malori adriano                 & Lampre-ISD                     & + 01:10                        &  791                           & ITA                            & 11                             & 2012                           & 6                              & NA                             & 1958                           & Hilly                          & Giro                           & 63                             & 68                             & 19880128                       & 56                             &                                & 63                             & 64                             & 70                             & Malori                         & Adriano                        & 64                             & 64                             & A.Malori                       & 74                             & 18                             & 66                             & 67                             &  208                           & 60                             & 182                            & 74                             & 68                             & 0                              & 3                              & 0                              & 0                              & 0                              & 0                              & 0                              & 0                              & 0                              & 0                              & 0                              & 0                              & 0                              & 0                              & 0                              & 16                             & 0                              & 0                              & 0                              & 0                              & 0                              &                                & A.Malori                       &                                & 0                              & 0                              & 0                              & 0                              & 0                              & 0                              & 0                              & 0                              & 0                              & 0                              & 0                              & 0                              & 0                              & 0                              & 0                              & 6                              & 0                             \\\\\n",
       "\t 3                              & golas michal                   & Omega Pharma - Quick Step      & + 01:10                        &  926                           & POL                            & 13                             & 2012                           & 6                              & NA                             &  976                           & Hilly                          & Giro                           & 70                             & 63                             & 19840429                       & 59                             &                                & 63                             & 65                             & 69                             & Go?a?                          & Micha?                         & 65                             & 61                             & M.Go?a?                        & 62                             & 23                             & 63                             & 65                             & 3001                           & 70                             & 180                            & 60                             & 65                             & 0                              & 3                              & 0                              & 0                              & 0                              & 0                              & 0                              & 0                              & 0                              & 0                              & 0                              & 0                              & 0                              & 0                              & 0                              &  0                             & 0                              & 0                              & 0                              & 0                              & 0                              & 359\\textbar{}25\\textbar{}175 & M.Go?a?                        &                                & 0                              & 0                              & 0                              & 0                              & 0                              & 0                              & 0                              & 0                              & 0                              & 0                              & 0                              & 0                              & 0                              & 0                              & 0                              & 5                              & 0                             \\\\\n",
       "\t 4                              & dyachenko alexsandr            & Astana Pro Team                & + 01:10                        &  478                           & KAZ                            & 25                             & 2012                           & 6                              & NA                             &  499                           & Hilly                          & Giro                           & 63                             & 62                             & 19831017                       & 54                             &                                & 64                             & 66                             & 64                             & Dyachenko                      & Alexandr                       & 69                             & 71                             & A.Dyachenko                    & 65                             & 22                             & 66                             & 67                             & 1301                           & 58                             & 175                            & 67                             & 63                             & 0                              & 3                              & 0                              & 0                              & 0                              & 0                              & 0                              & 0                              & 0                              & 0                              & 0                              & 0                              & 0                              & 0                              & 0                              &  1                             & 0                              & 0                              & 0                              & 0                              & 0                              &                                & A.Dyachenko                    &                                & 0                              & 0                              & 0                              & 0                              & 0                              & 0                              & 0                              & 0                              & 0                              & 0                              & 0                              & 0                              & 0                              & 0                              & 0                              & 4                              & 0                             \\\\\n",
       "\t 5                              & benedetti cesare               & Team NetApp                    & + 01:10                        & 3224                           & POL                            & 57                             & 2012                           & 6                              & NA                             & 2281                           & Hilly                          & Giro                           & 63                             & 64                             & 19870803                       & 57                             &                                & 64                             & 64                             & 66                             & Benedetti                      & Cesare                         & 64                             & 63                             & C.Benedetti                    & 59                             &  5                             & 61                             & 63                             &  206                           & 60                             & 170                            & 61                             & 63                             & 0                              & 3                              & 0                              & 0                              & 0                              & 0                              & 0                              & 0                              & 0                              & 0                              & 0                              & 0                              & 0                              & 0                              & 0                              &  0                             & 0                              & 0                              & 0                              & 0                              & 0                              &                                & C.Benedetti                    &                                & 0                              & 0                              & 0                              & 0                              & 0                              & 0                              & 0                              & 0                              & 0                              & 0                              & 0                              & 0                              & 0                              & 0                              & 0                              & 4                              & 0                             \\\\\n",
       "\t 6                              & impey daryl                    & Orica - GreenEDGE              & + 01:51                        &  706                           & RSA                            &  6                             & 2012                           & 6                              & NA                             &  306                           & Hilly                          & Giro                           & 74                             & 62                             & 19841206                       & 53                             &                                & 66                             & 67                             & 70                             & Impey                          & Daryl                          & 70                             & 64                             & D.Impey                        & 69                             & 38                             & 69                             & 67                             & 3601                           & 72                             & 183                            & 67                             & 70                             & 0                              & 3                              & 0                              & 0                              & 0                              & 0                              & 0                              & 0                              & 0                              & 0                              & 0                              & 0                              & 0                              & 0                              & 0                              & 16                             & 0                              & 0                              & 0                              & 0                              & 0                              &                                & D.Impey                        &                                & 0                              & 0                              & 0                              & 0                              & 0                              & 0                              & 0                              & 0                              & 0                              & 0                              & 0                              & 0                              & 0                              & 0                              & 0                              & 5                              & 0                             \\\\\n",
       "\\end{tabular}\n"
      ],
      "text/markdown": [
       "\n",
       "| Pos | Rider | Team | Time | Rider_ID | Rider_Country | Team_ID | Year | Stage | UCI | ID | Stage.Type | Race | ACCELERATION | ATTACK | Birthday | COBBLES | CONSTANT | DOWNHILL | ENDURANCE | FLAT | Family.Name | Given.Name | HILL | MOUNTAIN | Name | PROLOGUE | Popularity | RECUP | RESISTANCE | Region | SPRINT | Size | TT | Weight | fitness_i_handicap | fkIDcyclist_state | fkIDinjury | fkIDrace | fkIDstaff_physician | fkIDstaff_trainer | fkIDstate_roster | fkIDtga_skin | fkIDtraining_camp | fkIDtype_rider | gene_b_inshortlist | gene_b_nominated | gene_b_selected_in_roster | gene_b_will_retire | gene_f_popularity_max | gene_i_champion_bit | gene_i_date_last_breakaway | gene_i_date_last_punchers | gene_i_day_progression | gene_i_dossard | gene_i_year_progression | gene_ilist_fkIDfavorite_races | gene_sz_firstlastname | gene_sz_soundname | limit_i_acceleration | limit_i_baroudeur | limit_i_cobble | limit_i_downhilling | limit_i_endurance | limit_i_hill | limit_i_mountain | limit_i_plain | limit_i_prologue | limit_i_recuperation | limit_i_resistance | limit_i_sprint | limit_i_timetrial | prerace_i_cyclist | race_b_withdrawal | value_i_potentiel | value_i_rank_voted |\n",
       "|---|---|---|---|---|---|---|---|---|---|---|---|---|---|---|---|---|---|---|---|---|---|---|---|---|---|---|---|---|---|---|---|---|---|---|---|---|---|---|---|---|---|---|---|---|---|---|---|---|---|---|---|---|---|---|---|---|---|---|---|---|---|---|---|---|---|---|---|---|---|---|---|---|---|---|---|\n",
       "| 1                              | rubiano miguel angel           | Androni Giocattoli - Venezuela | 05:38:30                       |  885                           | COL                            | 23                             | 2012                           | 6                              | NA                             | 5134                           | Hilly                          | Giro                           | 68                             | 68                             | 19841003                       | 53                             |                                | 68                             | 67                             | 64                             | Rubiano Chavez                 | Miguel Angel                   | 71                             | 72                             | M.Rubiano Chavez               | 65                             | 26                             | 66                             | 69                             | 1101                           | 64                             | 170                            | 62                             | 58                             | 0                              | 3                              | 0                              | 0                              | 0                              | 0                              | 0                              | 0                              | 0                              | 0                              | 0                              | 0                              | 0                              | 0                              | 0                              |  0                             | 0                              | 0                              | 0                              | 0                              | 0                              |                                | M.Rubiano Chavez               |                                | 0                              | 0                              | 0                              | 0                              | 0                              | 0                              | 0                              | 0                              | 0                              | 0                              | 0                              | 0                              | 0                              | 0                              | 0                              | 5                              | 0                              |\n",
       "| 2                              | malori adriano                 | Lampre-ISD                     | + 01:10                        |  791                           | ITA                            | 11                             | 2012                           | 6                              | NA                             | 1958                           | Hilly                          | Giro                           | 63                             | 68                             | 19880128                       | 56                             |                                | 63                             | 64                             | 70                             | Malori                         | Adriano                        | 64                             | 64                             | A.Malori                       | 74                             | 18                             | 66                             | 67                             |  208                           | 60                             | 182                            | 74                             | 68                             | 0                              | 3                              | 0                              | 0                              | 0                              | 0                              | 0                              | 0                              | 0                              | 0                              | 0                              | 0                              | 0                              | 0                              | 0                              | 16                             | 0                              | 0                              | 0                              | 0                              | 0                              |                                | A.Malori                       |                                | 0                              | 0                              | 0                              | 0                              | 0                              | 0                              | 0                              | 0                              | 0                              | 0                              | 0                              | 0                              | 0                              | 0                              | 0                              | 6                              | 0                              |\n",
       "| 3                              | golas michal                   | Omega Pharma - Quick Step      | + 01:10                        |  926                           | POL                            | 13                             | 2012                           | 6                              | NA                             |  976                           | Hilly                          | Giro                           | 70                             | 63                             | 19840429                       | 59                             |                                | 63                             | 65                             | 69                             | Go?a?                          | Micha?                         | 65                             | 61                             | M.Go?a?                        | 62                             | 23                             | 63                             | 65                             | 3001                           | 70                             | 180                            | 60                             | 65                             | 0                              | 3                              | 0                              | 0                              | 0                              | 0                              | 0                              | 0                              | 0                              | 0                              | 0                              | 0                              | 0                              | 0                              | 0                              |  0                             | 0                              | 0                              | 0                              | 0                              | 0                              | 359|25|175                     | M.Go?a?                        |                                | 0                              | 0                              | 0                              | 0                              | 0                              | 0                              | 0                              | 0                              | 0                              | 0                              | 0                              | 0                              | 0                              | 0                              | 0                              | 5                              | 0                              |\n",
       "| 4                              | dyachenko alexsandr            | Astana Pro Team                | + 01:10                        |  478                           | KAZ                            | 25                             | 2012                           | 6                              | NA                             |  499                           | Hilly                          | Giro                           | 63                             | 62                             | 19831017                       | 54                             |                                | 64                             | 66                             | 64                             | Dyachenko                      | Alexandr                       | 69                             | 71                             | A.Dyachenko                    | 65                             | 22                             | 66                             | 67                             | 1301                           | 58                             | 175                            | 67                             | 63                             | 0                              | 3                              | 0                              | 0                              | 0                              | 0                              | 0                              | 0                              | 0                              | 0                              | 0                              | 0                              | 0                              | 0                              | 0                              |  1                             | 0                              | 0                              | 0                              | 0                              | 0                              |                                | A.Dyachenko                    |                                | 0                              | 0                              | 0                              | 0                              | 0                              | 0                              | 0                              | 0                              | 0                              | 0                              | 0                              | 0                              | 0                              | 0                              | 0                              | 4                              | 0                              |\n",
       "| 5                              | benedetti cesare               | Team NetApp                    | + 01:10                        | 3224                           | POL                            | 57                             | 2012                           | 6                              | NA                             | 2281                           | Hilly                          | Giro                           | 63                             | 64                             | 19870803                       | 57                             |                                | 64                             | 64                             | 66                             | Benedetti                      | Cesare                         | 64                             | 63                             | C.Benedetti                    | 59                             |  5                             | 61                             | 63                             |  206                           | 60                             | 170                            | 61                             | 63                             | 0                              | 3                              | 0                              | 0                              | 0                              | 0                              | 0                              | 0                              | 0                              | 0                              | 0                              | 0                              | 0                              | 0                              | 0                              |  0                             | 0                              | 0                              | 0                              | 0                              | 0                              |                                | C.Benedetti                    |                                | 0                              | 0                              | 0                              | 0                              | 0                              | 0                              | 0                              | 0                              | 0                              | 0                              | 0                              | 0                              | 0                              | 0                              | 0                              | 4                              | 0                              |\n",
       "| 6                              | impey daryl                    | Orica - GreenEDGE              | + 01:51                        |  706                           | RSA                            |  6                             | 2012                           | 6                              | NA                             |  306                           | Hilly                          | Giro                           | 74                             | 62                             | 19841206                       | 53                             |                                | 66                             | 67                             | 70                             | Impey                          | Daryl                          | 70                             | 64                             | D.Impey                        | 69                             | 38                             | 69                             | 67                             | 3601                           | 72                             | 183                            | 67                             | 70                             | 0                              | 3                              | 0                              | 0                              | 0                              | 0                              | 0                              | 0                              | 0                              | 0                              | 0                              | 0                              | 0                              | 0                              | 0                              | 16                             | 0                              | 0                              | 0                              | 0                              | 0                              |                                | D.Impey                        |                                | 0                              | 0                              | 0                              | 0                              | 0                              | 0                              | 0                              | 0                              | 0                              | 0                              | 0                              | 0                              | 0                              | 0                              | 0                              | 5                              | 0                              |\n",
       "\n"
      ],
      "text/plain": [
       "  Pos Rider                Team                           Time     Rider_ID\n",
       "1 1   rubiano miguel angel Androni Giocattoli - Venezuela 05:38:30  885    \n",
       "2 2   malori adriano       Lampre-ISD                     + 01:10   791    \n",
       "3 3   golas michal         Omega Pharma - Quick Step      + 01:10   926    \n",
       "4 4   dyachenko alexsandr  Astana Pro Team                + 01:10   478    \n",
       "5 5   benedetti cesare     Team NetApp                    + 01:10  3224    \n",
       "6 6   impey daryl          Orica - GreenEDGE              + 01:51   706    \n",
       "  Rider_Country Team_ID Year Stage UCI ID   Stage.Type Race ACCELERATION ATTACK\n",
       "1 COL           23      2012 6     NA  5134 Hilly      Giro 68           68    \n",
       "2 ITA           11      2012 6     NA  1958 Hilly      Giro 63           68    \n",
       "3 POL           13      2012 6     NA   976 Hilly      Giro 70           63    \n",
       "4 KAZ           25      2012 6     NA   499 Hilly      Giro 63           62    \n",
       "5 POL           57      2012 6     NA  2281 Hilly      Giro 63           64    \n",
       "6 RSA            6      2012 6     NA   306 Hilly      Giro 74           62    \n",
       "  Birthday COBBLES CONSTANT DOWNHILL ENDURANCE FLAT Family.Name    Given.Name  \n",
       "1 19841003 53               68       67        64   Rubiano Chavez Miguel Angel\n",
       "2 19880128 56               63       64        70   Malori         Adriano     \n",
       "3 19840429 59               63       65        69   Go?a?          Micha?      \n",
       "4 19831017 54               64       66        64   Dyachenko      Alexandr    \n",
       "5 19870803 57               64       64        66   Benedetti      Cesare      \n",
       "6 19841206 53               66       67        70   Impey          Daryl       \n",
       "  HILL MOUNTAIN Name             PROLOGUE Popularity RECUP RESISTANCE Region\n",
       "1 71   72       M.Rubiano Chavez 65       26         66    69         1101  \n",
       "2 64   64       A.Malori         74       18         66    67          208  \n",
       "3 65   61       M.Go?a?          62       23         63    65         3001  \n",
       "4 69   71       A.Dyachenko      65       22         66    67         1301  \n",
       "5 64   63       C.Benedetti      59        5         61    63          206  \n",
       "6 70   64       D.Impey          69       38         69    67         3601  \n",
       "  SPRINT Size TT Weight fitness_i_handicap fkIDcyclist_state fkIDinjury\n",
       "1 64     170  62 58     0                  3                 0         \n",
       "2 60     182  74 68     0                  3                 0         \n",
       "3 70     180  60 65     0                  3                 0         \n",
       "4 58     175  67 63     0                  3                 0         \n",
       "5 60     170  61 63     0                  3                 0         \n",
       "6 72     183  67 70     0                  3                 0         \n",
       "  fkIDrace fkIDstaff_physician fkIDstaff_trainer fkIDstate_roster fkIDtga_skin\n",
       "1 0        0                   0                 0                0           \n",
       "2 0        0                   0                 0                0           \n",
       "3 0        0                   0                 0                0           \n",
       "4 0        0                   0                 0                0           \n",
       "5 0        0                   0                 0                0           \n",
       "6 0        0                   0                 0                0           \n",
       "  fkIDtraining_camp fkIDtype_rider gene_b_inshortlist gene_b_nominated\n",
       "1 0                 0              0                  0               \n",
       "2 0                 0              0                  0               \n",
       "3 0                 0              0                  0               \n",
       "4 0                 0              0                  0               \n",
       "5 0                 0              0                  0               \n",
       "6 0                 0              0                  0               \n",
       "  gene_b_selected_in_roster gene_b_will_retire gene_f_popularity_max\n",
       "1 0                         0                  0                    \n",
       "2 0                         0                  0                    \n",
       "3 0                         0                  0                    \n",
       "4 0                         0                  0                    \n",
       "5 0                         0                  0                    \n",
       "6 0                         0                  0                    \n",
       "  gene_i_champion_bit gene_i_date_last_breakaway gene_i_date_last_punchers\n",
       "1  0                  0                          0                        \n",
       "2 16                  0                          0                        \n",
       "3  0                  0                          0                        \n",
       "4  1                  0                          0                        \n",
       "5  0                  0                          0                        \n",
       "6 16                  0                          0                        \n",
       "  gene_i_day_progression gene_i_dossard gene_i_year_progression\n",
       "1 0                      0              0                      \n",
       "2 0                      0              0                      \n",
       "3 0                      0              0                      \n",
       "4 0                      0              0                      \n",
       "5 0                      0              0                      \n",
       "6 0                      0              0                      \n",
       "  gene_ilist_fkIDfavorite_races gene_sz_firstlastname gene_sz_soundname\n",
       "1                               M.Rubiano Chavez                       \n",
       "2                               A.Malori                               \n",
       "3 359|25|175                    M.Go?a?                                \n",
       "4                               A.Dyachenko                            \n",
       "5                               C.Benedetti                            \n",
       "6                               D.Impey                                \n",
       "  limit_i_acceleration limit_i_baroudeur limit_i_cobble limit_i_downhilling\n",
       "1 0                    0                 0              0                  \n",
       "2 0                    0                 0              0                  \n",
       "3 0                    0                 0              0                  \n",
       "4 0                    0                 0              0                  \n",
       "5 0                    0                 0              0                  \n",
       "6 0                    0                 0              0                  \n",
       "  limit_i_endurance limit_i_hill limit_i_mountain limit_i_plain\n",
       "1 0                 0            0                0            \n",
       "2 0                 0            0                0            \n",
       "3 0                 0            0                0            \n",
       "4 0                 0            0                0            \n",
       "5 0                 0            0                0            \n",
       "6 0                 0            0                0            \n",
       "  limit_i_prologue limit_i_recuperation limit_i_resistance limit_i_sprint\n",
       "1 0                0                    0                  0             \n",
       "2 0                0                    0                  0             \n",
       "3 0                0                    0                  0             \n",
       "4 0                0                    0                  0             \n",
       "5 0                0                    0                  0             \n",
       "6 0                0                    0                  0             \n",
       "  limit_i_timetrial prerace_i_cyclist race_b_withdrawal value_i_potentiel\n",
       "1 0                 0                 0                 5                \n",
       "2 0                 0                 0                 6                \n",
       "3 0                 0                 0                 5                \n",
       "4 0                 0                 0                 4                \n",
       "5 0                 0                 0                 4                \n",
       "6 0                 0                 0                 5                \n",
       "  value_i_rank_voted\n",
       "1 0                 \n",
       "2 0                 \n",
       "3 0                 \n",
       "4 0                 \n",
       "5 0                 \n",
       "6 0                 "
      ]
     },
     "metadata": {},
     "output_type": "display_data"
    },
    {
     "ename": "",
     "evalue": "",
     "output_type": "error",
     "traceback": [
      "\u001b[1;31mFailed to start the Kernel. \n",
      "dyld[27060]: Library not loaded: @rpath/libreadline.6.2.dylib\n",
      "  Referenced from: /opt/anaconda3/lib/R/lib/libR.dylib\n",
      "  Reason: tried: '/opt/anaconda3/lib/R/lib/../../libreadline.6.2.dylib' (no such file), '/opt/anaconda3/lib/R/bin/exec/../../../libreadline.6.2.dylib' (no such file), '/opt/anaconda3/lib/R/bin/exec/../../../libreadline.6.2.dylib' (no such file), '/opt/anaconda3/lib/R/lib/libreadline.6.2.dylib' (no such file), '/opt/anaconda3/lib/libreadline.6.2.dylib' (no such file), '/opt/anaconda3/libreadline.6.2.dylib' (no such file). \n",
      "View Jupyter <a href='command:jupyter.viewOutput'>log</a> for further details."
     ]
    }
   ],
   "source": [
    "table = (read.csv(\"Data//Hilly_races_final.csv\", sep = \";\"))\n",
    "head(table)"
   ]
  },
  {
   "cell_type": "code",
   "execution_count": null,
   "id": "a27aa700",
   "metadata": {
    "vscode": {
     "languageId": "r"
    }
   },
   "outputs": [
    {
     "ename": "",
     "evalue": "",
     "output_type": "error",
     "traceback": [
      "\u001b[1;31mFailed to start the Kernel. \n",
      "dyld[27060]: Library not loaded: @rpath/libreadline.6.2.dylib\n",
      "  Referenced from: /opt/anaconda3/lib/R/lib/libR.dylib\n",
      "  Reason: tried: '/opt/anaconda3/lib/R/lib/../../libreadline.6.2.dylib' (no such file), '/opt/anaconda3/lib/R/bin/exec/../../../libreadline.6.2.dylib' (no such file), '/opt/anaconda3/lib/R/bin/exec/../../../libreadline.6.2.dylib' (no such file), '/opt/anaconda3/lib/R/lib/libreadline.6.2.dylib' (no such file), '/opt/anaconda3/lib/libreadline.6.2.dylib' (no such file), '/opt/anaconda3/libreadline.6.2.dylib' (no such file). \n",
      "View Jupyter <a href='command:jupyter.viewOutput'>log</a> for further details."
     ]
    }
   ],
   "source": [
    "table_train = table[table$Year<=2017,]"
   ]
  },
  {
   "cell_type": "code",
   "execution_count": null,
   "id": "373d0b25",
   "metadata": {
    "vscode": {
     "languageId": "r"
    }
   },
   "outputs": [
    {
     "ename": "",
     "evalue": "",
     "output_type": "error",
     "traceback": [
      "\u001b[1;31mFailed to start the Kernel. \n",
      "dyld[27060]: Library not loaded: @rpath/libreadline.6.2.dylib\n",
      "  Referenced from: /opt/anaconda3/lib/R/lib/libR.dylib\n",
      "  Reason: tried: '/opt/anaconda3/lib/R/lib/../../libreadline.6.2.dylib' (no such file), '/opt/anaconda3/lib/R/bin/exec/../../../libreadline.6.2.dylib' (no such file), '/opt/anaconda3/lib/R/bin/exec/../../../libreadline.6.2.dylib' (no such file), '/opt/anaconda3/lib/R/lib/libreadline.6.2.dylib' (no such file), '/opt/anaconda3/lib/libreadline.6.2.dylib' (no such file), '/opt/anaconda3/libreadline.6.2.dylib' (no such file). \n",
      "View Jupyter <a href='command:jupyter.viewOutput'>log</a> for further details."
     ]
    }
   ],
   "source": [
    "table_val = table[(table$Year>2017)&(table$Year<=2019) ,]"
   ]
  },
  {
   "cell_type": "code",
   "execution_count": null,
   "id": "8ab7d4ab",
   "metadata": {
    "vscode": {
     "languageId": "r"
    }
   },
   "outputs": [
    {
     "ename": "",
     "evalue": "",
     "output_type": "error",
     "traceback": [
      "\u001b[1;31mFailed to start the Kernel. \n",
      "dyld[27060]: Library not loaded: @rpath/libreadline.6.2.dylib\n",
      "  Referenced from: /opt/anaconda3/lib/R/lib/libR.dylib\n",
      "  Reason: tried: '/opt/anaconda3/lib/R/lib/../../libreadline.6.2.dylib' (no such file), '/opt/anaconda3/lib/R/bin/exec/../../../libreadline.6.2.dylib' (no such file), '/opt/anaconda3/lib/R/bin/exec/../../../libreadline.6.2.dylib' (no such file), '/opt/anaconda3/lib/R/lib/libreadline.6.2.dylib' (no such file), '/opt/anaconda3/lib/libreadline.6.2.dylib' (no such file), '/opt/anaconda3/libreadline.6.2.dylib' (no such file). \n",
      "View Jupyter <a href='command:jupyter.viewOutput'>log</a> for further details."
     ]
    }
   ],
   "source": [
    "table_test = table[table$Year>2019,]"
   ]
  },
  {
   "cell_type": "code",
   "execution_count": null,
   "id": "8f81d60c",
   "metadata": {},
   "outputs": [],
   "source": [
    "table_train2 = table[table$Year<=2019,]"
   ]
  },
  {
   "cell_type": "code",
   "execution_count": null,
   "id": "38f0a0d6",
   "metadata": {
    "scrolled": false,
    "vscode": {
     "languageId": "r"
    }
   },
   "outputs": [
    {
     "name": "stderr",
     "output_type": "stream",
     "text": [
      "`summarise()` has grouped output by 'Race', 'Year'. You can override using the `.groups` argument.\n"
     ]
    },
    {
     "ename": "",
     "evalue": "",
     "output_type": "error",
     "traceback": [
      "\u001b[1;31mFailed to start the Kernel. \n",
      "dyld[27060]: Library not loaded: @rpath/libreadline.6.2.dylib\n",
      "  Referenced from: /opt/anaconda3/lib/R/lib/libR.dylib\n",
      "  Reason: tried: '/opt/anaconda3/lib/R/lib/../../libreadline.6.2.dylib' (no such file), '/opt/anaconda3/lib/R/bin/exec/../../../libreadline.6.2.dylib' (no such file), '/opt/anaconda3/lib/R/bin/exec/../../../libreadline.6.2.dylib' (no such file), '/opt/anaconda3/lib/R/lib/libreadline.6.2.dylib' (no such file), '/opt/anaconda3/lib/libreadline.6.2.dylib' (no such file), '/opt/anaconda3/libreadline.6.2.dylib' (no such file). \n",
      "View Jupyter <a href='command:jupyter.viewOutput'>log</a> for further details."
     ]
    }
   ],
   "source": [
    "basetable_train = table_train %>% group_by(Race, Year,Team) %>% summarise(flat_mean = round(mean(FLAT))\n",
    "                                             , mountain_mean = round(mean(MOUNTAIN))\n",
    "                                            , downhill_mean = round(mean(DOWNHILL))\n",
    "                                            ,cobbles_mean = round(mean(COBBLES))\n",
    "                                            ,tt_mean = round(mean(TT)),\n",
    "                                            ,prologue_mean = round(mean(PROLOGUE))\n",
    "                                            ,sprint_mean = round(mean(SPRINT))\n",
    "                                            ,acceleration_mean = round(mean(ACCELERATION))\n",
    "                                            ,endurance_mean = round(mean(ENDURANCE))\n",
    "                                            ,resistance_mean = round(mean(RESISTANCE))\n",
    "                                            ,recup_mean = round(mean(RECUP))\n",
    "                                            ,hill_mean = round(mean(HILL))\n",
    "                                            ,attack_mean = round(mean(ATTACK))\n",
    "                                            \n",
    "                                            ,flat_max = round(max(FLAT))\n",
    "                                            ,mountain_max = round(max(MOUNTAIN))\n",
    "                                            ,downhill_max = round(max(DOWNHILL))\n",
    "                                            ,cobbles_max = round(max(COBBLES))\n",
    "                                            ,tt_max = round(max(TT)),\n",
    "                                            ,prologue_max = round(max(PROLOGUE))\n",
    "                                            ,sprint_max = round(max(SPRINT))\n",
    "                                            ,acceleration_max = round(max(ACCELERATION))\n",
    "                                            ,endurance_max = round(max(ENDURANCE))\n",
    "                                            ,resistance_max = round(max(RESISTANCE))\n",
    "                                            ,recup_max = round(max(RECUP))\n",
    "                                            ,hill_max = round(max(HILL))\n",
    "                                            ,attack_max = round(max(ATTACK))\n",
    "                                            \n",
    "                                            ,flat_min = round(min(FLAT))\n",
    "                                            ,mountain_min = round(min(MOUNTAIN))\n",
    "                                            ,downhill_min = round(min(DOWNHILL))\n",
    "                                            ,cobbles_min = round(min(COBBLES))\n",
    "                                            ,tt_min = round(min(TT)),\n",
    "                                            ,prologue_min = round(min(PROLOGUE))\n",
    "                                            ,sprint_min = round(min(SPRINT))\n",
    "                                            ,acceleration_min = round(min(ACCELERATION))\n",
    "                                            ,endurance_min = round(min(ENDURANCE))\n",
    "                                            ,resistance_min = round(min(RESISTANCE))\n",
    "                                            ,recup_min = round(min(RECUP))\n",
    "                                            ,hill_min = round(min(HILL))\n",
    "                                            ,attack_min = round(min(ATTACK))\n",
    "                                    \n",
    "                                            ,best_position = min(Pos))"
   ]
  },
  {
   "cell_type": "code",
   "execution_count": null,
   "id": "1d0688d8",
   "metadata": {
    "scrolled": false,
    "vscode": {
     "languageId": "r"
    }
   },
   "outputs": [
    {
     "name": "stderr",
     "output_type": "stream",
     "text": [
      "`summarise()` has grouped output by 'Race', 'Year'. You can override using the `.groups` argument.\n"
     ]
    },
    {
     "ename": "",
     "evalue": "",
     "output_type": "error",
     "traceback": [
      "\u001b[1;31mFailed to start the Kernel. \n",
      "dyld[27060]: Library not loaded: @rpath/libreadline.6.2.dylib\n",
      "  Referenced from: /opt/anaconda3/lib/R/lib/libR.dylib\n",
      "  Reason: tried: '/opt/anaconda3/lib/R/lib/../../libreadline.6.2.dylib' (no such file), '/opt/anaconda3/lib/R/bin/exec/../../../libreadline.6.2.dylib' (no such file), '/opt/anaconda3/lib/R/bin/exec/../../../libreadline.6.2.dylib' (no such file), '/opt/anaconda3/lib/R/lib/libreadline.6.2.dylib' (no such file), '/opt/anaconda3/lib/libreadline.6.2.dylib' (no such file), '/opt/anaconda3/libreadline.6.2.dylib' (no such file). \n",
      "View Jupyter <a href='command:jupyter.viewOutput'>log</a> for further details."
     ]
    }
   ],
   "source": [
    "basetable_val = table_val %>% group_by(Race, Year,Team) %>% summarise(flat_mean = round(mean(FLAT))\n",
    "                                             , mountain_mean = round(mean(MOUNTAIN))\n",
    "                                            , downhill_mean = round(mean(DOWNHILL))\n",
    "                                            ,cobbles_mean = round(mean(COBBLES))\n",
    "                                            ,tt_mean = round(mean(TT)),\n",
    "                                            ,prologue_mean = round(mean(PROLOGUE))\n",
    "                                            ,sprint_mean = round(mean(SPRINT))\n",
    "                                            ,acceleration_mean = round(mean(ACCELERATION))\n",
    "                                            ,endurance_mean = round(mean(ENDURANCE))\n",
    "                                            ,resistance_mean = round(mean(RESISTANCE))\n",
    "                                            ,recup_mean = round(mean(RECUP))\n",
    "                                            ,hill_mean = round(mean(HILL))\n",
    "                                            ,attack_mean = round(mean(ATTACK))\n",
    "                                            \n",
    "                                            ,flat_max = round(max(FLAT))\n",
    "                                            ,mountain_max = round(max(MOUNTAIN))\n",
    "                                            ,downhill_max = round(max(DOWNHILL))\n",
    "                                            ,cobbles_max = round(max(COBBLES))\n",
    "                                            ,tt_max = round(max(TT)),\n",
    "                                            ,prologue_max = round(max(PROLOGUE))\n",
    "                                            ,sprint_max = round(max(SPRINT))\n",
    "                                            ,acceleration_max = round(max(ACCELERATION))\n",
    "                                            ,endurance_max = round(max(ENDURANCE))\n",
    "                                            ,resistance_max = round(max(RESISTANCE))\n",
    "                                            ,recup_max = round(max(RECUP))\n",
    "                                            ,hill_max = round(max(HILL))\n",
    "                                            ,attack_max = round(max(ATTACK))\n",
    "                                            \n",
    "                                            ,flat_min = round(min(FLAT))\n",
    "                                            ,mountain_min = round(min(MOUNTAIN))\n",
    "                                            ,downhill_min = round(min(DOWNHILL))\n",
    "                                            ,cobbles_min = round(min(COBBLES))\n",
    "                                            ,tt_min = round(min(TT)),\n",
    "                                            ,prologue_min = round(min(PROLOGUE))\n",
    "                                            ,sprint_min = round(min(SPRINT))\n",
    "                                            ,acceleration_min = round(min(ACCELERATION))\n",
    "                                            ,endurance_min = round(min(ENDURANCE))\n",
    "                                            ,resistance_min = round(min(RESISTANCE))\n",
    "                                            ,recup_min = round(min(RECUP))\n",
    "                                            ,hill_min = round(min(HILL))\n",
    "                                            ,attack_min = round(min(ATTACK))\n",
    "                                    \n",
    "                                            ,best_position = min(Pos))"
   ]
  },
  {
   "cell_type": "code",
   "execution_count": null,
   "id": "d5ead31a",
   "metadata": {
    "scrolled": false,
    "vscode": {
     "languageId": "r"
    }
   },
   "outputs": [
    {
     "name": "stderr",
     "output_type": "stream",
     "text": [
      "`summarise()` has grouped output by 'Race', 'Year'. You can override using the `.groups` argument.\n"
     ]
    },
    {
     "ename": "",
     "evalue": "",
     "output_type": "error",
     "traceback": [
      "\u001b[1;31mFailed to start the Kernel. \n",
      "dyld[27060]: Library not loaded: @rpath/libreadline.6.2.dylib\n",
      "  Referenced from: /opt/anaconda3/lib/R/lib/libR.dylib\n",
      "  Reason: tried: '/opt/anaconda3/lib/R/lib/../../libreadline.6.2.dylib' (no such file), '/opt/anaconda3/lib/R/bin/exec/../../../libreadline.6.2.dylib' (no such file), '/opt/anaconda3/lib/R/bin/exec/../../../libreadline.6.2.dylib' (no such file), '/opt/anaconda3/lib/R/lib/libreadline.6.2.dylib' (no such file), '/opt/anaconda3/lib/libreadline.6.2.dylib' (no such file), '/opt/anaconda3/libreadline.6.2.dylib' (no such file). \n",
      "View Jupyter <a href='command:jupyter.viewOutput'>log</a> for further details."
     ]
    }
   ],
   "source": [
    "basetable_test = table_test %>% group_by(Race, Year,Team) %>% summarise(flat_mean = round(mean(FLAT))\n",
    "                                             , mountain_mean = round(mean(MOUNTAIN))\n",
    "                                            , downhill_mean = round(mean(DOWNHILL))\n",
    "                                            ,cobbles_mean = round(mean(COBBLES))\n",
    "                                            ,tt_mean = round(mean(TT)),\n",
    "                                            ,prologue_mean = round(mean(PROLOGUE))\n",
    "                                            ,sprint_mean = round(mean(SPRINT))\n",
    "                                            ,acceleration_mean = round(mean(ACCELERATION))\n",
    "                                            ,endurance_mean = round(mean(ENDURANCE))\n",
    "                                            ,resistance_mean = round(mean(RESISTANCE))\n",
    "                                            ,recup_mean = round(mean(RECUP))\n",
    "                                            ,hill_mean = round(mean(HILL))\n",
    "                                            ,attack_mean = round(mean(ATTACK))\n",
    "                                            \n",
    "                                            ,flat_max = round(max(FLAT))\n",
    "                                            ,mountain_max = round(max(MOUNTAIN))\n",
    "                                            ,downhill_max = round(max(DOWNHILL))\n",
    "                                            ,cobbles_max = round(max(COBBLES))\n",
    "                                            ,tt_max = round(max(TT)),\n",
    "                                            ,prologue_max = round(max(PROLOGUE))\n",
    "                                            ,sprint_max = round(max(SPRINT))\n",
    "                                            ,acceleration_max = round(max(ACCELERATION))\n",
    "                                            ,endurance_max = round(max(ENDURANCE))\n",
    "                                            ,resistance_max = round(max(RESISTANCE))\n",
    "                                            ,recup_max = round(max(RECUP))\n",
    "                                            ,hill_max = round(max(HILL))\n",
    "                                            ,attack_max = round(max(ATTACK))\n",
    "                                            \n",
    "                                            ,flat_min = round(min(FLAT))\n",
    "                                            ,mountain_min = round(min(MOUNTAIN))\n",
    "                                            ,downhill_min = round(min(DOWNHILL))\n",
    "                                            ,cobbles_min = round(min(COBBLES))\n",
    "                                            ,tt_min = round(min(TT)),\n",
    "                                            ,prologue_min = round(min(PROLOGUE))\n",
    "                                            ,sprint_min = round(min(SPRINT))\n",
    "                                            ,acceleration_min = round(min(ACCELERATION))\n",
    "                                            ,endurance_min = round(min(ENDURANCE))\n",
    "                                            ,resistance_min = round(min(RESISTANCE))\n",
    "                                            ,recup_min = round(min(RECUP))\n",
    "                                            ,hill_min = round(min(HILL))\n",
    "                                            ,attack_min = round(min(ATTACK))\n",
    "                                    \n",
    "                                            ,best_position = min(Pos))"
   ]
  },
  {
   "cell_type": "code",
   "execution_count": null,
   "id": "390e3b0b",
   "metadata": {
    "vscode": {
     "languageId": "r"
    }
   },
   "outputs": [
    {
     "ename": "",
     "evalue": "",
     "output_type": "error",
     "traceback": [
      "\u001b[1;31mFailed to start the Kernel. \n",
      "dyld[27060]: Library not loaded: @rpath/libreadline.6.2.dylib\n",
      "  Referenced from: /opt/anaconda3/lib/R/lib/libR.dylib\n",
      "  Reason: tried: '/opt/anaconda3/lib/R/lib/../../libreadline.6.2.dylib' (no such file), '/opt/anaconda3/lib/R/bin/exec/../../../libreadline.6.2.dylib' (no such file), '/opt/anaconda3/lib/R/bin/exec/../../../libreadline.6.2.dylib' (no such file), '/opt/anaconda3/lib/R/lib/libreadline.6.2.dylib' (no such file), '/opt/anaconda3/lib/libreadline.6.2.dylib' (no such file), '/opt/anaconda3/libreadline.6.2.dylib' (no such file). \n",
      "View Jupyter <a href='command:jupyter.viewOutput'>log</a> for further details."
     ]
    }
   ],
   "source": [
    "basetable = table_train2 %>% group_by(Race, Year,Team) %>% summarise(flat_mean = round(mean(FLAT))\n",
    "                                                                     , mountain_mean = round(mean(MOUNTAIN))\n",
    "                                                                     , downhill_mean = round(mean(DOWNHILL))\n",
    "                                                                     ,cobbles_mean = round(mean(COBBLES))\n",
    "                                                                     ,tt_mean = round(mean(TT)),\n",
    "                                                                     ,prologue_mean = round(mean(PROLOGUE))\n",
    "                                                                     ,sprint_mean = round(mean(SPRINT))\n",
    "                                                                     ,acceleration_mean = round(mean(ACCELERATION))\n",
    "                                                                     ,endurance_mean = round(mean(ENDURANCE))\n",
    "                                                                     ,resistance_mean = round(mean(RESISTANCE))\n",
    "                                                                     ,recup_mean = round(mean(RECUP))\n",
    "                                                                     ,hill_mean = round(mean(HILL))\n",
    "                                                                     ,attack_mean = round(mean(ATTACK))\n",
    "                                                                     \n",
    "                                                                     ,flat_max = round(max(FLAT))\n",
    "                                                                     ,mountain_max = round(max(MOUNTAIN))\n",
    "                                                                     ,downhill_max = round(max(DOWNHILL))\n",
    "                                                                     ,cobbles_max = round(max(COBBLES))\n",
    "                                                                     ,tt_max = round(max(TT)),\n",
    "                                                                     ,prologue_max = round(max(PROLOGUE))\n",
    "                                                                     ,sprint_max = round(max(SPRINT))\n",
    "                                                                     ,acceleration_max = round(max(ACCELERATION))\n",
    "                                                                     ,endurance_max = round(max(ENDURANCE))\n",
    "                                                                     ,resistance_max = round(max(RESISTANCE))\n",
    "                                                                     ,recup_max = round(max(RECUP))\n",
    "                                                                     ,hill_max = round(max(HILL))\n",
    "                                                                     ,attack_max = round(max(ATTACK))\n",
    "                                                                     \n",
    "                                                                     ,flat_min = round(min(FLAT))\n",
    "                                                                     ,mountain_min = round(min(MOUNTAIN))\n",
    "                                                                     ,downhill_min = round(min(DOWNHILL))\n",
    "                                                                     ,cobbles_min = round(min(COBBLES))\n",
    "                                                                     ,tt_min = round(min(TT)),\n",
    "                                                                     ,prologue_min = round(min(PROLOGUE))\n",
    "                                                                     ,sprint_min = round(min(SPRINT))\n",
    "                                                                     ,acceleration_min = round(min(ACCELERATION))\n",
    "                                                                     ,endurance_min = round(min(ENDURANCE))\n",
    "                                                                     ,resistance_min = round(min(RESISTANCE))\n",
    "                                                                     ,recup_min = round(min(RECUP))\n",
    "                                                                     ,hill_min = round(min(HILL))\n",
    "                                                                     ,attack_min = round(min(ATTACK))\n",
    "                                                                     \n",
    "                                                                     ,best_position = min(Pos))\n"
   ]
  },
  {
   "cell_type": "code",
   "execution_count": null,
   "id": "e70588ed",
   "metadata": {
    "vscode": {
     "languageId": "r"
    }
   },
   "outputs": [
    {
     "ename": "",
     "evalue": "",
     "output_type": "error",
     "traceback": [
      "\u001b[1;31mFailed to start the Kernel. \n",
      "dyld[27060]: Library not loaded: @rpath/libreadline.6.2.dylib\n",
      "  Referenced from: /opt/anaconda3/lib/R/lib/libR.dylib\n",
      "  Reason: tried: '/opt/anaconda3/lib/R/lib/../../libreadline.6.2.dylib' (no such file), '/opt/anaconda3/lib/R/bin/exec/../../../libreadline.6.2.dylib' (no such file), '/opt/anaconda3/lib/R/bin/exec/../../../libreadline.6.2.dylib' (no such file), '/opt/anaconda3/lib/R/lib/libreadline.6.2.dylib' (no such file), '/opt/anaconda3/lib/libreadline.6.2.dylib' (no such file), '/opt/anaconda3/libreadline.6.2.dylib' (no such file). \n",
      "View Jupyter <a href='command:jupyter.viewOutput'>log</a> for further details."
     ]
    }
   ],
   "source": [
    "basetable_train = (basetable_train)%>% drop_na()\n",
    "basetable_val = (basetable_val)%>% drop_na()\n",
    "basetable_test = (basetable_test)%>% drop_na()\n",
    "basetable = (basetable)%>% drop_na()"
   ]
  },
  {
   "cell_type": "code",
   "execution_count": null,
   "id": "c54f2b15",
   "metadata": {
    "vscode": {
     "languageId": "r"
    }
   },
   "outputs": [
    {
     "ename": "",
     "evalue": "",
     "output_type": "error",
     "traceback": [
      "\u001b[1;31mFailed to start the Kernel. \n",
      "dyld[27060]: Library not loaded: @rpath/libreadline.6.2.dylib\n",
      "  Referenced from: /opt/anaconda3/lib/R/lib/libR.dylib\n",
      "  Reason: tried: '/opt/anaconda3/lib/R/lib/../../libreadline.6.2.dylib' (no such file), '/opt/anaconda3/lib/R/bin/exec/../../../libreadline.6.2.dylib' (no such file), '/opt/anaconda3/lib/R/bin/exec/../../../libreadline.6.2.dylib' (no such file), '/opt/anaconda3/lib/R/lib/libreadline.6.2.dylib' (no such file), '/opt/anaconda3/lib/libreadline.6.2.dylib' (no such file), '/opt/anaconda3/libreadline.6.2.dylib' (no such file). \n",
      "View Jupyter <a href='command:jupyter.viewOutput'>log</a> for further details."
     ]
    }
   ],
   "source": [
    "basetable_train$Top10 = as.factor(ifelse(basetable_train$best_position <=10, 1,0))\n",
    "basetable_train$Top5 = as.factor(ifelse(basetable_train$best_position <=5, 1,0))\n",
    "basetable_train$Top4 = as.factor(ifelse(basetable_train$best_position <=4, 1,0))\n",
    "basetable_train$Top3 = as.factor(ifelse(basetable_train$best_position <=3, 1,0))\n",
    "basetable_train$Top2 = as.factor(ifelse(basetable_train$best_position <=2, 1,0))"
   ]
  },
  {
   "cell_type": "code",
   "execution_count": null,
   "id": "f7ee26a1",
   "metadata": {
    "vscode": {
     "languageId": "r"
    }
   },
   "outputs": [
    {
     "data": {
      "text/plain": [
       "\n",
       "  0   1 \n",
       " 58 225 "
      ]
     },
     "metadata": {},
     "output_type": "display_data"
    },
    {
     "ename": "",
     "evalue": "",
     "output_type": "error",
     "traceback": [
      "\u001b[1;31mFailed to start the Kernel. \n",
      "dyld[27060]: Library not loaded: @rpath/libreadline.6.2.dylib\n",
      "  Referenced from: /opt/anaconda3/lib/R/lib/libR.dylib\n",
      "  Reason: tried: '/opt/anaconda3/lib/R/lib/../../libreadline.6.2.dylib' (no such file), '/opt/anaconda3/lib/R/bin/exec/../../../libreadline.6.2.dylib' (no such file), '/opt/anaconda3/lib/R/bin/exec/../../../libreadline.6.2.dylib' (no such file), '/opt/anaconda3/lib/R/lib/libreadline.6.2.dylib' (no such file), '/opt/anaconda3/lib/libreadline.6.2.dylib' (no such file), '/opt/anaconda3/libreadline.6.2.dylib' (no such file). \n",
      "View Jupyter <a href='command:jupyter.viewOutput'>log</a> for further details."
     ]
    }
   ],
   "source": [
    "table(basetable_train$Top10)"
   ]
  },
  {
   "cell_type": "code",
   "execution_count": null,
   "id": "20c8e03c",
   "metadata": {
    "vscode": {
     "languageId": "r"
    }
   },
   "outputs": [
    {
     "ename": "",
     "evalue": "",
     "output_type": "error",
     "traceback": [
      "\u001b[1;31mFailed to start the Kernel. \n",
      "dyld[27060]: Library not loaded: @rpath/libreadline.6.2.dylib\n",
      "  Referenced from: /opt/anaconda3/lib/R/lib/libR.dylib\n",
      "  Reason: tried: '/opt/anaconda3/lib/R/lib/../../libreadline.6.2.dylib' (no such file), '/opt/anaconda3/lib/R/bin/exec/../../../libreadline.6.2.dylib' (no such file), '/opt/anaconda3/lib/R/bin/exec/../../../libreadline.6.2.dylib' (no such file), '/opt/anaconda3/lib/R/lib/libreadline.6.2.dylib' (no such file), '/opt/anaconda3/lib/libreadline.6.2.dylib' (no such file), '/opt/anaconda3/libreadline.6.2.dylib' (no such file). \n",
      "View Jupyter <a href='command:jupyter.viewOutput'>log</a> for further details."
     ]
    }
   ],
   "source": [
    "basetable_train$minutes_from_top = NULL\n",
    "basetable_train$best_position = NULL\n",
    "basetable_train$Team = NULL\n",
    "basetable_train$Year = NULL\n",
    "basetable_train$Stage = NULL\n",
    "basetable_train$Team_ID = NULL\n",
    "basetable_train$Race= NULL"
   ]
  },
  {
   "cell_type": "code",
   "execution_count": null,
   "id": "5736bdb6",
   "metadata": {
    "vscode": {
     "languageId": "r"
    }
   },
   "outputs": [
    {
     "ename": "",
     "evalue": "",
     "output_type": "error",
     "traceback": [
      "\u001b[1;31mFailed to start the Kernel. \n",
      "dyld[27060]: Library not loaded: @rpath/libreadline.6.2.dylib\n",
      "  Referenced from: /opt/anaconda3/lib/R/lib/libR.dylib\n",
      "  Reason: tried: '/opt/anaconda3/lib/R/lib/../../libreadline.6.2.dylib' (no such file), '/opt/anaconda3/lib/R/bin/exec/../../../libreadline.6.2.dylib' (no such file), '/opt/anaconda3/lib/R/bin/exec/../../../libreadline.6.2.dylib' (no such file), '/opt/anaconda3/lib/R/lib/libreadline.6.2.dylib' (no such file), '/opt/anaconda3/lib/libreadline.6.2.dylib' (no such file), '/opt/anaconda3/libreadline.6.2.dylib' (no such file). \n",
      "View Jupyter <a href='command:jupyter.viewOutput'>log</a> for further details."
     ]
    }
   ],
   "source": [
    "basetable_val$Top10 = as.factor(ifelse(basetable_val$best_position <=10, 1,0))\n",
    "basetable_val$Top5 = as.factor(ifelse(basetable_val$best_position <=5, 1,0))\n",
    "basetable_val$Top4 = as.factor(ifelse(basetable_val$best_position <=4, 1,0))\n",
    "basetable_val$Top3 = as.factor(ifelse(basetable_val$best_position <=3, 1,0))\n",
    "basetable_val$Top2 = as.factor(ifelse(basetable_val$best_position <=2, 1,0))"
   ]
  },
  {
   "cell_type": "code",
   "execution_count": null,
   "id": "62a1bd58",
   "metadata": {
    "vscode": {
     "languageId": "r"
    }
   },
   "outputs": [
    {
     "data": {
      "text/plain": [
       "\n",
       "  0   1 \n",
       " 31 103 "
      ]
     },
     "metadata": {},
     "output_type": "display_data"
    },
    {
     "ename": "",
     "evalue": "",
     "output_type": "error",
     "traceback": [
      "\u001b[1;31mFailed to start the Kernel. \n",
      "dyld[27060]: Library not loaded: @rpath/libreadline.6.2.dylib\n",
      "  Referenced from: /opt/anaconda3/lib/R/lib/libR.dylib\n",
      "  Reason: tried: '/opt/anaconda3/lib/R/lib/../../libreadline.6.2.dylib' (no such file), '/opt/anaconda3/lib/R/bin/exec/../../../libreadline.6.2.dylib' (no such file), '/opt/anaconda3/lib/R/bin/exec/../../../libreadline.6.2.dylib' (no such file), '/opt/anaconda3/lib/R/lib/libreadline.6.2.dylib' (no such file), '/opt/anaconda3/lib/libreadline.6.2.dylib' (no such file), '/opt/anaconda3/libreadline.6.2.dylib' (no such file). \n",
      "View Jupyter <a href='command:jupyter.viewOutput'>log</a> for further details."
     ]
    }
   ],
   "source": [
    "table(basetable_val$Top10)"
   ]
  },
  {
   "cell_type": "code",
   "execution_count": null,
   "id": "efbbb681",
   "metadata": {
    "vscode": {
     "languageId": "r"
    }
   },
   "outputs": [
    {
     "ename": "",
     "evalue": "",
     "output_type": "error",
     "traceback": [
      "\u001b[1;31mFailed to start the Kernel. \n",
      "dyld[27060]: Library not loaded: @rpath/libreadline.6.2.dylib\n",
      "  Referenced from: /opt/anaconda3/lib/R/lib/libR.dylib\n",
      "  Reason: tried: '/opt/anaconda3/lib/R/lib/../../libreadline.6.2.dylib' (no such file), '/opt/anaconda3/lib/R/bin/exec/../../../libreadline.6.2.dylib' (no such file), '/opt/anaconda3/lib/R/bin/exec/../../../libreadline.6.2.dylib' (no such file), '/opt/anaconda3/lib/R/lib/libreadline.6.2.dylib' (no such file), '/opt/anaconda3/lib/libreadline.6.2.dylib' (no such file), '/opt/anaconda3/libreadline.6.2.dylib' (no such file). \n",
      "View Jupyter <a href='command:jupyter.viewOutput'>log</a> for further details."
     ]
    }
   ],
   "source": [
    "basetable_val$minutes_from_top = NULL\n",
    "basetable_val$best_position = NULL\n",
    "basetable_val$Team = NULL\n",
    "basetable_val$Year = NULL\n",
    "basetable_val$Stage = NULL\n",
    "basetable_val$Team_ID = NULL\n",
    "basetable_val$Race= NULL"
   ]
  },
  {
   "cell_type": "code",
   "execution_count": 22,
   "id": "3529c6c5",
   "metadata": {
    "vscode": {
     "languageId": "r"
    }
   },
   "outputs": [],
   "source": [
    "basetable_test$Top10 = as.factor(ifelse(basetable_test$best_position <=10, 1,0))\n",
    "basetable_test$Top5 = as.factor(ifelse(basetable_test$best_position <=5, 1,0))\n",
    "basetable_test$Top4 = as.factor(ifelse(basetable_test$best_position <=4, 1,0))\n",
    "basetable_test$Top3 = as.factor(ifelse(basetable_test$best_position <=3, 1,0))\n",
    "basetable_test$Top2 = as.factor(ifelse(basetable_test$best_position <=2, 1,0))\n",
    "table(basetable_test$Top5)\n",
    "\n",
    "basetable_test$minutes_from_top = NULL\n",
    "basetable_test$best_position = NULL\n",
    "basetable_test$Team = NULL\n",
    "basetable_test$Year = NULL\n",
    "basetable_test$Stage = NULL\n",
    "basetable_test$Team_ID = NULL\n",
    "basetable_test$Race= NULL"
   ]
  },
  {
   "cell_type": "code",
   "execution_count": null,
   "id": "8a46cd30",
   "metadata": {
    "vscode": {
     "languageId": "r"
    }
   },
   "outputs": [],
   "source": [
    "basetable$Top10 = as.factor(ifelse(basetable$best_position <=10, 1,0))\n",
    "basetable$Top5 = as.factor(ifelse(basetable$best_position <=5, 1,0))\n",
    "basetable$Top4 = as.factor(ifelse(basetable$best_position <=4, 1,0))\n",
    "basetable$Top3 = as.factor(ifelse(basetable$best_position <=3, 1,0))\n",
    "basetable$Top2 = as.factor(ifelse(basetable$best_position <=2, 1,0))\n",
    "\n",
    "table(basetable$Top5)"
   ]
  },
  {
   "cell_type": "code",
   "execution_count": null,
   "id": "350246c5",
   "metadata": {
    "vscode": {
     "languageId": "r"
    }
   },
   "outputs": [],
   "source": [
    "basetable$minutes_from_top = NULL\n",
    "basetable$best_position = NULL\n",
    "basetable$Team = NULL\n",
    "basetable$Year = NULL\n",
    "basetable$Stage = NULL\n",
    "basetable$Team_ID = NULL\n",
    "basetable$Race= NULL\n",
    "table_train <- basetable_train\n",
    "table_test<- basetable_test\n",
    "table_val <- basetable_val\n",
    "table_trainBIG <- basetable"
   ]
  },
  {
   "cell_type": "markdown",
   "id": "26d71240",
   "metadata": {},
   "source": [
    "# Prediction if finish in the top 10"
   ]
  },
  {
   "cell_type": "markdown",
   "id": "c77f8f0b",
   "metadata": {},
   "source": [
    "## Random Forest"
   ]
  },
  {
   "cell_type": "markdown",
   "id": "b7fd0bf4",
   "metadata": {},
   "source": [
    "## Tuning"
   ]
  },
  {
   "cell_type": "code",
   "execution_count": 19,
   "id": "8385a4b7",
   "metadata": {
    "vscode": {
     "languageId": "r"
    }
   },
   "outputs": [
    {
     "data": {
      "text/html": [
       "735"
      ],
      "text/latex": [
       "735"
      ],
      "text/markdown": [
       "735"
      ],
      "text/plain": [
       "[1] 735"
      ]
     },
     "metadata": {},
     "output_type": "display_data"
    }
   ],
   "source": [
    "# hyperparameter grid search\n",
    "hyper_grid <- expand.grid(\n",
    "   num_trees = c(1000),\n",
    "  mtry       = seq(15, 35, by = 1),\n",
    "  node_size  = seq(1, 13, by = 2),\n",
    "  sampe_size = c(.55, .632, .70,0.75,.80),\n",
    "  OOB_RMSE   = 0\n",
    " \n",
    ")\n",
    "nrow(hyper_grid)"
   ]
  },
  {
   "cell_type": "code",
   "execution_count": 20,
   "id": "20c98230",
   "metadata": {
    "vscode": {
     "languageId": "r"
    }
   },
   "outputs": [],
   "source": [
    "for(i in 1:nrow(hyper_grid)) {\n",
    "  \n",
    "  # train model\n",
    "  model <- ranger(\n",
    "    x               = basetable_train[,-(40:43)], \n",
    "    y               = basetable_train$Top5, \n",
    "    num.trees       = hyper_grid$mtry[i],\n",
    "    mtry            = hyper_grid$mtry[i],\n",
    "    min.node.size   = hyper_grid$node_size[i],\n",
    "    sample.fraction = hyper_grid$sampe_size[i],\n",
    "    probability     = TRUE,\n",
    "    seed            = 123\n",
    "  )\n",
    "  \n",
    "  # add OOB error to grid\n",
    "  hyper_grid$OOB_RMSE[i] <- sqrt(model$prediction.error)\n",
    "}"
   ]
  },
  {
   "cell_type": "code",
   "execution_count": 21,
   "id": "b12fe16a",
   "metadata": {
    "scrolled": true,
    "vscode": {
     "languageId": "r"
    }
   },
   "outputs": [
    {
     "data": {
      "text/html": [
       "<table>\n",
       "<thead><tr><th scope=col>num_trees</th><th scope=col>mtry</th><th scope=col>node_size</th><th scope=col>sampe_size</th><th scope=col>OOB_RMSE</th></tr></thead>\n",
       "<tbody>\n",
       "\t<tr><td>1000     </td><td>33       </td><td> 9       </td><td>0.70     </td><td>0.4911150</td></tr>\n",
       "\t<tr><td>1000     </td><td>33       </td><td>13       </td><td>0.70     </td><td>0.4916443</td></tr>\n",
       "\t<tr><td>1000     </td><td>33       </td><td>11       </td><td>0.70     </td><td>0.4923125</td></tr>\n",
       "\t<tr><td>1000     </td><td>33       </td><td> 3       </td><td>0.70     </td><td>0.4929042</td></tr>\n",
       "\t<tr><td>1000     </td><td>31       </td><td>13       </td><td>0.55     </td><td>0.4931275</td></tr>\n",
       "\t<tr><td>1000     </td><td>29       </td><td>13       </td><td>0.55     </td><td>0.4931403</td></tr>\n",
       "\t<tr><td>1000     </td><td>26       </td><td> 7       </td><td>0.55     </td><td>0.4931752</td></tr>\n",
       "\t<tr><td>1000     </td><td>25       </td><td> 9       </td><td>0.55     </td><td>0.4937150</td></tr>\n",
       "\t<tr><td>1000     </td><td>33       </td><td> 7       </td><td>0.70     </td><td>0.4937157</td></tr>\n",
       "\t<tr><td>1000     </td><td>33       </td><td> 1       </td><td>0.55     </td><td>0.4937691</td></tr>\n",
       "</tbody>\n",
       "</table>\n"
      ],
      "text/latex": [
       "\\begin{tabular}{r|lllll}\n",
       " num\\_trees & mtry & node\\_size & sampe\\_size & OOB\\_RMSE\\\\\n",
       "\\hline\n",
       "\t 1000      & 33        &  9        & 0.70      & 0.4911150\\\\\n",
       "\t 1000      & 33        & 13        & 0.70      & 0.4916443\\\\\n",
       "\t 1000      & 33        & 11        & 0.70      & 0.4923125\\\\\n",
       "\t 1000      & 33        &  3        & 0.70      & 0.4929042\\\\\n",
       "\t 1000      & 31        & 13        & 0.55      & 0.4931275\\\\\n",
       "\t 1000      & 29        & 13        & 0.55      & 0.4931403\\\\\n",
       "\t 1000      & 26        &  7        & 0.55      & 0.4931752\\\\\n",
       "\t 1000      & 25        &  9        & 0.55      & 0.4937150\\\\\n",
       "\t 1000      & 33        &  7        & 0.70      & 0.4937157\\\\\n",
       "\t 1000      & 33        &  1        & 0.55      & 0.4937691\\\\\n",
       "\\end{tabular}\n"
      ],
      "text/markdown": [
       "\n",
       "| num_trees | mtry | node_size | sampe_size | OOB_RMSE |\n",
       "|---|---|---|---|---|\n",
       "| 1000      | 33        |  9        | 0.70      | 0.4911150 |\n",
       "| 1000      | 33        | 13        | 0.70      | 0.4916443 |\n",
       "| 1000      | 33        | 11        | 0.70      | 0.4923125 |\n",
       "| 1000      | 33        |  3        | 0.70      | 0.4929042 |\n",
       "| 1000      | 31        | 13        | 0.55      | 0.4931275 |\n",
       "| 1000      | 29        | 13        | 0.55      | 0.4931403 |\n",
       "| 1000      | 26        |  7        | 0.55      | 0.4931752 |\n",
       "| 1000      | 25        |  9        | 0.55      | 0.4937150 |\n",
       "| 1000      | 33        |  7        | 0.70      | 0.4937157 |\n",
       "| 1000      | 33        |  1        | 0.55      | 0.4937691 |\n",
       "\n"
      ],
      "text/plain": [
       "   num_trees mtry node_size sampe_size OOB_RMSE \n",
       "1  1000      33    9        0.70       0.4911150\n",
       "2  1000      33   13        0.70       0.4916443\n",
       "3  1000      33   11        0.70       0.4923125\n",
       "4  1000      33    3        0.70       0.4929042\n",
       "5  1000      31   13        0.55       0.4931275\n",
       "6  1000      29   13        0.55       0.4931403\n",
       "7  1000      26    7        0.55       0.4931752\n",
       "8  1000      25    9        0.55       0.4937150\n",
       "9  1000      33    7        0.70       0.4937157\n",
       "10 1000      33    1        0.55       0.4937691"
      ]
     },
     "metadata": {},
     "output_type": "display_data"
    }
   ],
   "source": [
    "hyper_grid %>% \n",
    "  dplyr::arrange(OOB_RMSE) %>%\n",
    "  head(10)\n"
   ]
  },
  {
   "cell_type": "markdown",
   "id": "3b98fcc8",
   "metadata": {},
   "source": [
    "### 5x2cv"
   ]
  },
  {
   "cell_type": "code",
   "execution_count": 22,
   "id": "50d24b63",
   "metadata": {
    "scrolled": false,
    "vscode": {
     "languageId": "r"
    }
   },
   "outputs": [
    {
     "data": {
      "image/png": "[encoded data removed]",
      "text/plain": [
       "plot without title"
      ]
     },
     "metadata": {},
     "output_type": "display_data"
    }
   ],
   "source": [
    "# By setting a new unique seed, you ensure a different\n",
    "# 'random' split\n",
    "seeds <- c(123, 246, 91, 949, 9000, 1860, 1853, 1416, 515, 369,145,36920,877,124,617,1743,4852,9001,9005,9004,14,15,19,18,246,47,1,2,3,4,5,6,7,20)  #give 10 random values\n",
    "all_aucs <- vector(length = length(seeds))\n",
    "\n",
    "for (i in 1:length(seeds)) {\n",
    "    set.seed(seeds[i])\n",
    "    allind <- sample(x = 1:nrow(basetable_train), size = nrow(basetable_train),\n",
    "        replace = TRUE)  # WITH replacement\n",
    "    \n",
    "\n",
    "    # block to get indices\n",
    "    trainind <- allind[1:round(length(allind) * 0.70)]\n",
    "    testind <- allind[!allind %in% trainind]  #get all indices which are not in training\n",
    "\n",
    "    #actual subsetting\n",
    "    train <- basetable_train[trainind, ]\n",
    "    yTRAIN <- train$Top10\n",
    "    train$Top10 = NULL\n",
    "    train$Top5 = NULL\n",
    "    train$Top4 = NULL\n",
    "    train$Top3 = NULL\n",
    "    \n",
    "    test <- basetable_train[testind, ]\n",
    "    yTEST <- test$Top10\n",
    "    test$Top10 <- NULL\n",
    "    test$Top5 = NULL\n",
    "    test$Top4 = NULL\n",
    "    test$Top3 = NULL\n",
    "    \n",
    "    #fit\n",
    "    model <- ranger(x=train, y = yTRAIN, num.trees = 500, mtry = 10, sample.fraction = 0.75, probability = TRUE)\n",
    "    # predict on second set (test)0\n",
    "    predictions =  predict(model,test)$predictions[,2]   \n",
    "    \n",
    "    # evaluate and store\n",
    "    all_aucs[i] <- AUC::auc(roc(predictions, yTEST))\n",
    "}\n",
    "\n",
    "# Plot\n",
    "plot(all_aucs, type = \"b\")"
   ]
  },
  {
   "cell_type": "code",
   "execution_count": 23,
   "id": "d637dcdc",
   "metadata": {
    "vscode": {
     "languageId": "r"
    }
   },
   "outputs": [
    {
     "data": {
      "text/html": [
       "0.596301985771233"
      ],
      "text/latex": [
       "0.596301985771233"
      ],
      "text/markdown": [
       "0.596301985771233"
      ],
      "text/plain": [
       "[1] 0.596302"
      ]
     },
     "metadata": {},
     "output_type": "display_data"
    }
   ],
   "source": [
    "mean(all_aucs)"
   ]
  },
  {
   "cell_type": "markdown",
   "id": "12b6b9f1",
   "metadata": {},
   "source": [
    "## Validation"
   ]
  },
  {
   "cell_type": "code",
   "execution_count": 26,
   "id": "d42e7104",
   "metadata": {
    "scrolled": true,
    "vscode": {
     "languageId": "r"
    }
   },
   "outputs": [],
   "source": [
    "set.seed(123)\n",
    "train <- basetable_train\n",
    "yTRAIN <- train$Top10\n",
    "train$Top10 = NULL\n",
    "train$Top5 = NULL\n",
    "train$Top4 = NULL\n",
    "train$Top3 = NULL\n",
    "\n",
    "test <- basetable_val\n",
    "yTEST <- test$Top10\n",
    "test$Top10 = NULL\n",
    "test$Top5 = NULL\n",
    "test$Top4 = NULL\n",
    "test$Top3 = NULL"
   ]
  },
  {
   "cell_type": "markdown",
   "id": "b7314a68",
   "metadata": {},
   "source": [
    "### Random Forest"
   ]
  },
  {
   "cell_type": "code",
   "execution_count": 27,
   "id": "cee41919",
   "metadata": {
    "vscode": {
     "languageId": "r"
    }
   },
   "outputs": [
    {
     "data": {
      "text/html": [
       "0.748355778264955"
      ],
      "text/latex": [
       "0.748355778264955"
      ],
      "text/markdown": [
       "0.748355778264955"
      ],
      "text/plain": [
       "[1] 0.7483558"
      ]
     },
     "metadata": {},
     "output_type": "display_data"
    }
   ],
   "source": [
    "set.seed(123)\n",
    "#fit\n",
    "rFmodel <- randomForest(x=train, y = yTRAIN, ntree = 1000,mtry=15)\n",
    "# predict on second set (test)\n",
    "predictions <- predict(rFmodel, test, type = \"prob\")[, 2]\n",
    "\n",
    "AUC::auc(roc(predictions,factor(yTEST)))"
   ]
  },
  {
   "cell_type": "code",
   "execution_count": 28,
   "id": "7be804d8",
   "metadata": {
    "vscode": {
     "languageId": "r"
    }
   },
   "outputs": [],
   "source": [
    "auc = AUC::auc(roc(predictions,factor(yTEST)))"
   ]
  },
  {
   "cell_type": "code",
   "execution_count": 29,
   "id": "0f031f07",
   "metadata": {
    "vscode": {
     "languageId": "r"
    }
   },
   "outputs": [],
   "source": [
    "res = ifelse(predictions>=0.5,1,0)\n",
    "true_outcome = yTEST"
   ]
  },
  {
   "cell_type": "code",
   "execution_count": 30,
   "id": "007c6b45",
   "metadata": {
    "scrolled": true,
    "vscode": {
     "languageId": "r"
    }
   },
   "outputs": [
    {
     "data": {
      "text/plain": [
       "          Reference\n",
       "Prediction   0   1\n",
       "         0   6   0\n",
       "         1  25 103"
      ]
     },
     "metadata": {},
     "output_type": "display_data"
    },
    {
     "data": {
      "text/html": [
       "<span style=white-space:pre-wrap>'AUC:  0.748355778264955'</span>"
      ],
      "text/latex": [
       "'AUC:  0.748355778264955'"
      ],
      "text/markdown": [
       "<span style=white-space:pre-wrap>'AUC:  0.748355778264955'</span>"
      ],
      "text/plain": [
       "[1] \"AUC:  0.748355778264955\""
      ]
     },
     "metadata": {},
     "output_type": "display_data"
    },
    {
     "data": {
      "text/html": [
       "<span style=white-space:pre-wrap>'Accuracy:  0.813432835820896'</span>"
      ],
      "text/latex": [
       "'Accuracy:  0.813432835820896'"
      ],
      "text/markdown": [
       "<span style=white-space:pre-wrap>'Accuracy:  0.813432835820896'</span>"
      ],
      "text/plain": [
       "[1] \"Accuracy:  0.813432835820896\""
      ]
     },
     "metadata": {},
     "output_type": "display_data"
    },
    {
     "data": {
      "text/html": [
       "<span style=white-space:pre-wrap>'Recall:  1'</span>"
      ],
      "text/latex": [
       "'Recall:  1'"
      ],
      "text/markdown": [
       "<span style=white-space:pre-wrap>'Recall:  1'</span>"
      ],
      "text/plain": [
       "[1] \"Recall:  1\""
      ]
     },
     "metadata": {},
     "output_type": "display_data"
    },
    {
     "data": {
      "text/html": [
       "<span style=white-space:pre-wrap>'Precision:  0.8046875'</span>"
      ],
      "text/latex": [
       "'Precision:  0.8046875'"
      ],
      "text/markdown": [
       "<span style=white-space:pre-wrap>'Precision:  0.8046875'</span>"
      ],
      "text/plain": [
       "[1] \"Precision:  0.8046875\""
      ]
     },
     "metadata": {},
     "output_type": "display_data"
    }
   ],
   "source": [
    "confusionMatrix(as.factor(res), as.factor(true_outcome))[[2]]\n",
    "TN =(confusionMatrix(as.factor(res), as.factor(true_outcome)))[[2]][1,1]\n",
    "TP = (confusionMatrix(as.factor(res), as.factor(true_outcome)))[[2]][2,2]\n",
    "FN = (confusionMatrix(as.factor(res), as.factor(true_outcome)))[[2]][1,2]\n",
    "FP = (confusionMatrix(as.factor(res), as.factor(true_outcome)))[[2]][2,1]\n",
    "\n",
    "accuracy = (TP+TN)/(TP+FP+TN+FN)\n",
    "recall = TP/(TP+FN)\n",
    "precision = TP/(TP+FP)\n",
    "\n",
    "paste(\"AUC: \", auc)\n",
    "paste(\"Accuracy: \", accuracy)\n",
    "paste(\"Recall: \", recall)\n",
    "paste(\"Precision: \", precision)"
   ]
  },
  {
   "cell_type": "markdown",
   "id": "15555628",
   "metadata": {},
   "source": [
    "### Ranger"
   ]
  },
  {
   "cell_type": "code",
   "execution_count": 31,
   "id": "a1cafed8",
   "metadata": {
    "vscode": {
     "languageId": "r"
    }
   },
   "outputs": [
    {
     "data": {
      "text/html": [
       "0.764797995615409"
      ],
      "text/latex": [
       "0.764797995615409"
      ],
      "text/markdown": [
       "0.764797995615409"
      ],
      "text/plain": [
       "[1] 0.764798"
      ]
     },
     "metadata": {},
     "output_type": "display_data"
    }
   ],
   "source": [
    "#fit\n",
    "model <- ranger(x=train, y = yTRAIN, num.trees = 1000, mtry = 8,min.node.size = 13, sample.fraction = 0.75, probability = TRUE, seed = 123)\n",
    "# predict on second set (test)\n",
    "predictions =  predict(model,test)$predictions[,2]\n",
    "\n",
    "AUC::auc(roc(predictions,factor(yTEST)))"
   ]
  },
  {
   "cell_type": "code",
   "execution_count": 32,
   "id": "feddd326",
   "metadata": {
    "vscode": {
     "languageId": "r"
    }
   },
   "outputs": [],
   "source": [
    "auc = AUC::auc(roc(predictions,factor(yTEST)))"
   ]
  },
  {
   "cell_type": "code",
   "execution_count": 33,
   "id": "65fe9b78",
   "metadata": {
    "vscode": {
     "languageId": "r"
    }
   },
   "outputs": [],
   "source": [
    "res = ifelse(predictions>=0.5,1,0)\n",
    "true_outcome = yTEST"
   ]
  },
  {
   "cell_type": "code",
   "execution_count": 34,
   "id": "42a695e4",
   "metadata": {
    "scrolled": true,
    "vscode": {
     "languageId": "r"
    }
   },
   "outputs": [
    {
     "data": {
      "text/plain": [
       "          Reference\n",
       "Prediction   0   1\n",
       "         0   4   0\n",
       "         1  27 103"
      ]
     },
     "metadata": {},
     "output_type": "display_data"
    },
    {
     "data": {
      "text/html": [
       "<span style=white-space:pre-wrap>'AUC:  0.764797995615409'</span>"
      ],
      "text/latex": [
       "'AUC:  0.764797995615409'"
      ],
      "text/markdown": [
       "<span style=white-space:pre-wrap>'AUC:  0.764797995615409'</span>"
      ],
      "text/plain": [
       "[1] \"AUC:  0.764797995615409\""
      ]
     },
     "metadata": {},
     "output_type": "display_data"
    },
    {
     "data": {
      "text/html": [
       "<span style=white-space:pre-wrap>'Accuracy:  0.798507462686567'</span>"
      ],
      "text/latex": [
       "'Accuracy:  0.798507462686567'"
      ],
      "text/markdown": [
       "<span style=white-space:pre-wrap>'Accuracy:  0.798507462686567'</span>"
      ],
      "text/plain": [
       "[1] \"Accuracy:  0.798507462686567\""
      ]
     },
     "metadata": {},
     "output_type": "display_data"
    },
    {
     "data": {
      "text/html": [
       "<span style=white-space:pre-wrap>'Recall:  1'</span>"
      ],
      "text/latex": [
       "'Recall:  1'"
      ],
      "text/markdown": [
       "<span style=white-space:pre-wrap>'Recall:  1'</span>"
      ],
      "text/plain": [
       "[1] \"Recall:  1\""
      ]
     },
     "metadata": {},
     "output_type": "display_data"
    },
    {
     "data": {
      "text/html": [
       "<span style=white-space:pre-wrap>'Precision:  0.792307692307692'</span>"
      ],
      "text/latex": [
       "'Precision:  0.792307692307692'"
      ],
      "text/markdown": [
       "<span style=white-space:pre-wrap>'Precision:  0.792307692307692'</span>"
      ],
      "text/plain": [
       "[1] \"Precision:  0.792307692307692\""
      ]
     },
     "metadata": {},
     "output_type": "display_data"
    }
   ],
   "source": [
    "confusionMatrix(as.factor(res), as.factor(true_outcome))[[2]]\n",
    "TN =(confusionMatrix(as.factor(res), as.factor(true_outcome)))[[2]][1,1]\n",
    "TP = (confusionMatrix(as.factor(res), as.factor(true_outcome)))[[2]][2,2]\n",
    "FN = (confusionMatrix(as.factor(res), as.factor(true_outcome)))[[2]][1,2]\n",
    "FP = (confusionMatrix(as.factor(res), as.factor(true_outcome)))[[2]][2,1]\n",
    "\n",
    "accuracy = (TP+TN)/(TP+FP+TN+FN)\n",
    "recall = TP/(TP+FN)\n",
    "precision = TP/(TP+FP)\n",
    "\n",
    "paste(\"AUC: \", auc)\n",
    "paste(\"Accuracy: \", accuracy)\n",
    "paste(\"Recall: \", recall)\n",
    "paste(\"Precision: \", precision)"
   ]
  },
  {
   "cell_type": "markdown",
   "id": "8561ac59",
   "metadata": {},
   "source": [
    "# Prediction if finish in the top 5"
   ]
  },
  {
   "cell_type": "markdown",
   "id": "ac7b140b",
   "metadata": {},
   "source": [
    "## Random Forest"
   ]
  },
  {
   "cell_type": "markdown",
   "id": "f98c4b55",
   "metadata": {},
   "source": [
    "## Tuning"
   ]
  },
  {
   "cell_type": "code",
   "execution_count": 35,
   "id": "aa0c4a1e",
   "metadata": {
    "vscode": {
     "languageId": "r"
    }
   },
   "outputs": [
    {
     "data": {
      "text/html": [
       "735"
      ],
      "text/latex": [
       "735"
      ],
      "text/markdown": [
       "735"
      ],
      "text/plain": [
       "[1] 735"
      ]
     },
     "metadata": {},
     "output_type": "display_data"
    }
   ],
   "source": [
    "# hyperparameter grid search\n",
    "hyper_grid <- expand.grid(\n",
    "   num_trees = c(1000),\n",
    "  mtry       = seq(15, 35, by = 1),\n",
    "  node_size  = seq(1, 13, by = 2),\n",
    "  sampe_size = c(.55, .632, .70,0.75,.80),\n",
    "  OOB_RMSE   = 0\n",
    " \n",
    ")\n",
    "nrow(hyper_grid)"
   ]
  },
  {
   "cell_type": "code",
   "execution_count": 36,
   "id": "69f783be",
   "metadata": {
    "vscode": {
     "languageId": "r"
    }
   },
   "outputs": [],
   "source": [
    "for(i in 1:nrow(hyper_grid)) {\n",
    "  \n",
    "  # train model\n",
    "  model <- ranger(\n",
    "    x               = basetable_train[,-(40:43)], \n",
    "    y               = basetable_train$Top5, \n",
    "    num.trees       = hyper_grid$mtry[i],\n",
    "    mtry            = hyper_grid$mtry[i],\n",
    "    min.node.size   = hyper_grid$node_size[i],\n",
    "    sample.fraction = hyper_grid$sampe_size[i],\n",
    "    probability     = TRUE,\n",
    "    seed            = 123\n",
    "  )\n",
    "  \n",
    "  # add OOB error to grid\n",
    "  hyper_grid$OOB_RMSE[i] <- sqrt(model$prediction.error)\n",
    "}"
   ]
  },
  {
   "cell_type": "code",
   "execution_count": 37,
   "id": "bf7382a7",
   "metadata": {
    "scrolled": true,
    "vscode": {
     "languageId": "r"
    }
   },
   "outputs": [
    {
     "data": {
      "text/html": [
       "<table>\n",
       "<thead><tr><th scope=col>num_trees</th><th scope=col>mtry</th><th scope=col>node_size</th><th scope=col>sampe_size</th><th scope=col>OOB_RMSE</th></tr></thead>\n",
       "<tbody>\n",
       "\t<tr><td>1000     </td><td>33       </td><td> 9       </td><td>0.70     </td><td>0.4911150</td></tr>\n",
       "\t<tr><td>1000     </td><td>33       </td><td>13       </td><td>0.70     </td><td>0.4916443</td></tr>\n",
       "\t<tr><td>1000     </td><td>33       </td><td>11       </td><td>0.70     </td><td>0.4923125</td></tr>\n",
       "\t<tr><td>1000     </td><td>33       </td><td> 3       </td><td>0.70     </td><td>0.4929042</td></tr>\n",
       "\t<tr><td>1000     </td><td>31       </td><td>13       </td><td>0.55     </td><td>0.4931275</td></tr>\n",
       "\t<tr><td>1000     </td><td>29       </td><td>13       </td><td>0.55     </td><td>0.4931403</td></tr>\n",
       "\t<tr><td>1000     </td><td>26       </td><td> 7       </td><td>0.55     </td><td>0.4931752</td></tr>\n",
       "\t<tr><td>1000     </td><td>25       </td><td> 9       </td><td>0.55     </td><td>0.4937150</td></tr>\n",
       "\t<tr><td>1000     </td><td>33       </td><td> 7       </td><td>0.70     </td><td>0.4937157</td></tr>\n",
       "\t<tr><td>1000     </td><td>33       </td><td> 1       </td><td>0.55     </td><td>0.4937691</td></tr>\n",
       "</tbody>\n",
       "</table>\n"
      ],
      "text/latex": [
       "\\begin{tabular}{r|lllll}\n",
       " num\\_trees & mtry & node\\_size & sampe\\_size & OOB\\_RMSE\\\\\n",
       "\\hline\n",
       "\t 1000      & 33        &  9        & 0.70      & 0.4911150\\\\\n",
       "\t 1000      & 33        & 13        & 0.70      & 0.4916443\\\\\n",
       "\t 1000      & 33        & 11        & 0.70      & 0.4923125\\\\\n",
       "\t 1000      & 33        &  3        & 0.70      & 0.4929042\\\\\n",
       "\t 1000      & 31        & 13        & 0.55      & 0.4931275\\\\\n",
       "\t 1000      & 29        & 13        & 0.55      & 0.4931403\\\\\n",
       "\t 1000      & 26        &  7        & 0.55      & 0.4931752\\\\\n",
       "\t 1000      & 25        &  9        & 0.55      & 0.4937150\\\\\n",
       "\t 1000      & 33        &  7        & 0.70      & 0.4937157\\\\\n",
       "\t 1000      & 33        &  1        & 0.55      & 0.4937691\\\\\n",
       "\\end{tabular}\n"
      ],
      "text/markdown": [
       "\n",
       "| num_trees | mtry | node_size | sampe_size | OOB_RMSE |\n",
       "|---|---|---|---|---|\n",
       "| 1000      | 33        |  9        | 0.70      | 0.4911150 |\n",
       "| 1000      | 33        | 13        | 0.70      | 0.4916443 |\n",
       "| 1000      | 33        | 11        | 0.70      | 0.4923125 |\n",
       "| 1000      | 33        |  3        | 0.70      | 0.4929042 |\n",
       "| 1000      | 31        | 13        | 0.55      | 0.4931275 |\n",
       "| 1000      | 29        | 13        | 0.55      | 0.4931403 |\n",
       "| 1000      | 26        |  7        | 0.55      | 0.4931752 |\n",
       "| 1000      | 25        |  9        | 0.55      | 0.4937150 |\n",
       "| 1000      | 33        |  7        | 0.70      | 0.4937157 |\n",
       "| 1000      | 33        |  1        | 0.55      | 0.4937691 |\n",
       "\n"
      ],
      "text/plain": [
       "   num_trees mtry node_size sampe_size OOB_RMSE \n",
       "1  1000      33    9        0.70       0.4911150\n",
       "2  1000      33   13        0.70       0.4916443\n",
       "3  1000      33   11        0.70       0.4923125\n",
       "4  1000      33    3        0.70       0.4929042\n",
       "5  1000      31   13        0.55       0.4931275\n",
       "6  1000      29   13        0.55       0.4931403\n",
       "7  1000      26    7        0.55       0.4931752\n",
       "8  1000      25    9        0.55       0.4937150\n",
       "9  1000      33    7        0.70       0.4937157\n",
       "10 1000      33    1        0.55       0.4937691"
      ]
     },
     "metadata": {},
     "output_type": "display_data"
    }
   ],
   "source": [
    "hyper_grid %>% \n",
    "  dplyr::arrange(OOB_RMSE) %>%\n",
    "  head(10)\n"
   ]
  },
  {
   "cell_type": "markdown",
   "id": "5cd2d2a5",
   "metadata": {},
   "source": [
    "### 5x2cv"
   ]
  },
  {
   "cell_type": "code",
   "execution_count": 40,
   "id": "52732695",
   "metadata": {
    "scrolled": false,
    "vscode": {
     "languageId": "r"
    }
   },
   "outputs": [
    {
     "data": {
      "image/png": "[encoded data removed]",
      "text/plain": [
       "plot without title"
      ]
     },
     "metadata": {},
     "output_type": "display_data"
    }
   ],
   "source": [
    "# By setting a new unique seed, you ensure a different\n",
    "# 'random' split\n",
    "seeds <- c(123, 246, 91, 949, 9000, 1860, 1853, 1416, 515, 369,145,36920,877,124,617,1743,4852,9001,9005,9004,14,15,19,18,246,47,1,2,3,4,5,6,7,20)  #give 10 random values\n",
    "all_aucs <- vector(length = length(seeds))\n",
    "\n",
    "for (i in 1:length(seeds)) {\n",
    "    set.seed(seeds[i])\n",
    "    allind <- sample(x = 1:nrow(basetable_train), size = nrow(basetable_train),\n",
    "        replace = TRUE)  # WITH replacement\n",
    "    \n",
    "\n",
    "    # block to get indices\n",
    "    trainind <- allind[1:round(length(allind) * 0.70)]\n",
    "    testind <- allind[!allind %in% trainind]  #get all indices which are not in training\n",
    "\n",
    "    #actual subsetting\n",
    "    train <- basetable_train[trainind, ]\n",
    "    yTRAIN <- train$Top5\n",
    "    train$Top10 = NULL\n",
    "    train$Top5 = NULL\n",
    "    train$Top4 = NULL\n",
    "    train$Top3 = NULL\n",
    "    train$Top2 = NULL\n",
    "    \n",
    "    test <- basetable_train[testind, ]\n",
    "    yTEST <- test$Top5\n",
    "    test$Top5 <- NULL\n",
    "    test$Top5 = NULL\n",
    "    test$Top4 = NULL\n",
    "    test$Top3 = NULL\n",
    "    test$Top2 = NULL\n",
    "    \n",
    "    #fit\n",
    "    model <- ranger(x=train, y = yTRAIN, num.trees = 500, mtry = 10, sample.fraction = 0.75, probability = TRUE)\n",
    "    # predict on second set (test)0\n",
    "    predictions =  predict(model,test)$predictions[,2]   \n",
    "    \n",
    "    # evaluate and store\n",
    "    all_aucs[i] <- AUC::auc(roc(predictions, yTEST))\n",
    "}\n",
    "\n",
    "# Plot\n",
    "plot(all_aucs, type = \"b\")"
   ]
  },
  {
   "cell_type": "code",
   "execution_count": 41,
   "id": "0a627dd7",
   "metadata": {
    "vscode": {
     "languageId": "r"
    }
   },
   "outputs": [
    {
     "data": {
      "text/html": [
       "0.611268143958804"
      ],
      "text/latex": [
       "0.611268143958804"
      ],
      "text/markdown": [
       "0.611268143958804"
      ],
      "text/plain": [
       "[1] 0.6112681"
      ]
     },
     "metadata": {},
     "output_type": "display_data"
    }
   ],
   "source": [
    "mean(all_aucs)"
   ]
  },
  {
   "cell_type": "markdown",
   "id": "471b9e80",
   "metadata": {},
   "source": [
    "## Validation"
   ]
  },
  {
   "cell_type": "code",
   "execution_count": 42,
   "id": "38224bcb",
   "metadata": {
    "scrolled": true,
    "vscode": {
     "languageId": "r"
    }
   },
   "outputs": [],
   "source": [
    "set.seed(123)\n",
    "train <- basetable_train\n",
    "yTRAIN <- train$Top5\n",
    "train$Top10 = NULL\n",
    "train$Top5 = NULL\n",
    "train$Top4 = NULL\n",
    "train$Top3 = NULL\n",
    "train$Top2 = NULL\n",
    "\n",
    "test <- basetable_val\n",
    "yTEST <- test$Top5\n",
    "test$Top10 = NULL\n",
    "test$Top5 = NULL\n",
    "test$Top4 = NULL\n",
    "test$Top3 = NULL\n",
    "test$Top2 = NULL"
   ]
  },
  {
   "cell_type": "markdown",
   "id": "ce90f6ae",
   "metadata": {},
   "source": [
    "### Random Forest"
   ]
  },
  {
   "cell_type": "code",
   "execution_count": 43,
   "id": "8e7b51fb",
   "metadata": {
    "vscode": {
     "languageId": "r"
    }
   },
   "outputs": [
    {
     "data": {
      "text/html": [
       "0.676959353245003"
      ],
      "text/latex": [
       "0.676959353245003"
      ],
      "text/markdown": [
       "0.676959353245003"
      ],
      "text/plain": [
       "[1] 0.6769594"
      ]
     },
     "metadata": {},
     "output_type": "display_data"
    }
   ],
   "source": [
    "set.seed(123)\n",
    "#fit\n",
    "rFmodel <- randomForest(x=train, y = yTRAIN, ntree = 1000,mtry=15)\n",
    "# predict on second set (test)\n",
    "predictions <- predict(rFmodel, test, type = \"prob\")[, 2]\n",
    "\n",
    "AUC::auc(roc(predictions,factor(yTEST)))"
   ]
  },
  {
   "cell_type": "code",
   "execution_count": 44,
   "id": "9aec2dad",
   "metadata": {
    "vscode": {
     "languageId": "r"
    }
   },
   "outputs": [],
   "source": [
    "auc = AUC::auc(roc(predictions,factor(yTEST)))"
   ]
  },
  {
   "cell_type": "code",
   "execution_count": 45,
   "id": "62ce39ce",
   "metadata": {
    "vscode": {
     "languageId": "r"
    }
   },
   "outputs": [],
   "source": [
    "res = ifelse(predictions>=0.5,1,0)\n",
    "true_outcome = yTEST"
   ]
  },
  {
   "cell_type": "code",
   "execution_count": 46,
   "id": "64f21d64",
   "metadata": {
    "scrolled": true,
    "vscode": {
     "languageId": "r"
    }
   },
   "outputs": [
    {
     "data": {
      "text/plain": [
       "          Reference\n",
       "Prediction  0  1\n",
       "         0 23 10\n",
       "         1 50 51"
      ]
     },
     "metadata": {},
     "output_type": "display_data"
    },
    {
     "data": {
      "text/html": [
       "<span style=white-space:pre-wrap>'AUC:  0.676959353245003'</span>"
      ],
      "text/latex": [
       "'AUC:  0.676959353245003'"
      ],
      "text/markdown": [
       "<span style=white-space:pre-wrap>'AUC:  0.676959353245003'</span>"
      ],
      "text/plain": [
       "[1] \"AUC:  0.676959353245003\""
      ]
     },
     "metadata": {},
     "output_type": "display_data"
    },
    {
     "data": {
      "text/html": [
       "<span style=white-space:pre-wrap>'Accuracy:  0.552238805970149'</span>"
      ],
      "text/latex": [
       "'Accuracy:  0.552238805970149'"
      ],
      "text/markdown": [
       "<span style=white-space:pre-wrap>'Accuracy:  0.552238805970149'</span>"
      ],
      "text/plain": [
       "[1] \"Accuracy:  0.552238805970149\""
      ]
     },
     "metadata": {},
     "output_type": "display_data"
    },
    {
     "data": {
      "text/html": [
       "<span style=white-space:pre-wrap>'Recall:  0.836065573770492'</span>"
      ],
      "text/latex": [
       "'Recall:  0.836065573770492'"
      ],
      "text/markdown": [
       "<span style=white-space:pre-wrap>'Recall:  0.836065573770492'</span>"
      ],
      "text/plain": [
       "[1] \"Recall:  0.836065573770492\""
      ]
     },
     "metadata": {},
     "output_type": "display_data"
    },
    {
     "data": {
      "text/html": [
       "<span style=white-space:pre-wrap>'Precision:  0.504950495049505'</span>"
      ],
      "text/latex": [
       "'Precision:  0.504950495049505'"
      ],
      "text/markdown": [
       "<span style=white-space:pre-wrap>'Precision:  0.504950495049505'</span>"
      ],
      "text/plain": [
       "[1] \"Precision:  0.504950495049505\""
      ]
     },
     "metadata": {},
     "output_type": "display_data"
    }
   ],
   "source": [
    "confusionMatrix(as.factor(res), as.factor(true_outcome))[[2]]\n",
    "TN =(confusionMatrix(as.factor(res), as.factor(true_outcome)))[[2]][1,1]\n",
    "TP = (confusionMatrix(as.factor(res), as.factor(true_outcome)))[[2]][2,2]\n",
    "FN = (confusionMatrix(as.factor(res), as.factor(true_outcome)))[[2]][1,2]\n",
    "FP = (confusionMatrix(as.factor(res), as.factor(true_outcome)))[[2]][2,1]\n",
    "\n",
    "accuracy = (TP+TN)/(TP+FP+TN+FN)\n",
    "recall = TP/(TP+FN)\n",
    "precision = TP/(TP+FP)\n",
    "\n",
    "paste(\"AUC: \", auc)\n",
    "paste(\"Accuracy: \", accuracy)\n",
    "paste(\"Recall: \", recall)\n",
    "paste(\"Precision: \", precision)"
   ]
  },
  {
   "cell_type": "markdown",
   "id": "da77b8ca",
   "metadata": {},
   "source": [
    "### Ranger"
   ]
  },
  {
   "cell_type": "code",
   "execution_count": 47,
   "id": "06a34dce",
   "metadata": {
    "vscode": {
     "languageId": "r"
    }
   },
   "outputs": [
    {
     "data": {
      "text/html": [
       "0.688973725578262"
      ],
      "text/latex": [
       "0.688973725578262"
      ],
      "text/markdown": [
       "0.688973725578262"
      ],
      "text/plain": [
       "[1] 0.6889737"
      ]
     },
     "metadata": {},
     "output_type": "display_data"
    }
   ],
   "source": [
    "#fit on training set\n",
    "model <- ranger(x=train, y = yTRAIN, num.trees = 1000, mtry = 8,min.node.size = 13, sample.fraction = 0.75, probability = TRUE, seed = 123)\n",
    "# predict on validation set\n",
    "predictions =  predict(model,test)$predictions[,2]\n",
    "\n",
    "AUC::auc(roc(predictions,factor(yTEST)))"
   ]
  },
  {
   "cell_type": "code",
   "execution_count": 48,
   "id": "4dbccb23",
   "metadata": {
    "vscode": {
     "languageId": "r"
    }
   },
   "outputs": [],
   "source": [
    "auc = AUC::auc(roc(predictions,factor(yTEST)))"
   ]
  },
  {
   "cell_type": "code",
   "execution_count": 49,
   "id": "60f740e9",
   "metadata": {
    "vscode": {
     "languageId": "r"
    }
   },
   "outputs": [],
   "source": [
    "res = ifelse(predictions>=0.5,1,0)\n",
    "true_outcome = yTEST"
   ]
  },
  {
   "cell_type": "code",
   "execution_count": 50,
   "id": "4476de1c",
   "metadata": {
    "scrolled": true,
    "vscode": {
     "languageId": "r"
    }
   },
   "outputs": [
    {
     "data": {
      "text/plain": [
       "          Reference\n",
       "Prediction  0  1\n",
       "         0 22 10\n",
       "         1 51 51"
      ]
     },
     "metadata": {},
     "output_type": "display_data"
    },
    {
     "data": {
      "text/html": [
       "<span style=white-space:pre-wrap>'AUC:  0.688973725578262'</span>"
      ],
      "text/latex": [
       "'AUC:  0.688973725578262'"
      ],
      "text/markdown": [
       "<span style=white-space:pre-wrap>'AUC:  0.688973725578262'</span>"
      ],
      "text/plain": [
       "[1] \"AUC:  0.688973725578262\""
      ]
     },
     "metadata": {},
     "output_type": "display_data"
    },
    {
     "data": {
      "text/html": [
       "<span style=white-space:pre-wrap>'Accuracy:  0.544776119402985'</span>"
      ],
      "text/latex": [
       "'Accuracy:  0.544776119402985'"
      ],
      "text/markdown": [
       "<span style=white-space:pre-wrap>'Accuracy:  0.544776119402985'</span>"
      ],
      "text/plain": [
       "[1] \"Accuracy:  0.544776119402985\""
      ]
     },
     "metadata": {},
     "output_type": "display_data"
    },
    {
     "data": {
      "text/html": [
       "<span style=white-space:pre-wrap>'Recall:  0.836065573770492'</span>"
      ],
      "text/latex": [
       "'Recall:  0.836065573770492'"
      ],
      "text/markdown": [
       "<span style=white-space:pre-wrap>'Recall:  0.836065573770492'</span>"
      ],
      "text/plain": [
       "[1] \"Recall:  0.836065573770492\""
      ]
     },
     "metadata": {},
     "output_type": "display_data"
    },
    {
     "data": {
      "text/html": [
       "<span style=white-space:pre-wrap>'Precision:  0.5'</span>"
      ],
      "text/latex": [
       "'Precision:  0.5'"
      ],
      "text/markdown": [
       "<span style=white-space:pre-wrap>'Precision:  0.5'</span>"
      ],
      "text/plain": [
       "[1] \"Precision:  0.5\""
      ]
     },
     "metadata": {},
     "output_type": "display_data"
    }
   ],
   "source": [
    "confusionMatrix(as.factor(res), as.factor(true_outcome))[[2]]\n",
    "TN =(confusionMatrix(as.factor(res), as.factor(true_outcome)))[[2]][1,1]\n",
    "TP = (confusionMatrix(as.factor(res), as.factor(true_outcome)))[[2]][2,2]\n",
    "FN = (confusionMatrix(as.factor(res), as.factor(true_outcome)))[[2]][1,2]\n",
    "FP = (confusionMatrix(as.factor(res), as.factor(true_outcome)))[[2]][2,1]\n",
    "\n",
    "accuracy = (TP+TN)/(TP+FP+TN+FN)\n",
    "recall = TP/(TP+FN)\n",
    "precision = TP/(TP+FP)\n",
    "\n",
    "paste(\"AUC: \", auc)\n",
    "paste(\"Accuracy: \", accuracy)\n",
    "paste(\"Recall: \", recall)\n",
    "paste(\"Precision: \", precision)"
   ]
  },
  {
   "cell_type": "markdown",
   "id": "3056d54f",
   "metadata": {},
   "source": [
    "### Test"
   ]
  },
  {
   "cell_type": "code",
   "execution_count": null,
   "id": "5d49f255",
   "metadata": {
    "vscode": {
     "languageId": "r"
    }
   },
   "outputs": [],
   "source": [
    "#TEST \n",
    "test <- basetable_test\n",
    "yTEST <- test$Top5\n",
    "test$Top10 = NULL\n",
    "test$Top5 = NULL\n",
    "test$Top4 = NULL\n",
    "test$Top3 = NULL\n",
    "test$Top2 = NULL"
   ]
  },
  {
   "cell_type": "code",
   "execution_count": null,
   "id": "aad2c4f6",
   "metadata": {
    "vscode": {
     "languageId": "r"
    }
   },
   "outputs": [],
   "source": [
    "# predict on second set (test)\n",
    "predictions =  predict(model,test)$predictions[,2]\n",
    "\n",
    "AUC::auc(roc(predictions,factor(yTEST)))\n",
    "\n",
    "auc = AUC::auc(roc(predictions,factor(yTEST)))"
   ]
  },
  {
   "cell_type": "code",
   "execution_count": null,
   "id": "e17fac8e",
   "metadata": {
    "vscode": {
     "languageId": "r"
    }
   },
   "outputs": [],
   "source": [
    "res = ifelse(predictions>=0.5,1,0)\n",
    "true_outcome = yTEST\n",
    "\n",
    "confusionMatrix(as.factor(res), as.factor(true_outcome))[[2]]\n",
    "TN =(confusionMatrix(as.factor(res), as.factor(true_outcome)))[[2]][1,1]\n",
    "TP = (confusionMatrix(as.factor(res), as.factor(true_outcome)))[[2]][2,2]\n",
    "FN = (confusionMatrix(as.factor(res), as.factor(true_outcome)))[[2]][1,2]\n",
    "FP = (confusionMatrix(as.factor(res), as.factor(true_outcome)))[[2]][2,1]\n",
    "\n",
    "accuracy = (TP+TN)/(TP+FP+TN+FN)\n",
    "recall = TP/(TP+FN)\n",
    "precision = TP/(TP+FP)\n",
    "\n",
    "paste(\"AUC: \", auc)\n",
    "paste(\"Accuracy: \", accuracy)\n",
    "paste(\"Recall: \", recall)\n",
    "paste(\"Precision: \", precision)"
   ]
  },
  {
   "cell_type": "markdown",
   "id": "fa021760",
   "metadata": {},
   "source": [
    "# XGBoost"
   ]
  },
  {
   "cell_type": "markdown",
   "id": "b4347d4c",
   "metadata": {},
   "source": [
    "## Feature selection: Variable Importance from Machine Learning Algorithms"
   ]
  },
  {
   "cell_type": "code",
   "execution_count": null,
   "id": "13dcc7f2",
   "metadata": {
    "vscode": {
     "languageId": "r"
    }
   },
   "outputs": [],
   "source": [
    "#Preparing the train and validation tables\n",
    "table_train5 <- table_train\n",
    "table_val5 <- table_val\n",
    "table_test5 <- table_test\n",
    "table_trainBIG5 <- table_trainBIG\n",
    "table_train5$Top10 <- NULL\n",
    "table_train5$Top4 <- NULL\n",
    "table_train5$Top3 <- NULL\n",
    "table_train5$Top2 <- NULL\n",
    "table_val5$Top10 <- NULL\n",
    "table_val5$Top4 <- NULL\n",
    "table_val5$Top3 <- NULL\n",
    "table_val5$Top2 <- NULL\n",
    "table_test5$Top10 <- NULL\n",
    "table_test5$Top4 <- NULL\n",
    "table_test5$Top3 <- NULL\n",
    "table_test5$Top2 <- NULL"
   ]
  },
  {
   "cell_type": "code",
   "execution_count": null,
   "id": "dd8d3948",
   "metadata": {
    "vscode": {
     "languageId": "r"
    }
   },
   "outputs": [],
   "source": [
    "# Train an rpart model and compute variable importance.\n",
    "library(caret)\n",
    "set.seed(100)\n",
    "rPartMod <- train(Top5 ~ ., data=table_train5, method=\"treebag\")\n",
    "rpartImp <- varImp(rPartMod)\n",
    "print(rpartImp)\n",
    "plot(rpartImp, top = 20, main='Variable Importance')\n",
    "selected <- c(\"cobbles_mean\", \"acceleration_max\", \"prologue_mean\", \"sprint_mean\", \"tt_max\", \"downhill_max\")\n"
   ]
  },
  {
   "cell_type": "code",
   "execution_count": null,
   "id": "b55e7229",
   "metadata": {
    "vscode": {
     "languageId": "r"
    }
   },
   "outputs": [],
   "source": [
    "#new train en val set\n",
    "y_train <- table_train5$Top5\n",
    "train <- table_train5\n",
    "train$Top5<- NULL\n",
    "\n",
    "y_val <- table_val5$Top5\n",
    "val <- table_val5\n",
    "val$Top5 <-NULL\n",
    "\n",
    "y_test <- table_test5$Top5\n",
    "test <- table_test\n",
    "table_test5$Top5 <- NULL\n",
    "\n",
    "\n",
    "train_fs <- train[selected]\n",
    "val_fs <- val[selected]\n",
    "test_fs <- test[selected]"
   ]
  },
  {
   "cell_type": "markdown",
   "id": "537b2dc0",
   "metadata": {},
   "source": [
    "## Training the model"
   ]
  },
  {
   "cell_type": "code",
   "execution_count": null,
   "id": "1a54701e",
   "metadata": {
    "vscode": {
     "languageId": "r"
    }
   },
   "outputs": [],
   "source": [
    "#preparing matrices\n",
    "#convert all data to numeric format\n",
    "trainxgb <- train_fs %>% mutate_if(is.factor, as.character)  %>% mutate_if(is.character, as.numeric)\n",
    "testxgb <- test_fs %>% mutate_if(is.factor, as.character)  %>% mutate_if(is.character, as.numeric)\n",
    "valxgb <- val_fs %>% mutate_if(is.factor, as.character)  %>% mutate_if(is.character, as.numeric)\n",
    "\n",
    "dtrain <- xgb.DMatrix(data = as.matrix(trainxgb),\n",
    "                      label = as.numeric(as.character(y_train))) \n",
    "dval <- xgb.DMatrix(data = as.matrix(valxgb), \n",
    "                    label = as.numeric(as.character(y_val))) \n",
    "dtest <- xgb.DMatrix(data = as.matrix(testxgb))"
   ]
  },
  {
   "cell_type": "code",
   "execution_count": null,
   "id": "543fe50d",
   "metadata": {
    "vscode": {
     "languageId": "r"
    }
   },
   "outputs": [],
   "source": [
    "#plotting learning curve of the number of iterations\n",
    "#Need to have watchlist and verbose turned on\n",
    "watchlist <- list(train=dtrain, test=dval)\n",
    "xgbModel_opt <- xgb.train(data = dtrain, \n",
    "                          nrounds = 20,\n",
    "                          eta= 0.1,\n",
    "                          objective = \"binary:logistic\", \n",
    "                          verbose = 2, \n",
    "                          watchlist = watchlist,\n",
    "                          eval_metric = 'auc')\n",
    "\n",
    "history <- xgbModel_opt$evaluation_log\n",
    "\n",
    "history %>% pivot_longer(2:3, names_to = \"set\", values_to = \"performance\") %>% \n",
    "  ggplot(., aes(iter, performance, col = set))+\n",
    "  geom_point()+ geom_line()+\n",
    "  facet_wrap(~set)"
   ]
  },
  {
   "cell_type": "markdown",
   "id": "2cab2cb6",
   "metadata": {},
   "source": [
    "## Validation"
   ]
  },
  {
   "cell_type": "code",
   "execution_count": null,
   "id": "1c2ec477",
   "metadata": {
    "vscode": {
     "languageId": "r"
    }
   },
   "outputs": [],
   "source": [
    "##Optimize nrounds BEST\n",
    "opt_iter <- history$iter[which.max(history$test_auc)]\n",
    "\n",
    "xgbModel_opt <- xgb.train(data = dtrain, \n",
    "                          nrounds = opt_iter, \n",
    "                          objective = \"binary:logistic\",\n",
    "                    \n",
    "                          eta = 0.1,\n",
    "                          verbose = 2, \n",
    "                          eval_metric = 'auc')\n",
    "\n",
    "#Validation\n",
    "predxgb <- predict(xgbModel_opt,dval)\n",
    "auc <-AUC::auc(roc(predxgb,y_val))"
   ]
  },
  {
   "cell_type": "code",
   "execution_count": null,
   "id": "5952419d",
   "metadata": {
    "vscode": {
     "languageId": "r"
    }
   },
   "outputs": [],
   "source": [
    "res <-ifelse(predxgb>=0.5,1,0)\n",
    "true_outcome <- y_val\n",
    "\n",
    "\n",
    "confusionMatrix(as.factor(res), as.factor(true_outcome))[[2]]\n",
    "TN =(confusionMatrix(as.factor(res), as.factor(true_outcome)))[[2]][1,1]\n",
    "TP = (confusionMatrix(as.factor(res), as.factor(true_outcome)))[[2]][2,2]\n",
    "FN = (confusionMatrix(as.factor(res), as.factor(true_outcome)))[[2]][1,2]\n",
    "FP = (confusionMatrix(as.factor(res), as.factor(true_outcome)))[[2]][2,1]\n",
    "\n",
    "accuracy = (TP+TN)/(TP+FP+TN+FN)\n",
    "recall = TP/(TP+FN)\n",
    "precision = TP/(TP+FP)\n",
    "\n",
    "paste(\"AUC: \", auc)\n",
    "paste(\"Accuracy: \", accuracy)\n",
    "paste(\"Recall: \", recall)\n",
    "paste(\"Precision: \", precision)\n"
   ]
  },
  {
   "cell_type": "markdown",
   "id": "3779720a",
   "metadata": {},
   "source": [
    "## Test"
   ]
  },
  {
   "cell_type": "code",
   "execution_count": null,
   "id": "45585c19",
   "metadata": {
    "vscode": {
     "languageId": "r"
    }
   },
   "outputs": [],
   "source": [
    "predxgb <- predict(xgbModel_opt,dtest)\n",
    "auc <-AUC::auc(roc(predxgb,y_test))\n",
    "res <-ifelse(predxgb>=0.5,1,0)\n",
    "true_outcome <- y_test"
   ]
  },
  {
   "cell_type": "code",
   "execution_count": null,
   "id": "566a62f2",
   "metadata": {
    "vscode": {
     "languageId": "r"
    }
   },
   "outputs": [],
   "source": [
    "confusionMatrix(as.factor(res), as.factor(true_outcome))[[2]]\n",
    "TN =(confusionMatrix(as.factor(res), as.factor(true_outcome)))[[2]][1,1]\n",
    "TP = (confusionMatrix(as.factor(res), as.factor(true_outcome)))[[2]][2,2]\n",
    "FN = (confusionMatrix(as.factor(res), as.factor(true_outcome)))[[2]][1,2]\n",
    "FP = (confusionMatrix(as.factor(res), as.factor(true_outcome)))[[2]][2,1]\n",
    "\n",
    "accuracy = (TP+TN)/(TP+FP+TN+FN)\n",
    "recall = TP/(TP+FN)\n",
    "precision = TP/(TP+FP)\n",
    "\n",
    "paste(\"AUC: \", auc)\n",
    "paste(\"Accuracy: \", accuracy)\n",
    "paste(\"Recall: \", recall)\n",
    "paste(\"Precision: \", precision)\n"
   ]
  },
  {
   "cell_type": "markdown",
   "id": "2114825a",
   "metadata": {},
   "source": [
    "# Normal AdaBoost"
   ]
  },
  {
   "cell_type": "markdown",
   "id": "46bccef3",
   "metadata": {},
   "source": [
    "## Feature selection"
   ]
  },
  {
   "cell_type": "code",
   "execution_count": null,
   "id": "dc2636bc",
   "metadata": {
    "vscode": {
     "languageId": "r"
    }
   },
   "outputs": [],
   "source": [
    "p_load(ada)\n",
    "#Prepating the train and validation tables\n",
    "table_train5 <- table_train\n",
    "table_val5 <- table_val\n",
    "table_test5 <- table_test\n",
    "table_train5$Top10 <- NULL\n",
    "table_train5$Top4 <- NULL\n",
    "table_train5$Top3 <- NULL\n",
    "table_train5$Top2 <- NULL\n",
    "table_val5$Top10 <- NULL\n",
    "table_val5$Top4 <- NULL\n",
    "table_val5$Top3 <- NULL\n",
    "table_val5$Top2 <- NULL\n",
    "table_test5$Top10 <- NULL\n",
    "table_test5$Top4 <- NULL\n",
    "table_test5$Top3 <- NULL\n",
    "table_test5$Top2 <- NULL"
   ]
  },
  {
   "cell_type": "code",
   "execution_count": null,
   "id": "e815391c",
   "metadata": {
    "vscode": {
     "languageId": "r"
    }
   },
   "outputs": [],
   "source": [
    "# Train an rpart model and compute variable importance.\n",
    "library(caret)\n",
    "set.seed(100)\n",
    "rPartMod <- train(Top5 ~ ., data=table_train5, method=\"treebag\")\n",
    "rpartImp <- varImp(rPartMod)\n",
    "print(rpartImp)\n",
    "plot(rpartImp, top = 20, main='Variable Importance')\n",
    "selected <- c(\"cobbles_mean\", \"acceleration_max\", \"prologue_mean\", \"sprint_mean\", \"tt_max\", \"downhill_max\")\n"
   ]
  },
  {
   "cell_type": "code",
   "execution_count": null,
   "id": "bdaed67e",
   "metadata": {
    "vscode": {
     "languageId": "r"
    }
   },
   "outputs": [],
   "source": [
    "#new train en val set\n",
    "y_train <- table_train5$Top5\n",
    "train <- table_train5\n",
    "train$Top5<- NULL\n",
    "\n",
    "y_val <- table_val5$Top5\n",
    "val <- table_val5\n",
    "val$Top5 <-NULL\n",
    "\n",
    "y_test <- table_test5$Top5\n",
    "test <- table_test\n",
    "table_test5$Top5 <- NULL\n",
    "\n",
    "\n",
    "train_fs <- train[selected]\n",
    "val_fs <- val[selected]\n",
    "test_fs <- test[selected]"
   ]
  },
  {
   "cell_type": "markdown",
   "id": "74eacc15",
   "metadata": {},
   "source": [
    "## Training the model"
   ]
  },
  {
   "cell_type": "code",
   "execution_count": null,
   "id": "86188069",
   "metadata": {
    "vscode": {
     "languageId": "r"
    }
   },
   "outputs": [],
   "source": [
    "#preparing matrices\n",
    "#convert all data to numeric format\n",
    "trainxgb <- train_fs %>% mutate_if(is.factor, as.character)  %>% mutate_if(is.character, as.numeric)\n",
    "testxgb <- test_fs %>% mutate_if(is.factor, as.character)  %>% mutate_if(is.character, as.numeric)\n",
    "valxgb <- val_fs %>% mutate_if(is.factor, as.character)  %>% mutate_if(is.character, as.numeric)\n",
    "\n",
    "dtrain <- xgb.DMatrix(data = as.matrix(trainxgb),\n",
    "                      label = as.numeric(as.character(y_train))) \n",
    "dval <- xgb.DMatrix(data = as.matrix(valxgb), \n",
    "                    label = as.numeric(as.character(y_val))) \n",
    "dtest <- xgb.DMatrix(data = as.matrix(testxgb))"
   ]
  },
  {
   "cell_type": "code",
   "execution_count": null,
   "id": "323a2eec",
   "metadata": {
    "vscode": {
     "languageId": "r"
    }
   },
   "outputs": [],
   "source": [
    "watchlist <- list(train=dtrain, test=dval)\n",
    "adaModel_opt <- xgb.train(data = dtrain, \n",
    "                          nrounds = 20, \n",
    "                          eta=0.1,\n",
    "                          objective = \"binary:logistic\", \n",
    "                          verbose = 2, \n",
    "                          watchlist = watchlist,\n",
    "                          eval_metric = 'auc')\n",
    "\n",
    "history <- adaModel_opt$evaluation_log\n",
    "\n",
    "history %>% pivot_longer(2:3,names_to = \"set\", values_to = \"performance\") %>% \n",
    "  ggplot(., aes(iter, performance, col = set))+\n",
    "  geom_point() + geom_line() + \n",
    "  facet_wrap(~set, )\n"
   ]
  },
  {
   "cell_type": "code",
   "execution_count": null,
   "id": "479e56d0",
   "metadata": {
    "vscode": {
     "languageId": "r"
    }
   },
   "outputs": [],
   "source": [
    "opt_iter <- history$iter[which.max(history$test_auc)]\n",
    "adaModel_opt <- xgb.train(data = dtrain, \n",
    "                          nrounds = opt_iter, \n",
    "                          eta=0.1,\n",
    "                          objective = \"binary:logistic\", \n",
    "                          verbose = 2, \n",
    "                          eval_metric = 'auc')\n",
    "\n",
    "ABmodel <- ada(y_train ~ . ,train_fs,iter=opt_iter)"
   ]
  },
  {
   "cell_type": "markdown",
   "id": "0bcfdd06",
   "metadata": {},
   "source": [
    "## Validation"
   ]
  },
  {
   "cell_type": "code",
   "execution_count": null,
   "id": "28a9d42f",
   "metadata": {
    "vscode": {
     "languageId": "r"
    }
   },
   "outputs": [],
   "source": [
    "predAB <- as.numeric(predict(ABmodel,val_fs,type=\"probs\")[,2])\n",
    "AUC::auc(roc(predAB,y_val))"
   ]
  },
  {
   "cell_type": "markdown",
   "id": "cdf3df8d",
   "metadata": {},
   "source": [
    "## Test"
   ]
  },
  {
   "cell_type": "code",
   "execution_count": null,
   "id": "df1661b2",
   "metadata": {
    "vscode": {
     "languageId": "r"
    }
   },
   "outputs": [],
   "source": [
    "predAB <- as.numeric(predict(ABmodel,test_fs,type=\"probs\")[,2])\n",
    "auc <-AUC::auc(roc(predAB,y_test))"
   ]
  },
  {
   "cell_type": "code",
   "execution_count": null,
   "id": "29d14c16",
   "metadata": {
    "vscode": {
     "languageId": "r"
    }
   },
   "outputs": [],
   "source": [
    "res <-ifelse(predAB>=0.5,1,0)\n",
    "true_outcome <- y_test\n",
    "\n",
    "\n",
    "confusionMatrix(as.factor(res), as.factor(true_outcome))[[2]]\n",
    "TN =(confusionMatrix(as.factor(res), as.factor(true_outcome)))[[2]][1,1]\n",
    "TP = (confusionMatrix(as.factor(res), as.factor(true_outcome)))[[2]][2,2]\n",
    "FN = (confusionMatrix(as.factor(res), as.factor(true_outcome)))[[2]][1,2]\n",
    "FP = (confusionMatrix(as.factor(res), as.factor(true_outcome)))[[2]][2,1]\n",
    "\n",
    "accuracy = (TP+TN)/(TP+FP+TN+FN)\n",
    "recall = TP/(TP+FN)\n",
    "precision = TP/(TP+FP)\n",
    "\n",
    "paste(\"AUC: \", auc)\n",
    "paste(\"Accuracy: \", accuracy)\n",
    "paste(\"Recall: \", recall)\n",
    "paste(\"Precision: \", precision)\n"
   ]
  },
  {
   "cell_type": "markdown",
   "id": "355d86b6",
   "metadata": {},
   "source": [
    "## Light GBM"
   ]
  },
  {
   "cell_type": "markdown",
   "id": "e3ccdf67",
   "metadata": {},
   "source": [
    "### Feature Selection : boruta"
   ]
  },
  {
   "cell_type": "code",
   "execution_count": null,
   "id": "05f81bbd",
   "metadata": {
    "vscode": {
     "languageId": "r"
    }
   },
   "outputs": [],
   "source": [
    "table_train5 <- table_train\n",
    "table_val5 <- table_val\n",
    "table_test5 <- table_test\n",
    "table_train5$Top10 <- NULL\n",
    "table_train5$Top4 <- NULL\n",
    "table_train5$Top3 <- NULL\n",
    "table_train5$Top2 <- NULL\n",
    "table_val5$Top10 <- NULL\n",
    "table_val5$Top4 <- NULL\n",
    "table_val5$Top3 <- NULL\n",
    "table_val5$Top2 <- NULL\n",
    "table_test5$Top10 <- NULL\n",
    "table_test5$Top4 <- NULL\n",
    "table_test5$Top3 <- NULL\n",
    "table_test5$Top2 <- NULL"
   ]
  },
  {
   "cell_type": "code",
   "execution_count": null,
   "id": "efe3e644",
   "metadata": {
    "vscode": {
     "languageId": "r"
    }
   },
   "outputs": [],
   "source": [
    "#Variable selection: Boruta\n",
    "rf_boruta <- Boruta(table_train5[, !names(table_train5) %in% c(\"Top5\")], table_train5$Top5, doTrace = 0)\n",
    "\n",
    "varsel_boruta <- names(rf_boruta$finalDecision[rf_boruta$finalDecision ==\n",
    "                                                 \"Confirmed\"])\n"
   ]
  },
  {
   "cell_type": "code",
   "execution_count": null,
   "id": "410445f4",
   "metadata": {
    "vscode": {
     "languageId": "r"
    }
   },
   "outputs": [],
   "source": [
    "#new train en val set\n",
    "y_train <- table_train5$Top5\n",
    "train <- table_train5\n",
    "train$Top5<- NULL\n",
    "\n",
    "y_val <- table_val5$Top5\n",
    "val <- table_val5\n",
    "val$Top5 <-NULL\n",
    "\n",
    "y_test <- table_test5$Top5\n",
    "test <- table_test\n",
    "table_test5$Top5 <- NULL\n",
    "\n",
    "\n",
    "train_fs <- train[varsel_boruta]\n",
    "val_fs <- val[varsel_boruta]\n",
    "test_fs <- test[varsel_boruta]\n"
   ]
  },
  {
   "cell_type": "markdown",
   "id": "d30da1fb",
   "metadata": {},
   "source": [
    "### Training the model"
   ]
  },
  {
   "cell_type": "code",
   "execution_count": null,
   "id": "5a1556ad",
   "metadata": {
    "vscode": {
     "languageId": "r"
    }
   },
   "outputs": [],
   "source": [
    "p_load(lightgbm)\n",
    "leaves <- c(2, 4, 6, 8)\n",
    "nround <- c(2, 5, 10, 20, 50, 100, 200)\n",
    "learning_rate <- c(0.01, 0.05, 0.1, 0.2, 0.5)\n",
    "\n",
    "# create data frame of all possible combinations\n",
    "params <- expand.grid(leaves, nround, learning_rate)\n",
    "colnames(params) <- c(\"leaves\", \"nround\", \"learning_rate\")\n",
    "\n",
    "aucs <- vector()\n",
    "for (row in 1:nrow(params)) {\n",
    "  # set parameters\n",
    "  par <- params[row, ]\n",
    "  param_set <- list(num_leaves = par[, \"leaves\"], learning_rate = par[,\n",
    "                                                                      \"learning_rate\"], objective = \"binary\", boosting = \"gbdt\",\n",
    "                    num_iterations = par[, \"nround\"])\n",
    "  # model\n",
    "  lgbm_model <- lightgbm(data = as.matrix(train_fs),\n",
    "                         params = param_set, label = as.numeric(as.character(y_train)),\n",
    "                         verbose = -1)\n",
    "  \n",
    "  # predict\n",
    "  pred <- predict(lgbm_model, as.matrix(val_fs))\n",
    "  \n",
    "  # evaluate\n",
    "  aucs[row] <- AUC::auc(AUC::roc(pred, y_val))\n",
    "}\n",
    "\n",
    "(optimal_paramsLGBM <- params[which.max(aucs), ])"
   ]
  },
  {
   "cell_type": "markdown",
   "id": "7e4084e0",
   "metadata": {},
   "source": [
    "### Optimal model"
   ]
  },
  {
   "cell_type": "code",
   "execution_count": null,
   "id": "c5a92dd1",
   "metadata": {
    "vscode": {
     "languageId": "r"
    }
   },
   "outputs": [],
   "source": [
    "# Build the final model on the optimal parameters\n",
    "final_param_set <- list(num_leaves = optimal_paramsLGBM[, \"leaves\"],\n",
    "                        learning_rate = optimal_paramsLGBM[, \"learning_rate\"], objective = \"binary\",\n",
    "                        boosting = \"gbdt\", num_iterations = optimal_paramsLGBM[,\n",
    "                                                                               \"nround\"])\n",
    "\n",
    "lgbm_model <- lightgbm(data = as.matrix(train_fs), params = final_param_set,\n",
    "                       label = as.numeric(as.character(y_train)), verbose = -1)"
   ]
  },
  {
   "cell_type": "markdown",
   "id": "888a150e",
   "metadata": {},
   "source": [
    "### Validation"
   ]
  },
  {
   "cell_type": "code",
   "execution_count": null,
   "id": "e73b9ace",
   "metadata": {
    "vscode": {
     "languageId": "r"
    }
   },
   "outputs": [],
   "source": [
    "# Predict\n",
    "predlgbm <- predict(lgbm_model, as.matrix(val_fs))\n",
    "# Evaluate\n",
    "AUC::auc(AUC::roc(predlgbm, y_val))"
   ]
  },
  {
   "cell_type": "markdown",
   "id": "66249f91",
   "metadata": {},
   "source": [
    "### Test"
   ]
  },
  {
   "cell_type": "code",
   "execution_count": null,
   "id": "44f79d8a",
   "metadata": {
    "vscode": {
     "languageId": "r"
    }
   },
   "outputs": [],
   "source": [
    "predlgbm <- predict(lgbm_model, as.matrix(test_fs))\n",
    "auc <-AUC::auc(AUC::roc(predlgbm, y_test))"
   ]
  },
  {
   "cell_type": "code",
   "execution_count": null,
   "id": "e4a1f04c",
   "metadata": {
    "vscode": {
     "languageId": "r"
    }
   },
   "outputs": [],
   "source": [
    "res <-ifelse(predlgbm>=0.5,1,0)\n",
    "true_outcome <- y_test\n",
    "\n",
    "\n",
    "confusionMatrix(as.factor(res), as.factor(true_outcome))[[2]]\n",
    "TN =(confusionMatrix(as.factor(res), as.factor(true_outcome)))[[2]][1,1]\n",
    "TP = (confusionMatrix(as.factor(res), as.factor(true_outcome)))[[2]][2,2]\n",
    "FN = (confusionMatrix(as.factor(res), as.factor(true_outcome)))[[2]][1,2]\n",
    "FP = (confusionMatrix(as.factor(res), as.factor(true_outcome)))[[2]][2,1]\n",
    "\n",
    "accuracy = (TP+TN)/(TP+FP+TN+FN)\n",
    "recall = TP/(TP+FN)\n",
    "precision = TP/(TP+FP)\n",
    "\n",
    "paste(\"Accuracy: \", accuracy)\n",
    "paste(\"Recall: \", recall)\n",
    "paste(\"Precision: \", precision)\n"
   ]
  },
  {
   "cell_type": "markdown",
   "id": "6cfc1a6c",
   "metadata": {},
   "source": [
    "# Rotation Forest"
   ]
  },
  {
   "cell_type": "code",
   "execution_count": null,
   "id": "7a467603",
   "metadata": {},
   "outputs": [],
   "source": [
    "vector <- seq(10, 200, by=10)\n",
    "AUC_stored <- vector()\n",
    "for (i in vector){\n",
    "  RoF_train <- rotationForest(x = basetable_train[,-(40:44)], y = basetable_train$Top5, L=i)\n",
    "  pred_RoF_train <- predict(RoF_train, basetable_val[,-(40:44)])\n",
    "  \n",
    "  AUC_stored[match(i,vector)] <- AUC::auc(AUC::roc(pred_RoF_train, basetable_val$Top5))\n",
    "}\n",
    "\n",
    "plot(vector, AUC_stored)\n",
    "max(AUC_stored) # Val AUC\n",
    "best_L = vector[which.max(AUC_stored)] # extract best L\n",
    "\n",
    "RoF_test <- rotationForest(x = basetable[,-(40:44)], y = basetable$Top5, L=best_L)\n",
    "pred_RoF_test <- predict(RoF_test, basetable_test[,-(40:44)])\n",
    "\n",
    "AUC::auc(AUC::roc(pred_RoF_test, basetable_test$Top5)) # Test AUC\n",
    "\n"
   ]
  },
  {
   "cell_type": "code",
   "execution_count": null,
   "id": "11c27a24",
   "metadata": {},
   "outputs": [],
   "source": [
    "# check accuracy\n",
    "res <-ifelse(pred_RoF_test>=0.5,1,0)\n",
    "true_outcome <- basetable_test$Top5\n",
    "\n",
    "\n",
    "confusionMatrix(as.factor(res), as.factor(true_outcome))[[2]]\n",
    "TN =(confusionMatrix(as.factor(res), as.factor(true_outcome)))[[2]][1,1]\n",
    "TP = (confusionMatrix(as.factor(res), as.factor(true_outcome)))[[2]][2,2]\n",
    "FN = (confusionMatrix(as.factor(res), as.factor(true_outcome)))[[2]][1,2]\n",
    "FP = (confusionMatrix(as.factor(res), as.factor(true_outcome)))[[2]][2,1]\n",
    "\n",
    "accuracy = (TP+TN)/(TP+FP+TN+FN)\n",
    "recall = TP/(TP+FN)\n",
    "precision = TP/(TP+FP)\n",
    "accuracy"
   ]
  },
  {
   "cell_type": "markdown",
   "id": "272162cf",
   "metadata": {},
   "source": [
    "# Catboost"
   ]
  },
  {
   "cell_type": "code",
   "execution_count": null,
   "id": "6819e8ca",
   "metadata": {},
   "outputs": [],
   "source": [
    "train_pool <- catboost.load_pool(data = data.matrix(basetable_train[,-(40:44)]), \n",
    "                                 label = as.numeric(as.character(basetable_train$Top5)))\n",
    "val_pool <- catboost.load_pool(data = data.matrix(basetable_val[,-(40:44)]), \n",
    "                                label = as.numeric(as.character(basetable_val$Top5)))"
   ]
  },
  {
   "cell_type": "code",
   "execution_count": null,
   "id": "ae5a83db",
   "metadata": {},
   "outputs": [],
   "source": [
    "# parameter tuning with caret\n",
    "fit_control <- trainControl(method = \"cv\",\n",
    "                            number = 4,\n",
    "                            classProbs = TRUE)\n",
    "\n",
    "grid <- expand.grid(depth = c(4, 6, 8),\n",
    "                    learning_rate = c(0.1,0.5,1),\n",
    "                    iterations = 100,\n",
    "                    l2_leaf_reg = c(0.001, 0.01, 0.1, 1),\n",
    "                    rsm = 0.95,\n",
    "                    border_count = 64)\n",
    "report <- train(basetable_train[,-(40:44)], as.factor(make.names(basetable_train$Top5)),\n",
    "                method = catboost.caret,\n",
    "                logging_level = 'Verbose', preProc = NULL,\n",
    "                tuneGrid = grid, trControl = fit_control)\n",
    "\n",
    "print(report)\n",
    "#extract best parameters\n",
    "params <- list(loss_function = 'Logloss',\n",
    "               iterations = 100, \n",
    "               depth = 8, \n",
    "               learning_rate = 0.1,\n",
    "               l2_leaf_reg = 0.1, #L2 regularization \n",
    "               metric_period=10)\n",
    "\n",
    "importance <- varImp(report, scale = FALSE)\n",
    "print(importance)\n",
    "\n",
    "# better performance with default parameters?\n",
    "# params = list(loss_function = 'Logloss',\n",
    "#               iterations = 100, \n",
    "#               depth = 6, \n",
    "#               learning_rate = 0.03,\n",
    "#               l2_leaf_reg = 3, #L2 regularization term for the leaf nodes (also in xgboost)\n",
    "#               metric_period=10)"
   ]
  },
  {
   "cell_type": "code",
   "execution_count": null,
   "id": "e0a9137a",
   "metadata": {},
   "outputs": [],
   "source": [
    "# train model\n",
    "catboost_train <- catboost.train(train_pool,  NULL, params = params)\n",
    "\n",
    "preds_cad_train <- catboost.predict(catboost_train, val_pool)\n",
    "\n",
    "AUC::auc(AUC::roc(preds_cad_train,basetable_val$Top5)) # Validation set AUC"
   ]
  },
  {
   "cell_type": "code",
   "execution_count": null,
   "id": "9e1e2b59",
   "metadata": {},
   "outputs": [],
   "source": [
    "# now for test set\n",
    "big_pool <- catboost.load_pool(data = data.matrix(basetable[,-(40:44)]), \n",
    "                                 label = as.numeric(as.character(basetable$Top5)))\n",
    "test_pool <- catboost.load_pool(data = data.matrix(basetable_test[,-(40:44)]), \n",
    "                               label = as.numeric(as.character(basetable_test$Top5)))\n",
    "\n",
    "catboost_test <- catboost.train(big_pool,  NULL, params = params)\n",
    "\n",
    "preds_cad_test <- catboost.predict(catboost_test, test_pool)\n",
    "\n",
    "AUC::auc(AUC::roc(preds_cad_test,basetable_test$Top5)) # Test set AUC"
   ]
  },
  {
   "cell_type": "code",
   "execution_count": null,
   "id": "3c54c2d8",
   "metadata": {},
   "outputs": [],
   "source": [
    "# check accuracy\n",
    "res <-ifelse(preds_cad_test>=0.5,1,0)\n",
    "true_outcome <- basetable_test$Top5\n",
    "\n",
    "\n",
    "confusionMatrix(as.factor(res), as.factor(true_outcome))[[2]]\n",
    "TN =(confusionMatrix(as.factor(res), as.factor(true_outcome)))[[2]][1,1]\n",
    "TP = (confusionMatrix(as.factor(res), as.factor(true_outcome)))[[2]][2,2]\n",
    "FN = (confusionMatrix(as.factor(res), as.factor(true_outcome)))[[2]][1,2]\n",
    "FP = (confusionMatrix(as.factor(res), as.factor(true_outcome)))[[2]][2,1]\n",
    "\n",
    "accuracy = (TP+TN)/(TP+FP+TN+FN)\n",
    "recall = TP/(TP+FN)\n",
    "precision = TP/(TP+FP)\n",
    "accuracy"
   ]
  },
  {
   "cell_type": "markdown",
   "id": "07836451",
   "metadata": {},
   "source": [
    "# Heterogenous ensemble\n"
   ]
  },
  {
   "cell_type": "code",
   "execution_count": null,
   "id": "1b77d402",
   "metadata": {},
   "outputs": [],
   "source": [
    "## Heterogenous ensemble\n",
    "\n",
    "finalpredictions <- (auc_RoF/(auc_RoF + auc_cat)) * pred_RoF_test + (auc_cat/(auc_RoF + auc_cat)) * preds_cad_test\n",
    "\n",
    "AUC::auc(AUC::roc(finalpredictions, basetable_test$Top5))"
   ]
  },
  {
   "cell_type": "code",
   "execution_count": null,
   "id": "50ba6d0e",
   "metadata": {},
   "outputs": [],
   "source": [
    "# accuracy\n",
    "res <-ifelse(finalpredictions>=0.5,1,0)\n",
    "true_outcome <- basetable_test$Top5\n",
    "\n",
    "\n",
    "confusionMatrix(as.factor(res), as.factor(true_outcome))[[2]]\n",
    "TN =(confusionMatrix(as.factor(res), as.factor(true_outcome)))[[2]][1,1]\n",
    "TP = (confusionMatrix(as.factor(res), as.factor(true_outcome)))[[2]][2,2]\n",
    "FN = (confusionMatrix(as.factor(res), as.factor(true_outcome)))[[2]][1,2]\n",
    "FP = (confusionMatrix(as.factor(res), as.factor(true_outcome)))[[2]][2,1]\n",
    "\n",
    "accuracy = (TP+TN)/(TP+FP+TN+FN)\n",
    "recall = TP/(TP+FN)\n",
    "precision = TP/(TP+FP)\n",
    "accuracy"
   ]
  }
 ],
 "metadata": {
  "hide_input": false,
  "kernelspec": {
   "display_name": "R",
   "language": "R",
   "name": "ir"
  },
  "language_info": {
   "codemirror_mode": "r",
   "file_extension": ".r",
   "mimetype": "text/x-r-source",
   "name": "R",
   "pygments_lexer": "r",
   "version": "3.6.1"
  }
 },
 "nbformat": 4,
 "nbformat_minor": 5
}
