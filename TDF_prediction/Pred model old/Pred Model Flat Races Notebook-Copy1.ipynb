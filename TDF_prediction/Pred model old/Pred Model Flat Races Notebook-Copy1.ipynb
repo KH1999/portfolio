{
 "cells": [
  {
   "cell_type": "code",
   "execution_count": 1,
   "id": "a79d6c53",
   "metadata": {
    "vscode": {
     "languageId": "r"
    }
   },
   "outputs": [
    {
     "name": "stderr",
     "output_type": "stream",
     "text": [
      "also installing the dependency 'jsonlite'\n",
      "\n",
      "Warning message:\n",
      "\"unable to access index for repository http://www.stats.ox.ac.uk/pub/RWin/bin/windows/contrib/3.6:\n",
      "  cannot open URL 'http://www.stats.ox.ac.uk/pub/RWin/bin/windows/contrib/3.6/PACKAGES'\""
     ]
    },
    {
     "name": "stdout",
     "output_type": "stream",
     "text": [
      "\n",
      "  There is a binary version available but the source version is later:\n",
      "         binary source needs_compilation\n",
      "jsonlite  1.7.2  1.8.0              TRUE\n",
      "\n",
      "  Binaries will be installed\n",
      "package 'jsonlite' successfully unpacked and MD5 sums checked\n"
     ]
    },
    {
     "name": "stderr",
     "output_type": "stream",
     "text": [
      "Warning message:\n",
      "\"cannot remove prior installation of package 'jsonlite'\"Warning message in file.copy(savedcopy, lib, recursive = TRUE):\n",
      "\"problem copying C:\\Users\\jordy\\anaconda3\\envs\\R2\\Lib\\R\\library\\00LOCK\\jsonlite\\libs\\x64\\jsonlite.dll to C:\\Users\\jordy\\anaconda3\\envs\\R2\\Lib\\R\\library\\jsonlite\\libs\\x64\\jsonlite.dll: Permission denied\"Warning message:\n",
      "\"restored 'jsonlite'\""
     ]
    },
    {
     "name": "stdout",
     "output_type": "stream",
     "text": [
      "package 'tidyverse' successfully unpacked and MD5 sums checked\n",
      "\n",
      "The downloaded binary packages are in\n",
      "\tC:\\Users\\jordy\\AppData\\Local\\Temp\\Rtmpwj34Gh\\downloaded_packages\n"
     ]
    },
    {
     "name": "stderr",
     "output_type": "stream",
     "text": [
      "\n",
      "tidyverse installed\n",
      "Warning message:\n",
      "\"package 'tidyverse' was built under R version 3.6.3\"Warning message in p_load(lubridate, AUC, tidyverse, magrittr, dplyr, tidyr, rlist, :\n",
      "\"Failed to install/load:\n",
      "tidyverse\""
     ]
    }
   ],
   "source": [
    "library(pacman)\n",
    "p_load(lubridate, AUC, tidyverse,magrittr, dplyr, tidyr,rlist,dummy , e1071, ROSE , rotationForest, xgboost, Boruta, varSelRF)"
   ]
  },
  {
   "cell_type": "code",
   "execution_count": 2,
   "id": "070d509d",
   "metadata": {
    "vscode": {
     "languageId": "r"
    }
   },
   "outputs": [],
   "source": [
    "p_load(caret)\n",
    "\n",
    "p_load(FNN)\n",
    "\n",
    "p_load(randomForest)\n",
    "\n",
    "options(repr.matrix.max.cols=1000, repr.matrix.max.rows=1000)"
   ]
  },
  {
   "cell_type": "code",
   "execution_count": 3,
   "id": "e2e2b666",
   "metadata": {
    "vscode": {
     "languageId": "r"
    }
   },
   "outputs": [],
   "source": [
    "p_load(ranger)"
   ]
  },
  {
   "cell_type": "code",
   "execution_count": 4,
   "id": "8b99323a",
   "metadata": {},
   "outputs": [],
   "source": [
    "p_load(ada)\n",
    "p_load(remotes)"
   ]
  },
  {
   "cell_type": "markdown",
   "id": "b3088e99",
   "metadata": {},
   "source": [
    "# Building basetable"
   ]
  },
  {
   "cell_type": "code",
   "execution_count": 5,
   "id": "39abb9b3",
   "metadata": {
    "vscode": {
     "languageId": "r"
    }
   },
   "outputs": [
    {
     "data": {
      "text/html": [
       "<table>\n",
       "<thead><tr><th scope=col>Pos</th><th scope=col>Rider</th><th scope=col>Team</th><th scope=col>Time</th><th scope=col>Rider_ID</th><th scope=col>Rider_Country</th><th scope=col>Team_ID</th><th scope=col>Year</th><th scope=col>Stage</th><th scope=col>UCI</th><th scope=col>ID</th><th scope=col>Family.Name</th><th scope=col>Given.Name</th><th scope=col>Name</th><th scope=col>Region</th><th scope=col>Birthday</th><th scope=col>Popularity</th><th scope=col>Size</th><th scope=col>Weight</th><th scope=col>FLAT</th><th scope=col>MOUNTAIN</th><th scope=col>DOWNHILL</th><th scope=col>COBBLES</th><th scope=col>TT</th><th scope=col>PROLOGUE</th><th scope=col>SPRINT</th><th scope=col>ACCELERATION</th><th scope=col>ENDURANCE</th><th scope=col>RESISTANCE</th><th scope=col>RECUP</th><th scope=col>HILL</th><th scope=col>ATTACK</th><th scope=col>Stage.Type</th><th scope=col>Race</th><th scope=col>gene_sz_firstlastname</th><th scope=col>gene_f_popularity_max</th><th scope=col>value_i_rank_voted</th><th scope=col>value_i_potentiel</th><th scope=col>fkIDrace</th><th scope=col>fkIDcyclist_state</th><th scope=col>fkIDtype_rider</th><th scope=col>fkIDinjury</th><th scope=col>fkIDtga_skin</th><th scope=col>prerace_i_cyclist</th><th scope=col>race_b_withdrawal</th><th scope=col>fkIDstaff_physician</th><th scope=col>fkIDstaff_trainer</th><th scope=col>limit_i_plain</th><th scope=col>limit_i_mountain</th><th scope=col>limit_i_downhilling</th><th scope=col>limit_i_cobble</th><th scope=col>limit_i_timetrial</th><th scope=col>limit_i_prologue</th><th scope=col>limit_i_sprint</th><th scope=col>limit_i_acceleration</th><th scope=col>limit_i_endurance</th><th scope=col>limit_i_resistance</th><th scope=col>limit_i_recuperation</th><th scope=col>limit_i_hill</th><th scope=col>limit_i_baroudeur</th><th scope=col>fitness_i_handicap</th><th scope=col>gene_b_selected_in_roster</th><th scope=col>gene_b_will_retire</th><th scope=col>fkIDtraining_camp</th><th scope=col>gene_i_dossard</th><th scope=col>gene_i_champion_bit</th><th scope=col>gene_b_nominated</th><th scope=col>CONSTANT</th><th scope=col>gene_sz_soundname</th><th scope=col>fkIDstate_roster</th><th scope=col>gene_b_inshortlist</th><th scope=col>gene_i_date_last_breakaway</th><th scope=col>gene_i_date_last_punchers</th><th scope=col>gene_ilist_fkIDfavorite_races</th><th scope=col>gene_i_year_progression</th><th scope=col>gene_i_day_progression</th></tr></thead>\n",
       "<tbody>\n",
       "\t<tr><td>1                             </td><td>cavendish mark                </td><td>Sky ProCycling                </td><td>04:53:12                      </td><td>  14                          </td><td>GBR                           </td><td>44                            </td><td>2012                          </td><td>2                             </td><td>NA                            </td><td>1008                          </td><td>Cavendish                     </td><td>Mark                          </td><td>M.Cavendish                   </td><td>1801                          </td><td>19850521                      </td><td>82                            </td><td>175                           </td><td>69                            </td><td>78                            </td><td>57                            </td><td>70                            </td><td>67                            </td><td>63                            </td><td>73                            </td><td>83                            </td><td>83                            </td><td>76                            </td><td>75                            </td><td>76                            </td><td>66                            </td><td>59                            </td><td>Flat                          </td><td>Giro                          </td><td>M.Cavendish                   </td><td>0                             </td><td>0                             </td><td>7                             </td><td>0                             </td><td>3                             </td><td>0                             </td><td>0                             </td><td>114                           </td><td>0                             </td><td>0                             </td><td>0                             </td><td>0                             </td><td>0                             </td><td>0                             </td><td>0                             </td><td>0                             </td><td>0                             </td><td>0                             </td><td>0                             </td><td>0                             </td><td>0                             </td><td>0                             </td><td>0                             </td><td>0                             </td><td>0                             </td><td>0                             </td><td>0                             </td><td>0                             </td><td>0                             </td><td>0                             </td><td>-128                          </td><td>0                             </td><td>                              </td><td>Cavendish                     </td><td>0                             </td><td>0                             </td><td>0                             </td><td>0                             </td><td>25|77|175                     </td><td>0                             </td><td>0                             </td></tr>\n",
       "\t<tr><td>2                             </td><td>goss matthew                  </td><td>Orica - GreenEDGE             </td><td>+ 00                          </td><td> 512                          </td><td>AUS                           </td><td> 6                            </td><td>2012                          </td><td>2                             </td><td>NA                            </td><td> 289                          </td><td>Goss                          </td><td>Matthew Harley                </td><td>M.Goss                        </td><td>2001                          </td><td>19861105                      </td><td>46                            </td><td>177                           </td><td>70                            </td><td>75                            </td><td>61                            </td><td>69                            </td><td>69                            </td><td>66                            </td><td>67                            </td><td>78                            </td><td>78                            </td><td>74                            </td><td>73                            </td><td>70                            </td><td>73                            </td><td>67                            </td><td>Flat                          </td><td>Giro                          </td><td>M.Goss                        </td><td>0                             </td><td>0                             </td><td>6                             </td><td>0                             </td><td>3                             </td><td>0                             </td><td>0                             </td><td> 88                           </td><td>0                             </td><td>0                             </td><td>0                             </td><td>0                             </td><td>0                             </td><td>0                             </td><td>0                             </td><td>0                             </td><td>0                             </td><td>0                             </td><td>0                             </td><td>0                             </td><td>0                             </td><td>0                             </td><td>0                             </td><td>0                             </td><td>0                             </td><td>0                             </td><td>0                             </td><td>0                             </td><td>0                             </td><td>0                             </td><td>   0                          </td><td>0                             </td><td>                              </td><td>                              </td><td>0                             </td><td>0                             </td><td>0                             </td><td>0                             </td><td>                              </td><td>0                             </td><td>0                             </td></tr>\n",
       "\t<tr><td>3                             </td><td>soupe geoffrey                </td><td>FDJ - BigMat                  </td><td>+ 00                          </td><td>2326                          </td><td>FRA                           </td><td> 9                            </td><td>2012                          </td><td>2                             </td><td>NA                            </td><td>2252                          </td><td>Soupe                         </td><td>Geoffrey                      </td><td>G.Soupe                       </td><td> 322                          </td><td>19880322                      </td><td> 9                            </td><td>177                           </td><td>68                            </td><td>67                            </td><td>55                            </td><td>64                            </td><td>58                            </td><td>65                            </td><td>65                            </td><td>65                            </td><td>67                            </td><td>65                            </td><td>65                            </td><td>62                            </td><td>63                            </td><td>68                            </td><td>Flat                          </td><td>Giro                          </td><td>G.Soupe                       </td><td>0                             </td><td>0                             </td><td>4                             </td><td>0                             </td><td>3                             </td><td>0                             </td><td>0                             </td><td>  0                           </td><td>0                             </td><td>0                             </td><td>0                             </td><td>0                             </td><td>0                             </td><td>0                             </td><td>0                             </td><td>0                             </td><td>0                             </td><td>0                             </td><td>0                             </td><td>0                             </td><td>0                             </td><td>0                             </td><td>0                             </td><td>0                             </td><td>0                             </td><td>0                             </td><td>0                             </td><td>0                             </td><td>0                             </td><td>0                             </td><td>   0                          </td><td>0                             </td><td>                              </td><td>                              </td><td>0                             </td><td>0                             </td><td>0                             </td><td>0                             </td><td>                              </td><td>0                             </td><td>0                             </td></tr>\n",
       "\t<tr><td>4                             </td><td>farrar tyler                  </td><td>Garmin - Sharp                </td><td>+ 00                          </td><td>  53                          </td><td>USA                           </td><td>10                            </td><td>2012                          </td><td>2                             </td><td>NA                            </td><td> 423                          </td><td>Farrar                        </td><td>Tyler                         </td><td>T.Farrar                      </td><td> 601                          </td><td>19840602                      </td><td>70                            </td><td>183                           </td><td>74                            </td><td>77                            </td><td>58                            </td><td>71                            </td><td>72                            </td><td>70                            </td><td>78                            </td><td>82                            </td><td>79                            </td><td>75                            </td><td>72                            </td><td>75                            </td><td>67                            </td><td>62                            </td><td>Flat                          </td><td>Giro                          </td><td>T.Farrar                      </td><td>0                             </td><td>0                             </td><td>6                             </td><td>0                             </td><td>3                             </td><td>0                             </td><td>0                             </td><td> 98                           </td><td>0                             </td><td>0                             </td><td>0                             </td><td>0                             </td><td>0                             </td><td>0                             </td><td>0                             </td><td>0                             </td><td>0                             </td><td>0                             </td><td>0                             </td><td>0                             </td><td>0                             </td><td>0                             </td><td>0                             </td><td>0                             </td><td>0                             </td><td>0                             </td><td>0                             </td><td>0                             </td><td>0                             </td><td>0                             </td><td>   0                          </td><td>0                             </td><td>                              </td><td>                              </td><td>0                             </td><td>0                             </td><td>0                             </td><td>0                             </td><td>25|13|135                     </td><td>0                             </td><td>0                             </td></tr>\n",
       "\t<tr><td>5                             </td><td>ferrari roberto               </td><td>Androni Giocattoli - Venezuela</td><td>+ 00                          </td><td>2144                          </td><td>ITA                           </td><td>23                            </td><td>2012                          </td><td>2                             </td><td>NA                            </td><td>1075                          </td><td>Ferrari                       </td><td>Roberto                       </td><td>R.Ferrari                     </td><td> 204                          </td><td>19830309                      </td><td>26                            </td><td>173                           </td><td>70                            </td><td>70                            </td><td>60                            </td><td>67                            </td><td>58                            </td><td>61                            </td><td>63                            </td><td>75                            </td><td>73                            </td><td>67                            </td><td>67                            </td><td>65                            </td><td>66                            </td><td>63                            </td><td>Flat                          </td><td>Giro                          </td><td>R.Ferrari                     </td><td>0                             </td><td>0                             </td><td>5                             </td><td>0                             </td><td>3                             </td><td>0                             </td><td>0                             </td><td>  0                           </td><td>0                             </td><td>0                             </td><td>0                             </td><td>0                             </td><td>0                             </td><td>0                             </td><td>0                             </td><td>0                             </td><td>0                             </td><td>0                             </td><td>0                             </td><td>0                             </td><td>0                             </td><td>0                             </td><td>0                             </td><td>0                             </td><td>0                             </td><td>0                             </td><td>0                             </td><td>0                             </td><td>0                             </td><td>0                             </td><td>   0                          </td><td>0                             </td><td>                              </td><td>                              </td><td>0                             </td><td>0                             </td><td>0                             </td><td>0                             </td><td>                              </td><td>0                             </td><td>0                             </td></tr>\n",
       "\t<tr><td>6                             </td><td>renshaw mark                  </td><td>Rabobank                      </td><td>+ 00                          </td><td>  97                          </td><td>AUS                           </td><td>14                            </td><td>2012                          </td><td>2                             </td><td>NA                            </td><td>1872                          </td><td>Renshaw                       </td><td>Mark                          </td><td>M.Renshaw                     </td><td>2001                          </td><td>19821022                      </td><td>49                            </td><td>179                           </td><td>73                            </td><td>75                            </td><td>54                            </td><td>64                            </td><td>62                            </td><td>65                            </td><td>71                            </td><td>77                            </td><td>78                            </td><td>67                            </td><td>68                            </td><td>70                            </td><td>65                            </td><td>56                            </td><td>Flat                          </td><td>Giro                          </td><td>M.Renshaw                     </td><td>0                             </td><td>0                             </td><td>5                             </td><td>0                             </td><td>3                             </td><td>0                             </td><td>0                             </td><td>  0                           </td><td>0                             </td><td>0                             </td><td>0                             </td><td>0                             </td><td>0                             </td><td>0                             </td><td>0                             </td><td>0                             </td><td>0                             </td><td>0                             </td><td>0                             </td><td>0                             </td><td>0                             </td><td>0                             </td><td>0                             </td><td>0                             </td><td>0                             </td><td>0                             </td><td>0                             </td><td>0                             </td><td>0                             </td><td>0                             </td><td>   0                          </td><td>0                             </td><td>                              </td><td>                              </td><td>0                             </td><td>0                             </td><td>0                             </td><td>0                             </td><td>                              </td><td>0                             </td><td>0                             </td></tr>\n",
       "</tbody>\n",
       "</table>\n"
      ],
      "text/latex": [
       "\\begin{tabular}{r|llllllllllllllllllllllllllllllllllllllllllllllllllllllllllllllllllllllllllll}\n",
       " Pos & Rider & Team & Time & Rider\\_ID & Rider\\_Country & Team\\_ID & Year & Stage & UCI & ID & Family.Name & Given.Name & Name & Region & Birthday & Popularity & Size & Weight & FLAT & MOUNTAIN & DOWNHILL & COBBLES & TT & PROLOGUE & SPRINT & ACCELERATION & ENDURANCE & RESISTANCE & RECUP & HILL & ATTACK & Stage.Type & Race & gene\\_sz\\_firstlastname & gene\\_f\\_popularity\\_max & value\\_i\\_rank\\_voted & value\\_i\\_potentiel & fkIDrace & fkIDcyclist\\_state & fkIDtype\\_rider & fkIDinjury & fkIDtga\\_skin & prerace\\_i\\_cyclist & race\\_b\\_withdrawal & fkIDstaff\\_physician & fkIDstaff\\_trainer & limit\\_i\\_plain & limit\\_i\\_mountain & limit\\_i\\_downhilling & limit\\_i\\_cobble & limit\\_i\\_timetrial & limit\\_i\\_prologue & limit\\_i\\_sprint & limit\\_i\\_acceleration & limit\\_i\\_endurance & limit\\_i\\_resistance & limit\\_i\\_recuperation & limit\\_i\\_hill & limit\\_i\\_baroudeur & fitness\\_i\\_handicap & gene\\_b\\_selected\\_in\\_roster & gene\\_b\\_will\\_retire & fkIDtraining\\_camp & gene\\_i\\_dossard & gene\\_i\\_champion\\_bit & gene\\_b\\_nominated & CONSTANT & gene\\_sz\\_soundname & fkIDstate\\_roster & gene\\_b\\_inshortlist & gene\\_i\\_date\\_last\\_breakaway & gene\\_i\\_date\\_last\\_punchers & gene\\_ilist\\_fkIDfavorite\\_races & gene\\_i\\_year\\_progression & gene\\_i\\_day\\_progression\\\\\n",
       "\\hline\n",
       "\t 1                              & cavendish mark                 & Sky ProCycling                 & 04:53:12                       &   14                           & GBR                            & 44                             & 2012                           & 2                              & NA                             & 1008                           & Cavendish                      & Mark                           & M.Cavendish                    & 1801                           & 19850521                       & 82                             & 175                            & 69                             & 78                             & 57                             & 70                             & 67                             & 63                             & 73                             & 83                             & 83                             & 76                             & 75                             & 76                             & 66                             & 59                             & Flat                           & Giro                           & M.Cavendish                    & 0                              & 0                              & 7                              & 0                              & 3                              & 0                              & 0                              & 114                            & 0                              & 0                              & 0                              & 0                              & 0                              & 0                              & 0                              & 0                              & 0                              & 0                              & 0                              & 0                              & 0                              & 0                              & 0                              & 0                              & 0                              & 0                              & 0                              & 0                              & 0                              & 0                              & -128                           & 0                              &                                & Cavendish                      & 0                              & 0                              & 0                              & 0                              & 25\\textbar{}77\\textbar{}175  & 0                              & 0                             \\\\\n",
       "\t 2                              & goss matthew                   & Orica - GreenEDGE              & + 00                           &  512                           & AUS                            &  6                             & 2012                           & 2                              & NA                             &  289                           & Goss                           & Matthew Harley                 & M.Goss                         & 2001                           & 19861105                       & 46                             & 177                            & 70                             & 75                             & 61                             & 69                             & 69                             & 66                             & 67                             & 78                             & 78                             & 74                             & 73                             & 70                             & 73                             & 67                             & Flat                           & Giro                           & M.Goss                         & 0                              & 0                              & 6                              & 0                              & 3                              & 0                              & 0                              &  88                            & 0                              & 0                              & 0                              & 0                              & 0                              & 0                              & 0                              & 0                              & 0                              & 0                              & 0                              & 0                              & 0                              & 0                              & 0                              & 0                              & 0                              & 0                              & 0                              & 0                              & 0                              & 0                              &    0                           & 0                              &                                &                                & 0                              & 0                              & 0                              & 0                              &                                & 0                              & 0                             \\\\\n",
       "\t 3                              & soupe geoffrey                 & FDJ - BigMat                   & + 00                           & 2326                           & FRA                            &  9                             & 2012                           & 2                              & NA                             & 2252                           & Soupe                          & Geoffrey                       & G.Soupe                        &  322                           & 19880322                       &  9                             & 177                            & 68                             & 67                             & 55                             & 64                             & 58                             & 65                             & 65                             & 65                             & 67                             & 65                             & 65                             & 62                             & 63                             & 68                             & Flat                           & Giro                           & G.Soupe                        & 0                              & 0                              & 4                              & 0                              & 3                              & 0                              & 0                              &   0                            & 0                              & 0                              & 0                              & 0                              & 0                              & 0                              & 0                              & 0                              & 0                              & 0                              & 0                              & 0                              & 0                              & 0                              & 0                              & 0                              & 0                              & 0                              & 0                              & 0                              & 0                              & 0                              &    0                           & 0                              &                                &                                & 0                              & 0                              & 0                              & 0                              &                                & 0                              & 0                             \\\\\n",
       "\t 4                              & farrar tyler                   & Garmin - Sharp                 & + 00                           &   53                           & USA                            & 10                             & 2012                           & 2                              & NA                             &  423                           & Farrar                         & Tyler                          & T.Farrar                       &  601                           & 19840602                       & 70                             & 183                            & 74                             & 77                             & 58                             & 71                             & 72                             & 70                             & 78                             & 82                             & 79                             & 75                             & 72                             & 75                             & 67                             & 62                             & Flat                           & Giro                           & T.Farrar                       & 0                              & 0                              & 6                              & 0                              & 3                              & 0                              & 0                              &  98                            & 0                              & 0                              & 0                              & 0                              & 0                              & 0                              & 0                              & 0                              & 0                              & 0                              & 0                              & 0                              & 0                              & 0                              & 0                              & 0                              & 0                              & 0                              & 0                              & 0                              & 0                              & 0                              &    0                           & 0                              &                                &                                & 0                              & 0                              & 0                              & 0                              & 25\\textbar{}13\\textbar{}135  & 0                              & 0                             \\\\\n",
       "\t 5                              & ferrari roberto                & Androni Giocattoli - Venezuela & + 00                           & 2144                           & ITA                            & 23                             & 2012                           & 2                              & NA                             & 1075                           & Ferrari                        & Roberto                        & R.Ferrari                      &  204                           & 19830309                       & 26                             & 173                            & 70                             & 70                             & 60                             & 67                             & 58                             & 61                             & 63                             & 75                             & 73                             & 67                             & 67                             & 65                             & 66                             & 63                             & Flat                           & Giro                           & R.Ferrari                      & 0                              & 0                              & 5                              & 0                              & 3                              & 0                              & 0                              &   0                            & 0                              & 0                              & 0                              & 0                              & 0                              & 0                              & 0                              & 0                              & 0                              & 0                              & 0                              & 0                              & 0                              & 0                              & 0                              & 0                              & 0                              & 0                              & 0                              & 0                              & 0                              & 0                              &    0                           & 0                              &                                &                                & 0                              & 0                              & 0                              & 0                              &                                & 0                              & 0                             \\\\\n",
       "\t 6                              & renshaw mark                   & Rabobank                       & + 00                           &   97                           & AUS                            & 14                             & 2012                           & 2                              & NA                             & 1872                           & Renshaw                        & Mark                           & M.Renshaw                      & 2001                           & 19821022                       & 49                             & 179                            & 73                             & 75                             & 54                             & 64                             & 62                             & 65                             & 71                             & 77                             & 78                             & 67                             & 68                             & 70                             & 65                             & 56                             & Flat                           & Giro                           & M.Renshaw                      & 0                              & 0                              & 5                              & 0                              & 3                              & 0                              & 0                              &   0                            & 0                              & 0                              & 0                              & 0                              & 0                              & 0                              & 0                              & 0                              & 0                              & 0                              & 0                              & 0                              & 0                              & 0                              & 0                              & 0                              & 0                              & 0                              & 0                              & 0                              & 0                              & 0                              &    0                           & 0                              &                                &                                & 0                              & 0                              & 0                              & 0                              &                                & 0                              & 0                             \\\\\n",
       "\\end{tabular}\n"
      ],
      "text/markdown": [
       "\n",
       "| Pos | Rider | Team | Time | Rider_ID | Rider_Country | Team_ID | Year | Stage | UCI | ID | Family.Name | Given.Name | Name | Region | Birthday | Popularity | Size | Weight | FLAT | MOUNTAIN | DOWNHILL | COBBLES | TT | PROLOGUE | SPRINT | ACCELERATION | ENDURANCE | RESISTANCE | RECUP | HILL | ATTACK | Stage.Type | Race | gene_sz_firstlastname | gene_f_popularity_max | value_i_rank_voted | value_i_potentiel | fkIDrace | fkIDcyclist_state | fkIDtype_rider | fkIDinjury | fkIDtga_skin | prerace_i_cyclist | race_b_withdrawal | fkIDstaff_physician | fkIDstaff_trainer | limit_i_plain | limit_i_mountain | limit_i_downhilling | limit_i_cobble | limit_i_timetrial | limit_i_prologue | limit_i_sprint | limit_i_acceleration | limit_i_endurance | limit_i_resistance | limit_i_recuperation | limit_i_hill | limit_i_baroudeur | fitness_i_handicap | gene_b_selected_in_roster | gene_b_will_retire | fkIDtraining_camp | gene_i_dossard | gene_i_champion_bit | gene_b_nominated | CONSTANT | gene_sz_soundname | fkIDstate_roster | gene_b_inshortlist | gene_i_date_last_breakaway | gene_i_date_last_punchers | gene_ilist_fkIDfavorite_races | gene_i_year_progression | gene_i_day_progression |\n",
       "|---|---|---|---|---|---|---|---|---|---|---|---|---|---|---|---|---|---|---|---|---|---|---|---|---|---|---|---|---|---|---|---|---|---|---|---|---|---|---|---|---|---|---|---|---|---|---|---|---|---|---|---|---|---|---|---|---|---|---|---|---|---|---|---|---|---|---|---|---|---|---|---|---|---|---|---|\n",
       "| 1                              | cavendish mark                 | Sky ProCycling                 | 04:53:12                       |   14                           | GBR                            | 44                             | 2012                           | 2                              | NA                             | 1008                           | Cavendish                      | Mark                           | M.Cavendish                    | 1801                           | 19850521                       | 82                             | 175                            | 69                             | 78                             | 57                             | 70                             | 67                             | 63                             | 73                             | 83                             | 83                             | 76                             | 75                             | 76                             | 66                             | 59                             | Flat                           | Giro                           | M.Cavendish                    | 0                              | 0                              | 7                              | 0                              | 3                              | 0                              | 0                              | 114                            | 0                              | 0                              | 0                              | 0                              | 0                              | 0                              | 0                              | 0                              | 0                              | 0                              | 0                              | 0                              | 0                              | 0                              | 0                              | 0                              | 0                              | 0                              | 0                              | 0                              | 0                              | 0                              | -128                           | 0                              |                                | Cavendish                      | 0                              | 0                              | 0                              | 0                              | 25|77|175                      | 0                              | 0                              |\n",
       "| 2                              | goss matthew                   | Orica - GreenEDGE              | + 00                           |  512                           | AUS                            |  6                             | 2012                           | 2                              | NA                             |  289                           | Goss                           | Matthew Harley                 | M.Goss                         | 2001                           | 19861105                       | 46                             | 177                            | 70                             | 75                             | 61                             | 69                             | 69                             | 66                             | 67                             | 78                             | 78                             | 74                             | 73                             | 70                             | 73                             | 67                             | Flat                           | Giro                           | M.Goss                         | 0                              | 0                              | 6                              | 0                              | 3                              | 0                              | 0                              |  88                            | 0                              | 0                              | 0                              | 0                              | 0                              | 0                              | 0                              | 0                              | 0                              | 0                              | 0                              | 0                              | 0                              | 0                              | 0                              | 0                              | 0                              | 0                              | 0                              | 0                              | 0                              | 0                              |    0                           | 0                              |                                |                                | 0                              | 0                              | 0                              | 0                              |                                | 0                              | 0                              |\n",
       "| 3                              | soupe geoffrey                 | FDJ - BigMat                   | + 00                           | 2326                           | FRA                            |  9                             | 2012                           | 2                              | NA                             | 2252                           | Soupe                          | Geoffrey                       | G.Soupe                        |  322                           | 19880322                       |  9                             | 177                            | 68                             | 67                             | 55                             | 64                             | 58                             | 65                             | 65                             | 65                             | 67                             | 65                             | 65                             | 62                             | 63                             | 68                             | Flat                           | Giro                           | G.Soupe                        | 0                              | 0                              | 4                              | 0                              | 3                              | 0                              | 0                              |   0                            | 0                              | 0                              | 0                              | 0                              | 0                              | 0                              | 0                              | 0                              | 0                              | 0                              | 0                              | 0                              | 0                              | 0                              | 0                              | 0                              | 0                              | 0                              | 0                              | 0                              | 0                              | 0                              |    0                           | 0                              |                                |                                | 0                              | 0                              | 0                              | 0                              |                                | 0                              | 0                              |\n",
       "| 4                              | farrar tyler                   | Garmin - Sharp                 | + 00                           |   53                           | USA                            | 10                             | 2012                           | 2                              | NA                             |  423                           | Farrar                         | Tyler                          | T.Farrar                       |  601                           | 19840602                       | 70                             | 183                            | 74                             | 77                             | 58                             | 71                             | 72                             | 70                             | 78                             | 82                             | 79                             | 75                             | 72                             | 75                             | 67                             | 62                             | Flat                           | Giro                           | T.Farrar                       | 0                              | 0                              | 6                              | 0                              | 3                              | 0                              | 0                              |  98                            | 0                              | 0                              | 0                              | 0                              | 0                              | 0                              | 0                              | 0                              | 0                              | 0                              | 0                              | 0                              | 0                              | 0                              | 0                              | 0                              | 0                              | 0                              | 0                              | 0                              | 0                              | 0                              |    0                           | 0                              |                                |                                | 0                              | 0                              | 0                              | 0                              | 25|13|135                      | 0                              | 0                              |\n",
       "| 5                              | ferrari roberto                | Androni Giocattoli - Venezuela | + 00                           | 2144                           | ITA                            | 23                             | 2012                           | 2                              | NA                             | 1075                           | Ferrari                        | Roberto                        | R.Ferrari                      |  204                           | 19830309                       | 26                             | 173                            | 70                             | 70                             | 60                             | 67                             | 58                             | 61                             | 63                             | 75                             | 73                             | 67                             | 67                             | 65                             | 66                             | 63                             | Flat                           | Giro                           | R.Ferrari                      | 0                              | 0                              | 5                              | 0                              | 3                              | 0                              | 0                              |   0                            | 0                              | 0                              | 0                              | 0                              | 0                              | 0                              | 0                              | 0                              | 0                              | 0                              | 0                              | 0                              | 0                              | 0                              | 0                              | 0                              | 0                              | 0                              | 0                              | 0                              | 0                              | 0                              |    0                           | 0                              |                                |                                | 0                              | 0                              | 0                              | 0                              |                                | 0                              | 0                              |\n",
       "| 6                              | renshaw mark                   | Rabobank                       | + 00                           |   97                           | AUS                            | 14                             | 2012                           | 2                              | NA                             | 1872                           | Renshaw                        | Mark                           | M.Renshaw                      | 2001                           | 19821022                       | 49                             | 179                            | 73                             | 75                             | 54                             | 64                             | 62                             | 65                             | 71                             | 77                             | 78                             | 67                             | 68                             | 70                             | 65                             | 56                             | Flat                           | Giro                           | M.Renshaw                      | 0                              | 0                              | 5                              | 0                              | 3                              | 0                              | 0                              |   0                            | 0                              | 0                              | 0                              | 0                              | 0                              | 0                              | 0                              | 0                              | 0                              | 0                              | 0                              | 0                              | 0                              | 0                              | 0                              | 0                              | 0                              | 0                              | 0                              | 0                              | 0                              | 0                              |    0                           | 0                              |                                |                                | 0                              | 0                              | 0                              | 0                              |                                | 0                              | 0                              |\n",
       "\n"
      ],
      "text/plain": [
       "  Pos Rider           Team                           Time     Rider_ID\n",
       "1 1   cavendish mark  Sky ProCycling                 04:53:12   14    \n",
       "2 2   goss matthew    Orica - GreenEDGE              + 00      512    \n",
       "3 3   soupe geoffrey  FDJ - BigMat                   + 00     2326    \n",
       "4 4   farrar tyler    Garmin - Sharp                 + 00       53    \n",
       "5 5   ferrari roberto Androni Giocattoli - Venezuela + 00     2144    \n",
       "6 6   renshaw mark    Rabobank                       + 00       97    \n",
       "  Rider_Country Team_ID Year Stage UCI ID   Family.Name Given.Name    \n",
       "1 GBR           44      2012 2     NA  1008 Cavendish   Mark          \n",
       "2 AUS            6      2012 2     NA   289 Goss        Matthew Harley\n",
       "3 FRA            9      2012 2     NA  2252 Soupe       Geoffrey      \n",
       "4 USA           10      2012 2     NA   423 Farrar      Tyler         \n",
       "5 ITA           23      2012 2     NA  1075 Ferrari     Roberto       \n",
       "6 AUS           14      2012 2     NA  1872 Renshaw     Mark          \n",
       "  Name        Region Birthday Popularity Size Weight FLAT MOUNTAIN DOWNHILL\n",
       "1 M.Cavendish 1801   19850521 82         175  69     78   57       70      \n",
       "2 M.Goss      2001   19861105 46         177  70     75   61       69      \n",
       "3 G.Soupe      322   19880322  9         177  68     67   55       64      \n",
       "4 T.Farrar     601   19840602 70         183  74     77   58       71      \n",
       "5 R.Ferrari    204   19830309 26         173  70     70   60       67      \n",
       "6 M.Renshaw   2001   19821022 49         179  73     75   54       64      \n",
       "  COBBLES TT PROLOGUE SPRINT ACCELERATION ENDURANCE RESISTANCE RECUP HILL\n",
       "1 67      63 73       83     83           76        75         76    66  \n",
       "2 69      66 67       78     78           74        73         70    73  \n",
       "3 58      65 65       65     67           65        65         62    63  \n",
       "4 72      70 78       82     79           75        72         75    67  \n",
       "5 58      61 63       75     73           67        67         65    66  \n",
       "6 62      65 71       77     78           67        68         70    65  \n",
       "  ATTACK Stage.Type Race gene_sz_firstlastname gene_f_popularity_max\n",
       "1 59     Flat       Giro M.Cavendish           0                    \n",
       "2 67     Flat       Giro M.Goss                0                    \n",
       "3 68     Flat       Giro G.Soupe               0                    \n",
       "4 62     Flat       Giro T.Farrar              0                    \n",
       "5 63     Flat       Giro R.Ferrari             0                    \n",
       "6 56     Flat       Giro M.Renshaw             0                    \n",
       "  value_i_rank_voted value_i_potentiel fkIDrace fkIDcyclist_state\n",
       "1 0                  7                 0        3                \n",
       "2 0                  6                 0        3                \n",
       "3 0                  4                 0        3                \n",
       "4 0                  6                 0        3                \n",
       "5 0                  5                 0        3                \n",
       "6 0                  5                 0        3                \n",
       "  fkIDtype_rider fkIDinjury fkIDtga_skin prerace_i_cyclist race_b_withdrawal\n",
       "1 0              0          114          0                 0                \n",
       "2 0              0           88          0                 0                \n",
       "3 0              0            0          0                 0                \n",
       "4 0              0           98          0                 0                \n",
       "5 0              0            0          0                 0                \n",
       "6 0              0            0          0                 0                \n",
       "  fkIDstaff_physician fkIDstaff_trainer limit_i_plain limit_i_mountain\n",
       "1 0                   0                 0             0               \n",
       "2 0                   0                 0             0               \n",
       "3 0                   0                 0             0               \n",
       "4 0                   0                 0             0               \n",
       "5 0                   0                 0             0               \n",
       "6 0                   0                 0             0               \n",
       "  limit_i_downhilling limit_i_cobble limit_i_timetrial limit_i_prologue\n",
       "1 0                   0              0                 0               \n",
       "2 0                   0              0                 0               \n",
       "3 0                   0              0                 0               \n",
       "4 0                   0              0                 0               \n",
       "5 0                   0              0                 0               \n",
       "6 0                   0              0                 0               \n",
       "  limit_i_sprint limit_i_acceleration limit_i_endurance limit_i_resistance\n",
       "1 0              0                    0                 0                 \n",
       "2 0              0                    0                 0                 \n",
       "3 0              0                    0                 0                 \n",
       "4 0              0                    0                 0                 \n",
       "5 0              0                    0                 0                 \n",
       "6 0              0                    0                 0                 \n",
       "  limit_i_recuperation limit_i_hill limit_i_baroudeur fitness_i_handicap\n",
       "1 0                    0            0                 0                 \n",
       "2 0                    0            0                 0                 \n",
       "3 0                    0            0                 0                 \n",
       "4 0                    0            0                 0                 \n",
       "5 0                    0            0                 0                 \n",
       "6 0                    0            0                 0                 \n",
       "  gene_b_selected_in_roster gene_b_will_retire fkIDtraining_camp gene_i_dossard\n",
       "1 0                         0                  0                 0             \n",
       "2 0                         0                  0                 0             \n",
       "3 0                         0                  0                 0             \n",
       "4 0                         0                  0                 0             \n",
       "5 0                         0                  0                 0             \n",
       "6 0                         0                  0                 0             \n",
       "  gene_i_champion_bit gene_b_nominated CONSTANT gene_sz_soundname\n",
       "1 -128                0                         Cavendish        \n",
       "2    0                0                                          \n",
       "3    0                0                                          \n",
       "4    0                0                                          \n",
       "5    0                0                                          \n",
       "6    0                0                                          \n",
       "  fkIDstate_roster gene_b_inshortlist gene_i_date_last_breakaway\n",
       "1 0                0                  0                         \n",
       "2 0                0                  0                         \n",
       "3 0                0                  0                         \n",
       "4 0                0                  0                         \n",
       "5 0                0                  0                         \n",
       "6 0                0                  0                         \n",
       "  gene_i_date_last_punchers gene_ilist_fkIDfavorite_races\n",
       "1 0                         25|77|175                    \n",
       "2 0                                                      \n",
       "3 0                                                      \n",
       "4 0                         25|13|135                    \n",
       "5 0                                                      \n",
       "6 0                                                      \n",
       "  gene_i_year_progression gene_i_day_progression\n",
       "1 0                       0                     \n",
       "2 0                       0                     \n",
       "3 0                       0                     \n",
       "4 0                       0                     \n",
       "5 0                       0                     \n",
       "6 0                       0                     "
      ]
     },
     "metadata": {},
     "output_type": "display_data"
    }
   ],
   "source": [
    "table = (read.csv(\"Data//Flat_races_final.csv\", sep = \";\"))\n",
    "head(table)"
   ]
  },
  {
   "cell_type": "code",
   "execution_count": 6,
   "id": "a27aa700",
   "metadata": {
    "vscode": {
     "languageId": "r"
    }
   },
   "outputs": [],
   "source": [
    "table_train = table[table$Year<=2016,]"
   ]
  },
  {
   "cell_type": "code",
   "execution_count": 7,
   "id": "373d0b25",
   "metadata": {
    "vscode": {
     "languageId": "r"
    }
   },
   "outputs": [],
   "source": [
    "table_val = table[(table$Year>2016)&(table$Year<2019) ,]"
   ]
  },
  {
   "cell_type": "code",
   "execution_count": 8,
   "id": "132c1585",
   "metadata": {},
   "outputs": [],
   "source": [
    "table_trainandval = table[table$Year<2019,]"
   ]
  },
  {
   "cell_type": "code",
   "execution_count": 9,
   "id": "8ab7d4ab",
   "metadata": {
    "vscode": {
     "languageId": "r"
    }
   },
   "outputs": [],
   "source": [
    "table_test = table[table$Year>=2019,]"
   ]
  },
  {
   "cell_type": "code",
   "execution_count": 10,
   "id": "38f0a0d6",
   "metadata": {
    "scrolled": false,
    "vscode": {
     "languageId": "r"
    }
   },
   "outputs": [
    {
     "name": "stderr",
     "output_type": "stream",
     "text": [
      "`summarise()` has grouped output by 'Race', 'Year'. You can override using the `.groups` argument.\n"
     ]
    }
   ],
   "source": [
    "basetable_train = table_train %>% group_by(Race, Year,Team) %>% summarise(flat_mean = round(mean(FLAT))\n",
    "                                             , mountain_mean = round(mean(MOUNTAIN))\n",
    "                                            , downhill_mean = round(mean(DOWNHILL))\n",
    "                                            ,cobbles_mean = round(mean(COBBLES))\n",
    "                                            ,tt_mean = round(mean(TT)),\n",
    "                                            ,prologue_mean = round(mean(PROLOGUE))\n",
    "                                            ,sprint_mean = round(mean(SPRINT))\n",
    "                                            ,acceleration_mean = round(mean(ACCELERATION))\n",
    "                                            ,endurance_mean = round(mean(ENDURANCE))\n",
    "                                            ,resistance_mean = round(mean(RESISTANCE))\n",
    "                                            ,recup_mean = round(mean(RECUP))\n",
    "                                            ,hill_mean = round(mean(HILL))\n",
    "                                            ,attack_mean = round(mean(ATTACK))\n",
    "                                            \n",
    "                                            ,flat_max = round(max(FLAT))\n",
    "                                            ,mountain_max = round(max(MOUNTAIN))\n",
    "                                            ,downhill_max = round(max(DOWNHILL))\n",
    "                                            ,cobbles_max = round(max(COBBLES))\n",
    "                                            ,tt_max = round(max(TT)),\n",
    "                                            ,prologue_max = round(max(PROLOGUE))\n",
    "                                            ,sprint_max = round(max(SPRINT))\n",
    "                                            ,acceleration_max = round(max(ACCELERATION))\n",
    "                                            ,endurance_max = round(max(ENDURANCE))\n",
    "                                            ,resistance_max = round(max(RESISTANCE))\n",
    "                                            ,recup_max = round(max(RECUP))\n",
    "                                            ,hill_max = round(max(HILL))\n",
    "                                            ,attack_max = round(max(ATTACK))\n",
    "                                            \n",
    "                                            ,flat_min = round(min(FLAT))\n",
    "                                            ,mountain_min = round(min(MOUNTAIN))\n",
    "                                            ,downhill_min = round(min(DOWNHILL))\n",
    "                                            ,cobbles_min = round(min(COBBLES))\n",
    "                                            ,tt_min = round(min(TT)),\n",
    "                                            ,prologue_min = round(min(PROLOGUE))\n",
    "                                            ,sprint_min = round(min(SPRINT))\n",
    "                                            ,acceleration_min = round(min(ACCELERATION))\n",
    "                                            ,endurance_min = round(min(ENDURANCE))\n",
    "                                            ,resistance_min = round(min(RESISTANCE))\n",
    "                                            ,recup_min = round(min(RECUP))\n",
    "                                            ,hill_min = round(min(HILL))\n",
    "                                            ,attack_min = round(min(ATTACK))\n",
    "                                    \n",
    "                                            ,best_position = min(Pos))"
   ]
  },
  {
   "cell_type": "code",
   "execution_count": 11,
   "id": "1d0688d8",
   "metadata": {
    "scrolled": false,
    "vscode": {
     "languageId": "r"
    }
   },
   "outputs": [
    {
     "name": "stderr",
     "output_type": "stream",
     "text": [
      "`summarise()` has grouped output by 'Race', 'Year'. You can override using the `.groups` argument.\n"
     ]
    }
   ],
   "source": [
    "basetable_val = table_val %>% group_by(Race, Year,Team) %>% summarise(flat_mean = round(mean(FLAT))\n",
    "                                             , mountain_mean = round(mean(MOUNTAIN))\n",
    "                                            , downhill_mean = round(mean(DOWNHILL))\n",
    "                                            ,cobbles_mean = round(mean(COBBLES))\n",
    "                                            ,tt_mean = round(mean(TT)),\n",
    "                                            ,prologue_mean = round(mean(PROLOGUE))\n",
    "                                            ,sprint_mean = round(mean(SPRINT))\n",
    "                                            ,acceleration_mean = round(mean(ACCELERATION))\n",
    "                                            ,endurance_mean = round(mean(ENDURANCE))\n",
    "                                            ,resistance_mean = round(mean(RESISTANCE))\n",
    "                                            ,recup_mean = round(mean(RECUP))\n",
    "                                            ,hill_mean = round(mean(HILL))\n",
    "                                            ,attack_mean = round(mean(ATTACK))\n",
    "                                            \n",
    "                                            ,flat_max = round(max(FLAT))\n",
    "                                            ,mountain_max = round(max(MOUNTAIN))\n",
    "                                            ,downhill_max = round(max(DOWNHILL))\n",
    "                                            ,cobbles_max = round(max(COBBLES))\n",
    "                                            ,tt_max = round(max(TT)),\n",
    "                                            ,prologue_max = round(max(PROLOGUE))\n",
    "                                            ,sprint_max = round(max(SPRINT))\n",
    "                                            ,acceleration_max = round(max(ACCELERATION))\n",
    "                                            ,endurance_max = round(max(ENDURANCE))\n",
    "                                            ,resistance_max = round(max(RESISTANCE))\n",
    "                                            ,recup_max = round(max(RECUP))\n",
    "                                            ,hill_max = round(max(HILL))\n",
    "                                            ,attack_max = round(max(ATTACK))\n",
    "                                            \n",
    "                                            ,flat_min = round(min(FLAT))\n",
    "                                            ,mountain_min = round(min(MOUNTAIN))\n",
    "                                            ,downhill_min = round(min(DOWNHILL))\n",
    "                                            ,cobbles_min = round(min(COBBLES))\n",
    "                                            ,tt_min = round(min(TT)),\n",
    "                                            ,prologue_min = round(min(PROLOGUE))\n",
    "                                            ,sprint_min = round(min(SPRINT))\n",
    "                                            ,acceleration_min = round(min(ACCELERATION))\n",
    "                                            ,endurance_min = round(min(ENDURANCE))\n",
    "                                            ,resistance_min = round(min(RESISTANCE))\n",
    "                                            ,recup_min = round(min(RECUP))\n",
    "                                            ,hill_min = round(min(HILL))\n",
    "                                            ,attack_min = round(min(ATTACK))\n",
    "                                    \n",
    "                                            ,best_position = min(Pos))"
   ]
  },
  {
   "cell_type": "code",
   "execution_count": 12,
   "id": "d5ead31a",
   "metadata": {
    "scrolled": false,
    "vscode": {
     "languageId": "r"
    }
   },
   "outputs": [
    {
     "name": "stderr",
     "output_type": "stream",
     "text": [
      "`summarise()` has grouped output by 'Race', 'Year'. You can override using the `.groups` argument.\n"
     ]
    }
   ],
   "source": [
    "basetable_test = table_test %>% group_by(Race, Year,Team) %>% summarise(flat_mean = round(mean(FLAT))\n",
    "                                             , mountain_mean = round(mean(MOUNTAIN))\n",
    "                                            , downhill_mean = round(mean(DOWNHILL))\n",
    "                                            ,cobbles_mean = round(mean(COBBLES))\n",
    "                                            ,tt_mean = round(mean(TT)),\n",
    "                                            ,prologue_mean = round(mean(PROLOGUE))\n",
    "                                            ,sprint_mean = round(mean(SPRINT))\n",
    "                                            ,acceleration_mean = round(mean(ACCELERATION))\n",
    "                                            ,endurance_mean = round(mean(ENDURANCE))\n",
    "                                            ,resistance_mean = round(mean(RESISTANCE))\n",
    "                                            ,recup_mean = round(mean(RECUP))\n",
    "                                            ,hill_mean = round(mean(HILL))\n",
    "                                            ,attack_mean = round(mean(ATTACK))\n",
    "                                            \n",
    "                                            ,flat_max = round(max(FLAT))\n",
    "                                            ,mountain_max = round(max(MOUNTAIN))\n",
    "                                            ,downhill_max = round(max(DOWNHILL))\n",
    "                                            ,cobbles_max = round(max(COBBLES))\n",
    "                                            ,tt_max = round(max(TT)),\n",
    "                                            ,prologue_max = round(max(PROLOGUE))\n",
    "                                            ,sprint_max = round(max(SPRINT))\n",
    "                                            ,acceleration_max = round(max(ACCELERATION))\n",
    "                                            ,endurance_max = round(max(ENDURANCE))\n",
    "                                            ,resistance_max = round(max(RESISTANCE))\n",
    "                                            ,recup_max = round(max(RECUP))\n",
    "                                            ,hill_max = round(max(HILL))\n",
    "                                            ,attack_max = round(max(ATTACK))\n",
    "                                            \n",
    "                                            ,flat_min = round(min(FLAT))\n",
    "                                            ,mountain_min = round(min(MOUNTAIN))\n",
    "                                            ,downhill_min = round(min(DOWNHILL))\n",
    "                                            ,cobbles_min = round(min(COBBLES))\n",
    "                                            ,tt_min = round(min(TT)),\n",
    "                                            ,prologue_min = round(min(PROLOGUE))\n",
    "                                            ,sprint_min = round(min(SPRINT))\n",
    "                                            ,acceleration_min = round(min(ACCELERATION))\n",
    "                                            ,endurance_min = round(min(ENDURANCE))\n",
    "                                            ,resistance_min = round(min(RESISTANCE))\n",
    "                                            ,recup_min = round(min(RECUP))\n",
    "                                            ,hill_min = round(min(HILL))\n",
    "                                            ,attack_min = round(min(ATTACK))\n",
    "                                    \n",
    "                                            ,best_position = min(Pos))"
   ]
  },
  {
   "cell_type": "code",
   "execution_count": 13,
   "id": "c38da091",
   "metadata": {
    "vscode": {
     "languageId": "r"
    }
   },
   "outputs": [
    {
     "name": "stderr",
     "output_type": "stream",
     "text": [
      "`summarise()` has grouped output by 'Race', 'Year'. You can override using the `.groups` argument.\n"
     ]
    }
   ],
   "source": [
    "basetable = table_trainandval %>% group_by(Race, Year,Team) %>% summarise(flat_mean = round(mean(FLAT))\n",
    "                                             , mountain_mean = round(mean(MOUNTAIN))\n",
    "                                            , downhill_mean = round(mean(DOWNHILL))\n",
    "                                            ,cobbles_mean = round(mean(COBBLES))\n",
    "                                            ,tt_mean = round(mean(TT)),\n",
    "                                            ,prologue_mean = round(mean(PROLOGUE))\n",
    "                                            ,sprint_mean = round(mean(SPRINT))\n",
    "                                            ,acceleration_mean = round(mean(ACCELERATION))\n",
    "                                            ,endurance_mean = round(mean(ENDURANCE))\n",
    "                                            ,resistance_mean = round(mean(RESISTANCE))\n",
    "                                            ,recup_mean = round(mean(RECUP))\n",
    "                                            ,hill_mean = round(mean(HILL))\n",
    "                                            ,attack_mean = round(mean(ATTACK))\n",
    "                                            \n",
    "                                            ,flat_max = round(max(FLAT))\n",
    "                                            ,mountain_max = round(max(MOUNTAIN))\n",
    "                                            ,downhill_max = round(max(DOWNHILL))\n",
    "                                            ,cobbles_max = round(max(COBBLES))\n",
    "                                            ,tt_max = round(max(TT)),\n",
    "                                            ,prologue_max = round(max(PROLOGUE))\n",
    "                                            ,sprint_max = round(max(SPRINT))\n",
    "                                            ,acceleration_max = round(max(ACCELERATION))\n",
    "                                            ,endurance_max = round(max(ENDURANCE))\n",
    "                                            ,resistance_max = round(max(RESISTANCE))\n",
    "                                            ,recup_max = round(max(RECUP))\n",
    "                                            ,hill_max = round(max(HILL))\n",
    "                                            ,attack_max = round(max(ATTACK))\n",
    "                                            \n",
    "                                            ,flat_min = round(min(FLAT))\n",
    "                                            ,mountain_min = round(min(MOUNTAIN))\n",
    "                                            ,downhill_min = round(min(DOWNHILL))\n",
    "                                            ,cobbles_min = round(min(COBBLES))\n",
    "                                            ,tt_min = round(min(TT)),\n",
    "                                            ,prologue_min = round(min(PROLOGUE))\n",
    "                                            ,sprint_min = round(min(SPRINT))\n",
    "                                            ,acceleration_min = round(min(ACCELERATION))\n",
    "                                            ,endurance_min = round(min(ENDURANCE))\n",
    "                                            ,resistance_min = round(min(RESISTANCE))\n",
    "                                            ,recup_min = round(min(RECUP))\n",
    "                                            ,hill_min = round(min(HILL))\n",
    "                                            ,attack_min = round(min(ATTACK))\n",
    "                                    \n",
    "                                            ,best_position = min(Pos))"
   ]
  },
  {
   "cell_type": "code",
   "execution_count": 14,
   "id": "e70588ed",
   "metadata": {
    "vscode": {
     "languageId": "r"
    }
   },
   "outputs": [],
   "source": [
    "basetable_train = (basetable_train)%>% drop_na()\n",
    "basetable_val = (basetable_val)%>% drop_na()\n",
    "basetable_test = (basetable_test)%>% drop_na()\n",
    "basetable = (basetable)%>% drop_na()"
   ]
  },
  {
   "cell_type": "code",
   "execution_count": 15,
   "id": "abe9bb32",
   "metadata": {
    "vscode": {
     "languageId": "r"
    }
   },
   "outputs": [],
   "source": [
    "#Training set\n",
    "basetable_train$Top10 = as.factor(ifelse(basetable_train$best_position <=10, 1,0))\n",
    "basetable_train$Top5 = as.factor(ifelse(basetable_train$best_position <=5, 1,0))\n",
    "basetable_train$Top4 = as.factor(ifelse(basetable_train$best_position <=4, 1,0))\n",
    "basetable_train$Top3 = as.factor(ifelse(basetable_train$best_position <=3, 1,0))\n",
    "basetable_train$Top2 = as.factor(ifelse(basetable_train$best_position <=2, 1,0))"
   ]
  },
  {
   "cell_type": "code",
   "execution_count": 16,
   "id": "0ec41eae",
   "metadata": {
    "scrolled": true,
    "vscode": {
     "languageId": "r"
    }
   },
   "outputs": [
    {
     "data": {
      "text/plain": [
       "\n",
       "  0   1 \n",
       " 85 110 "
      ]
     },
     "metadata": {},
     "output_type": "display_data"
    }
   ],
   "source": [
    "table(basetable_train$Top5)"
   ]
  },
  {
   "cell_type": "code",
   "execution_count": 17,
   "id": "96358fee",
   "metadata": {
    "vscode": {
     "languageId": "r"
    }
   },
   "outputs": [],
   "source": [
    "basetable_train$minutes_from_top = NULL\n",
    "basetable_train$best_position = NULL\n",
    "basetable_train$Team = NULL\n",
    "basetable_train$Year = NULL\n",
    "basetable_train$Stage = NULL\n",
    "basetable_train$Team_ID = NULL\n",
    "basetable_train$Race= NULL"
   ]
  },
  {
   "cell_type": "code",
   "execution_count": 18,
   "id": "a027c000",
   "metadata": {
    "vscode": {
     "languageId": "r"
    }
   },
   "outputs": [],
   "source": [
    "#Validation set\n",
    "basetable_val$Top10 = as.factor(ifelse(basetable_val$best_position <=10, 1,0))\n",
    "basetable_val$Top5 = as.factor(ifelse(basetable_val$best_position <=5, 1,0))\n",
    "basetable_val$Top4 = as.factor(ifelse(basetable_val$best_position <=4, 1,0))\n",
    "basetable_val$Top3 = as.factor(ifelse(basetable_val$best_position <=3, 1,0))\n",
    "basetable_val$Top2 = as.factor(ifelse(basetable_val$best_position <=2, 1,0))"
   ]
  },
  {
   "cell_type": "code",
   "execution_count": 19,
   "id": "061fa4e0",
   "metadata": {
    "vscode": {
     "languageId": "r"
    }
   },
   "outputs": [
    {
     "data": {
      "text/plain": [
       "\n",
       " 0  1 \n",
       "33 76 "
      ]
     },
     "metadata": {},
     "output_type": "display_data"
    }
   ],
   "source": [
    "table(basetable_val$Top10)"
   ]
  },
  {
   "cell_type": "code",
   "execution_count": 20,
   "id": "c87236cd",
   "metadata": {
    "vscode": {
     "languageId": "r"
    }
   },
   "outputs": [],
   "source": [
    "\n",
    "basetable_val$minutes_from_top = NULL\n",
    "basetable_val$best_position = NULL\n",
    "basetable_val$Team = NULL\n",
    "basetable_val$Year = NULL\n",
    "basetable_val$Stage = NULL\n",
    "basetable_val$Team_ID = NULL\n",
    "basetable_val$Race= NULL"
   ]
  },
  {
   "cell_type": "code",
   "execution_count": 21,
   "id": "6371367d",
   "metadata": {
    "vscode": {
     "languageId": "r"
    }
   },
   "outputs": [],
   "source": [
    "#Test set\n",
    "basetable_test$Top10 = as.factor(ifelse(basetable_test$best_position <=10, 1,0))\n",
    "basetable_test$Top5 = as.factor(ifelse(basetable_test$best_position <=5, 1,0))\n",
    "basetable_test$Top4 = as.factor(ifelse(basetable_test$best_position <=4, 1,0))\n",
    "basetable_test$Top3 = as.factor(ifelse(basetable_test$best_position <=3, 1,0))\n",
    "basetable_test$Top2 = as.factor(ifelse(basetable_test$best_position <=2, 1,0))"
   ]
  },
  {
   "cell_type": "code",
   "execution_count": 22,
   "id": "ec23ca8b",
   "metadata": {
    "vscode": {
     "languageId": "r"
    }
   },
   "outputs": [
    {
     "data": {
      "text/plain": [
       "\n",
       " 0  1 \n",
       "84 75 "
      ]
     },
     "metadata": {},
     "output_type": "display_data"
    }
   ],
   "source": [
    "table(basetable_test$Top5)"
   ]
  },
  {
   "cell_type": "code",
   "execution_count": 23,
   "id": "2601c355",
   "metadata": {
    "vscode": {
     "languageId": "r"
    }
   },
   "outputs": [],
   "source": [
    "basetable_test$minutes_from_top = NULL\n",
    "basetable_test$best_position = NULL\n",
    "basetable_test$Team = NULL\n",
    "basetable_test$Year = NULL\n",
    "basetable_test$Stage = NULL\n",
    "basetable_test$Team_ID = NULL\n",
    "basetable_test$Race= NULL"
   ]
  },
  {
   "cell_type": "code",
   "execution_count": 24,
   "id": "029fc237",
   "metadata": {
    "vscode": {
     "languageId": "r"
    }
   },
   "outputs": [],
   "source": [
    "basetable$Top10 = as.factor(ifelse(basetable$best_position <=10, 1,0))\n",
    "basetable$Top5 = as.factor(ifelse(basetable$best_position <=5, 1,0))\n",
    "basetable$Top4 = as.factor(ifelse(basetable$best_position <=4, 1,0))\n",
    "basetable$Top3 = as.factor(ifelse(basetable$best_position <=3, 1,0))\n",
    "basetable$Top2 = as.factor(ifelse(basetable$best_position <=2, 1,0))"
   ]
  },
  {
   "cell_type": "code",
   "execution_count": 25,
   "id": "82b1124e",
   "metadata": {
    "vscode": {
     "languageId": "r"
    }
   },
   "outputs": [
    {
     "data": {
      "text/plain": [
       "\n",
       "  0   1 \n",
       "142 162 "
      ]
     },
     "metadata": {},
     "output_type": "display_data"
    }
   ],
   "source": [
    "table(basetable$Top5)"
   ]
  },
  {
   "cell_type": "code",
   "execution_count": 26,
   "id": "95b7db09",
   "metadata": {
    "vscode": {
     "languageId": "r"
    }
   },
   "outputs": [],
   "source": [
    "basetable$minutes_from_top = NULL\n",
    "basetable$best_position = NULL\n",
    "basetable$Team = NULL\n",
    "basetable$Year = NULL\n",
    "basetable$Stage = NULL\n",
    "basetable$Team_ID = NULL\n",
    "basetable$Race= NULL\n",
    "\n",
    "table_train <- basetable_train\n",
    "table_test<- basetable_test\n",
    "table_val <- basetable_val\n",
    "table_trainval = basetable"
   ]
  },
  {
   "cell_type": "markdown",
   "id": "5bade802",
   "metadata": {},
   "source": [
    "# Feature Selection"
   ]
  },
  {
   "cell_type": "markdown",
   "id": "f8d84044",
   "metadata": {},
   "source": [
    "## Variable selection: Boruta & varSelRF"
   ]
  },
  {
   "cell_type": "code",
   "execution_count": 53,
   "id": "df5b3491",
   "metadata": {
    "vscode": {
     "languageId": "r"
    }
   },
   "outputs": [],
   "source": [
    "#Preparing the train and validation tables\n",
    "table_train5 <- table_train\n",
    "table_val5 <- table_val\n",
    "table_test5 <- table_test\n",
    "\n",
    "table_train5$Top10 <- NULL\n",
    "table_train5$Top4 <- NULL\n",
    "table_train5$Top3 <- NULL\n",
    "table_train5$Top2 <- NULL\n",
    "\n",
    "table_val5$Top10 <- NULL\n",
    "table_val5$Top4 <- NULL\n",
    "table_val5$Top3 <- NULL\n",
    "table_val5$Top2 <- NULL\n",
    "\n",
    "table_test5$Top10 <- NULL\n",
    "table_test5$Top4 <- NULL\n",
    "table_test5$Top3 <- NULL\n",
    "table_test5$Top2 <- NULL"
   ]
  },
  {
   "cell_type": "code",
   "execution_count": 54,
   "id": "2d75078c",
   "metadata": {},
   "outputs": [
    {
     "data": {
      "text/html": [
       "<table>\n",
       "<thead><tr><th scope=col>flat_mean</th><th scope=col>mountain_mean</th><th scope=col>downhill_mean</th><th scope=col>cobbles_mean</th><th scope=col>tt_mean</th><th scope=col>prologue_mean</th><th scope=col>sprint_mean</th><th scope=col>acceleration_mean</th><th scope=col>endurance_mean</th><th scope=col>resistance_mean</th><th scope=col>recup_mean</th><th scope=col>hill_mean</th><th scope=col>attack_mean</th><th scope=col>flat_max</th><th scope=col>mountain_max</th><th scope=col>downhill_max</th><th scope=col>cobbles_max</th><th scope=col>tt_max</th><th scope=col>prologue_max</th><th scope=col>sprint_max</th><th scope=col>acceleration_max</th><th scope=col>endurance_max</th><th scope=col>resistance_max</th><th scope=col>recup_max</th><th scope=col>hill_max</th><th scope=col>attack_max</th><th scope=col>flat_min</th><th scope=col>mountain_min</th><th scope=col>downhill_min</th><th scope=col>cobbles_min</th><th scope=col>tt_min</th><th scope=col>prologue_min</th><th scope=col>sprint_min</th><th scope=col>acceleration_min</th><th scope=col>endurance_min</th><th scope=col>resistance_min</th><th scope=col>recup_min</th><th scope=col>hill_min</th><th scope=col>attack_min</th><th scope=col>Top5</th></tr></thead>\n",
       "<tbody>\n",
       "\t<tr><td>67</td><td>68</td><td>67</td><td>57</td><td>62</td><td>64</td><td>64</td><td>68</td><td>67</td><td>67</td><td>67</td><td>68</td><td>68</td><td>71</td><td>78</td><td>78</td><td>61</td><td>68</td><td>69</td><td>75</td><td>74</td><td>72</td><td>74</td><td>75</td><td>75</td><td>73</td><td>64</td><td>58</td><td>61</td><td>54</td><td>58</td><td>61</td><td>56</td><td>61</td><td>63</td><td>64</td><td>63</td><td>65</td><td>61</td><td>1 </td></tr>\n",
       "\t<tr><td>66</td><td>70</td><td>67</td><td>55</td><td>64</td><td>64</td><td>64</td><td>69</td><td>67</td><td>69</td><td>68</td><td>70</td><td>70</td><td>70</td><td>79</td><td>70</td><td>68</td><td>68</td><td>70</td><td>75</td><td>75</td><td>69</td><td>74</td><td>72</td><td>74</td><td>80</td><td>64</td><td>60</td><td>63</td><td>51</td><td>60</td><td>60</td><td>56</td><td>60</td><td>64</td><td>64</td><td>62</td><td>65</td><td>63</td><td>1 </td></tr>\n",
       "\t<tr><td>68</td><td>70</td><td>65</td><td>57</td><td>67</td><td>67</td><td>62</td><td>68</td><td>68</td><td>69</td><td>69</td><td>71</td><td>69</td><td>74</td><td>78</td><td>70</td><td>68</td><td>76</td><td>76</td><td>72</td><td>76</td><td>74</td><td>76</td><td>76</td><td>78</td><td>72</td><td>63</td><td>62</td><td>62</td><td>52</td><td>58</td><td>61</td><td>56</td><td>63</td><td>65</td><td>64</td><td>63</td><td>67</td><td>62</td><td>0 </td></tr>\n",
       "\t<tr><td>70</td><td>67</td><td>68</td><td>61</td><td>67</td><td>68</td><td>64</td><td>69</td><td>69</td><td>69</td><td>67</td><td>70</td><td>72</td><td>80</td><td>75</td><td>81</td><td>81</td><td>77</td><td>79</td><td>79</td><td>77</td><td>77</td><td>76</td><td>78</td><td>75</td><td>78</td><td>65</td><td>59</td><td>63</td><td>53</td><td>58</td><td>59</td><td>56</td><td>62</td><td>66</td><td>64</td><td>62</td><td>64</td><td>64</td><td>0 </td></tr>\n",
       "\t<tr><td>65</td><td>63</td><td>64</td><td>55</td><td>60</td><td>61</td><td>64</td><td>66</td><td>65</td><td>65</td><td>64</td><td>67</td><td>68</td><td>72</td><td>75</td><td>71</td><td>59</td><td>63</td><td>65</td><td>76</td><td>77</td><td>70</td><td>72</td><td>71</td><td>73</td><td>73</td><td>63</td><td>56</td><td>60</td><td>53</td><td>58</td><td>58</td><td>58</td><td>61</td><td>62</td><td>61</td><td>60</td><td>62</td><td>63</td><td>1 </td></tr>\n",
       "\t<tr><td>65</td><td>68</td><td>66</td><td>55</td><td>61</td><td>62</td><td>60</td><td>64</td><td>66</td><td>66</td><td>66</td><td>68</td><td>69</td><td>69</td><td>76</td><td>72</td><td>57</td><td>67</td><td>68</td><td>67</td><td>70</td><td>72</td><td>73</td><td>73</td><td>74</td><td>82</td><td>62</td><td>56</td><td>62</td><td>53</td><td>57</td><td>58</td><td>55</td><td>61</td><td>62</td><td>61</td><td>59</td><td>62</td><td>62</td><td>0 </td></tr>\n",
       "</tbody>\n",
       "</table>\n"
      ],
      "text/latex": [
       "\\begin{tabular}{r|llllllllllllllllllllllllllllllllllllllll}\n",
       " flat\\_mean & mountain\\_mean & downhill\\_mean & cobbles\\_mean & tt\\_mean & prologue\\_mean & sprint\\_mean & acceleration\\_mean & endurance\\_mean & resistance\\_mean & recup\\_mean & hill\\_mean & attack\\_mean & flat\\_max & mountain\\_max & downhill\\_max & cobbles\\_max & tt\\_max & prologue\\_max & sprint\\_max & acceleration\\_max & endurance\\_max & resistance\\_max & recup\\_max & hill\\_max & attack\\_max & flat\\_min & mountain\\_min & downhill\\_min & cobbles\\_min & tt\\_min & prologue\\_min & sprint\\_min & acceleration\\_min & endurance\\_min & resistance\\_min & recup\\_min & hill\\_min & attack\\_min & Top5\\\\\n",
       "\\hline\n",
       "\t 67 & 68 & 67 & 57 & 62 & 64 & 64 & 68 & 67 & 67 & 67 & 68 & 68 & 71 & 78 & 78 & 61 & 68 & 69 & 75 & 74 & 72 & 74 & 75 & 75 & 73 & 64 & 58 & 61 & 54 & 58 & 61 & 56 & 61 & 63 & 64 & 63 & 65 & 61 & 1 \\\\\n",
       "\t 66 & 70 & 67 & 55 & 64 & 64 & 64 & 69 & 67 & 69 & 68 & 70 & 70 & 70 & 79 & 70 & 68 & 68 & 70 & 75 & 75 & 69 & 74 & 72 & 74 & 80 & 64 & 60 & 63 & 51 & 60 & 60 & 56 & 60 & 64 & 64 & 62 & 65 & 63 & 1 \\\\\n",
       "\t 68 & 70 & 65 & 57 & 67 & 67 & 62 & 68 & 68 & 69 & 69 & 71 & 69 & 74 & 78 & 70 & 68 & 76 & 76 & 72 & 76 & 74 & 76 & 76 & 78 & 72 & 63 & 62 & 62 & 52 & 58 & 61 & 56 & 63 & 65 & 64 & 63 & 67 & 62 & 0 \\\\\n",
       "\t 70 & 67 & 68 & 61 & 67 & 68 & 64 & 69 & 69 & 69 & 67 & 70 & 72 & 80 & 75 & 81 & 81 & 77 & 79 & 79 & 77 & 77 & 76 & 78 & 75 & 78 & 65 & 59 & 63 & 53 & 58 & 59 & 56 & 62 & 66 & 64 & 62 & 64 & 64 & 0 \\\\\n",
       "\t 65 & 63 & 64 & 55 & 60 & 61 & 64 & 66 & 65 & 65 & 64 & 67 & 68 & 72 & 75 & 71 & 59 & 63 & 65 & 76 & 77 & 70 & 72 & 71 & 73 & 73 & 63 & 56 & 60 & 53 & 58 & 58 & 58 & 61 & 62 & 61 & 60 & 62 & 63 & 1 \\\\\n",
       "\t 65 & 68 & 66 & 55 & 61 & 62 & 60 & 64 & 66 & 66 & 66 & 68 & 69 & 69 & 76 & 72 & 57 & 67 & 68 & 67 & 70 & 72 & 73 & 73 & 74 & 82 & 62 & 56 & 62 & 53 & 57 & 58 & 55 & 61 & 62 & 61 & 59 & 62 & 62 & 0 \\\\\n",
       "\\end{tabular}\n"
      ],
      "text/markdown": [
       "\n",
       "| flat_mean | mountain_mean | downhill_mean | cobbles_mean | tt_mean | prologue_mean | sprint_mean | acceleration_mean | endurance_mean | resistance_mean | recup_mean | hill_mean | attack_mean | flat_max | mountain_max | downhill_max | cobbles_max | tt_max | prologue_max | sprint_max | acceleration_max | endurance_max | resistance_max | recup_max | hill_max | attack_max | flat_min | mountain_min | downhill_min | cobbles_min | tt_min | prologue_min | sprint_min | acceleration_min | endurance_min | resistance_min | recup_min | hill_min | attack_min | Top5 |\n",
       "|---|---|---|---|---|---|---|---|---|---|---|---|---|---|---|---|---|---|---|---|---|---|---|---|---|---|---|---|---|---|---|---|---|---|---|---|---|---|---|---|\n",
       "| 67 | 68 | 67 | 57 | 62 | 64 | 64 | 68 | 67 | 67 | 67 | 68 | 68 | 71 | 78 | 78 | 61 | 68 | 69 | 75 | 74 | 72 | 74 | 75 | 75 | 73 | 64 | 58 | 61 | 54 | 58 | 61 | 56 | 61 | 63 | 64 | 63 | 65 | 61 | 1  |\n",
       "| 66 | 70 | 67 | 55 | 64 | 64 | 64 | 69 | 67 | 69 | 68 | 70 | 70 | 70 | 79 | 70 | 68 | 68 | 70 | 75 | 75 | 69 | 74 | 72 | 74 | 80 | 64 | 60 | 63 | 51 | 60 | 60 | 56 | 60 | 64 | 64 | 62 | 65 | 63 | 1  |\n",
       "| 68 | 70 | 65 | 57 | 67 | 67 | 62 | 68 | 68 | 69 | 69 | 71 | 69 | 74 | 78 | 70 | 68 | 76 | 76 | 72 | 76 | 74 | 76 | 76 | 78 | 72 | 63 | 62 | 62 | 52 | 58 | 61 | 56 | 63 | 65 | 64 | 63 | 67 | 62 | 0  |\n",
       "| 70 | 67 | 68 | 61 | 67 | 68 | 64 | 69 | 69 | 69 | 67 | 70 | 72 | 80 | 75 | 81 | 81 | 77 | 79 | 79 | 77 | 77 | 76 | 78 | 75 | 78 | 65 | 59 | 63 | 53 | 58 | 59 | 56 | 62 | 66 | 64 | 62 | 64 | 64 | 0  |\n",
       "| 65 | 63 | 64 | 55 | 60 | 61 | 64 | 66 | 65 | 65 | 64 | 67 | 68 | 72 | 75 | 71 | 59 | 63 | 65 | 76 | 77 | 70 | 72 | 71 | 73 | 73 | 63 | 56 | 60 | 53 | 58 | 58 | 58 | 61 | 62 | 61 | 60 | 62 | 63 | 1  |\n",
       "| 65 | 68 | 66 | 55 | 61 | 62 | 60 | 64 | 66 | 66 | 66 | 68 | 69 | 69 | 76 | 72 | 57 | 67 | 68 | 67 | 70 | 72 | 73 | 73 | 74 | 82 | 62 | 56 | 62 | 53 | 57 | 58 | 55 | 61 | 62 | 61 | 59 | 62 | 62 | 0  |\n",
       "\n"
      ],
      "text/plain": [
       "  flat_mean mountain_mean downhill_mean cobbles_mean tt_mean prologue_mean\n",
       "1 67        68            67            57           62      64           \n",
       "2 66        70            67            55           64      64           \n",
       "3 68        70            65            57           67      67           \n",
       "4 70        67            68            61           67      68           \n",
       "5 65        63            64            55           60      61           \n",
       "6 65        68            66            55           61      62           \n",
       "  sprint_mean acceleration_mean endurance_mean resistance_mean recup_mean\n",
       "1 64          68                67             67              67        \n",
       "2 64          69                67             69              68        \n",
       "3 62          68                68             69              69        \n",
       "4 64          69                69             69              67        \n",
       "5 64          66                65             65              64        \n",
       "6 60          64                66             66              66        \n",
       "  hill_mean attack_mean flat_max mountain_max downhill_max cobbles_max tt_max\n",
       "1 68        68          71       78           78           61          68    \n",
       "2 70        70          70       79           70           68          68    \n",
       "3 71        69          74       78           70           68          76    \n",
       "4 70        72          80       75           81           81          77    \n",
       "5 67        68          72       75           71           59          63    \n",
       "6 68        69          69       76           72           57          67    \n",
       "  prologue_max sprint_max acceleration_max endurance_max resistance_max\n",
       "1 69           75         74               72            74            \n",
       "2 70           75         75               69            74            \n",
       "3 76           72         76               74            76            \n",
       "4 79           79         77               77            76            \n",
       "5 65           76         77               70            72            \n",
       "6 68           67         70               72            73            \n",
       "  recup_max hill_max attack_max flat_min mountain_min downhill_min cobbles_min\n",
       "1 75        75       73         64       58           61           54         \n",
       "2 72        74       80         64       60           63           51         \n",
       "3 76        78       72         63       62           62           52         \n",
       "4 78        75       78         65       59           63           53         \n",
       "5 71        73       73         63       56           60           53         \n",
       "6 73        74       82         62       56           62           53         \n",
       "  tt_min prologue_min sprint_min acceleration_min endurance_min resistance_min\n",
       "1 58     61           56         61               63            64            \n",
       "2 60     60           56         60               64            64            \n",
       "3 58     61           56         63               65            64            \n",
       "4 58     59           56         62               66            64            \n",
       "5 58     58           58         61               62            61            \n",
       "6 57     58           55         61               62            61            \n",
       "  recup_min hill_min attack_min Top5\n",
       "1 63        65       61         1   \n",
       "2 62        65       63         1   \n",
       "3 63        67       62         0   \n",
       "4 62        64       64         0   \n",
       "5 60        62       63         1   \n",
       "6 59        62       62         0   "
      ]
     },
     "metadata": {},
     "output_type": "display_data"
    }
   ],
   "source": [
    "head(table_train5)"
   ]
  },
  {
   "cell_type": "code",
   "execution_count": 55,
   "id": "794f327e",
   "metadata": {
    "vscode": {
     "languageId": "r"
    }
   },
   "outputs": [],
   "source": [
    "#Variable selection: Boruta\n",
    "rf_boruta <- Boruta(table_train5[, !names(table_train5) %in% c(\"Top5\")], table_train5$Top5, doTrace = 0, maxRuns = 500)"
   ]
  },
  {
   "cell_type": "code",
   "execution_count": 50,
   "id": "2e85bb4c",
   "metadata": {
    "vscode": {
     "languageId": "r"
    }
   },
   "outputs": [],
   "source": [
    "varsel_boruta <- names(rf_boruta$finalDecision[rf_boruta$finalDecision == \"Confirmed\"])\n",
    "\n",
    "\n",
    "##Variable selection :varSelRF\n",
    "rf_vsrf <- varSelRF(table_train5[, !names(table_train5) %in% c(\"Top5\")], table_train5$Top5, vars.drop.frac = 0.15,  ntree = 350, ntreeIterat = 100)\n",
    "varsel_vsrf <- rf_vsrf$selected.vars"
   ]
  },
  {
   "cell_type": "code",
   "execution_count": 57,
   "id": "a4df9ebc",
   "metadata": {},
   "outputs": [
    {
     "data": {
      "text/html": [
       "'recup_min'"
      ],
      "text/latex": [
       "'recup\\_min'"
      ],
      "text/markdown": [
       "'recup_min'"
      ],
      "text/plain": [
       "[1] \"recup_min\""
      ]
     },
     "metadata": {},
     "output_type": "display_data"
    }
   ],
   "source": [
    "varsel_boruta"
   ]
  },
  {
   "cell_type": "code",
   "execution_count": 58,
   "id": "69ae3396",
   "metadata": {},
   "outputs": [
    {
     "data": {
      "text/plain": [
       "Boruta performed 499 iterations in 19.5519 secs.\n",
       " 9 attributes confirmed important: acceleration_max, endurance_min,\n",
       "hill_max, hill_min, mountain_mean and 4 more;\n",
       " 29 attributes confirmed unimportant: acceleration_mean,\n",
       "acceleration_min, attack_max, attack_mean, attack_min and 24 more;\n",
       " 1 tentative attributes left: recup_min;"
      ]
     },
     "metadata": {},
     "output_type": "display_data"
    }
   ],
   "source": [
    "rf_boruta"
   ]
  },
  {
   "cell_type": "markdown",
   "id": "dec56311",
   "metadata": {},
   "source": [
    "In all models boruta variables perform better"
   ]
  },
  {
   "cell_type": "markdown",
   "id": "d9834799",
   "metadata": {},
   "source": [
    "# Prediction if finish in the top 5"
   ]
  },
  {
   "cell_type": "code",
   "execution_count": 59,
   "id": "e2b94cdd",
   "metadata": {
    "scrolled": true,
    "vscode": {
     "languageId": "r"
    }
   },
   "outputs": [],
   "source": [
    "set.seed(123)\n",
    "train <- basetable_train\n",
    "yTRAIN <- train$Top5\n",
    "train$Top10 = NULL\n",
    "train$Top5 = NULL\n",
    "train$Top4 = NULL\n",
    "train$Top3 = NULL\n",
    "train$Top2 = NULL\n",
    "\n",
    "val <- basetable_val\n",
    "yVAL <- val$Top5\n",
    "val$Top10 = NULL\n",
    "val$Top5 = NULL\n",
    "val$Top4 = NULL\n",
    "val$Top3 = NULL\n",
    "val$Top2 = NULL"
   ]
  },
  {
   "cell_type": "code",
   "execution_count": 60,
   "id": "d46c1aa2",
   "metadata": {},
   "outputs": [],
   "source": [
    "#Boruto performs better\n",
    "train = train[varsel_boruta]\n",
    "val = val[varsel_boruta]"
   ]
  },
  {
   "cell_type": "markdown",
   "id": "fe8779ef",
   "metadata": {},
   "source": [
    "## Ranger"
   ]
  },
  {
   "cell_type": "markdown",
   "id": "dfe2c8fa",
   "metadata": {},
   "source": [
    "### Tuning"
   ]
  },
  {
   "cell_type": "code",
   "execution_count": 61,
   "id": "01ea63a2",
   "metadata": {
    "vscode": {
     "languageId": "r"
    }
   },
   "outputs": [],
   "source": [
    "# hyperparameter grid search\n",
    "hyper_grid <- expand.grid(\n",
    "  num_trees = c(1000),\n",
    "  mtry       = seq(1, 6, by = 1),\n",
    "  node_size  = seq(1, 15, by = 2),\n",
    "  sampe_size = c(.55, .632, .70,0.75,.80) \n",
    ")"
   ]
  },
  {
   "cell_type": "code",
   "execution_count": 62,
   "id": "f9e83f78",
   "metadata": {
    "vscode": {
     "languageId": "r"
    }
   },
   "outputs": [],
   "source": [
    "for(i in 1:nrow(hyper_grid)) {\n",
    "  \n",
    "  # train model\n",
    "  model <- ranger(\n",
    "    x               = train, \n",
    "    y               = yTRAIN, \n",
    "    num.trees       = hyper_grid$num_trees[i],\n",
    "    mtry            = hyper_grid$mtry[i],\n",
    "    min.node.size   = hyper_grid$node_size[i],\n",
    "    sample.fraction = hyper_grid$sampe_size[i],\n",
    "    probability     = TRUE,\n",
    "    seed            = 123\n",
    "  )\n",
    "  predictions =  predict(model,val)$predictions[,2]\n",
    "  auc = AUC::auc(roc(predictions,factor(yVAL)))\n",
    "  hyper_grid$AUC[i] <- auc\n",
    "}"
   ]
  },
  {
   "cell_type": "code",
   "execution_count": 63,
   "id": "2ac2a2ee",
   "metadata": {
    "scrolled": false,
    "vscode": {
     "languageId": "r"
    }
   },
   "outputs": [
    {
     "data": {
      "text/html": [
       "<table>\n",
       "<thead><tr><th></th><th scope=col>num_trees</th><th scope=col>mtry</th><th scope=col>node_size</th><th scope=col>sampe_size</th><th scope=col>AUC</th></tr></thead>\n",
       "<tbody>\n",
       "\t<tr><th scope=row>236</th><td>1000     </td><td>3        </td><td>13       </td><td>0.632    </td><td>0.8782051</td></tr>\n",
       "\t<tr><th scope=row>237</th><td>1000     </td><td>3        </td><td>15       </td><td>0.632    </td><td>0.8782051</td></tr>\n",
       "\t<tr><th scope=row>238</th><td>1000     </td><td>3        </td><td>15       </td><td>0.550    </td><td>0.8788799</td></tr>\n",
       "\t<tr><th scope=row>239</th><td>1000     </td><td>6        </td><td>15       </td><td>0.550    </td><td>0.8792173</td></tr>\n",
       "\t<tr><th scope=row>240</th><td>1000     </td><td>3        </td><td>13       </td><td>0.550    </td><td>0.8809042</td></tr>\n",
       "</tbody>\n",
       "</table>\n"
      ],
      "text/latex": [
       "\\begin{tabular}{r|lllll}\n",
       "  & num\\_trees & mtry & node\\_size & sampe\\_size & AUC\\\\\n",
       "\\hline\n",
       "\t236 & 1000      & 3         & 13        & 0.632     & 0.8782051\\\\\n",
       "\t237 & 1000      & 3         & 15        & 0.632     & 0.8782051\\\\\n",
       "\t238 & 1000      & 3         & 15        & 0.550     & 0.8788799\\\\\n",
       "\t239 & 1000      & 6         & 15        & 0.550     & 0.8792173\\\\\n",
       "\t240 & 1000      & 3         & 13        & 0.550     & 0.8809042\\\\\n",
       "\\end{tabular}\n"
      ],
      "text/markdown": [
       "\n",
       "| <!--/--> | num_trees | mtry | node_size | sampe_size | AUC |\n",
       "|---|---|---|---|---|---|\n",
       "| 236 | 1000      | 3         | 13        | 0.632     | 0.8782051 |\n",
       "| 237 | 1000      | 3         | 15        | 0.632     | 0.8782051 |\n",
       "| 238 | 1000      | 3         | 15        | 0.550     | 0.8788799 |\n",
       "| 239 | 1000      | 6         | 15        | 0.550     | 0.8792173 |\n",
       "| 240 | 1000      | 3         | 13        | 0.550     | 0.8809042 |\n",
       "\n"
      ],
      "text/plain": [
       "    num_trees mtry node_size sampe_size AUC      \n",
       "236 1000      3    13        0.632      0.8782051\n",
       "237 1000      3    15        0.632      0.8782051\n",
       "238 1000      3    15        0.550      0.8788799\n",
       "239 1000      6    15        0.550      0.8792173\n",
       "240 1000      3    13        0.550      0.8809042"
      ]
     },
     "metadata": {},
     "output_type": "display_data"
    }
   ],
   "source": [
    "hyper_grid %>% \n",
    "  dplyr::arrange(AUC) %>%\n",
    "  tail(5)\n"
   ]
  },
  {
   "cell_type": "markdown",
   "id": "6503792d",
   "metadata": {},
   "source": [
    "### Validation"
   ]
  },
  {
   "cell_type": "code",
   "execution_count": 64,
   "id": "371cdcbe",
   "metadata": {
    "vscode": {
     "languageId": "r"
    }
   },
   "outputs": [
    {
     "data": {
      "text/html": [
       "0.868758434547908"
      ],
      "text/latex": [
       "0.868758434547908"
      ],
      "text/markdown": [
       "0.868758434547908"
      ],
      "text/plain": [
       "[1] 0.8687584"
      ]
     },
     "metadata": {},
     "output_type": "display_data"
    }
   ],
   "source": [
    "#No tuning\n",
    "model <- ranger(x=train, y = yTRAIN, num.trees = 1000, probability = TRUE, seed = 123)\n",
    "predictions =  predict(model,val)$predictions[,2]\n",
    "AUC::auc(roc(predictions,factor(yVAL)))"
   ]
  },
  {
   "cell_type": "code",
   "execution_count": 65,
   "id": "804d5b48",
   "metadata": {
    "vscode": {
     "languageId": "r"
    }
   },
   "outputs": [
    {
     "data": {
      "text/html": [
       "0.880904183535762"
      ],
      "text/latex": [
       "0.880904183535762"
      ],
      "text/markdown": [
       "0.880904183535762"
      ],
      "text/plain": [
       "[1] 0.8809042"
      ]
     },
     "metadata": {},
     "output_type": "display_data"
    }
   ],
   "source": [
    "#With tuning\n",
    "model <- ranger(x=train, y = yTRAIN, num.trees = 1000, mtry = 3, min.node.size = 13, sample.fraction = 0.550, probability = TRUE, seed = 123)\n",
    "predictions =  predict(model,val)$predictions[,2]\n",
    "auc = AUC::auc(roc(predictions,factor(yVAL)))\n",
    "AUC::auc(roc(predictions,factor(yVAL)))"
   ]
  },
  {
   "cell_type": "code",
   "execution_count": 66,
   "id": "49384dda",
   "metadata": {
    "vscode": {
     "languageId": "r"
    }
   },
   "outputs": [],
   "source": [
    "res = ifelse(predictions>=0.5,1,0)\n",
    "true_outcome = yVAL"
   ]
  },
  {
   "cell_type": "code",
   "execution_count": 67,
   "id": "6c35f14b",
   "metadata": {
    "scrolled": false,
    "vscode": {
     "languageId": "r"
    }
   },
   "outputs": [
    {
     "data": {
      "text/plain": [
       "          Reference\n",
       "Prediction  0  1\n",
       "         0 44  7\n",
       "         1 13 45"
      ]
     },
     "metadata": {},
     "output_type": "display_data"
    },
    {
     "data": {
      "text/html": [
       "<span style=white-space:pre-wrap>'AUC:  0.880904183535762'</span>"
      ],
      "text/latex": [
       "'AUC:  0.880904183535762'"
      ],
      "text/markdown": [
       "<span style=white-space:pre-wrap>'AUC:  0.880904183535762'</span>"
      ],
      "text/plain": [
       "[1] \"AUC:  0.880904183535762\""
      ]
     },
     "metadata": {},
     "output_type": "display_data"
    },
    {
     "data": {
      "text/html": [
       "<span style=white-space:pre-wrap>'Accuracy:  0.81651376146789'</span>"
      ],
      "text/latex": [
       "'Accuracy:  0.81651376146789'"
      ],
      "text/markdown": [
       "<span style=white-space:pre-wrap>'Accuracy:  0.81651376146789'</span>"
      ],
      "text/plain": [
       "[1] \"Accuracy:  0.81651376146789\""
      ]
     },
     "metadata": {},
     "output_type": "display_data"
    },
    {
     "data": {
      "text/html": [
       "<span style=white-space:pre-wrap>'Recall:  0.865384615384615'</span>"
      ],
      "text/latex": [
       "'Recall:  0.865384615384615'"
      ],
      "text/markdown": [
       "<span style=white-space:pre-wrap>'Recall:  0.865384615384615'</span>"
      ],
      "text/plain": [
       "[1] \"Recall:  0.865384615384615\""
      ]
     },
     "metadata": {},
     "output_type": "display_data"
    },
    {
     "data": {
      "text/html": [
       "<span style=white-space:pre-wrap>'Precision:  0.775862068965517'</span>"
      ],
      "text/latex": [
       "'Precision:  0.775862068965517'"
      ],
      "text/markdown": [
       "<span style=white-space:pre-wrap>'Precision:  0.775862068965517'</span>"
      ],
      "text/plain": [
       "[1] \"Precision:  0.775862068965517\""
      ]
     },
     "metadata": {},
     "output_type": "display_data"
    }
   ],
   "source": [
    "confusionMatrix(as.factor(res), as.factor(true_outcome))[[2]]\n",
    "TN =(confusionMatrix(as.factor(res), as.factor(true_outcome)))[[2]][1,1]\n",
    "TP = (confusionMatrix(as.factor(res), as.factor(true_outcome)))[[2]][2,2]\n",
    "FN = (confusionMatrix(as.factor(res), as.factor(true_outcome)))[[2]][1,2]\n",
    "FP = (confusionMatrix(as.factor(res), as.factor(true_outcome)))[[2]][2,1]\n",
    "\n",
    "accuracy = (TP+TN)/(TP+FP+TN+FN)\n",
    "recall = TP/(TP+FN)\n",
    "precision = TP/(TP+FP)\n",
    "\n",
    "paste(\"AUC: \", auc)\n",
    "paste(\"Accuracy: \", accuracy)\n",
    "paste(\"Recall: \", recall)\n",
    "paste(\"Precision: \", precision)"
   ]
  },
  {
   "cell_type": "markdown",
   "id": "e2f6d393",
   "metadata": {},
   "source": [
    "### Test"
   ]
  },
  {
   "cell_type": "code",
   "execution_count": 70,
   "id": "9f5b6596",
   "metadata": {},
   "outputs": [],
   "source": [
    "set.seed(123)\n",
    "train <- basetable\n",
    "yTRAIN <- train$Top5\n",
    "train$Top10 = NULL\n",
    "train$Top5 = NULL\n",
    "train$Top4 = NULL\n",
    "train$Top3 = NULL\n",
    "train$Top2 = NULL\n",
    "\n",
    "test <- basetable_test\n",
    "yTEST <- test$Top5\n",
    "test$Top10 = NULL\n",
    "test$Top5 = NULL\n",
    "test$Top4 = NULL\n",
    "test$Top3 = NULL\n",
    "test$Top2 = NULL"
   ]
  },
  {
   "cell_type": "code",
   "execution_count": 71,
   "id": "9ece5015",
   "metadata": {},
   "outputs": [],
   "source": [
    "train = train[varsel_boruta]\n",
    "test = test[varsel_boruta]"
   ]
  },
  {
   "cell_type": "code",
   "execution_count": 72,
   "id": "95b6862e",
   "metadata": {},
   "outputs": [
    {
     "data": {
      "text/html": [
       "0.82952380952381"
      ],
      "text/latex": [
       "0.82952380952381"
      ],
      "text/markdown": [
       "0.82952380952381"
      ],
      "text/plain": [
       "[1] 0.8295238"
      ]
     },
     "metadata": {},
     "output_type": "display_data"
    }
   ],
   "source": [
    "model <- ranger(x=train, y = yTRAIN, num.trees = 1000, mtry = 3, min.node.size = 13, sample.fraction = 0.550, probability = TRUE, seed = 123)\n",
    "predictions =  predict(model,test)$predictions[,2]\n",
    "auc = AUC::auc(roc(predictions,factor(yTEST)))\n",
    "AUC::auc(roc(predictions,factor(yTEST)))"
   ]
  },
  {
   "cell_type": "code",
   "execution_count": 73,
   "id": "ae7f4491",
   "metadata": {
    "vscode": {
     "languageId": "r"
    }
   },
   "outputs": [],
   "source": [
    "res = ifelse(predictions>=0.5,1,0)\n",
    "true_outcome = yTEST"
   ]
  },
  {
   "cell_type": "code",
   "execution_count": 74,
   "id": "129a07e0",
   "metadata": {
    "scrolled": true,
    "vscode": {
     "languageId": "r"
    }
   },
   "outputs": [
    {
     "data": {
      "text/plain": [
       "          Reference\n",
       "Prediction  0  1\n",
       "         0 57 13\n",
       "         1 27 62"
      ]
     },
     "metadata": {},
     "output_type": "display_data"
    },
    {
     "data": {
      "text/html": [
       "<span style=white-space:pre-wrap>'AUC:  0.82952380952381'</span>"
      ],
      "text/latex": [
       "'AUC:  0.82952380952381'"
      ],
      "text/markdown": [
       "<span style=white-space:pre-wrap>'AUC:  0.82952380952381'</span>"
      ],
      "text/plain": [
       "[1] \"AUC:  0.82952380952381\""
      ]
     },
     "metadata": {},
     "output_type": "display_data"
    },
    {
     "data": {
      "text/html": [
       "<span style=white-space:pre-wrap>'Accuracy:  0.748427672955975'</span>"
      ],
      "text/latex": [
       "'Accuracy:  0.748427672955975'"
      ],
      "text/markdown": [
       "<span style=white-space:pre-wrap>'Accuracy:  0.748427672955975'</span>"
      ],
      "text/plain": [
       "[1] \"Accuracy:  0.748427672955975\""
      ]
     },
     "metadata": {},
     "output_type": "display_data"
    },
    {
     "data": {
      "text/html": [
       "<span style=white-space:pre-wrap>'Recall:  0.826666666666667'</span>"
      ],
      "text/latex": [
       "'Recall:  0.826666666666667'"
      ],
      "text/markdown": [
       "<span style=white-space:pre-wrap>'Recall:  0.826666666666667'</span>"
      ],
      "text/plain": [
       "[1] \"Recall:  0.826666666666667\""
      ]
     },
     "metadata": {},
     "output_type": "display_data"
    },
    {
     "data": {
      "text/html": [
       "<span style=white-space:pre-wrap>'Precision:  0.696629213483146'</span>"
      ],
      "text/latex": [
       "'Precision:  0.696629213483146'"
      ],
      "text/markdown": [
       "<span style=white-space:pre-wrap>'Precision:  0.696629213483146'</span>"
      ],
      "text/plain": [
       "[1] \"Precision:  0.696629213483146\""
      ]
     },
     "metadata": {},
     "output_type": "display_data"
    }
   ],
   "source": [
    "confusionMatrix(as.factor(res), as.factor(true_outcome))[[2]]\n",
    "TN =(confusionMatrix(as.factor(res), as.factor(true_outcome)))[[2]][1,1]\n",
    "TP = (confusionMatrix(as.factor(res), as.factor(true_outcome)))[[2]][2,2]\n",
    "FN = (confusionMatrix(as.factor(res), as.factor(true_outcome)))[[2]][1,2]\n",
    "FP = (confusionMatrix(as.factor(res), as.factor(true_outcome)))[[2]][2,1]\n",
    "\n",
    "accuracy = (TP+TN)/(TP+FP+TN+FN)\n",
    "recall = TP/(TP+FN)\n",
    "precision = TP/(TP+FP)\n",
    "\n",
    "paste(\"AUC: \", auc)\n",
    "paste(\"Accuracy: \", accuracy)\n",
    "paste(\"Recall: \", recall)\n",
    "paste(\"Precision: \", precision)"
   ]
  },
  {
   "cell_type": "markdown",
   "id": "cd25ca92",
   "metadata": {},
   "source": [
    "## Random Forest"
   ]
  },
  {
   "cell_type": "code",
   "execution_count": 75,
   "id": "b48e39ff",
   "metadata": {},
   "outputs": [],
   "source": [
    "set.seed(123)\n",
    "train <- basetable_train\n",
    "yTRAIN <- train$Top5\n",
    "train$Top10 = NULL\n",
    "train$Top5 = NULL\n",
    "train$Top4 = NULL\n",
    "train$Top3 = NULL\n",
    "train$Top2 = NULL\n",
    "\n",
    "val <- basetable_val\n",
    "yVAL <- val$Top5\n",
    "val$Top10 = NULL\n",
    "val$Top5 = NULL\n",
    "val$Top4 = NULL\n",
    "val$Top3 = NULL\n",
    "val$Top2 = NULL"
   ]
  },
  {
   "cell_type": "code",
   "execution_count": 76,
   "id": "2496abdc",
   "metadata": {},
   "outputs": [],
   "source": [
    "train = train[varsel_boruta]\n",
    "val = val[varsel_boruta]"
   ]
  },
  {
   "cell_type": "markdown",
   "id": "c39fe82b",
   "metadata": {},
   "source": [
    "### Tuning"
   ]
  },
  {
   "cell_type": "code",
   "execution_count": 77,
   "id": "69b53af6",
   "metadata": {
    "vscode": {
     "languageId": "r"
    }
   },
   "outputs": [],
   "source": [
    "# hyperparameter grid search\n",
    "hyper_grid <- expand.grid(\n",
    "num_trees = c(1000),\n",
    "  mtry       = seq(1, ncol(train), by = 1),\n",
    "  node_size  = seq(1, 15, by = 3),\n",
    "  sampe_size = c(.55, .632, .70,0.75,.80) \n",
    ")"
   ]
  },
  {
   "cell_type": "code",
   "execution_count": 78,
   "id": "52567df9",
   "metadata": {
    "vscode": {
     "languageId": "r"
    }
   },
   "outputs": [],
   "source": [
    "for(i in 1:nrow(hyper_grid)) {\n",
    "  set.seed(123)\n",
    "  # train model\n",
    "  model <- randomForest(\n",
    "    x               = train, \n",
    "    y               = yTRAIN, \n",
    "    ntree           = hyper_grid$num_trees[i],\n",
    "    mtry            = hyper_grid$mtry[i],\n",
    "    node_size       = hyper_grid$node_size[i],\n",
    "    sample_frac     = hyper_grid$sampe_size[i]\n",
    "  )\n",
    "  predictions <- predict(model, val, type = \"prob\")[, 2]\n",
    "  auc = AUC::auc(roc(predictions,factor(yVAL)))\n",
    "  hyper_grid$AUC[i] <- auc\n",
    "}"
   ]
  },
  {
   "cell_type": "code",
   "execution_count": 83,
   "id": "a4063f05",
   "metadata": {
    "scrolled": true,
    "vscode": {
     "languageId": "r"
    }
   },
   "outputs": [
    {
     "data": {
      "text/html": [
       "<table>\n",
       "<thead><tr><th></th><th scope=col>num_trees</th><th scope=col>mtry</th><th scope=col>node_size</th><th scope=col>sampe_size</th><th scope=col>AUC</th></tr></thead>\n",
       "<tbody>\n",
       "\t<tr><th scope=row>101</th><td>1000     </td><td>3        </td><td> 1       </td><td>0.550    </td><td>0.8544197</td></tr>\n",
       "\t<tr><th scope=row>102</th><td>1000     </td><td>3        </td><td> 4       </td><td>0.550    </td><td>0.8544197</td></tr>\n",
       "\t<tr><th scope=row>103</th><td>1000     </td><td>3        </td><td> 7       </td><td>0.550    </td><td>0.8544197</td></tr>\n",
       "\t<tr><th scope=row>104</th><td>1000     </td><td>3        </td><td>10       </td><td>0.550    </td><td>0.8544197</td></tr>\n",
       "\t<tr><th scope=row>105</th><td>1000     </td><td>3        </td><td>13       </td><td>0.550    </td><td>0.8544197</td></tr>\n",
       "\t<tr><th scope=row>106</th><td>1000     </td><td>3        </td><td> 1       </td><td>0.632    </td><td>0.8544197</td></tr>\n",
       "\t<tr><th scope=row>107</th><td>1000     </td><td>3        </td><td> 4       </td><td>0.632    </td><td>0.8544197</td></tr>\n",
       "\t<tr><th scope=row>108</th><td>1000     </td><td>3        </td><td> 7       </td><td>0.632    </td><td>0.8544197</td></tr>\n",
       "\t<tr><th scope=row>109</th><td>1000     </td><td>3        </td><td>10       </td><td>0.632    </td><td>0.8544197</td></tr>\n",
       "\t<tr><th scope=row>110</th><td>1000     </td><td>3        </td><td>13       </td><td>0.632    </td><td>0.8544197</td></tr>\n",
       "\t<tr><th scope=row>111</th><td>1000     </td><td>3        </td><td> 1       </td><td>0.700    </td><td>0.8544197</td></tr>\n",
       "\t<tr><th scope=row>112</th><td>1000     </td><td>3        </td><td> 4       </td><td>0.700    </td><td>0.8544197</td></tr>\n",
       "\t<tr><th scope=row>113</th><td>1000     </td><td>3        </td><td> 7       </td><td>0.700    </td><td>0.8544197</td></tr>\n",
       "\t<tr><th scope=row>114</th><td>1000     </td><td>3        </td><td>10       </td><td>0.700    </td><td>0.8544197</td></tr>\n",
       "\t<tr><th scope=row>115</th><td>1000     </td><td>3        </td><td>13       </td><td>0.700    </td><td>0.8544197</td></tr>\n",
       "\t<tr><th scope=row>116</th><td>1000     </td><td>3        </td><td> 1       </td><td>0.750    </td><td>0.8544197</td></tr>\n",
       "\t<tr><th scope=row>117</th><td>1000     </td><td>3        </td><td> 4       </td><td>0.750    </td><td>0.8544197</td></tr>\n",
       "\t<tr><th scope=row>118</th><td>1000     </td><td>3        </td><td> 7       </td><td>0.750    </td><td>0.8544197</td></tr>\n",
       "\t<tr><th scope=row>119</th><td>1000     </td><td>3        </td><td>10       </td><td>0.750    </td><td>0.8544197</td></tr>\n",
       "\t<tr><th scope=row>120</th><td>1000     </td><td>3        </td><td>13       </td><td>0.750    </td><td>0.8544197</td></tr>\n",
       "\t<tr><th scope=row>121</th><td>1000     </td><td>3        </td><td> 1       </td><td>0.800    </td><td>0.8544197</td></tr>\n",
       "\t<tr><th scope=row>122</th><td>1000     </td><td>3        </td><td> 4       </td><td>0.800    </td><td>0.8544197</td></tr>\n",
       "\t<tr><th scope=row>123</th><td>1000     </td><td>3        </td><td> 7       </td><td>0.800    </td><td>0.8544197</td></tr>\n",
       "\t<tr><th scope=row>124</th><td>1000     </td><td>3        </td><td>10       </td><td>0.800    </td><td>0.8544197</td></tr>\n",
       "\t<tr><th scope=row>125</th><td>1000     </td><td>3        </td><td>13       </td><td>0.800    </td><td>0.8544197</td></tr>\n",
       "\t<tr><th scope=row>126</th><td>1000     </td><td>2        </td><td> 1       </td><td>0.550    </td><td>0.8562753</td></tr>\n",
       "\t<tr><th scope=row>127</th><td>1000     </td><td>2        </td><td> 4       </td><td>0.550    </td><td>0.8562753</td></tr>\n",
       "\t<tr><th scope=row>128</th><td>1000     </td><td>2        </td><td> 7       </td><td>0.550    </td><td>0.8562753</td></tr>\n",
       "\t<tr><th scope=row>129</th><td>1000     </td><td>2        </td><td>10       </td><td>0.550    </td><td>0.8562753</td></tr>\n",
       "\t<tr><th scope=row>130</th><td>1000     </td><td>2        </td><td>13       </td><td>0.550    </td><td>0.8562753</td></tr>\n",
       "\t<tr><th scope=row>131</th><td>1000     </td><td>2        </td><td> 1       </td><td>0.632    </td><td>0.8562753</td></tr>\n",
       "\t<tr><th scope=row>132</th><td>1000     </td><td>2        </td><td> 4       </td><td>0.632    </td><td>0.8562753</td></tr>\n",
       "\t<tr><th scope=row>133</th><td>1000     </td><td>2        </td><td> 7       </td><td>0.632    </td><td>0.8562753</td></tr>\n",
       "\t<tr><th scope=row>134</th><td>1000     </td><td>2        </td><td>10       </td><td>0.632    </td><td>0.8562753</td></tr>\n",
       "\t<tr><th scope=row>135</th><td>1000     </td><td>2        </td><td>13       </td><td>0.632    </td><td>0.8562753</td></tr>\n",
       "\t<tr><th scope=row>136</th><td>1000     </td><td>2        </td><td> 1       </td><td>0.700    </td><td>0.8562753</td></tr>\n",
       "\t<tr><th scope=row>137</th><td>1000     </td><td>2        </td><td> 4       </td><td>0.700    </td><td>0.8562753</td></tr>\n",
       "\t<tr><th scope=row>138</th><td>1000     </td><td>2        </td><td> 7       </td><td>0.700    </td><td>0.8562753</td></tr>\n",
       "\t<tr><th scope=row>139</th><td>1000     </td><td>2        </td><td>10       </td><td>0.700    </td><td>0.8562753</td></tr>\n",
       "\t<tr><th scope=row>140</th><td>1000     </td><td>2        </td><td>13       </td><td>0.700    </td><td>0.8562753</td></tr>\n",
       "\t<tr><th scope=row>141</th><td>1000     </td><td>2        </td><td> 1       </td><td>0.750    </td><td>0.8562753</td></tr>\n",
       "\t<tr><th scope=row>142</th><td>1000     </td><td>2        </td><td> 4       </td><td>0.750    </td><td>0.8562753</td></tr>\n",
       "\t<tr><th scope=row>143</th><td>1000     </td><td>2        </td><td> 7       </td><td>0.750    </td><td>0.8562753</td></tr>\n",
       "\t<tr><th scope=row>144</th><td>1000     </td><td>2        </td><td>10       </td><td>0.750    </td><td>0.8562753</td></tr>\n",
       "\t<tr><th scope=row>145</th><td>1000     </td><td>2        </td><td>13       </td><td>0.750    </td><td>0.8562753</td></tr>\n",
       "\t<tr><th scope=row>146</th><td>1000     </td><td>2        </td><td> 1       </td><td>0.800    </td><td>0.8562753</td></tr>\n",
       "\t<tr><th scope=row>147</th><td>1000     </td><td>2        </td><td> 4       </td><td>0.800    </td><td>0.8562753</td></tr>\n",
       "\t<tr><th scope=row>148</th><td>1000     </td><td>2        </td><td> 7       </td><td>0.800    </td><td>0.8562753</td></tr>\n",
       "\t<tr><th scope=row>149</th><td>1000     </td><td>2        </td><td>10       </td><td>0.800    </td><td>0.8562753</td></tr>\n",
       "\t<tr><th scope=row>150</th><td>1000     </td><td>2        </td><td>13       </td><td>0.800    </td><td>0.8562753</td></tr>\n",
       "</tbody>\n",
       "</table>\n"
      ],
      "text/latex": [
       "\\begin{tabular}{r|lllll}\n",
       "  & num\\_trees & mtry & node\\_size & sampe\\_size & AUC\\\\\n",
       "\\hline\n",
       "\t101 & 1000      & 3         &  1        & 0.550     & 0.8544197\\\\\n",
       "\t102 & 1000      & 3         &  4        & 0.550     & 0.8544197\\\\\n",
       "\t103 & 1000      & 3         &  7        & 0.550     & 0.8544197\\\\\n",
       "\t104 & 1000      & 3         & 10        & 0.550     & 0.8544197\\\\\n",
       "\t105 & 1000      & 3         & 13        & 0.550     & 0.8544197\\\\\n",
       "\t106 & 1000      & 3         &  1        & 0.632     & 0.8544197\\\\\n",
       "\t107 & 1000      & 3         &  4        & 0.632     & 0.8544197\\\\\n",
       "\t108 & 1000      & 3         &  7        & 0.632     & 0.8544197\\\\\n",
       "\t109 & 1000      & 3         & 10        & 0.632     & 0.8544197\\\\\n",
       "\t110 & 1000      & 3         & 13        & 0.632     & 0.8544197\\\\\n",
       "\t111 & 1000      & 3         &  1        & 0.700     & 0.8544197\\\\\n",
       "\t112 & 1000      & 3         &  4        & 0.700     & 0.8544197\\\\\n",
       "\t113 & 1000      & 3         &  7        & 0.700     & 0.8544197\\\\\n",
       "\t114 & 1000      & 3         & 10        & 0.700     & 0.8544197\\\\\n",
       "\t115 & 1000      & 3         & 13        & 0.700     & 0.8544197\\\\\n",
       "\t116 & 1000      & 3         &  1        & 0.750     & 0.8544197\\\\\n",
       "\t117 & 1000      & 3         &  4        & 0.750     & 0.8544197\\\\\n",
       "\t118 & 1000      & 3         &  7        & 0.750     & 0.8544197\\\\\n",
       "\t119 & 1000      & 3         & 10        & 0.750     & 0.8544197\\\\\n",
       "\t120 & 1000      & 3         & 13        & 0.750     & 0.8544197\\\\\n",
       "\t121 & 1000      & 3         &  1        & 0.800     & 0.8544197\\\\\n",
       "\t122 & 1000      & 3         &  4        & 0.800     & 0.8544197\\\\\n",
       "\t123 & 1000      & 3         &  7        & 0.800     & 0.8544197\\\\\n",
       "\t124 & 1000      & 3         & 10        & 0.800     & 0.8544197\\\\\n",
       "\t125 & 1000      & 3         & 13        & 0.800     & 0.8544197\\\\\n",
       "\t126 & 1000      & 2         &  1        & 0.550     & 0.8562753\\\\\n",
       "\t127 & 1000      & 2         &  4        & 0.550     & 0.8562753\\\\\n",
       "\t128 & 1000      & 2         &  7        & 0.550     & 0.8562753\\\\\n",
       "\t129 & 1000      & 2         & 10        & 0.550     & 0.8562753\\\\\n",
       "\t130 & 1000      & 2         & 13        & 0.550     & 0.8562753\\\\\n",
       "\t131 & 1000      & 2         &  1        & 0.632     & 0.8562753\\\\\n",
       "\t132 & 1000      & 2         &  4        & 0.632     & 0.8562753\\\\\n",
       "\t133 & 1000      & 2         &  7        & 0.632     & 0.8562753\\\\\n",
       "\t134 & 1000      & 2         & 10        & 0.632     & 0.8562753\\\\\n",
       "\t135 & 1000      & 2         & 13        & 0.632     & 0.8562753\\\\\n",
       "\t136 & 1000      & 2         &  1        & 0.700     & 0.8562753\\\\\n",
       "\t137 & 1000      & 2         &  4        & 0.700     & 0.8562753\\\\\n",
       "\t138 & 1000      & 2         &  7        & 0.700     & 0.8562753\\\\\n",
       "\t139 & 1000      & 2         & 10        & 0.700     & 0.8562753\\\\\n",
       "\t140 & 1000      & 2         & 13        & 0.700     & 0.8562753\\\\\n",
       "\t141 & 1000      & 2         &  1        & 0.750     & 0.8562753\\\\\n",
       "\t142 & 1000      & 2         &  4        & 0.750     & 0.8562753\\\\\n",
       "\t143 & 1000      & 2         &  7        & 0.750     & 0.8562753\\\\\n",
       "\t144 & 1000      & 2         & 10        & 0.750     & 0.8562753\\\\\n",
       "\t145 & 1000      & 2         & 13        & 0.750     & 0.8562753\\\\\n",
       "\t146 & 1000      & 2         &  1        & 0.800     & 0.8562753\\\\\n",
       "\t147 & 1000      & 2         &  4        & 0.800     & 0.8562753\\\\\n",
       "\t148 & 1000      & 2         &  7        & 0.800     & 0.8562753\\\\\n",
       "\t149 & 1000      & 2         & 10        & 0.800     & 0.8562753\\\\\n",
       "\t150 & 1000      & 2         & 13        & 0.800     & 0.8562753\\\\\n",
       "\\end{tabular}\n"
      ],
      "text/markdown": [
       "\n",
       "| <!--/--> | num_trees | mtry | node_size | sampe_size | AUC |\n",
       "|---|---|---|---|---|---|\n",
       "| 101 | 1000      | 3         |  1        | 0.550     | 0.8544197 |\n",
       "| 102 | 1000      | 3         |  4        | 0.550     | 0.8544197 |\n",
       "| 103 | 1000      | 3         |  7        | 0.550     | 0.8544197 |\n",
       "| 104 | 1000      | 3         | 10        | 0.550     | 0.8544197 |\n",
       "| 105 | 1000      | 3         | 13        | 0.550     | 0.8544197 |\n",
       "| 106 | 1000      | 3         |  1        | 0.632     | 0.8544197 |\n",
       "| 107 | 1000      | 3         |  4        | 0.632     | 0.8544197 |\n",
       "| 108 | 1000      | 3         |  7        | 0.632     | 0.8544197 |\n",
       "| 109 | 1000      | 3         | 10        | 0.632     | 0.8544197 |\n",
       "| 110 | 1000      | 3         | 13        | 0.632     | 0.8544197 |\n",
       "| 111 | 1000      | 3         |  1        | 0.700     | 0.8544197 |\n",
       "| 112 | 1000      | 3         |  4        | 0.700     | 0.8544197 |\n",
       "| 113 | 1000      | 3         |  7        | 0.700     | 0.8544197 |\n",
       "| 114 | 1000      | 3         | 10        | 0.700     | 0.8544197 |\n",
       "| 115 | 1000      | 3         | 13        | 0.700     | 0.8544197 |\n",
       "| 116 | 1000      | 3         |  1        | 0.750     | 0.8544197 |\n",
       "| 117 | 1000      | 3         |  4        | 0.750     | 0.8544197 |\n",
       "| 118 | 1000      | 3         |  7        | 0.750     | 0.8544197 |\n",
       "| 119 | 1000      | 3         | 10        | 0.750     | 0.8544197 |\n",
       "| 120 | 1000      | 3         | 13        | 0.750     | 0.8544197 |\n",
       "| 121 | 1000      | 3         |  1        | 0.800     | 0.8544197 |\n",
       "| 122 | 1000      | 3         |  4        | 0.800     | 0.8544197 |\n",
       "| 123 | 1000      | 3         |  7        | 0.800     | 0.8544197 |\n",
       "| 124 | 1000      | 3         | 10        | 0.800     | 0.8544197 |\n",
       "| 125 | 1000      | 3         | 13        | 0.800     | 0.8544197 |\n",
       "| 126 | 1000      | 2         |  1        | 0.550     | 0.8562753 |\n",
       "| 127 | 1000      | 2         |  4        | 0.550     | 0.8562753 |\n",
       "| 128 | 1000      | 2         |  7        | 0.550     | 0.8562753 |\n",
       "| 129 | 1000      | 2         | 10        | 0.550     | 0.8562753 |\n",
       "| 130 | 1000      | 2         | 13        | 0.550     | 0.8562753 |\n",
       "| 131 | 1000      | 2         |  1        | 0.632     | 0.8562753 |\n",
       "| 132 | 1000      | 2         |  4        | 0.632     | 0.8562753 |\n",
       "| 133 | 1000      | 2         |  7        | 0.632     | 0.8562753 |\n",
       "| 134 | 1000      | 2         | 10        | 0.632     | 0.8562753 |\n",
       "| 135 | 1000      | 2         | 13        | 0.632     | 0.8562753 |\n",
       "| 136 | 1000      | 2         |  1        | 0.700     | 0.8562753 |\n",
       "| 137 | 1000      | 2         |  4        | 0.700     | 0.8562753 |\n",
       "| 138 | 1000      | 2         |  7        | 0.700     | 0.8562753 |\n",
       "| 139 | 1000      | 2         | 10        | 0.700     | 0.8562753 |\n",
       "| 140 | 1000      | 2         | 13        | 0.700     | 0.8562753 |\n",
       "| 141 | 1000      | 2         |  1        | 0.750     | 0.8562753 |\n",
       "| 142 | 1000      | 2         |  4        | 0.750     | 0.8562753 |\n",
       "| 143 | 1000      | 2         |  7        | 0.750     | 0.8562753 |\n",
       "| 144 | 1000      | 2         | 10        | 0.750     | 0.8562753 |\n",
       "| 145 | 1000      | 2         | 13        | 0.750     | 0.8562753 |\n",
       "| 146 | 1000      | 2         |  1        | 0.800     | 0.8562753 |\n",
       "| 147 | 1000      | 2         |  4        | 0.800     | 0.8562753 |\n",
       "| 148 | 1000      | 2         |  7        | 0.800     | 0.8562753 |\n",
       "| 149 | 1000      | 2         | 10        | 0.800     | 0.8562753 |\n",
       "| 150 | 1000      | 2         | 13        | 0.800     | 0.8562753 |\n",
       "\n"
      ],
      "text/plain": [
       "    num_trees mtry node_size sampe_size AUC      \n",
       "101 1000      3     1        0.550      0.8544197\n",
       "102 1000      3     4        0.550      0.8544197\n",
       "103 1000      3     7        0.550      0.8544197\n",
       "104 1000      3    10        0.550      0.8544197\n",
       "105 1000      3    13        0.550      0.8544197\n",
       "106 1000      3     1        0.632      0.8544197\n",
       "107 1000      3     4        0.632      0.8544197\n",
       "108 1000      3     7        0.632      0.8544197\n",
       "109 1000      3    10        0.632      0.8544197\n",
       "110 1000      3    13        0.632      0.8544197\n",
       "111 1000      3     1        0.700      0.8544197\n",
       "112 1000      3     4        0.700      0.8544197\n",
       "113 1000      3     7        0.700      0.8544197\n",
       "114 1000      3    10        0.700      0.8544197\n",
       "115 1000      3    13        0.700      0.8544197\n",
       "116 1000      3     1        0.750      0.8544197\n",
       "117 1000      3     4        0.750      0.8544197\n",
       "118 1000      3     7        0.750      0.8544197\n",
       "119 1000      3    10        0.750      0.8544197\n",
       "120 1000      3    13        0.750      0.8544197\n",
       "121 1000      3     1        0.800      0.8544197\n",
       "122 1000      3     4        0.800      0.8544197\n",
       "123 1000      3     7        0.800      0.8544197\n",
       "124 1000      3    10        0.800      0.8544197\n",
       "125 1000      3    13        0.800      0.8544197\n",
       "126 1000      2     1        0.550      0.8562753\n",
       "127 1000      2     4        0.550      0.8562753\n",
       "128 1000      2     7        0.550      0.8562753\n",
       "129 1000      2    10        0.550      0.8562753\n",
       "130 1000      2    13        0.550      0.8562753\n",
       "131 1000      2     1        0.632      0.8562753\n",
       "132 1000      2     4        0.632      0.8562753\n",
       "133 1000      2     7        0.632      0.8562753\n",
       "134 1000      2    10        0.632      0.8562753\n",
       "135 1000      2    13        0.632      0.8562753\n",
       "136 1000      2     1        0.700      0.8562753\n",
       "137 1000      2     4        0.700      0.8562753\n",
       "138 1000      2     7        0.700      0.8562753\n",
       "139 1000      2    10        0.700      0.8562753\n",
       "140 1000      2    13        0.700      0.8562753\n",
       "141 1000      2     1        0.750      0.8562753\n",
       "142 1000      2     4        0.750      0.8562753\n",
       "143 1000      2     7        0.750      0.8562753\n",
       "144 1000      2    10        0.750      0.8562753\n",
       "145 1000      2    13        0.750      0.8562753\n",
       "146 1000      2     1        0.800      0.8562753\n",
       "147 1000      2     4        0.800      0.8562753\n",
       "148 1000      2     7        0.800      0.8562753\n",
       "149 1000      2    10        0.800      0.8562753\n",
       "150 1000      2    13        0.800      0.8562753"
      ]
     },
     "metadata": {},
     "output_type": "display_data"
    }
   ],
   "source": [
    "hyper_grid %>% \n",
    "  dplyr::arrange(AUC) %>%\n",
    "  tail(50)\n"
   ]
  },
  {
   "cell_type": "markdown",
   "id": "352227a5",
   "metadata": {},
   "source": [
    "### Validation"
   ]
  },
  {
   "cell_type": "code",
   "execution_count": 82,
   "id": "ae78f336",
   "metadata": {
    "vscode": {
     "languageId": "r"
    }
   },
   "outputs": [
    {
     "data": {
      "text/html": [
       "0.856275303643725"
      ],
      "text/latex": [
       "0.856275303643725"
      ],
      "text/markdown": [
       "0.856275303643725"
      ],
      "text/plain": [
       "[1] 0.8562753"
      ]
     },
     "metadata": {},
     "output_type": "display_data"
    }
   ],
   "source": [
    "#No Tuning\n",
    "set.seed(123)\n",
    "rFmodel <- randomForest(x=train, y = yTRAIN, ntree = 1000)\n",
    "predictions <- predict(rFmodel, val, type = \"prob\")[, 2]\n",
    "\n",
    "AUC::auc(roc(predictions,factor(yVAL)))"
   ]
  },
  {
   "cell_type": "code",
   "execution_count": 84,
   "id": "cc164b19",
   "metadata": {
    "vscode": {
     "languageId": "r"
    }
   },
   "outputs": [
    {
     "data": {
      "text/html": [
       "0.856275303643725"
      ],
      "text/latex": [
       "0.856275303643725"
      ],
      "text/markdown": [
       "0.856275303643725"
      ],
      "text/plain": [
       "[1] 0.8562753"
      ]
     },
     "metadata": {},
     "output_type": "display_data"
    }
   ],
   "source": [
    "#Tuning\n",
    "set.seed(123)\n",
    "rFmodel <- randomForest(x=train, y = yTRAIN, ntree = 1000,mtry=2)\n",
    "predictions <- predict(rFmodel, val, type = \"prob\")[, 2]\n",
    "\n",
    "AUC::auc(roc(predictions,factor(yVAL)))"
   ]
  },
  {
   "cell_type": "code",
   "execution_count": 85,
   "id": "e6d1494c",
   "metadata": {
    "vscode": {
     "languageId": "r"
    }
   },
   "outputs": [],
   "source": [
    "auc = AUC::auc(roc(predictions,factor(yVAL)))"
   ]
  },
  {
   "cell_type": "code",
   "execution_count": 86,
   "id": "7703fbe5",
   "metadata": {
    "vscode": {
     "languageId": "r"
    }
   },
   "outputs": [],
   "source": [
    "res = ifelse(predictions>=0.5,1,0)\n",
    "true_outcome = yVAL"
   ]
  },
  {
   "cell_type": "code",
   "execution_count": 87,
   "id": "7a84e95e",
   "metadata": {
    "scrolled": true,
    "vscode": {
     "languageId": "r"
    }
   },
   "outputs": [
    {
     "data": {
      "text/plain": [
       "          Reference\n",
       "Prediction  0  1\n",
       "         0 39  6\n",
       "         1 18 46"
      ]
     },
     "metadata": {},
     "output_type": "display_data"
    },
    {
     "data": {
      "text/html": [
       "<span style=white-space:pre-wrap>'AUC:  0.856275303643725'</span>"
      ],
      "text/latex": [
       "'AUC:  0.856275303643725'"
      ],
      "text/markdown": [
       "<span style=white-space:pre-wrap>'AUC:  0.856275303643725'</span>"
      ],
      "text/plain": [
       "[1] \"AUC:  0.856275303643725\""
      ]
     },
     "metadata": {},
     "output_type": "display_data"
    },
    {
     "data": {
      "text/html": [
       "<span style=white-space:pre-wrap>'Accuracy:  0.779816513761468'</span>"
      ],
      "text/latex": [
       "'Accuracy:  0.779816513761468'"
      ],
      "text/markdown": [
       "<span style=white-space:pre-wrap>'Accuracy:  0.779816513761468'</span>"
      ],
      "text/plain": [
       "[1] \"Accuracy:  0.779816513761468\""
      ]
     },
     "metadata": {},
     "output_type": "display_data"
    },
    {
     "data": {
      "text/html": [
       "<span style=white-space:pre-wrap>'Recall:  0.884615384615385'</span>"
      ],
      "text/latex": [
       "'Recall:  0.884615384615385'"
      ],
      "text/markdown": [
       "<span style=white-space:pre-wrap>'Recall:  0.884615384615385'</span>"
      ],
      "text/plain": [
       "[1] \"Recall:  0.884615384615385\""
      ]
     },
     "metadata": {},
     "output_type": "display_data"
    },
    {
     "data": {
      "text/html": [
       "<span style=white-space:pre-wrap>'Precision:  0.71875'</span>"
      ],
      "text/latex": [
       "'Precision:  0.71875'"
      ],
      "text/markdown": [
       "<span style=white-space:pre-wrap>'Precision:  0.71875'</span>"
      ],
      "text/plain": [
       "[1] \"Precision:  0.71875\""
      ]
     },
     "metadata": {},
     "output_type": "display_data"
    }
   ],
   "source": [
    "confusionMatrix(as.factor(res), as.factor(true_outcome))[[2]]\n",
    "TN =(confusionMatrix(as.factor(res), as.factor(true_outcome)))[[2]][1,1]\n",
    "TP = (confusionMatrix(as.factor(res), as.factor(true_outcome)))[[2]][2,2]\n",
    "FN = (confusionMatrix(as.factor(res), as.factor(true_outcome)))[[2]][1,2]\n",
    "FP = (confusionMatrix(as.factor(res), as.factor(true_outcome)))[[2]][2,1]\n",
    "\n",
    "accuracy = (TP+TN)/(TP+FP+TN+FN)\n",
    "recall = TP/(TP+FN)\n",
    "precision = TP/(TP+FP)\n",
    "\n",
    "paste(\"AUC: \", auc)\n",
    "paste(\"Accuracy: \", accuracy)\n",
    "paste(\"Recall: \", recall)\n",
    "paste(\"Precision: \", precision)"
   ]
  },
  {
   "cell_type": "markdown",
   "id": "232478aa",
   "metadata": {},
   "source": [
    "### Test"
   ]
  },
  {
   "cell_type": "code",
   "execution_count": 88,
   "id": "361ed0f0",
   "metadata": {},
   "outputs": [],
   "source": [
    "set.seed(123)\n",
    "#Basetable is the combination of the validation and training set\n",
    "train <- basetable\n",
    "yTRAIN <- train$Top5\n",
    "train$Top10 = NULL\n",
    "train$Top5 = NULL\n",
    "train$Top4 = NULL\n",
    "train$Top3 = NULL\n",
    "train$Top2 = NULL\n",
    "\n",
    "test <- basetable_test\n",
    "yTEST <- test$Top5\n",
    "test$Top10 = NULL\n",
    "test$Top5 = NULL\n",
    "test$Top4 = NULL\n",
    "test$Top3 = NULL\n",
    "test$Top2 = NULL"
   ]
  },
  {
   "cell_type": "code",
   "execution_count": 89,
   "id": "0854ddfe",
   "metadata": {},
   "outputs": [],
   "source": [
    "train = train[varsel_boruta]\n",
    "test = test[varsel_boruta]"
   ]
  },
  {
   "cell_type": "code",
   "execution_count": 90,
   "id": "fbdc5c7e",
   "metadata": {},
   "outputs": [
    {
     "data": {
      "text/html": [
       "0.827380952380953"
      ],
      "text/latex": [
       "0.827380952380953"
      ],
      "text/markdown": [
       "0.827380952380953"
      ],
      "text/plain": [
       "[1] 0.827381"
      ]
     },
     "metadata": {},
     "output_type": "display_data"
    }
   ],
   "source": [
    "set.seed(123)\n",
    "rFmodel <- randomForest(x=train, y = yTRAIN, ntree = 1000,mtry=4)\n",
    "predictions <- predict(rFmodel, test, type = \"prob\")[, 2]\n",
    "\n",
    "auc = AUC::auc(roc(predictions,factor(yTEST)))\n",
    "AUC::auc(roc(predictions,factor(yTEST)))"
   ]
  },
  {
   "cell_type": "code",
   "execution_count": 91,
   "id": "82ab91ca",
   "metadata": {
    "vscode": {
     "languageId": "r"
    }
   },
   "outputs": [],
   "source": [
    "res = ifelse(predictions>=0.5,1,0)\n",
    "true_outcome = yTEST"
   ]
  },
  {
   "cell_type": "code",
   "execution_count": 92,
   "id": "320ffb8e",
   "metadata": {
    "scrolled": false,
    "vscode": {
     "languageId": "r"
    }
   },
   "outputs": [
    {
     "data": {
      "text/plain": [
       "          Reference\n",
       "Prediction  0  1\n",
       "         0 57 11\n",
       "         1 27 64"
      ]
     },
     "metadata": {},
     "output_type": "display_data"
    },
    {
     "data": {
      "text/html": [
       "<span style=white-space:pre-wrap>'AUC:  0.827380952380953'</span>"
      ],
      "text/latex": [
       "'AUC:  0.827380952380953'"
      ],
      "text/markdown": [
       "<span style=white-space:pre-wrap>'AUC:  0.827380952380953'</span>"
      ],
      "text/plain": [
       "[1] \"AUC:  0.827380952380953\""
      ]
     },
     "metadata": {},
     "output_type": "display_data"
    },
    {
     "data": {
      "text/html": [
       "<span style=white-space:pre-wrap>'Accuracy:  0.761006289308176'</span>"
      ],
      "text/latex": [
       "'Accuracy:  0.761006289308176'"
      ],
      "text/markdown": [
       "<span style=white-space:pre-wrap>'Accuracy:  0.761006289308176'</span>"
      ],
      "text/plain": [
       "[1] \"Accuracy:  0.761006289308176\""
      ]
     },
     "metadata": {},
     "output_type": "display_data"
    },
    {
     "data": {
      "text/html": [
       "<span style=white-space:pre-wrap>'Recall:  0.853333333333333'</span>"
      ],
      "text/latex": [
       "'Recall:  0.853333333333333'"
      ],
      "text/markdown": [
       "<span style=white-space:pre-wrap>'Recall:  0.853333333333333'</span>"
      ],
      "text/plain": [
       "[1] \"Recall:  0.853333333333333\""
      ]
     },
     "metadata": {},
     "output_type": "display_data"
    },
    {
     "data": {
      "text/html": [
       "<span style=white-space:pre-wrap>'Precision:  0.703296703296703'</span>"
      ],
      "text/latex": [
       "'Precision:  0.703296703296703'"
      ],
      "text/markdown": [
       "<span style=white-space:pre-wrap>'Precision:  0.703296703296703'</span>"
      ],
      "text/plain": [
       "[1] \"Precision:  0.703296703296703\""
      ]
     },
     "metadata": {},
     "output_type": "display_data"
    }
   ],
   "source": [
    "confusionMatrix(as.factor(res), as.factor(true_outcome))[[2]]\n",
    "TN =(confusionMatrix(as.factor(res), as.factor(true_outcome)))[[2]][1,1]\n",
    "TP = (confusionMatrix(as.factor(res), as.factor(true_outcome)))[[2]][2,2]\n",
    "FN = (confusionMatrix(as.factor(res), as.factor(true_outcome)))[[2]][1,2]\n",
    "FP = (confusionMatrix(as.factor(res), as.factor(true_outcome)))[[2]][2,1]\n",
    "\n",
    "accuracy = (TP+TN)/(TP+FP+TN+FN)\n",
    "recall = TP/(TP+FN)\n",
    "precision = TP/(TP+FP)\n",
    "\n",
    "paste(\"AUC: \", auc)\n",
    "paste(\"Accuracy: \", accuracy)\n",
    "paste(\"Recall: \", recall)\n",
    "paste(\"Precision: \", precision)"
   ]
  },
  {
   "cell_type": "markdown",
   "id": "b6203855",
   "metadata": {},
   "source": [
    "## XGBoost"
   ]
  },
  {
   "cell_type": "code",
   "execution_count": 107,
   "id": "1b02f97f",
   "metadata": {
    "vscode": {
     "languageId": "r"
    }
   },
   "outputs": [],
   "source": [
    "#Preparing the train and validation tables\n",
    "table_train5 <- table_train\n",
    "table_val5 <- table_val\n",
    "table_test5 <- table_test\n",
    "table_trainval5 <- table_trainval\n",
    "\n",
    "table_train5$Top10 <- NULL\n",
    "table_train5$Top4 <- NULL\n",
    "table_train5$Top3 <- NULL\n",
    "table_train5$Top2 <- NULL\n",
    "\n",
    "table_val5$Top10 <- NULL\n",
    "table_val5$Top4 <- NULL\n",
    "table_val5$Top3 <- NULL\n",
    "table_val5$Top2 <- NULL\n",
    "\n",
    "table_test5$Top10 <- NULL\n",
    "table_test5$Top4 <- NULL\n",
    "table_test5$Top3 <- NULL\n",
    "table_test5$Top2 <- NULL\n",
    "\n",
    "table_trainval5$Top10 <- NULL\n",
    "table_trainval5$Top4 <- NULL\n",
    "table_trainval5$Top3 <- NULL\n",
    "table_trainval5$Top2 <- NULL"
   ]
  },
  {
   "cell_type": "code",
   "execution_count": 108,
   "id": "adca5f62",
   "metadata": {
    "vscode": {
     "languageId": "r"
    }
   },
   "outputs": [],
   "source": [
    "#new train en val set\n",
    "y_train <- table_train5$Top5\n",
    "train <- table_train5\n",
    "train$Top5<- NULL\n",
    "\n",
    "y_val <- table_val5$Top5\n",
    "val <- table_val5\n",
    "val$Top5 <-NULL\n",
    "\n",
    "y_test <- table_test5$Top5\n",
    "test <- table_test\n",
    "table_test5$Top5 <- NULL\n",
    "\n",
    "#Combining test and validationset together\n",
    "y_trainval <- table_trainval5$Top5\n",
    "trainval <- table_trainval5\n",
    "trainval$Top5<- NULL"
   ]
  },
  {
   "cell_type": "code",
   "execution_count": 121,
   "id": "c579cea6",
   "metadata": {
    "vscode": {
     "languageId": "r"
    }
   },
   "outputs": [],
   "source": [
    "train_fs <- train[varsel_boruta]\n",
    "val_fs <- val[varsel_boruta]\n",
    "test_fs <- test[varsel_boruta]\n",
    "trainval_fs = trainval[varsel_boruta]"
   ]
  },
  {
   "cell_type": "code",
   "execution_count": 122,
   "id": "df01211a",
   "metadata": {},
   "outputs": [
    {
     "data": {
      "text/html": [
       "<table>\n",
       "<thead><tr><th scope=col>mountain_mean</th><th scope=col>sprint_mean</th><th scope=col>sprint_max</th><th scope=col>acceleration_max</th><th scope=col>resistance_max</th><th scope=col>hill_min</th></tr></thead>\n",
       "<tbody>\n",
       "\t<tr><td>68</td><td>64</td><td>75</td><td>74</td><td>74</td><td>65</td></tr>\n",
       "\t<tr><td>70</td><td>64</td><td>75</td><td>75</td><td>74</td><td>65</td></tr>\n",
       "</tbody>\n",
       "</table>\n"
      ],
      "text/latex": [
       "\\begin{tabular}{r|llllll}\n",
       " mountain\\_mean & sprint\\_mean & sprint\\_max & acceleration\\_max & resistance\\_max & hill\\_min\\\\\n",
       "\\hline\n",
       "\t 68 & 64 & 75 & 74 & 74 & 65\\\\\n",
       "\t 70 & 64 & 75 & 75 & 74 & 65\\\\\n",
       "\\end{tabular}\n"
      ],
      "text/markdown": [
       "\n",
       "| mountain_mean | sprint_mean | sprint_max | acceleration_max | resistance_max | hill_min |\n",
       "|---|---|---|---|---|---|\n",
       "| 68 | 64 | 75 | 74 | 74 | 65 |\n",
       "| 70 | 64 | 75 | 75 | 74 | 65 |\n",
       "\n"
      ],
      "text/plain": [
       "  mountain_mean sprint_mean sprint_max acceleration_max resistance_max hill_min\n",
       "1 68            64          75         74               74             65      \n",
       "2 70            64          75         75               74             65      "
      ]
     },
     "metadata": {},
     "output_type": "display_data"
    }
   ],
   "source": [
    "head(train_fs,n = 2)"
   ]
  },
  {
   "cell_type": "code",
   "execution_count": 123,
   "id": "2253411f",
   "metadata": {},
   "outputs": [
    {
     "data": {
      "text/html": [
       "<table>\n",
       "<thead><tr><th scope=col>mountain_mean</th><th scope=col>sprint_mean</th><th scope=col>sprint_max</th><th scope=col>acceleration_max</th><th scope=col>resistance_max</th><th scope=col>hill_min</th></tr></thead>\n",
       "<tbody>\n",
       "\t<tr><td>72</td><td>64</td><td>71</td><td>75</td><td>74</td><td>69</td></tr>\n",
       "\t<tr><td>74</td><td>66</td><td>69</td><td>76</td><td>76</td><td>66</td></tr>\n",
       "</tbody>\n",
       "</table>\n"
      ],
      "text/latex": [
       "\\begin{tabular}{r|llllll}\n",
       " mountain\\_mean & sprint\\_mean & sprint\\_max & acceleration\\_max & resistance\\_max & hill\\_min\\\\\n",
       "\\hline\n",
       "\t 72 & 64 & 71 & 75 & 74 & 69\\\\\n",
       "\t 74 & 66 & 69 & 76 & 76 & 66\\\\\n",
       "\\end{tabular}\n"
      ],
      "text/markdown": [
       "\n",
       "| mountain_mean | sprint_mean | sprint_max | acceleration_max | resistance_max | hill_min |\n",
       "|---|---|---|---|---|---|\n",
       "| 72 | 64 | 71 | 75 | 74 | 69 |\n",
       "| 74 | 66 | 69 | 76 | 76 | 66 |\n",
       "\n"
      ],
      "text/plain": [
       "  mountain_mean sprint_mean sprint_max acceleration_max resistance_max hill_min\n",
       "1 72            64          71         75               74             69      \n",
       "2 74            66          69         76               76             66      "
      ]
     },
     "metadata": {},
     "output_type": "display_data"
    }
   ],
   "source": [
    "head(val_fs,n = 2)"
   ]
  },
  {
   "cell_type": "code",
   "execution_count": 124,
   "id": "1a45b6a7",
   "metadata": {},
   "outputs": [
    {
     "data": {
      "text/html": [
       "<table>\n",
       "<thead><tr><th scope=col>mountain_mean</th><th scope=col>sprint_mean</th><th scope=col>sprint_max</th><th scope=col>acceleration_max</th><th scope=col>resistance_max</th><th scope=col>hill_min</th></tr></thead>\n",
       "<tbody>\n",
       "\t<tr><td>73</td><td>65</td><td>71</td><td>77</td><td>76</td><td>70</td></tr>\n",
       "\t<tr><td>70</td><td>69</td><td>77</td><td>77</td><td>76</td><td>71</td></tr>\n",
       "</tbody>\n",
       "</table>\n"
      ],
      "text/latex": [
       "\\begin{tabular}{r|llllll}\n",
       " mountain\\_mean & sprint\\_mean & sprint\\_max & acceleration\\_max & resistance\\_max & hill\\_min\\\\\n",
       "\\hline\n",
       "\t 73 & 65 & 71 & 77 & 76 & 70\\\\\n",
       "\t 70 & 69 & 77 & 77 & 76 & 71\\\\\n",
       "\\end{tabular}\n"
      ],
      "text/markdown": [
       "\n",
       "| mountain_mean | sprint_mean | sprint_max | acceleration_max | resistance_max | hill_min |\n",
       "|---|---|---|---|---|---|\n",
       "| 73 | 65 | 71 | 77 | 76 | 70 |\n",
       "| 70 | 69 | 77 | 77 | 76 | 71 |\n",
       "\n"
      ],
      "text/plain": [
       "  mountain_mean sprint_mean sprint_max acceleration_max resistance_max hill_min\n",
       "1 73            65          71         77               76             70      \n",
       "2 70            69          77         77               76             71      "
      ]
     },
     "metadata": {},
     "output_type": "display_data"
    }
   ],
   "source": [
    "head(test_fs,n = 2)"
   ]
  },
  {
   "cell_type": "code",
   "execution_count": 125,
   "id": "06bf6afa",
   "metadata": {},
   "outputs": [
    {
     "data": {
      "text/html": [
       "<table>\n",
       "<thead><tr><th scope=col>mountain_mean</th><th scope=col>sprint_mean</th><th scope=col>sprint_max</th><th scope=col>acceleration_max</th><th scope=col>resistance_max</th><th scope=col>hill_min</th></tr></thead>\n",
       "<tbody>\n",
       "\t<tr><td>68</td><td>64</td><td>75</td><td>74</td><td>74</td><td>65</td></tr>\n",
       "\t<tr><td>70</td><td>64</td><td>75</td><td>75</td><td>74</td><td>65</td></tr>\n",
       "</tbody>\n",
       "</table>\n"
      ],
      "text/latex": [
       "\\begin{tabular}{r|llllll}\n",
       " mountain\\_mean & sprint\\_mean & sprint\\_max & acceleration\\_max & resistance\\_max & hill\\_min\\\\\n",
       "\\hline\n",
       "\t 68 & 64 & 75 & 74 & 74 & 65\\\\\n",
       "\t 70 & 64 & 75 & 75 & 74 & 65\\\\\n",
       "\\end{tabular}\n"
      ],
      "text/markdown": [
       "\n",
       "| mountain_mean | sprint_mean | sprint_max | acceleration_max | resistance_max | hill_min |\n",
       "|---|---|---|---|---|---|\n",
       "| 68 | 64 | 75 | 74 | 74 | 65 |\n",
       "| 70 | 64 | 75 | 75 | 74 | 65 |\n",
       "\n"
      ],
      "text/plain": [
       "  mountain_mean sprint_mean sprint_max acceleration_max resistance_max hill_min\n",
       "1 68            64          75         74               74             65      \n",
       "2 70            64          75         75               74             65      "
      ]
     },
     "metadata": {},
     "output_type": "display_data"
    }
   ],
   "source": [
    "head(trainval_fs,n = 2)"
   ]
  },
  {
   "cell_type": "markdown",
   "id": "c9e013e7",
   "metadata": {},
   "source": [
    "### Tuning"
   ]
  },
  {
   "cell_type": "code",
   "execution_count": 126,
   "id": "690798ed",
   "metadata": {
    "vscode": {
     "languageId": "r"
    }
   },
   "outputs": [],
   "source": [
    "#preparing matrices\n",
    "#convert all data to numeric format\n",
    "trainxgb <- train_fs %>% mutate_if(is.factor, as.character)  %>% mutate_if(is.character, as.numeric)\n",
    "testxgb <- test_fs %>% mutate_if(is.factor, as.character)  %>% mutate_if(is.character, as.numeric)\n",
    "valxgb <- val_fs %>% mutate_if(is.factor, as.character)  %>% mutate_if(is.character, as.numeric)\n",
    "trainvalxgb = trainval_fs %>% mutate_if(is.factor, as.character)  %>% mutate_if(is.character, as.numeric)"
   ]
  },
  {
   "cell_type": "code",
   "execution_count": 127,
   "id": "71a8190d",
   "metadata": {
    "vscode": {
     "languageId": "r"
    }
   },
   "outputs": [],
   "source": [
    "dtrain <- xgb.DMatrix(data = as.matrix(trainxgb), label = as.numeric(as.character(y_train))) \n",
    "dval <- xgb.DMatrix(data = as.matrix(valxgb), label = as.numeric(as.character(y_val))) \n",
    "dtest <- xgb.DMatrix(data = as.matrix(testxgb))\n",
    "dtrainval = xgb.DMatrix(data = as.matrix(trainvalxgb), label = as.numeric(as.character(y_trainval))) "
   ]
  },
  {
   "cell_type": "code",
   "execution_count": 128,
   "id": "0c601e88",
   "metadata": {
    "scrolled": false,
    "vscode": {
     "languageId": "r"
    }
   },
   "outputs": [
    {
     "name": "stdout",
     "output_type": "stream",
     "text": [
      "[1]\ttrain-auc:0.885508\ttest-auc:0.835526 \n",
      "[2]\ttrain-auc:0.912032\ttest-auc:0.864710 \n",
      "[3]\ttrain-auc:0.912888\ttest-auc:0.856950 \n",
      "[4]\ttrain-auc:0.928930\ttest-auc:0.868927 \n",
      "[5]\ttrain-auc:0.938182\ttest-auc:0.869264 \n",
      "[6]\ttrain-auc:0.936578\ttest-auc:0.857119 \n",
      "[7]\ttrain-auc:0.940267\ttest-auc:0.864035 \n",
      "[8]\ttrain-auc:0.940481\ttest-auc:0.858806 \n",
      "[9]\ttrain-auc:0.941551\ttest-auc:0.856444 \n",
      "[10]\ttrain-auc:0.942192\ttest-auc:0.854082 \n",
      "[11]\ttrain-auc:0.943529\ttest-auc:0.853070 \n",
      "[12]\ttrain-auc:0.943529\ttest-auc:0.847841 \n",
      "[13]\ttrain-auc:0.944759\ttest-auc:0.847166 \n",
      "[14]\ttrain-auc:0.949626\ttest-auc:0.840250 \n",
      "[15]\ttrain-auc:0.951016\ttest-auc:0.841937 \n",
      "[16]\ttrain-auc:0.952299\ttest-auc:0.837213 \n",
      "[17]\ttrain-auc:0.951925\ttest-auc:0.839912 \n",
      "[18]\ttrain-auc:0.955241\ttest-auc:0.839406 \n",
      "[19]\ttrain-auc:0.956898\ttest-auc:0.835358 \n",
      "[20]\ttrain-auc:0.958717\ttest-auc:0.837045 \n"
     ]
    },
    {
     "data": {
      "image/png": "[encoded data removed]",
      "text/plain": [
       "plot without title"
      ]
     },
     "metadata": {},
     "output_type": "display_data"
    }
   ],
   "source": [
    "#plotting learning curve of the number of iterations\n",
    "#Need to have watchlist and verbose turned on\n",
    "watchlist <- list(train=dtrain, test=dval)\n",
    "set.seed(123)\n",
    "xgbModel_opt <- xgb.train(\n",
    "    data = dtrain, \n",
    "    nrounds = 20,\n",
    "    eta= 0.1,\n",
    "    objective = \"binary:logistic\", \n",
    "    verbose = 2, \n",
    "    watchlist = watchlist,\n",
    "    eval_metric = 'auc',\n",
    ")\n",
    "\n",
    "history <- xgbModel_opt$evaluation_log\n",
    "\n",
    "history %>% pivot_longer(2:3, names_to = \"set\", values_to = \"performance\") %>% \n",
    "  ggplot(., aes(iter, performance, col = set))+\n",
    "  geom_point()+ geom_line()+\n",
    "  facet_wrap(~set)"
   ]
  },
  {
   "cell_type": "markdown",
   "id": "d52b9854",
   "metadata": {},
   "source": [
    "### Validation"
   ]
  },
  {
   "cell_type": "code",
   "execution_count": 129,
   "id": "e76cbca6",
   "metadata": {
    "vscode": {
     "languageId": "r"
    }
   },
   "outputs": [
    {
     "data": {
      "text/html": [
       "0.869264507422402"
      ],
      "text/latex": [
       "0.869264507422402"
      ],
      "text/markdown": [
       "0.869264507422402"
      ],
      "text/plain": [
       "[1] 0.8692645"
      ]
     },
     "metadata": {},
     "output_type": "display_data"
    }
   ],
   "source": [
    "set.seed(123)\n",
    "##Optimize nrounds BEST\n",
    "opt_iter <- history$iter[which.max(history$test_auc)]\n",
    "\n",
    "xgbModel_opt <- xgb.train(\n",
    "    data          = dtrain, \n",
    "    nrounds       = opt_iter, \n",
    "    objective     = \"binary:logistic\",\n",
    "    eta           = 0.1,\n",
    "    verbose       = 2, \n",
    "    eval_metric   = 'auc'\n",
    ")\n",
    "\n",
    "predxgb <- predict(xgbModel_opt,dval)\n",
    "auc <-AUC::auc(roc(predxgb,y_val))\n",
    "AUC::auc(roc(predxgb,y_val))"
   ]
  },
  {
   "cell_type": "code",
   "execution_count": 130,
   "id": "6431f802",
   "metadata": {
    "vscode": {
     "languageId": "r"
    }
   },
   "outputs": [
    {
     "data": {
      "text/plain": [
       "          Reference\n",
       "Prediction  0  1\n",
       "         0 39  8\n",
       "         1 18 44"
      ]
     },
     "metadata": {},
     "output_type": "display_data"
    },
    {
     "data": {
      "text/html": [
       "<span style=white-space:pre-wrap>'AUC:  0.869264507422402'</span>"
      ],
      "text/latex": [
       "'AUC:  0.869264507422402'"
      ],
      "text/markdown": [
       "<span style=white-space:pre-wrap>'AUC:  0.869264507422402'</span>"
      ],
      "text/plain": [
       "[1] \"AUC:  0.869264507422402\""
      ]
     },
     "metadata": {},
     "output_type": "display_data"
    },
    {
     "data": {
      "text/html": [
       "<span style=white-space:pre-wrap>'Accuracy:  0.761467889908257'</span>"
      ],
      "text/latex": [
       "'Accuracy:  0.761467889908257'"
      ],
      "text/markdown": [
       "<span style=white-space:pre-wrap>'Accuracy:  0.761467889908257'</span>"
      ],
      "text/plain": [
       "[1] \"Accuracy:  0.761467889908257\""
      ]
     },
     "metadata": {},
     "output_type": "display_data"
    },
    {
     "data": {
      "text/html": [
       "<span style=white-space:pre-wrap>'Recall:  0.846153846153846'</span>"
      ],
      "text/latex": [
       "'Recall:  0.846153846153846'"
      ],
      "text/markdown": [
       "<span style=white-space:pre-wrap>'Recall:  0.846153846153846'</span>"
      ],
      "text/plain": [
       "[1] \"Recall:  0.846153846153846\""
      ]
     },
     "metadata": {},
     "output_type": "display_data"
    },
    {
     "data": {
      "text/html": [
       "<span style=white-space:pre-wrap>'Precision:  0.709677419354839'</span>"
      ],
      "text/latex": [
       "'Precision:  0.709677419354839'"
      ],
      "text/markdown": [
       "<span style=white-space:pre-wrap>'Precision:  0.709677419354839'</span>"
      ],
      "text/plain": [
       "[1] \"Precision:  0.709677419354839\""
      ]
     },
     "metadata": {},
     "output_type": "display_data"
    }
   ],
   "source": [
    "res <-ifelse(predxgb>=0.5,1,0)\n",
    "true_outcome <- y_val\n",
    "\n",
    "confusionMatrix(as.factor(res), as.factor(true_outcome))[[2]]\n",
    "TN =(confusionMatrix(as.factor(res), as.factor(true_outcome)))[[2]][1,1]\n",
    "TP = (confusionMatrix(as.factor(res), as.factor(true_outcome)))[[2]][2,2]\n",
    "FN = (confusionMatrix(as.factor(res), as.factor(true_outcome)))[[2]][1,2]\n",
    "FP = (confusionMatrix(as.factor(res), as.factor(true_outcome)))[[2]][2,1]\n",
    "\n",
    "accuracy = (TP+TN)/(TP+FP+TN+FN)\n",
    "recall = TP/(TP+FN)\n",
    "precision = TP/(TP+FP)\n",
    "\n",
    "paste(\"AUC: \", auc)\n",
    "paste(\"Accuracy: \", accuracy)\n",
    "paste(\"Recall: \", recall)\n",
    "paste(\"Precision: \", precision)"
   ]
  },
  {
   "cell_type": "markdown",
   "id": "de9881cc",
   "metadata": {},
   "source": [
    "### Test"
   ]
  },
  {
   "cell_type": "code",
   "execution_count": 133,
   "id": "ea840ae4",
   "metadata": {},
   "outputs": [
    {
     "data": {
      "text/html": [
       "0.817539682539683"
      ],
      "text/latex": [
       "0.817539682539683"
      ],
      "text/markdown": [
       "0.817539682539683"
      ],
      "text/plain": [
       "[1] 0.8175397"
      ]
     },
     "metadata": {},
     "output_type": "display_data"
    }
   ],
   "source": [
    "set.seed(123)\n",
    "##Optimize nrounds BEST\n",
    "opt_iter <- history$iter[which.max(history$test_auc)]\n",
    "\n",
    "xgbModel_opt <- xgb.train(\n",
    "    data          = dtrainval, \n",
    "    nrounds       = opt_iter, \n",
    "    objective     = \"binary:logistic\",\n",
    "    eta           = 0.1,\n",
    "    verbose       = 2, \n",
    "    eval_metric   = 'auc'\n",
    ")\n",
    "\n",
    "predxgb <- predict(xgbModel_opt,dtest)\n",
    "auc <-AUC::auc(roc(predxgb,y_test))\n",
    "AUC::auc(roc(predxgb,y_test))"
   ]
  },
  {
   "cell_type": "code",
   "execution_count": 134,
   "id": "57680512",
   "metadata": {
    "vscode": {
     "languageId": "r"
    }
   },
   "outputs": [
    {
     "data": {
      "text/plain": [
       "          Reference\n",
       "Prediction  0  1\n",
       "         0 54 14\n",
       "         1 30 61"
      ]
     },
     "metadata": {},
     "output_type": "display_data"
    },
    {
     "data": {
      "text/html": [
       "<span style=white-space:pre-wrap>'AUC:  0.817539682539683'</span>"
      ],
      "text/latex": [
       "'AUC:  0.817539682539683'"
      ],
      "text/markdown": [
       "<span style=white-space:pre-wrap>'AUC:  0.817539682539683'</span>"
      ],
      "text/plain": [
       "[1] \"AUC:  0.817539682539683\""
      ]
     },
     "metadata": {},
     "output_type": "display_data"
    },
    {
     "data": {
      "text/html": [
       "<span style=white-space:pre-wrap>'Accuracy:  0.723270440251572'</span>"
      ],
      "text/latex": [
       "'Accuracy:  0.723270440251572'"
      ],
      "text/markdown": [
       "<span style=white-space:pre-wrap>'Accuracy:  0.723270440251572'</span>"
      ],
      "text/plain": [
       "[1] \"Accuracy:  0.723270440251572\""
      ]
     },
     "metadata": {},
     "output_type": "display_data"
    },
    {
     "data": {
      "text/html": [
       "<span style=white-space:pre-wrap>'Recall:  0.813333333333333'</span>"
      ],
      "text/latex": [
       "'Recall:  0.813333333333333'"
      ],
      "text/markdown": [
       "<span style=white-space:pre-wrap>'Recall:  0.813333333333333'</span>"
      ],
      "text/plain": [
       "[1] \"Recall:  0.813333333333333\""
      ]
     },
     "metadata": {},
     "output_type": "display_data"
    },
    {
     "data": {
      "text/html": [
       "<span style=white-space:pre-wrap>'Precision:  0.67032967032967'</span>"
      ],
      "text/latex": [
       "'Precision:  0.67032967032967'"
      ],
      "text/markdown": [
       "<span style=white-space:pre-wrap>'Precision:  0.67032967032967'</span>"
      ],
      "text/plain": [
       "[1] \"Precision:  0.67032967032967\""
      ]
     },
     "metadata": {},
     "output_type": "display_data"
    }
   ],
   "source": [
    "#Although a lower AUC the recall and precision i significantly better than both ranger and random forest\n",
    "set.seed(123)\n",
    "predxgb <- predict(xgbModel_opt,dtest)\n",
    "auc <-AUC::auc(roc(predxgb,y_test))\n",
    "res <-ifelse(predxgb>=0.5,1,0)\n",
    "true_outcome <- y_test\n",
    "\n",
    "\n",
    "confusionMatrix(as.factor(res), as.factor(true_outcome))[[2]]\n",
    "TN =(confusionMatrix(as.factor(res), as.factor(true_outcome)))[[2]][1,1]\n",
    "TP = (confusionMatrix(as.factor(res), as.factor(true_outcome)))[[2]][2,2]\n",
    "FN = (confusionMatrix(as.factor(res), as.factor(true_outcome)))[[2]][1,2]\n",
    "FP = (confusionMatrix(as.factor(res), as.factor(true_outcome)))[[2]][2,1]\n",
    "\n",
    "accuracy = (TP+TN)/(TP+FP+TN+FN)\n",
    "recall = TP/(TP+FN)\n",
    "precision = TP/(TP+FP)\n",
    "\n",
    "paste(\"AUC: \", auc)\n",
    "paste(\"Accuracy: \", accuracy)\n",
    "paste(\"Recall: \", recall)\n",
    "paste(\"Precision: \", precision)"
   ]
  },
  {
   "cell_type": "markdown",
   "id": "ba4f2e54",
   "metadata": {},
   "source": [
    "## LightGBM"
   ]
  },
  {
   "cell_type": "code",
   "execution_count": 34,
   "id": "b1bb9695",
   "metadata": {
    "vscode": {
     "languageId": "r"
    }
   },
   "outputs": [],
   "source": [
    "#Preparing the train and validation tables\n",
    "table_train5 <- table_train\n",
    "table_val5 <- table_val\n",
    "table_test5 <- table_test\n",
    "table_trainval5 <- table_trainval\n",
    "\n",
    "table_train5$Top10 <- NULL\n",
    "table_train5$Top4 <- NULL\n",
    "table_train5$Top3 <- NULL\n",
    "table_train5$Top2 <- NULL\n",
    "\n",
    "table_val5$Top10 <- NULL\n",
    "table_val5$Top4 <- NULL\n",
    "table_val5$Top3 <- NULL\n",
    "table_val5$Top2 <- NULL\n",
    "\n",
    "table_test5$Top10 <- NULL\n",
    "table_test5$Top4 <- NULL\n",
    "table_test5$Top3 <- NULL\n",
    "table_test5$Top2 <- NULL\n",
    "\n",
    "table_trainval5$Top10 <- NULL\n",
    "table_trainval5$Top4 <- NULL\n",
    "table_trainval5$Top3 <- NULL\n",
    "table_trainval5$Top2 <- NULL"
   ]
  },
  {
   "cell_type": "code",
   "execution_count": 35,
   "id": "18126f88",
   "metadata": {
    "vscode": {
     "languageId": "r"
    }
   },
   "outputs": [],
   "source": [
    "#new train en val set\n",
    "y_train <- table_train5$Top5\n",
    "train <- table_train5\n",
    "train$Top5<- NULL\n",
    "\n",
    "y_val <- table_val5$Top5\n",
    "val <- table_val5\n",
    "val$Top5 <-NULL\n",
    "\n",
    "y_test <- table_test5$Top5\n",
    "test <- table_test\n",
    "table_test5$Top5 <- NULL\n",
    "\n",
    "#Combining test and validationset together\n",
    "y_trainval <- table_trainval5$Top5\n",
    "trainval <- table_trainval5\n",
    "trainval$Top5<- NULL"
   ]
  },
  {
   "cell_type": "code",
   "execution_count": 36,
   "id": "ba02c373",
   "metadata": {
    "vscode": {
     "languageId": "r"
    }
   },
   "outputs": [],
   "source": [
    "train_fs <- train[varsel_boruta]\n",
    "val_fs <- val[varsel_boruta]\n",
    "test_fs <- test[varsel_boruta]\n",
    "trainval_fs = trainval[varsel_boruta]"
   ]
  },
  {
   "cell_type": "markdown",
   "id": "ca9199f2",
   "metadata": {},
   "source": [
    "### Tuning"
   ]
  },
  {
   "cell_type": "code",
   "execution_count": null,
   "id": "d174abc4",
   "metadata": {
    "vscode": {
     "languageId": "r"
    }
   },
   "outputs": [],
   "source": [
    "leaves <- c(2, 4, 6, 8)\n",
    "nround <- c(2, 5, 10, 20, 50, 100, 200)\n",
    "learning_rate <- c(0.01, 0.05, 0.1, 0.2, 0.5)\n",
    "\n",
    "# create data frame of all possible combinations\n",
    "params <- expand.grid(leaves, nround, learning_rate)\n",
    "colnames(params) <- c(\"leaves\", \"nround\", \"learning_rate\")\n",
    "\n",
    "aucs <- vector()\n",
    "for (row in 1:nrow(params)) {\n",
    "  # set parameters\n",
    "  par <- params[row, ]\n",
    "  param_set <- list(num_leaves = par[, \"leaves\"],\n",
    "                    learning_rate = par[,\"learning_rate\"],\n",
    "                    objective = \"binary\", boosting = \"gbdt\",\n",
    "                    num_iterations = par[, \"nround\"])\n",
    "  # model\n",
    "  lgbm_model <- lightgbm(data = as.matrix(train_fs),\n",
    "                         params = param_set, label = as.numeric(as.character(y_train)),\n",
    "                         verbose = -1)\n",
    "\n",
    "  # predict\n",
    "  pred <- predict(lgbm_model, as.matrix(val_fs))\n",
    "  \n",
    "  # evaluate\n",
    "  aucs[row] <- AUC::auc(AUC::roc(pred, y_val))\n",
    "}"
   ]
  },
  {
   "cell_type": "code",
   "execution_count": null,
   "id": "784ef62a",
   "metadata": {
    "vscode": {
     "languageId": "r"
    }
   },
   "outputs": [],
   "source": [
    "(optimal_paramsLGBM <- params[which.max(aucs), ])"
   ]
  },
  {
   "cell_type": "markdown",
   "id": "bbdeb8e7",
   "metadata": {},
   "source": [
    "### Build optimal model"
   ]
  },
  {
   "cell_type": "code",
   "execution_count": null,
   "id": "8459649e",
   "metadata": {
    "vscode": {
     "languageId": "r"
    }
   },
   "outputs": [],
   "source": [
    "# Build the final model on the optimal parameters\n",
    "final_param_set <- list(num_leaves = optimal_paramsLGBM[, \"leaves\"],\n",
    "                        learning_rate = optimal_paramsLGBM[, \"learning_rate\"], objective = \"binary\",\n",
    "                        boosting = \"gbdt\", num_iterations = optimal_paramsLGBM[,\n",
    "                                                                               \"nround\"])\n",
    "\n",
    "lgbm_model <- lightgbm(data = as.matrix(train_fs), params = final_param_set,\n",
    "                       label = as.numeric(as.character(y_train)), verbose = -1)"
   ]
  },
  {
   "cell_type": "markdown",
   "id": "9e65d694",
   "metadata": {},
   "source": [
    "### Validation"
   ]
  },
  {
   "cell_type": "code",
   "execution_count": null,
   "id": "a1db11be",
   "metadata": {
    "vscode": {
     "languageId": "r"
    }
   },
   "outputs": [],
   "source": [
    "# Predict\n",
    "predlgbm <- predict(lgbm_model, as.matrix(val_fs))\n",
    "# Evaluate\n",
    "AUC::auc(AUC::roc(predlgbm, y_val))"
   ]
  },
  {
   "cell_type": "markdown",
   "id": "e4cb20db",
   "metadata": {},
   "source": [
    "### Test"
   ]
  },
  {
   "cell_type": "code",
   "execution_count": null,
   "id": "4e32efdc",
   "metadata": {
    "vscode": {
     "languageId": "r"
    }
   },
   "outputs": [],
   "source": [
    "predlgbm <- predict(lgbm_model, as.matrix(test_fs))\n",
    "auc <-AUC::auc(AUC::roc(predlgbm, y_test))"
   ]
  },
  {
   "cell_type": "code",
   "execution_count": null,
   "id": "e5525fba",
   "metadata": {
    "vscode": {
     "languageId": "r"
    }
   },
   "outputs": [],
   "source": [
    "res <-ifelse(predlgbm>=0.5,1,0)\n",
    "true_outcome <- y_test\n",
    "\n",
    "\n",
    "confusionMatrix(as.factor(res), as.factor(true_outcome))[[2]]\n",
    "TN =(confusionMatrix(as.factor(res), as.factor(true_outcome)))[[2]][1,1]\n",
    "TP = (confusionMatrix(as.factor(res), as.factor(true_outcome)))[[2]][2,2]\n",
    "FN = (confusionMatrix(as.factor(res), as.factor(true_outcome)))[[2]][1,2]\n",
    "FP = (confusionMatrix(as.factor(res), as.factor(true_outcome)))[[2]][2,1]\n",
    "\n",
    "accuracy = (TP+TN)/(TP+FP+TN+FN)\n",
    "recall = TP/(TP+FN)\n",
    "precision = TP/(TP+FP)\n",
    "\n",
    "paste(\"Accuracy: \", accuracy)\n",
    "paste(\"Recall: \", recall)\n",
    "paste(\"Precision: \", precision)\n",
    "\n"
   ]
  },
  {
   "cell_type": "markdown",
   "id": "01e06146",
   "metadata": {},
   "source": [
    "# Rotation forest\n"
   ]
  },
  {
   "cell_type": "code",
   "execution_count": 153,
   "id": "ba1cb341",
   "metadata": {
    "scrolled": true,
    "vscode": {
     "languageId": "r"
    }
   },
   "outputs": [],
   "source": [
    "set.seed(123)\n",
    "train <- basetable_train\n",
    "yTRAIN <- train$Top5\n",
    "train$Top10 = NULL\n",
    "train$Top5 = NULL\n",
    "train$Top4 = NULL\n",
    "train$Top3 = NULL\n",
    "train$Top2 = NULL\n",
    "\n",
    "val <- basetable_val\n",
    "yVAL <- val$Top5\n",
    "val$Top10 = NULL\n",
    "val$Top5 = NULL\n",
    "val$Top4 = NULL\n",
    "val$Top3 = NULL\n",
    "val$Top2 = NULL"
   ]
  },
  {
   "cell_type": "code",
   "execution_count": 136,
   "id": "e4885e36",
   "metadata": {},
   "outputs": [],
   "source": [
    "#Boruto performs better\n",
    "train = train[varsel_boruta]\n",
    "val = val[varsel_boruta]"
   ]
  },
  {
   "cell_type": "markdown",
   "id": "2cafee0c",
   "metadata": {},
   "source": [
    "### Tuning"
   ]
  },
  {
   "cell_type": "code",
   "execution_count": 139,
   "id": "6ce073d3",
   "metadata": {
    "vscode": {
     "languageId": "r"
    }
   },
   "outputs": [],
   "source": [
    "# hyperparameter grid search\n",
    "hyper_grid <- expand.grid(\n",
    "  L       = seq(1, 20, by = 1),\n",
    "  K       = seq(1, 3, by = 1)\n",
    ")"
   ]
  },
  {
   "cell_type": "code",
   "execution_count": 140,
   "id": "fc013b5d",
   "metadata": {},
   "outputs": [
    {
     "data": {
      "text/html": [
       "6"
      ],
      "text/latex": [
       "6"
      ],
      "text/markdown": [
       "6"
      ],
      "text/plain": [
       "[1] 6"
      ]
     },
     "metadata": {},
     "output_type": "display_data"
    }
   ],
   "source": [
    "ncol(train)"
   ]
  },
  {
   "cell_type": "code",
   "execution_count": 141,
   "id": "3bafae6c",
   "metadata": {
    "vscode": {
     "languageId": "r"
    }
   },
   "outputs": [],
   "source": [
    "for(i in 1:nrow(hyper_grid)) {\n",
    "  set.seed(123)\n",
    "  # train model\n",
    "  RoFmodel <- rotationForest(\n",
    "    x               = train, \n",
    "    y               = yTRAIN, \n",
    "    L               = hyper_grid$L[i],\n",
    "    K               = hyper_grid$K[i],\n",
    "  )\n",
    "  predictions =  predict(RoFmodel, val)\n",
    "  auc = AUC::auc(roc(predictions,factor(yVAL)))\n",
    "  hyper_grid$AUC[i] <- auc\n",
    "}"
   ]
  },
  {
   "cell_type": "code",
   "execution_count": 142,
   "id": "9e1bc9dd",
   "metadata": {
    "scrolled": false,
    "vscode": {
     "languageId": "r"
    }
   },
   "outputs": [
    {
     "data": {
      "text/html": [
       "<table>\n",
       "<thead><tr><th></th><th scope=col>L</th><th scope=col>K</th><th scope=col>AUC</th></tr></thead>\n",
       "<tbody>\n",
       "\t<tr><th scope=row>56</th><td>19       </td><td>3        </td><td>0.8884953</td></tr>\n",
       "\t<tr><th scope=row>57</th><td>20       </td><td>3        </td><td>0.8911943</td></tr>\n",
       "\t<tr><th scope=row>58</th><td>16       </td><td>3        </td><td>0.8911943</td></tr>\n",
       "\t<tr><th scope=row>59</th><td> 6       </td><td>3        </td><td>0.8920378</td></tr>\n",
       "\t<tr><th scope=row>60</th><td> 7       </td><td>3        </td><td>0.8964238</td></tr>\n",
       "</tbody>\n",
       "</table>\n"
      ],
      "text/latex": [
       "\\begin{tabular}{r|lll}\n",
       "  & L & K & AUC\\\\\n",
       "\\hline\n",
       "\t56 & 19        & 3         & 0.8884953\\\\\n",
       "\t57 & 20        & 3         & 0.8911943\\\\\n",
       "\t58 & 16        & 3         & 0.8911943\\\\\n",
       "\t59 &  6        & 3         & 0.8920378\\\\\n",
       "\t60 &  7        & 3         & 0.8964238\\\\\n",
       "\\end{tabular}\n"
      ],
      "text/markdown": [
       "\n",
       "| <!--/--> | L | K | AUC |\n",
       "|---|---|---|---|\n",
       "| 56 | 19        | 3         | 0.8884953 |\n",
       "| 57 | 20        | 3         | 0.8911943 |\n",
       "| 58 | 16        | 3         | 0.8911943 |\n",
       "| 59 |  6        | 3         | 0.8920378 |\n",
       "| 60 |  7        | 3         | 0.8964238 |\n",
       "\n"
      ],
      "text/plain": [
       "   L  K AUC      \n",
       "56 19 3 0.8884953\n",
       "57 20 3 0.8911943\n",
       "58 16 3 0.8911943\n",
       "59  6 3 0.8920378\n",
       "60  7 3 0.8964238"
      ]
     },
     "metadata": {},
     "output_type": "display_data"
    }
   ],
   "source": [
    "hyper_grid %>% \n",
    "  dplyr::arrange(AUC) %>%\n",
    "  tail(5)\n"
   ]
  },
  {
   "cell_type": "markdown",
   "id": "269720a8",
   "metadata": {},
   "source": [
    "### Validation"
   ]
  },
  {
   "cell_type": "code",
   "execution_count": 155,
   "id": "8fa4fd58",
   "metadata": {
    "vscode": {
     "languageId": "r"
    }
   },
   "outputs": [
    {
     "data": {
      "text/html": [
       "0.882928475033739"
      ],
      "text/latex": [
       "0.882928475033739"
      ],
      "text/markdown": [
       "0.882928475033739"
      ],
      "text/plain": [
       "[1] 0.8829285"
      ]
     },
     "metadata": {},
     "output_type": "display_data"
    }
   ],
   "source": [
    "#No tuning\n",
    "set.seed(123)\n",
    "RoFmodel <- rotationForest(x=train, y = yTRAIN)\n",
    "predictions =  predict(RoFmodel,val)\n",
    "AUC::auc(roc(predictions,factor(yVAL)))"
   ]
  },
  {
   "cell_type": "code",
   "execution_count": 144,
   "id": "227ec9c7",
   "metadata": {
    "vscode": {
     "languageId": "r"
    }
   },
   "outputs": [
    {
     "data": {
      "text/html": [
       "0.89642375168691"
      ],
      "text/latex": [
       "0.89642375168691"
      ],
      "text/markdown": [
       "0.89642375168691"
      ],
      "text/plain": [
       "[1] 0.8964238"
      ]
     },
     "metadata": {},
     "output_type": "display_data"
    }
   ],
   "source": [
    "#With tuning\n",
    "set.seed(123)\n",
    "RoFmodel <- rotationForest(x=train, y = yTRAIN, L=7, K=3)\n",
    "predictions =  predict(RoFmodel, val)\n",
    "auc = AUC::auc(roc(predictions,factor(yVAL)))\n",
    "AUC::auc(roc(predictions,factor(yVAL)))"
   ]
  },
  {
   "cell_type": "code",
   "execution_count": 145,
   "id": "8155d16b",
   "metadata": {
    "vscode": {
     "languageId": "r"
    }
   },
   "outputs": [],
   "source": [
    "res = ifelse(predictions>=0.5,1,0)\n",
    "true_outcome = yVAL"
   ]
  },
  {
   "cell_type": "code",
   "execution_count": 146,
   "id": "f574dd0d",
   "metadata": {
    "scrolled": false,
    "vscode": {
     "languageId": "r"
    }
   },
   "outputs": [
    {
     "data": {
      "text/plain": [
       "          Reference\n",
       "Prediction  0  1\n",
       "         0 43  7\n",
       "         1 14 45"
      ]
     },
     "metadata": {},
     "output_type": "display_data"
    },
    {
     "data": {
      "text/html": [
       "<span style=white-space:pre-wrap>'AUC:  0.89642375168691'</span>"
      ],
      "text/latex": [
       "'AUC:  0.89642375168691'"
      ],
      "text/markdown": [
       "<span style=white-space:pre-wrap>'AUC:  0.89642375168691'</span>"
      ],
      "text/plain": [
       "[1] \"AUC:  0.89642375168691\""
      ]
     },
     "metadata": {},
     "output_type": "display_data"
    },
    {
     "data": {
      "text/html": [
       "<span style=white-space:pre-wrap>'Accuracy:  0.807339449541284'</span>"
      ],
      "text/latex": [
       "'Accuracy:  0.807339449541284'"
      ],
      "text/markdown": [
       "<span style=white-space:pre-wrap>'Accuracy:  0.807339449541284'</span>"
      ],
      "text/plain": [
       "[1] \"Accuracy:  0.807339449541284\""
      ]
     },
     "metadata": {},
     "output_type": "display_data"
    },
    {
     "data": {
      "text/html": [
       "<span style=white-space:pre-wrap>'Recall:  0.865384615384615'</span>"
      ],
      "text/latex": [
       "'Recall:  0.865384615384615'"
      ],
      "text/markdown": [
       "<span style=white-space:pre-wrap>'Recall:  0.865384615384615'</span>"
      ],
      "text/plain": [
       "[1] \"Recall:  0.865384615384615\""
      ]
     },
     "metadata": {},
     "output_type": "display_data"
    },
    {
     "data": {
      "text/html": [
       "<span style=white-space:pre-wrap>'Precision:  0.76271186440678'</span>"
      ],
      "text/latex": [
       "'Precision:  0.76271186440678'"
      ],
      "text/markdown": [
       "<span style=white-space:pre-wrap>'Precision:  0.76271186440678'</span>"
      ],
      "text/plain": [
       "[1] \"Precision:  0.76271186440678\""
      ]
     },
     "metadata": {},
     "output_type": "display_data"
    }
   ],
   "source": [
    "confusionMatrix(as.factor(res), as.factor(true_outcome))[[2]]\n",
    "TN =(confusionMatrix(as.factor(res), as.factor(true_outcome)))[[2]][1,1]\n",
    "TP = (confusionMatrix(as.factor(res), as.factor(true_outcome)))[[2]][2,2]\n",
    "FN = (confusionMatrix(as.factor(res), as.factor(true_outcome)))[[2]][1,2]\n",
    "FP = (confusionMatrix(as.factor(res), as.factor(true_outcome)))[[2]][2,1]\n",
    "\n",
    "accuracy = (TP+TN)/(TP+FP+TN+FN)\n",
    "recall = TP/(TP+FN)\n",
    "precision = TP/(TP+FP)\n",
    "\n",
    "paste(\"AUC: \", auc)\n",
    "paste(\"Accuracy: \", accuracy)\n",
    "paste(\"Recall: \", recall)\n",
    "paste(\"Precision: \", precision)"
   ]
  },
  {
   "cell_type": "markdown",
   "id": "1d08904e",
   "metadata": {},
   "source": [
    "### Test"
   ]
  },
  {
   "cell_type": "code",
   "execution_count": 156,
   "id": "84938f1c",
   "metadata": {},
   "outputs": [],
   "source": [
    "set.seed(123)\n",
    "train <- basetable\n",
    "yTRAIN <- train$Top5\n",
    "train$Top10 = NULL\n",
    "train$Top5 = NULL\n",
    "train$Top4 = NULL\n",
    "train$Top3 = NULL\n",
    "train$Top2 = NULL\n",
    "\n",
    "test <- basetable_test\n",
    "yTEST <- test$Top5\n",
    "test$Top10 = NULL\n",
    "test$Top5 = NULL\n",
    "test$Top4 = NULL\n",
    "test$Top3 = NULL\n",
    "test$Top2 = NULL"
   ]
  },
  {
   "cell_type": "code",
   "execution_count": 157,
   "id": "55a23855",
   "metadata": {},
   "outputs": [],
   "source": [
    "train = train[varsel_boruta]\n",
    "test = test[varsel_boruta]"
   ]
  },
  {
   "cell_type": "code",
   "execution_count": 158,
   "id": "d6ac4913",
   "metadata": {},
   "outputs": [
    {
     "data": {
      "text/html": [
       "0.837698412698413"
      ],
      "text/latex": [
       "0.837698412698413"
      ],
      "text/markdown": [
       "0.837698412698413"
      ],
      "text/plain": [
       "[1] 0.8376984"
      ]
     },
     "metadata": {},
     "output_type": "display_data"
    }
   ],
   "source": [
    "set.seed(123)\n",
    "model <- rotationForest(x=train, y = yTRAIN, L=7, K=3)\n",
    "predictions =  predict(model,test)\n",
    "auc = AUC::auc(roc(predictions,factor(yTEST)))\n",
    "AUC::auc(roc(predictions,factor(yTEST)))"
   ]
  },
  {
   "cell_type": "code",
   "execution_count": 150,
   "id": "d8401c34",
   "metadata": {
    "vscode": {
     "languageId": "r"
    }
   },
   "outputs": [],
   "source": [
    "res = ifelse(predictions>=0.5,1,0)\n",
    "true_outcome = yTEST"
   ]
  },
  {
   "cell_type": "code",
   "execution_count": 151,
   "id": "ae1a5d34",
   "metadata": {
    "scrolled": false,
    "vscode": {
     "languageId": "r"
    }
   },
   "outputs": [
    {
     "data": {
      "text/plain": [
       "          Reference\n",
       "Prediction  0  1\n",
       "         0 56 14\n",
       "         1 28 61"
      ]
     },
     "metadata": {},
     "output_type": "display_data"
    },
    {
     "data": {
      "text/html": [
       "<span style=white-space:pre-wrap>'AUC:  0.837698412698413'</span>"
      ],
      "text/latex": [
       "'AUC:  0.837698412698413'"
      ],
      "text/markdown": [
       "<span style=white-space:pre-wrap>'AUC:  0.837698412698413'</span>"
      ],
      "text/plain": [
       "[1] \"AUC:  0.837698412698413\""
      ]
     },
     "metadata": {},
     "output_type": "display_data"
    },
    {
     "data": {
      "text/html": [
       "<span style=white-space:pre-wrap>'Accuracy:  0.735849056603774'</span>"
      ],
      "text/latex": [
       "'Accuracy:  0.735849056603774'"
      ],
      "text/markdown": [
       "<span style=white-space:pre-wrap>'Accuracy:  0.735849056603774'</span>"
      ],
      "text/plain": [
       "[1] \"Accuracy:  0.735849056603774\""
      ]
     },
     "metadata": {},
     "output_type": "display_data"
    },
    {
     "data": {
      "text/html": [
       "<span style=white-space:pre-wrap>'Recall:  0.813333333333333'</span>"
      ],
      "text/latex": [
       "'Recall:  0.813333333333333'"
      ],
      "text/markdown": [
       "<span style=white-space:pre-wrap>'Recall:  0.813333333333333'</span>"
      ],
      "text/plain": [
       "[1] \"Recall:  0.813333333333333\""
      ]
     },
     "metadata": {},
     "output_type": "display_data"
    },
    {
     "data": {
      "text/html": [
       "<span style=white-space:pre-wrap>'Precision:  0.685393258426966'</span>"
      ],
      "text/latex": [
       "'Precision:  0.685393258426966'"
      ],
      "text/markdown": [
       "<span style=white-space:pre-wrap>'Precision:  0.685393258426966'</span>"
      ],
      "text/plain": [
       "[1] \"Precision:  0.685393258426966\""
      ]
     },
     "metadata": {},
     "output_type": "display_data"
    }
   ],
   "source": [
    "confusionMatrix(as.factor(res), as.factor(true_outcome))[[2]]\n",
    "TN =(confusionMatrix(as.factor(res), as.factor(true_outcome)))[[2]][1,1]\n",
    "TP = (confusionMatrix(as.factor(res), as.factor(true_outcome)))[[2]][2,2]\n",
    "FN = (confusionMatrix(as.factor(res), as.factor(true_outcome)))[[2]][1,2]\n",
    "FP = (confusionMatrix(as.factor(res), as.factor(true_outcome)))[[2]][2,1]\n",
    "\n",
    "accuracy = (TP+TN)/(TP+FP+TN+FN)\n",
    "recall = TP/(TP+FN)\n",
    "precision = TP/(TP+FP)\n",
    "\n",
    "paste(\"AUC: \", auc)\n",
    "paste(\"Accuracy: \", accuracy)\n",
    "paste(\"Recall: \", recall)\n",
    "paste(\"Precision: \", precision)"
   ]
  },
  {
   "cell_type": "markdown",
   "id": "a55de01e",
   "metadata": {},
   "source": [
    "Best performing model in terms of recall"
   ]
  },
  {
   "cell_type": "markdown",
   "id": "21d2a968",
   "metadata": {},
   "source": [
    "# Catboost"
   ]
  },
  {
   "cell_type": "code",
   "execution_count": 159,
   "id": "16480b02",
   "metadata": {},
   "outputs": [
    {
     "ename": "ERROR",
     "evalue": "Error in catboost.load_pool(data = data.matrix(basetable_train[, -(40:44)]), : could not find function \"catboost.load_pool\"\n",
     "output_type": "error",
     "traceback": [
      "Error in catboost.load_pool(data = data.matrix(basetable_train[, -(40:44)]), : could not find function \"catboost.load_pool\"\nTraceback:\n"
     ]
    }
   ],
   "source": [
    "train_pool <- catboost.load_pool(data = data.matrix(basetable_train[,-(40:44)]),label = as.numeric(as.character(basetable_train$Top5)))\n",
    "val_pool <- catboost.load_pool(data = data.matrix(basetable_val[,-(40:44)]), label = as.numeric(as.character(basetable_val$Top5)))"
   ]
  },
  {
   "cell_type": "code",
   "execution_count": null,
   "id": "be32ef5a",
   "metadata": {},
   "outputs": [],
   "source": [
    "# parameter tuning with caret\n",
    "fit_control <- trainControl(method = \"cv\",\n",
    "                            number = 4,\n",
    "                            classProbs = TRUE)\n",
    "\n",
    "grid <- expand.grid(depth = c(4, 6, 8),\n",
    "                    learning_rate = c(0.1,0.5,1),\n",
    "                    iterations = 100,\n",
    "                    l2_leaf_reg = c(0.001, 0.01, 0.1, 1),\n",
    "                    rsm = 0.95,\n",
    "                    border_count = 64)\n",
    "report <- train(basetable_train[,-(40:44)], as.factor(make.names(basetable_train$Top5)),\n",
    "                method = catboost.caret,\n",
    "                logging_level = 'Verbose', preProc = NULL,\n",
    "                tuneGrid = grid, trControl = fit_control)\n",
    "\n",
    "print(report)\n",
    "#extract best parameters\n",
    "params <- list(loss_function = 'Logloss',\n",
    "               iterations = 100, \n",
    "               depth = 8, \n",
    "               learning_rate = 0.1,\n",
    "               l2_leaf_reg = 0.001, #L2 regularization \n",
    "               metric_period=10)\n",
    "\n",
    "importance <- varImp(report, scale = FALSE)\n",
    "print(importance)"
   ]
  },
  {
   "cell_type": "code",
   "execution_count": null,
   "id": "3a3bfb2b",
   "metadata": {},
   "outputs": [],
   "source": [
    "# train model\n",
    "catboost_train <- catboost.train(train_pool,  NULL, params = params)\n",
    "\n",
    "preds_cad_train <- catboost.predict(catboost_train, val_pool)\n",
    "\n",
    "AUC::auc(AUC::roc(preds_cad_train,basetable_val$Top5)) # Validation set AUC"
   ]
  },
  {
   "cell_type": "code",
   "execution_count": null,
   "id": "d2656477",
   "metadata": {},
   "outputs": [],
   "source": [
    "# now for test set\n",
    "big_pool <- catboost.load_pool(data = data.matrix(basetable[,-(40:44)]), \n",
    "                                 label = as.numeric(as.character(basetable$Top5)))\n",
    "test_pool <- catboost.load_pool(data = data.matrix(basetable_test[,-(40:44)]), \n",
    "                               label = as.numeric(as.character(basetable_test$Top5)))\n",
    "\n",
    "catboost_test <- catboost.train(big_pool,  NULL, params = params)\n",
    "\n",
    "preds_cad_test <- catboost.predict(catboost_test, test_pool)\n",
    "\n",
    "AUC::auc(AUC::roc(preds_cad_test,basetable_test$Top5)) # Test set AUC"
   ]
  },
  {
   "cell_type": "code",
   "execution_count": null,
   "id": "2ab9ebd6",
   "metadata": {},
   "outputs": [],
   "source": [
    "# check accuracy\n",
    "res <-ifelse(preds_cad_test>=0.5,1,0)\n",
    "true_outcome <- basetable_test$Top5\n",
    "\n",
    "\n",
    "confusionMatrix(as.factor(res), as.factor(true_outcome))[[2]]\n",
    "TN =(confusionMatrix(as.factor(res), as.factor(true_outcome)))[[2]][1,1]\n",
    "TP = (confusionMatrix(as.factor(res), as.factor(true_outcome)))[[2]][2,2]\n",
    "FN = (confusionMatrix(as.factor(res), as.factor(true_outcome)))[[2]][1,2]\n",
    "FP = (confusionMatrix(as.factor(res), as.factor(true_outcome)))[[2]][2,1]\n",
    "\n",
    "accuracy = (TP+TN)/(TP+FP+TN+FN)\n",
    "recall = TP/(TP+FN)\n",
    "precision = TP/(TP+FP)\n",
    "accuracy"
   ]
  },
  {
   "cell_type": "markdown",
   "id": "b11de988",
   "metadata": {},
   "source": [
    "# Heterogenous ensemble"
   ]
  },
  {
   "cell_type": "code",
   "execution_count": null,
   "id": "b20e362b",
   "metadata": {},
   "outputs": [],
   "source": [
    "\n",
    "# adaboost & rotation\n",
    "finalpredictions <- (auc_RoF/(auc_RoF + auc_ada)) * pred_RoF_test + (auc_ada/(auc_RoF + auc_ada)) * predAB\n",
    "\n",
    "AUC::auc(AUC::roc(finalpredictions, basetable_test$Top5))\n",
    "\n",
    "# accuracy\n",
    "res <-ifelse(finalpredictions>=0.5,1,0)\n",
    "true_outcome <- basetable_test$Top5\n",
    "\n",
    "\n",
    "confusionMatrix(as.factor(res), as.factor(true_outcome))[[2]]\n",
    "TN =(confusionMatrix(as.factor(res), as.factor(true_outcome)))[[2]][1,1]\n",
    "TP = (confusionMatrix(as.factor(res), as.factor(true_outcome)))[[2]][2,2]\n",
    "FN = (confusionMatrix(as.factor(res), as.factor(true_outcome)))[[2]][1,2]\n",
    "FP = (confusionMatrix(as.factor(res), as.factor(true_outcome)))[[2]][2,1]\n",
    "\n",
    "accuracy = (TP+TN)/(TP+FP+TN+FN)\n",
    "recall = TP/(TP+FN)\n",
    "precision = TP/(TP+FP)\n",
    "accuracy\n"
   ]
  }
 ],
 "metadata": {
  "hide_input": false,
  "kernelspec": {
   "display_name": "R",
   "language": "R",
   "name": "ir"
  },
  "language_info": {
   "codemirror_mode": "r",
   "file_extension": ".r",
   "mimetype": "text/x-r-source",
   "name": "R",
   "pygments_lexer": "r",
   "version": "3.6.1"
  }
 },
 "nbformat": 4,
 "nbformat_minor": 5
}
