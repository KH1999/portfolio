{
 "cells": [
  {
   "cell_type": "code",
   "execution_count": 1,
   "id": "a79d6c53",
   "metadata": {
    "vscode": {
     "languageId": "r"
    }
   },
   "outputs": [
    {
     "name": "stderr",
     "output_type": "stream",
     "text": [
      "also installing the dependency 'jsonlite'\n",
      "\n",
      "Warning message:\n",
      "\"unable to access index for repository http://www.stats.ox.ac.uk/pub/RWin/bin/windows/contrib/3.6:\n",
      "  cannot open URL 'http://www.stats.ox.ac.uk/pub/RWin/bin/windows/contrib/3.6/PACKAGES'\""
     ]
    },
    {
     "name": "stdout",
     "output_type": "stream",
     "text": [
      "\n",
      "  There is a binary version available but the source version is later:\n",
      "         binary source needs_compilation\n",
      "jsonlite  1.7.2  1.8.0              TRUE\n",
      "\n",
      "  Binaries will be installed\n",
      "package 'jsonlite' successfully unpacked and MD5 sums checked\n"
     ]
    },
    {
     "name": "stderr",
     "output_type": "stream",
     "text": [
      "Warning message:\n",
      "\"cannot remove prior installation of package 'jsonlite'\"Warning message in file.copy(savedcopy, lib, recursive = TRUE):\n",
      "\"problem copying C:\\Users\\jordy\\anaconda3\\envs\\R2\\Lib\\R\\library\\00LOCK\\jsonlite\\libs\\x64\\jsonlite.dll to C:\\Users\\jordy\\anaconda3\\envs\\R2\\Lib\\R\\library\\jsonlite\\libs\\x64\\jsonlite.dll: Permission denied\"Warning message:\n",
      "\"restored 'jsonlite'\""
     ]
    },
    {
     "name": "stdout",
     "output_type": "stream",
     "text": [
      "package 'tidyverse' successfully unpacked and MD5 sums checked\n",
      "\n",
      "The downloaded binary packages are in\n",
      "\tC:\\Users\\jordy\\AppData\\Local\\Temp\\Rtmp0IP1P7\\downloaded_packages\n"
     ]
    },
    {
     "name": "stderr",
     "output_type": "stream",
     "text": [
      "\n",
      "tidyverse installed\n",
      "Warning message:\n",
      "\"package 'tidyverse' was built under R version 3.6.3\"Warning message in p_load(lubridate, AUC, tidyverse, magrittr, dplyr, tidyr, rlist, :\n",
      "\"Failed to install/load:\n",
      "tidyverse\""
     ]
    }
   ],
   "source": [
    "library(pacman)\n",
    "p_load(lubridate, AUC, tidyverse,magrittr, dplyr, tidyr,rlist,dummy , e1071, ROSE , rotationForest, xgboost, Boruta, varSelRF)"
   ]
  },
  {
   "cell_type": "code",
   "execution_count": 2,
   "id": "070d509d",
   "metadata": {
    "vscode": {
     "languageId": "r"
    }
   },
   "outputs": [],
   "source": [
    "p_load(caret)\n",
    "\n",
    "p_load(FNN)\n",
    "\n",
    "p_load(randomForest)\n",
    "\n",
    "options(repr.matrix.max.cols=1000, repr.matrix.max.rows=1000)"
   ]
  },
  {
   "cell_type": "code",
   "execution_count": 3,
   "id": "e2e2b666",
   "metadata": {
    "vscode": {
     "languageId": "r"
    }
   },
   "outputs": [],
   "source": [
    "p_load(ranger)"
   ]
  },
  {
   "cell_type": "code",
   "execution_count": 4,
   "id": "8b99323a",
   "metadata": {},
   "outputs": [],
   "source": [
    "p_load(ada)\n",
    "p_load(remotes)"
   ]
  },
  {
   "cell_type": "markdown",
   "id": "b3088e99",
   "metadata": {},
   "source": [
    "# Building basetable"
   ]
  },
  {
   "cell_type": "code",
   "execution_count": 5,
   "id": "39abb9b3",
   "metadata": {
    "scrolled": false,
    "vscode": {
     "languageId": "r"
    }
   },
   "outputs": [
    {
     "data": {
      "text/html": [
       "<table>\n",
       "<thead><tr><th scope=col>Pos</th><th scope=col>Rider</th><th scope=col>Team</th><th scope=col>Time</th><th scope=col>Rider_ID</th><th scope=col>Rider_Country</th><th scope=col>Team_ID</th><th scope=col>Year</th><th scope=col>Stage</th><th scope=col>UCI</th><th scope=col>ID</th><th scope=col>Stage.Type</th><th scope=col>Race</th><th scope=col>CONSTANT</th><th scope=col>Birthday</th><th scope=col>ACCELERATION</th><th scope=col>ATTACK</th><th scope=col>COBBLES</th><th scope=col>DOWNHILL</th><th scope=col>ENDURANCE</th><th scope=col>FLAT</th><th scope=col>HILL</th><th scope=col>MOUNTAIN</th><th scope=col>PROLOGUE</th><th scope=col>RECUP</th><th scope=col>RESISTANCE</th><th scope=col>SPRINT</th><th scope=col>OVERALL</th><th scope=col>Size</th><th scope=col>TT</th><th scope=col>Weight</th><th scope=col>fitness_i_handicap</th><th scope=col>fkIDcyclist_state</th><th scope=col>fkIDinjury</th><th scope=col>fkIDrace</th><th scope=col>fkIDstaff_physician</th><th scope=col>fkIDstaff_trainer</th><th scope=col>fkIDstate_roster</th><th scope=col>fkIDtga_skin</th><th scope=col>fkIDtraining_camp</th><th scope=col>fkIDtype_rider</th><th scope=col>gene_b_inshortlist</th><th scope=col>gene_b_nominated</th><th scope=col>gene_b_selected_in_roster</th><th scope=col>gene_b_will_retire</th><th scope=col>gene_f_popularity_max</th><th scope=col>gene_i_champion_bit</th><th scope=col>gene_i_date_last_breakaway</th><th scope=col>gene_i_date_last_punchers</th><th scope=col>gene_i_day_progression</th><th scope=col>gene_i_dossard</th><th scope=col>gene_i_year_progression</th><th scope=col>gene_ilist_fkIDfavorite_races</th><th scope=col>gene_sz_firstlastname</th><th scope=col>gene_sz_soundname</th><th scope=col>limit_i_acceleration</th><th scope=col>limit_i_baroudeur</th><th scope=col>limit_i_cobble</th><th scope=col>limit_i_downhilling</th><th scope=col>limit_i_endurance</th><th scope=col>limit_i_hill</th><th scope=col>limit_i_mountain</th><th scope=col>limit_i_plain</th><th scope=col>limit_i_prologue</th><th scope=col>limit_i_recuperation</th><th scope=col>limit_i_resistance</th><th scope=col>limit_i_sprint</th><th scope=col>limit_i_timetrial</th><th scope=col>prerace_i_cyclist</th><th scope=col>race_b_withdrawal</th><th scope=col>value_i_potentiel</th><th scope=col>value_i_rank_voted</th></tr></thead>\n",
       "<tbody>\n",
       "\t<tr><td>194                 </td><td>yamamoto genki      </td><td>Nippo - Vini Fantini</td><td>#VERW!              </td><td>10662               </td><td>JPN                 </td><td>6439                </td><td>2016                </td><td> 4                  </td><td>NA                  </td><td>3583                </td><td>Hilly               </td><td>Giro                </td><td>                    </td><td>19911119            </td><td>54                  </td><td>62                  </td><td>51                  </td><td>51                  </td><td>56                  </td><td>64                  </td><td>63                  </td><td>57                  </td><td>65                  </td><td>61                  </td><td>59                  </td><td>52                  </td><td>58                  </td><td>0                   </td><td>66                  </td><td>0                   </td><td>0                   </td><td>3                   </td><td>0                   </td><td>0                   </td><td>0                   </td><td>0                   </td><td>0                   </td><td>0                   </td><td>0                   </td><td>0                   </td><td>0                   </td><td>0                   </td><td>0                   </td><td>0                   </td><td>0                   </td><td>0                   </td><td>0                   </td><td>0                   </td><td>0                   </td><td>0                   </td><td>0                   </td><td>                    </td><td>Yamamoto G.         </td><td>                    </td><td>0                   </td><td>0                   </td><td>0                   </td><td>0                   </td><td>0                   </td><td>0                   </td><td>0                   </td><td>0                   </td><td>0                   </td><td>0                   </td><td>0                   </td><td>0                   </td><td>0                   </td><td>0                   </td><td>0                   </td><td>3                   </td><td>0                   </td></tr>\n",
       "\t<tr><td>171                 </td><td>yamamoto genki      </td><td>Nippo - Vini Fantini</td><td>#VERW!              </td><td>10662               </td><td>JPN                 </td><td>6439                </td><td>2016                </td><td> 6                  </td><td>NA                  </td><td>3583                </td><td>Hilly               </td><td>Giro                </td><td>                    </td><td>19911119            </td><td>54                  </td><td>62                  </td><td>51                  </td><td>51                  </td><td>56                  </td><td>64                  </td><td>63                  </td><td>57                  </td><td>65                  </td><td>61                  </td><td>59                  </td><td>52                  </td><td>58                  </td><td>0                   </td><td>66                  </td><td>0                   </td><td>0                   </td><td>3                   </td><td>0                   </td><td>0                   </td><td>0                   </td><td>0                   </td><td>0                   </td><td>0                   </td><td>0                   </td><td>0                   </td><td>0                   </td><td>0                   </td><td>0                   </td><td>0                   </td><td>0                   </td><td>0                   </td><td>0                   </td><td>0                   </td><td>0                   </td><td>0                   </td><td>0                   </td><td>                    </td><td>Yamamoto G.         </td><td>                    </td><td>0                   </td><td>0                   </td><td>0                   </td><td>0                   </td><td>0                   </td><td>0                   </td><td>0                   </td><td>0                   </td><td>0                   </td><td>0                   </td><td>0                   </td><td>0                   </td><td>0                   </td><td>0                   </td><td>0                   </td><td>3                   </td><td>0                   </td></tr>\n",
       "\t<tr><td>186                 </td><td>yamamoto genki      </td><td>Nippo - Vini Fantini</td><td>#VERW!              </td><td>10662               </td><td>JPN                 </td><td>6439                </td><td>2016                </td><td> 8                  </td><td>NA                  </td><td>3583                </td><td>Hilly               </td><td>Giro                </td><td>                    </td><td>19911119            </td><td>54                  </td><td>62                  </td><td>51                  </td><td>51                  </td><td>56                  </td><td>64                  </td><td>63                  </td><td>57                  </td><td>65                  </td><td>61                  </td><td>59                  </td><td>52                  </td><td>58                  </td><td>0                   </td><td>66                  </td><td>0                   </td><td>0                   </td><td>3                   </td><td>0                   </td><td>0                   </td><td>0                   </td><td>0                   </td><td>0                   </td><td>0                   </td><td>0                   </td><td>0                   </td><td>0                   </td><td>0                   </td><td>0                   </td><td>0                   </td><td>0                   </td><td>0                   </td><td>0                   </td><td>0                   </td><td>0                   </td><td>0                   </td><td>0                   </td><td>                    </td><td>Yamamoto G.         </td><td>                    </td><td>0                   </td><td>0                   </td><td>0                   </td><td>0                   </td><td>0                   </td><td>0                   </td><td>0                   </td><td>0                   </td><td>0                   </td><td>0                   </td><td>0                   </td><td>0                   </td><td>0                   </td><td>0                   </td><td>0                   </td><td>3                   </td><td>0                   </td></tr>\n",
       "\t<tr><td>117                 </td><td>yamamoto genki      </td><td>Nippo - Vini Fantini</td><td>#VERW!              </td><td>10662               </td><td>JPN                 </td><td>6439                </td><td>2016                </td><td>10                  </td><td>NA                  </td><td>3583                </td><td>Hilly               </td><td>Giro                </td><td>                    </td><td>19911119            </td><td>54                  </td><td>62                  </td><td>51                  </td><td>51                  </td><td>56                  </td><td>64                  </td><td>63                  </td><td>57                  </td><td>65                  </td><td>61                  </td><td>59                  </td><td>52                  </td><td>58                  </td><td>0                   </td><td>66                  </td><td>0                   </td><td>0                   </td><td>3                   </td><td>0                   </td><td>0                   </td><td>0                   </td><td>0                   </td><td>0                   </td><td>0                   </td><td>0                   </td><td>0                   </td><td>0                   </td><td>0                   </td><td>0                   </td><td>0                   </td><td>0                   </td><td>0                   </td><td>0                   </td><td>0                   </td><td>0                   </td><td>0                   </td><td>0                   </td><td>                    </td><td>Yamamoto G.         </td><td>                    </td><td>0                   </td><td>0                   </td><td>0                   </td><td>0                   </td><td>0                   </td><td>0                   </td><td>0                   </td><td>0                   </td><td>0                   </td><td>0                   </td><td>0                   </td><td>0                   </td><td>0                   </td><td>0                   </td><td>0                   </td><td>3                   </td><td>0                   </td></tr>\n",
       "\t<tr><td>151                 </td><td>yamamoto genki      </td><td>Nippo - Vini Fantini</td><td>#VERW!              </td><td>10662               </td><td>JPN                 </td><td>6439                </td><td>2016                </td><td>11                  </td><td>NA                  </td><td>3583                </td><td>Hilly               </td><td>Giro                </td><td>                    </td><td>19911119            </td><td>54                  </td><td>62                  </td><td>51                  </td><td>51                  </td><td>56                  </td><td>64                  </td><td>63                  </td><td>57                  </td><td>65                  </td><td>61                  </td><td>59                  </td><td>52                  </td><td>58                  </td><td>0                   </td><td>66                  </td><td>0                   </td><td>0                   </td><td>3                   </td><td>0                   </td><td>0                   </td><td>0                   </td><td>0                   </td><td>0                   </td><td>0                   </td><td>0                   </td><td>0                   </td><td>0                   </td><td>0                   </td><td>0                   </td><td>0                   </td><td>0                   </td><td>0                   </td><td>0                   </td><td>0                   </td><td>0                   </td><td>0                   </td><td>0                   </td><td>                    </td><td>Yamamoto G.         </td><td>                    </td><td>0                   </td><td>0                   </td><td>0                   </td><td>0                   </td><td>0                   </td><td>0                   </td><td>0                   </td><td>0                   </td><td>0                   </td><td>0                   </td><td>0                   </td><td>0                   </td><td>0                   </td><td>0                   </td><td>0                   </td><td>3                   </td><td>0                   </td></tr>\n",
       "\t<tr><td>129                 </td><td>yamamoto genki      </td><td>Nippo - Vini Fantini</td><td>#VERW!              </td><td>10662               </td><td>JPN                 </td><td>6439                </td><td>2016                </td><td>13                  </td><td>NA                  </td><td>3583                </td><td>Hilly               </td><td>Giro                </td><td>                    </td><td>19911119            </td><td>54                  </td><td>62                  </td><td>51                  </td><td>51                  </td><td>56                  </td><td>64                  </td><td>63                  </td><td>57                  </td><td>65                  </td><td>61                  </td><td>59                  </td><td>52                  </td><td>58                  </td><td>0                   </td><td>66                  </td><td>0                   </td><td>0                   </td><td>3                   </td><td>0                   </td><td>0                   </td><td>0                   </td><td>0                   </td><td>0                   </td><td>0                   </td><td>0                   </td><td>0                   </td><td>0                   </td><td>0                   </td><td>0                   </td><td>0                   </td><td>0                   </td><td>0                   </td><td>0                   </td><td>0                   </td><td>0                   </td><td>0                   </td><td>0                   </td><td>                    </td><td>Yamamoto G.         </td><td>                    </td><td>0                   </td><td>0                   </td><td>0                   </td><td>0                   </td><td>0                   </td><td>0                   </td><td>0                   </td><td>0                   </td><td>0                   </td><td>0                   </td><td>0                   </td><td>0                   </td><td>0                   </td><td>0                   </td><td>0                   </td><td>3                   </td><td>0                   </td></tr>\n",
       "</tbody>\n",
       "</table>\n"
      ],
      "text/latex": [
       "\\begin{tabular}{r|llllllllllllllllllllllllllllllllllllllllllllllllllllllllllllllllllllllll}\n",
       " Pos & Rider & Team & Time & Rider\\_ID & Rider\\_Country & Team\\_ID & Year & Stage & UCI & ID & Stage.Type & Race & CONSTANT & Birthday & ACCELERATION & ATTACK & COBBLES & DOWNHILL & ENDURANCE & FLAT & HILL & MOUNTAIN & PROLOGUE & RECUP & RESISTANCE & SPRINT & OVERALL & Size & TT & Weight & fitness\\_i\\_handicap & fkIDcyclist\\_state & fkIDinjury & fkIDrace & fkIDstaff\\_physician & fkIDstaff\\_trainer & fkIDstate\\_roster & fkIDtga\\_skin & fkIDtraining\\_camp & fkIDtype\\_rider & gene\\_b\\_inshortlist & gene\\_b\\_nominated & gene\\_b\\_selected\\_in\\_roster & gene\\_b\\_will\\_retire & gene\\_f\\_popularity\\_max & gene\\_i\\_champion\\_bit & gene\\_i\\_date\\_last\\_breakaway & gene\\_i\\_date\\_last\\_punchers & gene\\_i\\_day\\_progression & gene\\_i\\_dossard & gene\\_i\\_year\\_progression & gene\\_ilist\\_fkIDfavorite\\_races & gene\\_sz\\_firstlastname & gene\\_sz\\_soundname & limit\\_i\\_acceleration & limit\\_i\\_baroudeur & limit\\_i\\_cobble & limit\\_i\\_downhilling & limit\\_i\\_endurance & limit\\_i\\_hill & limit\\_i\\_mountain & limit\\_i\\_plain & limit\\_i\\_prologue & limit\\_i\\_recuperation & limit\\_i\\_resistance & limit\\_i\\_sprint & limit\\_i\\_timetrial & prerace\\_i\\_cyclist & race\\_b\\_withdrawal & value\\_i\\_potentiel & value\\_i\\_rank\\_voted\\\\\n",
       "\\hline\n",
       "\t 194                  & yamamoto genki       & Nippo - Vini Fantini & \\#VERW!             & 10662                & JPN                  & 6439                 & 2016                 &  4                   & NA                   & 3583                 & Hilly                & Giro                 &                      & 19911119             & 54                   & 62                   & 51                   & 51                   & 56                   & 64                   & 63                   & 57                   & 65                   & 61                   & 59                   & 52                   & 58                   & 0                    & 66                   & 0                    & 0                    & 3                    & 0                    & 0                    & 0                    & 0                    & 0                    & 0                    & 0                    & 0                    & 0                    & 0                    & 0                    & 0                    & 0                    & 0                    & 0                    & 0                    & 0                    & 0                    & 0                    &                      & Yamamoto G.          &                      & 0                    & 0                    & 0                    & 0                    & 0                    & 0                    & 0                    & 0                    & 0                    & 0                    & 0                    & 0                    & 0                    & 0                    & 0                    & 3                    & 0                   \\\\\n",
       "\t 171                  & yamamoto genki       & Nippo - Vini Fantini & \\#VERW!             & 10662                & JPN                  & 6439                 & 2016                 &  6                   & NA                   & 3583                 & Hilly                & Giro                 &                      & 19911119             & 54                   & 62                   & 51                   & 51                   & 56                   & 64                   & 63                   & 57                   & 65                   & 61                   & 59                   & 52                   & 58                   & 0                    & 66                   & 0                    & 0                    & 3                    & 0                    & 0                    & 0                    & 0                    & 0                    & 0                    & 0                    & 0                    & 0                    & 0                    & 0                    & 0                    & 0                    & 0                    & 0                    & 0                    & 0                    & 0                    & 0                    &                      & Yamamoto G.          &                      & 0                    & 0                    & 0                    & 0                    & 0                    & 0                    & 0                    & 0                    & 0                    & 0                    & 0                    & 0                    & 0                    & 0                    & 0                    & 3                    & 0                   \\\\\n",
       "\t 186                  & yamamoto genki       & Nippo - Vini Fantini & \\#VERW!             & 10662                & JPN                  & 6439                 & 2016                 &  8                   & NA                   & 3583                 & Hilly                & Giro                 &                      & 19911119             & 54                   & 62                   & 51                   & 51                   & 56                   & 64                   & 63                   & 57                   & 65                   & 61                   & 59                   & 52                   & 58                   & 0                    & 66                   & 0                    & 0                    & 3                    & 0                    & 0                    & 0                    & 0                    & 0                    & 0                    & 0                    & 0                    & 0                    & 0                    & 0                    & 0                    & 0                    & 0                    & 0                    & 0                    & 0                    & 0                    & 0                    &                      & Yamamoto G.          &                      & 0                    & 0                    & 0                    & 0                    & 0                    & 0                    & 0                    & 0                    & 0                    & 0                    & 0                    & 0                    & 0                    & 0                    & 0                    & 3                    & 0                   \\\\\n",
       "\t 117                  & yamamoto genki       & Nippo - Vini Fantini & \\#VERW!             & 10662                & JPN                  & 6439                 & 2016                 & 10                   & NA                   & 3583                 & Hilly                & Giro                 &                      & 19911119             & 54                   & 62                   & 51                   & 51                   & 56                   & 64                   & 63                   & 57                   & 65                   & 61                   & 59                   & 52                   & 58                   & 0                    & 66                   & 0                    & 0                    & 3                    & 0                    & 0                    & 0                    & 0                    & 0                    & 0                    & 0                    & 0                    & 0                    & 0                    & 0                    & 0                    & 0                    & 0                    & 0                    & 0                    & 0                    & 0                    & 0                    &                      & Yamamoto G.          &                      & 0                    & 0                    & 0                    & 0                    & 0                    & 0                    & 0                    & 0                    & 0                    & 0                    & 0                    & 0                    & 0                    & 0                    & 0                    & 3                    & 0                   \\\\\n",
       "\t 151                  & yamamoto genki       & Nippo - Vini Fantini & \\#VERW!             & 10662                & JPN                  & 6439                 & 2016                 & 11                   & NA                   & 3583                 & Hilly                & Giro                 &                      & 19911119             & 54                   & 62                   & 51                   & 51                   & 56                   & 64                   & 63                   & 57                   & 65                   & 61                   & 59                   & 52                   & 58                   & 0                    & 66                   & 0                    & 0                    & 3                    & 0                    & 0                    & 0                    & 0                    & 0                    & 0                    & 0                    & 0                    & 0                    & 0                    & 0                    & 0                    & 0                    & 0                    & 0                    & 0                    & 0                    & 0                    & 0                    &                      & Yamamoto G.          &                      & 0                    & 0                    & 0                    & 0                    & 0                    & 0                    & 0                    & 0                    & 0                    & 0                    & 0                    & 0                    & 0                    & 0                    & 0                    & 3                    & 0                   \\\\\n",
       "\t 129                  & yamamoto genki       & Nippo - Vini Fantini & \\#VERW!             & 10662                & JPN                  & 6439                 & 2016                 & 13                   & NA                   & 3583                 & Hilly                & Giro                 &                      & 19911119             & 54                   & 62                   & 51                   & 51                   & 56                   & 64                   & 63                   & 57                   & 65                   & 61                   & 59                   & 52                   & 58                   & 0                    & 66                   & 0                    & 0                    & 3                    & 0                    & 0                    & 0                    & 0                    & 0                    & 0                    & 0                    & 0                    & 0                    & 0                    & 0                    & 0                    & 0                    & 0                    & 0                    & 0                    & 0                    & 0                    & 0                    &                      & Yamamoto G.          &                      & 0                    & 0                    & 0                    & 0                    & 0                    & 0                    & 0                    & 0                    & 0                    & 0                    & 0                    & 0                    & 0                    & 0                    & 0                    & 3                    & 0                   \\\\\n",
       "\\end{tabular}\n"
      ],
      "text/markdown": [
       "\n",
       "| Pos | Rider | Team | Time | Rider_ID | Rider_Country | Team_ID | Year | Stage | UCI | ID | Stage.Type | Race | CONSTANT | Birthday | ACCELERATION | ATTACK | COBBLES | DOWNHILL | ENDURANCE | FLAT | HILL | MOUNTAIN | PROLOGUE | RECUP | RESISTANCE | SPRINT | OVERALL | Size | TT | Weight | fitness_i_handicap | fkIDcyclist_state | fkIDinjury | fkIDrace | fkIDstaff_physician | fkIDstaff_trainer | fkIDstate_roster | fkIDtga_skin | fkIDtraining_camp | fkIDtype_rider | gene_b_inshortlist | gene_b_nominated | gene_b_selected_in_roster | gene_b_will_retire | gene_f_popularity_max | gene_i_champion_bit | gene_i_date_last_breakaway | gene_i_date_last_punchers | gene_i_day_progression | gene_i_dossard | gene_i_year_progression | gene_ilist_fkIDfavorite_races | gene_sz_firstlastname | gene_sz_soundname | limit_i_acceleration | limit_i_baroudeur | limit_i_cobble | limit_i_downhilling | limit_i_endurance | limit_i_hill | limit_i_mountain | limit_i_plain | limit_i_prologue | limit_i_recuperation | limit_i_resistance | limit_i_sprint | limit_i_timetrial | prerace_i_cyclist | race_b_withdrawal | value_i_potentiel | value_i_rank_voted |\n",
       "|---|---|---|---|---|---|---|---|---|---|---|---|---|---|---|---|---|---|---|---|---|---|---|---|---|---|---|---|---|---|---|---|---|---|---|---|---|---|---|---|---|---|---|---|---|---|---|---|---|---|---|---|---|---|---|---|---|---|---|---|---|---|---|---|---|---|---|---|---|---|---|---|\n",
       "| 194                  | yamamoto genki       | Nippo - Vini Fantini | #VERW!               | 10662                | JPN                  | 6439                 | 2016                 |  4                   | NA                   | 3583                 | Hilly                | Giro                 |                      | 19911119             | 54                   | 62                   | 51                   | 51                   | 56                   | 64                   | 63                   | 57                   | 65                   | 61                   | 59                   | 52                   | 58                   | 0                    | 66                   | 0                    | 0                    | 3                    | 0                    | 0                    | 0                    | 0                    | 0                    | 0                    | 0                    | 0                    | 0                    | 0                    | 0                    | 0                    | 0                    | 0                    | 0                    | 0                    | 0                    | 0                    | 0                    |                      | Yamamoto G.          |                      | 0                    | 0                    | 0                    | 0                    | 0                    | 0                    | 0                    | 0                    | 0                    | 0                    | 0                    | 0                    | 0                    | 0                    | 0                    | 3                    | 0                    |\n",
       "| 171                  | yamamoto genki       | Nippo - Vini Fantini | #VERW!               | 10662                | JPN                  | 6439                 | 2016                 |  6                   | NA                   | 3583                 | Hilly                | Giro                 |                      | 19911119             | 54                   | 62                   | 51                   | 51                   | 56                   | 64                   | 63                   | 57                   | 65                   | 61                   | 59                   | 52                   | 58                   | 0                    | 66                   | 0                    | 0                    | 3                    | 0                    | 0                    | 0                    | 0                    | 0                    | 0                    | 0                    | 0                    | 0                    | 0                    | 0                    | 0                    | 0                    | 0                    | 0                    | 0                    | 0                    | 0                    | 0                    |                      | Yamamoto G.          |                      | 0                    | 0                    | 0                    | 0                    | 0                    | 0                    | 0                    | 0                    | 0                    | 0                    | 0                    | 0                    | 0                    | 0                    | 0                    | 3                    | 0                    |\n",
       "| 186                  | yamamoto genki       | Nippo - Vini Fantini | #VERW!               | 10662                | JPN                  | 6439                 | 2016                 |  8                   | NA                   | 3583                 | Hilly                | Giro                 |                      | 19911119             | 54                   | 62                   | 51                   | 51                   | 56                   | 64                   | 63                   | 57                   | 65                   | 61                   | 59                   | 52                   | 58                   | 0                    | 66                   | 0                    | 0                    | 3                    | 0                    | 0                    | 0                    | 0                    | 0                    | 0                    | 0                    | 0                    | 0                    | 0                    | 0                    | 0                    | 0                    | 0                    | 0                    | 0                    | 0                    | 0                    | 0                    |                      | Yamamoto G.          |                      | 0                    | 0                    | 0                    | 0                    | 0                    | 0                    | 0                    | 0                    | 0                    | 0                    | 0                    | 0                    | 0                    | 0                    | 0                    | 3                    | 0                    |\n",
       "| 117                  | yamamoto genki       | Nippo - Vini Fantini | #VERW!               | 10662                | JPN                  | 6439                 | 2016                 | 10                   | NA                   | 3583                 | Hilly                | Giro                 |                      | 19911119             | 54                   | 62                   | 51                   | 51                   | 56                   | 64                   | 63                   | 57                   | 65                   | 61                   | 59                   | 52                   | 58                   | 0                    | 66                   | 0                    | 0                    | 3                    | 0                    | 0                    | 0                    | 0                    | 0                    | 0                    | 0                    | 0                    | 0                    | 0                    | 0                    | 0                    | 0                    | 0                    | 0                    | 0                    | 0                    | 0                    | 0                    |                      | Yamamoto G.          |                      | 0                    | 0                    | 0                    | 0                    | 0                    | 0                    | 0                    | 0                    | 0                    | 0                    | 0                    | 0                    | 0                    | 0                    | 0                    | 3                    | 0                    |\n",
       "| 151                  | yamamoto genki       | Nippo - Vini Fantini | #VERW!               | 10662                | JPN                  | 6439                 | 2016                 | 11                   | NA                   | 3583                 | Hilly                | Giro                 |                      | 19911119             | 54                   | 62                   | 51                   | 51                   | 56                   | 64                   | 63                   | 57                   | 65                   | 61                   | 59                   | 52                   | 58                   | 0                    | 66                   | 0                    | 0                    | 3                    | 0                    | 0                    | 0                    | 0                    | 0                    | 0                    | 0                    | 0                    | 0                    | 0                    | 0                    | 0                    | 0                    | 0                    | 0                    | 0                    | 0                    | 0                    | 0                    |                      | Yamamoto G.          |                      | 0                    | 0                    | 0                    | 0                    | 0                    | 0                    | 0                    | 0                    | 0                    | 0                    | 0                    | 0                    | 0                    | 0                    | 0                    | 3                    | 0                    |\n",
       "| 129                  | yamamoto genki       | Nippo - Vini Fantini | #VERW!               | 10662                | JPN                  | 6439                 | 2016                 | 13                   | NA                   | 3583                 | Hilly                | Giro                 |                      | 19911119             | 54                   | 62                   | 51                   | 51                   | 56                   | 64                   | 63                   | 57                   | 65                   | 61                   | 59                   | 52                   | 58                   | 0                    | 66                   | 0                    | 0                    | 3                    | 0                    | 0                    | 0                    | 0                    | 0                    | 0                    | 0                    | 0                    | 0                    | 0                    | 0                    | 0                    | 0                    | 0                    | 0                    | 0                    | 0                    | 0                    | 0                    |                      | Yamamoto G.          |                      | 0                    | 0                    | 0                    | 0                    | 0                    | 0                    | 0                    | 0                    | 0                    | 0                    | 0                    | 0                    | 0                    | 0                    | 0                    | 3                    | 0                    |\n",
       "\n"
      ],
      "text/plain": [
       "  Pos Rider          Team                 Time   Rider_ID Rider_Country Team_ID\n",
       "1 194 yamamoto genki Nippo - Vini Fantini #VERW! 10662    JPN           6439   \n",
       "2 171 yamamoto genki Nippo - Vini Fantini #VERW! 10662    JPN           6439   \n",
       "3 186 yamamoto genki Nippo - Vini Fantini #VERW! 10662    JPN           6439   \n",
       "4 117 yamamoto genki Nippo - Vini Fantini #VERW! 10662    JPN           6439   \n",
       "5 151 yamamoto genki Nippo - Vini Fantini #VERW! 10662    JPN           6439   \n",
       "6 129 yamamoto genki Nippo - Vini Fantini #VERW! 10662    JPN           6439   \n",
       "  Year Stage UCI ID   Stage.Type Race CONSTANT Birthday ACCELERATION ATTACK\n",
       "1 2016  4    NA  3583 Hilly      Giro          19911119 54           62    \n",
       "2 2016  6    NA  3583 Hilly      Giro          19911119 54           62    \n",
       "3 2016  8    NA  3583 Hilly      Giro          19911119 54           62    \n",
       "4 2016 10    NA  3583 Hilly      Giro          19911119 54           62    \n",
       "5 2016 11    NA  3583 Hilly      Giro          19911119 54           62    \n",
       "6 2016 13    NA  3583 Hilly      Giro          19911119 54           62    \n",
       "  COBBLES DOWNHILL ENDURANCE FLAT HILL MOUNTAIN PROLOGUE RECUP RESISTANCE\n",
       "1 51      51       56        64   63   57       65       61    59        \n",
       "2 51      51       56        64   63   57       65       61    59        \n",
       "3 51      51       56        64   63   57       65       61    59        \n",
       "4 51      51       56        64   63   57       65       61    59        \n",
       "5 51      51       56        64   63   57       65       61    59        \n",
       "6 51      51       56        64   63   57       65       61    59        \n",
       "  SPRINT OVERALL Size TT Weight fitness_i_handicap fkIDcyclist_state fkIDinjury\n",
       "1 52     58      0    66 0      0                  3                 0         \n",
       "2 52     58      0    66 0      0                  3                 0         \n",
       "3 52     58      0    66 0      0                  3                 0         \n",
       "4 52     58      0    66 0      0                  3                 0         \n",
       "5 52     58      0    66 0      0                  3                 0         \n",
       "6 52     58      0    66 0      0                  3                 0         \n",
       "  fkIDrace fkIDstaff_physician fkIDstaff_trainer fkIDstate_roster fkIDtga_skin\n",
       "1 0        0                   0                 0                0           \n",
       "2 0        0                   0                 0                0           \n",
       "3 0        0                   0                 0                0           \n",
       "4 0        0                   0                 0                0           \n",
       "5 0        0                   0                 0                0           \n",
       "6 0        0                   0                 0                0           \n",
       "  fkIDtraining_camp fkIDtype_rider gene_b_inshortlist gene_b_nominated\n",
       "1 0                 0              0                  0               \n",
       "2 0                 0              0                  0               \n",
       "3 0                 0              0                  0               \n",
       "4 0                 0              0                  0               \n",
       "5 0                 0              0                  0               \n",
       "6 0                 0              0                  0               \n",
       "  gene_b_selected_in_roster gene_b_will_retire gene_f_popularity_max\n",
       "1 0                         0                  0                    \n",
       "2 0                         0                  0                    \n",
       "3 0                         0                  0                    \n",
       "4 0                         0                  0                    \n",
       "5 0                         0                  0                    \n",
       "6 0                         0                  0                    \n",
       "  gene_i_champion_bit gene_i_date_last_breakaway gene_i_date_last_punchers\n",
       "1 0                   0                          0                        \n",
       "2 0                   0                          0                        \n",
       "3 0                   0                          0                        \n",
       "4 0                   0                          0                        \n",
       "5 0                   0                          0                        \n",
       "6 0                   0                          0                        \n",
       "  gene_i_day_progression gene_i_dossard gene_i_year_progression\n",
       "1 0                      0              0                      \n",
       "2 0                      0              0                      \n",
       "3 0                      0              0                      \n",
       "4 0                      0              0                      \n",
       "5 0                      0              0                      \n",
       "6 0                      0              0                      \n",
       "  gene_ilist_fkIDfavorite_races gene_sz_firstlastname gene_sz_soundname\n",
       "1                               Yamamoto G.                            \n",
       "2                               Yamamoto G.                            \n",
       "3                               Yamamoto G.                            \n",
       "4                               Yamamoto G.                            \n",
       "5                               Yamamoto G.                            \n",
       "6                               Yamamoto G.                            \n",
       "  limit_i_acceleration limit_i_baroudeur limit_i_cobble limit_i_downhilling\n",
       "1 0                    0                 0              0                  \n",
       "2 0                    0                 0              0                  \n",
       "3 0                    0                 0              0                  \n",
       "4 0                    0                 0              0                  \n",
       "5 0                    0                 0              0                  \n",
       "6 0                    0                 0              0                  \n",
       "  limit_i_endurance limit_i_hill limit_i_mountain limit_i_plain\n",
       "1 0                 0            0                0            \n",
       "2 0                 0            0                0            \n",
       "3 0                 0            0                0            \n",
       "4 0                 0            0                0            \n",
       "5 0                 0            0                0            \n",
       "6 0                 0            0                0            \n",
       "  limit_i_prologue limit_i_recuperation limit_i_resistance limit_i_sprint\n",
       "1 0                0                    0                  0             \n",
       "2 0                0                    0                  0             \n",
       "3 0                0                    0                  0             \n",
       "4 0                0                    0                  0             \n",
       "5 0                0                    0                  0             \n",
       "6 0                0                    0                  0             \n",
       "  limit_i_timetrial prerace_i_cyclist race_b_withdrawal value_i_potentiel\n",
       "1 0                 0                 0                 3                \n",
       "2 0                 0                 0                 3                \n",
       "3 0                 0                 0                 3                \n",
       "4 0                 0                 0                 3                \n",
       "5 0                 0                 0                 3                \n",
       "6 0                 0                 0                 3                \n",
       "  value_i_rank_voted\n",
       "1 0                 \n",
       "2 0                 \n",
       "3 0                 \n",
       "4 0                 \n",
       "5 0                 \n",
       "6 0                 "
      ]
     },
     "metadata": {},
     "output_type": "display_data"
    }
   ],
   "source": [
    "table = (read.csv(\"Data//Hilly_races_final.csv\", sep = \";\"))\n",
    "head(table)\n",
    "\n",
    "table_train = table[table$Year<=2017,]\n",
    "\n",
    "table_val = table[(table$Year>2017)&(table$Year<=2019) ,]\n",
    "\n",
    "table_trainandval = table[table$Year<=2019,]\n",
    "\n",
    "table_test = table[table$Year>2019,]"
   ]
  },
  {
   "cell_type": "code",
   "execution_count": 42,
   "id": "38f0a0d6",
   "metadata": {
    "scrolled": false,
    "vscode": {
     "languageId": "r"
    }
   },
   "outputs": [
    {
     "name": "stderr",
     "output_type": "stream",
     "text": [
      "`summarise()` has grouped output by 'Race', 'Year'. You can override using the `.groups` argument.\n"
     ]
    }
   ],
   "source": [
    "basetable_train = table_train %>% group_by(Race, Year,Team) %>% summarise(flat_mean = round(mean(FLAT))\n",
    "                                             , mountain_mean = round(mean(MOUNTAIN))\n",
    "                                            , downhill_mean = round(mean(DOWNHILL))\n",
    "                                            ,cobbles_mean = round(mean(COBBLES))\n",
    "                                            ,tt_mean = round(mean(TT)),\n",
    "                                            ,prologue_mean = round(mean(PROLOGUE))\n",
    "                                            ,sprint_mean = round(mean(SPRINT))\n",
    "                                            ,acceleration_mean = round(mean(ACCELERATION))\n",
    "                                            ,endurance_mean = round(mean(ENDURANCE))\n",
    "                                            ,resistance_mean = round(mean(RESISTANCE))\n",
    "                                            ,recup_mean = round(mean(RECUP))\n",
    "                                            ,hill_mean = round(mean(HILL))\n",
    "                                            ,attack_mean = round(mean(ATTACK))\n",
    "                                            \n",
    "                                            ,flat_max = round(max(FLAT))\n",
    "                                            ,mountain_max = round(max(MOUNTAIN))\n",
    "                                            ,downhill_max = round(max(DOWNHILL))\n",
    "                                            ,cobbles_max = round(max(COBBLES))\n",
    "                                            ,tt_max = round(max(TT)),\n",
    "                                            ,prologue_max = round(max(PROLOGUE))\n",
    "                                            ,sprint_max = round(max(SPRINT))\n",
    "                                            ,acceleration_max = round(max(ACCELERATION))\n",
    "                                            ,endurance_max = round(max(ENDURANCE))\n",
    "                                            ,resistance_max = round(max(RESISTANCE))\n",
    "                                            ,recup_max = round(max(RECUP))\n",
    "                                            ,hill_max = round(max(HILL))\n",
    "                                            ,attack_max = round(max(ATTACK))\n",
    "                                            \n",
    "                                            ,flat_min = round(min(FLAT))\n",
    "                                            ,mountain_min = round(min(MOUNTAIN))\n",
    "                                            ,downhill_min = round(min(DOWNHILL))\n",
    "                                            ,cobbles_min = round(min(COBBLES))\n",
    "                                            ,tt_min = round(min(TT)),\n",
    "                                            ,prologue_min = round(min(PROLOGUE))\n",
    "                                            ,sprint_min = round(min(SPRINT))\n",
    "                                            ,acceleration_min = round(min(ACCELERATION))\n",
    "                                            ,endurance_min = round(min(ENDURANCE))\n",
    "                                            ,resistance_min = round(min(RESISTANCE))\n",
    "                                            ,recup_min = round(min(RECUP))\n",
    "                                            ,hill_min = round(min(HILL))\n",
    "                                            ,attack_min = round(min(ATTACK))\n",
    "                                                                          \n",
    "                                            ,overall_min = round(min(OVERALL))\n",
    "                                             ,overall_max = round(max(OVERALL))\n",
    "                                             ,overall_mean = round(mean(OVERALL))                             \n",
    "                                                                          \n",
    "                                            ,best_position = min(Pos))\n",
    "\n",
    "basetable_val = table_val %>% group_by(Race, Year,Team) %>% summarise(flat_mean = round(mean(FLAT))\n",
    "                                             , mountain_mean = round(mean(MOUNTAIN))\n",
    "                                            , downhill_mean = round(mean(DOWNHILL))\n",
    "                                            ,cobbles_mean = round(mean(COBBLES))\n",
    "                                            ,tt_mean = round(mean(TT)),\n",
    "                                            ,prologue_mean = round(mean(PROLOGUE))\n",
    "                                            ,sprint_mean = round(mean(SPRINT))\n",
    "                                            ,acceleration_mean = round(mean(ACCELERATION))\n",
    "                                            ,endurance_mean = round(mean(ENDURANCE))\n",
    "                                            ,resistance_mean = round(mean(RESISTANCE))\n",
    "                                            ,recup_mean = round(mean(RECUP))\n",
    "                                            ,hill_mean = round(mean(HILL))\n",
    "                                            ,attack_mean = round(mean(ATTACK))\n",
    "                                            \n",
    "                                            ,flat_max = round(max(FLAT))\n",
    "                                            ,mountain_max = round(max(MOUNTAIN))\n",
    "                                            ,downhill_max = round(max(DOWNHILL))\n",
    "                                            ,cobbles_max = round(max(COBBLES))\n",
    "                                            ,tt_max = round(max(TT)),\n",
    "                                            ,prologue_max = round(max(PROLOGUE))\n",
    "                                            ,sprint_max = round(max(SPRINT))\n",
    "                                            ,acceleration_max = round(max(ACCELERATION))\n",
    "                                            ,endurance_max = round(max(ENDURANCE))\n",
    "                                            ,resistance_max = round(max(RESISTANCE))\n",
    "                                            ,recup_max = round(max(RECUP))\n",
    "                                            ,hill_max = round(max(HILL))\n",
    "                                            ,attack_max = round(max(ATTACK))\n",
    "                                            \n",
    "                                            ,flat_min = round(min(FLAT))\n",
    "                                            ,mountain_min = round(min(MOUNTAIN))\n",
    "                                            ,downhill_min = round(min(DOWNHILL))\n",
    "                                            ,cobbles_min = round(min(COBBLES))\n",
    "                                            ,tt_min = round(min(TT)),\n",
    "                                            ,prologue_min = round(min(PROLOGUE))\n",
    "                                            ,sprint_min = round(min(SPRINT))\n",
    "                                            ,acceleration_min = round(min(ACCELERATION))\n",
    "                                            ,endurance_min = round(min(ENDURANCE))\n",
    "                                            ,resistance_min = round(min(RESISTANCE))\n",
    "                                            ,recup_min = round(min(RECUP))\n",
    "                                            ,hill_min = round(min(HILL))\n",
    "                                            ,attack_min = round(min(ATTACK))\n",
    "                                            \n",
    "                                            ,overall_min = round(min(OVERALL))\n",
    "                                             ,overall_max = round(max(OVERALL))\n",
    "                                             ,overall_mean = round(mean(OVERALL))    \n",
    "                                    \n",
    "                                            ,best_position = min(Pos))\n",
    "\n",
    "basetable_test = table_test %>% group_by(Race, Year,Team) %>% summarise(flat_mean = round(mean(FLAT))\n",
    "                                             , mountain_mean = round(mean(MOUNTAIN))\n",
    "                                            , downhill_mean = round(mean(DOWNHILL))\n",
    "                                            ,cobbles_mean = round(mean(COBBLES))\n",
    "                                            ,tt_mean = round(mean(TT)),\n",
    "                                            ,prologue_mean = round(mean(PROLOGUE))\n",
    "                                            ,sprint_mean = round(mean(SPRINT))\n",
    "                                            ,acceleration_mean = round(mean(ACCELERATION))\n",
    "                                            ,endurance_mean = round(mean(ENDURANCE))\n",
    "                                            ,resistance_mean = round(mean(RESISTANCE))\n",
    "                                            ,recup_mean = round(mean(RECUP))\n",
    "                                            ,hill_mean = round(mean(HILL))\n",
    "                                            ,attack_mean = round(mean(ATTACK))\n",
    "                                            \n",
    "                                            ,flat_max = round(max(FLAT))\n",
    "                                            ,mountain_max = round(max(MOUNTAIN))\n",
    "                                            ,downhill_max = round(max(DOWNHILL))\n",
    "                                            ,cobbles_max = round(max(COBBLES))\n",
    "                                            ,tt_max = round(max(TT)),\n",
    "                                            ,prologue_max = round(max(PROLOGUE))\n",
    "                                            ,sprint_max = round(max(SPRINT))\n",
    "                                            ,acceleration_max = round(max(ACCELERATION))\n",
    "                                            ,endurance_max = round(max(ENDURANCE))\n",
    "                                            ,resistance_max = round(max(RESISTANCE))\n",
    "                                            ,recup_max = round(max(RECUP))\n",
    "                                            ,hill_max = round(max(HILL))\n",
    "                                            ,attack_max = round(max(ATTACK))\n",
    "                                            \n",
    "                                            ,flat_min = round(min(FLAT))\n",
    "                                            ,mountain_min = round(min(MOUNTAIN))\n",
    "                                            ,downhill_min = round(min(DOWNHILL))\n",
    "                                            ,cobbles_min = round(min(COBBLES))\n",
    "                                            ,tt_min = round(min(TT)),\n",
    "                                            ,prologue_min = round(min(PROLOGUE))\n",
    "                                            ,sprint_min = round(min(SPRINT))\n",
    "                                            ,acceleration_min = round(min(ACCELERATION))\n",
    "                                            ,endurance_min = round(min(ENDURANCE))\n",
    "                                            ,resistance_min = round(min(RESISTANCE))\n",
    "                                            ,recup_min = round(min(RECUP))\n",
    "                                            ,hill_min = round(min(HILL))\n",
    "                                            ,attack_min = round(min(ATTACK))\n",
    "                                                                        \n",
    "                                            ,overall_min = round(min(OVERALL))\n",
    "                                             ,overall_max = round(max(OVERALL))\n",
    "                                             ,overall_mean = round(mean(OVERALL))    \n",
    "                                    \n",
    "                                            ,best_position = min(Pos))\n",
    "\n",
    "basetable = table_trainandval %>% group_by(Race, Year,Team) %>% summarise(flat_mean = round(mean(FLAT))\n",
    "                                             , mountain_mean = round(mean(MOUNTAIN))\n",
    "                                            , downhill_mean = round(mean(DOWNHILL))\n",
    "                                            ,cobbles_mean = round(mean(COBBLES))\n",
    "                                            ,tt_mean = round(mean(TT)),\n",
    "                                            ,prologue_mean = round(mean(PROLOGUE))\n",
    "                                            ,sprint_mean = round(mean(SPRINT))\n",
    "                                            ,acceleration_mean = round(mean(ACCELERATION))\n",
    "                                            ,endurance_mean = round(mean(ENDURANCE))\n",
    "                                            ,resistance_mean = round(mean(RESISTANCE))\n",
    "                                            ,recup_mean = round(mean(RECUP))\n",
    "                                            ,hill_mean = round(mean(HILL))\n",
    "                                            ,attack_mean = round(mean(ATTACK))\n",
    "                                            \n",
    "                                            ,flat_max = round(max(FLAT))\n",
    "                                            ,mountain_max = round(max(MOUNTAIN))\n",
    "                                            ,downhill_max = round(max(DOWNHILL))\n",
    "                                            ,cobbles_max = round(max(COBBLES))\n",
    "                                            ,tt_max = round(max(TT)),\n",
    "                                            ,prologue_max = round(max(PROLOGUE))\n",
    "                                            ,sprint_max = round(max(SPRINT))\n",
    "                                            ,acceleration_max = round(max(ACCELERATION))\n",
    "                                            ,endurance_max = round(max(ENDURANCE))\n",
    "                                            ,resistance_max = round(max(RESISTANCE))\n",
    "                                            ,recup_max = round(max(RECUP))\n",
    "                                            ,hill_max = round(max(HILL))\n",
    "                                            ,attack_max = round(max(ATTACK))\n",
    "                                            \n",
    "                                            ,flat_min = round(min(FLAT))\n",
    "                                            ,mountain_min = round(min(MOUNTAIN))\n",
    "                                            ,downhill_min = round(min(DOWNHILL))\n",
    "                                            ,cobbles_min = round(min(COBBLES))\n",
    "                                            ,tt_min = round(min(TT)),\n",
    "                                            ,prologue_min = round(min(PROLOGUE))\n",
    "                                            ,sprint_min = round(min(SPRINT))\n",
    "                                            ,acceleration_min = round(min(ACCELERATION))\n",
    "                                            ,endurance_min = round(min(ENDURANCE))\n",
    "                                            ,resistance_min = round(min(RESISTANCE))\n",
    "                                            ,recup_min = round(min(RECUP))\n",
    "                                            ,hill_min = round(min(HILL))\n",
    "                                            ,attack_min = round(min(ATTACK))\n",
    "                                                                          \n",
    "                                            ,overall_min = round(min(OVERALL))\n",
    "                                             ,overall_max = round(max(OVERALL))\n",
    "                                             ,overall_mean = round(mean(OVERALL))    \n",
    "                                    \n",
    "                                            ,best_position = min(Pos))"
   ]
  },
  {
   "cell_type": "code",
   "execution_count": 46,
   "id": "e70588ed",
   "metadata": {
    "vscode": {
     "languageId": "r"
    }
   },
   "outputs": [],
   "source": [
    "basetable_train = (basetable_train)%>% drop_na()\n",
    "basetable_val = (basetable_val)%>% drop_na()\n",
    "basetable_test = (basetable_test)%>% drop_na()\n",
    "basetable = (basetable)%>% drop_na()\n",
    "\n",
    "#Training set\n",
    "basetable_train$Top10 = as.factor(ifelse(basetable_train$best_position <=10, 1,0))\n",
    "basetable_train$Top5 = as.factor(ifelse(basetable_train$best_position <=5, 1,0))\n",
    "basetable_train$Top4 = as.factor(ifelse(basetable_train$best_position <=4, 1,0))\n",
    "basetable_train$Top3 = as.factor(ifelse(basetable_train$best_position <=3, 1,0))\n",
    "basetable_train$Top2 = as.factor(ifelse(basetable_train$best_position <=2, 1,0))\n",
    "\n",
    "table(basetable_train$Top3)\n",
    "\n",
    "basetable_train$minutes_from_top = NULL\n",
    "basetable_train$best_position = NULL\n",
    "basetable_train$Team = NULL\n",
    "basetable_train$Year = NULL\n",
    "basetable_train$Stage = NULL\n",
    "basetable_train$Team_ID = NULL\n",
    "basetable_train$Race= NULL\n",
    "\n",
    "#Validation set\n",
    "basetable_val$Top10 = as.factor(ifelse(basetable_val$best_position <=10, 1,0))\n",
    "basetable_val$Top5 = as.factor(ifelse(basetable_val$best_position <=5, 1,0))\n",
    "basetable_val$Top4 = as.factor(ifelse(basetable_val$best_position <=4, 1,0))\n",
    "basetable_val$Top3 = as.factor(ifelse(basetable_val$best_position <=3, 1,0))\n",
    "basetable_val$Top2 = as.factor(ifelse(basetable_val$best_position <=2, 1,0))\n",
    "\n",
    "table(basetable_val$Top3)\n",
    "\n",
    "\n",
    "basetable_val$minutes_from_top = NULL\n",
    "basetable_val$best_position = NULL\n",
    "basetable_val$Team = NULL\n",
    "basetable_val$Year = NULL\n",
    "basetable_val$Stage = NULL\n",
    "basetable_val$Team_ID = NULL\n",
    "basetable_val$Race= NULL\n",
    "\n",
    "#Test set\n",
    "basetable_test$Top10 = as.factor(ifelse(basetable_test$best_position <=10, 1,0))\n",
    "basetable_test$Top5 = as.factor(ifelse(basetable_test$best_position <=5, 1,0))\n",
    "basetable_test$Top4 = as.factor(ifelse(basetable_test$best_position <=4, 1,0))\n",
    "basetable_test$Top3 = as.factor(ifelse(basetable_test$best_position <=3, 1,0))\n",
    "basetable_test$Top2 = as.factor(ifelse(basetable_test$best_position <=2, 1,0))\n",
    "\n",
    "table(basetable_test$Top3)\n",
    "\n",
    "basetable_test$minutes_from_top = NULL\n",
    "basetable_test$best_position = NULL\n",
    "basetable_test$Team = NULL\n",
    "basetable_test$Year = NULL\n",
    "basetable_test$Stage = NULL\n",
    "basetable_test$Team_ID = NULL\n",
    "basetable_test$Race= NULL\n",
    "\n",
    "basetable$Top10 = as.factor(ifelse(basetable$best_position <=10, 1,0))\n",
    "basetable$Top5 = as.factor(ifelse(basetable$best_position <=5, 1,0))\n",
    "basetable$Top4 = as.factor(ifelse(basetable$best_position <=4, 1,0))\n",
    "basetable$Top3 = as.factor(ifelse(basetable$best_position <=3, 1,0))\n",
    "basetable$Top2 = as.factor(ifelse(basetable$best_position <=2, 1,0))\n",
    "\n",
    "table(basetable$Top3)\n",
    "\n",
    "basetable$minutes_from_top = NULL\n",
    "basetable$best_position = NULL\n",
    "basetable$Team = NULL\n",
    "basetable$Year = NULL\n",
    "basetable$Stage = NULL\n",
    "basetable$Team_ID = NULL\n",
    "basetable$Race= NULL\n",
    "\n",
    "table_train <- basetable_train\n",
    "table_test<- basetable_test\n",
    "table_val <- basetable_val\n",
    "table_trainval = basetable"
   ]
  },
  {
   "cell_type": "markdown",
   "id": "5bade802",
   "metadata": {},
   "source": [
    "# Feature Selection"
   ]
  },
  {
   "cell_type": "markdown",
   "id": "f8d84044",
   "metadata": {},
   "source": [
    "## Variable selection: Boruta & varSelRF"
   ]
  },
  {
   "cell_type": "code",
   "execution_count": 59,
   "id": "df5b3491",
   "metadata": {
    "vscode": {
     "languageId": "r"
    }
   },
   "outputs": [],
   "source": [
    "#Preparing the train and validation tables\n",
    "table_train5 <- table_train\n",
    "table_val5 <- table_val\n",
    "table_test5 <- table_test\n",
    "\n",
    "table_train5$Top10 <- NULL\n",
    "table_train5$Top4 <- NULL\n",
    "table_train5$Top3 <- NULL\n",
    "table_train5$Top2 <- NULL\n",
    "\n",
    "table_val5$Top10 <- NULL\n",
    "table_val5$Top4 <- NULL\n",
    "table_val5$Top3 <- NULL\n",
    "table_val5$Top2 <- NULL\n",
    "\n",
    "table_test5$Top10 <- NULL\n",
    "table_test5$Top4 <- NULL\n",
    "table_test5$Top3 <- NULL\n",
    "table_test5$Top2 <- NULL"
   ]
  },
  {
   "cell_type": "code",
   "execution_count": 60,
   "id": "2d75078c",
   "metadata": {},
   "outputs": [
    {
     "data": {
      "text/html": [
       "<table>\n",
       "<thead><tr><th scope=col>flat_mean</th><th scope=col>mountain_mean</th><th scope=col>downhill_mean</th><th scope=col>cobbles_mean</th><th scope=col>tt_mean</th><th scope=col>prologue_mean</th><th scope=col>sprint_mean</th><th scope=col>acceleration_mean</th><th scope=col>endurance_mean</th><th scope=col>resistance_mean</th><th scope=col>recup_mean</th><th scope=col>hill_mean</th><th scope=col>attack_mean</th><th scope=col>flat_max</th><th scope=col>mountain_max</th><th scope=col>downhill_max</th><th scope=col>cobbles_max</th><th scope=col>tt_max</th><th scope=col>prologue_max</th><th scope=col>sprint_max</th><th scope=col>acceleration_max</th><th scope=col>endurance_max</th><th scope=col>resistance_max</th><th scope=col>recup_max</th><th scope=col>hill_max</th><th scope=col>attack_max</th><th scope=col>flat_min</th><th scope=col>mountain_min</th><th scope=col>downhill_min</th><th scope=col>cobbles_min</th><th scope=col>tt_min</th><th scope=col>prologue_min</th><th scope=col>sprint_min</th><th scope=col>acceleration_min</th><th scope=col>endurance_min</th><th scope=col>resistance_min</th><th scope=col>recup_min</th><th scope=col>hill_min</th><th scope=col>attack_min</th><th scope=col>overall_min</th><th scope=col>overall_max</th><th scope=col>overall_mean</th><th scope=col>Top5</th></tr></thead>\n",
       "<tbody>\n",
       "\t<tr><td>67</td><td>68</td><td>67</td><td>57</td><td>62</td><td>64</td><td>64</td><td>68</td><td>67</td><td>67</td><td>67</td><td>68</td><td>68</td><td>71</td><td>78</td><td>78</td><td>61</td><td>68</td><td>69</td><td>75</td><td>74</td><td>72</td><td>74</td><td>75</td><td>75</td><td>73</td><td>64</td><td>58</td><td>61</td><td>54</td><td>58</td><td>61</td><td>56</td><td>61</td><td>63</td><td>64</td><td>63</td><td>65</td><td>61</td><td>63</td><td>71</td><td>66</td><td>1 </td></tr>\n",
       "\t<tr><td>66</td><td>70</td><td>67</td><td>55</td><td>64</td><td>64</td><td>64</td><td>69</td><td>67</td><td>69</td><td>68</td><td>70</td><td>70</td><td>70</td><td>79</td><td>70</td><td>68</td><td>68</td><td>70</td><td>75</td><td>75</td><td>69</td><td>74</td><td>72</td><td>74</td><td>80</td><td>64</td><td>60</td><td>63</td><td>51</td><td>60</td><td>60</td><td>56</td><td>60</td><td>64</td><td>64</td><td>62</td><td>65</td><td>63</td><td>62</td><td>69</td><td>66</td><td>1 </td></tr>\n",
       "\t<tr><td>68</td><td>70</td><td>65</td><td>57</td><td>67</td><td>67</td><td>62</td><td>68</td><td>68</td><td>69</td><td>69</td><td>71</td><td>69</td><td>74</td><td>78</td><td>70</td><td>68</td><td>76</td><td>76</td><td>72</td><td>76</td><td>74</td><td>76</td><td>76</td><td>78</td><td>72</td><td>63</td><td>62</td><td>62</td><td>52</td><td>58</td><td>61</td><td>56</td><td>63</td><td>65</td><td>64</td><td>63</td><td>67</td><td>62</td><td>64</td><td>72</td><td>67</td><td>1 </td></tr>\n",
       "\t<tr><td>70</td><td>67</td><td>67</td><td>61</td><td>66</td><td>68</td><td>63</td><td>69</td><td>69</td><td>69</td><td>67</td><td>70</td><td>72</td><td>80</td><td>75</td><td>81</td><td>81</td><td>77</td><td>79</td><td>79</td><td>77</td><td>77</td><td>76</td><td>78</td><td>75</td><td>78</td><td>65</td><td>59</td><td>63</td><td>53</td><td>58</td><td>59</td><td>56</td><td>62</td><td>66</td><td>64</td><td>62</td><td>64</td><td>64</td><td>64</td><td>76</td><td>68</td><td>1 </td></tr>\n",
       "\t<tr><td>65</td><td>63</td><td>64</td><td>55</td><td>60</td><td>61</td><td>64</td><td>66</td><td>65</td><td>65</td><td>64</td><td>67</td><td>68</td><td>72</td><td>75</td><td>71</td><td>59</td><td>63</td><td>65</td><td>76</td><td>77</td><td>70</td><td>72</td><td>71</td><td>73</td><td>73</td><td>63</td><td>56</td><td>60</td><td>53</td><td>58</td><td>58</td><td>58</td><td>61</td><td>62</td><td>61</td><td>60</td><td>62</td><td>63</td><td>61</td><td>67</td><td>64</td><td>1 </td></tr>\n",
       "\t<tr><td>65</td><td>68</td><td>66</td><td>55</td><td>61</td><td>62</td><td>59</td><td>64</td><td>66</td><td>66</td><td>66</td><td>68</td><td>69</td><td>69</td><td>76</td><td>69</td><td>57</td><td>67</td><td>68</td><td>63</td><td>70</td><td>72</td><td>73</td><td>73</td><td>74</td><td>82</td><td>62</td><td>56</td><td>62</td><td>53</td><td>57</td><td>58</td><td>55</td><td>61</td><td>62</td><td>61</td><td>59</td><td>62</td><td>62</td><td>62</td><td>69</td><td>64</td><td>1 </td></tr>\n",
       "</tbody>\n",
       "</table>\n"
      ],
      "text/latex": [
       "\\begin{tabular}{r|lllllllllllllllllllllllllllllllllllllllllll}\n",
       " flat\\_mean & mountain\\_mean & downhill\\_mean & cobbles\\_mean & tt\\_mean & prologue\\_mean & sprint\\_mean & acceleration\\_mean & endurance\\_mean & resistance\\_mean & recup\\_mean & hill\\_mean & attack\\_mean & flat\\_max & mountain\\_max & downhill\\_max & cobbles\\_max & tt\\_max & prologue\\_max & sprint\\_max & acceleration\\_max & endurance\\_max & resistance\\_max & recup\\_max & hill\\_max & attack\\_max & flat\\_min & mountain\\_min & downhill\\_min & cobbles\\_min & tt\\_min & prologue\\_min & sprint\\_min & acceleration\\_min & endurance\\_min & resistance\\_min & recup\\_min & hill\\_min & attack\\_min & overall\\_min & overall\\_max & overall\\_mean & Top5\\\\\n",
       "\\hline\n",
       "\t 67 & 68 & 67 & 57 & 62 & 64 & 64 & 68 & 67 & 67 & 67 & 68 & 68 & 71 & 78 & 78 & 61 & 68 & 69 & 75 & 74 & 72 & 74 & 75 & 75 & 73 & 64 & 58 & 61 & 54 & 58 & 61 & 56 & 61 & 63 & 64 & 63 & 65 & 61 & 63 & 71 & 66 & 1 \\\\\n",
       "\t 66 & 70 & 67 & 55 & 64 & 64 & 64 & 69 & 67 & 69 & 68 & 70 & 70 & 70 & 79 & 70 & 68 & 68 & 70 & 75 & 75 & 69 & 74 & 72 & 74 & 80 & 64 & 60 & 63 & 51 & 60 & 60 & 56 & 60 & 64 & 64 & 62 & 65 & 63 & 62 & 69 & 66 & 1 \\\\\n",
       "\t 68 & 70 & 65 & 57 & 67 & 67 & 62 & 68 & 68 & 69 & 69 & 71 & 69 & 74 & 78 & 70 & 68 & 76 & 76 & 72 & 76 & 74 & 76 & 76 & 78 & 72 & 63 & 62 & 62 & 52 & 58 & 61 & 56 & 63 & 65 & 64 & 63 & 67 & 62 & 64 & 72 & 67 & 1 \\\\\n",
       "\t 70 & 67 & 67 & 61 & 66 & 68 & 63 & 69 & 69 & 69 & 67 & 70 & 72 & 80 & 75 & 81 & 81 & 77 & 79 & 79 & 77 & 77 & 76 & 78 & 75 & 78 & 65 & 59 & 63 & 53 & 58 & 59 & 56 & 62 & 66 & 64 & 62 & 64 & 64 & 64 & 76 & 68 & 1 \\\\\n",
       "\t 65 & 63 & 64 & 55 & 60 & 61 & 64 & 66 & 65 & 65 & 64 & 67 & 68 & 72 & 75 & 71 & 59 & 63 & 65 & 76 & 77 & 70 & 72 & 71 & 73 & 73 & 63 & 56 & 60 & 53 & 58 & 58 & 58 & 61 & 62 & 61 & 60 & 62 & 63 & 61 & 67 & 64 & 1 \\\\\n",
       "\t 65 & 68 & 66 & 55 & 61 & 62 & 59 & 64 & 66 & 66 & 66 & 68 & 69 & 69 & 76 & 69 & 57 & 67 & 68 & 63 & 70 & 72 & 73 & 73 & 74 & 82 & 62 & 56 & 62 & 53 & 57 & 58 & 55 & 61 & 62 & 61 & 59 & 62 & 62 & 62 & 69 & 64 & 1 \\\\\n",
       "\\end{tabular}\n"
      ],
      "text/markdown": [
       "\n",
       "| flat_mean | mountain_mean | downhill_mean | cobbles_mean | tt_mean | prologue_mean | sprint_mean | acceleration_mean | endurance_mean | resistance_mean | recup_mean | hill_mean | attack_mean | flat_max | mountain_max | downhill_max | cobbles_max | tt_max | prologue_max | sprint_max | acceleration_max | endurance_max | resistance_max | recup_max | hill_max | attack_max | flat_min | mountain_min | downhill_min | cobbles_min | tt_min | prologue_min | sprint_min | acceleration_min | endurance_min | resistance_min | recup_min | hill_min | attack_min | overall_min | overall_max | overall_mean | Top5 |\n",
       "|---|---|---|---|---|---|---|---|---|---|---|---|---|---|---|---|---|---|---|---|---|---|---|---|---|---|---|---|---|---|---|---|---|---|---|---|---|---|---|---|---|---|---|\n",
       "| 67 | 68 | 67 | 57 | 62 | 64 | 64 | 68 | 67 | 67 | 67 | 68 | 68 | 71 | 78 | 78 | 61 | 68 | 69 | 75 | 74 | 72 | 74 | 75 | 75 | 73 | 64 | 58 | 61 | 54 | 58 | 61 | 56 | 61 | 63 | 64 | 63 | 65 | 61 | 63 | 71 | 66 | 1  |\n",
       "| 66 | 70 | 67 | 55 | 64 | 64 | 64 | 69 | 67 | 69 | 68 | 70 | 70 | 70 | 79 | 70 | 68 | 68 | 70 | 75 | 75 | 69 | 74 | 72 | 74 | 80 | 64 | 60 | 63 | 51 | 60 | 60 | 56 | 60 | 64 | 64 | 62 | 65 | 63 | 62 | 69 | 66 | 1  |\n",
       "| 68 | 70 | 65 | 57 | 67 | 67 | 62 | 68 | 68 | 69 | 69 | 71 | 69 | 74 | 78 | 70 | 68 | 76 | 76 | 72 | 76 | 74 | 76 | 76 | 78 | 72 | 63 | 62 | 62 | 52 | 58 | 61 | 56 | 63 | 65 | 64 | 63 | 67 | 62 | 64 | 72 | 67 | 1  |\n",
       "| 70 | 67 | 67 | 61 | 66 | 68 | 63 | 69 | 69 | 69 | 67 | 70 | 72 | 80 | 75 | 81 | 81 | 77 | 79 | 79 | 77 | 77 | 76 | 78 | 75 | 78 | 65 | 59 | 63 | 53 | 58 | 59 | 56 | 62 | 66 | 64 | 62 | 64 | 64 | 64 | 76 | 68 | 1  |\n",
       "| 65 | 63 | 64 | 55 | 60 | 61 | 64 | 66 | 65 | 65 | 64 | 67 | 68 | 72 | 75 | 71 | 59 | 63 | 65 | 76 | 77 | 70 | 72 | 71 | 73 | 73 | 63 | 56 | 60 | 53 | 58 | 58 | 58 | 61 | 62 | 61 | 60 | 62 | 63 | 61 | 67 | 64 | 1  |\n",
       "| 65 | 68 | 66 | 55 | 61 | 62 | 59 | 64 | 66 | 66 | 66 | 68 | 69 | 69 | 76 | 69 | 57 | 67 | 68 | 63 | 70 | 72 | 73 | 73 | 74 | 82 | 62 | 56 | 62 | 53 | 57 | 58 | 55 | 61 | 62 | 61 | 59 | 62 | 62 | 62 | 69 | 64 | 1  |\n",
       "\n"
      ],
      "text/plain": [
       "  flat_mean mountain_mean downhill_mean cobbles_mean tt_mean prologue_mean\n",
       "1 67        68            67            57           62      64           \n",
       "2 66        70            67            55           64      64           \n",
       "3 68        70            65            57           67      67           \n",
       "4 70        67            67            61           66      68           \n",
       "5 65        63            64            55           60      61           \n",
       "6 65        68            66            55           61      62           \n",
       "  sprint_mean acceleration_mean endurance_mean resistance_mean recup_mean\n",
       "1 64          68                67             67              67        \n",
       "2 64          69                67             69              68        \n",
       "3 62          68                68             69              69        \n",
       "4 63          69                69             69              67        \n",
       "5 64          66                65             65              64        \n",
       "6 59          64                66             66              66        \n",
       "  hill_mean attack_mean flat_max mountain_max downhill_max cobbles_max tt_max\n",
       "1 68        68          71       78           78           61          68    \n",
       "2 70        70          70       79           70           68          68    \n",
       "3 71        69          74       78           70           68          76    \n",
       "4 70        72          80       75           81           81          77    \n",
       "5 67        68          72       75           71           59          63    \n",
       "6 68        69          69       76           69           57          67    \n",
       "  prologue_max sprint_max acceleration_max endurance_max resistance_max\n",
       "1 69           75         74               72            74            \n",
       "2 70           75         75               69            74            \n",
       "3 76           72         76               74            76            \n",
       "4 79           79         77               77            76            \n",
       "5 65           76         77               70            72            \n",
       "6 68           63         70               72            73            \n",
       "  recup_max hill_max attack_max flat_min mountain_min downhill_min cobbles_min\n",
       "1 75        75       73         64       58           61           54         \n",
       "2 72        74       80         64       60           63           51         \n",
       "3 76        78       72         63       62           62           52         \n",
       "4 78        75       78         65       59           63           53         \n",
       "5 71        73       73         63       56           60           53         \n",
       "6 73        74       82         62       56           62           53         \n",
       "  tt_min prologue_min sprint_min acceleration_min endurance_min resistance_min\n",
       "1 58     61           56         61               63            64            \n",
       "2 60     60           56         60               64            64            \n",
       "3 58     61           56         63               65            64            \n",
       "4 58     59           56         62               66            64            \n",
       "5 58     58           58         61               62            61            \n",
       "6 57     58           55         61               62            61            \n",
       "  recup_min hill_min attack_min overall_min overall_max overall_mean Top5\n",
       "1 63        65       61         63          71          66           1   \n",
       "2 62        65       63         62          69          66           1   \n",
       "3 63        67       62         64          72          67           1   \n",
       "4 62        64       64         64          76          68           1   \n",
       "5 60        62       63         61          67          64           1   \n",
       "6 59        62       62         62          69          64           1   "
      ]
     },
     "metadata": {},
     "output_type": "display_data"
    }
   ],
   "source": [
    "head(table_train5)"
   ]
  },
  {
   "cell_type": "code",
   "execution_count": 61,
   "id": "794f327e",
   "metadata": {
    "vscode": {
     "languageId": "r"
    }
   },
   "outputs": [],
   "source": [
    "#Variable selection: Boruta\n",
    "rf_boruta <- Boruta(table_train5[, !names(table_train5) %in% c(\"Top5\")], table_train5$Top5, doTrace = 0, maxRuns = 500)"
   ]
  },
  {
   "cell_type": "code",
   "execution_count": 62,
   "id": "2e85bb4c",
   "metadata": {
    "vscode": {
     "languageId": "r"
    }
   },
   "outputs": [],
   "source": [
    "varsel_boruta <- names(rf_boruta$finalDecision[rf_boruta$finalDecision == \"Confirmed\"])\n",
    "\n",
    "\n",
    "##Variable selection :varSelRF\n",
    "rf_vsrf <- varSelRF(table_train5[, !names(table_train5) %in% c(\"Top5\")], table_train5$Top5, vars.drop.frac = 0.15,  ntree = 350, ntreeIterat = 100)\n",
    "varsel_vsrf <- rf_vsrf$selected.vars"
   ]
  },
  {
   "cell_type": "code",
   "execution_count": 63,
   "id": "69ae3396",
   "metadata": {},
   "outputs": [
    {
     "data": {
      "text/html": [
       "<ol class=list-inline>\n",
       "\t<li>'downhill_max'</li>\n",
       "\t<li>'tt_max'</li>\n",
       "\t<li>'acceleration_max'</li>\n",
       "\t<li>'endurance_max'</li>\n",
       "\t<li>'attack_max'</li>\n",
       "\t<li>'sprint_min'</li>\n",
       "</ol>\n"
      ],
      "text/latex": [
       "\\begin{enumerate*}\n",
       "\\item 'downhill\\_max'\n",
       "\\item 'tt\\_max'\n",
       "\\item 'acceleration\\_max'\n",
       "\\item 'endurance\\_max'\n",
       "\\item 'attack\\_max'\n",
       "\\item 'sprint\\_min'\n",
       "\\end{enumerate*}\n"
      ],
      "text/markdown": [
       "1. 'downhill_max'\n",
       "2. 'tt_max'\n",
       "3. 'acceleration_max'\n",
       "4. 'endurance_max'\n",
       "5. 'attack_max'\n",
       "6. 'sprint_min'\n",
       "\n",
       "\n"
      ],
      "text/plain": [
       "[1] \"downhill_max\"     \"tt_max\"           \"acceleration_max\" \"endurance_max\"   \n",
       "[5] \"attack_max\"       \"sprint_min\"      "
      ]
     },
     "metadata": {},
     "output_type": "display_data"
    }
   ],
   "source": [
    "varsel_boruta"
   ]
  },
  {
   "cell_type": "markdown",
   "id": "dec56311",
   "metadata": {},
   "source": [
    "In all models boruta variables perform better"
   ]
  },
  {
   "cell_type": "markdown",
   "id": "d9834799",
   "metadata": {},
   "source": [
    "# Prediction if finish in the top 5"
   ]
  },
  {
   "cell_type": "code",
   "execution_count": 64,
   "id": "e2b94cdd",
   "metadata": {
    "scrolled": true,
    "vscode": {
     "languageId": "r"
    }
   },
   "outputs": [],
   "source": [
    "set.seed(123)\n",
    "train <- basetable_train\n",
    "yTRAIN <- train$Top5\n",
    "train$Top10 = NULL\n",
    "train$Top5 = NULL\n",
    "train$Top4 = NULL\n",
    "train$Top3 = NULL\n",
    "train$Top2 = NULL\n",
    "\n",
    "val <- basetable_val\n",
    "yVAL <- val$Top5\n",
    "val$Top10 = NULL\n",
    "val$Top5 = NULL\n",
    "val$Top4 = NULL\n",
    "val$Top3 = NULL\n",
    "val$Top2 = NULL"
   ]
  },
  {
   "cell_type": "code",
   "execution_count": 65,
   "id": "d46c1aa2",
   "metadata": {},
   "outputs": [],
   "source": [
    "#Boruto performs better\n",
    "train = train[varsel_boruta]\n",
    "val = val[varsel_boruta]"
   ]
  },
  {
   "cell_type": "code",
   "execution_count": 66,
   "id": "47da6f53",
   "metadata": {},
   "outputs": [
    {
     "data": {
      "text/html": [
       "6"
      ],
      "text/latex": [
       "6"
      ],
      "text/markdown": [
       "6"
      ],
      "text/plain": [
       "[1] 6"
      ]
     },
     "metadata": {},
     "output_type": "display_data"
    }
   ],
   "source": [
    "ncol(train)"
   ]
  },
  {
   "cell_type": "markdown",
   "id": "fe8779ef",
   "metadata": {},
   "source": [
    "## Ranger"
   ]
  },
  {
   "cell_type": "markdown",
   "id": "dfe2c8fa",
   "metadata": {},
   "source": [
    "### Tuning"
   ]
  },
  {
   "cell_type": "code",
   "execution_count": 67,
   "id": "01ea63a2",
   "metadata": {
    "vscode": {
     "languageId": "r"
    }
   },
   "outputs": [],
   "source": [
    "# hyperparameter grid search\n",
    "hyper_grid <- expand.grid(\n",
    "  num_trees = c(1000),\n",
    "  mtry       = seq(1, ncol(train), by = 1),\n",
    "  node_size  = seq(1, 15, by = 2),\n",
    "  sampe_size = c(.55, .632, .70,0.75,.80) \n",
    ")"
   ]
  },
  {
   "cell_type": "code",
   "execution_count": 68,
   "id": "f9e83f78",
   "metadata": {
    "vscode": {
     "languageId": "r"
    }
   },
   "outputs": [],
   "source": [
    "for(i in 1:nrow(hyper_grid)) {\n",
    "  \n",
    "  # train model\n",
    "  model <- ranger(\n",
    "    x               = train, \n",
    "    y               = yTRAIN, \n",
    "    num.trees       = hyper_grid$num_trees[i],\n",
    "    mtry            = hyper_grid$mtry[i],\n",
    "    min.node.size   = hyper_grid$node_size[i],\n",
    "    sample.fraction = hyper_grid$sampe_size[i],\n",
    "    probability     = TRUE,\n",
    "    seed            = 123\n",
    "  )\n",
    "  predictions =  predict(model,val)$predictions[,2]\n",
    "  auc = AUC::auc(roc(predictions,factor(yVAL)))\n",
    "  hyper_grid$AUC[i] <- auc\n",
    "}"
   ]
  },
  {
   "cell_type": "code",
   "execution_count": 69,
   "id": "2ac2a2ee",
   "metadata": {
    "scrolled": false,
    "vscode": {
     "languageId": "r"
    }
   },
   "outputs": [
    {
     "data": {
      "text/html": [
       "<table>\n",
       "<thead><tr><th></th><th scope=col>num_trees</th><th scope=col>mtry</th><th scope=col>node_size</th><th scope=col>sampe_size</th><th scope=col>AUC</th></tr></thead>\n",
       "<tbody>\n",
       "\t<tr><th scope=row>236</th><td>1000     </td><td>3        </td><td>11       </td><td>0.75     </td><td>0.7179430</td></tr>\n",
       "\t<tr><th scope=row>237</th><td>1000     </td><td>2        </td><td>13       </td><td>0.75     </td><td>0.7179430</td></tr>\n",
       "\t<tr><th scope=row>238</th><td>1000     </td><td>1        </td><td> 1       </td><td>0.75     </td><td>0.7181675</td></tr>\n",
       "\t<tr><th scope=row>239</th><td>1000     </td><td>2        </td><td>15       </td><td>0.75     </td><td>0.7188412</td></tr>\n",
       "\t<tr><th scope=row>240</th><td>1000     </td><td>1        </td><td> 3       </td><td>0.75     </td><td>0.7213115</td></tr>\n",
       "</tbody>\n",
       "</table>\n"
      ],
      "text/latex": [
       "\\begin{tabular}{r|lllll}\n",
       "  & num\\_trees & mtry & node\\_size & sampe\\_size & AUC\\\\\n",
       "\\hline\n",
       "\t236 & 1000      & 3         & 11        & 0.75      & 0.7179430\\\\\n",
       "\t237 & 1000      & 2         & 13        & 0.75      & 0.7179430\\\\\n",
       "\t238 & 1000      & 1         &  1        & 0.75      & 0.7181675\\\\\n",
       "\t239 & 1000      & 2         & 15        & 0.75      & 0.7188412\\\\\n",
       "\t240 & 1000      & 1         &  3        & 0.75      & 0.7213115\\\\\n",
       "\\end{tabular}\n"
      ],
      "text/markdown": [
       "\n",
       "| <!--/--> | num_trees | mtry | node_size | sampe_size | AUC |\n",
       "|---|---|---|---|---|---|\n",
       "| 236 | 1000      | 3         | 11        | 0.75      | 0.7179430 |\n",
       "| 237 | 1000      | 2         | 13        | 0.75      | 0.7179430 |\n",
       "| 238 | 1000      | 1         |  1        | 0.75      | 0.7181675 |\n",
       "| 239 | 1000      | 2         | 15        | 0.75      | 0.7188412 |\n",
       "| 240 | 1000      | 1         |  3        | 0.75      | 0.7213115 |\n",
       "\n"
      ],
      "text/plain": [
       "    num_trees mtry node_size sampe_size AUC      \n",
       "236 1000      3    11        0.75       0.7179430\n",
       "237 1000      2    13        0.75       0.7179430\n",
       "238 1000      1     1        0.75       0.7181675\n",
       "239 1000      2    15        0.75       0.7188412\n",
       "240 1000      1     3        0.75       0.7213115"
      ]
     },
     "metadata": {},
     "output_type": "display_data"
    }
   ],
   "source": [
    "hyper_grid %>% \n",
    "  dplyr::arrange(AUC) %>%\n",
    "  tail(5)\n"
   ]
  },
  {
   "cell_type": "markdown",
   "id": "6503792d",
   "metadata": {},
   "source": [
    "### Validation"
   ]
  },
  {
   "cell_type": "code",
   "execution_count": 70,
   "id": "371cdcbe",
   "metadata": {
    "vscode": {
     "languageId": "r"
    }
   },
   "outputs": [
    {
     "data": {
      "text/html": [
       "0.710981360880305"
      ],
      "text/latex": [
       "0.710981360880305"
      ],
      "text/markdown": [
       "0.710981360880305"
      ],
      "text/plain": [
       "[1] 0.7109814"
      ]
     },
     "metadata": {},
     "output_type": "display_data"
    }
   ],
   "source": [
    "#No tuning\n",
    "model <- ranger(x=train, y = yTRAIN, num.trees = 1000, probability = TRUE, seed = 123)\n",
    "predictions =  predict(model,val)$predictions[,2]\n",
    "AUC::auc(roc(predictions,factor(yVAL)))"
   ]
  },
  {
   "cell_type": "code",
   "execution_count": 75,
   "id": "804d5b48",
   "metadata": {
    "vscode": {
     "languageId": "r"
    }
   },
   "outputs": [
    {
     "data": {
      "text/html": [
       "0.721311475409836"
      ],
      "text/latex": [
       "0.721311475409836"
      ],
      "text/markdown": [
       "0.721311475409836"
      ],
      "text/plain": [
       "[1] 0.7213115"
      ]
     },
     "metadata": {},
     "output_type": "display_data"
    }
   ],
   "source": [
    "#With tuning\n",
    "model <- ranger(x=train, y = yTRAIN, num.trees = 1000, mtry = 1, min.node.size = 3, sample.fraction = 0.750, probability = TRUE, seed = 123)\n",
    "predictions =  predict(model,val)$predictions[,2]\n",
    "auc = AUC::auc(roc(predictions,factor(yVAL)))\n",
    "AUC::auc(roc(predictions,factor(yVAL)))"
   ]
  },
  {
   "cell_type": "code",
   "execution_count": 76,
   "id": "49384dda",
   "metadata": {
    "vscode": {
     "languageId": "r"
    }
   },
   "outputs": [],
   "source": [
    "res = ifelse(predictions>=0.5,1,0)\n",
    "true_outcome = yVAL"
   ]
  },
  {
   "cell_type": "code",
   "execution_count": 77,
   "id": "6c35f14b",
   "metadata": {
    "scrolled": false,
    "vscode": {
     "languageId": "r"
    }
   },
   "outputs": [
    {
     "data": {
      "text/plain": [
       "          Reference\n",
       "Prediction  0  1\n",
       "         0 30  9\n",
       "         1 43 52"
      ]
     },
     "metadata": {},
     "output_type": "display_data"
    },
    {
     "data": {
      "text/html": [
       "<span style=white-space:pre-wrap>'AUC:  0.721311475409836'</span>"
      ],
      "text/latex": [
       "'AUC:  0.721311475409836'"
      ],
      "text/markdown": [
       "<span style=white-space:pre-wrap>'AUC:  0.721311475409836'</span>"
      ],
      "text/plain": [
       "[1] \"AUC:  0.721311475409836\""
      ]
     },
     "metadata": {},
     "output_type": "display_data"
    },
    {
     "data": {
      "text/html": [
       "<span style=white-space:pre-wrap>'Accuracy:  0.611940298507463'</span>"
      ],
      "text/latex": [
       "'Accuracy:  0.611940298507463'"
      ],
      "text/markdown": [
       "<span style=white-space:pre-wrap>'Accuracy:  0.611940298507463'</span>"
      ],
      "text/plain": [
       "[1] \"Accuracy:  0.611940298507463\""
      ]
     },
     "metadata": {},
     "output_type": "display_data"
    },
    {
     "data": {
      "text/html": [
       "<span style=white-space:pre-wrap>'Recall:  0.852459016393443'</span>"
      ],
      "text/latex": [
       "'Recall:  0.852459016393443'"
      ],
      "text/markdown": [
       "<span style=white-space:pre-wrap>'Recall:  0.852459016393443'</span>"
      ],
      "text/plain": [
       "[1] \"Recall:  0.852459016393443\""
      ]
     },
     "metadata": {},
     "output_type": "display_data"
    },
    {
     "data": {
      "text/html": [
       "<span style=white-space:pre-wrap>'Precision:  0.547368421052632'</span>"
      ],
      "text/latex": [
       "'Precision:  0.547368421052632'"
      ],
      "text/markdown": [
       "<span style=white-space:pre-wrap>'Precision:  0.547368421052632'</span>"
      ],
      "text/plain": [
       "[1] \"Precision:  0.547368421052632\""
      ]
     },
     "metadata": {},
     "output_type": "display_data"
    }
   ],
   "source": [
    "confusionMatrix(as.factor(res), as.factor(true_outcome))[[2]]\n",
    "TN =(confusionMatrix(as.factor(res), as.factor(true_outcome)))[[2]][1,1]\n",
    "TP = (confusionMatrix(as.factor(res), as.factor(true_outcome)))[[2]][2,2]\n",
    "FN = (confusionMatrix(as.factor(res), as.factor(true_outcome)))[[2]][1,2]\n",
    "FP = (confusionMatrix(as.factor(res), as.factor(true_outcome)))[[2]][2,1]\n",
    "\n",
    "accuracy = (TP+TN)/(TP+FP+TN+FN)\n",
    "recall = TP/(TP+FN)\n",
    "precision = TP/(TP+FP)\n",
    "\n",
    "paste(\"AUC: \", auc)\n",
    "paste(\"Accuracy: \", accuracy)\n",
    "paste(\"Recall: \", recall)\n",
    "paste(\"Precision: \", precision)"
   ]
  },
  {
   "cell_type": "markdown",
   "id": "e2f6d393",
   "metadata": {},
   "source": [
    "### Test"
   ]
  },
  {
   "cell_type": "code",
   "execution_count": 85,
   "id": "9f5b6596",
   "metadata": {},
   "outputs": [],
   "source": [
    "set.seed(123)\n",
    "train <- basetable_train\n",
    "yTRAIN <- train$Top5\n",
    "train$Top10 = NULL\n",
    "train$Top5 = NULL\n",
    "train$Top4 = NULL\n",
    "train$Top3 = NULL\n",
    "train$Top2 = NULL\n",
    "\n",
    "test <- basetable_test\n",
    "yTEST <- test$Top5\n",
    "test$Top10 = NULL\n",
    "test$Top5 = NULL\n",
    "test$Top4 = NULL\n",
    "test$Top3 = NULL\n",
    "test$Top2 = NULL"
   ]
  },
  {
   "cell_type": "code",
   "execution_count": 86,
   "id": "9ece5015",
   "metadata": {},
   "outputs": [],
   "source": [
    "train = train[varsel_boruta]\n",
    "test = test[varsel_boruta]"
   ]
  },
  {
   "cell_type": "code",
   "execution_count": 87,
   "id": "95b6862e",
   "metadata": {},
   "outputs": [
    {
     "data": {
      "text/html": [
       "0.55838454784899"
      ],
      "text/latex": [
       "0.55838454784899"
      ],
      "text/markdown": [
       "0.55838454784899"
      ],
      "text/plain": [
       "[1] 0.5583845"
      ]
     },
     "metadata": {},
     "output_type": "display_data"
    }
   ],
   "source": [
    "model <- ranger(x=train, y = yTRAIN, num.trees = 1000, mtry = 1, min.node.size = 3, sample.fraction = 0.750, probability = TRUE, seed = 123)\n",
    "predictions =  predict(model,test)$predictions[,2]\n",
    "auc = AUC::auc(roc(predictions,factor(yTEST)))\n",
    "AUC::auc(roc(predictions,factor(yTEST)))"
   ]
  },
  {
   "cell_type": "code",
   "execution_count": 1046,
   "id": "ae7f4491",
   "metadata": {
    "vscode": {
     "languageId": "r"
    }
   },
   "outputs": [],
   "source": [
    "res = ifelse(predictions>=0.5,1,0)\n",
    "true_outcome = yTEST"
   ]
  },
  {
   "cell_type": "code",
   "execution_count": 1047,
   "id": "129a07e0",
   "metadata": {
    "scrolled": true,
    "vscode": {
     "languageId": "r"
    }
   },
   "outputs": [
    {
     "data": {
      "text/plain": [
       "          Reference\n",
       "Prediction  0  1\n",
       "         0 20  3\n",
       "         1 29 21"
      ]
     },
     "metadata": {},
     "output_type": "display_data"
    },
    {
     "data": {
      "text/html": [
       "<span style=white-space:pre-wrap>'AUC:  0.676020408163266'</span>"
      ],
      "text/latex": [
       "'AUC:  0.676020408163266'"
      ],
      "text/markdown": [
       "<span style=white-space:pre-wrap>'AUC:  0.676020408163266'</span>"
      ],
      "text/plain": [
       "[1] \"AUC:  0.676020408163266\""
      ]
     },
     "metadata": {},
     "output_type": "display_data"
    },
    {
     "data": {
      "text/html": [
       "<span style=white-space:pre-wrap>'Accuracy:  0.561643835616438'</span>"
      ],
      "text/latex": [
       "'Accuracy:  0.561643835616438'"
      ],
      "text/markdown": [
       "<span style=white-space:pre-wrap>'Accuracy:  0.561643835616438'</span>"
      ],
      "text/plain": [
       "[1] \"Accuracy:  0.561643835616438\""
      ]
     },
     "metadata": {},
     "output_type": "display_data"
    },
    {
     "data": {
      "text/html": [
       "<span style=white-space:pre-wrap>'Recall:  0.875'</span>"
      ],
      "text/latex": [
       "'Recall:  0.875'"
      ],
      "text/markdown": [
       "<span style=white-space:pre-wrap>'Recall:  0.875'</span>"
      ],
      "text/plain": [
       "[1] \"Recall:  0.875\""
      ]
     },
     "metadata": {},
     "output_type": "display_data"
    },
    {
     "data": {
      "text/html": [
       "<span style=white-space:pre-wrap>'Precision:  0.42'</span>"
      ],
      "text/latex": [
       "'Precision:  0.42'"
      ],
      "text/markdown": [
       "<span style=white-space:pre-wrap>'Precision:  0.42'</span>"
      ],
      "text/plain": [
       "[1] \"Precision:  0.42\""
      ]
     },
     "metadata": {},
     "output_type": "display_data"
    }
   ],
   "source": [
    "confusionMatrix(as.factor(res), as.factor(true_outcome))[[2]]\n",
    "TN =(confusionMatrix(as.factor(res), as.factor(true_outcome)))[[2]][1,1]\n",
    "TP = (confusionMatrix(as.factor(res), as.factor(true_outcome)))[[2]][2,2]\n",
    "FN = (confusionMatrix(as.factor(res), as.factor(true_outcome)))[[2]][1,2]\n",
    "FP = (confusionMatrix(as.factor(res), as.factor(true_outcome)))[[2]][2,1]\n",
    "\n",
    "accuracy = (TP+TN)/(TP+FP+TN+FN)\n",
    "recall = TP/(TP+FN)\n",
    "precision = TP/(TP+FP)\n",
    "\n",
    "paste(\"AUC: \", auc)\n",
    "paste(\"Accuracy: \", accuracy)\n",
    "paste(\"Recall: \", recall)\n",
    "paste(\"Precision: \", precision)"
   ]
  },
  {
   "cell_type": "code",
   "execution_count": 1048,
   "id": "74ffdc06",
   "metadata": {},
   "outputs": [
    {
     "data": {
      "text/plain": [
       "          Reference\n",
       "Prediction  0  1\n",
       "         0 20  3\n",
       "         1 29 21"
      ]
     },
     "metadata": {},
     "output_type": "display_data"
    },
    {
     "data": {
      "text/html": [
       "<span style=white-space:pre-wrap>'AUC:  0.676020408163266'</span>"
      ],
      "text/latex": [
       "'AUC:  0.676020408163266'"
      ],
      "text/markdown": [
       "<span style=white-space:pre-wrap>'AUC:  0.676020408163266'</span>"
      ],
      "text/plain": [
       "[1] \"AUC:  0.676020408163266\""
      ]
     },
     "metadata": {},
     "output_type": "display_data"
    },
    {
     "data": {
      "text/html": [
       "<span style=white-space:pre-wrap>'Accuracy:  0.561643835616438'</span>"
      ],
      "text/latex": [
       "'Accuracy:  0.561643835616438'"
      ],
      "text/markdown": [
       "<span style=white-space:pre-wrap>'Accuracy:  0.561643835616438'</span>"
      ],
      "text/plain": [
       "[1] \"Accuracy:  0.561643835616438\""
      ]
     },
     "metadata": {},
     "output_type": "display_data"
    },
    {
     "data": {
      "text/html": [
       "<span style=white-space:pre-wrap>'Recall:  0.875'</span>"
      ],
      "text/latex": [
       "'Recall:  0.875'"
      ],
      "text/markdown": [
       "<span style=white-space:pre-wrap>'Recall:  0.875'</span>"
      ],
      "text/plain": [
       "[1] \"Recall:  0.875\""
      ]
     },
     "metadata": {},
     "output_type": "display_data"
    },
    {
     "data": {
      "text/html": [
       "<span style=white-space:pre-wrap>'Precision:  0.42'</span>"
      ],
      "text/latex": [
       "'Precision:  0.42'"
      ],
      "text/markdown": [
       "<span style=white-space:pre-wrap>'Precision:  0.42'</span>"
      ],
      "text/plain": [
       "[1] \"Precision:  0.42\""
      ]
     },
     "metadata": {},
     "output_type": "display_data"
    }
   ],
   "source": [
    "confusionMatrix(as.factor(res), as.factor(true_outcome))[[2]]\n",
    "TN =(confusionMatrix(as.factor(res), as.factor(true_outcome)))[[2]][1,1]\n",
    "TP = (confusionMatrix(as.factor(res), as.factor(true_outcome)))[[2]][2,2]\n",
    "FN = (confusionMatrix(as.factor(res), as.factor(true_outcome)))[[2]][1,2]\n",
    "FP = (confusionMatrix(as.factor(res), as.factor(true_outcome)))[[2]][2,1]\n",
    "\n",
    "accuracy = (TP+TN)/(TP+FP+TN+FN)\n",
    "recall = TP/(TP+FN)\n",
    "precision = TP/(TP+FP)\n",
    "\n",
    "paste(\"AUC: \", auc)\n",
    "paste(\"Accuracy: \", accuracy)\n",
    "paste(\"Recall: \", recall)\n",
    "paste(\"Precision: \", precision)"
   ]
  },
  {
   "cell_type": "code",
   "execution_count": 1049,
   "id": "da18c642",
   "metadata": {},
   "outputs": [
    {
     "data": {
      "text/plain": [
       "Confusion Matrix and Statistics\n",
       "\n",
       "          Reference\n",
       "Prediction  0  1\n",
       "         0 20  3\n",
       "         1 29 21\n",
       "                                          \n",
       "               Accuracy : 0.5616          \n",
       "                 95% CI : (0.4405, 0.6776)\n",
       "    No Information Rate : 0.6712          \n",
       "    P-Value [Acc > NIR] : 0.9812          \n",
       "                                          \n",
       "                  Kappa : 0.2219          \n",
       "                                          \n",
       " Mcnemar's Test P-Value : 9.897e-06       \n",
       "                                          \n",
       "            Sensitivity : 0.8750          \n",
       "            Specificity : 0.4082          \n",
       "         Pos Pred Value : 0.4200          \n",
       "         Neg Pred Value : 0.8696          \n",
       "             Prevalence : 0.3288          \n",
       "         Detection Rate : 0.2877          \n",
       "   Detection Prevalence : 0.6849          \n",
       "      Balanced Accuracy : 0.6416          \n",
       "                                          \n",
       "       'Positive' Class : 1               \n",
       "                                          "
      ]
     },
     "metadata": {},
     "output_type": "display_data"
    }
   ],
   "source": [
    "confusionMatrix(as.factor(res), as.factor(true_outcome), positive = \"1\")"
   ]
  },
  {
   "cell_type": "markdown",
   "id": "cd25ca92",
   "metadata": {},
   "source": [
    "## Random Forest"
   ]
  },
  {
   "cell_type": "code",
   "execution_count": 1064,
   "id": "b48e39ff",
   "metadata": {},
   "outputs": [],
   "source": [
    "set.seed(123)\n",
    "train <- basetable_train\n",
    "yTRAIN <- train$Top3\n",
    "train$Top10 = NULL\n",
    "train$Top5 = NULL\n",
    "train$Top4 = NULL\n",
    "train$Top3 = NULL\n",
    "train$Top2 = NULL\n",
    "\n",
    "val <- basetable_val\n",
    "yVAL <- val$Top3\n",
    "val$Top10 = NULL\n",
    "val$Top5 = NULL\n",
    "val$Top4 = NULL\n",
    "val$Top3 = NULL\n",
    "val$Top2 = NULL"
   ]
  },
  {
   "cell_type": "code",
   "execution_count": 1065,
   "id": "2496abdc",
   "metadata": {},
   "outputs": [],
   "source": [
    "train = train[varsel_boruta]\n",
    "val = val[varsel_boruta]"
   ]
  },
  {
   "cell_type": "markdown",
   "id": "c39fe82b",
   "metadata": {},
   "source": [
    "### Tuning"
   ]
  },
  {
   "cell_type": "code",
   "execution_count": 1052,
   "id": "69b53af6",
   "metadata": {
    "vscode": {
     "languageId": "r"
    }
   },
   "outputs": [],
   "source": [
    "# hyperparameter grid search\n",
    "hyper_grid <- expand.grid(\n",
    "num_trees = c(1000),\n",
    "  mtry       = seq(1, ncol(train), by = 1),\n",
    "  node_size  = seq(1, 15, by = 3),\n",
    "  sampe_size = c(.55, .632, .70,0.75,.80) \n",
    ")"
   ]
  },
  {
   "cell_type": "code",
   "execution_count": 1053,
   "id": "52567df9",
   "metadata": {
    "vscode": {
     "languageId": "r"
    }
   },
   "outputs": [],
   "source": [
    "for(i in 1:nrow(hyper_grid)) {\n",
    "  set.seed(123)\n",
    "  # train model\n",
    "  model <- randomForest(\n",
    "    x               = train, \n",
    "    y               = yTRAIN, \n",
    "    ntree           = hyper_grid$num_trees[i],\n",
    "    mtry            = hyper_grid$mtry[i],\n",
    "    node_size       = hyper_grid$node_size[i],\n",
    "    sample_frac     = hyper_grid$sampe_size[i]\n",
    "  )\n",
    "  predictions <- predict(model, val, type = \"prob\")[, 2]\n",
    "  auc = AUC::auc(roc(predictions,factor(yVAL)))\n",
    "  hyper_grid$AUC[i] <- auc\n",
    "}"
   ]
  },
  {
   "cell_type": "code",
   "execution_count": 1054,
   "id": "a4063f05",
   "metadata": {
    "scrolled": true,
    "vscode": {
     "languageId": "r"
    }
   },
   "outputs": [
    {
     "data": {
      "text/html": [
       "<table>\n",
       "<thead><tr><th></th><th scope=col>num_trees</th><th scope=col>mtry</th><th scope=col>node_size</th><th scope=col>sampe_size</th><th scope=col>AUC</th></tr></thead>\n",
       "<tbody>\n",
       "\t<tr><th scope=row>121</th><td>1000     </td><td>3        </td><td> 1       </td><td>0.8      </td><td>0.6629762</td></tr>\n",
       "\t<tr><th scope=row>122</th><td>1000     </td><td>3        </td><td> 4       </td><td>0.8      </td><td>0.6629762</td></tr>\n",
       "\t<tr><th scope=row>123</th><td>1000     </td><td>3        </td><td> 7       </td><td>0.8      </td><td>0.6629762</td></tr>\n",
       "\t<tr><th scope=row>124</th><td>1000     </td><td>3        </td><td>10       </td><td>0.8      </td><td>0.6629762</td></tr>\n",
       "\t<tr><th scope=row>125</th><td>1000     </td><td>3        </td><td>13       </td><td>0.8      </td><td>0.6629762</td></tr>\n",
       "</tbody>\n",
       "</table>\n"
      ],
      "text/latex": [
       "\\begin{tabular}{r|lllll}\n",
       "  & num\\_trees & mtry & node\\_size & sampe\\_size & AUC\\\\\n",
       "\\hline\n",
       "\t121 & 1000      & 3         &  1        & 0.8       & 0.6629762\\\\\n",
       "\t122 & 1000      & 3         &  4        & 0.8       & 0.6629762\\\\\n",
       "\t123 & 1000      & 3         &  7        & 0.8       & 0.6629762\\\\\n",
       "\t124 & 1000      & 3         & 10        & 0.8       & 0.6629762\\\\\n",
       "\t125 & 1000      & 3         & 13        & 0.8       & 0.6629762\\\\\n",
       "\\end{tabular}\n"
      ],
      "text/markdown": [
       "\n",
       "| <!--/--> | num_trees | mtry | node_size | sampe_size | AUC |\n",
       "|---|---|---|---|---|---|\n",
       "| 121 | 1000      | 3         |  1        | 0.8       | 0.6629762 |\n",
       "| 122 | 1000      | 3         |  4        | 0.8       | 0.6629762 |\n",
       "| 123 | 1000      | 3         |  7        | 0.8       | 0.6629762 |\n",
       "| 124 | 1000      | 3         | 10        | 0.8       | 0.6629762 |\n",
       "| 125 | 1000      | 3         | 13        | 0.8       | 0.6629762 |\n",
       "\n"
      ],
      "text/plain": [
       "    num_trees mtry node_size sampe_size AUC      \n",
       "121 1000      3     1        0.8        0.6629762\n",
       "122 1000      3     4        0.8        0.6629762\n",
       "123 1000      3     7        0.8        0.6629762\n",
       "124 1000      3    10        0.8        0.6629762\n",
       "125 1000      3    13        0.8        0.6629762"
      ]
     },
     "metadata": {},
     "output_type": "display_data"
    }
   ],
   "source": [
    "hyper_grid %>% \n",
    "  dplyr::arrange(AUC) %>%\n",
    "  tail(5)\n"
   ]
  },
  {
   "cell_type": "markdown",
   "id": "352227a5",
   "metadata": {},
   "source": [
    "### Validation"
   ]
  },
  {
   "cell_type": "code",
   "execution_count": 1055,
   "id": "ae78f336",
   "metadata": {
    "vscode": {
     "languageId": "r"
    }
   },
   "outputs": [
    {
     "data": {
      "text/html": [
       "0.659285714285714"
      ],
      "text/latex": [
       "0.659285714285714"
      ],
      "text/markdown": [
       "0.659285714285714"
      ],
      "text/plain": [
       "[1] 0.6592857"
      ]
     },
     "metadata": {},
     "output_type": "display_data"
    }
   ],
   "source": [
    "#No Tuning\n",
    "set.seed(123)\n",
    "rFmodel <- randomForest(x=train, y = yTRAIN, ntree = 1000)\n",
    "predictions <- predict(rFmodel, val, type = \"prob\")[, 2]\n",
    "\n",
    "AUC::auc(roc(predictions,factor(yVAL)))"
   ]
  },
  {
   "cell_type": "code",
   "execution_count": 1066,
   "id": "cc164b19",
   "metadata": {
    "vscode": {
     "languageId": "r"
    }
   },
   "outputs": [
    {
     "data": {
      "text/html": [
       "0.662976190476191"
      ],
      "text/latex": [
       "0.662976190476191"
      ],
      "text/markdown": [
       "0.662976190476191"
      ],
      "text/plain": [
       "[1] 0.6629762"
      ]
     },
     "metadata": {},
     "output_type": "display_data"
    }
   ],
   "source": [
    "#Tuning\n",
    "set.seed(123)\n",
    "rFmodel <- randomForest(x=train, y = yTRAIN, ntree = 1000,mtry=3)\n",
    "predictions <- predict(rFmodel, val, type = \"prob\")[, 2]\n",
    "\n",
    "AUC::auc(roc(predictions,factor(yVAL)))"
   ]
  },
  {
   "cell_type": "code",
   "execution_count": 1067,
   "id": "e6d1494c",
   "metadata": {
    "vscode": {
     "languageId": "r"
    }
   },
   "outputs": [],
   "source": [
    "auc = AUC::auc(roc(predictions,factor(yVAL)))"
   ]
  },
  {
   "cell_type": "code",
   "execution_count": 1068,
   "id": "7703fbe5",
   "metadata": {
    "vscode": {
     "languageId": "r"
    }
   },
   "outputs": [],
   "source": [
    "res = ifelse(predictions>=0.5,1,0)\n",
    "true_outcome = yVAL"
   ]
  },
  {
   "cell_type": "code",
   "execution_count": 1069,
   "id": "7a84e95e",
   "metadata": {
    "scrolled": true,
    "vscode": {
     "languageId": "r"
    }
   },
   "outputs": [
    {
     "data": {
      "text/plain": [
       "          Reference\n",
       "Prediction  0  1\n",
       "         0 47 18\n",
       "         1 37 32"
      ]
     },
     "metadata": {},
     "output_type": "display_data"
    },
    {
     "data": {
      "text/html": [
       "<span style=white-space:pre-wrap>'AUC:  0.662976190476191'</span>"
      ],
      "text/latex": [
       "'AUC:  0.662976190476191'"
      ],
      "text/markdown": [
       "<span style=white-space:pre-wrap>'AUC:  0.662976190476191'</span>"
      ],
      "text/plain": [
       "[1] \"AUC:  0.662976190476191\""
      ]
     },
     "metadata": {},
     "output_type": "display_data"
    },
    {
     "data": {
      "text/html": [
       "<span style=white-space:pre-wrap>'Accuracy:  0.58955223880597'</span>"
      ],
      "text/latex": [
       "'Accuracy:  0.58955223880597'"
      ],
      "text/markdown": [
       "<span style=white-space:pre-wrap>'Accuracy:  0.58955223880597'</span>"
      ],
      "text/plain": [
       "[1] \"Accuracy:  0.58955223880597\""
      ]
     },
     "metadata": {},
     "output_type": "display_data"
    },
    {
     "data": {
      "text/html": [
       "<span style=white-space:pre-wrap>'Recall:  0.64'</span>"
      ],
      "text/latex": [
       "'Recall:  0.64'"
      ],
      "text/markdown": [
       "<span style=white-space:pre-wrap>'Recall:  0.64'</span>"
      ],
      "text/plain": [
       "[1] \"Recall:  0.64\""
      ]
     },
     "metadata": {},
     "output_type": "display_data"
    },
    {
     "data": {
      "text/html": [
       "<span style=white-space:pre-wrap>'Precision:  0.463768115942029'</span>"
      ],
      "text/latex": [
       "'Precision:  0.463768115942029'"
      ],
      "text/markdown": [
       "<span style=white-space:pre-wrap>'Precision:  0.463768115942029'</span>"
      ],
      "text/plain": [
       "[1] \"Precision:  0.463768115942029\""
      ]
     },
     "metadata": {},
     "output_type": "display_data"
    }
   ],
   "source": [
    "confusionMatrix(as.factor(res), as.factor(true_outcome))[[2]]\n",
    "TN =(confusionMatrix(as.factor(res), as.factor(true_outcome)))[[2]][1,1]\n",
    "TP = (confusionMatrix(as.factor(res), as.factor(true_outcome)))[[2]][2,2]\n",
    "FN = (confusionMatrix(as.factor(res), as.factor(true_outcome)))[[2]][1,2]\n",
    "FP = (confusionMatrix(as.factor(res), as.factor(true_outcome)))[[2]][2,1]\n",
    "\n",
    "accuracy = (TP+TN)/(TP+FP+TN+FN)\n",
    "recall = TP/(TP+FN)\n",
    "precision = TP/(TP+FP)\n",
    "\n",
    "paste(\"AUC: \", auc)\n",
    "paste(\"Accuracy: \", accuracy)\n",
    "paste(\"Recall: \", recall)\n",
    "paste(\"Precision: \", precision)"
   ]
  },
  {
   "cell_type": "markdown",
   "id": "232478aa",
   "metadata": {},
   "source": [
    "### Test"
   ]
  },
  {
   "cell_type": "code",
   "execution_count": 1070,
   "id": "361ed0f0",
   "metadata": {},
   "outputs": [],
   "source": [
    "set.seed(123)\n",
    "#Basetable is the combination of the validation and training set\n",
    "train <- basetable\n",
    "yTRAIN <- train$Top3\n",
    "train$Top10 = NULL\n",
    "train$Top5 = NULL\n",
    "train$Top4 = NULL\n",
    "train$Top3 = NULL\n",
    "train$Top2 = NULL\n",
    "\n",
    "test <- basetable_test\n",
    "yTEST <- test$Top3\n",
    "test$Top10 = NULL\n",
    "test$Top5 = NULL\n",
    "test$Top4 = NULL\n",
    "test$Top3 = NULL\n",
    "test$Top2 = NULL"
   ]
  },
  {
   "cell_type": "code",
   "execution_count": 1071,
   "id": "0854ddfe",
   "metadata": {},
   "outputs": [],
   "source": [
    "train = train[varsel_boruta]\n",
    "test = test[varsel_boruta]"
   ]
  },
  {
   "cell_type": "code",
   "execution_count": 1072,
   "id": "fbdc5c7e",
   "metadata": {},
   "outputs": [
    {
     "data": {
      "text/html": [
       "0.579908675799087"
      ],
      "text/latex": [
       "0.579908675799087"
      ],
      "text/markdown": [
       "0.579908675799087"
      ],
      "text/plain": [
       "[1] 0.5799087"
      ]
     },
     "metadata": {},
     "output_type": "display_data"
    }
   ],
   "source": [
    "set.seed(123)\n",
    "rFmodel <- randomForest(x=train, y = yTRAIN, ntree = 1000,mtry=3)\n",
    "predictions <- predict(rFmodel, test, type = \"prob\")[, 2]\n",
    "\n",
    "auc = AUC::auc(roc(predictions,factor(yTEST)))\n",
    "AUC::auc(roc(predictions,factor(yTEST)))"
   ]
  },
  {
   "cell_type": "code",
   "execution_count": 1073,
   "id": "82ab91ca",
   "metadata": {
    "vscode": {
     "languageId": "r"
    }
   },
   "outputs": [],
   "source": [
    "res = ifelse(predictions>=0.5,1,0)\n",
    "true_outcome = yTEST"
   ]
  },
  {
   "cell_type": "code",
   "execution_count": 1074,
   "id": "320ffb8e",
   "metadata": {
    "scrolled": false,
    "vscode": {
     "languageId": "r"
    }
   },
   "outputs": [
    {
     "data": {
      "text/plain": [
       "          Reference\n",
       "Prediction  0  1\n",
       "         0 46 24\n",
       "         1 27 21"
      ]
     },
     "metadata": {},
     "output_type": "display_data"
    },
    {
     "data": {
      "text/html": [
       "<span style=white-space:pre-wrap>'AUC:  0.579908675799087'</span>"
      ],
      "text/latex": [
       "'AUC:  0.579908675799087'"
      ],
      "text/markdown": [
       "<span style=white-space:pre-wrap>'AUC:  0.579908675799087'</span>"
      ],
      "text/plain": [
       "[1] \"AUC:  0.579908675799087\""
      ]
     },
     "metadata": {},
     "output_type": "display_data"
    },
    {
     "data": {
      "text/html": [
       "<span style=white-space:pre-wrap>'Accuracy:  0.567796610169492'</span>"
      ],
      "text/latex": [
       "'Accuracy:  0.567796610169492'"
      ],
      "text/markdown": [
       "<span style=white-space:pre-wrap>'Accuracy:  0.567796610169492'</span>"
      ],
      "text/plain": [
       "[1] \"Accuracy:  0.567796610169492\""
      ]
     },
     "metadata": {},
     "output_type": "display_data"
    },
    {
     "data": {
      "text/html": [
       "<span style=white-space:pre-wrap>'Recall:  0.466666666666667'</span>"
      ],
      "text/latex": [
       "'Recall:  0.466666666666667'"
      ],
      "text/markdown": [
       "<span style=white-space:pre-wrap>'Recall:  0.466666666666667'</span>"
      ],
      "text/plain": [
       "[1] \"Recall:  0.466666666666667\""
      ]
     },
     "metadata": {},
     "output_type": "display_data"
    },
    {
     "data": {
      "text/html": [
       "<span style=white-space:pre-wrap>'Precision:  0.4375'</span>"
      ],
      "text/latex": [
       "'Precision:  0.4375'"
      ],
      "text/markdown": [
       "<span style=white-space:pre-wrap>'Precision:  0.4375'</span>"
      ],
      "text/plain": [
       "[1] \"Precision:  0.4375\""
      ]
     },
     "metadata": {},
     "output_type": "display_data"
    }
   ],
   "source": [
    "confusionMatrix(as.factor(res), as.factor(true_outcome))[[2]]\n",
    "TN =(confusionMatrix(as.factor(res), as.factor(true_outcome)))[[2]][1,1]\n",
    "TP = (confusionMatrix(as.factor(res), as.factor(true_outcome)))[[2]][2,2]\n",
    "FN = (confusionMatrix(as.factor(res), as.factor(true_outcome)))[[2]][1,2]\n",
    "FP = (confusionMatrix(as.factor(res), as.factor(true_outcome)))[[2]][2,1]\n",
    "\n",
    "accuracy = (TP+TN)/(TP+FP+TN+FN)\n",
    "recall = TP/(TP+FN)\n",
    "precision = TP/(TP+FP)\n",
    "\n",
    "paste(\"AUC: \", auc)\n",
    "paste(\"Accuracy: \", accuracy)\n",
    "paste(\"Recall: \", recall)\n",
    "paste(\"Precision: \", precision)"
   ]
  },
  {
   "cell_type": "code",
   "execution_count": 1075,
   "id": "be90d57c",
   "metadata": {},
   "outputs": [
    {
     "data": {
      "text/plain": [
       "Confusion Matrix and Statistics\n",
       "\n",
       "          Reference\n",
       "Prediction  0  1\n",
       "         0 46 24\n",
       "         1 27 21\n",
       "                                          \n",
       "               Accuracy : 0.5678          \n",
       "                 95% CI : (0.4734, 0.6587)\n",
       "    No Information Rate : 0.6186          \n",
       "    P-Value [Acc > NIR] : 0.8904          \n",
       "                                          \n",
       "                  Kappa : 0.0956          \n",
       "                                          \n",
       " Mcnemar's Test P-Value : 0.7794          \n",
       "                                          \n",
       "            Sensitivity : 0.4667          \n",
       "            Specificity : 0.6301          \n",
       "         Pos Pred Value : 0.4375          \n",
       "         Neg Pred Value : 0.6571          \n",
       "             Prevalence : 0.3814          \n",
       "         Detection Rate : 0.1780          \n",
       "   Detection Prevalence : 0.4068          \n",
       "      Balanced Accuracy : 0.5484          \n",
       "                                          \n",
       "       'Positive' Class : 1               \n",
       "                                          "
      ]
     },
     "metadata": {},
     "output_type": "display_data"
    }
   ],
   "source": [
    "confusionMatrix(as.factor(res), as.factor(true_outcome), positive = \"1\")"
   ]
  },
  {
   "cell_type": "markdown",
   "id": "b6203855",
   "metadata": {},
   "source": [
    "## XGBoost"
   ]
  },
  {
   "cell_type": "code",
   "execution_count": 1076,
   "id": "1b02f97f",
   "metadata": {
    "vscode": {
     "languageId": "r"
    }
   },
   "outputs": [],
   "source": [
    "#Preparing the train and validation tables\n",
    "table_train5 <- table_train\n",
    "table_val5 <- table_val\n",
    "table_test5 <- table_test\n",
    "table_trainval5 <- table_trainval\n",
    "\n",
    "table_train5$Top10 <- NULL\n",
    "table_train5$Top4 <- NULL\n",
    "table_train5$Top5 <- NULL\n",
    "table_train5$Top2 <- NULL\n",
    "\n",
    "table_val5$Top10 <- NULL\n",
    "table_val5$Top4 <- NULL\n",
    "table_val5$Top5 <- NULL\n",
    "table_val5$Top2 <- NULL\n",
    "\n",
    "table_test5$Top10 <- NULL\n",
    "table_test5$Top4 <- NULL\n",
    "table_test5$Top5 <- NULL\n",
    "table_test5$Top2 <- NULL\n",
    "\n",
    "table_trainval5$Top10 <- NULL\n",
    "table_trainval5$Top4 <- NULL\n",
    "table_trainval5$Top5 <- NULL\n",
    "table_trainval5$Top2 <- NULL"
   ]
  },
  {
   "cell_type": "code",
   "execution_count": 1077,
   "id": "adca5f62",
   "metadata": {
    "vscode": {
     "languageId": "r"
    }
   },
   "outputs": [],
   "source": [
    "#new train en val set\n",
    "y_train <- table_train5$Top3\n",
    "train <- table_train5\n",
    "train$Top5<- NULL\n",
    "\n",
    "y_val <- table_val5$Top3\n",
    "val <- table_val5\n",
    "val$Top5 <-NULL\n",
    "\n",
    "y_test <- table_test5$Top3\n",
    "test <- table_test\n",
    "table_test5$Top5 <- NULL\n",
    "\n",
    "#Combining test and validationset together\n",
    "y_trainval <- table_trainval5$Top3\n",
    "trainval <- table_trainval5\n",
    "trainval$Top3<- NULL"
   ]
  },
  {
   "cell_type": "code",
   "execution_count": 1078,
   "id": "c579cea6",
   "metadata": {
    "vscode": {
     "languageId": "r"
    }
   },
   "outputs": [],
   "source": [
    "train_fs <- train[varsel_boruta]\n",
    "val_fs <- val[varsel_boruta]\n",
    "test_fs <- test[varsel_boruta]\n",
    "trainval_fs = trainval[varsel_boruta]"
   ]
  },
  {
   "cell_type": "code",
   "execution_count": 1079,
   "id": "df01211a",
   "metadata": {},
   "outputs": [
    {
     "data": {
      "text/html": [
       "<table>\n",
       "<thead><tr><th scope=col>downhill_mean</th><th scope=col>sprint_mean</th><th scope=col>sprint_max</th><th scope=col>acceleration_max</th><th scope=col>attack_max</th></tr></thead>\n",
       "<tbody>\n",
       "\t<tr><td>67</td><td>64</td><td>75</td><td>74</td><td>73</td></tr>\n",
       "\t<tr><td>67</td><td>64</td><td>75</td><td>75</td><td>80</td></tr>\n",
       "</tbody>\n",
       "</table>\n"
      ],
      "text/latex": [
       "\\begin{tabular}{r|lllll}\n",
       " downhill\\_mean & sprint\\_mean & sprint\\_max & acceleration\\_max & attack\\_max\\\\\n",
       "\\hline\n",
       "\t 67 & 64 & 75 & 74 & 73\\\\\n",
       "\t 67 & 64 & 75 & 75 & 80\\\\\n",
       "\\end{tabular}\n"
      ],
      "text/markdown": [
       "\n",
       "| downhill_mean | sprint_mean | sprint_max | acceleration_max | attack_max |\n",
       "|---|---|---|---|---|\n",
       "| 67 | 64 | 75 | 74 | 73 |\n",
       "| 67 | 64 | 75 | 75 | 80 |\n",
       "\n"
      ],
      "text/plain": [
       "  downhill_mean sprint_mean sprint_max acceleration_max attack_max\n",
       "1 67            64          75         74               73        \n",
       "2 67            64          75         75               80        "
      ]
     },
     "metadata": {},
     "output_type": "display_data"
    }
   ],
   "source": [
    "head(train_fs,n = 2)"
   ]
  },
  {
   "cell_type": "code",
   "execution_count": 1080,
   "id": "2253411f",
   "metadata": {},
   "outputs": [
    {
     "data": {
      "text/html": [
       "<table>\n",
       "<thead><tr><th scope=col>downhill_mean</th><th scope=col>sprint_mean</th><th scope=col>sprint_max</th><th scope=col>acceleration_max</th><th scope=col>attack_max</th></tr></thead>\n",
       "<tbody>\n",
       "\t<tr><td>73</td><td>65</td><td>73</td><td>78</td><td>75</td></tr>\n",
       "\t<tr><td>67</td><td>67</td><td>75</td><td>76</td><td>76</td></tr>\n",
       "</tbody>\n",
       "</table>\n"
      ],
      "text/latex": [
       "\\begin{tabular}{r|lllll}\n",
       " downhill\\_mean & sprint\\_mean & sprint\\_max & acceleration\\_max & attack\\_max\\\\\n",
       "\\hline\n",
       "\t 73 & 65 & 73 & 78 & 75\\\\\n",
       "\t 67 & 67 & 75 & 76 & 76\\\\\n",
       "\\end{tabular}\n"
      ],
      "text/markdown": [
       "\n",
       "| downhill_mean | sprint_mean | sprint_max | acceleration_max | attack_max |\n",
       "|---|---|---|---|---|\n",
       "| 73 | 65 | 73 | 78 | 75 |\n",
       "| 67 | 67 | 75 | 76 | 76 |\n",
       "\n"
      ],
      "text/plain": [
       "  downhill_mean sprint_mean sprint_max acceleration_max attack_max\n",
       "1 73            65          73         78               75        \n",
       "2 67            67          75         76               76        "
      ]
     },
     "metadata": {},
     "output_type": "display_data"
    }
   ],
   "source": [
    "head(val_fs,n = 2)"
   ]
  },
  {
   "cell_type": "code",
   "execution_count": 1081,
   "id": "1a45b6a7",
   "metadata": {},
   "outputs": [
    {
     "data": {
      "text/html": [
       "<table>\n",
       "<thead><tr><th scope=col>downhill_mean</th><th scope=col>sprint_mean</th><th scope=col>sprint_max</th><th scope=col>acceleration_max</th><th scope=col>attack_max</th></tr></thead>\n",
       "<tbody>\n",
       "\t<tr><td>70</td><td>65</td><td>74</td><td>77</td><td>77</td></tr>\n",
       "\t<tr><td>67</td><td>66</td><td>72</td><td>74</td><td>78</td></tr>\n",
       "</tbody>\n",
       "</table>\n"
      ],
      "text/latex": [
       "\\begin{tabular}{r|lllll}\n",
       " downhill\\_mean & sprint\\_mean & sprint\\_max & acceleration\\_max & attack\\_max\\\\\n",
       "\\hline\n",
       "\t 70 & 65 & 74 & 77 & 77\\\\\n",
       "\t 67 & 66 & 72 & 74 & 78\\\\\n",
       "\\end{tabular}\n"
      ],
      "text/markdown": [
       "\n",
       "| downhill_mean | sprint_mean | sprint_max | acceleration_max | attack_max |\n",
       "|---|---|---|---|---|\n",
       "| 70 | 65 | 74 | 77 | 77 |\n",
       "| 67 | 66 | 72 | 74 | 78 |\n",
       "\n"
      ],
      "text/plain": [
       "  downhill_mean sprint_mean sprint_max acceleration_max attack_max\n",
       "1 70            65          74         77               77        \n",
       "2 67            66          72         74               78        "
      ]
     },
     "metadata": {},
     "output_type": "display_data"
    }
   ],
   "source": [
    "head(test_fs,n = 2)"
   ]
  },
  {
   "cell_type": "code",
   "execution_count": 1082,
   "id": "06bf6afa",
   "metadata": {},
   "outputs": [
    {
     "data": {
      "text/html": [
       "<table>\n",
       "<thead><tr><th scope=col>downhill_mean</th><th scope=col>sprint_mean</th><th scope=col>sprint_max</th><th scope=col>acceleration_max</th><th scope=col>attack_max</th></tr></thead>\n",
       "<tbody>\n",
       "\t<tr><td>67</td><td>64</td><td>75</td><td>74</td><td>73</td></tr>\n",
       "\t<tr><td>67</td><td>64</td><td>75</td><td>75</td><td>80</td></tr>\n",
       "</tbody>\n",
       "</table>\n"
      ],
      "text/latex": [
       "\\begin{tabular}{r|lllll}\n",
       " downhill\\_mean & sprint\\_mean & sprint\\_max & acceleration\\_max & attack\\_max\\\\\n",
       "\\hline\n",
       "\t 67 & 64 & 75 & 74 & 73\\\\\n",
       "\t 67 & 64 & 75 & 75 & 80\\\\\n",
       "\\end{tabular}\n"
      ],
      "text/markdown": [
       "\n",
       "| downhill_mean | sprint_mean | sprint_max | acceleration_max | attack_max |\n",
       "|---|---|---|---|---|\n",
       "| 67 | 64 | 75 | 74 | 73 |\n",
       "| 67 | 64 | 75 | 75 | 80 |\n",
       "\n"
      ],
      "text/plain": [
       "  downhill_mean sprint_mean sprint_max acceleration_max attack_max\n",
       "1 67            64          75         74               73        \n",
       "2 67            64          75         75               80        "
      ]
     },
     "metadata": {},
     "output_type": "display_data"
    }
   ],
   "source": [
    "head(trainval_fs,n = 2)"
   ]
  },
  {
   "cell_type": "markdown",
   "id": "c9e013e7",
   "metadata": {},
   "source": [
    "### Tuning"
   ]
  },
  {
   "cell_type": "code",
   "execution_count": 1083,
   "id": "690798ed",
   "metadata": {
    "vscode": {
     "languageId": "r"
    }
   },
   "outputs": [],
   "source": [
    "#preparing matrices\n",
    "#convert all data to numeric format\n",
    "trainxgb <- train_fs %>% mutate_if(is.factor, as.character)  %>% mutate_if(is.character, as.numeric)\n",
    "testxgb <- test_fs %>% mutate_if(is.factor, as.character)  %>% mutate_if(is.character, as.numeric)\n",
    "valxgb <- val_fs %>% mutate_if(is.factor, as.character)  %>% mutate_if(is.character, as.numeric)\n",
    "trainvalxgb = trainval_fs %>% mutate_if(is.factor, as.character)  %>% mutate_if(is.character, as.numeric)"
   ]
  },
  {
   "cell_type": "code",
   "execution_count": 1084,
   "id": "71a8190d",
   "metadata": {
    "vscode": {
     "languageId": "r"
    }
   },
   "outputs": [],
   "source": [
    "dtrain <- xgb.DMatrix(data = as.matrix(trainxgb), label = as.numeric(as.character(y_train))) \n",
    "dval <- xgb.DMatrix(data = as.matrix(valxgb), label = as.numeric(as.character(y_val))) \n",
    "dtest <- xgb.DMatrix(data = as.matrix(testxgb))\n",
    "dtrainval = xgb.DMatrix(data = as.matrix(trainvalxgb), label = as.numeric(as.character(y_trainval))) "
   ]
  },
  {
   "cell_type": "code",
   "execution_count": 1085,
   "id": "0c601e88",
   "metadata": {
    "scrolled": false,
    "vscode": {
     "languageId": "r"
    }
   },
   "outputs": [
    {
     "name": "stdout",
     "output_type": "stream",
     "text": [
      "[1]\ttrain-auc:0.824216\ttest-auc:0.602381 \n",
      "[2]\ttrain-auc:0.881103\ttest-auc:0.691667 \n",
      "[3]\ttrain-auc:0.886729\ttest-auc:0.705595 \n",
      "[4]\ttrain-auc:0.889768\ttest-auc:0.703571 \n",
      "[5]\ttrain-auc:0.890170\ttest-auc:0.702857 \n",
      "[6]\ttrain-auc:0.896901\ttest-auc:0.702976 \n",
      "[7]\ttrain-auc:0.899010\ttest-auc:0.694643 \n",
      "[8]\ttrain-auc:0.903983\ttest-auc:0.694643 \n",
      "[9]\ttrain-auc:0.905038\ttest-auc:0.697738 \n",
      "[10]\ttrain-auc:0.919053\ttest-auc:0.689762 \n",
      "[11]\ttrain-auc:0.924377\ttest-auc:0.690595 \n",
      "[12]\ttrain-auc:0.929953\ttest-auc:0.682619 \n",
      "[13]\ttrain-auc:0.936207\ttest-auc:0.672976 \n",
      "[14]\ttrain-auc:0.940803\ttest-auc:0.674881 \n",
      "[15]\ttrain-auc:0.946228\ttest-auc:0.668452 \n",
      "[16]\ttrain-auc:0.947634\ttest-auc:0.677262 \n",
      "[17]\ttrain-auc:0.948614\ttest-auc:0.672976 \n",
      "[18]\ttrain-auc:0.950623\ttest-auc:0.673214 \n",
      "[19]\ttrain-auc:0.953260\ttest-auc:0.672024 \n",
      "[20]\ttrain-auc:0.955269\ttest-auc:0.669405 \n"
     ]
    },
    {
     "data": {
      "image/png": "[encoded data removed]",
      "text/plain": [
       "plot without title"
      ]
     },
     "metadata": {},
     "output_type": "display_data"
    }
   ],
   "source": [
    "#plotting learning curve of the number of iterations\n",
    "#Need to have watchlist and verbose turned on\n",
    "watchlist <- list(train=dtrain, test=dval)\n",
    "set.seed(123)\n",
    "xgbModel_opt <- xgb.train(\n",
    "    data = dtrain, \n",
    "    nrounds = 20,\n",
    "    eta= 0.1,\n",
    "    objective = \"binary:logistic\", \n",
    "    verbose = 2, \n",
    "    watchlist = watchlist,\n",
    "    eval_metric = 'auc',\n",
    ")\n",
    "\n",
    "history <- xgbModel_opt$evaluation_log\n",
    "\n",
    "history %>% pivot_longer(2:3, names_to = \"set\", values_to = \"performance\") %>% \n",
    "  ggplot(., aes(iter, performance, col = set))+\n",
    "  geom_point()+ geom_line()+\n",
    "  facet_wrap(~set)"
   ]
  },
  {
   "cell_type": "markdown",
   "id": "d52b9854",
   "metadata": {},
   "source": [
    "### Validation"
   ]
  },
  {
   "cell_type": "code",
   "execution_count": 1086,
   "id": "e76cbca6",
   "metadata": {
    "vscode": {
     "languageId": "r"
    }
   },
   "outputs": [
    {
     "data": {
      "text/html": [
       "0.705595238095238"
      ],
      "text/latex": [
       "0.705595238095238"
      ],
      "text/markdown": [
       "0.705595238095238"
      ],
      "text/plain": [
       "[1] 0.7055952"
      ]
     },
     "metadata": {},
     "output_type": "display_data"
    }
   ],
   "source": [
    "set.seed(123)\n",
    "##Optimize nrounds BEST\n",
    "opt_iter <- history$iter[which.max(history$test_auc)]\n",
    "\n",
    "xgbModel_opt <- xgb.train(\n",
    "    data          = dtrain, \n",
    "    nrounds       = opt_iter, \n",
    "    objective     = \"binary:logistic\",\n",
    "    eta           = 0.1,\n",
    "    verbose       = 2, \n",
    "    eval_metric   = 'auc'\n",
    ")\n",
    "\n",
    "predxgb <- predict(xgbModel_opt,dval)\n",
    "auc <-AUC::auc(roc(predxgb,y_val))\n",
    "AUC::auc(roc(predxgb,y_val))"
   ]
  },
  {
   "cell_type": "code",
   "execution_count": 1087,
   "id": "6431f802",
   "metadata": {
    "vscode": {
     "languageId": "r"
    }
   },
   "outputs": [
    {
     "data": {
      "text/plain": [
       "          Reference\n",
       "Prediction  0  1\n",
       "         0 60 23\n",
       "         1 24 27"
      ]
     },
     "metadata": {},
     "output_type": "display_data"
    },
    {
     "data": {
      "text/html": [
       "<span style=white-space:pre-wrap>'AUC:  0.705595238095238'</span>"
      ],
      "text/latex": [
       "'AUC:  0.705595238095238'"
      ],
      "text/markdown": [
       "<span style=white-space:pre-wrap>'AUC:  0.705595238095238'</span>"
      ],
      "text/plain": [
       "[1] \"AUC:  0.705595238095238\""
      ]
     },
     "metadata": {},
     "output_type": "display_data"
    },
    {
     "data": {
      "text/html": [
       "<span style=white-space:pre-wrap>'Accuracy:  0.649253731343284'</span>"
      ],
      "text/latex": [
       "'Accuracy:  0.649253731343284'"
      ],
      "text/markdown": [
       "<span style=white-space:pre-wrap>'Accuracy:  0.649253731343284'</span>"
      ],
      "text/plain": [
       "[1] \"Accuracy:  0.649253731343284\""
      ]
     },
     "metadata": {},
     "output_type": "display_data"
    },
    {
     "data": {
      "text/html": [
       "<span style=white-space:pre-wrap>'Recall:  0.54'</span>"
      ],
      "text/latex": [
       "'Recall:  0.54'"
      ],
      "text/markdown": [
       "<span style=white-space:pre-wrap>'Recall:  0.54'</span>"
      ],
      "text/plain": [
       "[1] \"Recall:  0.54\""
      ]
     },
     "metadata": {},
     "output_type": "display_data"
    },
    {
     "data": {
      "text/html": [
       "<span style=white-space:pre-wrap>'Precision:  0.529411764705882'</span>"
      ],
      "text/latex": [
       "'Precision:  0.529411764705882'"
      ],
      "text/markdown": [
       "<span style=white-space:pre-wrap>'Precision:  0.529411764705882'</span>"
      ],
      "text/plain": [
       "[1] \"Precision:  0.529411764705882\""
      ]
     },
     "metadata": {},
     "output_type": "display_data"
    }
   ],
   "source": [
    "res <-ifelse(predxgb>=0.5,1,0)\n",
    "true_outcome <- y_val\n",
    "\n",
    "confusionMatrix(as.factor(res), as.factor(true_outcome))[[2]]\n",
    "TN =(confusionMatrix(as.factor(res), as.factor(true_outcome)))[[2]][1,1]\n",
    "TP = (confusionMatrix(as.factor(res), as.factor(true_outcome)))[[2]][2,2]\n",
    "FN = (confusionMatrix(as.factor(res), as.factor(true_outcome)))[[2]][1,2]\n",
    "FP = (confusionMatrix(as.factor(res), as.factor(true_outcome)))[[2]][2,1]\n",
    "\n",
    "accuracy = (TP+TN)/(TP+FP+TN+FN)\n",
    "recall = TP/(TP+FN)\n",
    "precision = TP/(TP+FP)\n",
    "\n",
    "paste(\"AUC: \", auc)\n",
    "paste(\"Accuracy: \", accuracy)\n",
    "paste(\"Recall: \", recall)\n",
    "paste(\"Precision: \", precision)"
   ]
  },
  {
   "cell_type": "markdown",
   "id": "de9881cc",
   "metadata": {},
   "source": [
    "### Test"
   ]
  },
  {
   "cell_type": "code",
   "execution_count": 1088,
   "id": "ea840ae4",
   "metadata": {},
   "outputs": [],
   "source": [
    "set.seed(123)\n",
    "##Optimize nrounds BEST\n",
    "opt_iter <- history$iter[which.max(history$test_auc)]\n",
    "\n",
    "xgbModel_opt <- xgb.train(\n",
    "    data          = dtrainval, \n",
    "    nrounds       = 15, \n",
    "    objective     = \"binary:logistic\",\n",
    "    eta           = 0.1,\n",
    "    verbose       = 2, \n",
    "    eval_metric   = 'auc'\n",
    ")"
   ]
  },
  {
   "cell_type": "code",
   "execution_count": 1089,
   "id": "57680512",
   "metadata": {
    "vscode": {
     "languageId": "r"
    }
   },
   "outputs": [
    {
     "data": {
      "text/plain": [
       "          Reference\n",
       "Prediction  0  1\n",
       "         0 49 28\n",
       "         1 24 17"
      ]
     },
     "metadata": {},
     "output_type": "display_data"
    },
    {
     "data": {
      "text/html": [
       "<span style=white-space:pre-wrap>'AUC:  0.587366818873668'</span>"
      ],
      "text/latex": [
       "'AUC:  0.587366818873668'"
      ],
      "text/markdown": [
       "<span style=white-space:pre-wrap>'AUC:  0.587366818873668'</span>"
      ],
      "text/plain": [
       "[1] \"AUC:  0.587366818873668\""
      ]
     },
     "metadata": {},
     "output_type": "display_data"
    },
    {
     "data": {
      "text/html": [
       "<span style=white-space:pre-wrap>'Accuracy:  0.559322033898305'</span>"
      ],
      "text/latex": [
       "'Accuracy:  0.559322033898305'"
      ],
      "text/markdown": [
       "<span style=white-space:pre-wrap>'Accuracy:  0.559322033898305'</span>"
      ],
      "text/plain": [
       "[1] \"Accuracy:  0.559322033898305\""
      ]
     },
     "metadata": {},
     "output_type": "display_data"
    },
    {
     "data": {
      "text/html": [
       "<span style=white-space:pre-wrap>'Recall:  0.377777777777778'</span>"
      ],
      "text/latex": [
       "'Recall:  0.377777777777778'"
      ],
      "text/markdown": [
       "<span style=white-space:pre-wrap>'Recall:  0.377777777777778'</span>"
      ],
      "text/plain": [
       "[1] \"Recall:  0.377777777777778\""
      ]
     },
     "metadata": {},
     "output_type": "display_data"
    },
    {
     "data": {
      "text/html": [
       "<span style=white-space:pre-wrap>'Precision:  0.414634146341463'</span>"
      ],
      "text/latex": [
       "'Precision:  0.414634146341463'"
      ],
      "text/markdown": [
       "<span style=white-space:pre-wrap>'Precision:  0.414634146341463'</span>"
      ],
      "text/plain": [
       "[1] \"Precision:  0.414634146341463\""
      ]
     },
     "metadata": {},
     "output_type": "display_data"
    }
   ],
   "source": [
    "#Although a lower AUC the recall and precision i significantly better than both ranger and random forest\n",
    "set.seed(123)\n",
    "predxgb <- predict(xgbModel_opt,dtest)\n",
    "auc <-AUC::auc(roc(predxgb,y_test))\n",
    "res <-ifelse(predxgb>=0.5,1,0)\n",
    "true_outcome <- y_test\n",
    "\n",
    "\n",
    "confusionMatrix(as.factor(res), as.factor(true_outcome))[[2]]\n",
    "TN =(confusionMatrix(as.factor(res), as.factor(true_outcome)))[[2]][1,1]\n",
    "TP = (confusionMatrix(as.factor(res), as.factor(true_outcome)))[[2]][2,2]\n",
    "FN = (confusionMatrix(as.factor(res), as.factor(true_outcome)))[[2]][1,2]\n",
    "FP = (confusionMatrix(as.factor(res), as.factor(true_outcome)))[[2]][2,1]\n",
    "\n",
    "accuracy = (TP+TN)/(TP+FP+TN+FN)\n",
    "recall = TP/(TP+FN)\n",
    "precision = TP/(TP+FP)\n",
    "\n",
    "paste(\"AUC: \", auc)\n",
    "paste(\"Accuracy: \", accuracy)\n",
    "paste(\"Recall: \", recall)\n",
    "paste(\"Precision: \", precision)"
   ]
  },
  {
   "cell_type": "code",
   "execution_count": 1090,
   "id": "52ab17b6",
   "metadata": {},
   "outputs": [
    {
     "data": {
      "text/plain": [
       "Confusion Matrix and Statistics\n",
       "\n",
       "          Reference\n",
       "Prediction  0  1\n",
       "         0 49 28\n",
       "         1 24 17\n",
       "                                         \n",
       "               Accuracy : 0.5593         \n",
       "                 95% CI : (0.465, 0.6506)\n",
       "    No Information Rate : 0.6186         \n",
       "    P-Value [Acc > NIR] : 0.9215         \n",
       "                                         \n",
       "                  Kappa : 0.0499         \n",
       "                                         \n",
       " Mcnemar's Test P-Value : 0.6774         \n",
       "                                         \n",
       "            Sensitivity : 0.3778         \n",
       "            Specificity : 0.6712         \n",
       "         Pos Pred Value : 0.4146         \n",
       "         Neg Pred Value : 0.6364         \n",
       "             Prevalence : 0.3814         \n",
       "         Detection Rate : 0.1441         \n",
       "   Detection Prevalence : 0.3475         \n",
       "      Balanced Accuracy : 0.5245         \n",
       "                                         \n",
       "       'Positive' Class : 1              \n",
       "                                         "
      ]
     },
     "metadata": {},
     "output_type": "display_data"
    }
   ],
   "source": [
    "confusionMatrix(as.factor(res), as.factor(true_outcome), positive = \"1\")"
   ]
  },
  {
   "cell_type": "markdown",
   "id": "ba4f2e54",
   "metadata": {},
   "source": [
    "## LightGBM"
   ]
  },
  {
   "cell_type": "code",
   "execution_count": 34,
   "id": "b1bb9695",
   "metadata": {
    "vscode": {
     "languageId": "r"
    }
   },
   "outputs": [],
   "source": [
    "#Preparing the train and validation tables\n",
    "table_train5 <- table_train\n",
    "table_val5 <- table_val\n",
    "table_test5 <- table_test\n",
    "table_trainval5 <- table_trainval\n",
    "\n",
    "table_train5$Top10 <- NULL\n",
    "table_train5$Top4 <- NULL\n",
    "table_train5$Top3 <- NULL\n",
    "table_train5$Top2 <- NULL\n",
    "\n",
    "table_val5$Top10 <- NULL\n",
    "table_val5$Top4 <- NULL\n",
    "table_val5$Top3 <- NULL\n",
    "table_val5$Top2 <- NULL\n",
    "\n",
    "table_test5$Top10 <- NULL\n",
    "table_test5$Top4 <- NULL\n",
    "table_test5$Top3 <- NULL\n",
    "table_test5$Top2 <- NULL\n",
    "\n",
    "table_trainval5$Top10 <- NULL\n",
    "table_trainval5$Top4 <- NULL\n",
    "table_trainval5$Top3 <- NULL\n",
    "table_trainval5$Top2 <- NULL"
   ]
  },
  {
   "cell_type": "code",
   "execution_count": 35,
   "id": "18126f88",
   "metadata": {
    "vscode": {
     "languageId": "r"
    }
   },
   "outputs": [],
   "source": [
    "#new train en val set\n",
    "y_train <- table_train5$Top5\n",
    "train <- table_train5\n",
    "train$Top5<- NULL\n",
    "\n",
    "y_val <- table_val5$Top5\n",
    "val <- table_val5\n",
    "val$Top5 <-NULL\n",
    "\n",
    "y_test <- table_test5$Top5\n",
    "test <- table_test\n",
    "table_test5$Top5 <- NULL\n",
    "\n",
    "#Combining test and validationset together\n",
    "y_trainval <- table_trainval5$Top5\n",
    "trainval <- table_trainval5\n",
    "trainval$Top5<- NULL"
   ]
  },
  {
   "cell_type": "code",
   "execution_count": 36,
   "id": "ba02c373",
   "metadata": {
    "vscode": {
     "languageId": "r"
    }
   },
   "outputs": [],
   "source": [
    "train_fs <- train[varsel_boruta]\n",
    "val_fs <- val[varsel_boruta]\n",
    "test_fs <- test[varsel_boruta]\n",
    "trainval_fs = trainval[varsel_boruta]"
   ]
  },
  {
   "cell_type": "markdown",
   "id": "ca9199f2",
   "metadata": {},
   "source": [
    "### Tuning"
   ]
  },
  {
   "cell_type": "code",
   "execution_count": null,
   "id": "d174abc4",
   "metadata": {
    "vscode": {
     "languageId": "r"
    }
   },
   "outputs": [],
   "source": [
    "leaves <- c(2, 4, 6, 8)\n",
    "nround <- c(2, 5, 10, 20, 50, 100, 200)\n",
    "learning_rate <- c(0.01, 0.05, 0.1, 0.2, 0.5)\n",
    "\n",
    "# create data frame of all possible combinations\n",
    "params <- expand.grid(leaves, nround, learning_rate)\n",
    "colnames(params) <- c(\"leaves\", \"nround\", \"learning_rate\")\n",
    "\n",
    "aucs <- vector()\n",
    "for (row in 1:nrow(params)) {\n",
    "  # set parameters\n",
    "  par <- params[row, ]\n",
    "  param_set <- list(num_leaves = par[, \"leaves\"],\n",
    "                    learning_rate = par[,\"learning_rate\"],\n",
    "                    objective = \"binary\", boosting = \"gbdt\",\n",
    "                    num_iterations = par[, \"nround\"])\n",
    "  # model\n",
    "  lgbm_model <- lightgbm(data = as.matrix(train_fs),\n",
    "                         params = param_set, label = as.numeric(as.character(y_train)),\n",
    "                         verbose = -1)\n",
    "\n",
    "  # predict\n",
    "  pred <- predict(lgbm_model, as.matrix(val_fs))\n",
    "  \n",
    "  # evaluate\n",
    "  aucs[row] <- AUC::auc(AUC::roc(pred, y_val))\n",
    "}"
   ]
  },
  {
   "cell_type": "code",
   "execution_count": null,
   "id": "784ef62a",
   "metadata": {
    "vscode": {
     "languageId": "r"
    }
   },
   "outputs": [],
   "source": [
    "(optimal_paramsLGBM <- params[which.max(aucs), ])"
   ]
  },
  {
   "cell_type": "markdown",
   "id": "bbdeb8e7",
   "metadata": {},
   "source": [
    "### Build optimal model"
   ]
  },
  {
   "cell_type": "code",
   "execution_count": null,
   "id": "8459649e",
   "metadata": {
    "vscode": {
     "languageId": "r"
    }
   },
   "outputs": [],
   "source": [
    "# Build the final model on the optimal parameters\n",
    "final_param_set <- list(num_leaves = optimal_paramsLGBM[, \"leaves\"],\n",
    "                        learning_rate = optimal_paramsLGBM[, \"learning_rate\"], objective = \"binary\",\n",
    "                        boosting = \"gbdt\", num_iterations = optimal_paramsLGBM[,\n",
    "                                                                               \"nround\"])\n",
    "\n",
    "lgbm_model <- lightgbm(data = as.matrix(train_fs), params = final_param_set,\n",
    "                       label = as.numeric(as.character(y_train)), verbose = -1)"
   ]
  },
  {
   "cell_type": "markdown",
   "id": "9e65d694",
   "metadata": {},
   "source": [
    "### Validation"
   ]
  },
  {
   "cell_type": "code",
   "execution_count": null,
   "id": "a1db11be",
   "metadata": {
    "vscode": {
     "languageId": "r"
    }
   },
   "outputs": [],
   "source": [
    "# Predict\n",
    "predlgbm <- predict(lgbm_model, as.matrix(val_fs))\n",
    "# Evaluate\n",
    "AUC::auc(AUC::roc(predlgbm, y_val))"
   ]
  },
  {
   "cell_type": "markdown",
   "id": "e4cb20db",
   "metadata": {},
   "source": [
    "### Test"
   ]
  },
  {
   "cell_type": "code",
   "execution_count": null,
   "id": "4e32efdc",
   "metadata": {
    "vscode": {
     "languageId": "r"
    }
   },
   "outputs": [],
   "source": [
    "predlgbm <- predict(lgbm_model, as.matrix(test_fs))\n",
    "auc <-AUC::auc(AUC::roc(predlgbm, y_test))"
   ]
  },
  {
   "cell_type": "code",
   "execution_count": null,
   "id": "e5525fba",
   "metadata": {
    "vscode": {
     "languageId": "r"
    }
   },
   "outputs": [],
   "source": [
    "res <-ifelse(predlgbm>=0.5,1,0)\n",
    "true_outcome <- y_test\n",
    "\n",
    "\n",
    "confusionMatrix(as.factor(res), as.factor(true_outcome))[[2]]\n",
    "TN =(confusionMatrix(as.factor(res), as.factor(true_outcome)))[[2]][1,1]\n",
    "TP = (confusionMatrix(as.factor(res), as.factor(true_outcome)))[[2]][2,2]\n",
    "FN = (confusionMatrix(as.factor(res), as.factor(true_outcome)))[[2]][1,2]\n",
    "FP = (confusionMatrix(as.factor(res), as.factor(true_outcome)))[[2]][2,1]\n",
    "\n",
    "accuracy = (TP+TN)/(TP+FP+TN+FN)\n",
    "recall = TP/(TP+FN)\n",
    "precision = TP/(TP+FP)\n",
    "\n",
    "paste(\"Accuracy: \", accuracy)\n",
    "paste(\"Recall: \", recall)\n",
    "paste(\"Precision: \", precision)\n",
    "\n"
   ]
  },
  {
   "cell_type": "markdown",
   "id": "01e06146",
   "metadata": {},
   "source": [
    "# Rotation forest\n"
   ]
  },
  {
   "cell_type": "code",
   "execution_count": 6,
   "id": "ba1cb341",
   "metadata": {
    "scrolled": true,
    "vscode": {
     "languageId": "r"
    }
   },
   "outputs": [
    {
     "ename": "ERROR",
     "evalue": "Error in eval(expr, envir, enclos): object 'basetable_train' not found\n",
     "output_type": "error",
     "traceback": [
      "Error in eval(expr, envir, enclos): object 'basetable_train' not found\nTraceback:\n"
     ]
    }
   ],
   "source": [
    "set.seed(123)\n",
    "train <- basetable_train\n",
    "yTRAIN <- train$Top3\n",
    "train$Top10 = NULL\n",
    "train$Top5 = NULL\n",
    "train$Top4 = NULL\n",
    "train$Top3 = NULL\n",
    "train$Top2 = NULL\n",
    "\n",
    "val <- basetable_val\n",
    "yVAL <- val$Top3\n",
    "val$Top10 = NULL\n",
    "val$Top5 = NULL\n",
    "val$Top4 = NULL\n",
    "val$Top3 = NULL\n",
    "val$Top2 = NULL"
   ]
  },
  {
   "cell_type": "code",
   "execution_count": 33,
   "id": "e4885e36",
   "metadata": {},
   "outputs": [],
   "source": [
    "#Boruto performs better\n",
    "train = train[varsel_boruta]\n",
    "val = val[varsel_boruta]"
   ]
  },
  {
   "cell_type": "markdown",
   "id": "2cafee0c",
   "metadata": {},
   "source": [
    "### Tuning"
   ]
  },
  {
   "cell_type": "code",
   "execution_count": 34,
   "id": "6ce073d3",
   "metadata": {
    "vscode": {
     "languageId": "r"
    }
   },
   "outputs": [],
   "source": [
    "# hyperparameter grid search\n",
    "hyper_grid <- expand.grid(\n",
    "  L       = seq(1, 20, by = 1),\n",
    "  K       = seq(1, floor(ncol(train)/2), by = 1)\n",
    ")"
   ]
  },
  {
   "cell_type": "code",
   "execution_count": 35,
   "id": "fc013b5d",
   "metadata": {},
   "outputs": [
    {
     "data": {
      "text/html": [
       "5"
      ],
      "text/latex": [
       "5"
      ],
      "text/markdown": [
       "5"
      ],
      "text/plain": [
       "[1] 5"
      ]
     },
     "metadata": {},
     "output_type": "display_data"
    }
   ],
   "source": [
    "ncol(train)"
   ]
  },
  {
   "cell_type": "code",
   "execution_count": 36,
   "id": "3bafae6c",
   "metadata": {
    "vscode": {
     "languageId": "r"
    }
   },
   "outputs": [],
   "source": [
    "for(i in 1:nrow(hyper_grid)) {\n",
    "  set.seed(123)\n",
    "  # train model\n",
    "  RoFmodel <- rotationForest(\n",
    "    x               = train, \n",
    "    y               = yTRAIN, \n",
    "    L               = hyper_grid$L[i],\n",
    "    K               = hyper_grid$K[i],\n",
    "  )\n",
    "  predictions =  predict(RoFmodel, val)\n",
    "  auc = AUC::auc(roc(predictions,factor(yVAL)))\n",
    "  hyper_grid$AUC[i] <- auc\n",
    "}"
   ]
  },
  {
   "cell_type": "code",
   "execution_count": 37,
   "id": "9e1bc9dd",
   "metadata": {
    "scrolled": false,
    "vscode": {
     "languageId": "r"
    }
   },
   "outputs": [
    {
     "data": {
      "text/html": [
       "<table>\n",
       "<thead><tr><th></th><th scope=col>L</th><th scope=col>K</th><th scope=col>AUC</th></tr></thead>\n",
       "<tbody>\n",
       "\t<tr><th scope=row>36</th><td> 8       </td><td>2        </td><td>0.6852381</td></tr>\n",
       "\t<tr><th scope=row>37</th><td> 7       </td><td>2        </td><td>0.6852381</td></tr>\n",
       "\t<tr><th scope=row>38</th><td>12       </td><td>2        </td><td>0.6863095</td></tr>\n",
       "\t<tr><th scope=row>39</th><td>14       </td><td>2        </td><td>0.6872619</td></tr>\n",
       "\t<tr><th scope=row>40</th><td>13       </td><td>2        </td><td>0.6894048</td></tr>\n",
       "</tbody>\n",
       "</table>\n"
      ],
      "text/latex": [
       "\\begin{tabular}{r|lll}\n",
       "  & L & K & AUC\\\\\n",
       "\\hline\n",
       "\t36 &  8        & 2         & 0.6852381\\\\\n",
       "\t37 &  7        & 2         & 0.6852381\\\\\n",
       "\t38 & 12        & 2         & 0.6863095\\\\\n",
       "\t39 & 14        & 2         & 0.6872619\\\\\n",
       "\t40 & 13        & 2         & 0.6894048\\\\\n",
       "\\end{tabular}\n"
      ],
      "text/markdown": [
       "\n",
       "| <!--/--> | L | K | AUC |\n",
       "|---|---|---|---|\n",
       "| 36 |  8        | 2         | 0.6852381 |\n",
       "| 37 |  7        | 2         | 0.6852381 |\n",
       "| 38 | 12        | 2         | 0.6863095 |\n",
       "| 39 | 14        | 2         | 0.6872619 |\n",
       "| 40 | 13        | 2         | 0.6894048 |\n",
       "\n"
      ],
      "text/plain": [
       "   L  K AUC      \n",
       "36  8 2 0.6852381\n",
       "37  7 2 0.6852381\n",
       "38 12 2 0.6863095\n",
       "39 14 2 0.6872619\n",
       "40 13 2 0.6894048"
      ]
     },
     "metadata": {},
     "output_type": "display_data"
    }
   ],
   "source": [
    "hyper_grid %>% \n",
    "  dplyr::arrange(AUC) %>%\n",
    "  tail(5)\n"
   ]
  },
  {
   "cell_type": "markdown",
   "id": "269720a8",
   "metadata": {},
   "source": [
    "### Validation"
   ]
  },
  {
   "cell_type": "code",
   "execution_count": null,
   "id": "8fa4fd58",
   "metadata": {
    "vscode": {
     "languageId": "r"
    }
   },
   "outputs": [],
   "source": [
    "#No tuning\n",
    "set.seed(123)\n",
    "RoFmodel <- rotationForest(x=train, y = yTRAIN)\n",
    "predictions =  predict(RoFmodel,val)\n",
    "AUC::auc(roc(predictions,factor(yVAL)))"
   ]
  },
  {
   "cell_type": "code",
   "execution_count": null,
   "id": "227ec9c7",
   "metadata": {
    "vscode": {
     "languageId": "r"
    }
   },
   "outputs": [],
   "source": [
    "#With tuning\n",
    "set.seed(123)\n",
    "RoFmodel <- rotationForest(x=train, y = yTRAIN, L=15, K=3)\n",
    "predictions =  predict(RoFmodel, val)\n",
    "auc = AUC::auc(roc(predictions,factor(yVAL)))\n",
    "AUC::auc(roc(predictions,factor(yVAL)))"
   ]
  },
  {
   "cell_type": "code",
   "execution_count": null,
   "id": "8155d16b",
   "metadata": {
    "vscode": {
     "languageId": "r"
    }
   },
   "outputs": [],
   "source": [
    "res = ifelse(predictions>=0.5,1,0)\n",
    "true_outcome = yVAL"
   ]
  },
  {
   "cell_type": "code",
   "execution_count": null,
   "id": "f574dd0d",
   "metadata": {
    "scrolled": false,
    "vscode": {
     "languageId": "r"
    }
   },
   "outputs": [],
   "source": [
    "confusionMatrix(as.factor(res), as.factor(true_outcome))[[2]]\n",
    "TN =(confusionMatrix(as.factor(res), as.factor(true_outcome)))[[2]][1,1]\n",
    "TP = (confusionMatrix(as.factor(res), as.factor(true_outcome)))[[2]][2,2]\n",
    "FN = (confusionMatrix(as.factor(res), as.factor(true_outcome)))[[2]][1,2]\n",
    "FP = (confusionMatrix(as.factor(res), as.factor(true_outcome)))[[2]][2,1]\n",
    "\n",
    "accuracy = (TP+TN)/(TP+FP+TN+FN)\n",
    "recall = TP/(TP+FN)\n",
    "precision = TP/(TP+FP)\n",
    "\n",
    "paste(\"AUC: \", auc)\n",
    "paste(\"Accuracy: \", accuracy)\n",
    "paste(\"Recall: \", recall)\n",
    "paste(\"Precision: \", precision)"
   ]
  },
  {
   "cell_type": "markdown",
   "id": "1d08904e",
   "metadata": {},
   "source": [
    "### Test"
   ]
  },
  {
   "cell_type": "code",
   "execution_count": null,
   "id": "84938f1c",
   "metadata": {},
   "outputs": [],
   "source": [
    "set.seed(123)\n",
    "train <- basetable\n",
    "yTRAIN <- train$Top5\n",
    "train$Top10 = NULL\n",
    "train$Top5 = NULL\n",
    "train$Top4 = NULL\n",
    "train$Top3 = NULL\n",
    "train$Top2 = NULL\n",
    "\n",
    "test <- basetable_test\n",
    "yTEST <- test$Top5\n",
    "test$Top10 = NULL\n",
    "test$Top5 = NULL\n",
    "test$Top4 = NULL\n",
    "test$Top3 = NULL\n",
    "test$Top2 = NULL"
   ]
  },
  {
   "cell_type": "code",
   "execution_count": null,
   "id": "55a23855",
   "metadata": {},
   "outputs": [],
   "source": [
    "train = train[varsel_boruta]\n",
    "test = test[varsel_boruta]"
   ]
  },
  {
   "cell_type": "code",
   "execution_count": null,
   "id": "d6ac4913",
   "metadata": {},
   "outputs": [],
   "source": [
    "set.seed(123)\n",
    "model <- rotationForest(x=train, y = yTRAIN, L=15, K=3)\n",
    "predictions =  predict(model,test)\n",
    "auc = AUC::auc(roc(predictions,factor(yTEST)))\n",
    "AUC::auc(roc(predictions,factor(yTEST)))"
   ]
  },
  {
   "cell_type": "code",
   "execution_count": null,
   "id": "d8401c34",
   "metadata": {
    "vscode": {
     "languageId": "r"
    }
   },
   "outputs": [],
   "source": [
    "res = ifelse(predictions>=0.5,1,0)\n",
    "true_outcome = yTEST"
   ]
  },
  {
   "cell_type": "code",
   "execution_count": null,
   "id": "ae1a5d34",
   "metadata": {
    "scrolled": false,
    "vscode": {
     "languageId": "r"
    }
   },
   "outputs": [],
   "source": [
    "confusionMatrix(as.factor(res), as.factor(true_outcome))[[2]]\n",
    "TN =(confusionMatrix(as.factor(res), as.factor(true_outcome)))[[2]][1,1]\n",
    "TP = (confusionMatrix(as.factor(res), as.factor(true_outcome)))[[2]][2,2]\n",
    "FN = (confusionMatrix(as.factor(res), as.factor(true_outcome)))[[2]][1,2]\n",
    "FP = (confusionMatrix(as.factor(res), as.factor(true_outcome)))[[2]][2,1]\n",
    "\n",
    "accuracy = (TP+TN)/(TP+FP+TN+FN)\n",
    "recall = TP/(TP+FN)\n",
    "precision = TP/(TP+FP)\n",
    "\n",
    "paste(\"AUC: \", auc)\n",
    "paste(\"Accuracy: \", accuracy)\n",
    "paste(\"Recall: \", recall)\n",
    "paste(\"Precision: \", precision)"
   ]
  },
  {
   "cell_type": "code",
   "execution_count": null,
   "id": "d46f4a84",
   "metadata": {},
   "outputs": [],
   "source": [
    "confusionMatrix(as.factor(res), as.factor(true_outcome), positive = \"1\")"
   ]
  },
  {
   "cell_type": "markdown",
   "id": "21d2a968",
   "metadata": {},
   "source": [
    "# Catboost"
   ]
  },
  {
   "cell_type": "code",
   "execution_count": 159,
   "id": "16480b02",
   "metadata": {},
   "outputs": [
    {
     "ename": "ERROR",
     "evalue": "Error in catboost.load_pool(data = data.matrix(basetable_train[, -(40:44)]), : could not find function \"catboost.load_pool\"\n",
     "output_type": "error",
     "traceback": [
      "Error in catboost.load_pool(data = data.matrix(basetable_train[, -(40:44)]), : could not find function \"catboost.load_pool\"\nTraceback:\n"
     ]
    }
   ],
   "source": [
    "train_pool <- catboost.load_pool(data = data.matrix(basetable_train[,-(40:44)]),label = as.numeric(as.character(basetable_train$Top5)))\n",
    "val_pool <- catboost.load_pool(data = data.matrix(basetable_val[,-(40:44)]), label = as.numeric(as.character(basetable_val$Top5)))"
   ]
  },
  {
   "cell_type": "code",
   "execution_count": null,
   "id": "be32ef5a",
   "metadata": {},
   "outputs": [],
   "source": [
    "# parameter tuning with caret\n",
    "fit_control <- trainControl(method = \"cv\",\n",
    "                            number = 4,\n",
    "                            classProbs = TRUE)\n",
    "\n",
    "grid <- expand.grid(depth = c(4, 6, 8),\n",
    "                    learning_rate = c(0.1,0.5,1),\n",
    "                    iterations = 100,\n",
    "                    l2_leaf_reg = c(0.001, 0.01, 0.1, 1),\n",
    "                    rsm = 0.95,\n",
    "                    border_count = 64)\n",
    "report <- train(basetable_train[,-(40:44)], as.factor(make.names(basetable_train$Top5)),\n",
    "                method = catboost.caret,\n",
    "                logging_level = 'Verbose', preProc = NULL,\n",
    "                tuneGrid = grid, trControl = fit_control)\n",
    "\n",
    "print(report)\n",
    "#extract best parameters\n",
    "params <- list(loss_function = 'Logloss',\n",
    "               iterations = 100, \n",
    "               depth = 8, \n",
    "               learning_rate = 0.1,\n",
    "               l2_leaf_reg = 0.001, #L2 regularization \n",
    "               metric_period=10)\n",
    "\n",
    "importance <- varImp(report, scale = FALSE)\n",
    "print(importance)"
   ]
  },
  {
   "cell_type": "code",
   "execution_count": null,
   "id": "3a3bfb2b",
   "metadata": {},
   "outputs": [],
   "source": [
    "# train model\n",
    "catboost_train <- catboost.train(train_pool,  NULL, params = params)\n",
    "\n",
    "preds_cad_train <- catboost.predict(catboost_train, val_pool)\n",
    "\n",
    "AUC::auc(AUC::roc(preds_cad_train,basetable_val$Top5)) # Validation set AUC"
   ]
  },
  {
   "cell_type": "code",
   "execution_count": null,
   "id": "d2656477",
   "metadata": {},
   "outputs": [],
   "source": [
    "# now for test set\n",
    "big_pool <- catboost.load_pool(data = data.matrix(basetable[,-(40:44)]), \n",
    "                                 label = as.numeric(as.character(basetable$Top5)))\n",
    "test_pool <- catboost.load_pool(data = data.matrix(basetable_test[,-(40:44)]), \n",
    "                               label = as.numeric(as.character(basetable_test$Top5)))\n",
    "\n",
    "catboost_test <- catboost.train(big_pool,  NULL, params = params)\n",
    "\n",
    "preds_cad_test <- catboost.predict(catboost_test, test_pool)\n",
    "\n",
    "AUC::auc(AUC::roc(preds_cad_test,basetable_test$Top5)) # Test set AUC"
   ]
  },
  {
   "cell_type": "code",
   "execution_count": null,
   "id": "2ab9ebd6",
   "metadata": {},
   "outputs": [],
   "source": [
    "# check accuracy\n",
    "res <-ifelse(preds_cad_test>=0.5,1,0)\n",
    "true_outcome <- basetable_test$Top5\n",
    "\n",
    "\n",
    "confusionMatrix(as.factor(res), as.factor(true_outcome))[[2]]\n",
    "TN =(confusionMatrix(as.factor(res), as.factor(true_outcome)))[[2]][1,1]\n",
    "TP = (confusionMatrix(as.factor(res), as.factor(true_outcome)))[[2]][2,2]\n",
    "FN = (confusionMatrix(as.factor(res), as.factor(true_outcome)))[[2]][1,2]\n",
    "FP = (confusionMatrix(as.factor(res), as.factor(true_outcome)))[[2]][2,1]\n",
    "\n",
    "accuracy = (TP+TN)/(TP+FP+TN+FN)\n",
    "recall = TP/(TP+FN)\n",
    "precision = TP/(TP+FP)\n",
    "accuracy"
   ]
  },
  {
   "cell_type": "markdown",
   "id": "b11de988",
   "metadata": {},
   "source": [
    "# Heterogenous ensemble"
   ]
  },
  {
   "cell_type": "code",
   "execution_count": null,
   "id": "b20e362b",
   "metadata": {},
   "outputs": [],
   "source": [
    "\n",
    "# adaboost & rotation\n",
    "finalpredictions <- (auc_RoF/(auc_RoF + auc_ada)) * pred_RoF_test + (auc_ada/(auc_RoF + auc_ada)) * predAB\n",
    "\n",
    "AUC::auc(AUC::roc(finalpredictions, basetable_test$Top5))\n",
    "\n",
    "# accuracy\n",
    "res <-ifelse(finalpredictions>=0.5,1,0)\n",
    "true_outcome <- basetable_test$Top5\n",
    "\n",
    "\n",
    "confusionMatrix(as.factor(res), as.factor(true_outcome))[[2]]\n",
    "TN =(confusionMatrix(as.factor(res), as.factor(true_outcome)))[[2]][1,1]\n",
    "TP = (confusionMatrix(as.factor(res), as.factor(true_outcome)))[[2]][2,2]\n",
    "FN = (confusionMatrix(as.factor(res), as.factor(true_outcome)))[[2]][1,2]\n",
    "FP = (confusionMatrix(as.factor(res), as.factor(true_outcome)))[[2]][2,1]\n",
    "\n",
    "accuracy = (TP+TN)/(TP+FP+TN+FN)\n",
    "recall = TP/(TP+FN)\n",
    "precision = TP/(TP+FP)\n",
    "accuracy\n"
   ]
  }
 ],
 "metadata": {
  "hide_input": false,
  "kernelspec": {
   "display_name": "R",
   "language": "R",
   "name": "ir"
  },
  "language_info": {
   "codemirror_mode": "r",
   "file_extension": ".r",
   "mimetype": "text/x-r-source",
   "name": "R",
   "pygments_lexer": "r",
   "version": "3.6.1"
  }
 },
 "nbformat": 4,
 "nbformat_minor": 5
}
