{
 "cells": [
  {
   "cell_type": "code",
   "execution_count": 1,
   "id": "56a66be7",
   "metadata": {},
   "outputs": [
    {
     "name": "stderr",
     "output_type": "stream",
     "text": [
      "also installing the dependency 'jsonlite'\n",
      "\n",
      "Warning message:\n",
      "\"unable to access index for repository http://www.stats.ox.ac.uk/pub/RWin/bin/windows/contrib/3.6:\n",
      "  cannot open URL 'http://www.stats.ox.ac.uk/pub/RWin/bin/windows/contrib/3.6/PACKAGES'\""
     ]
    },
    {
     "name": "stdout",
     "output_type": "stream",
     "text": [
      "\n",
      "  There is a binary version available but the source version is later:\n",
      "         binary source needs_compilation\n",
      "jsonlite  1.7.2  1.8.0              TRUE\n",
      "\n",
      "  Binaries will be installed\n",
      "package 'jsonlite' successfully unpacked and MD5 sums checked\n"
     ]
    },
    {
     "name": "stderr",
     "output_type": "stream",
     "text": [
      "Warning message:\n",
      "\"cannot remove prior installation of package 'jsonlite'\"Warning message in file.copy(savedcopy, lib, recursive = TRUE):\n",
      "\"problem copying C:\\Users\\jordy\\anaconda3\\envs\\R2\\Lib\\R\\library\\00LOCK\\jsonlite\\libs\\x64\\jsonlite.dll to C:\\Users\\jordy\\anaconda3\\envs\\R2\\Lib\\R\\library\\jsonlite\\libs\\x64\\jsonlite.dll: Permission denied\"Warning message:\n",
      "\"restored 'jsonlite'\""
     ]
    },
    {
     "name": "stdout",
     "output_type": "stream",
     "text": [
      "package 'tidyverse' successfully unpacked and MD5 sums checked\n",
      "\n",
      "The downloaded binary packages are in\n",
      "\tC:\\Users\\jordy\\AppData\\Local\\Temp\\RtmpMT6yey\\downloaded_packages\n"
     ]
    },
    {
     "name": "stderr",
     "output_type": "stream",
     "text": [
      "\n",
      "tidyverse installed\n",
      "Warning message:\n",
      "\"package 'tidyverse' was built under R version 3.6.3\"Warning message in p_load(lubridate, AUC, tidyverse):\n",
      "\"Failed to install/load:\n",
      "tidyverse\"also installing the dependency 'jsonlite'\n",
      "\n",
      "Warning message:\n",
      "\"unable to access index for repository http://www.stats.ox.ac.uk/pub/RWin/bin/windows/contrib/3.6:\n",
      "  cannot open URL 'http://www.stats.ox.ac.uk/pub/RWin/bin/windows/contrib/3.6/PACKAGES'\""
     ]
    },
    {
     "name": "stdout",
     "output_type": "stream",
     "text": [
      "\n",
      "  There is a binary version available but the source version is later:\n",
      "         binary source needs_compilation\n",
      "jsonlite  1.7.2  1.8.0              TRUE\n",
      "\n",
      "  Binaries will be installed\n",
      "package 'jsonlite' successfully unpacked and MD5 sums checked\n"
     ]
    },
    {
     "name": "stderr",
     "output_type": "stream",
     "text": [
      "Warning message:\n",
      "\"cannot remove prior installation of package 'jsonlite'\"Warning message in file.copy(savedcopy, lib, recursive = TRUE):\n",
      "\"problem copying C:\\Users\\jordy\\anaconda3\\envs\\R2\\Lib\\R\\library\\00LOCK\\jsonlite\\libs\\x64\\jsonlite.dll to C:\\Users\\jordy\\anaconda3\\envs\\R2\\Lib\\R\\library\\jsonlite\\libs\\x64\\jsonlite.dll: Permission denied\"Warning message:\n",
      "\"restored 'jsonlite'\""
     ]
    },
    {
     "name": "stdout",
     "output_type": "stream",
     "text": [
      "package 'tidyverse' successfully unpacked and MD5 sums checked\n",
      "\n",
      "The downloaded binary packages are in\n",
      "\tC:\\Users\\jordy\\AppData\\Local\\Temp\\RtmpMT6yey\\downloaded_packages\n"
     ]
    },
    {
     "name": "stderr",
     "output_type": "stream",
     "text": [
      "\n",
      "tidyverse installed\n",
      "Warning message:\n",
      "\"package 'tidyverse' was built under R version 3.6.3\"Warning message in p_load(tidyverse):\n",
      "\"Failed to install/load:\n",
      "tidyverse\""
     ]
    }
   ],
   "source": [
    "library(pacman)\n",
    "p_load(lubridate, AUC, tidyverse)\n",
    "\n",
    "p_load(magrittr) \n",
    "p_load(dplyr)\n",
    "p_load(tidyverse)\n",
    "p_load(tidyr)\n",
    "p_load(pacman)\n",
    "p_load(rlist)\n",
    "p_load(dummy)\n",
    "p_load(e1071)\n",
    "p_load(ROSE)\n",
    "p_load(rotationForest)\n",
    "p_load(xgboost)\n",
    "p_load(caret)\n",
    "\n",
    "p_load(FNN)\n",
    "p_load(randomForest)\n",
    "p_load(ranger)\n",
    "p_load(GA)"
   ]
  },
  {
   "cell_type": "markdown",
   "id": "b2bf7d2c",
   "metadata": {},
   "source": [
    "# Models"
   ]
  },
  {
   "cell_type": "markdown",
   "id": "c835eff8",
   "metadata": {},
   "source": [
    "## Mountainous model"
   ]
  },
  {
   "cell_type": "code",
   "execution_count": 92,
   "id": "19a9c4f4",
   "metadata": {},
   "outputs": [
    {
     "data": {
      "text/html": [
       "<table>\n",
       "<thead><tr><th scope=col>Pos</th><th scope=col>Rider</th><th scope=col>Team</th><th scope=col>Time</th><th scope=col>Rider_ID</th><th scope=col>Rider_Country</th><th scope=col>Team_ID</th><th scope=col>Year</th><th scope=col>Stage</th><th scope=col>UCI</th><th scope=col>...</th><th scope=col>limit_i_plain</th><th scope=col>limit_i_prologue</th><th scope=col>limit_i_recuperation</th><th scope=col>limit_i_resistance</th><th scope=col>limit_i_sprint</th><th scope=col>limit_i_timetrial</th><th scope=col>prerace_i_cyclist</th><th scope=col>race_b_withdrawal</th><th scope=col>value_i_potentiel</th><th scope=col>value_i_rank_voted</th></tr></thead>\n",
       "<tbody>\n",
       "\t<tr><td>1                             </td><td>amador andrey                 </td><td>Movistar Team                 </td><td>05:33:36                      </td><td> 745                          </td><td>CRC                           </td><td>5                             </td><td>2012                          </td><td>14                            </td><td>NA                            </td><td>...                           </td><td>0                             </td><td>0                             </td><td>0                             </td><td>0                             </td><td>0                             </td><td>0                             </td><td>0                             </td><td>0                             </td><td>5                             </td><td>0                             </td></tr>\n",
       "\t<tr><td>2                             </td><td>barta jan                     </td><td>Team NetApp                   </td><td>+ 00                          </td><td> 990                          </td><td>CZE                           </td><td>57                            </td><td>2012                          </td><td>14                            </td><td>NA                            </td><td>...                           </td><td>0                             </td><td>0                             </td><td>0                             </td><td>0                             </td><td>0                             </td><td>0                             </td><td>0                             </td><td>0                             </td><td>4                             </td><td>0                             </td></tr>\n",
       "\t<tr><td>3                             </td><td>de marchi alessandro          </td><td>Androni Giocattoli - Venezuela</td><td>+ 02                          </td><td>3103                          </td><td>ITA                           </td><td>23                            </td><td>2012                          </td><td>14                            </td><td>NA                            </td><td>...                           </td><td>0                             </td><td>0                             </td><td>0                             </td><td>0                             </td><td>0                             </td><td>0                             </td><td>0                             </td><td>0                             </td><td>3                             </td><td>0                             </td></tr>\n",
       "\t<tr><td>4                             </td><td>hesjedal ryder                </td><td>Garmin - Sharp                </td><td>+ 20                          </td><td>  52                          </td><td>CAN                           </td><td>10                            </td><td>2012                          </td><td>14                            </td><td>NA                            </td><td>...                           </td><td>0                             </td><td>0                             </td><td>0                             </td><td>0                             </td><td>0                             </td><td>0                             </td><td>0                             </td><td>0                             </td><td>5                             </td><td>0                             </td></tr>\n",
       "\t<tr><td>5                             </td><td>tiralongo paolo               </td><td>Astana Pro Team               </td><td>+ 46                          </td><td> 359                          </td><td>ITA                           </td><td>25                            </td><td>2012                          </td><td>14                            </td><td>NA                            </td><td>...                           </td><td>0                             </td><td>0                             </td><td>0                             </td><td>0                             </td><td>0                             </td><td>0                             </td><td>0                             </td><td>0                             </td><td>4                             </td><td>0                             </td></tr>\n",
       "\t<tr><td>6                             </td><td>uran rigoberto                </td><td>Sky ProCycling                </td><td>+ 46                          </td><td> 117                          </td><td>COL                           </td><td>44                            </td><td>2012                          </td><td>14                            </td><td>NA                            </td><td>...                           </td><td>0                             </td><td>0                             </td><td>0                             </td><td>0                             </td><td>0                             </td><td>0                             </td><td>0                             </td><td>0                             </td><td>6                             </td><td>0                             </td></tr>\n",
       "</tbody>\n",
       "</table>\n"
      ],
      "text/latex": [
       "\\begin{tabular}{r|lllllllllllllllllllllllllllllllllllllllllllllllllllllllllllllllllllllllllllll}\n",
       " Pos & Rider & Team & Time & Rider\\_ID & Rider\\_Country & Team\\_ID & Year & Stage & UCI & ... & limit\\_i\\_plain & limit\\_i\\_prologue & limit\\_i\\_recuperation & limit\\_i\\_resistance & limit\\_i\\_sprint & limit\\_i\\_timetrial & prerace\\_i\\_cyclist & race\\_b\\_withdrawal & value\\_i\\_potentiel & value\\_i\\_rank\\_voted\\\\\n",
       "\\hline\n",
       "\t 1                              & amador andrey                  & Movistar Team                  & 05:33:36                       &  745                           & CRC                            & 5                              & 2012                           & 14                             & NA                             & ...                            & 0                              & 0                              & 0                              & 0                              & 0                              & 0                              & 0                              & 0                              & 5                              & 0                             \\\\\n",
       "\t 2                              & barta jan                      & Team NetApp                    & + 00                           &  990                           & CZE                            & 57                             & 2012                           & 14                             & NA                             & ...                            & 0                              & 0                              & 0                              & 0                              & 0                              & 0                              & 0                              & 0                              & 4                              & 0                             \\\\\n",
       "\t 3                              & de marchi alessandro           & Androni Giocattoli - Venezuela & + 02                           & 3103                           & ITA                            & 23                             & 2012                           & 14                             & NA                             & ...                            & 0                              & 0                              & 0                              & 0                              & 0                              & 0                              & 0                              & 0                              & 3                              & 0                             \\\\\n",
       "\t 4                              & hesjedal ryder                 & Garmin - Sharp                 & + 20                           &   52                           & CAN                            & 10                             & 2012                           & 14                             & NA                             & ...                            & 0                              & 0                              & 0                              & 0                              & 0                              & 0                              & 0                              & 0                              & 5                              & 0                             \\\\\n",
       "\t 5                              & tiralongo paolo                & Astana Pro Team                & + 46                           &  359                           & ITA                            & 25                             & 2012                           & 14                             & NA                             & ...                            & 0                              & 0                              & 0                              & 0                              & 0                              & 0                              & 0                              & 0                              & 4                              & 0                             \\\\\n",
       "\t 6                              & uran rigoberto                 & Sky ProCycling                 & + 46                           &  117                           & COL                            & 44                             & 2012                           & 14                             & NA                             & ...                            & 0                              & 0                              & 0                              & 0                              & 0                              & 0                              & 0                              & 0                              & 6                              & 0                             \\\\\n",
       "\\end{tabular}\n"
      ],
      "text/markdown": [
       "\n",
       "| Pos | Rider | Team | Time | Rider_ID | Rider_Country | Team_ID | Year | Stage | UCI | ... | limit_i_plain | limit_i_prologue | limit_i_recuperation | limit_i_resistance | limit_i_sprint | limit_i_timetrial | prerace_i_cyclist | race_b_withdrawal | value_i_potentiel | value_i_rank_voted |\n",
       "|---|---|---|---|---|---|---|---|---|---|---|---|---|---|---|---|---|---|---|---|---|\n",
       "| 1                              | amador andrey                  | Movistar Team                  | 05:33:36                       |  745                           | CRC                            | 5                              | 2012                           | 14                             | NA                             | ...                            | 0                              | 0                              | 0                              | 0                              | 0                              | 0                              | 0                              | 0                              | 5                              | 0                              |\n",
       "| 2                              | barta jan                      | Team NetApp                    | + 00                           |  990                           | CZE                            | 57                             | 2012                           | 14                             | NA                             | ...                            | 0                              | 0                              | 0                              | 0                              | 0                              | 0                              | 0                              | 0                              | 4                              | 0                              |\n",
       "| 3                              | de marchi alessandro           | Androni Giocattoli - Venezuela | + 02                           | 3103                           | ITA                            | 23                             | 2012                           | 14                             | NA                             | ...                            | 0                              | 0                              | 0                              | 0                              | 0                              | 0                              | 0                              | 0                              | 3                              | 0                              |\n",
       "| 4                              | hesjedal ryder                 | Garmin - Sharp                 | + 20                           |   52                           | CAN                            | 10                             | 2012                           | 14                             | NA                             | ...                            | 0                              | 0                              | 0                              | 0                              | 0                              | 0                              | 0                              | 0                              | 5                              | 0                              |\n",
       "| 5                              | tiralongo paolo                | Astana Pro Team                | + 46                           |  359                           | ITA                            | 25                             | 2012                           | 14                             | NA                             | ...                            | 0                              | 0                              | 0                              | 0                              | 0                              | 0                              | 0                              | 0                              | 4                              | 0                              |\n",
       "| 6                              | uran rigoberto                 | Sky ProCycling                 | + 46                           |  117                           | COL                            | 44                             | 2012                           | 14                             | NA                             | ...                            | 0                              | 0                              | 0                              | 0                              | 0                              | 0                              | 0                              | 0                              | 6                              | 0                              |\n",
       "\n"
      ],
      "text/plain": [
       "  Pos Rider                Team                           Time     Rider_ID\n",
       "1 1   amador andrey        Movistar Team                  05:33:36  745    \n",
       "2 2   barta jan            Team NetApp                    + 00      990    \n",
       "3 3   de marchi alessandro Androni Giocattoli - Venezuela + 02     3103    \n",
       "4 4   hesjedal ryder       Garmin - Sharp                 + 20       52    \n",
       "5 5   tiralongo paolo      Astana Pro Team                + 46      359    \n",
       "6 6   uran rigoberto       Sky ProCycling                 + 46      117    \n",
       "  Rider_Country Team_ID Year Stage UCI ... limit_i_plain limit_i_prologue\n",
       "1 CRC           5       2012 14    NA  ... 0             0               \n",
       "2 CZE           57      2012 14    NA  ... 0             0               \n",
       "3 ITA           23      2012 14    NA  ... 0             0               \n",
       "4 CAN           10      2012 14    NA  ... 0             0               \n",
       "5 ITA           25      2012 14    NA  ... 0             0               \n",
       "6 COL           44      2012 14    NA  ... 0             0               \n",
       "  limit_i_recuperation limit_i_resistance limit_i_sprint limit_i_timetrial\n",
       "1 0                    0                  0              0                \n",
       "2 0                    0                  0              0                \n",
       "3 0                    0                  0              0                \n",
       "4 0                    0                  0              0                \n",
       "5 0                    0                  0              0                \n",
       "6 0                    0                  0              0                \n",
       "  prerace_i_cyclist race_b_withdrawal value_i_potentiel value_i_rank_voted\n",
       "1 0                 0                 5                 0                 \n",
       "2 0                 0                 4                 0                 \n",
       "3 0                 0                 3                 0                 \n",
       "4 0                 0                 5                 0                 \n",
       "5 0                 0                 4                 0                 \n",
       "6 0                 0                 6                 0                 "
      ]
     },
     "metadata": {},
     "output_type": "display_data"
    }
   ],
   "source": [
    "table = (read.csv(\"Data//Mountain_races_final2.csv\", sep = \";\"))\n",
    "head(table)\n",
    "table_trainandval = table[table$Year<=2019,]\n",
    "table_test = table[table$Year>2019,]"
   ]
  },
  {
   "cell_type": "code",
   "execution_count": 64,
   "id": "715915e7",
   "metadata": {},
   "outputs": [
    {
     "name": "stderr",
     "output_type": "stream",
     "text": [
      "`summarise()` has grouped output by 'Race', 'Year'. You can override using the `.groups` argument.\n",
      "`summarise()` has grouped output by 'Race', 'Year'. You can override using the `.groups` argument.\n",
      "`summarise()` has grouped output by 'Race', 'Year'. You can override using the `.groups` argument.\n",
      "`summarise()` has grouped output by 'Race', 'Year'. You can override using the `.groups` argument.\n"
     ]
    }
   ],
   "source": [
    "basetable_test = table_test %>% group_by(Race, Year,Team) %>% summarise(flat_mean = round(mean(FLAT))\n",
    "                                             , mountain_mean = round(mean(MOUNTAIN))\n",
    "                                            , downhill_mean = round(mean(DOWNHILL))\n",
    "                                            ,cobbles_mean = round(mean(COBBLES))\n",
    "                                            ,tt_mean = round(mean(TT)),\n",
    "                                            ,prologue_mean = round(mean(PROLOGUE))\n",
    "                                            ,sprint_mean = round(mean(SPRINT))\n",
    "                                            ,acceleration_mean = round(mean(ACCELERATION))\n",
    "                                            ,endurance_mean = round(mean(ENDURANCE))\n",
    "                                            ,resistance_mean = round(mean(RESISTANCE))\n",
    "                                            ,recup_mean = round(mean(RECUP))\n",
    "                                            ,hill_mean = round(mean(HILL))\n",
    "                                            ,attack_mean = round(mean(ATTACK))\n",
    "                                            \n",
    "                                            ,flat_max = round(max(FLAT))\n",
    "                                            ,mountain_max = round(max(MOUNTAIN))\n",
    "                                            ,downhill_max = round(max(DOWNHILL))\n",
    "                                            ,cobbles_max = round(max(COBBLES))\n",
    "                                            ,tt_max = round(max(TT)),\n",
    "                                            ,prologue_max = round(max(PROLOGUE))\n",
    "                                            ,sprint_max = round(max(SPRINT))\n",
    "                                            ,acceleration_max = round(max(ACCELERATION))\n",
    "                                            ,endurance_max = round(max(ENDURANCE))\n",
    "                                            ,resistance_max = round(max(RESISTANCE))\n",
    "                                            ,recup_max = round(max(RECUP))\n",
    "                                            ,hill_max = round(max(HILL))\n",
    "                                            ,attack_max = round(max(ATTACK))\n",
    "                                            \n",
    "                                            ,flat_min = round(min(FLAT))\n",
    "                                            ,mountain_min = round(min(MOUNTAIN))\n",
    "                                            ,downhill_min = round(min(DOWNHILL))\n",
    "                                            ,cobbles_min = round(min(COBBLES))\n",
    "                                            ,tt_min = round(min(TT)),\n",
    "                                            ,prologue_min = round(min(PROLOGUE))\n",
    "                                            ,sprint_min = round(min(SPRINT))\n",
    "                                            ,acceleration_min = round(min(ACCELERATION))\n",
    "                                            ,endurance_min = round(min(ENDURANCE))\n",
    "                                            ,resistance_min = round(min(RESISTANCE))\n",
    "                                            ,recup_min = round(min(RECUP))\n",
    "                                            ,hill_min = round(min(HILL))\n",
    "                                            ,attack_min = round(min(ATTACK))\n",
    "                                    \n",
    "                                            ,best_position = min(Pos))\n",
    "\n",
    "basetable = table_trainandval %>% group_by(Race, Year,Team) %>% summarise(flat_mean = round(mean(FLAT))\n",
    "                                             , mountain_mean = round(mean(MOUNTAIN))\n",
    "                                            , downhill_mean = round(mean(DOWNHILL))\n",
    "                                            ,cobbles_mean = round(mean(COBBLES))\n",
    "                                            ,tt_mean = round(mean(TT)),\n",
    "                                            ,prologue_mean = round(mean(PROLOGUE))\n",
    "                                            ,sprint_mean = round(mean(SPRINT))\n",
    "                                            ,acceleration_mean = round(mean(ACCELERATION))\n",
    "                                            ,endurance_mean = round(mean(ENDURANCE))\n",
    "                                            ,resistance_mean = round(mean(RESISTANCE))\n",
    "                                            ,recup_mean = round(mean(RECUP))\n",
    "                                            ,hill_mean = round(mean(HILL))\n",
    "                                            ,attack_mean = round(mean(ATTACK))\n",
    "                                            \n",
    "                                            ,flat_max = round(max(FLAT))\n",
    "                                            ,mountain_max = round(max(MOUNTAIN))\n",
    "                                            ,downhill_max = round(max(DOWNHILL))\n",
    "                                            ,cobbles_max = round(max(COBBLES))\n",
    "                                            ,tt_max = round(max(TT)),\n",
    "                                            ,prologue_max = round(max(PROLOGUE))\n",
    "                                            ,sprint_max = round(max(SPRINT))\n",
    "                                            ,acceleration_max = round(max(ACCELERATION))\n",
    "                                            ,endurance_max = round(max(ENDURANCE))\n",
    "                                            ,resistance_max = round(max(RESISTANCE))\n",
    "                                            ,recup_max = round(max(RECUP))\n",
    "                                            ,hill_max = round(max(HILL))\n",
    "                                            ,attack_max = round(max(ATTACK))\n",
    "                                            \n",
    "                                            ,flat_min = round(min(FLAT))\n",
    "                                            ,mountain_min = round(min(MOUNTAIN))\n",
    "                                            ,downhill_min = round(min(DOWNHILL))\n",
    "                                            ,cobbles_min = round(min(COBBLES))\n",
    "                                            ,tt_min = round(min(TT)),\n",
    "                                            ,prologue_min = round(min(PROLOGUE))\n",
    "                                            ,sprint_min = round(min(SPRINT))\n",
    "                                            ,acceleration_min = round(min(ACCELERATION))\n",
    "                                            ,endurance_min = round(min(ENDURANCE))\n",
    "                                            ,resistance_min = round(min(RESISTANCE))\n",
    "                                            ,recup_min = round(min(RECUP))\n",
    "                                            ,hill_min = round(min(HILL))\n",
    "                                            ,attack_min = round(min(ATTACK))\n",
    "                                    \n",
    "                                            ,best_position = min(Pos))"
   ]
  },
  {
   "cell_type": "code",
   "execution_count": 66,
   "id": "20220f77",
   "metadata": {},
   "outputs": [],
   "source": [
    "basetable_test = (basetable_test)%>% drop_na()\n",
    "basetable = (basetable)%>% drop_na()"
   ]
  },
  {
   "cell_type": "code",
   "execution_count": 68,
   "id": "90677abd",
   "metadata": {},
   "outputs": [
    {
     "data": {
      "text/plain": [
       "\n",
       "  0   1 \n",
       "125 179 "
      ]
     },
     "metadata": {},
     "output_type": "display_data"
    },
    {
     "data": {
      "text/plain": [
       "\n",
       " 0  1 \n",
       "58 76 "
      ]
     },
     "metadata": {},
     "output_type": "display_data"
    },
    {
     "data": {
      "text/plain": [
       "\n",
       " 0  1 \n",
       "47 69 "
      ]
     },
     "metadata": {},
     "output_type": "display_data"
    },
    {
     "data": {
      "text/plain": [
       "\n",
       "  0   1 \n",
       "183 255 "
      ]
     },
     "metadata": {},
     "output_type": "display_data"
    }
   ],
   "source": [
    "basetable_test = (basetable_test)%>% drop_na()\n",
    "basetable = (basetable)%>% drop_na()\n",
    "\n",
    "#Test set\n",
    "basetable_test$Top10 = as.factor(ifelse(basetable_test$best_position <=10, 1,0))\n",
    "basetable_test$Top5 = as.factor(ifelse(basetable_test$best_position <=5, 1,0))\n",
    "basetable_test$Top4 = as.factor(ifelse(basetable_test$best_position <=4, 1,0))\n",
    "basetable_test$Top3 = as.factor(ifelse(basetable_test$best_position <=3, 1,0))\n",
    "basetable_test$Top2 = as.factor(ifelse(basetable_test$best_position <=2, 1,0))\n",
    "\n",
    "table(basetable_test$Top5)\n",
    "\n",
    "basetable_test$minutes_from_top = NULL\n",
    "basetable_test$best_position = NULL\n",
    "basetable_test$Team = NULL\n",
    "basetable_test$Year = NULL\n",
    "basetable_test$Stage = NULL\n",
    "basetable_test$Team_ID = NULL\n",
    "basetable_test$Race= NULL\n",
    "\n",
    "basetable$Top10 = as.factor(ifelse(basetable$best_position <=10, 1,0))\n",
    "basetable$Top5 = as.factor(ifelse(basetable$best_position <=5, 1,0))\n",
    "basetable$Top4 = as.factor(ifelse(basetable$best_position <=4, 1,0))\n",
    "basetable$Top3 = as.factor(ifelse(basetable$best_position <=3, 1,0))\n",
    "basetable$Top2 = as.factor(ifelse(basetable$best_position <=2, 1,0))\n",
    "\n",
    "table(basetable$Top5)\n",
    "\n",
    "basetable$minutes_from_top = NULL\n",
    "basetable$best_position = NULL\n",
    "basetable$Team = NULL\n",
    "basetable$Year = NULL\n",
    "basetable$Stage = NULL\n",
    "basetable$Team_ID = NULL\n",
    "basetable$Race= NULL\n",
    "\n",
    "table_test<- basetable_test\n",
    "table_trainval = basetable"
   ]
  },
  {
   "cell_type": "code",
   "execution_count": 162,
   "id": "d89caf46",
   "metadata": {},
   "outputs": [],
   "source": [
    "varsel_boruta_xgb = c('mountain_mean', 'cobbles_mean', 'tt_mean', 'resistance_mean', 'hill_mean', 'mountain_max', 'tt_max', 'recup_max', 'hill_max', 'mountain_min')"
   ]
  },
  {
   "cell_type": "markdown",
   "id": "b7c2cd5c",
   "metadata": {},
   "source": [
    "### XGBoosting"
   ]
  },
  {
   "cell_type": "code",
   "execution_count": 70,
   "id": "6b9dbacd",
   "metadata": {},
   "outputs": [],
   "source": [
    "set.seed(123)\n",
    "#Basetable is the combination of the validation and training set\n",
    "train <- basetable\n",
    "yTRAIN <- train$Top5\n",
    "train$Top10 = NULL\n",
    "train$Top5 = NULL\n",
    "train$Top4 = NULL\n",
    "train$Top3 = NULL\n",
    "train$Top2 = NULL\n",
    "\n",
    "test <- basetable_test\n",
    "yTEST <- test$Top5\n",
    "test$Top10 = NULL\n",
    "test$Top5 = NULL\n",
    "test$Top4 = NULL\n",
    "test$Top3 = NULL\n",
    "test$Top2 = NULL"
   ]
  },
  {
   "cell_type": "code",
   "execution_count": 71,
   "id": "49ed978d",
   "metadata": {},
   "outputs": [],
   "source": [
    "#Preparing the train and validation tables\n",
    "table_train5 <- table_train\n",
    "table_val5 <- table_val\n",
    "table_test5 <- table_test\n",
    "table_trainval5 <- table_trainval\n",
    "\n",
    "table_train5$Top10 <- NULL\n",
    "table_train5$Top4 <- NULL\n",
    "table_train5$Top3 <- NULL\n",
    "table_train5$Top2 <- NULL\n",
    "\n",
    "table_val5$Top10 <- NULL\n",
    "table_val5$Top4 <- NULL\n",
    "table_val5$Top3 <- NULL\n",
    "table_val5$Top2 <- NULL\n",
    "\n",
    "table_test5$Top10 <- NULL\n",
    "table_test5$Top4 <- NULL\n",
    "table_test5$Top3 <- NULL\n",
    "table_test5$Top2 <- NULL\n",
    "\n",
    "table_trainval5$Top10 <- NULL\n",
    "table_trainval5$Top4 <- NULL\n",
    "table_trainval5$Top3 <- NULL\n",
    "table_trainval5$Top2 <- NULL"
   ]
  },
  {
   "cell_type": "code",
   "execution_count": 72,
   "id": "8f40418b",
   "metadata": {},
   "outputs": [],
   "source": [
    "#new train en val set\n",
    "y_train <- table_train5$Top5\n",
    "train <- table_train5\n",
    "train$Top5<- NULL\n",
    "\n",
    "y_val <- table_val5$Top5\n",
    "val <- table_val5\n",
    "val$Top5 <-NULL\n",
    "\n",
    "y_test <- table_test5$Top5\n",
    "test <- table_test\n",
    "table_test5$Top5 <- NULL\n",
    "\n",
    "#Combining test and validationset together\n",
    "y_trainval <- table_trainval5$Top5\n",
    "trainval <- table_trainval5\n",
    "trainval$Top5<- NULL"
   ]
  },
  {
   "cell_type": "code",
   "execution_count": 73,
   "id": "e5f6f014",
   "metadata": {},
   "outputs": [],
   "source": [
    "train_fs <- train[varsel_boruta_xgb]\n",
    "val_fs <- val[varsel_boruta_xgb]\n",
    "test_fs <- test[varsel_boruta_xgb]\n",
    "trainval_fs = trainval[varsel_boruta_xgb]"
   ]
  },
  {
   "cell_type": "code",
   "execution_count": 74,
   "id": "2ab12593",
   "metadata": {},
   "outputs": [],
   "source": [
    "#preparing matrices\n",
    "#convert all data to numeric format\n",
    "trainxgb <- train_fs %>% mutate_if(is.factor, as.character)  %>% mutate_if(is.character, as.numeric)\n",
    "testxgb <- test_fs %>% mutate_if(is.factor, as.character)  %>% mutate_if(is.character, as.numeric)\n",
    "valxgb <- val_fs %>% mutate_if(is.factor, as.character)  %>% mutate_if(is.character, as.numeric)\n",
    "trainvalxgb = trainval_fs %>% mutate_if(is.factor, as.character)  %>% mutate_if(is.character, as.numeric)"
   ]
  },
  {
   "cell_type": "code",
   "execution_count": 75,
   "id": "bce33108",
   "metadata": {},
   "outputs": [],
   "source": [
    "dtrain <- xgb.DMatrix(data = as.matrix(trainxgb), label = as.numeric(as.character(y_train))) \n",
    "dval <- xgb.DMatrix(data = as.matrix(valxgb), label = as.numeric(as.character(y_val))) \n",
    "dtest <- xgb.DMatrix(data = as.matrix(testxgb))\n",
    "dtrainval = xgb.DMatrix(data = as.matrix(trainvalxgb), label = as.numeric(as.character(y_trainval))) "
   ]
  },
  {
   "cell_type": "code",
   "execution_count": 142,
   "id": "82824325",
   "metadata": {},
   "outputs": [],
   "source": [
    "set.seed(123)\n",
    "##Optimize nrounds BEST\n",
    "\n",
    "xgbMountain <- xgb.train(\n",
    "    data          = dtrainval, \n",
    "    nrounds       = 15, \n",
    "    objective     = \"binary:logistic\",\n",
    "    eta           = 0.1,\n",
    "    verbose       = 2, \n",
    "    eval_metric   = 'auc'\n",
    ")"
   ]
  },
  {
   "cell_type": "code",
   "execution_count": 143,
   "id": "d9414fab",
   "metadata": {},
   "outputs": [
    {
     "data": {
      "text/plain": [
       "          Reference\n",
       "Prediction  0  1\n",
       "         0 27 26\n",
       "         1 20 43"
      ]
     },
     "metadata": {},
     "output_type": "display_data"
    },
    {
     "data": {
      "text/html": [
       "<span style=white-space:pre-wrap>'AUC:  0.661116250385446'</span>"
      ],
      "text/latex": [
       "'AUC:  0.661116250385446'"
      ],
      "text/markdown": [
       "<span style=white-space:pre-wrap>'AUC:  0.661116250385446'</span>"
      ],
      "text/plain": [
       "[1] \"AUC:  0.661116250385446\""
      ]
     },
     "metadata": {},
     "output_type": "display_data"
    },
    {
     "data": {
      "text/html": [
       "<span style=white-space:pre-wrap>'Accuracy:  0.603448275862069'</span>"
      ],
      "text/latex": [
       "'Accuracy:  0.603448275862069'"
      ],
      "text/markdown": [
       "<span style=white-space:pre-wrap>'Accuracy:  0.603448275862069'</span>"
      ],
      "text/plain": [
       "[1] \"Accuracy:  0.603448275862069\""
      ]
     },
     "metadata": {},
     "output_type": "display_data"
    },
    {
     "data": {
      "text/html": [
       "<span style=white-space:pre-wrap>'Recall:  0.623188405797101'</span>"
      ],
      "text/latex": [
       "'Recall:  0.623188405797101'"
      ],
      "text/markdown": [
       "<span style=white-space:pre-wrap>'Recall:  0.623188405797101'</span>"
      ],
      "text/plain": [
       "[1] \"Recall:  0.623188405797101\""
      ]
     },
     "metadata": {},
     "output_type": "display_data"
    },
    {
     "data": {
      "text/html": [
       "<span style=white-space:pre-wrap>'Precision:  0.682539682539683'</span>"
      ],
      "text/latex": [
       "'Precision:  0.682539682539683'"
      ],
      "text/markdown": [
       "<span style=white-space:pre-wrap>'Precision:  0.682539682539683'</span>"
      ],
      "text/plain": [
       "[1] \"Precision:  0.682539682539683\""
      ]
     },
     "metadata": {},
     "output_type": "display_data"
    }
   ],
   "source": [
    "#Although a lower AUC the recall and precision i significantly better than both ranger and random forest\n",
    "set.seed(123)\n",
    "predxgb <- predict(xgbMountain,dtest)\n",
    "auc <-AUC::auc(roc(predxgb,y_test))\n",
    "res <-ifelse(predxgb>=0.5,1,0)\n",
    "true_outcome <- y_test\n",
    "\n",
    "\n",
    "confusionMatrix(as.factor(res), as.factor(true_outcome))[[2]]\n",
    "TN =(confusionMatrix(as.factor(res), as.factor(true_outcome)))[[2]][1,1]\n",
    "TP = (confusionMatrix(as.factor(res), as.factor(true_outcome)))[[2]][2,2]\n",
    "FN = (confusionMatrix(as.factor(res), as.factor(true_outcome)))[[2]][1,2]\n",
    "FP = (confusionMatrix(as.factor(res), as.factor(true_outcome)))[[2]][2,1]\n",
    "\n",
    "accuracy = (TP+TN)/(TP+FP+TN+FN)\n",
    "recall = TP/(TP+FN)\n",
    "precision = TP/(TP+FP)\n",
    "\n",
    "paste(\"AUC: \", auc)\n",
    "paste(\"Accuracy: \", accuracy)\n",
    "paste(\"Recall: \", recall)\n",
    "paste(\"Precision: \", precision)"
   ]
  },
  {
   "cell_type": "markdown",
   "id": "d34917dc",
   "metadata": {},
   "source": [
    "## Hilly"
   ]
  },
  {
   "cell_type": "code",
   "execution_count": 78,
   "id": "f1151c80",
   "metadata": {},
   "outputs": [
    {
     "data": {
      "text/html": [
       "<table>\n",
       "<thead><tr><th scope=col>Pos</th><th scope=col>Rider</th><th scope=col>Team</th><th scope=col>Time</th><th scope=col>Rider_ID</th><th scope=col>Rider_Country</th><th scope=col>Team_ID</th><th scope=col>Year</th><th scope=col>Stage</th><th scope=col>UCI</th><th scope=col>...</th><th scope=col>limit_i_plain</th><th scope=col>limit_i_prologue</th><th scope=col>limit_i_recuperation</th><th scope=col>limit_i_resistance</th><th scope=col>limit_i_sprint</th><th scope=col>limit_i_timetrial</th><th scope=col>prerace_i_cyclist</th><th scope=col>race_b_withdrawal</th><th scope=col>value_i_potentiel</th><th scope=col>value_i_rank_voted</th></tr></thead>\n",
       "<tbody>\n",
       "\t<tr><td>194                 </td><td>yamamoto genki      </td><td>Nippo - Vini Fantini</td><td>#VERW!              </td><td>10662               </td><td>JPN                 </td><td>6439                </td><td>2016                </td><td> 4                  </td><td>NA                  </td><td>...                 </td><td>0                   </td><td>0                   </td><td>0                   </td><td>0                   </td><td>0                   </td><td>0                   </td><td>0                   </td><td>0                   </td><td>3                   </td><td>0                   </td></tr>\n",
       "\t<tr><td>171                 </td><td>yamamoto genki      </td><td>Nippo - Vini Fantini</td><td>#VERW!              </td><td>10662               </td><td>JPN                 </td><td>6439                </td><td>2016                </td><td> 6                  </td><td>NA                  </td><td>...                 </td><td>0                   </td><td>0                   </td><td>0                   </td><td>0                   </td><td>0                   </td><td>0                   </td><td>0                   </td><td>0                   </td><td>3                   </td><td>0                   </td></tr>\n",
       "\t<tr><td>186                 </td><td>yamamoto genki      </td><td>Nippo - Vini Fantini</td><td>#VERW!              </td><td>10662               </td><td>JPN                 </td><td>6439                </td><td>2016                </td><td> 8                  </td><td>NA                  </td><td>...                 </td><td>0                   </td><td>0                   </td><td>0                   </td><td>0                   </td><td>0                   </td><td>0                   </td><td>0                   </td><td>0                   </td><td>3                   </td><td>0                   </td></tr>\n",
       "\t<tr><td>117                 </td><td>yamamoto genki      </td><td>Nippo - Vini Fantini</td><td>#VERW!              </td><td>10662               </td><td>JPN                 </td><td>6439                </td><td>2016                </td><td>10                  </td><td>NA                  </td><td>...                 </td><td>0                   </td><td>0                   </td><td>0                   </td><td>0                   </td><td>0                   </td><td>0                   </td><td>0                   </td><td>0                   </td><td>3                   </td><td>0                   </td></tr>\n",
       "\t<tr><td>151                 </td><td>yamamoto genki      </td><td>Nippo - Vini Fantini</td><td>#VERW!              </td><td>10662               </td><td>JPN                 </td><td>6439                </td><td>2016                </td><td>11                  </td><td>NA                  </td><td>...                 </td><td>0                   </td><td>0                   </td><td>0                   </td><td>0                   </td><td>0                   </td><td>0                   </td><td>0                   </td><td>0                   </td><td>3                   </td><td>0                   </td></tr>\n",
       "\t<tr><td>129                 </td><td>yamamoto genki      </td><td>Nippo - Vini Fantini</td><td>#VERW!              </td><td>10662               </td><td>JPN                 </td><td>6439                </td><td>2016                </td><td>13                  </td><td>NA                  </td><td>...                 </td><td>0                   </td><td>0                   </td><td>0                   </td><td>0                   </td><td>0                   </td><td>0                   </td><td>0                   </td><td>0                   </td><td>3                   </td><td>0                   </td></tr>\n",
       "</tbody>\n",
       "</table>\n"
      ],
      "text/latex": [
       "\\begin{tabular}{r|llllllllllllllllllllllllllllllllllllllllllllllllllllllllllllllllllllllll}\n",
       " Pos & Rider & Team & Time & Rider\\_ID & Rider\\_Country & Team\\_ID & Year & Stage & UCI & ... & limit\\_i\\_plain & limit\\_i\\_prologue & limit\\_i\\_recuperation & limit\\_i\\_resistance & limit\\_i\\_sprint & limit\\_i\\_timetrial & prerace\\_i\\_cyclist & race\\_b\\_withdrawal & value\\_i\\_potentiel & value\\_i\\_rank\\_voted\\\\\n",
       "\\hline\n",
       "\t 194                  & yamamoto genki       & Nippo - Vini Fantini & \\#VERW!             & 10662                & JPN                  & 6439                 & 2016                 &  4                   & NA                   & ...                  & 0                    & 0                    & 0                    & 0                    & 0                    & 0                    & 0                    & 0                    & 3                    & 0                   \\\\\n",
       "\t 171                  & yamamoto genki       & Nippo - Vini Fantini & \\#VERW!             & 10662                & JPN                  & 6439                 & 2016                 &  6                   & NA                   & ...                  & 0                    & 0                    & 0                    & 0                    & 0                    & 0                    & 0                    & 0                    & 3                    & 0                   \\\\\n",
       "\t 186                  & yamamoto genki       & Nippo - Vini Fantini & \\#VERW!             & 10662                & JPN                  & 6439                 & 2016                 &  8                   & NA                   & ...                  & 0                    & 0                    & 0                    & 0                    & 0                    & 0                    & 0                    & 0                    & 3                    & 0                   \\\\\n",
       "\t 117                  & yamamoto genki       & Nippo - Vini Fantini & \\#VERW!             & 10662                & JPN                  & 6439                 & 2016                 & 10                   & NA                   & ...                  & 0                    & 0                    & 0                    & 0                    & 0                    & 0                    & 0                    & 0                    & 3                    & 0                   \\\\\n",
       "\t 151                  & yamamoto genki       & Nippo - Vini Fantini & \\#VERW!             & 10662                & JPN                  & 6439                 & 2016                 & 11                   & NA                   & ...                  & 0                    & 0                    & 0                    & 0                    & 0                    & 0                    & 0                    & 0                    & 3                    & 0                   \\\\\n",
       "\t 129                  & yamamoto genki       & Nippo - Vini Fantini & \\#VERW!             & 10662                & JPN                  & 6439                 & 2016                 & 13                   & NA                   & ...                  & 0                    & 0                    & 0                    & 0                    & 0                    & 0                    & 0                    & 0                    & 3                    & 0                   \\\\\n",
       "\\end{tabular}\n"
      ],
      "text/markdown": [
       "\n",
       "| Pos | Rider | Team | Time | Rider_ID | Rider_Country | Team_ID | Year | Stage | UCI | ... | limit_i_plain | limit_i_prologue | limit_i_recuperation | limit_i_resistance | limit_i_sprint | limit_i_timetrial | prerace_i_cyclist | race_b_withdrawal | value_i_potentiel | value_i_rank_voted |\n",
       "|---|---|---|---|---|---|---|---|---|---|---|---|---|---|---|---|---|---|---|---|---|\n",
       "| 194                  | yamamoto genki       | Nippo - Vini Fantini | #VERW!               | 10662                | JPN                  | 6439                 | 2016                 |  4                   | NA                   | ...                  | 0                    | 0                    | 0                    | 0                    | 0                    | 0                    | 0                    | 0                    | 3                    | 0                    |\n",
       "| 171                  | yamamoto genki       | Nippo - Vini Fantini | #VERW!               | 10662                | JPN                  | 6439                 | 2016                 |  6                   | NA                   | ...                  | 0                    | 0                    | 0                    | 0                    | 0                    | 0                    | 0                    | 0                    | 3                    | 0                    |\n",
       "| 186                  | yamamoto genki       | Nippo - Vini Fantini | #VERW!               | 10662                | JPN                  | 6439                 | 2016                 |  8                   | NA                   | ...                  | 0                    | 0                    | 0                    | 0                    | 0                    | 0                    | 0                    | 0                    | 3                    | 0                    |\n",
       "| 117                  | yamamoto genki       | Nippo - Vini Fantini | #VERW!               | 10662                | JPN                  | 6439                 | 2016                 | 10                   | NA                   | ...                  | 0                    | 0                    | 0                    | 0                    | 0                    | 0                    | 0                    | 0                    | 3                    | 0                    |\n",
       "| 151                  | yamamoto genki       | Nippo - Vini Fantini | #VERW!               | 10662                | JPN                  | 6439                 | 2016                 | 11                   | NA                   | ...                  | 0                    | 0                    | 0                    | 0                    | 0                    | 0                    | 0                    | 0                    | 3                    | 0                    |\n",
       "| 129                  | yamamoto genki       | Nippo - Vini Fantini | #VERW!               | 10662                | JPN                  | 6439                 | 2016                 | 13                   | NA                   | ...                  | 0                    | 0                    | 0                    | 0                    | 0                    | 0                    | 0                    | 0                    | 3                    | 0                    |\n",
       "\n"
      ],
      "text/plain": [
       "  Pos Rider          Team                 Time   Rider_ID Rider_Country Team_ID\n",
       "1 194 yamamoto genki Nippo - Vini Fantini #VERW! 10662    JPN           6439   \n",
       "2 171 yamamoto genki Nippo - Vini Fantini #VERW! 10662    JPN           6439   \n",
       "3 186 yamamoto genki Nippo - Vini Fantini #VERW! 10662    JPN           6439   \n",
       "4 117 yamamoto genki Nippo - Vini Fantini #VERW! 10662    JPN           6439   \n",
       "5 151 yamamoto genki Nippo - Vini Fantini #VERW! 10662    JPN           6439   \n",
       "6 129 yamamoto genki Nippo - Vini Fantini #VERW! 10662    JPN           6439   \n",
       "  Year Stage UCI ... limit_i_plain limit_i_prologue limit_i_recuperation\n",
       "1 2016  4    NA  ... 0             0                0                   \n",
       "2 2016  6    NA  ... 0             0                0                   \n",
       "3 2016  8    NA  ... 0             0                0                   \n",
       "4 2016 10    NA  ... 0             0                0                   \n",
       "5 2016 11    NA  ... 0             0                0                   \n",
       "6 2016 13    NA  ... 0             0                0                   \n",
       "  limit_i_resistance limit_i_sprint limit_i_timetrial prerace_i_cyclist\n",
       "1 0                  0              0                 0                \n",
       "2 0                  0              0                 0                \n",
       "3 0                  0              0                 0                \n",
       "4 0                  0              0                 0                \n",
       "5 0                  0              0                 0                \n",
       "6 0                  0              0                 0                \n",
       "  race_b_withdrawal value_i_potentiel value_i_rank_voted\n",
       "1 0                 3                 0                 \n",
       "2 0                 3                 0                 \n",
       "3 0                 3                 0                 \n",
       "4 0                 3                 0                 \n",
       "5 0                 3                 0                 \n",
       "6 0                 3                 0                 "
      ]
     },
     "metadata": {},
     "output_type": "display_data"
    }
   ],
   "source": [
    "table = (read.csv(\"Data//Hilly_races_final.csv\", sep = \";\"))\n",
    "head(table)\n",
    "\n",
    "table_train = table[table$Year<=2017,]\n",
    "\n",
    "table_val = table[(table$Year>2017)&(table$Year<=2019) ,]\n",
    "\n",
    "table_trainandval = table[table$Year<=2019,]\n",
    "\n",
    "table_test = table[table$Year>2019,]"
   ]
  },
  {
   "cell_type": "code",
   "execution_count": 79,
   "id": "2ec564a3",
   "metadata": {},
   "outputs": [
    {
     "name": "stderr",
     "output_type": "stream",
     "text": [
      "`summarise()` has grouped output by 'Race', 'Year'. You can override using the `.groups` argument.\n",
      "`summarise()` has grouped output by 'Race', 'Year'. You can override using the `.groups` argument.\n",
      "`summarise()` has grouped output by 'Race', 'Year'. You can override using the `.groups` argument.\n",
      "`summarise()` has grouped output by 'Race', 'Year'. You can override using the `.groups` argument.\n"
     ]
    }
   ],
   "source": [
    "basetable_train = table_train %>% group_by(Race, Year,Team) %>% summarise(flat_mean = round(mean(FLAT))\n",
    "                                             , mountain_mean = round(mean(MOUNTAIN))\n",
    "                                            , downhill_mean = round(mean(DOWNHILL))\n",
    "                                            ,cobbles_mean = round(mean(COBBLES))\n",
    "                                            ,tt_mean = round(mean(TT)),\n",
    "                                            ,prologue_mean = round(mean(PROLOGUE))\n",
    "                                            ,sprint_mean = round(mean(SPRINT))\n",
    "                                            ,acceleration_mean = round(mean(ACCELERATION))\n",
    "                                            ,endurance_mean = round(mean(ENDURANCE))\n",
    "                                            ,resistance_mean = round(mean(RESISTANCE))\n",
    "                                            ,recup_mean = round(mean(RECUP))\n",
    "                                            ,hill_mean = round(mean(HILL))\n",
    "                                            ,attack_mean = round(mean(ATTACK))\n",
    "                                            \n",
    "                                            ,flat_max = round(max(FLAT))\n",
    "                                            ,mountain_max = round(max(MOUNTAIN))\n",
    "                                            ,downhill_max = round(max(DOWNHILL))\n",
    "                                            ,cobbles_max = round(max(COBBLES))\n",
    "                                            ,tt_max = round(max(TT)),\n",
    "                                            ,prologue_max = round(max(PROLOGUE))\n",
    "                                            ,sprint_max = round(max(SPRINT))\n",
    "                                            ,acceleration_max = round(max(ACCELERATION))\n",
    "                                            ,endurance_max = round(max(ENDURANCE))\n",
    "                                            ,resistance_max = round(max(RESISTANCE))\n",
    "                                            ,recup_max = round(max(RECUP))\n",
    "                                            ,hill_max = round(max(HILL))\n",
    "                                            ,attack_max = round(max(ATTACK))\n",
    "                                            \n",
    "                                            ,flat_min = round(min(FLAT))\n",
    "                                            ,mountain_min = round(min(MOUNTAIN))\n",
    "                                            ,downhill_min = round(min(DOWNHILL))\n",
    "                                            ,cobbles_min = round(min(COBBLES))\n",
    "                                            ,tt_min = round(min(TT)),\n",
    "                                            ,prologue_min = round(min(PROLOGUE))\n",
    "                                            ,sprint_min = round(min(SPRINT))\n",
    "                                            ,acceleration_min = round(min(ACCELERATION))\n",
    "                                            ,endurance_min = round(min(ENDURANCE))\n",
    "                                            ,resistance_min = round(min(RESISTANCE))\n",
    "                                            ,recup_min = round(min(RECUP))\n",
    "                                            ,hill_min = round(min(HILL))\n",
    "                                            ,attack_min = round(min(ATTACK))\n",
    "                                                                      \n",
    "                                                                          \n",
    "                                            ,best_position = min(Pos))\n",
    "\n",
    "basetable_val = table_val %>% group_by(Race, Year,Team) %>% summarise(flat_mean = round(mean(FLAT))\n",
    "                                             , mountain_mean = round(mean(MOUNTAIN))\n",
    "                                            , downhill_mean = round(mean(DOWNHILL))\n",
    "                                            ,cobbles_mean = round(mean(COBBLES))\n",
    "                                            ,tt_mean = round(mean(TT)),\n",
    "                                            ,prologue_mean = round(mean(PROLOGUE))\n",
    "                                            ,sprint_mean = round(mean(SPRINT))\n",
    "                                            ,acceleration_mean = round(mean(ACCELERATION))\n",
    "                                            ,endurance_mean = round(mean(ENDURANCE))\n",
    "                                            ,resistance_mean = round(mean(RESISTANCE))\n",
    "                                            ,recup_mean = round(mean(RECUP))\n",
    "                                            ,hill_mean = round(mean(HILL))\n",
    "                                            ,attack_mean = round(mean(ATTACK))\n",
    "                                            \n",
    "                                            ,flat_max = round(max(FLAT))\n",
    "                                            ,mountain_max = round(max(MOUNTAIN))\n",
    "                                            ,downhill_max = round(max(DOWNHILL))\n",
    "                                            ,cobbles_max = round(max(COBBLES))\n",
    "                                            ,tt_max = round(max(TT)),\n",
    "                                            ,prologue_max = round(max(PROLOGUE))\n",
    "                                            ,sprint_max = round(max(SPRINT))\n",
    "                                            ,acceleration_max = round(max(ACCELERATION))\n",
    "                                            ,endurance_max = round(max(ENDURANCE))\n",
    "                                            ,resistance_max = round(max(RESISTANCE))\n",
    "                                            ,recup_max = round(max(RECUP))\n",
    "                                            ,hill_max = round(max(HILL))\n",
    "                                            ,attack_max = round(max(ATTACK))\n",
    "                                            \n",
    "                                            ,flat_min = round(min(FLAT))\n",
    "                                            ,mountain_min = round(min(MOUNTAIN))\n",
    "                                            ,downhill_min = round(min(DOWNHILL))\n",
    "                                            ,cobbles_min = round(min(COBBLES))\n",
    "                                            ,tt_min = round(min(TT)),\n",
    "                                            ,prologue_min = round(min(PROLOGUE))\n",
    "                                            ,sprint_min = round(min(SPRINT))\n",
    "                                            ,acceleration_min = round(min(ACCELERATION))\n",
    "                                            ,endurance_min = round(min(ENDURANCE))\n",
    "                                            ,resistance_min = round(min(RESISTANCE))\n",
    "                                            ,recup_min = round(min(RECUP))\n",
    "                                            ,hill_min = round(min(HILL))\n",
    "                                            ,attack_min = round(min(ATTACK))\n",
    "                                          \n",
    "                                    \n",
    "                                            ,best_position = min(Pos))\n",
    "\n",
    "basetable_test = table_test %>% group_by(Race, Year,Team) %>% summarise(flat_mean = round(mean(FLAT))\n",
    "                                             , mountain_mean = round(mean(MOUNTAIN))\n",
    "                                            , downhill_mean = round(mean(DOWNHILL))\n",
    "                                            ,cobbles_mean = round(mean(COBBLES))\n",
    "                                            ,tt_mean = round(mean(TT)),\n",
    "                                            ,prologue_mean = round(mean(PROLOGUE))\n",
    "                                            ,sprint_mean = round(mean(SPRINT))\n",
    "                                            ,acceleration_mean = round(mean(ACCELERATION))\n",
    "                                            ,endurance_mean = round(mean(ENDURANCE))\n",
    "                                            ,resistance_mean = round(mean(RESISTANCE))\n",
    "                                            ,recup_mean = round(mean(RECUP))\n",
    "                                            ,hill_mean = round(mean(HILL))\n",
    "                                            ,attack_mean = round(mean(ATTACK))\n",
    "                                            \n",
    "                                            ,flat_max = round(max(FLAT))\n",
    "                                            ,mountain_max = round(max(MOUNTAIN))\n",
    "                                            ,downhill_max = round(max(DOWNHILL))\n",
    "                                            ,cobbles_max = round(max(COBBLES))\n",
    "                                            ,tt_max = round(max(TT)),\n",
    "                                            ,prologue_max = round(max(PROLOGUE))\n",
    "                                            ,sprint_max = round(max(SPRINT))\n",
    "                                            ,acceleration_max = round(max(ACCELERATION))\n",
    "                                            ,endurance_max = round(max(ENDURANCE))\n",
    "                                            ,resistance_max = round(max(RESISTANCE))\n",
    "                                            ,recup_max = round(max(RECUP))\n",
    "                                            ,hill_max = round(max(HILL))\n",
    "                                            ,attack_max = round(max(ATTACK))\n",
    "                                            \n",
    "                                            ,flat_min = round(min(FLAT))\n",
    "                                            ,mountain_min = round(min(MOUNTAIN))\n",
    "                                            ,downhill_min = round(min(DOWNHILL))\n",
    "                                            ,cobbles_min = round(min(COBBLES))\n",
    "                                            ,tt_min = round(min(TT)),\n",
    "                                            ,prologue_min = round(min(PROLOGUE))\n",
    "                                            ,sprint_min = round(min(SPRINT))\n",
    "                                            ,acceleration_min = round(min(ACCELERATION))\n",
    "                                            ,endurance_min = round(min(ENDURANCE))\n",
    "                                            ,resistance_min = round(min(RESISTANCE))\n",
    "                                            ,recup_min = round(min(RECUP))\n",
    "                                            ,hill_min = round(min(HILL))\n",
    "                                            ,attack_min = round(min(ATTACK))\n",
    "                              \n",
    "                                    \n",
    "                                            ,best_position = min(Pos))\n",
    "\n",
    "basetable = table_trainandval %>% group_by(Race, Year,Team) %>% summarise(flat_mean = round(mean(FLAT))\n",
    "                                             , mountain_mean = round(mean(MOUNTAIN))\n",
    "                                            , downhill_mean = round(mean(DOWNHILL))\n",
    "                                            ,cobbles_mean = round(mean(COBBLES))\n",
    "                                            ,tt_mean = round(mean(TT)),\n",
    "                                            ,prologue_mean = round(mean(PROLOGUE))\n",
    "                                            ,sprint_mean = round(mean(SPRINT))\n",
    "                                            ,acceleration_mean = round(mean(ACCELERATION))\n",
    "                                            ,endurance_mean = round(mean(ENDURANCE))\n",
    "                                            ,resistance_mean = round(mean(RESISTANCE))\n",
    "                                            ,recup_mean = round(mean(RECUP))\n",
    "                                            ,hill_mean = round(mean(HILL))\n",
    "                                            ,attack_mean = round(mean(ATTACK))\n",
    "                                            \n",
    "                                            ,flat_max = round(max(FLAT))\n",
    "                                            ,mountain_max = round(max(MOUNTAIN))\n",
    "                                            ,downhill_max = round(max(DOWNHILL))\n",
    "                                            ,cobbles_max = round(max(COBBLES))\n",
    "                                            ,tt_max = round(max(TT)),\n",
    "                                            ,prologue_max = round(max(PROLOGUE))\n",
    "                                            ,sprint_max = round(max(SPRINT))\n",
    "                                            ,acceleration_max = round(max(ACCELERATION))\n",
    "                                            ,endurance_max = round(max(ENDURANCE))\n",
    "                                            ,resistance_max = round(max(RESISTANCE))\n",
    "                                            ,recup_max = round(max(RECUP))\n",
    "                                            ,hill_max = round(max(HILL))\n",
    "                                            ,attack_max = round(max(ATTACK))\n",
    "                                            \n",
    "                                            ,flat_min = round(min(FLAT))\n",
    "                                            ,mountain_min = round(min(MOUNTAIN))\n",
    "                                            ,downhill_min = round(min(DOWNHILL))\n",
    "                                            ,cobbles_min = round(min(COBBLES))\n",
    "                                            ,tt_min = round(min(TT)),\n",
    "                                            ,prologue_min = round(min(PROLOGUE))\n",
    "                                            ,sprint_min = round(min(SPRINT))\n",
    "                                            ,acceleration_min = round(min(ACCELERATION))\n",
    "                                            ,endurance_min = round(min(ENDURANCE))\n",
    "                                            ,resistance_min = round(min(RESISTANCE))\n",
    "                                            ,recup_min = round(min(RECUP))\n",
    "                                            ,hill_min = round(min(HILL))\n",
    "                                            ,attack_min = round(min(ATTACK))   \n",
    "                                    \n",
    "                                            ,best_position = min(Pos))"
   ]
  },
  {
   "cell_type": "code",
   "execution_count": 80,
   "id": "6f26b20c",
   "metadata": {
    "scrolled": false
   },
   "outputs": [
    {
     "data": {
      "text/plain": [
       "\n",
       "  0   1 \n",
       "158 126 "
      ]
     },
     "metadata": {},
     "output_type": "display_data"
    },
    {
     "data": {
      "text/plain": [
       "\n",
       " 0  1 \n",
       "84 50 "
      ]
     },
     "metadata": {},
     "output_type": "display_data"
    },
    {
     "data": {
      "text/plain": [
       "\n",
       " 0  1 \n",
       "73 45 "
      ]
     },
     "metadata": {},
     "output_type": "display_data"
    },
    {
     "data": {
      "text/plain": [
       "\n",
       "  0   1 \n",
       "242 176 "
      ]
     },
     "metadata": {},
     "output_type": "display_data"
    }
   ],
   "source": [
    "basetable_train = (basetable_train)%>% drop_na()\n",
    "basetable_val = (basetable_val)%>% drop_na()\n",
    "basetable_test = (basetable_test)%>% drop_na()\n",
    "basetable = (basetable)%>% drop_na()\n",
    "test_set_hilly_prescriptive = basetable_test\n",
    "#Training set\n",
    "basetable_train$Top10 = as.factor(ifelse(basetable_train$best_position <=10, 1,0))\n",
    "basetable_train$Top5 = as.factor(ifelse(basetable_train$best_position <=5, 1,0))\n",
    "basetable_train$Top4 = as.factor(ifelse(basetable_train$best_position <=4, 1,0))\n",
    "basetable_train$Top3 = as.factor(ifelse(basetable_train$best_position <=3, 1,0))\n",
    "basetable_train$Top2 = as.factor(ifelse(basetable_train$best_position <=2, 1,0))\n",
    "\n",
    "table(basetable_train$Top3)\n",
    "\n",
    "basetable_train$minutes_from_top = NULL\n",
    "basetable_train$best_position = NULL\n",
    "basetable_train$Team = NULL\n",
    "basetable_train$Year = NULL\n",
    "basetable_train$Stage = NULL\n",
    "basetable_train$Team_ID = NULL\n",
    "basetable_train$Race= NULL\n",
    "\n",
    "#Validation set\n",
    "basetable_val$Top10 = as.factor(ifelse(basetable_val$best_position <=10, 1,0))\n",
    "basetable_val$Top5 = as.factor(ifelse(basetable_val$best_position <=5, 1,0))\n",
    "basetable_val$Top4 = as.factor(ifelse(basetable_val$best_position <=4, 1,0))\n",
    "basetable_val$Top3 = as.factor(ifelse(basetable_val$best_position <=3, 1,0))\n",
    "basetable_val$Top2 = as.factor(ifelse(basetable_val$best_position <=2, 1,0))\n",
    "\n",
    "table(basetable_val$Top3)\n",
    "\n",
    "\n",
    "basetable_val$minutes_from_top = NULL\n",
    "basetable_val$best_position = NULL\n",
    "basetable_val$Team = NULL\n",
    "basetable_val$Year = NULL\n",
    "basetable_val$Stage = NULL\n",
    "basetable_val$Team_ID = NULL\n",
    "basetable_val$Race= NULL\n",
    "\n",
    "#Test set\n",
    "basetable_test$Top10 = as.factor(ifelse(basetable_test$best_position <=10, 1,0))\n",
    "basetable_test$Top5 = as.factor(ifelse(basetable_test$best_position <=5, 1,0))\n",
    "basetable_test$Top4 = as.factor(ifelse(basetable_test$best_position <=4, 1,0))\n",
    "basetable_test$Top3 = as.factor(ifelse(basetable_test$best_position <=3, 1,0))\n",
    "basetable_test$Top2 = as.factor(ifelse(basetable_test$best_position <=2, 1,0))\n",
    "\n",
    "table(basetable_test$Top3)\n",
    "\n",
    "basetable_test$minutes_from_top = NULL\n",
    "basetable_test$best_position = NULL\n",
    "basetable_test$Team = NULL\n",
    "basetable_test$Year = NULL\n",
    "basetable_test$Stage = NULL\n",
    "basetable_test$Team_ID = NULL\n",
    "basetable_test$Race= NULL\n",
    "\n",
    "basetable$Top10 = as.factor(ifelse(basetable$best_position <=10, 1,0))\n",
    "basetable$Top5 = as.factor(ifelse(basetable$best_position <=5, 1,0))\n",
    "basetable$Top4 = as.factor(ifelse(basetable$best_position <=4, 1,0))\n",
    "basetable$Top3 = as.factor(ifelse(basetable$best_position <=3, 1,0))\n",
    "basetable$Top2 = as.factor(ifelse(basetable$best_position <=2, 1,0))\n",
    "\n",
    "table(basetable$Top3)\n",
    "\n",
    "basetable$minutes_from_top = NULL\n",
    "basetable$best_position = NULL\n",
    "basetable$Team = NULL\n",
    "basetable$Year = NULL\n",
    "basetable$Stage = NULL\n",
    "basetable$Team_ID = NULL\n",
    "basetable$Race= NULL\n",
    "\n",
    "table_train <- basetable_train\n",
    "table_test<- basetable_test\n",
    "table_val <- basetable_val\n",
    "table_trainval = basetable"
   ]
  },
  {
   "cell_type": "code",
   "execution_count": 163,
   "id": "5baefa91",
   "metadata": {},
   "outputs": [],
   "source": [
    "varsel_boruta_ranger = c('downhill_max', 'tt_max', 'acceleration_max', 'endurance_max', 'attack_max', 'sprint_min')"
   ]
  },
  {
   "cell_type": "markdown",
   "id": "d54cec05",
   "metadata": {},
   "source": [
    "### Ranger"
   ]
  },
  {
   "cell_type": "code",
   "execution_count": 82,
   "id": "8ce212e9",
   "metadata": {},
   "outputs": [],
   "source": [
    "set.seed(123)\n",
    "train <- basetable\n",
    "yTRAIN <- train$Top5\n",
    "train$Top10 = NULL\n",
    "train$Top5 = NULL\n",
    "train$Top4 = NULL\n",
    "train$Top3 = NULL\n",
    "train$Top2 = NULL\n",
    "\n",
    "test <- basetable_test\n",
    "yTEST <- test$Top5\n",
    "test$Top10 = NULL\n",
    "test$Top5 = NULL\n",
    "test$Top4 = NULL\n",
    "test$Top3 = NULL\n",
    "test$Top2 = NULL"
   ]
  },
  {
   "cell_type": "code",
   "execution_count": 83,
   "id": "129ea9e8",
   "metadata": {},
   "outputs": [],
   "source": [
    "#Boruto performs better\n",
    "train = train[varsel_boruta_ranger]\n",
    "test = test[varsel_boruta_ranger]"
   ]
  },
  {
   "cell_type": "code",
   "execution_count": 84,
   "id": "d3744edf",
   "metadata": {},
   "outputs": [
    {
     "data": {
      "text/html": [
       "0.634182031021364"
      ],
      "text/latex": [
       "0.634182031021364"
      ],
      "text/markdown": [
       "0.634182031021364"
      ],
      "text/plain": [
       "[1] 0.634182"
      ]
     },
     "metadata": {},
     "output_type": "display_data"
    }
   ],
   "source": [
    "#No tuning\n",
    "hillyModel <- ranger(x=train, y = yTRAIN, num.trees = 1000, mtry = 1, min.node.size = 3, sample.fraction = 0.750, probability = TRUE, seed = 123)\n",
    "predictions =  predict(hillyModel,test)$predictions[,2]\n",
    "auc = AUC::auc(roc(predictions,factor(yTEST)))\n",
    "AUC::auc(roc(predictions,factor(yTEST)))"
   ]
  },
  {
   "cell_type": "markdown",
   "id": "d5e05dcb",
   "metadata": {},
   "source": [
    "# Prescriptive model Yellow Jersey"
   ]
  },
  {
   "cell_type": "code",
   "execution_count": 100,
   "id": "ddbb6010",
   "metadata": {},
   "outputs": [],
   "source": [
    "team_table = read.csv(\"Data//RiderData.csv\", sep=\";\")"
   ]
  },
  {
   "cell_type": "code",
   "execution_count": 213,
   "id": "5fbba66d",
   "metadata": {},
   "outputs": [],
   "source": [
    "team_name = \"INEOS Grenadiers\""
   ]
  },
  {
   "cell_type": "code",
   "execution_count": 214,
   "id": "3b2e65d7",
   "metadata": {},
   "outputs": [],
   "source": [
    "team = team_table[((team_table$Team) == team_name)&((team_table$Year) == 2021),]\n",
    "team = team[order(team$OVERALL, decreasing = TRUE),]"
   ]
  },
  {
   "cell_type": "code",
   "execution_count": 215,
   "id": "a4ea6320",
   "metadata": {},
   "outputs": [],
   "source": [
    "#UAE won multiple mountainous stages and finished top in multiple mountain races and hilly races\n",
    "team_results = (table_test[(table_test$Race==\"TDF\")&(table_test$Year==2021)&(table_test$Team ==team_name), ])\n",
    "team_top5 = unique(team_results[,c(\"Rider\", \"Team\", \"ID\")])"
   ]
  },
  {
   "cell_type": "code",
   "execution_count": 216,
   "id": "1488d0bf",
   "metadata": {},
   "outputs": [],
   "source": [
    "team_top5$selected = c(1,1,1,1,1,1,1,1)"
   ]
  },
  {
   "cell_type": "code",
   "execution_count": 217,
   "id": "0834e86a",
   "metadata": {},
   "outputs": [],
   "source": [
    "team = merge(x = team, y = team_top5, by = c(\"Team\", \"Rider\", \"ID\"), all.x = TRUE)\n",
    "team = team[order(team$OVERALL, decreasing = TRUE),]\n",
    "team$selected[is.na(team$selected)] <- 0"
   ]
  },
  {
   "cell_type": "code",
   "execution_count": 218,
   "id": "d1eb7f9e",
   "metadata": {},
   "outputs": [
    {
     "data": {
      "text/html": [
       "<ol class=list-inline>\n",
       "\t<li>1</li>\n",
       "\t<li>0</li>\n",
       "\t<li>1</li>\n",
       "\t<li>0</li>\n",
       "\t<li>1</li>\n",
       "\t<li>0</li>\n",
       "\t<li>0</li>\n",
       "\t<li>0</li>\n",
       "\t<li>1</li>\n",
       "\t<li>0</li>\n",
       "\t<li>0</li>\n",
       "\t<li>0</li>\n",
       "\t<li>1</li>\n",
       "\t<li>0</li>\n",
       "\t<li>1</li>\n",
       "\t<li>1</li>\n",
       "\t<li>1</li>\n",
       "\t<li>0</li>\n",
       "\t<li>0</li>\n",
       "\t<li>0</li>\n",
       "\t<li>0</li>\n",
       "\t<li>0</li>\n",
       "\t<li>0</li>\n",
       "\t<li>0</li>\n",
       "\t<li>0</li>\n",
       "\t<li>0</li>\n",
       "\t<li>0</li>\n",
       "\t<li>0</li>\n",
       "\t<li>0</li>\n",
       "\t<li>0</li>\n",
       "\t<li>0</li>\n",
       "</ol>\n"
      ],
      "text/latex": [
       "\\begin{enumerate*}\n",
       "\\item 1\n",
       "\\item 0\n",
       "\\item 1\n",
       "\\item 0\n",
       "\\item 1\n",
       "\\item 0\n",
       "\\item 0\n",
       "\\item 0\n",
       "\\item 1\n",
       "\\item 0\n",
       "\\item 0\n",
       "\\item 0\n",
       "\\item 1\n",
       "\\item 0\n",
       "\\item 1\n",
       "\\item 1\n",
       "\\item 1\n",
       "\\item 0\n",
       "\\item 0\n",
       "\\item 0\n",
       "\\item 0\n",
       "\\item 0\n",
       "\\item 0\n",
       "\\item 0\n",
       "\\item 0\n",
       "\\item 0\n",
       "\\item 0\n",
       "\\item 0\n",
       "\\item 0\n",
       "\\item 0\n",
       "\\item 0\n",
       "\\end{enumerate*}\n"
      ],
      "text/markdown": [
       "1. 1\n",
       "2. 0\n",
       "3. 1\n",
       "4. 0\n",
       "5. 1\n",
       "6. 0\n",
       "7. 0\n",
       "8. 0\n",
       "9. 1\n",
       "10. 0\n",
       "11. 0\n",
       "12. 0\n",
       "13. 1\n",
       "14. 0\n",
       "15. 1\n",
       "16. 1\n",
       "17. 1\n",
       "18. 0\n",
       "19. 0\n",
       "20. 0\n",
       "21. 0\n",
       "22. 0\n",
       "23. 0\n",
       "24. 0\n",
       "25. 0\n",
       "26. 0\n",
       "27. 0\n",
       "28. 0\n",
       "29. 0\n",
       "30. 0\n",
       "31. 0\n",
       "\n",
       "\n"
      ],
      "text/plain": [
       " [1] 1 0 1 0 1 0 0 0 1 0 0 0 1 0 1 1 1 0 0 0 0 0 0 0 0 0 0 0 0 0 0"
      ]
     },
     "metadata": {},
     "output_type": "display_data"
    }
   ],
   "source": [
    "team$selected"
   ]
  },
  {
   "cell_type": "code",
   "execution_count": 219,
   "id": "11b17b84",
   "metadata": {},
   "outputs": [
    {
     "data": {
      "text/html": [
       "<ol class=list-inline>\n",
       "\t<li>1</li>\n",
       "\t<li>1</li>\n",
       "\t<li>1</li>\n",
       "\t<li>1</li>\n",
       "\t<li>1</li>\n",
       "\t<li>1</li>\n",
       "\t<li>1</li>\n",
       "\t<li>1</li>\n",
       "\t<li>0</li>\n",
       "\t<li>0</li>\n",
       "\t<li>0</li>\n",
       "\t<li>0</li>\n",
       "\t<li>0</li>\n",
       "\t<li>0</li>\n",
       "\t<li>0</li>\n",
       "\t<li>0</li>\n",
       "\t<li>0</li>\n",
       "\t<li>0</li>\n",
       "\t<li>0</li>\n",
       "\t<li>0</li>\n",
       "\t<li>0</li>\n",
       "\t<li>0</li>\n",
       "\t<li>0</li>\n",
       "\t<li>0</li>\n",
       "\t<li>0</li>\n",
       "\t<li>0</li>\n",
       "\t<li>0</li>\n",
       "\t<li>0</li>\n",
       "\t<li>0</li>\n",
       "\t<li>0</li>\n",
       "\t<li>0</li>\n",
       "</ol>\n"
      ],
      "text/latex": [
       "\\begin{enumerate*}\n",
       "\\item 1\n",
       "\\item 1\n",
       "\\item 1\n",
       "\\item 1\n",
       "\\item 1\n",
       "\\item 1\n",
       "\\item 1\n",
       "\\item 1\n",
       "\\item 0\n",
       "\\item 0\n",
       "\\item 0\n",
       "\\item 0\n",
       "\\item 0\n",
       "\\item 0\n",
       "\\item 0\n",
       "\\item 0\n",
       "\\item 0\n",
       "\\item 0\n",
       "\\item 0\n",
       "\\item 0\n",
       "\\item 0\n",
       "\\item 0\n",
       "\\item 0\n",
       "\\item 0\n",
       "\\item 0\n",
       "\\item 0\n",
       "\\item 0\n",
       "\\item 0\n",
       "\\item 0\n",
       "\\item 0\n",
       "\\item 0\n",
       "\\end{enumerate*}\n"
      ],
      "text/markdown": [
       "1. 1\n",
       "2. 1\n",
       "3. 1\n",
       "4. 1\n",
       "5. 1\n",
       "6. 1\n",
       "7. 1\n",
       "8. 1\n",
       "9. 0\n",
       "10. 0\n",
       "11. 0\n",
       "12. 0\n",
       "13. 0\n",
       "14. 0\n",
       "15. 0\n",
       "16. 0\n",
       "17. 0\n",
       "18. 0\n",
       "19. 0\n",
       "20. 0\n",
       "21. 0\n",
       "22. 0\n",
       "23. 0\n",
       "24. 0\n",
       "25. 0\n",
       "26. 0\n",
       "27. 0\n",
       "28. 0\n",
       "29. 0\n",
       "30. 0\n",
       "31. 0\n",
       "\n",
       "\n"
      ],
      "text/plain": [
       " [1] 1 1 1 1 1 1 1 1 0 0 0 0 0 0 0 0 0 0 0 0 0 0 0 0 0 0 0 0 0 0 0"
      ]
     },
     "metadata": {},
     "output_type": "display_data"
    }
   ],
   "source": [
    "#Suggestion\n",
    "suggestion = (c(rep(1, 8), rep(0, nrow(team)-8)))\n",
    "suggestion"
   ]
  },
  {
   "cell_type": "code",
   "execution_count": 220,
   "id": "e67dcb2c",
   "metadata": {},
   "outputs": [],
   "source": [
    "#Full information objective value\n",
    "fullinfo = mean(team[team$selected == 1,]$OVERALL)\n",
    "\n",
    "#Baseline objective value\n",
    "baseline = mean(team[as.logical(suggestion),]$OVERALL)"
   ]
  },
  {
   "cell_type": "markdown",
   "id": "9b6d425a",
   "metadata": {},
   "source": [
    "## Objective function"
   ]
  },
  {
   "cell_type": "code",
   "execution_count": 223,
   "id": "3bae863b",
   "metadata": {},
   "outputs": [],
   "source": [
    "objective <- function(x) {\n",
    "  nr_riders = sum(x)\n",
    "  \n",
    "    \n",
    "  if(nr_riders != 8) \n",
    "    return(-100000000000000)\n",
    "  \n",
    "  selection <- team[as.logical(x),]\n",
    "  obj = mean(selection$OVERALL)\n",
    "    \n",
    "  res = selection %>% group_by(Team) %>% summarise(flat_mean = round(mean(FLAT))\n",
    "                                             , mountain_mean = round(mean(MOUNTAIN))\n",
    "                                            , downhill_mean = round(mean(DOWNHILL))\n",
    "                                            ,cobbles_mean = round(mean(COBBLES))\n",
    "                                            ,tt_mean = round(mean(TT)),\n",
    "                                            ,prologue_mean = round(mean(PROLOGUE))\n",
    "                                            ,sprint_mean = round(mean(SPRINT))\n",
    "                                            ,acceleration_mean = round(mean(ACCELERATION))\n",
    "                                            ,endurance_mean = round(mean(ENDURANCE))\n",
    "                                            ,resistance_mean = round(mean(RESISTANCE))\n",
    "                                            ,recup_mean = round(mean(RECUP))\n",
    "                                            ,hill_mean = round(mean(HILL))\n",
    "                                            ,attack_mean = round(mean(ATTACK))\n",
    "                                            ,mean_size = round(mean(Size))\n",
    "                                            ,mean_weight = round(mean(Weight))\n",
    "                                                                          \n",
    "                                            ,flat_max = round(max(FLAT))\n",
    "                                            ,mountain_max = round(max(MOUNTAIN))\n",
    "                                            ,downhill_max = round(max(DOWNHILL))\n",
    "                                            ,cobbles_max = round(max(COBBLES))\n",
    "                                            ,tt_max = round(max(TT)),\n",
    "                                            ,prologue_max = round(max(PROLOGUE))\n",
    "                                            ,sprint_max = round(max(SPRINT))\n",
    "                                            ,acceleration_max = round(max(ACCELERATION))\n",
    "                                            ,endurance_max = round(max(ENDURANCE))\n",
    "                                            ,resistance_max = round(max(RESISTANCE))\n",
    "                                            ,recup_max = round(max(RECUP))\n",
    "                                            ,hill_max = round(max(HILL))\n",
    "                                            ,attack_max = round(max(ATTACK))\n",
    "                                            ,size_max = round(max(Size))\n",
    "                                            ,weight_max = round(max(Weight))\n",
    "                                                                          \n",
    "                                            ,flat_min = round(min(FLAT))\n",
    "                                            ,mountain_min = round(min(MOUNTAIN))\n",
    "                                            ,downhill_min = round(min(DOWNHILL))\n",
    "                                            ,cobbles_min = round(min(COBBLES))\n",
    "                                            ,tt_min = round(min(TT)),\n",
    "                                            ,prologue_min = round(min(PROLOGUE))\n",
    "                                            ,sprint_min = round(min(SPRINT))\n",
    "                                            ,acceleration_min = round(min(ACCELERATION))\n",
    "                                            ,endurance_min = round(min(ENDURANCE))\n",
    "                                            ,resistance_min = round(min(RESISTANCE))\n",
    "                                            ,recup_min = round(min(RECUP))\n",
    "                                            ,hill_min = round(min(HILL))\n",
    "                                            ,attack_min = round(min(ATTACK))\n",
    "                                            ,size_min = round(min(Size))\n",
    "                                            ,weight_min = round(min(Weight)))\n",
    "    \n",
    "  res$Team = NULL\n",
    "  resRanger= res[varsel_boruta_ranger]\n",
    "    \n",
    "  resxgb <- res %>% mutate_if(is.factor, as.character)  %>% mutate_if(is.character, as.numeric)\n",
    "  resxgb = resxgb[varsel_boruta_xgb] \n",
    "  dres <- xgb.DMatrix(data = as.matrix(resxgb))  \n",
    "    \n",
    "    \n",
    "  predictionMountain = predict(xgbMountain,dres)\n",
    "  predictionHilly = predict(hillyModel,resRanger)$predictions[,2]\n",
    "  print(cat(x,\"->\",predictionMountain))\n",
    "  print(cat(x,\"->\",predictionHilly))\n",
    "    \n",
    "  return(obj*(predictionMountain)+obj*(predictionHilly)/3)\n",
    "}"
   ]
  },
  {
   "cell_type": "code",
   "execution_count": null,
   "id": "c887f400",
   "metadata": {
    "scrolled": true
   },
   "outputs": [],
   "source": [
    "result <- ga(type = \"binary\",\n",
    "               fitness = objective, \n",
    "               crossover=gabin_uCrossover,\n",
    "               mutation = gabin_raMutation,\n",
    "               elitism = 4,\n",
    "               nBits = nrow(team),\n",
    "               popSize = 50, \n",
    "               maxiter = 100, \n",
    "               pmutation = 0.01, \n",
    "               monitor = FALSE,\n",
    "               suggestions = suggestion,\n",
    "               seed = (103))"
   ]
  },
  {
   "cell_type": "code",
   "execution_count": 225,
   "id": "3a293a81",
   "metadata": {},
   "outputs": [
    {
     "data": {
      "text/html": [
       "<ol class=list-inline>\n",
       "\t<li>0</li>\n",
       "\t<li>1</li>\n",
       "\t<li>0</li>\n",
       "\t<li>1</li>\n",
       "\t<li>0</li>\n",
       "\t<li>0</li>\n",
       "\t<li>1</li>\n",
       "\t<li>0</li>\n",
       "\t<li>0</li>\n",
       "\t<li>0</li>\n",
       "\t<li>0</li>\n",
       "\t<li>1</li>\n",
       "\t<li>0</li>\n",
       "\t<li>1</li>\n",
       "\t<li>1</li>\n",
       "\t<li>1</li>\n",
       "\t<li>1</li>\n",
       "\t<li>0</li>\n",
       "\t<li>0</li>\n",
       "\t<li>0</li>\n",
       "\t<li>0</li>\n",
       "\t<li>0</li>\n",
       "\t<li>0</li>\n",
       "\t<li>0</li>\n",
       "\t<li>0</li>\n",
       "\t<li>0</li>\n",
       "\t<li>0</li>\n",
       "\t<li>0</li>\n",
       "\t<li>0</li>\n",
       "\t<li>0</li>\n",
       "\t<li>0</li>\n",
       "</ol>\n"
      ],
      "text/latex": [
       "\\begin{enumerate*}\n",
       "\\item 0\n",
       "\\item 1\n",
       "\\item 0\n",
       "\\item 1\n",
       "\\item 0\n",
       "\\item 0\n",
       "\\item 1\n",
       "\\item 0\n",
       "\\item 0\n",
       "\\item 0\n",
       "\\item 0\n",
       "\\item 1\n",
       "\\item 0\n",
       "\\item 1\n",
       "\\item 1\n",
       "\\item 1\n",
       "\\item 1\n",
       "\\item 0\n",
       "\\item 0\n",
       "\\item 0\n",
       "\\item 0\n",
       "\\item 0\n",
       "\\item 0\n",
       "\\item 0\n",
       "\\item 0\n",
       "\\item 0\n",
       "\\item 0\n",
       "\\item 0\n",
       "\\item 0\n",
       "\\item 0\n",
       "\\item 0\n",
       "\\end{enumerate*}\n"
      ],
      "text/markdown": [
       "1. 0\n",
       "2. 1\n",
       "3. 0\n",
       "4. 1\n",
       "5. 0\n",
       "6. 0\n",
       "7. 1\n",
       "8. 0\n",
       "9. 0\n",
       "10. 0\n",
       "11. 0\n",
       "12. 1\n",
       "13. 0\n",
       "14. 1\n",
       "15. 1\n",
       "16. 1\n",
       "17. 1\n",
       "18. 0\n",
       "19. 0\n",
       "20. 0\n",
       "21. 0\n",
       "22. 0\n",
       "23. 0\n",
       "24. 0\n",
       "25. 0\n",
       "26. 0\n",
       "27. 0\n",
       "28. 0\n",
       "29. 0\n",
       "30. 0\n",
       "31. 0\n",
       "\n",
       "\n"
      ],
      "text/plain": [
       " [1] 0 1 0 1 0 0 1 0 0 0 0 1 0 1 1 1 1 0 0 0 0 0 0 0 0 0 0 0 0 0 0"
      ]
     },
     "metadata": {},
     "output_type": "display_data"
    }
   ],
   "source": [
    "selection = team[as.logical(result@population[nrow(result@population), ] ),]\n",
    "(result@population[nrow(result@population), ])"
   ]
  },
  {
   "cell_type": "code",
   "execution_count": 226,
   "id": "c51a6986",
   "metadata": {},
   "outputs": [
    {
     "data": {
      "text/html": [
       "<ol class=list-inline>\n",
       "\t<li>1</li>\n",
       "\t<li>0</li>\n",
       "\t<li>1</li>\n",
       "\t<li>0</li>\n",
       "\t<li>1</li>\n",
       "\t<li>0</li>\n",
       "\t<li>0</li>\n",
       "\t<li>0</li>\n",
       "\t<li>1</li>\n",
       "\t<li>0</li>\n",
       "\t<li>0</li>\n",
       "\t<li>0</li>\n",
       "\t<li>1</li>\n",
       "\t<li>0</li>\n",
       "\t<li>1</li>\n",
       "\t<li>1</li>\n",
       "\t<li>1</li>\n",
       "\t<li>0</li>\n",
       "\t<li>0</li>\n",
       "\t<li>0</li>\n",
       "\t<li>0</li>\n",
       "\t<li>0</li>\n",
       "\t<li>0</li>\n",
       "\t<li>0</li>\n",
       "\t<li>0</li>\n",
       "\t<li>0</li>\n",
       "\t<li>0</li>\n",
       "\t<li>0</li>\n",
       "\t<li>0</li>\n",
       "\t<li>0</li>\n",
       "\t<li>0</li>\n",
       "</ol>\n"
      ],
      "text/latex": [
       "\\begin{enumerate*}\n",
       "\\item 1\n",
       "\\item 0\n",
       "\\item 1\n",
       "\\item 0\n",
       "\\item 1\n",
       "\\item 0\n",
       "\\item 0\n",
       "\\item 0\n",
       "\\item 1\n",
       "\\item 0\n",
       "\\item 0\n",
       "\\item 0\n",
       "\\item 1\n",
       "\\item 0\n",
       "\\item 1\n",
       "\\item 1\n",
       "\\item 1\n",
       "\\item 0\n",
       "\\item 0\n",
       "\\item 0\n",
       "\\item 0\n",
       "\\item 0\n",
       "\\item 0\n",
       "\\item 0\n",
       "\\item 0\n",
       "\\item 0\n",
       "\\item 0\n",
       "\\item 0\n",
       "\\item 0\n",
       "\\item 0\n",
       "\\item 0\n",
       "\\end{enumerate*}\n"
      ],
      "text/markdown": [
       "1. 1\n",
       "2. 0\n",
       "3. 1\n",
       "4. 0\n",
       "5. 1\n",
       "6. 0\n",
       "7. 0\n",
       "8. 0\n",
       "9. 1\n",
       "10. 0\n",
       "11. 0\n",
       "12. 0\n",
       "13. 1\n",
       "14. 0\n",
       "15. 1\n",
       "16. 1\n",
       "17. 1\n",
       "18. 0\n",
       "19. 0\n",
       "20. 0\n",
       "21. 0\n",
       "22. 0\n",
       "23. 0\n",
       "24. 0\n",
       "25. 0\n",
       "26. 0\n",
       "27. 0\n",
       "28. 0\n",
       "29. 0\n",
       "30. 0\n",
       "31. 0\n",
       "\n",
       "\n"
      ],
      "text/plain": [
       " [1] 1 0 1 0 1 0 0 0 1 0 0 0 1 0 1 1 1 0 0 0 0 0 0 0 0 0 0 0 0 0 0"
      ]
     },
     "metadata": {},
     "output_type": "display_data"
    }
   ],
   "source": [
    "#Full information objective value\n",
    "(team$selected)"
   ]
  },
  {
   "cell_type": "code",
   "execution_count": 227,
   "id": "08da9856",
   "metadata": {},
   "outputs": [],
   "source": [
    "res = selection %>% group_by(Team) %>% summarise(flat_mean = round(mean(FLAT))\n",
    "                                             , mountain_mean = round(mean(MOUNTAIN))\n",
    "                                            , downhill_mean = round(mean(DOWNHILL))\n",
    "                                            ,cobbles_mean = round(mean(COBBLES))\n",
    "                                            ,tt_mean = round(mean(TT)),\n",
    "                                            ,prologue_mean = round(mean(PROLOGUE))\n",
    "                                            ,sprint_mean = round(mean(SPRINT))\n",
    "                                            ,acceleration_mean = round(mean(ACCELERATION))\n",
    "                                            ,endurance_mean = round(mean(ENDURANCE))\n",
    "                                            ,resistance_mean = round(mean(RESISTANCE))\n",
    "                                            ,recup_mean = round(mean(RECUP))\n",
    "                                            ,hill_mean = round(mean(HILL))\n",
    "                                            ,attack_mean = round(mean(ATTACK))\n",
    "                                            ,mean_size = round(mean(Size))\n",
    "                                            ,mean_weight = round(mean(Weight))\n",
    "                                                                          \n",
    "                                            ,flat_max = round(max(FLAT))\n",
    "                                            ,mountain_max = round(max(MOUNTAIN))\n",
    "                                            ,downhill_max = round(max(DOWNHILL))\n",
    "                                            ,cobbles_max = round(max(COBBLES))\n",
    "                                            ,tt_max = round(max(TT)),\n",
    "                                            ,prologue_max = round(max(PROLOGUE))\n",
    "                                            ,sprint_max = round(max(SPRINT))\n",
    "                                            ,acceleration_max = round(max(ACCELERATION))\n",
    "                                            ,endurance_max = round(max(ENDURANCE))\n",
    "                                            ,resistance_max = round(max(RESISTANCE))\n",
    "                                            ,recup_max = round(max(RECUP))\n",
    "                                            ,hill_max = round(max(HILL))\n",
    "                                            ,attack_max = round(max(ATTACK))\n",
    "                                            ,size_max = round(max(Size))\n",
    "                                            ,weight_max = round(max(Weight))\n",
    "                                                                          \n",
    "                                            ,flat_min = round(min(FLAT))\n",
    "                                            ,mountain_min = round(min(MOUNTAIN))\n",
    "                                            ,downhill_min = round(min(DOWNHILL))\n",
    "                                            ,cobbles_min = round(min(COBBLES))\n",
    "                                            ,tt_min = round(min(TT)),\n",
    "                                            ,prologue_min = round(min(PROLOGUE))\n",
    "                                            ,sprint_min = round(min(SPRINT))\n",
    "                                            ,acceleration_min = round(min(ACCELERATION))\n",
    "                                            ,endurance_min = round(min(ENDURANCE))\n",
    "                                            ,resistance_min = round(min(RESISTANCE))\n",
    "                                            ,recup_min = round(min(RECUP))\n",
    "                                            ,hill_min = round(min(HILL))\n",
    "                                            ,attack_min = round(min(ATTACK))\n",
    "                                            ,size_min = round(min(Size))\n",
    "                                            ,weight_min = round(min(Weight)))\n"
   ]
  },
  {
   "cell_type": "code",
   "execution_count": 228,
   "id": "25a9ab53",
   "metadata": {},
   "outputs": [],
   "source": [
    " #Obj value our team\n",
    "datamodel = mean(selection$OVERALL)"
   ]
  },
  {
   "cell_type": "code",
   "execution_count": 229,
   "id": "a434b1ee",
   "metadata": {
    "scrolled": true
   },
   "outputs": [
    {
     "data": {
      "text/html": [
       "74.0576923075"
      ],
      "text/latex": [
       "74.0576923075"
      ],
      "text/markdown": [
       "74.0576923075"
      ],
      "text/plain": [
       "[1] 74.05769"
      ]
     },
     "metadata": {},
     "output_type": "display_data"
    }
   ],
   "source": [
    "#Full information objective value\n",
    "mean(team[team$selected == 1,]$OVERALL)"
   ]
  },
  {
   "cell_type": "code",
   "execution_count": 242,
   "id": "a995f8be",
   "metadata": {},
   "outputs": [],
   "source": [
    "P = 1+(datamodel - fullinfo)/(baseline-fullinfo)"
   ]
  },
  {
   "cell_type": "code",
   "execution_count": 251,
   "id": "e3cd1272",
   "metadata": {},
   "outputs": [
    {
     "data": {
      "text/html": [
       "0.745762712798049"
      ],
      "text/latex": [
       "0.745762712798049"
      ],
      "text/markdown": [
       "0.745762712798049"
      ],
      "text/plain": [
       "[1] 0.7457627"
      ]
     },
     "metadata": {},
     "output_type": "display_data"
    }
   ],
   "source": [
    "P"
   ]
  },
  {
   "cell_type": "code",
   "execution_count": 250,
   "id": "a51105da",
   "metadata": {},
   "outputs": [
    {
     "data": {
      "text/html": [
       "75.1923076925"
      ],
      "text/latex": [
       "75.1923076925"
      ],
      "text/markdown": [
       "75.1923076925"
      ],
      "text/plain": [
       "[1] 75.19231"
      ]
     },
     "metadata": {},
     "output_type": "display_data"
    },
    {
     "data": {
      "text/html": [
       "74.0576923075"
      ],
      "text/latex": [
       "74.0576923075"
      ],
      "text/markdown": [
       "74.0576923075"
      ],
      "text/plain": [
       "[1] 74.05769"
      ]
     },
     "metadata": {},
     "output_type": "display_data"
    },
    {
     "data": {
      "text/html": [
       "73.76923077"
      ],
      "text/latex": [
       "73.76923077"
      ],
      "text/markdown": [
       "73.76923077"
      ],
      "text/plain": [
       "[1] 73.76923"
      ]
     },
     "metadata": {},
     "output_type": "display_data"
    }
   ],
   "source": [
    "baseline\n",
    "fullinfo\n",
    "datamodel"
   ]
  },
  {
   "cell_type": "code",
   "execution_count": 249,
   "id": "6f852563",
   "metadata": {},
   "outputs": [
    {
     "data": {
      "text/html": [
       "<table>\n",
       "<thead><tr><th></th><th scope=col>Rider</th><th scope=col>Team</th><th scope=col>ID</th></tr></thead>\n",
       "<tbody>\n",
       "\t<tr><th scope=row>1</th><td>amador andrey     </td><td>INEOS Grenadiers  </td><td> 432              </td></tr>\n",
       "\t<tr><th scope=row>3</th><td>bernal egan       </td><td>INEOS Grenadiers  </td><td>5672              </td></tr>\n",
       "\t<tr><th scope=row>10</th><td>ganna filippo     </td><td>INEOS Grenadiers  </td><td>5943              </td></tr>\n",
       "\t<tr><th scope=row>15</th><td>kwiatkowski michal</td><td>INEOS Grenadiers  </td><td>1981              </td></tr>\n",
       "\t<tr><th scope=row>17</th><td>moscon gianni     </td><td>INEOS Grenadiers  </td><td>5001              </td></tr>\n",
       "\t<tr><th scope=row>19</th><td>pidcock thomas    </td><td>INEOS Grenadiers  </td><td>6501              </td></tr>\n",
       "\t<tr><th scope=row>28</th><td>thomas geraint    </td><td>INEOS Grenadiers  </td><td>1074              </td></tr>\n",
       "\t<tr><th scope=row>29</th><td>van baarle dylan  </td><td>INEOS Grenadiers  </td><td>3382              </td></tr>\n",
       "</tbody>\n",
       "</table>\n"
      ],
      "text/latex": [
       "\\begin{tabular}{r|lll}\n",
       "  & Rider & Team & ID\\\\\n",
       "\\hline\n",
       "\t1 & amador andrey      & INEOS Grenadiers   &  432              \\\\\n",
       "\t3 & bernal egan        & INEOS Grenadiers   & 5672              \\\\\n",
       "\t10 & ganna filippo      & INEOS Grenadiers   & 5943              \\\\\n",
       "\t15 & kwiatkowski michal & INEOS Grenadiers   & 1981              \\\\\n",
       "\t17 & moscon gianni      & INEOS Grenadiers   & 5001              \\\\\n",
       "\t19 & pidcock thomas     & INEOS Grenadiers   & 6501              \\\\\n",
       "\t28 & thomas geraint     & INEOS Grenadiers   & 1074              \\\\\n",
       "\t29 & van baarle dylan   & INEOS Grenadiers   & 3382              \\\\\n",
       "\\end{tabular}\n"
      ],
      "text/markdown": [
       "\n",
       "| <!--/--> | Rider | Team | ID |\n",
       "|---|---|---|---|\n",
       "| 1 | amador andrey      | INEOS Grenadiers   |  432               |\n",
       "| 3 | bernal egan        | INEOS Grenadiers   | 5672               |\n",
       "| 10 | ganna filippo      | INEOS Grenadiers   | 5943               |\n",
       "| 15 | kwiatkowski michal | INEOS Grenadiers   | 1981               |\n",
       "| 17 | moscon gianni      | INEOS Grenadiers   | 5001               |\n",
       "| 19 | pidcock thomas     | INEOS Grenadiers   | 6501               |\n",
       "| 28 | thomas geraint     | INEOS Grenadiers   | 1074               |\n",
       "| 29 | van baarle dylan   | INEOS Grenadiers   | 3382               |\n",
       "\n"
      ],
      "text/plain": [
       "   Rider              Team             ID  \n",
       "1  amador andrey      INEOS Grenadiers  432\n",
       "3  bernal egan        INEOS Grenadiers 5672\n",
       "10 ganna filippo      INEOS Grenadiers 5943\n",
       "15 kwiatkowski michal INEOS Grenadiers 1981\n",
       "17 moscon gianni      INEOS Grenadiers 5001\n",
       "19 pidcock thomas     INEOS Grenadiers 6501\n",
       "28 thomas geraint     INEOS Grenadiers 1074\n",
       "29 van baarle dylan   INEOS Grenadiers 3382"
      ]
     },
     "metadata": {},
     "output_type": "display_data"
    }
   ],
   "source": [
    "#Baseline Team\n",
    "t = team[as.logical(suggestion),]\n",
    "t = t[c(\"Rider\", \"Team\", \"ID\")]\n",
    "t[order(t$Rider),]"
   ]
  },
  {
   "cell_type": "code",
   "execution_count": 246,
   "id": "8e058011",
   "metadata": {
    "scrolled": true
   },
   "outputs": [
    {
     "data": {
      "text/html": [
       "<table>\n",
       "<thead><tr><th></th><th scope=col>Rider</th><th scope=col>Team</th><th scope=col>ID</th></tr></thead>\n",
       "<tbody>\n",
       "\t<tr><th scope=row>3</th><td>bernal egan         </td><td>INEOS Grenadiers    </td><td>5672                </td></tr>\n",
       "\t<tr><th scope=row>5</th><td>castroviejo jonathan</td><td>INEOS Grenadiers    </td><td>1908                </td></tr>\n",
       "\t<tr><th scope=row>16</th><td>martinez daniel     </td><td>INEOS Grenadiers    </td><td>3763                </td></tr>\n",
       "\t<tr><th scope=row>17</th><td>moscon gianni       </td><td>INEOS Grenadiers    </td><td>5001                </td></tr>\n",
       "\t<tr><th scope=row>19</th><td>pidcock thomas      </td><td>INEOS Grenadiers    </td><td>6501                </td></tr>\n",
       "\t<tr><th scope=row>20</th><td>porte richie        </td><td>INEOS Grenadiers    </td><td>1932                </td></tr>\n",
       "\t<tr><th scope=row>24</th><td>rowe luke           </td><td>INEOS Grenadiers    </td><td>2551                </td></tr>\n",
       "\t<tr><th scope=row>27</th><td>swift ben           </td><td>INEOS Grenadiers    </td><td> 797                </td></tr>\n",
       "</tbody>\n",
       "</table>\n"
      ],
      "text/latex": [
       "\\begin{tabular}{r|lll}\n",
       "  & Rider & Team & ID\\\\\n",
       "\\hline\n",
       "\t3 & bernal egan          & INEOS Grenadiers     & 5672                \\\\\n",
       "\t5 & castroviejo jonathan & INEOS Grenadiers     & 1908                \\\\\n",
       "\t16 & martinez daniel      & INEOS Grenadiers     & 3763                \\\\\n",
       "\t17 & moscon gianni        & INEOS Grenadiers     & 5001                \\\\\n",
       "\t19 & pidcock thomas       & INEOS Grenadiers     & 6501                \\\\\n",
       "\t20 & porte richie         & INEOS Grenadiers     & 1932                \\\\\n",
       "\t24 & rowe luke            & INEOS Grenadiers     & 2551                \\\\\n",
       "\t27 & swift ben            & INEOS Grenadiers     &  797                \\\\\n",
       "\\end{tabular}\n"
      ],
      "text/markdown": [
       "\n",
       "| <!--/--> | Rider | Team | ID |\n",
       "|---|---|---|---|\n",
       "| 3 | bernal egan          | INEOS Grenadiers     | 5672                 |\n",
       "| 5 | castroviejo jonathan | INEOS Grenadiers     | 1908                 |\n",
       "| 16 | martinez daniel      | INEOS Grenadiers     | 3763                 |\n",
       "| 17 | moscon gianni        | INEOS Grenadiers     | 5001                 |\n",
       "| 19 | pidcock thomas       | INEOS Grenadiers     | 6501                 |\n",
       "| 20 | porte richie         | INEOS Grenadiers     | 1932                 |\n",
       "| 24 | rowe luke            | INEOS Grenadiers     | 2551                 |\n",
       "| 27 | swift ben            | INEOS Grenadiers     |  797                 |\n",
       "\n"
      ],
      "text/plain": [
       "   Rider                Team             ID  \n",
       "3  bernal egan          INEOS Grenadiers 5672\n",
       "5  castroviejo jonathan INEOS Grenadiers 1908\n",
       "16 martinez daniel      INEOS Grenadiers 3763\n",
       "17 moscon gianni        INEOS Grenadiers 5001\n",
       "19 pidcock thomas       INEOS Grenadiers 6501\n",
       "20 porte richie         INEOS Grenadiers 1932\n",
       "24 rowe luke            INEOS Grenadiers 2551\n",
       "27 swift ben            INEOS Grenadiers  797"
      ]
     },
     "metadata": {},
     "output_type": "display_data"
    }
   ],
   "source": [
    "#The riders picked by us\n",
    "s = selection[c(\"Rider\", \"Team\", \"ID\")]\n",
    "s[order(s$Rider),]"
   ]
  },
  {
   "cell_type": "code",
   "execution_count": 247,
   "id": "af3a3c9c",
   "metadata": {},
   "outputs": [
    {
     "data": {
      "text/html": [
       "<table>\n",
       "<thead><tr><th></th><th scope=col>Rider</th><th scope=col>Team</th><th scope=col>ID</th><th scope=col>selected</th></tr></thead>\n",
       "<tbody>\n",
       "\t<tr><th scope=row>21572</th><td>carapaz richard     </td><td>INEOS Grenadiers    </td><td>5957                </td><td>1                   </td></tr>\n",
       "\t<tr><th scope=row>21632</th><td>castroviejo jonathan</td><td>INEOS Grenadiers    </td><td>1908                </td><td>1                   </td></tr>\n",
       "\t<tr><th scope=row>21693</th><td>geoghegan hart tao  </td><td>INEOS Grenadiers    </td><td>3924                </td><td>1                   </td></tr>\n",
       "\t<tr><th scope=row>21992</th><td>kwiatkowski michal  </td><td>INEOS Grenadiers    </td><td>1981                </td><td>1                   </td></tr>\n",
       "\t<tr><th scope=row>21717</th><td>porte richie        </td><td>INEOS Grenadiers    </td><td>1932                </td><td>1                   </td></tr>\n",
       "\t<tr><th scope=row>22010</th><td>rowe luke           </td><td>INEOS Grenadiers    </td><td>2551                </td><td>1                   </td></tr>\n",
       "\t<tr><th scope=row>22443</th><td>thomas geraint      </td><td>INEOS Grenadiers    </td><td>1074                </td><td>1                   </td></tr>\n",
       "\t<tr><th scope=row>21930</th><td>van baarle dylan    </td><td>INEOS Grenadiers    </td><td>3382                </td><td>1                   </td></tr>\n",
       "</tbody>\n",
       "</table>\n"
      ],
      "text/latex": [
       "\\begin{tabular}{r|llll}\n",
       "  & Rider & Team & ID & selected\\\\\n",
       "\\hline\n",
       "\t21572 & carapaz richard      & INEOS Grenadiers     & 5957                 & 1                   \\\\\n",
       "\t21632 & castroviejo jonathan & INEOS Grenadiers     & 1908                 & 1                   \\\\\n",
       "\t21693 & geoghegan hart tao   & INEOS Grenadiers     & 3924                 & 1                   \\\\\n",
       "\t21992 & kwiatkowski michal   & INEOS Grenadiers     & 1981                 & 1                   \\\\\n",
       "\t21717 & porte richie         & INEOS Grenadiers     & 1932                 & 1                   \\\\\n",
       "\t22010 & rowe luke            & INEOS Grenadiers     & 2551                 & 1                   \\\\\n",
       "\t22443 & thomas geraint       & INEOS Grenadiers     & 1074                 & 1                   \\\\\n",
       "\t21930 & van baarle dylan     & INEOS Grenadiers     & 3382                 & 1                   \\\\\n",
       "\\end{tabular}\n"
      ],
      "text/markdown": [
       "\n",
       "| <!--/--> | Rider | Team | ID | selected |\n",
       "|---|---|---|---|---|\n",
       "| 21572 | carapaz richard      | INEOS Grenadiers     | 5957                 | 1                    |\n",
       "| 21632 | castroviejo jonathan | INEOS Grenadiers     | 1908                 | 1                    |\n",
       "| 21693 | geoghegan hart tao   | INEOS Grenadiers     | 3924                 | 1                    |\n",
       "| 21992 | kwiatkowski michal   | INEOS Grenadiers     | 1981                 | 1                    |\n",
       "| 21717 | porte richie         | INEOS Grenadiers     | 1932                 | 1                    |\n",
       "| 22010 | rowe luke            | INEOS Grenadiers     | 2551                 | 1                    |\n",
       "| 22443 | thomas geraint       | INEOS Grenadiers     | 1074                 | 1                    |\n",
       "| 21930 | van baarle dylan     | INEOS Grenadiers     | 3382                 | 1                    |\n",
       "\n"
      ],
      "text/plain": [
       "      Rider                Team             ID   selected\n",
       "21572 carapaz richard      INEOS Grenadiers 5957 1       \n",
       "21632 castroviejo jonathan INEOS Grenadiers 1908 1       \n",
       "21693 geoghegan hart tao   INEOS Grenadiers 3924 1       \n",
       "21992 kwiatkowski michal   INEOS Grenadiers 1981 1       \n",
       "21717 porte richie         INEOS Grenadiers 1932 1       \n",
       "22010 rowe luke            INEOS Grenadiers 2551 1       \n",
       "22443 thomas geraint       INEOS Grenadiers 1074 1       \n",
       "21930 van baarle dylan     INEOS Grenadiers 3382 1       "
      ]
     },
     "metadata": {},
     "output_type": "display_data"
    }
   ],
   "source": [
    "team_top5[order(team_top5$Rider),]"
   ]
  },
  {
   "cell_type": "code",
   "execution_count": null,
   "id": "e281efb4",
   "metadata": {},
   "outputs": [],
   "source": []
  }
 ],
 "metadata": {
  "hide_input": false,
  "kernelspec": {
   "display_name": "R",
   "language": "R",
   "name": "ir"
  },
  "language_info": {
   "codemirror_mode": "r",
   "file_extension": ".r",
   "mimetype": "text/x-r-source",
   "name": "R",
   "pygments_lexer": "r",
   "version": "3.6.1"
  }
 },
 "nbformat": 4,
 "nbformat_minor": 5
}
