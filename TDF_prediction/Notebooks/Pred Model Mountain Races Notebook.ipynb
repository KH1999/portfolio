{
 "cells": [
  {
   "cell_type": "code",
   "execution_count": 1,
   "id": "a79d6c53",
   "metadata": {},
   "outputs": [
    {
     "name": "stderr",
     "output_type": "stream",
     "text": [
      "also installing the dependency 'jsonlite'\n",
      "\n",
      "Warning message:\n",
      "\"unable to access index for repository http://www.stats.ox.ac.uk/pub/RWin/bin/windows/contrib/3.6:\n",
      "  cannot open URL 'http://www.stats.ox.ac.uk/pub/RWin/bin/windows/contrib/3.6/PACKAGES'\""
     ]
    },
    {
     "name": "stdout",
     "output_type": "stream",
     "text": [
      "\n",
      "  There is a binary version available but the source version is later:\n",
      "         binary source needs_compilation\n",
      "jsonlite  1.7.2  1.8.0              TRUE\n",
      "\n",
      "  Binaries will be installed\n",
      "package 'jsonlite' successfully unpacked and MD5 sums checked\n"
     ]
    },
    {
     "name": "stderr",
     "output_type": "stream",
     "text": [
      "Warning message:\n",
      "\"cannot remove prior installation of package 'jsonlite'\"Warning message in file.copy(savedcopy, lib, recursive = TRUE):\n",
      "\"problem copying C:\\Users\\jordy\\anaconda3\\envs\\R2\\Lib\\R\\library\\00LOCK\\jsonlite\\libs\\x64\\jsonlite.dll to C:\\Users\\jordy\\anaconda3\\envs\\R2\\Lib\\R\\library\\jsonlite\\libs\\x64\\jsonlite.dll: Permission denied\"Warning message:\n",
      "\"restored 'jsonlite'\""
     ]
    },
    {
     "name": "stdout",
     "output_type": "stream",
     "text": [
      "package 'tidyverse' successfully unpacked and MD5 sums checked\n",
      "\n",
      "The downloaded binary packages are in\n",
      "\tC:\\Users\\jordy\\AppData\\Local\\Temp\\RtmpiGZsIN\\downloaded_packages\n"
     ]
    },
    {
     "name": "stderr",
     "output_type": "stream",
     "text": [
      "\n",
      "tidyverse installed\n",
      "Warning message:\n",
      "\"package 'tidyverse' was built under R version 3.6.3\"Warning message in p_load(lubridate, AUC, tidyverse):\n",
      "\"Failed to install/load:\n",
      "tidyverse\"also installing the dependency 'jsonlite'\n",
      "\n",
      "Warning message:\n",
      "\"unable to access index for repository http://www.stats.ox.ac.uk/pub/RWin/bin/windows/contrib/3.6:\n",
      "  cannot open URL 'http://www.stats.ox.ac.uk/pub/RWin/bin/windows/contrib/3.6/PACKAGES'\""
     ]
    },
    {
     "name": "stdout",
     "output_type": "stream",
     "text": [
      "\n",
      "  There is a binary version available but the source version is later:\n",
      "         binary source needs_compilation\n",
      "jsonlite  1.7.2  1.8.0              TRUE\n",
      "\n",
      "  Binaries will be installed\n",
      "package 'jsonlite' successfully unpacked and MD5 sums checked\n"
     ]
    },
    {
     "name": "stderr",
     "output_type": "stream",
     "text": [
      "Warning message:\n",
      "\"cannot remove prior installation of package 'jsonlite'\"Warning message in file.copy(savedcopy, lib, recursive = TRUE):\n",
      "\"problem copying C:\\Users\\jordy\\anaconda3\\envs\\R2\\Lib\\R\\library\\00LOCK\\jsonlite\\libs\\x64\\jsonlite.dll to C:\\Users\\jordy\\anaconda3\\envs\\R2\\Lib\\R\\library\\jsonlite\\libs\\x64\\jsonlite.dll: Permission denied\"Warning message:\n",
      "\"restored 'jsonlite'\""
     ]
    },
    {
     "name": "stdout",
     "output_type": "stream",
     "text": [
      "package 'tidyverse' successfully unpacked and MD5 sums checked\n",
      "\n",
      "The downloaded binary packages are in\n",
      "\tC:\\Users\\jordy\\AppData\\Local\\Temp\\RtmpiGZsIN\\downloaded_packages\n"
     ]
    },
    {
     "name": "stderr",
     "output_type": "stream",
     "text": [
      "\n",
      "tidyverse installed\n",
      "Warning message:\n",
      "\"package 'tidyverse' was built under R version 3.6.3\"Warning message in p_load(tidyverse):\n",
      "\"Failed to install/load:\n",
      "tidyverse\""
     ]
    }
   ],
   "source": [
    "library(pacman)\n",
    "p_load(lubridate, AUC, tidyverse)\n",
    "\n",
    "p_load(magrittr) \n",
    "p_load(dplyr)\n",
    "p_load(tidyverse)\n",
    "p_load(tidyr)\n",
    "p_load(pacman)\n",
    "p_load(rlist)\n",
    "p_load(dummy)\n",
    "p_load(e1071)\n",
    "p_load(ROSE)\n",
    "p_load(rotationForest)\n",
    "p_load(xgboost)"
   ]
  },
  {
   "cell_type": "code",
   "execution_count": 2,
   "id": "070d509d",
   "metadata": {},
   "outputs": [],
   "source": [
    "p_load(caret)\n",
    "\n",
    "p_load(FNN)\n",
    "\n",
    "p_load(randomForest)\n",
    "\n",
    "options(repr.matrix.max.cols=1000, repr.matrix.max.rows=1000)"
   ]
  },
  {
   "cell_type": "code",
   "execution_count": 3,
   "id": "cde38954",
   "metadata": {},
   "outputs": [],
   "source": [
    "p_load(ranger)"
   ]
  },
  {
   "cell_type": "markdown",
   "id": "b3088e99",
   "metadata": {},
   "source": [
    "# Building basetable"
   ]
  },
  {
   "cell_type": "code",
   "execution_count": 231,
   "id": "39abb9b3",
   "metadata": {},
   "outputs": [
    {
     "data": {
      "text/html": [
       "<table>\n",
       "<thead><tr><th></th><th scope=col>Pos</th><th scope=col>Rider</th><th scope=col>Team</th><th scope=col>Time</th><th scope=col>Rider_ID</th><th scope=col>Rider_Country</th><th scope=col>Team_ID</th><th scope=col>Year</th><th scope=col>Stage</th><th scope=col>UCI</th><th scope=col>ID</th><th scope=col>Stage.Type</th><th scope=col>Race</th><th scope=col>ACCELERATION</th><th scope=col>ATTACK</th><th scope=col>Birthday</th><th scope=col>COBBLES</th><th scope=col>CONSTANT</th><th scope=col>DOWNHILL</th><th scope=col>ENDURANCE</th><th scope=col>FLAT</th><th scope=col>Family.Name</th><th scope=col>Given.Name</th><th scope=col>HILL</th><th scope=col>MOUNTAIN</th><th scope=col>Match</th><th scope=col>Name</th><th scope=col>PROLOGUE</th><th scope=col>Popularity</th><th scope=col>RECUP</th><th scope=col>RESISTANCE</th><th scope=col>Region</th><th scope=col>SPRINT</th><th scope=col>Size</th><th scope=col>TT</th><th scope=col>Weight</th><th scope=col>fitness_i_handicap</th><th scope=col>fkIDcyclist_state</th><th scope=col>fkIDinjury</th><th scope=col>fkIDrace</th><th scope=col>fkIDstaff_physician</th><th scope=col>fkIDstaff_trainer</th><th scope=col>fkIDstate_roster</th><th scope=col>fkIDtga_skin</th><th scope=col>fkIDtraining_camp</th><th scope=col>fkIDtype_rider</th><th scope=col>gene_b_inshortlist</th><th scope=col>gene_b_nominated</th><th scope=col>gene_b_selected_in_roster</th><th scope=col>gene_b_will_retire</th><th scope=col>gene_f_popularity_max</th><th scope=col>gene_i_champion_bit</th><th scope=col>gene_i_date_last_breakaway</th><th scope=col>gene_i_date_last_punchers</th><th scope=col>gene_i_day_progression</th><th scope=col>gene_i_dossard</th><th scope=col>gene_i_year_progression</th><th scope=col>gene_ilist_fkIDfavorite_races</th><th scope=col>gene_sz_firstlastname</th><th scope=col>gene_sz_soundname</th><th scope=col>limit_i_acceleration</th><th scope=col>limit_i_baroudeur</th><th scope=col>limit_i_cobble</th><th scope=col>limit_i_downhilling</th><th scope=col>limit_i_endurance</th><th scope=col>limit_i_hill</th><th scope=col>limit_i_mountain</th><th scope=col>limit_i_plain</th><th scope=col>limit_i_prologue</th><th scope=col>limit_i_recuperation</th><th scope=col>limit_i_resistance</th><th scope=col>limit_i_sprint</th><th scope=col>limit_i_timetrial</th><th scope=col>prerace_i_cyclist</th><th scope=col>race_b_withdrawal</th><th scope=col>value_i_potentiel</th><th scope=col>value_i_rank_voted</th></tr></thead>\n",
       "<tbody>\n",
       "\t<tr><th scope=row>22453</th><td>  52                      </td><td>powless neilson           </td><td>EF Education-NIPPO        </td><td>                          </td><td>37494                     </td><td>USA                       </td><td>EF Education-NIPPO-11-2021</td><td>2021                      </td><td>11                        </td><td>NA                        </td><td>5793                      </td><td>Mountain                  </td><td>TDF                       </td><td>70                        </td><td>75                        </td><td>19960903                  </td><td>64                        </td><td>                          </td><td>71                        </td><td>70                        </td><td>73                        </td><td>Powless                   </td><td>Neilson                   </td><td>74                        </td><td>75                        </td><td>NA                        </td><td>Powless N.                </td><td>72                        </td><td>30                        </td><td>71                        </td><td>74                        </td><td>604                       </td><td>69                        </td><td>183                       </td><td>73                        </td><td>67                        </td><td>0                         </td><td>3                         </td><td>0                         </td><td>0                         </td><td>0                         </td><td>0                         </td><td>0                         </td><td>0                         </td><td>0                         </td><td>2                         </td><td>0                         </td><td>0                         </td><td>0                         </td><td>0                         </td><td>0                         </td><td>  0                       </td><td>0                         </td><td>0                         </td><td>0                         </td><td>0                         </td><td>0                         </td><td>                          </td><td>Powless N.                </td><td>                          </td><td>0                         </td><td>0                         </td><td>0                         </td><td>0                         </td><td>0                         </td><td>0                         </td><td>0                         </td><td>0                         </td><td>0                         </td><td>0                         </td><td>0                         </td><td>0                         </td><td>0                         </td><td>0                         </td><td>0                         </td><td>6                         </td><td>0                         </td></tr>\n",
       "\t<tr><th scope=row>22454</th><td>  13                      </td><td>powless neilson           </td><td>EF Education-NIPPO        </td><td>+ 03:00                   </td><td>37494                     </td><td>USA                       </td><td>EF Education-NIPPO-15-2021</td><td>2021                      </td><td>15                        </td><td>NA                        </td><td>5793                      </td><td>Mountain                  </td><td>TDF                       </td><td>70                        </td><td>75                        </td><td>19960903                  </td><td>64                        </td><td>                          </td><td>71                        </td><td>70                        </td><td>73                        </td><td>Powless                   </td><td>Neilson                   </td><td>74                        </td><td>75                        </td><td>NA                        </td><td>Powless N.                </td><td>72                        </td><td>30                        </td><td>71                        </td><td>74                        </td><td>604                       </td><td>69                        </td><td>183                       </td><td>73                        </td><td>67                        </td><td>0                         </td><td>3                         </td><td>0                         </td><td>0                         </td><td>0                         </td><td>0                         </td><td>0                         </td><td>0                         </td><td>0                         </td><td>2                         </td><td>0                         </td><td>0                         </td><td>0                         </td><td>0                         </td><td>0                         </td><td>  0                       </td><td>0                         </td><td>0                         </td><td>0                         </td><td>0                         </td><td>0                         </td><td>                          </td><td>Powless N.                </td><td>                          </td><td>0                         </td><td>0                         </td><td>0                         </td><td>0                         </td><td>0                         </td><td>0                         </td><td>0                         </td><td>0                         </td><td>0                         </td><td>0                         </td><td>0                         </td><td>0                         </td><td>0                         </td><td>0                         </td><td>0                         </td><td>6                         </td><td>0                         </td></tr>\n",
       "\t<tr><th scope=row>22455</th><td>  96                      </td><td>powless neilson           </td><td>EF Education-NIPPO        </td><td>                          </td><td>37494                     </td><td>USA                       </td><td>EF Education-NIPPO-17-2021</td><td>2021                      </td><td>17                        </td><td>NA                        </td><td>5793                      </td><td>Mountain                  </td><td>TDF                       </td><td>70                        </td><td>75                        </td><td>19960903                  </td><td>64                        </td><td>                          </td><td>71                        </td><td>70                        </td><td>73                        </td><td>Powless                   </td><td>Neilson                   </td><td>74                        </td><td>75                        </td><td>NA                        </td><td>Powless N.                </td><td>72                        </td><td>30                        </td><td>71                        </td><td>74                        </td><td>604                       </td><td>69                        </td><td>183                       </td><td>73                        </td><td>67                        </td><td>0                         </td><td>3                         </td><td>0                         </td><td>0                         </td><td>0                         </td><td>0                         </td><td>0                         </td><td>0                         </td><td>0                         </td><td>2                         </td><td>0                         </td><td>0                         </td><td>0                         </td><td>0                         </td><td>0                         </td><td>  0                       </td><td>0                         </td><td>0                         </td><td>0                         </td><td>0                         </td><td>0                         </td><td>                          </td><td>Powless N.                </td><td>                          </td><td>0                         </td><td>0                         </td><td>0                         </td><td>0                         </td><td>0                         </td><td>0                         </td><td>0                         </td><td>0                         </td><td>0                         </td><td>0                         </td><td>0                         </td><td>0                         </td><td>0                         </td><td>0                         </td><td>0                         </td><td>6                         </td><td>0                         </td></tr>\n",
       "\t<tr><th scope=row>22456</th><td>  44                      </td><td>powless neilson           </td><td>EF Education-NIPPO        </td><td>                          </td><td>37494                     </td><td>USA                       </td><td>EF Education-NIPPO-18-2021</td><td>2021                      </td><td>18                        </td><td>NA                        </td><td>5793                      </td><td>Mountain                  </td><td>TDF                       </td><td>70                        </td><td>75                        </td><td>19960903                  </td><td>64                        </td><td>                          </td><td>71                        </td><td>70                        </td><td>73                        </td><td>Powless                   </td><td>Neilson                   </td><td>74                        </td><td>75                        </td><td>NA                        </td><td>Powless N.                </td><td>72                        </td><td>30                        </td><td>71                        </td><td>74                        </td><td>604                       </td><td>69                        </td><td>183                       </td><td>73                        </td><td>67                        </td><td>0                         </td><td>3                         </td><td>0                         </td><td>0                         </td><td>0                         </td><td>0                         </td><td>0                         </td><td>0                         </td><td>0                         </td><td>2                         </td><td>0                         </td><td>0                         </td><td>0                         </td><td>0                         </td><td>0                         </td><td>  0                       </td><td>0                         </td><td>0                         </td><td>0                         </td><td>0                         </td><td>0                         </td><td>                          </td><td>Powless N.                </td><td>                          </td><td>0                         </td><td>0                         </td><td>0                         </td><td>0                         </td><td>0                         </td><td>0                         </td><td>0                         </td><td>0                         </td><td>0                         </td><td>0                         </td><td>0                         </td><td>0                         </td><td>0                         </td><td>0                         </td><td>0                         </td><td>6                         </td><td>0                         </td></tr>\n",
       "\t<tr><th scope=row>22457</th><td> 177                      </td><td>demare arnaud             </td><td>Groupama-FDJ              </td><td>                          </td><td> 2337                     </td><td>FRA                       </td><td>Groupama-FDJ-8-2021       </td><td>2021                      </td><td> 8                        </td><td>NA                        </td><td>2544                      </td><td>Mountain                  </td><td>TDF                       </td><td>79                        </td><td>66                        </td><td>19910826                  </td><td>75                        </td><td>                          </td><td>78                        </td><td>77                        </td><td>79                        </td><td>Démare                    </td><td>Arnaud                    </td><td>69                        </td><td>64                        </td><td>NA                        </td><td>Démare A.                 </td><td>75                        </td><td>80                        </td><td>79                        </td><td>79                        </td><td>319                       </td><td>81                        </td><td>182                       </td><td>71                        </td><td>78                        </td><td>0                         </td><td>3                         </td><td>0                         </td><td>0                         </td><td>0                         </td><td>0                         </td><td>0                         </td><td>0                         </td><td>0                         </td><td>4                         </td><td>0                         </td><td>0                         </td><td>0                         </td><td>0                         </td><td>0                         </td><td>130                       </td><td>0                         </td><td>0                         </td><td>0                         </td><td>0                         </td><td>0                         </td><td>25|133|135                </td><td>Démare A.                 </td><td>demare_arnaud             </td><td>0                         </td><td>0                         </td><td>0                         </td><td>0                         </td><td>0                         </td><td>0                         </td><td>0                         </td><td>0                         </td><td>0                         </td><td>0                         </td><td>0                         </td><td>0                         </td><td>0                         </td><td>0                         </td><td>0                         </td><td>6                         </td><td>0                         </td></tr>\n",
       "\t<tr><th scope=row>22458</th><td>1000                      </td><td>demare arnaud             </td><td>Groupama-FDJ              </td><td>                          </td><td> 2337                     </td><td>FRA                       </td><td>Groupama-FDJ-9-2021       </td><td>2021                      </td><td> 9                        </td><td>NA                        </td><td>2544                      </td><td>Mountain                  </td><td>TDF                       </td><td>79                        </td><td>66                        </td><td>19910826                  </td><td>75                        </td><td>                          </td><td>78                        </td><td>77                        </td><td>79                        </td><td>Démare                    </td><td>Arnaud                    </td><td>69                        </td><td>64                        </td><td>NA                        </td><td>Démare A.                 </td><td>75                        </td><td>80                        </td><td>79                        </td><td>79                        </td><td>319                       </td><td>81                        </td><td>182                       </td><td>71                        </td><td>78                        </td><td>0                         </td><td>3                         </td><td>0                         </td><td>0                         </td><td>0                         </td><td>0                         </td><td>0                         </td><td>0                         </td><td>0                         </td><td>4                         </td><td>0                         </td><td>0                         </td><td>0                         </td><td>0                         </td><td>0                         </td><td>130                       </td><td>0                         </td><td>0                         </td><td>0                         </td><td>0                         </td><td>0                         </td><td>25|133|135                </td><td>Démare A.                 </td><td>demare_arnaud             </td><td>0                         </td><td>0                         </td><td>0                         </td><td>0                         </td><td>0                         </td><td>0                         </td><td>0                         </td><td>0                         </td><td>0                         </td><td>0                         </td><td>0                         </td><td>0                         </td><td>0                         </td><td>0                         </td><td>0                         </td><td>6                         </td><td>0                         </td></tr>\n",
       "</tbody>\n",
       "</table>\n"
      ],
      "text/latex": [
       "\\begin{tabular}{r|lllllllllllllllllllllllllllllllllllllllllllllllllllllllllllllllllllllllllllll}\n",
       "  & Pos & Rider & Team & Time & Rider\\_ID & Rider\\_Country & Team\\_ID & Year & Stage & UCI & ID & Stage.Type & Race & ACCELERATION & ATTACK & Birthday & COBBLES & CONSTANT & DOWNHILL & ENDURANCE & FLAT & Family.Name & Given.Name & HILL & MOUNTAIN & Match & Name & PROLOGUE & Popularity & RECUP & RESISTANCE & Region & SPRINT & Size & TT & Weight & fitness\\_i\\_handicap & fkIDcyclist\\_state & fkIDinjury & fkIDrace & fkIDstaff\\_physician & fkIDstaff\\_trainer & fkIDstate\\_roster & fkIDtga\\_skin & fkIDtraining\\_camp & fkIDtype\\_rider & gene\\_b\\_inshortlist & gene\\_b\\_nominated & gene\\_b\\_selected\\_in\\_roster & gene\\_b\\_will\\_retire & gene\\_f\\_popularity\\_max & gene\\_i\\_champion\\_bit & gene\\_i\\_date\\_last\\_breakaway & gene\\_i\\_date\\_last\\_punchers & gene\\_i\\_day\\_progression & gene\\_i\\_dossard & gene\\_i\\_year\\_progression & gene\\_ilist\\_fkIDfavorite\\_races & gene\\_sz\\_firstlastname & gene\\_sz\\_soundname & limit\\_i\\_acceleration & limit\\_i\\_baroudeur & limit\\_i\\_cobble & limit\\_i\\_downhilling & limit\\_i\\_endurance & limit\\_i\\_hill & limit\\_i\\_mountain & limit\\_i\\_plain & limit\\_i\\_prologue & limit\\_i\\_recuperation & limit\\_i\\_resistance & limit\\_i\\_sprint & limit\\_i\\_timetrial & prerace\\_i\\_cyclist & race\\_b\\_withdrawal & value\\_i\\_potentiel & value\\_i\\_rank\\_voted\\\\\n",
       "\\hline\n",
       "\t22453 &   52                       & powless neilson            & EF Education-NIPPO         &                            & 37494                      & USA                        & EF Education-NIPPO-11-2021 & 2021                       & 11                         & NA                         & 5793                       & Mountain                   & TDF                        & 70                         & 75                         & 19960903                   & 64                         &                            & 71                         & 70                         & 73                         & Powless                    & Neilson                    & 74                         & 75                         & NA                         & Powless N.                 & 72                         & 30                         & 71                         & 74                         & 604                        & 69                         & 183                        & 73                         & 67                         & 0                          & 3                          & 0                          & 0                          & 0                          & 0                          & 0                          & 0                          & 0                          & 2                          & 0                          & 0                          & 0                          & 0                          & 0                          &   0                        & 0                          & 0                          & 0                          & 0                          & 0                          &                            & Powless N.                 &                            & 0                          & 0                          & 0                          & 0                          & 0                          & 0                          & 0                          & 0                          & 0                          & 0                          & 0                          & 0                          & 0                          & 0                          & 0                          & 6                          & 0                         \\\\\n",
       "\t22454 &   13                       & powless neilson            & EF Education-NIPPO         & + 03:00                    & 37494                      & USA                        & EF Education-NIPPO-15-2021 & 2021                       & 15                         & NA                         & 5793                       & Mountain                   & TDF                        & 70                         & 75                         & 19960903                   & 64                         &                            & 71                         & 70                         & 73                         & Powless                    & Neilson                    & 74                         & 75                         & NA                         & Powless N.                 & 72                         & 30                         & 71                         & 74                         & 604                        & 69                         & 183                        & 73                         & 67                         & 0                          & 3                          & 0                          & 0                          & 0                          & 0                          & 0                          & 0                          & 0                          & 2                          & 0                          & 0                          & 0                          & 0                          & 0                          &   0                        & 0                          & 0                          & 0                          & 0                          & 0                          &                            & Powless N.                 &                            & 0                          & 0                          & 0                          & 0                          & 0                          & 0                          & 0                          & 0                          & 0                          & 0                          & 0                          & 0                          & 0                          & 0                          & 0                          & 6                          & 0                         \\\\\n",
       "\t22455 &   96                       & powless neilson            & EF Education-NIPPO         &                            & 37494                      & USA                        & EF Education-NIPPO-17-2021 & 2021                       & 17                         & NA                         & 5793                       & Mountain                   & TDF                        & 70                         & 75                         & 19960903                   & 64                         &                            & 71                         & 70                         & 73                         & Powless                    & Neilson                    & 74                         & 75                         & NA                         & Powless N.                 & 72                         & 30                         & 71                         & 74                         & 604                        & 69                         & 183                        & 73                         & 67                         & 0                          & 3                          & 0                          & 0                          & 0                          & 0                          & 0                          & 0                          & 0                          & 2                          & 0                          & 0                          & 0                          & 0                          & 0                          &   0                        & 0                          & 0                          & 0                          & 0                          & 0                          &                            & Powless N.                 &                            & 0                          & 0                          & 0                          & 0                          & 0                          & 0                          & 0                          & 0                          & 0                          & 0                          & 0                          & 0                          & 0                          & 0                          & 0                          & 6                          & 0                         \\\\\n",
       "\t22456 &   44                       & powless neilson            & EF Education-NIPPO         &                            & 37494                      & USA                        & EF Education-NIPPO-18-2021 & 2021                       & 18                         & NA                         & 5793                       & Mountain                   & TDF                        & 70                         & 75                         & 19960903                   & 64                         &                            & 71                         & 70                         & 73                         & Powless                    & Neilson                    & 74                         & 75                         & NA                         & Powless N.                 & 72                         & 30                         & 71                         & 74                         & 604                        & 69                         & 183                        & 73                         & 67                         & 0                          & 3                          & 0                          & 0                          & 0                          & 0                          & 0                          & 0                          & 0                          & 2                          & 0                          & 0                          & 0                          & 0                          & 0                          &   0                        & 0                          & 0                          & 0                          & 0                          & 0                          &                            & Powless N.                 &                            & 0                          & 0                          & 0                          & 0                          & 0                          & 0                          & 0                          & 0                          & 0                          & 0                          & 0                          & 0                          & 0                          & 0                          & 0                          & 6                          & 0                         \\\\\n",
       "\t22457 &  177                           & demare arnaud                  & Groupama-FDJ                   &                                &  2337                          & FRA                            & Groupama-FDJ-8-2021            & 2021                           &  8                             & NA                             & 2544                           & Mountain                       & TDF                            & 79                             & 66                             & 19910826                       & 75                             &                                & 78                             & 77                             & 79                             & Démare                         & Arnaud                         & 69                             & 64                             & NA                             & Démare A.                      & 75                             & 80                             & 79                             & 79                             & 319                            & 81                             & 182                            & 71                             & 78                             & 0                              & 3                              & 0                              & 0                              & 0                              & 0                              & 0                              & 0                              & 0                              & 4                              & 0                              & 0                              & 0                              & 0                              & 0                              & 130                            & 0                              & 0                              & 0                              & 0                              & 0                              & 25\\textbar{}133\\textbar{}135 & Démare A.                      & demare\\_arnaud                & 0                              & 0                              & 0                              & 0                              & 0                              & 0                              & 0                              & 0                              & 0                              & 0                              & 0                              & 0                              & 0                              & 0                              & 0                              & 6                              & 0                             \\\\\n",
       "\t22458 & 1000                           & demare arnaud                  & Groupama-FDJ                   &                                &  2337                          & FRA                            & Groupama-FDJ-9-2021            & 2021                           &  9                             & NA                             & 2544                           & Mountain                       & TDF                            & 79                             & 66                             & 19910826                       & 75                             &                                & 78                             & 77                             & 79                             & Démare                         & Arnaud                         & 69                             & 64                             & NA                             & Démare A.                      & 75                             & 80                             & 79                             & 79                             & 319                            & 81                             & 182                            & 71                             & 78                             & 0                              & 3                              & 0                              & 0                              & 0                              & 0                              & 0                              & 0                              & 0                              & 4                              & 0                              & 0                              & 0                              & 0                              & 0                              & 130                            & 0                              & 0                              & 0                              & 0                              & 0                              & 25\\textbar{}133\\textbar{}135 & Démare A.                      & demare\\_arnaud                & 0                              & 0                              & 0                              & 0                              & 0                              & 0                              & 0                              & 0                              & 0                              & 0                              & 0                              & 0                              & 0                              & 0                              & 0                              & 6                              & 0                             \\\\\n",
       "\\end{tabular}\n"
      ],
      "text/markdown": [
       "\n",
       "| <!--/--> | Pos | Rider | Team | Time | Rider_ID | Rider_Country | Team_ID | Year | Stage | UCI | ID | Stage.Type | Race | ACCELERATION | ATTACK | Birthday | COBBLES | CONSTANT | DOWNHILL | ENDURANCE | FLAT | Family.Name | Given.Name | HILL | MOUNTAIN | Match | Name | PROLOGUE | Popularity | RECUP | RESISTANCE | Region | SPRINT | Size | TT | Weight | fitness_i_handicap | fkIDcyclist_state | fkIDinjury | fkIDrace | fkIDstaff_physician | fkIDstaff_trainer | fkIDstate_roster | fkIDtga_skin | fkIDtraining_camp | fkIDtype_rider | gene_b_inshortlist | gene_b_nominated | gene_b_selected_in_roster | gene_b_will_retire | gene_f_popularity_max | gene_i_champion_bit | gene_i_date_last_breakaway | gene_i_date_last_punchers | gene_i_day_progression | gene_i_dossard | gene_i_year_progression | gene_ilist_fkIDfavorite_races | gene_sz_firstlastname | gene_sz_soundname | limit_i_acceleration | limit_i_baroudeur | limit_i_cobble | limit_i_downhilling | limit_i_endurance | limit_i_hill | limit_i_mountain | limit_i_plain | limit_i_prologue | limit_i_recuperation | limit_i_resistance | limit_i_sprint | limit_i_timetrial | prerace_i_cyclist | race_b_withdrawal | value_i_potentiel | value_i_rank_voted |\n",
       "|---|---|---|---|---|---|---|---|---|---|---|---|---|---|---|---|---|---|---|---|---|---|---|---|---|---|---|---|---|---|---|---|---|---|---|---|---|---|---|---|---|---|---|---|---|---|---|---|---|---|---|---|---|---|---|---|---|---|---|---|---|---|---|---|---|---|---|---|---|---|---|---|---|---|---|---|---|---|\n",
       "| 22453 |   52                       | powless neilson            | EF Education-NIPPO         |                            | 37494                      | USA                        | EF Education-NIPPO-11-2021 | 2021                       | 11                         | NA                         | 5793                       | Mountain                   | TDF                        | 70                         | 75                         | 19960903                   | 64                         |                            | 71                         | 70                         | 73                         | Powless                    | Neilson                    | 74                         | 75                         | NA                         | Powless N.                 | 72                         | 30                         | 71                         | 74                         | 604                        | 69                         | 183                        | 73                         | 67                         | 0                          | 3                          | 0                          | 0                          | 0                          | 0                          | 0                          | 0                          | 0                          | 2                          | 0                          | 0                          | 0                          | 0                          | 0                          |   0                        | 0                          | 0                          | 0                          | 0                          | 0                          |                            | Powless N.                 |                            | 0                          | 0                          | 0                          | 0                          | 0                          | 0                          | 0                          | 0                          | 0                          | 0                          | 0                          | 0                          | 0                          | 0                          | 0                          | 6                          | 0                          |\n",
       "| 22454 |   13                       | powless neilson            | EF Education-NIPPO         | + 03:00                    | 37494                      | USA                        | EF Education-NIPPO-15-2021 | 2021                       | 15                         | NA                         | 5793                       | Mountain                   | TDF                        | 70                         | 75                         | 19960903                   | 64                         |                            | 71                         | 70                         | 73                         | Powless                    | Neilson                    | 74                         | 75                         | NA                         | Powless N.                 | 72                         | 30                         | 71                         | 74                         | 604                        | 69                         | 183                        | 73                         | 67                         | 0                          | 3                          | 0                          | 0                          | 0                          | 0                          | 0                          | 0                          | 0                          | 2                          | 0                          | 0                          | 0                          | 0                          | 0                          |   0                        | 0                          | 0                          | 0                          | 0                          | 0                          |                            | Powless N.                 |                            | 0                          | 0                          | 0                          | 0                          | 0                          | 0                          | 0                          | 0                          | 0                          | 0                          | 0                          | 0                          | 0                          | 0                          | 0                          | 6                          | 0                          |\n",
       "| 22455 |   96                       | powless neilson            | EF Education-NIPPO         |                            | 37494                      | USA                        | EF Education-NIPPO-17-2021 | 2021                       | 17                         | NA                         | 5793                       | Mountain                   | TDF                        | 70                         | 75                         | 19960903                   | 64                         |                            | 71                         | 70                         | 73                         | Powless                    | Neilson                    | 74                         | 75                         | NA                         | Powless N.                 | 72                         | 30                         | 71                         | 74                         | 604                        | 69                         | 183                        | 73                         | 67                         | 0                          | 3                          | 0                          | 0                          | 0                          | 0                          | 0                          | 0                          | 0                          | 2                          | 0                          | 0                          | 0                          | 0                          | 0                          |   0                        | 0                          | 0                          | 0                          | 0                          | 0                          |                            | Powless N.                 |                            | 0                          | 0                          | 0                          | 0                          | 0                          | 0                          | 0                          | 0                          | 0                          | 0                          | 0                          | 0                          | 0                          | 0                          | 0                          | 6                          | 0                          |\n",
       "| 22456 |   44                       | powless neilson            | EF Education-NIPPO         |                            | 37494                      | USA                        | EF Education-NIPPO-18-2021 | 2021                       | 18                         | NA                         | 5793                       | Mountain                   | TDF                        | 70                         | 75                         | 19960903                   | 64                         |                            | 71                         | 70                         | 73                         | Powless                    | Neilson                    | 74                         | 75                         | NA                         | Powless N.                 | 72                         | 30                         | 71                         | 74                         | 604                        | 69                         | 183                        | 73                         | 67                         | 0                          | 3                          | 0                          | 0                          | 0                          | 0                          | 0                          | 0                          | 0                          | 2                          | 0                          | 0                          | 0                          | 0                          | 0                          |   0                        | 0                          | 0                          | 0                          | 0                          | 0                          |                            | Powless N.                 |                            | 0                          | 0                          | 0                          | 0                          | 0                          | 0                          | 0                          | 0                          | 0                          | 0                          | 0                          | 0                          | 0                          | 0                          | 0                          | 6                          | 0                          |\n",
       "| 22457 |  177                       | demare arnaud              | Groupama-FDJ               |                            |  2337                      | FRA                        | Groupama-FDJ-8-2021        | 2021                       |  8                         | NA                         | 2544                       | Mountain                   | TDF                        | 79                         | 66                         | 19910826                   | 75                         |                            | 78                         | 77                         | 79                         | Démare                     | Arnaud                     | 69                         | 64                         | NA                         | Démare A.                  | 75                         | 80                         | 79                         | 79                         | 319                        | 81                         | 182                        | 71                         | 78                         | 0                          | 3                          | 0                          | 0                          | 0                          | 0                          | 0                          | 0                          | 0                          | 4                          | 0                          | 0                          | 0                          | 0                          | 0                          | 130                        | 0                          | 0                          | 0                          | 0                          | 0                          | 25|133|135                 | Démare A.                  | demare_arnaud              | 0                          | 0                          | 0                          | 0                          | 0                          | 0                          | 0                          | 0                          | 0                          | 0                          | 0                          | 0                          | 0                          | 0                          | 0                          | 6                          | 0                          |\n",
       "| 22458 | 1000                       | demare arnaud              | Groupama-FDJ               |                            |  2337                      | FRA                        | Groupama-FDJ-9-2021        | 2021                       |  9                         | NA                         | 2544                       | Mountain                   | TDF                        | 79                         | 66                         | 19910826                   | 75                         |                            | 78                         | 77                         | 79                         | Démare                     | Arnaud                     | 69                         | 64                         | NA                         | Démare A.                  | 75                         | 80                         | 79                         | 79                         | 319                        | 81                         | 182                        | 71                         | 78                         | 0                          | 3                          | 0                          | 0                          | 0                          | 0                          | 0                          | 0                          | 0                          | 4                          | 0                          | 0                          | 0                          | 0                          | 0                          | 130                        | 0                          | 0                          | 0                          | 0                          | 0                          | 25|133|135                 | Démare A.                  | demare_arnaud              | 0                          | 0                          | 0                          | 0                          | 0                          | 0                          | 0                          | 0                          | 0                          | 0                          | 0                          | 0                          | 0                          | 0                          | 0                          | 6                          | 0                          |\n",
       "\n"
      ],
      "text/plain": [
       "      Pos  Rider           Team               Time    Rider_ID Rider_Country\n",
       "22453   52 powless neilson EF Education-NIPPO         37494    USA          \n",
       "22454   13 powless neilson EF Education-NIPPO + 03:00 37494    USA          \n",
       "22455   96 powless neilson EF Education-NIPPO         37494    USA          \n",
       "22456   44 powless neilson EF Education-NIPPO         37494    USA          \n",
       "22457  177 demare arnaud   Groupama-FDJ                2337    FRA          \n",
       "22458 1000 demare arnaud   Groupama-FDJ                2337    FRA          \n",
       "      Team_ID                    Year Stage UCI ID   Stage.Type Race\n",
       "22453 EF Education-NIPPO-11-2021 2021 11    NA  5793 Mountain   TDF \n",
       "22454 EF Education-NIPPO-15-2021 2021 15    NA  5793 Mountain   TDF \n",
       "22455 EF Education-NIPPO-17-2021 2021 17    NA  5793 Mountain   TDF \n",
       "22456 EF Education-NIPPO-18-2021 2021 18    NA  5793 Mountain   TDF \n",
       "22457 Groupama-FDJ-8-2021        2021  8    NA  2544 Mountain   TDF \n",
       "22458 Groupama-FDJ-9-2021        2021  9    NA  2544 Mountain   TDF \n",
       "      ACCELERATION ATTACK Birthday COBBLES CONSTANT DOWNHILL ENDURANCE FLAT\n",
       "22453 70           75     19960903 64               71       70        73  \n",
       "22454 70           75     19960903 64               71       70        73  \n",
       "22455 70           75     19960903 64               71       70        73  \n",
       "22456 70           75     19960903 64               71       70        73  \n",
       "22457 79           66     19910826 75               78       77        79  \n",
       "22458 79           66     19910826 75               78       77        79  \n",
       "      Family.Name Given.Name HILL MOUNTAIN Match Name       PROLOGUE Popularity\n",
       "22453 Powless     Neilson    74   75       NA    Powless N. 72       30        \n",
       "22454 Powless     Neilson    74   75       NA    Powless N. 72       30        \n",
       "22455 Powless     Neilson    74   75       NA    Powless N. 72       30        \n",
       "22456 Powless     Neilson    74   75       NA    Powless N. 72       30        \n",
       "22457 Démare      Arnaud     69   64       NA    Démare A.  75       80        \n",
       "22458 Démare      Arnaud     69   64       NA    Démare A.  75       80        \n",
       "      RECUP RESISTANCE Region SPRINT Size TT Weight fitness_i_handicap\n",
       "22453 71    74         604    69     183  73 67     0                 \n",
       "22454 71    74         604    69     183  73 67     0                 \n",
       "22455 71    74         604    69     183  73 67     0                 \n",
       "22456 71    74         604    69     183  73 67     0                 \n",
       "22457 79    79         319    81     182  71 78     0                 \n",
       "22458 79    79         319    81     182  71 78     0                 \n",
       "      fkIDcyclist_state fkIDinjury fkIDrace fkIDstaff_physician\n",
       "22453 3                 0          0        0                  \n",
       "22454 3                 0          0        0                  \n",
       "22455 3                 0          0        0                  \n",
       "22456 3                 0          0        0                  \n",
       "22457 3                 0          0        0                  \n",
       "22458 3                 0          0        0                  \n",
       "      fkIDstaff_trainer fkIDstate_roster fkIDtga_skin fkIDtraining_camp\n",
       "22453 0                 0                0            0                \n",
       "22454 0                 0                0            0                \n",
       "22455 0                 0                0            0                \n",
       "22456 0                 0                0            0                \n",
       "22457 0                 0                0            0                \n",
       "22458 0                 0                0            0                \n",
       "      fkIDtype_rider gene_b_inshortlist gene_b_nominated\n",
       "22453 2              0                  0               \n",
       "22454 2              0                  0               \n",
       "22455 2              0                  0               \n",
       "22456 2              0                  0               \n",
       "22457 4              0                  0               \n",
       "22458 4              0                  0               \n",
       "      gene_b_selected_in_roster gene_b_will_retire gene_f_popularity_max\n",
       "22453 0                         0                  0                    \n",
       "22454 0                         0                  0                    \n",
       "22455 0                         0                  0                    \n",
       "22456 0                         0                  0                    \n",
       "22457 0                         0                  0                    \n",
       "22458 0                         0                  0                    \n",
       "      gene_i_champion_bit gene_i_date_last_breakaway gene_i_date_last_punchers\n",
       "22453   0                 0                          0                        \n",
       "22454   0                 0                          0                        \n",
       "22455   0                 0                          0                        \n",
       "22456   0                 0                          0                        \n",
       "22457 130                 0                          0                        \n",
       "22458 130                 0                          0                        \n",
       "      gene_i_day_progression gene_i_dossard gene_i_year_progression\n",
       "22453 0                      0              0                      \n",
       "22454 0                      0              0                      \n",
       "22455 0                      0              0                      \n",
       "22456 0                      0              0                      \n",
       "22457 0                      0              0                      \n",
       "22458 0                      0              0                      \n",
       "      gene_ilist_fkIDfavorite_races gene_sz_firstlastname gene_sz_soundname\n",
       "22453                               Powless N.                             \n",
       "22454                               Powless N.                             \n",
       "22455                               Powless N.                             \n",
       "22456                               Powless N.                             \n",
       "22457 25|133|135                    Démare A.             demare_arnaud    \n",
       "22458 25|133|135                    Démare A.             demare_arnaud    \n",
       "      limit_i_acceleration limit_i_baroudeur limit_i_cobble limit_i_downhilling\n",
       "22453 0                    0                 0              0                  \n",
       "22454 0                    0                 0              0                  \n",
       "22455 0                    0                 0              0                  \n",
       "22456 0                    0                 0              0                  \n",
       "22457 0                    0                 0              0                  \n",
       "22458 0                    0                 0              0                  \n",
       "      limit_i_endurance limit_i_hill limit_i_mountain limit_i_plain\n",
       "22453 0                 0            0                0            \n",
       "22454 0                 0            0                0            \n",
       "22455 0                 0            0                0            \n",
       "22456 0                 0            0                0            \n",
       "22457 0                 0            0                0            \n",
       "22458 0                 0            0                0            \n",
       "      limit_i_prologue limit_i_recuperation limit_i_resistance limit_i_sprint\n",
       "22453 0                0                    0                  0             \n",
       "22454 0                0                    0                  0             \n",
       "22455 0                0                    0                  0             \n",
       "22456 0                0                    0                  0             \n",
       "22457 0                0                    0                  0             \n",
       "22458 0                0                    0                  0             \n",
       "      limit_i_timetrial prerace_i_cyclist race_b_withdrawal value_i_potentiel\n",
       "22453 0                 0                 0                 6                \n",
       "22454 0                 0                 0                 6                \n",
       "22455 0                 0                 0                 6                \n",
       "22456 0                 0                 0                 6                \n",
       "22457 0                 0                 0                 6                \n",
       "22458 0                 0                 0                 6                \n",
       "      value_i_rank_voted\n",
       "22453 0                 \n",
       "22454 0                 \n",
       "22455 0                 \n",
       "22456 0                 \n",
       "22457 0                 \n",
       "22458 0                 "
      ]
     },
     "metadata": {},
     "output_type": "display_data"
    }
   ],
   "source": [
    "table = (read.csv(\"Data//Mountain_races_final2.csv\", sep = \";\"))\n",
    "tail(table)"
   ]
  },
  {
   "cell_type": "code",
   "execution_count": 232,
   "id": "a7970702",
   "metadata": {},
   "outputs": [],
   "source": [
    "table_train = table[table$Year<=2017,]"
   ]
  },
  {
   "cell_type": "code",
   "execution_count": 233,
   "id": "bfdaaa3c",
   "metadata": {},
   "outputs": [],
   "source": [
    "table_val = table[(table$Year>2017)&(table$Year<=2019) ,]"
   ]
  },
  {
   "cell_type": "code",
   "execution_count": 234,
   "id": "56b6fa90",
   "metadata": {},
   "outputs": [],
   "source": [
    "table_test = table[table$Year>2019,]"
   ]
  },
  {
   "cell_type": "code",
   "execution_count": 235,
   "id": "38f0a0d6",
   "metadata": {
    "scrolled": false
   },
   "outputs": [
    {
     "name": "stderr",
     "output_type": "stream",
     "text": [
      "`summarise()` has grouped output by 'Race', 'Year'. You can override using the `.groups` argument.\n"
     ]
    }
   ],
   "source": [
    "basetable_train = table_train %>% group_by(Race, Year,Team) %>% summarise(flat_mean = round(mean(FLAT))\n",
    "                                             , mountain_mean = round(mean(MOUNTAIN))\n",
    "                                            , downhill_mean = round(mean(DOWNHILL))\n",
    "                                            ,cobbles_mean = round(mean(COBBLES))\n",
    "                                            ,tt_mean = round(mean(TT)),\n",
    "                                            ,prologue_mean = round(mean(PROLOGUE))\n",
    "                                            ,sprint_mean = round(mean(SPRINT))\n",
    "                                            ,acceleration_mean = round(mean(ACCELERATION))\n",
    "                                            ,endurance_mean = round(mean(ENDURANCE))\n",
    "                                            ,resistance_mean = round(mean(RESISTANCE))\n",
    "                                            ,recup_mean = round(mean(RECUP))\n",
    "                                            ,hill_mean = round(mean(HILL))\n",
    "                                            ,attack_mean = round(mean(ATTACK))\n",
    "                                            \n",
    "                                            ,flat_max = round(max(FLAT))\n",
    "                                            ,mountain_max = round(max(MOUNTAIN))\n",
    "                                            ,downhill_max = round(max(DOWNHILL))\n",
    "                                            ,cobbles_max = round(max(COBBLES))\n",
    "                                            ,tt_max = round(max(TT)),\n",
    "                                            ,prologue_max = round(max(PROLOGUE))\n",
    "                                            ,sprint_max = round(max(SPRINT))\n",
    "                                            ,acceleration_max = round(max(ACCELERATION))\n",
    "                                            ,endurance_max = round(max(ENDURANCE))\n",
    "                                            ,resistance_max = round(max(RESISTANCE))\n",
    "                                            ,recup_max = round(max(RECUP))\n",
    "                                            ,hill_max = round(max(HILL))\n",
    "                                            ,attack_max = round(max(ATTACK))\n",
    "                                            \n",
    "                                            ,flat_min = round(min(FLAT))\n",
    "                                            ,mountain_min = round(min(MOUNTAIN))\n",
    "                                            ,downhill_min = round(min(DOWNHILL))\n",
    "                                            ,cobbles_min = round(min(COBBLES))\n",
    "                                            ,tt_min = round(min(TT)),\n",
    "                                            ,prologue_min = round(min(PROLOGUE))\n",
    "                                            ,sprint_min = round(min(SPRINT))\n",
    "                                            ,acceleration_min = round(min(ACCELERATION))\n",
    "                                            ,endurance_min = round(min(ENDURANCE))\n",
    "                                            ,resistance_min = round(min(RESISTANCE))\n",
    "                                            ,recup_min = round(min(RECUP))\n",
    "                                            ,hill_min = round(min(HILL))\n",
    "                                            ,attack_min = round(min(ATTACK))\n",
    "                                    \n",
    "                                            ,best_position = min(Pos))"
   ]
  },
  {
   "cell_type": "code",
   "execution_count": 236,
   "id": "4b6bb09e",
   "metadata": {
    "scrolled": false
   },
   "outputs": [
    {
     "name": "stderr",
     "output_type": "stream",
     "text": [
      "`summarise()` has grouped output by 'Race', 'Year'. You can override using the `.groups` argument.\n"
     ]
    }
   ],
   "source": [
    "basetable_val = table_val %>% group_by(Race, Year,Team) %>% summarise(flat_mean = round(mean(FLAT))\n",
    "                                             , mountain_mean = round(mean(MOUNTAIN))\n",
    "                                            , downhill_mean = round(mean(DOWNHILL))\n",
    "                                            ,cobbles_mean = round(mean(COBBLES))\n",
    "                                            ,tt_mean = round(mean(TT)),\n",
    "                                            ,prologue_mean = round(mean(PROLOGUE))\n",
    "                                            ,sprint_mean = round(mean(SPRINT))\n",
    "                                            ,acceleration_mean = round(mean(ACCELERATION))\n",
    "                                            ,endurance_mean = round(mean(ENDURANCE))\n",
    "                                            ,resistance_mean = round(mean(RESISTANCE))\n",
    "                                            ,recup_mean = round(mean(RECUP))\n",
    "                                            ,hill_mean = round(mean(HILL))\n",
    "                                            ,attack_mean = round(mean(ATTACK))\n",
    "                                            \n",
    "                                            ,flat_max = round(max(FLAT))\n",
    "                                            ,mountain_max = round(max(MOUNTAIN))\n",
    "                                            ,downhill_max = round(max(DOWNHILL))\n",
    "                                            ,cobbles_max = round(max(COBBLES))\n",
    "                                            ,tt_max = round(max(TT)),\n",
    "                                            ,prologue_max = round(max(PROLOGUE))\n",
    "                                            ,sprint_max = round(max(SPRINT))\n",
    "                                            ,acceleration_max = round(max(ACCELERATION))\n",
    "                                            ,endurance_max = round(max(ENDURANCE))\n",
    "                                            ,resistance_max = round(max(RESISTANCE))\n",
    "                                            ,recup_max = round(max(RECUP))\n",
    "                                            ,hill_max = round(max(HILL))\n",
    "                                            ,attack_max = round(max(ATTACK))\n",
    "                                            \n",
    "                                            ,flat_min = round(min(FLAT))\n",
    "                                            ,mountain_min = round(min(MOUNTAIN))\n",
    "                                            ,downhill_min = round(min(DOWNHILL))\n",
    "                                            ,cobbles_min = round(min(COBBLES))\n",
    "                                            ,tt_min = round(min(TT)),\n",
    "                                            ,prologue_min = round(min(PROLOGUE))\n",
    "                                            ,sprint_min = round(min(SPRINT))\n",
    "                                            ,acceleration_min = round(min(ACCELERATION))\n",
    "                                            ,endurance_min = round(min(ENDURANCE))\n",
    "                                            ,resistance_min = round(min(RESISTANCE))\n",
    "                                            ,recup_min = round(min(RECUP))\n",
    "                                            ,hill_min = round(min(HILL))\n",
    "                                            ,attack_min = round(min(ATTACK))\n",
    "                                    \n",
    "                                            ,best_position = min(Pos))"
   ]
  },
  {
   "cell_type": "code",
   "execution_count": 237,
   "id": "b8865020",
   "metadata": {
    "scrolled": false
   },
   "outputs": [
    {
     "name": "stderr",
     "output_type": "stream",
     "text": [
      "`summarise()` has grouped output by 'Race', 'Year'. You can override using the `.groups` argument.\n"
     ]
    }
   ],
   "source": [
    "basetable_test = table_test %>% group_by(Race, Year,Team) %>% summarise(flat_mean = round(mean(FLAT))\n",
    "                                             , mountain_mean = round(mean(MOUNTAIN))\n",
    "                                            , downhill_mean = round(mean(DOWNHILL))\n",
    "                                            ,cobbles_mean = round(mean(COBBLES))\n",
    "                                            ,tt_mean = round(mean(TT)),\n",
    "                                            ,prologue_mean = round(mean(PROLOGUE))\n",
    "                                            ,sprint_mean = round(mean(SPRINT))\n",
    "                                            ,acceleration_mean = round(mean(ACCELERATION))\n",
    "                                            ,endurance_mean = round(mean(ENDURANCE))\n",
    "                                            ,resistance_mean = round(mean(RESISTANCE))\n",
    "                                            ,recup_mean = round(mean(RECUP))\n",
    "                                            ,hill_mean = round(mean(HILL))\n",
    "                                            ,attack_mean = round(mean(ATTACK))\n",
    "                                            \n",
    "                                            ,flat_max = round(max(FLAT))\n",
    "                                            ,mountain_max = round(max(MOUNTAIN))\n",
    "                                            ,downhill_max = round(max(DOWNHILL))\n",
    "                                            ,cobbles_max = round(max(COBBLES))\n",
    "                                            ,tt_max = round(max(TT)),\n",
    "                                            ,prologue_max = round(max(PROLOGUE))\n",
    "                                            ,sprint_max = round(max(SPRINT))\n",
    "                                            ,acceleration_max = round(max(ACCELERATION))\n",
    "                                            ,endurance_max = round(max(ENDURANCE))\n",
    "                                            ,resistance_max = round(max(RESISTANCE))\n",
    "                                            ,recup_max = round(max(RECUP))\n",
    "                                            ,hill_max = round(max(HILL))\n",
    "                                            ,attack_max = round(max(ATTACK))\n",
    "                                            \n",
    "                                            ,flat_min = round(min(FLAT))\n",
    "                                            ,mountain_min = round(min(MOUNTAIN))\n",
    "                                            ,downhill_min = round(min(DOWNHILL))\n",
    "                                            ,cobbles_min = round(min(COBBLES))\n",
    "                                            ,tt_min = round(min(TT)),\n",
    "                                            ,prologue_min = round(min(PROLOGUE))\n",
    "                                            ,sprint_min = round(min(SPRINT))\n",
    "                                            ,acceleration_min = round(min(ACCELERATION))\n",
    "                                            ,endurance_min = round(min(ENDURANCE))\n",
    "                                            ,resistance_min = round(min(RESISTANCE))\n",
    "                                            ,recup_min = round(min(RECUP))\n",
    "                                            ,hill_min = round(min(HILL))\n",
    "                                            ,attack_min = round(min(ATTACK))\n",
    "                                    \n",
    "                                            ,best_position = min(Pos))"
   ]
  },
  {
   "cell_type": "code",
   "execution_count": 238,
   "id": "e70588ed",
   "metadata": {},
   "outputs": [],
   "source": [
    "basetable_train = (basetable_train)%>% drop_na()\n",
    "basetable_val = (basetable_val)%>% drop_na()\n",
    "basetable_test = (basetable_test)%>% drop_na()"
   ]
  },
  {
   "cell_type": "code",
   "execution_count": 239,
   "id": "07aa51ae",
   "metadata": {},
   "outputs": [],
   "source": [
    "basetable_train$Top10 = as.factor(ifelse(basetable_train$best_position <=10, 1,0))\n",
    "basetable_train$Top5 = as.factor(ifelse(basetable_train$best_position <=5, 1,0))\n",
    "basetable_train$Top4 = as.factor(ifelse(basetable_train$best_position <=4, 1,0))\n",
    "basetable_train$Top3 = as.factor(ifelse(basetable_train$best_position <=3, 1,0))"
   ]
  },
  {
   "cell_type": "code",
   "execution_count": 240,
   "id": "e7cc2d3f",
   "metadata": {},
   "outputs": [
    {
     "data": {
      "text/plain": [
       "\n",
       "  0   1 \n",
       " 73 231 "
      ]
     },
     "metadata": {},
     "output_type": "display_data"
    }
   ],
   "source": [
    "table(basetable_train$Top10)"
   ]
  },
  {
   "cell_type": "code",
   "execution_count": 241,
   "id": "cff0ad3e",
   "metadata": {},
   "outputs": [],
   "source": [
    "basetable_train$minutes_from_top = NULL\n",
    "basetable_train$best_position = NULL\n",
    "basetable_train$Team = NULL\n",
    "basetable_train$Year = NULL\n",
    "basetable_train$Stage = NULL\n",
    "basetable_train$Team_ID = NULL\n",
    "basetable_train$Race= NULL"
   ]
  },
  {
   "cell_type": "code",
   "execution_count": 242,
   "id": "77e0f3ef",
   "metadata": {},
   "outputs": [],
   "source": [
    "basetable_val$Top10 = as.factor(ifelse(basetable_val$best_position <=10, 1,0))\n",
    "basetable_val$Top5 = as.factor(ifelse(basetable_val$best_position <=5, 1,0))\n",
    "basetable_val$Top4 = as.factor(ifelse(basetable_val$best_position <=4, 1,0))\n",
    "basetable_val$Top3 = as.factor(ifelse(basetable_val$best_position <=3, 1,0))"
   ]
  },
  {
   "cell_type": "code",
   "execution_count": 243,
   "id": "9b006e33",
   "metadata": {},
   "outputs": [
    {
     "data": {
      "text/plain": [
       "\n",
       "  0   1 \n",
       " 32 102 "
      ]
     },
     "metadata": {},
     "output_type": "display_data"
    }
   ],
   "source": [
    "table(basetable_val$Top10)"
   ]
  },
  {
   "cell_type": "code",
   "execution_count": 244,
   "id": "baac4c98",
   "metadata": {},
   "outputs": [],
   "source": [
    "basetable_val$minutes_from_top = NULL\n",
    "basetable_val$best_position = NULL\n",
    "basetable_val$Team = NULL\n",
    "basetable_val$Year = NULL\n",
    "basetable_val$Stage = NULL\n",
    "basetable_val$Team_ID = NULL\n",
    "basetable_val$Race= NULL"
   ]
  },
  {
   "cell_type": "markdown",
   "id": "26d71240",
   "metadata": {},
   "source": [
    "# Prediction if finish in the top 5"
   ]
  },
  {
   "cell_type": "markdown",
   "id": "c77f8f0b",
   "metadata": {},
   "source": [
    "## Random Forest"
   ]
  },
  {
   "cell_type": "markdown",
   "id": "b7fd0bf4",
   "metadata": {},
   "source": [
    "## Tuning"
   ]
  },
  {
   "cell_type": "code",
   "execution_count": 156,
   "id": "e40577bc",
   "metadata": {
    "scrolled": true
   },
   "outputs": [
    {
     "name": "stdout",
     "output_type": "stream",
     "text": [
      "-0.03191489 1e-09 \n",
      "0.0106383 1e-09 \n",
      "0 1e-09 \n"
     ]
    },
    {
     "data": {
      "text/html": [
       "<table>\n",
       "<thead><tr><th></th><th scope=col>mtry</th><th scope=col>OOBError</th></tr></thead>\n",
       "<tbody>\n",
       "\t<tr><th scope=row>1.OOB</th><td>1        </td><td>0.3049180</td></tr>\n",
       "\t<tr><th scope=row>2.OOB</th><td>2        </td><td>0.3049180</td></tr>\n",
       "\t<tr><th scope=row>3.OOB</th><td>3        </td><td>0.3081967</td></tr>\n",
       "\t<tr><th scope=row>4.OOB</th><td>4        </td><td>0.3180328</td></tr>\n",
       "</tbody>\n",
       "</table>\n"
      ],
      "text/latex": [
       "\\begin{tabular}{r|ll}\n",
       "  & mtry & OOBError\\\\\n",
       "\\hline\n",
       "\t1.OOB & 1         & 0.3049180\\\\\n",
       "\t2.OOB & 2         & 0.3049180\\\\\n",
       "\t3.OOB & 3         & 0.3081967\\\\\n",
       "\t4.OOB & 4         & 0.3180328\\\\\n",
       "\\end{tabular}\n"
      ],
      "text/markdown": [
       "\n",
       "| <!--/--> | mtry | OOBError |\n",
       "|---|---|---|\n",
       "| 1.OOB | 1         | 0.3049180 |\n",
       "| 2.OOB | 2         | 0.3049180 |\n",
       "| 3.OOB | 3         | 0.3081967 |\n",
       "| 4.OOB | 4         | 0.3180328 |\n",
       "\n"
      ],
      "text/plain": [
       "      mtry OOBError \n",
       "1.OOB 1    0.3049180\n",
       "2.OOB 2    0.3049180\n",
       "3.OOB 3    0.3081967\n",
       "4.OOB 4    0.3180328"
      ]
     },
     "metadata": {},
     "output_type": "display_data"
    },
    {
     "data": {
      "image/png": "[encoded data removed]",
      "text/plain": [
       "plot without title"
      ]
     },
     "metadata": {},
     "output_type": "display_data"
    }
   ],
   "source": [
    "set.seed(123)\n",
    "m2 = tuneRF(basetable_train[,-(40:43)], basetable_train$Top10,mtryStart=3,step=0.9,ntreeTry = 1000,trace = FALSE,improve=0.000000001)\n",
    "m2"
   ]
  },
  {
   "cell_type": "code",
   "execution_count": 157,
   "id": "806350d0",
   "metadata": {},
   "outputs": [
    {
     "data": {
      "text/html": [
       "455"
      ],
      "text/latex": [
       "455"
      ],
      "text/markdown": [
       "455"
      ],
      "text/plain": [
       "[1] 455"
      ]
     },
     "metadata": {},
     "output_type": "display_data"
    }
   ],
   "source": [
    "# hyperparameter grid search\n",
    "hyper_grid <- expand.grid(\n",
    "   num_trees = c(1000),\n",
    "  mtry       = seq(1, 13, by = 1),\n",
    "  node_size  = seq(1, 13, by = 2),\n",
    "  sampe_size = c(.55, .632, .70,0.75,.80),\n",
    "  OOB_RMSE   = 0\n",
    " \n",
    ")\n",
    "nrow(hyper_grid)"
   ]
  },
  {
   "cell_type": "code",
   "execution_count": 158,
   "id": "0c9327e1",
   "metadata": {},
   "outputs": [],
   "source": [
    "for(i in 1:nrow(hyper_grid)) {\n",
    "  \n",
    "  # train model\n",
    "  model <- ranger(\n",
    "    x               = basetable_train[,-(40:43)], \n",
    "    y               = basetable_train$Top10, \n",
    "    num.trees       = hyper_grid$mtry[i],\n",
    "    mtry            = hyper_grid$mtry[i],\n",
    "    min.node.size   = hyper_grid$node_size[i],\n",
    "    sample.fraction = hyper_grid$sampe_size[i],\n",
    "    probability     = TRUE,\n",
    "    seed            = 123\n",
    "  )\n",
    "  \n",
    "  # add OOB error to grid\n",
    "  hyper_grid$OOB_RMSE[i] <- sqrt(model$prediction.error)\n",
    "}"
   ]
  },
  {
   "cell_type": "code",
   "execution_count": 159,
   "id": "077c1c13",
   "metadata": {
    "scrolled": true
   },
   "outputs": [
    {
     "data": {
      "text/html": [
       "<table>\n",
       "<thead><tr><th scope=col>num_trees</th><th scope=col>mtry</th><th scope=col>node_size</th><th scope=col>sampe_size</th><th scope=col>OOB_RMSE</th></tr></thead>\n",
       "<tbody>\n",
       "\t<tr><td>1000     </td><td> 8       </td><td>13       </td><td>0.750    </td><td>0.4649227</td></tr>\n",
       "\t<tr><td>1000     </td><td>12       </td><td>13       </td><td>0.750    </td><td>0.4663225</td></tr>\n",
       "\t<tr><td>1000     </td><td>11       </td><td>13       </td><td>0.632    </td><td>0.4679434</td></tr>\n",
       "\t<tr><td>1000     </td><td> 8       </td><td>11       </td><td>0.750    </td><td>0.4679802</td></tr>\n",
       "\t<tr><td>1000     </td><td>13       </td><td> 5       </td><td>0.800    </td><td>0.4688233</td></tr>\n",
       "\t<tr><td>1000     </td><td>12       </td><td> 7       </td><td>0.550    </td><td>0.4694210</td></tr>\n",
       "\t<tr><td>1000     </td><td>13       </td><td> 1       </td><td>0.800    </td><td>0.4715967</td></tr>\n",
       "\t<tr><td>1000     </td><td>11       </td><td>11       </td><td>0.632    </td><td>0.4717581</td></tr>\n",
       "\t<tr><td>1000     </td><td>10       </td><td>13       </td><td>0.750    </td><td>0.4721002</td></tr>\n",
       "\t<tr><td>1000     </td><td> 8       </td><td> 7       </td><td>0.750    </td><td>0.4728764</td></tr>\n",
       "</tbody>\n",
       "</table>\n"
      ],
      "text/latex": [
       "\\begin{tabular}{r|lllll}\n",
       " num\\_trees & mtry & node\\_size & sampe\\_size & OOB\\_RMSE\\\\\n",
       "\\hline\n",
       "\t 1000      &  8        & 13        & 0.750     & 0.4649227\\\\\n",
       "\t 1000      & 12        & 13        & 0.750     & 0.4663225\\\\\n",
       "\t 1000      & 11        & 13        & 0.632     & 0.4679434\\\\\n",
       "\t 1000      &  8        & 11        & 0.750     & 0.4679802\\\\\n",
       "\t 1000      & 13        &  5        & 0.800     & 0.4688233\\\\\n",
       "\t 1000      & 12        &  7        & 0.550     & 0.4694210\\\\\n",
       "\t 1000      & 13        &  1        & 0.800     & 0.4715967\\\\\n",
       "\t 1000      & 11        & 11        & 0.632     & 0.4717581\\\\\n",
       "\t 1000      & 10        & 13        & 0.750     & 0.4721002\\\\\n",
       "\t 1000      &  8        &  7        & 0.750     & 0.4728764\\\\\n",
       "\\end{tabular}\n"
      ],
      "text/markdown": [
       "\n",
       "| num_trees | mtry | node_size | sampe_size | OOB_RMSE |\n",
       "|---|---|---|---|---|\n",
       "| 1000      |  8        | 13        | 0.750     | 0.4649227 |\n",
       "| 1000      | 12        | 13        | 0.750     | 0.4663225 |\n",
       "| 1000      | 11        | 13        | 0.632     | 0.4679434 |\n",
       "| 1000      |  8        | 11        | 0.750     | 0.4679802 |\n",
       "| 1000      | 13        |  5        | 0.800     | 0.4688233 |\n",
       "| 1000      | 12        |  7        | 0.550     | 0.4694210 |\n",
       "| 1000      | 13        |  1        | 0.800     | 0.4715967 |\n",
       "| 1000      | 11        | 11        | 0.632     | 0.4717581 |\n",
       "| 1000      | 10        | 13        | 0.750     | 0.4721002 |\n",
       "| 1000      |  8        |  7        | 0.750     | 0.4728764 |\n",
       "\n"
      ],
      "text/plain": [
       "   num_trees mtry node_size sampe_size OOB_RMSE \n",
       "1  1000       8   13        0.750      0.4649227\n",
       "2  1000      12   13        0.750      0.4663225\n",
       "3  1000      11   13        0.632      0.4679434\n",
       "4  1000       8   11        0.750      0.4679802\n",
       "5  1000      13    5        0.800      0.4688233\n",
       "6  1000      12    7        0.550      0.4694210\n",
       "7  1000      13    1        0.800      0.4715967\n",
       "8  1000      11   11        0.632      0.4717581\n",
       "9  1000      10   13        0.750      0.4721002\n",
       "10 1000       8    7        0.750      0.4728764"
      ]
     },
     "metadata": {},
     "output_type": "display_data"
    }
   ],
   "source": [
    "hyper_grid %>% \n",
    "  dplyr::arrange(OOB_RMSE) %>%\n",
    "  head(10)\n"
   ]
  },
  {
   "cell_type": "markdown",
   "id": "2f21254a",
   "metadata": {},
   "source": [
    "### 5x2cv"
   ]
  },
  {
   "cell_type": "code",
   "execution_count": 160,
   "id": "4ed05482",
   "metadata": {
    "scrolled": false
   },
   "outputs": [
    {
     "data": {
      "image/png": "[encoded data removed]",
      "text/plain": [
       "plot without title"
      ]
     },
     "metadata": {},
     "output_type": "display_data"
    }
   ],
   "source": [
    "# By setting a new unique seed, you ensure a different\n",
    "# 'random' split\n",
    "seeds <- c(123, 246, 91, 949, 9000, 1860, 1853, 1416, 515, 369,145,36920,877,124,617,1743,4852,9001,9005,9004,14,15,19,18,246,47,1,2,3,4,5,6,7,20)  #give 10 random values\n",
    "all_aucs <- vector(length = length(seeds))\n",
    "\n",
    "for (i in 1:length(seeds)) {\n",
    "    set.seed(seeds[i])\n",
    "    allind <- sample(x = 1:nrow(basetable_train), size = nrow(basetable_train),\n",
    "        replace = TRUE)  # WITH replacement\n",
    "    \n",
    "\n",
    "    # block to get indices\n",
    "    trainind <- allind[1:round(length(allind) * 0.70)]\n",
    "    testind <- allind[!allind %in% trainind]  #get all indices which are not in training\n",
    "\n",
    "    #actual subsetting\n",
    "    train <- basetable_train[trainind, ]\n",
    "    yTRAIN <- train$Top10\n",
    "    train$Top10 = NULL\n",
    "    train$Top5 = NULL\n",
    "    train$Top4 = NULL\n",
    "    train$Top3 = NULL\n",
    "    \n",
    "    test <- basetable_train[testind, ]\n",
    "    yTEST <- test$Top10\n",
    "    test$Top10 <- NULL\n",
    "    test$Top5 = NULL\n",
    "    test$Top4 = NULL\n",
    "    test$Top3 = NULL\n",
    "    \n",
    "    #fit\n",
    "    model <- ranger(x=train, y = yTRAIN, num.trees = 500, mtry = 8,min.node.size = 13, sample.fraction = 0.75, probability = TRUE)\n",
    "    # predict on second set (test)0\n",
    "    predictions =  predict(model,test)$predictions[,2]   \n",
    "    \n",
    "    # evaluate and store\n",
    "    all_aucs[i] <- AUC::auc(roc(predictions, yTEST))\n",
    "}\n",
    "\n",
    "# Plot\n",
    "plot(all_aucs, type = \"b\")"
   ]
  },
  {
   "cell_type": "code",
   "execution_count": 161,
   "id": "c74fed7b",
   "metadata": {},
   "outputs": [
    {
     "data": {
      "text/html": [
       "0.670566274430805"
      ],
      "text/latex": [
       "0.670566274430805"
      ],
      "text/markdown": [
       "0.670566274430805"
      ],
      "text/plain": [
       "[1] 0.6705663"
      ]
     },
     "metadata": {},
     "output_type": "display_data"
    }
   ],
   "source": [
    "mean(all_aucs)"
   ]
  },
  {
   "cell_type": "markdown",
   "id": "1c5d935e",
   "metadata": {},
   "source": [
    "## Validation"
   ]
  },
  {
   "cell_type": "code",
   "execution_count": 260,
   "id": "2e0ccd9b",
   "metadata": {
    "scrolled": true
   },
   "outputs": [
    {
     "data": {
      "text/html": [
       "0.698039652483849"
      ],
      "text/latex": [
       "0.698039652483849"
      ],
      "text/markdown": [
       "0.698039652483849"
      ],
      "text/plain": [
       "[1] 0.6980397"
      ]
     },
     "metadata": {},
     "output_type": "display_data"
    }
   ],
   "source": [
    "set.seed(123)\n",
    "train <- basetable_train\n",
    "yTRAIN <- train$Top4\n",
    "train$Top10 = NULL\n",
    "train$Top5 = NULL\n",
    "train$Top4 = NULL\n",
    "train$Top3 = NULL\n",
    "\n",
    "test <- basetable_val\n",
    "yTEST <- test$Top4\n",
    "test$Top10 = NULL\n",
    "test$Top5 = NULL\n",
    "test$Top4 = NULL\n",
    "test$Top3 = NULL\n",
    "\n",
    "#fit\n",
    "rFmodel <- randomForest(x=train, y = yTRAIN, ntree = 1000,mtry=3)\n",
    "# predict on second set (test)\n",
    "predictions <- predict(rFmodel, test, type = \"prob\")[, 2]\n",
    "\n",
    "AUC::auc(roc(predictions,factor(yTEST)))"
   ]
  },
  {
   "cell_type": "code",
   "execution_count": 261,
   "id": "1b6f3751",
   "metadata": {},
   "outputs": [],
   "source": [
    "auc = AUC::auc(roc(predictions,factor(yTEST)))"
   ]
  },
  {
   "cell_type": "code",
   "execution_count": 262,
   "id": "a6bd9303",
   "metadata": {},
   "outputs": [],
   "source": [
    "res = ifelse(predictions>=0.5,1,0)\n",
    "true_outcome = yTEST"
   ]
  },
  {
   "cell_type": "code",
   "execution_count": 263,
   "id": "fa182fb4",
   "metadata": {},
   "outputs": [
    {
     "data": {
      "text/plain": [
       "          Reference\n",
       "Prediction  0  1\n",
       "         0 34 18\n",
       "         1 33 49"
      ]
     },
     "metadata": {},
     "output_type": "display_data"
    },
    {
     "data": {
      "text/html": [
       "<span style=white-space:pre-wrap>'AUC:  0.698039652483849'</span>"
      ],
      "text/latex": [
       "'AUC:  0.698039652483849'"
      ],
      "text/markdown": [
       "<span style=white-space:pre-wrap>'AUC:  0.698039652483849'</span>"
      ],
      "text/plain": [
       "[1] \"AUC:  0.698039652483849\""
      ]
     },
     "metadata": {},
     "output_type": "display_data"
    },
    {
     "data": {
      "text/html": [
       "<span style=white-space:pre-wrap>'Accuracy:  0.619402985074627'</span>"
      ],
      "text/latex": [
       "'Accuracy:  0.619402985074627'"
      ],
      "text/markdown": [
       "<span style=white-space:pre-wrap>'Accuracy:  0.619402985074627'</span>"
      ],
      "text/plain": [
       "[1] \"Accuracy:  0.619402985074627\""
      ]
     },
     "metadata": {},
     "output_type": "display_data"
    },
    {
     "data": {
      "text/html": [
       "<span style=white-space:pre-wrap>'Recall:  0.73134328358209'</span>"
      ],
      "text/latex": [
       "'Recall:  0.73134328358209'"
      ],
      "text/markdown": [
       "<span style=white-space:pre-wrap>'Recall:  0.73134328358209'</span>"
      ],
      "text/plain": [
       "[1] \"Recall:  0.73134328358209\""
      ]
     },
     "metadata": {},
     "output_type": "display_data"
    },
    {
     "data": {
      "text/html": [
       "<span style=white-space:pre-wrap>'Precision:  0.597560975609756'</span>"
      ],
      "text/latex": [
       "'Precision:  0.597560975609756'"
      ],
      "text/markdown": [
       "<span style=white-space:pre-wrap>'Precision:  0.597560975609756'</span>"
      ],
      "text/plain": [
       "[1] \"Precision:  0.597560975609756\""
      ]
     },
     "metadata": {},
     "output_type": "display_data"
    }
   ],
   "source": [
    "confusionMatrix(as.factor(res), as.factor(true_outcome))[[2]]\n",
    "TN =(confusionMatrix(as.factor(res), as.factor(true_outcome)))[[2]][1,1]\n",
    "TP = (confusionMatrix(as.factor(res), as.factor(true_outcome)))[[2]][2,2]\n",
    "FN = (confusionMatrix(as.factor(res), as.factor(true_outcome)))[[2]][1,2]\n",
    "FP = (confusionMatrix(as.factor(res), as.factor(true_outcome)))[[2]][2,1]\n",
    "\n",
    "accuracy = (TP+TN)/(TP+FP+TN+FN)\n",
    "recall = TP/(TP+FN)\n",
    "precision = TP/(TP+FP)\n",
    "\n",
    "paste(\"AUC: \", auc)\n",
    "paste(\"Accuracy: \", accuracy)\n",
    "paste(\"Recall: \", recall)\n",
    "paste(\"Precision: \", precision)"
   ]
  },
  {
   "cell_type": "code",
   "execution_count": 257,
   "id": "cb87dc45",
   "metadata": {},
   "outputs": [
    {
     "data": {
      "text/html": [
       "0.689882032667877"
      ],
      "text/latex": [
       "0.689882032667877"
      ],
      "text/markdown": [
       "0.689882032667877"
      ],
      "text/plain": [
       "[1] 0.689882"
      ]
     },
     "metadata": {},
     "output_type": "display_data"
    }
   ],
   "source": [
    "#fit\n",
    "model <- ranger(x=train, y = yTRAIN, num.trees = 1000, mtry = 8,min.node.size = 13, sample.fraction = 0.75, probability = TRUE, seed = 123)\n",
    "# predict on second set (test)\n",
    "predictions =  predict(model,test)$predictions[,2]\n",
    "\n",
    "AUC::auc(roc(predictions,factor(yTEST)))"
   ]
  },
  {
   "cell_type": "code",
   "execution_count": 181,
   "id": "dd76e4b2",
   "metadata": {},
   "outputs": [],
   "source": [
    "auc = AUC::auc(roc(predictions,factor(yTEST)))"
   ]
  },
  {
   "cell_type": "code",
   "execution_count": 182,
   "id": "5902a8c5",
   "metadata": {},
   "outputs": [],
   "source": [
    "res = ifelse(predictions>=0.5,1,0)\n",
    "true_outcome = yTEST"
   ]
  },
  {
   "cell_type": "code",
   "execution_count": 183,
   "id": "489d4d82",
   "metadata": {
    "scrolled": true
   },
   "outputs": [
    {
     "data": {
      "text/plain": [
       "          Reference\n",
       "Prediction  0  1\n",
       "         0 13  5\n",
       "         1 31 85"
      ]
     },
     "metadata": {},
     "output_type": "display_data"
    },
    {
     "data": {
      "text/html": [
       "<span style=white-space:pre-wrap>'AUC:  0.683080808080808'</span>"
      ],
      "text/latex": [
       "'AUC:  0.683080808080808'"
      ],
      "text/markdown": [
       "<span style=white-space:pre-wrap>'AUC:  0.683080808080808'</span>"
      ],
      "text/plain": [
       "[1] \"AUC:  0.683080808080808\""
      ]
     },
     "metadata": {},
     "output_type": "display_data"
    },
    {
     "data": {
      "text/html": [
       "<span style=white-space:pre-wrap>'Accuracy:  0.73134328358209'</span>"
      ],
      "text/latex": [
       "'Accuracy:  0.73134328358209'"
      ],
      "text/markdown": [
       "<span style=white-space:pre-wrap>'Accuracy:  0.73134328358209'</span>"
      ],
      "text/plain": [
       "[1] \"Accuracy:  0.73134328358209\""
      ]
     },
     "metadata": {},
     "output_type": "display_data"
    },
    {
     "data": {
      "text/html": [
       "<span style=white-space:pre-wrap>'Recall:  0.944444444444444'</span>"
      ],
      "text/latex": [
       "'Recall:  0.944444444444444'"
      ],
      "text/markdown": [
       "<span style=white-space:pre-wrap>'Recall:  0.944444444444444'</span>"
      ],
      "text/plain": [
       "[1] \"Recall:  0.944444444444444\""
      ]
     },
     "metadata": {},
     "output_type": "display_data"
    },
    {
     "data": {
      "text/html": [
       "<span style=white-space:pre-wrap>'Precision:  0.732758620689655'</span>"
      ],
      "text/latex": [
       "'Precision:  0.732758620689655'"
      ],
      "text/markdown": [
       "<span style=white-space:pre-wrap>'Precision:  0.732758620689655'</span>"
      ],
      "text/plain": [
       "[1] \"Precision:  0.732758620689655\""
      ]
     },
     "metadata": {},
     "output_type": "display_data"
    }
   ],
   "source": [
    "confusionMatrix(as.factor(res), as.factor(true_outcome))[[2]]\n",
    "TN =(confusionMatrix(as.factor(res), as.factor(true_outcome)))[[2]][1,1]\n",
    "TP = (confusionMatrix(as.factor(res), as.factor(true_outcome)))[[2]][2,2]\n",
    "FN = (confusionMatrix(as.factor(res), as.factor(true_outcome)))[[2]][1,2]\n",
    "FP = (confusionMatrix(as.factor(res), as.factor(true_outcome)))[[2]][2,1]\n",
    "\n",
    "accuracy = (TP+TN)/(TP+FP+TN+FN)\n",
    "recall = TP/(TP+FN)\n",
    "precision = TP/(TP+FP)\n",
    "\n",
    "paste(\"AUC: \", auc)\n",
    "paste(\"Accuracy: \", accuracy)\n",
    "paste(\"Recall: \", recall)\n",
    "paste(\"Precision: \", precision)"
   ]
  },
  {
   "cell_type": "code",
   "execution_count": null,
   "id": "05106997",
   "metadata": {},
   "outputs": [],
   "source": []
  }
 ],
 "metadata": {
  "hide_input": false,
  "kernelspec": {
   "display_name": "R",
   "language": "R",
   "name": "ir"
  },
  "language_info": {
   "codemirror_mode": "r",
   "file_extension": ".r",
   "mimetype": "text/x-r-source",
   "name": "R",
   "pygments_lexer": "r",
   "version": "3.6.1"
  }
 },
 "nbformat": 4,
 "nbformat_minor": 5
}
