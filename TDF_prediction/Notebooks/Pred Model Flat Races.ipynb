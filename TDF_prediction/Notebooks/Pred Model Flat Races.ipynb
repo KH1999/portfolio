{
 "cells": [
  {
   "cell_type": "code",
   "execution_count": 1,
   "id": "a79d6c53",
   "metadata": {},
   "outputs": [
    {
     "name": "stderr",
     "output_type": "stream",
     "text": [
      "also installing the dependency 'jsonlite'\n",
      "\n",
      "Warning message:\n",
      "\"unable to access index for repository http://www.stats.ox.ac.uk/pub/RWin/bin/windows/contrib/3.6:\n",
      "  cannot open URL 'http://www.stats.ox.ac.uk/pub/RWin/bin/windows/contrib/3.6/PACKAGES'\""
     ]
    },
    {
     "name": "stdout",
     "output_type": "stream",
     "text": [
      "\n",
      "  There is a binary version available but the source version is later:\n",
      "         binary source needs_compilation\n",
      "jsonlite  1.7.2  1.8.0              TRUE\n",
      "\n",
      "  Binaries will be installed\n",
      "package 'jsonlite' successfully unpacked and MD5 sums checked\n"
     ]
    },
    {
     "name": "stderr",
     "output_type": "stream",
     "text": [
      "Warning message:\n",
      "\"cannot remove prior installation of package 'jsonlite'\"Warning message in file.copy(savedcopy, lib, recursive = TRUE):\n",
      "\"problem copying C:\\Users\\jordy\\anaconda3\\envs\\R2\\Lib\\R\\library\\00LOCK\\jsonlite\\libs\\x64\\jsonlite.dll to C:\\Users\\jordy\\anaconda3\\envs\\R2\\Lib\\R\\library\\jsonlite\\libs\\x64\\jsonlite.dll: Permission denied\"Warning message:\n",
      "\"restored 'jsonlite'\""
     ]
    },
    {
     "name": "stdout",
     "output_type": "stream",
     "text": [
      "package 'tidyverse' successfully unpacked and MD5 sums checked\n",
      "\n",
      "The downloaded binary packages are in\n",
      "\tC:\\Users\\jordy\\AppData\\Local\\Temp\\RtmpgvTZa0\\downloaded_packages\n"
     ]
    },
    {
     "name": "stderr",
     "output_type": "stream",
     "text": [
      "\n",
      "tidyverse installed\n",
      "Warning message:\n",
      "\"package 'tidyverse' was built under R version 3.6.3\"Warning message in p_load(lubridate, AUC, tidyverse):\n",
      "\"Failed to install/load:\n",
      "tidyverse\"also installing the dependency 'jsonlite'\n",
      "\n",
      "Warning message:\n",
      "\"unable to access index for repository http://www.stats.ox.ac.uk/pub/RWin/bin/windows/contrib/3.6:\n",
      "  cannot open URL 'http://www.stats.ox.ac.uk/pub/RWin/bin/windows/contrib/3.6/PACKAGES'\""
     ]
    },
    {
     "name": "stdout",
     "output_type": "stream",
     "text": [
      "\n",
      "  There is a binary version available but the source version is later:\n",
      "         binary source needs_compilation\n",
      "jsonlite  1.7.2  1.8.0              TRUE\n",
      "\n",
      "  Binaries will be installed\n",
      "package 'jsonlite' successfully unpacked and MD5 sums checked\n"
     ]
    },
    {
     "name": "stderr",
     "output_type": "stream",
     "text": [
      "Warning message:\n",
      "\"cannot remove prior installation of package 'jsonlite'\"Warning message in file.copy(savedcopy, lib, recursive = TRUE):\n",
      "\"problem copying C:\\Users\\jordy\\anaconda3\\envs\\R2\\Lib\\R\\library\\00LOCK\\jsonlite\\libs\\x64\\jsonlite.dll to C:\\Users\\jordy\\anaconda3\\envs\\R2\\Lib\\R\\library\\jsonlite\\libs\\x64\\jsonlite.dll: Permission denied\"Warning message:\n",
      "\"restored 'jsonlite'\""
     ]
    },
    {
     "name": "stdout",
     "output_type": "stream",
     "text": [
      "package 'tidyverse' successfully unpacked and MD5 sums checked\n",
      "\n",
      "The downloaded binary packages are in\n",
      "\tC:\\Users\\jordy\\AppData\\Local\\Temp\\RtmpgvTZa0\\downloaded_packages\n"
     ]
    },
    {
     "name": "stderr",
     "output_type": "stream",
     "text": [
      "\n",
      "tidyverse installed\n",
      "Warning message:\n",
      "\"package 'tidyverse' was built under R version 3.6.3\"Warning message in p_load(tidyverse):\n",
      "\"Failed to install/load:\n",
      "tidyverse\""
     ]
    }
   ],
   "source": [
    "library(pacman)\n",
    "p_load(lubridate, AUC, tidyverse)\n",
    "\n",
    "p_load(magrittr) \n",
    "p_load(dplyr)\n",
    "p_load(tidyverse)\n",
    "p_load(tidyr)\n",
    "p_load(pacman)\n",
    "p_load(rlist)\n",
    "p_load(dummy)\n",
    "p_load(e1071)\n",
    "p_load(ROSE)\n",
    "p_load(rotationForest)\n",
    "p_load(xgboost)"
   ]
  },
  {
   "cell_type": "code",
   "execution_count": 2,
   "id": "070d509d",
   "metadata": {},
   "outputs": [],
   "source": [
    "p_load(caret)\n",
    "\n",
    "p_load(FNN)\n",
    "\n",
    "p_load(randomForest)\n",
    "\n",
    "options(repr.matrix.max.cols=1000, repr.matrix.max.rows=1000)"
   ]
  },
  {
   "cell_type": "code",
   "execution_count": 3,
   "id": "e2e2b666",
   "metadata": {},
   "outputs": [],
   "source": [
    "p_load(ranger)"
   ]
  },
  {
   "cell_type": "markdown",
   "id": "b3088e99",
   "metadata": {},
   "source": [
    "# Building basetable"
   ]
  },
  {
   "cell_type": "code",
   "execution_count": 4,
   "id": "39abb9b3",
   "metadata": {},
   "outputs": [
    {
     "data": {
      "text/html": [
       "<table>\n",
       "<thead><tr><th scope=col>Pos</th><th scope=col>Rider</th><th scope=col>Team</th><th scope=col>Time</th><th scope=col>Rider_ID</th><th scope=col>Rider_Country</th><th scope=col>Team_ID</th><th scope=col>Year</th><th scope=col>Stage</th><th scope=col>UCI</th><th scope=col>ID</th><th scope=col>Family.Name</th><th scope=col>Given.Name</th><th scope=col>Name</th><th scope=col>Region</th><th scope=col>Birthday</th><th scope=col>Popularity</th><th scope=col>Size</th><th scope=col>Weight</th><th scope=col>FLAT</th><th scope=col>MOUNTAIN</th><th scope=col>DOWNHILL</th><th scope=col>COBBLES</th><th scope=col>TT</th><th scope=col>PROLOGUE</th><th scope=col>SPRINT</th><th scope=col>ACCELERATION</th><th scope=col>ENDURANCE</th><th scope=col>RESISTANCE</th><th scope=col>RECUP</th><th scope=col>HILL</th><th scope=col>ATTACK</th><th scope=col>Stage.Type</th><th scope=col>Race</th><th scope=col>gene_sz_firstlastname</th><th scope=col>gene_f_popularity_max</th><th scope=col>value_i_rank_voted</th><th scope=col>value_i_potentiel</th><th scope=col>fkIDrace</th><th scope=col>fkIDcyclist_state</th><th scope=col>fkIDtype_rider</th><th scope=col>fkIDinjury</th><th scope=col>fkIDtga_skin</th><th scope=col>prerace_i_cyclist</th><th scope=col>race_b_withdrawal</th><th scope=col>fkIDstaff_physician</th><th scope=col>fkIDstaff_trainer</th><th scope=col>limit_i_plain</th><th scope=col>limit_i_mountain</th><th scope=col>limit_i_downhilling</th><th scope=col>limit_i_cobble</th><th scope=col>limit_i_timetrial</th><th scope=col>limit_i_prologue</th><th scope=col>limit_i_sprint</th><th scope=col>limit_i_acceleration</th><th scope=col>limit_i_endurance</th><th scope=col>limit_i_resistance</th><th scope=col>limit_i_recuperation</th><th scope=col>limit_i_hill</th><th scope=col>limit_i_baroudeur</th><th scope=col>fitness_i_handicap</th><th scope=col>gene_b_selected_in_roster</th><th scope=col>gene_b_will_retire</th><th scope=col>fkIDtraining_camp</th><th scope=col>gene_i_dossard</th><th scope=col>gene_i_champion_bit</th><th scope=col>gene_b_nominated</th><th scope=col>CONSTANT</th><th scope=col>gene_sz_soundname</th><th scope=col>fkIDstate_roster</th><th scope=col>gene_b_inshortlist</th><th scope=col>gene_i_date_last_breakaway</th><th scope=col>gene_i_date_last_punchers</th><th scope=col>gene_ilist_fkIDfavorite_races</th><th scope=col>gene_i_year_progression</th><th scope=col>gene_i_day_progression</th></tr></thead>\n",
       "<tbody>\n",
       "\t<tr><td>1                             </td><td>cavendish mark                </td><td>Sky ProCycling                </td><td>04:53:12                      </td><td>  14                          </td><td>GBR                           </td><td>44                            </td><td>2012                          </td><td>2                             </td><td>NA                            </td><td>1008                          </td><td>Cavendish                     </td><td>Mark                          </td><td>M.Cavendish                   </td><td>1801                          </td><td>19850521                      </td><td>82                            </td><td>175                           </td><td>69                            </td><td>78                            </td><td>57                            </td><td>70                            </td><td>67                            </td><td>63                            </td><td>73                            </td><td>83                            </td><td>83                            </td><td>76                            </td><td>75                            </td><td>76                            </td><td>66                            </td><td>59                            </td><td>Flat                          </td><td>Giro                          </td><td>M.Cavendish                   </td><td>0                             </td><td>0                             </td><td>7                             </td><td>0                             </td><td>3                             </td><td>0                             </td><td>0                             </td><td>114                           </td><td>0                             </td><td>0                             </td><td>0                             </td><td>0                             </td><td>0                             </td><td>0                             </td><td>0                             </td><td>0                             </td><td>0                             </td><td>0                             </td><td>0                             </td><td>0                             </td><td>0                             </td><td>0                             </td><td>0                             </td><td>0                             </td><td>0                             </td><td>0                             </td><td>0                             </td><td>0                             </td><td>0                             </td><td>0                             </td><td>-128                          </td><td>0                             </td><td>                              </td><td>Cavendish                     </td><td>0                             </td><td>0                             </td><td>0                             </td><td>0                             </td><td>25|77|175                     </td><td>0                             </td><td>0                             </td></tr>\n",
       "\t<tr><td>2                             </td><td>goss matthew                  </td><td>Orica - GreenEDGE             </td><td>+ 00                          </td><td> 512                          </td><td>AUS                           </td><td> 6                            </td><td>2012                          </td><td>2                             </td><td>NA                            </td><td> 289                          </td><td>Goss                          </td><td>Matthew Harley                </td><td>M.Goss                        </td><td>2001                          </td><td>19861105                      </td><td>46                            </td><td>177                           </td><td>70                            </td><td>75                            </td><td>61                            </td><td>69                            </td><td>69                            </td><td>66                            </td><td>67                            </td><td>78                            </td><td>78                            </td><td>74                            </td><td>73                            </td><td>70                            </td><td>73                            </td><td>67                            </td><td>Flat                          </td><td>Giro                          </td><td>M.Goss                        </td><td>0                             </td><td>0                             </td><td>6                             </td><td>0                             </td><td>3                             </td><td>0                             </td><td>0                             </td><td> 88                           </td><td>0                             </td><td>0                             </td><td>0                             </td><td>0                             </td><td>0                             </td><td>0                             </td><td>0                             </td><td>0                             </td><td>0                             </td><td>0                             </td><td>0                             </td><td>0                             </td><td>0                             </td><td>0                             </td><td>0                             </td><td>0                             </td><td>0                             </td><td>0                             </td><td>0                             </td><td>0                             </td><td>0                             </td><td>0                             </td><td>   0                          </td><td>0                             </td><td>                              </td><td>                              </td><td>0                             </td><td>0                             </td><td>0                             </td><td>0                             </td><td>                              </td><td>0                             </td><td>0                             </td></tr>\n",
       "\t<tr><td>3                             </td><td>soupe geoffrey                </td><td>FDJ - BigMat                  </td><td>+ 00                          </td><td>2326                          </td><td>FRA                           </td><td> 9                            </td><td>2012                          </td><td>2                             </td><td>NA                            </td><td>2252                          </td><td>Soupe                         </td><td>Geoffrey                      </td><td>G.Soupe                       </td><td> 322                          </td><td>19880322                      </td><td> 9                            </td><td>177                           </td><td>68                            </td><td>67                            </td><td>55                            </td><td>64                            </td><td>58                            </td><td>65                            </td><td>65                            </td><td>65                            </td><td>67                            </td><td>65                            </td><td>65                            </td><td>62                            </td><td>63                            </td><td>68                            </td><td>Flat                          </td><td>Giro                          </td><td>G.Soupe                       </td><td>0                             </td><td>0                             </td><td>4                             </td><td>0                             </td><td>3                             </td><td>0                             </td><td>0                             </td><td>  0                           </td><td>0                             </td><td>0                             </td><td>0                             </td><td>0                             </td><td>0                             </td><td>0                             </td><td>0                             </td><td>0                             </td><td>0                             </td><td>0                             </td><td>0                             </td><td>0                             </td><td>0                             </td><td>0                             </td><td>0                             </td><td>0                             </td><td>0                             </td><td>0                             </td><td>0                             </td><td>0                             </td><td>0                             </td><td>0                             </td><td>   0                          </td><td>0                             </td><td>                              </td><td>                              </td><td>0                             </td><td>0                             </td><td>0                             </td><td>0                             </td><td>                              </td><td>0                             </td><td>0                             </td></tr>\n",
       "\t<tr><td>4                             </td><td>farrar tyler                  </td><td>Garmin - Sharp                </td><td>+ 00                          </td><td>  53                          </td><td>USA                           </td><td>10                            </td><td>2012                          </td><td>2                             </td><td>NA                            </td><td> 423                          </td><td>Farrar                        </td><td>Tyler                         </td><td>T.Farrar                      </td><td> 601                          </td><td>19840602                      </td><td>70                            </td><td>183                           </td><td>74                            </td><td>77                            </td><td>58                            </td><td>71                            </td><td>72                            </td><td>70                            </td><td>78                            </td><td>82                            </td><td>79                            </td><td>75                            </td><td>72                            </td><td>75                            </td><td>67                            </td><td>62                            </td><td>Flat                          </td><td>Giro                          </td><td>T.Farrar                      </td><td>0                             </td><td>0                             </td><td>6                             </td><td>0                             </td><td>3                             </td><td>0                             </td><td>0                             </td><td> 98                           </td><td>0                             </td><td>0                             </td><td>0                             </td><td>0                             </td><td>0                             </td><td>0                             </td><td>0                             </td><td>0                             </td><td>0                             </td><td>0                             </td><td>0                             </td><td>0                             </td><td>0                             </td><td>0                             </td><td>0                             </td><td>0                             </td><td>0                             </td><td>0                             </td><td>0                             </td><td>0                             </td><td>0                             </td><td>0                             </td><td>   0                          </td><td>0                             </td><td>                              </td><td>                              </td><td>0                             </td><td>0                             </td><td>0                             </td><td>0                             </td><td>25|13|135                     </td><td>0                             </td><td>0                             </td></tr>\n",
       "\t<tr><td>5                             </td><td>ferrari roberto               </td><td>Androni Giocattoli - Venezuela</td><td>+ 00                          </td><td>2144                          </td><td>ITA                           </td><td>23                            </td><td>2012                          </td><td>2                             </td><td>NA                            </td><td>1075                          </td><td>Ferrari                       </td><td>Roberto                       </td><td>R.Ferrari                     </td><td> 204                          </td><td>19830309                      </td><td>26                            </td><td>173                           </td><td>70                            </td><td>70                            </td><td>60                            </td><td>67                            </td><td>58                            </td><td>61                            </td><td>63                            </td><td>75                            </td><td>73                            </td><td>67                            </td><td>67                            </td><td>65                            </td><td>66                            </td><td>63                            </td><td>Flat                          </td><td>Giro                          </td><td>R.Ferrari                     </td><td>0                             </td><td>0                             </td><td>5                             </td><td>0                             </td><td>3                             </td><td>0                             </td><td>0                             </td><td>  0                           </td><td>0                             </td><td>0                             </td><td>0                             </td><td>0                             </td><td>0                             </td><td>0                             </td><td>0                             </td><td>0                             </td><td>0                             </td><td>0                             </td><td>0                             </td><td>0                             </td><td>0                             </td><td>0                             </td><td>0                             </td><td>0                             </td><td>0                             </td><td>0                             </td><td>0                             </td><td>0                             </td><td>0                             </td><td>0                             </td><td>   0                          </td><td>0                             </td><td>                              </td><td>                              </td><td>0                             </td><td>0                             </td><td>0                             </td><td>0                             </td><td>                              </td><td>0                             </td><td>0                             </td></tr>\n",
       "\t<tr><td>6                             </td><td>renshaw mark                  </td><td>Rabobank                      </td><td>+ 00                          </td><td>  97                          </td><td>AUS                           </td><td>14                            </td><td>2012                          </td><td>2                             </td><td>NA                            </td><td>1872                          </td><td>Renshaw                       </td><td>Mark                          </td><td>M.Renshaw                     </td><td>2001                          </td><td>19821022                      </td><td>49                            </td><td>179                           </td><td>73                            </td><td>75                            </td><td>54                            </td><td>64                            </td><td>62                            </td><td>65                            </td><td>71                            </td><td>77                            </td><td>78                            </td><td>67                            </td><td>68                            </td><td>70                            </td><td>65                            </td><td>56                            </td><td>Flat                          </td><td>Giro                          </td><td>M.Renshaw                     </td><td>0                             </td><td>0                             </td><td>5                             </td><td>0                             </td><td>3                             </td><td>0                             </td><td>0                             </td><td>  0                           </td><td>0                             </td><td>0                             </td><td>0                             </td><td>0                             </td><td>0                             </td><td>0                             </td><td>0                             </td><td>0                             </td><td>0                             </td><td>0                             </td><td>0                             </td><td>0                             </td><td>0                             </td><td>0                             </td><td>0                             </td><td>0                             </td><td>0                             </td><td>0                             </td><td>0                             </td><td>0                             </td><td>0                             </td><td>0                             </td><td>   0                          </td><td>0                             </td><td>                              </td><td>                              </td><td>0                             </td><td>0                             </td><td>0                             </td><td>0                             </td><td>                              </td><td>0                             </td><td>0                             </td></tr>\n",
       "</tbody>\n",
       "</table>\n"
      ],
      "text/latex": [
       "\\begin{tabular}{r|llllllllllllllllllllllllllllllllllllllllllllllllllllllllllllllllllllllllllll}\n",
       " Pos & Rider & Team & Time & Rider\\_ID & Rider\\_Country & Team\\_ID & Year & Stage & UCI & ID & Family.Name & Given.Name & Name & Region & Birthday & Popularity & Size & Weight & FLAT & MOUNTAIN & DOWNHILL & COBBLES & TT & PROLOGUE & SPRINT & ACCELERATION & ENDURANCE & RESISTANCE & RECUP & HILL & ATTACK & Stage.Type & Race & gene\\_sz\\_firstlastname & gene\\_f\\_popularity\\_max & value\\_i\\_rank\\_voted & value\\_i\\_potentiel & fkIDrace & fkIDcyclist\\_state & fkIDtype\\_rider & fkIDinjury & fkIDtga\\_skin & prerace\\_i\\_cyclist & race\\_b\\_withdrawal & fkIDstaff\\_physician & fkIDstaff\\_trainer & limit\\_i\\_plain & limit\\_i\\_mountain & limit\\_i\\_downhilling & limit\\_i\\_cobble & limit\\_i\\_timetrial & limit\\_i\\_prologue & limit\\_i\\_sprint & limit\\_i\\_acceleration & limit\\_i\\_endurance & limit\\_i\\_resistance & limit\\_i\\_recuperation & limit\\_i\\_hill & limit\\_i\\_baroudeur & fitness\\_i\\_handicap & gene\\_b\\_selected\\_in\\_roster & gene\\_b\\_will\\_retire & fkIDtraining\\_camp & gene\\_i\\_dossard & gene\\_i\\_champion\\_bit & gene\\_b\\_nominated & CONSTANT & gene\\_sz\\_soundname & fkIDstate\\_roster & gene\\_b\\_inshortlist & gene\\_i\\_date\\_last\\_breakaway & gene\\_i\\_date\\_last\\_punchers & gene\\_ilist\\_fkIDfavorite\\_races & gene\\_i\\_year\\_progression & gene\\_i\\_day\\_progression\\\\\n",
       "\\hline\n",
       "\t 1                              & cavendish mark                 & Sky ProCycling                 & 04:53:12                       &   14                           & GBR                            & 44                             & 2012                           & 2                              & NA                             & 1008                           & Cavendish                      & Mark                           & M.Cavendish                    & 1801                           & 19850521                       & 82                             & 175                            & 69                             & 78                             & 57                             & 70                             & 67                             & 63                             & 73                             & 83                             & 83                             & 76                             & 75                             & 76                             & 66                             & 59                             & Flat                           & Giro                           & M.Cavendish                    & 0                              & 0                              & 7                              & 0                              & 3                              & 0                              & 0                              & 114                            & 0                              & 0                              & 0                              & 0                              & 0                              & 0                              & 0                              & 0                              & 0                              & 0                              & 0                              & 0                              & 0                              & 0                              & 0                              & 0                              & 0                              & 0                              & 0                              & 0                              & 0                              & 0                              & -128                           & 0                              &                                & Cavendish                      & 0                              & 0                              & 0                              & 0                              & 25\\textbar{}77\\textbar{}175  & 0                              & 0                             \\\\\n",
       "\t 2                              & goss matthew                   & Orica - GreenEDGE              & + 00                           &  512                           & AUS                            &  6                             & 2012                           & 2                              & NA                             &  289                           & Goss                           & Matthew Harley                 & M.Goss                         & 2001                           & 19861105                       & 46                             & 177                            & 70                             & 75                             & 61                             & 69                             & 69                             & 66                             & 67                             & 78                             & 78                             & 74                             & 73                             & 70                             & 73                             & 67                             & Flat                           & Giro                           & M.Goss                         & 0                              & 0                              & 6                              & 0                              & 3                              & 0                              & 0                              &  88                            & 0                              & 0                              & 0                              & 0                              & 0                              & 0                              & 0                              & 0                              & 0                              & 0                              & 0                              & 0                              & 0                              & 0                              & 0                              & 0                              & 0                              & 0                              & 0                              & 0                              & 0                              & 0                              &    0                           & 0                              &                                &                                & 0                              & 0                              & 0                              & 0                              &                                & 0                              & 0                             \\\\\n",
       "\t 3                              & soupe geoffrey                 & FDJ - BigMat                   & + 00                           & 2326                           & FRA                            &  9                             & 2012                           & 2                              & NA                             & 2252                           & Soupe                          & Geoffrey                       & G.Soupe                        &  322                           & 19880322                       &  9                             & 177                            & 68                             & 67                             & 55                             & 64                             & 58                             & 65                             & 65                             & 65                             & 67                             & 65                             & 65                             & 62                             & 63                             & 68                             & Flat                           & Giro                           & G.Soupe                        & 0                              & 0                              & 4                              & 0                              & 3                              & 0                              & 0                              &   0                            & 0                              & 0                              & 0                              & 0                              & 0                              & 0                              & 0                              & 0                              & 0                              & 0                              & 0                              & 0                              & 0                              & 0                              & 0                              & 0                              & 0                              & 0                              & 0                              & 0                              & 0                              & 0                              &    0                           & 0                              &                                &                                & 0                              & 0                              & 0                              & 0                              &                                & 0                              & 0                             \\\\\n",
       "\t 4                              & farrar tyler                   & Garmin - Sharp                 & + 00                           &   53                           & USA                            & 10                             & 2012                           & 2                              & NA                             &  423                           & Farrar                         & Tyler                          & T.Farrar                       &  601                           & 19840602                       & 70                             & 183                            & 74                             & 77                             & 58                             & 71                             & 72                             & 70                             & 78                             & 82                             & 79                             & 75                             & 72                             & 75                             & 67                             & 62                             & Flat                           & Giro                           & T.Farrar                       & 0                              & 0                              & 6                              & 0                              & 3                              & 0                              & 0                              &  98                            & 0                              & 0                              & 0                              & 0                              & 0                              & 0                              & 0                              & 0                              & 0                              & 0                              & 0                              & 0                              & 0                              & 0                              & 0                              & 0                              & 0                              & 0                              & 0                              & 0                              & 0                              & 0                              &    0                           & 0                              &                                &                                & 0                              & 0                              & 0                              & 0                              & 25\\textbar{}13\\textbar{}135  & 0                              & 0                             \\\\\n",
       "\t 5                              & ferrari roberto                & Androni Giocattoli - Venezuela & + 00                           & 2144                           & ITA                            & 23                             & 2012                           & 2                              & NA                             & 1075                           & Ferrari                        & Roberto                        & R.Ferrari                      &  204                           & 19830309                       & 26                             & 173                            & 70                             & 70                             & 60                             & 67                             & 58                             & 61                             & 63                             & 75                             & 73                             & 67                             & 67                             & 65                             & 66                             & 63                             & Flat                           & Giro                           & R.Ferrari                      & 0                              & 0                              & 5                              & 0                              & 3                              & 0                              & 0                              &   0                            & 0                              & 0                              & 0                              & 0                              & 0                              & 0                              & 0                              & 0                              & 0                              & 0                              & 0                              & 0                              & 0                              & 0                              & 0                              & 0                              & 0                              & 0                              & 0                              & 0                              & 0                              & 0                              &    0                           & 0                              &                                &                                & 0                              & 0                              & 0                              & 0                              &                                & 0                              & 0                             \\\\\n",
       "\t 6                              & renshaw mark                   & Rabobank                       & + 00                           &   97                           & AUS                            & 14                             & 2012                           & 2                              & NA                             & 1872                           & Renshaw                        & Mark                           & M.Renshaw                      & 2001                           & 19821022                       & 49                             & 179                            & 73                             & 75                             & 54                             & 64                             & 62                             & 65                             & 71                             & 77                             & 78                             & 67                             & 68                             & 70                             & 65                             & 56                             & Flat                           & Giro                           & M.Renshaw                      & 0                              & 0                              & 5                              & 0                              & 3                              & 0                              & 0                              &   0                            & 0                              & 0                              & 0                              & 0                              & 0                              & 0                              & 0                              & 0                              & 0                              & 0                              & 0                              & 0                              & 0                              & 0                              & 0                              & 0                              & 0                              & 0                              & 0                              & 0                              & 0                              & 0                              &    0                           & 0                              &                                &                                & 0                              & 0                              & 0                              & 0                              &                                & 0                              & 0                             \\\\\n",
       "\\end{tabular}\n"
      ],
      "text/markdown": [
       "\n",
       "| Pos | Rider | Team | Time | Rider_ID | Rider_Country | Team_ID | Year | Stage | UCI | ID | Family.Name | Given.Name | Name | Region | Birthday | Popularity | Size | Weight | FLAT | MOUNTAIN | DOWNHILL | COBBLES | TT | PROLOGUE | SPRINT | ACCELERATION | ENDURANCE | RESISTANCE | RECUP | HILL | ATTACK | Stage.Type | Race | gene_sz_firstlastname | gene_f_popularity_max | value_i_rank_voted | value_i_potentiel | fkIDrace | fkIDcyclist_state | fkIDtype_rider | fkIDinjury | fkIDtga_skin | prerace_i_cyclist | race_b_withdrawal | fkIDstaff_physician | fkIDstaff_trainer | limit_i_plain | limit_i_mountain | limit_i_downhilling | limit_i_cobble | limit_i_timetrial | limit_i_prologue | limit_i_sprint | limit_i_acceleration | limit_i_endurance | limit_i_resistance | limit_i_recuperation | limit_i_hill | limit_i_baroudeur | fitness_i_handicap | gene_b_selected_in_roster | gene_b_will_retire | fkIDtraining_camp | gene_i_dossard | gene_i_champion_bit | gene_b_nominated | CONSTANT | gene_sz_soundname | fkIDstate_roster | gene_b_inshortlist | gene_i_date_last_breakaway | gene_i_date_last_punchers | gene_ilist_fkIDfavorite_races | gene_i_year_progression | gene_i_day_progression |\n",
       "|---|---|---|---|---|---|---|---|---|---|---|---|---|---|---|---|---|---|---|---|---|---|---|---|---|---|---|---|---|---|---|---|---|---|---|---|---|---|---|---|---|---|---|---|---|---|---|---|---|---|---|---|---|---|---|---|---|---|---|---|---|---|---|---|---|---|---|---|---|---|---|---|---|---|---|---|\n",
       "| 1                              | cavendish mark                 | Sky ProCycling                 | 04:53:12                       |   14                           | GBR                            | 44                             | 2012                           | 2                              | NA                             | 1008                           | Cavendish                      | Mark                           | M.Cavendish                    | 1801                           | 19850521                       | 82                             | 175                            | 69                             | 78                             | 57                             | 70                             | 67                             | 63                             | 73                             | 83                             | 83                             | 76                             | 75                             | 76                             | 66                             | 59                             | Flat                           | Giro                           | M.Cavendish                    | 0                              | 0                              | 7                              | 0                              | 3                              | 0                              | 0                              | 114                            | 0                              | 0                              | 0                              | 0                              | 0                              | 0                              | 0                              | 0                              | 0                              | 0                              | 0                              | 0                              | 0                              | 0                              | 0                              | 0                              | 0                              | 0                              | 0                              | 0                              | 0                              | 0                              | -128                           | 0                              |                                | Cavendish                      | 0                              | 0                              | 0                              | 0                              | 25|77|175                      | 0                              | 0                              |\n",
       "| 2                              | goss matthew                   | Orica - GreenEDGE              | + 00                           |  512                           | AUS                            |  6                             | 2012                           | 2                              | NA                             |  289                           | Goss                           | Matthew Harley                 | M.Goss                         | 2001                           | 19861105                       | 46                             | 177                            | 70                             | 75                             | 61                             | 69                             | 69                             | 66                             | 67                             | 78                             | 78                             | 74                             | 73                             | 70                             | 73                             | 67                             | Flat                           | Giro                           | M.Goss                         | 0                              | 0                              | 6                              | 0                              | 3                              | 0                              | 0                              |  88                            | 0                              | 0                              | 0                              | 0                              | 0                              | 0                              | 0                              | 0                              | 0                              | 0                              | 0                              | 0                              | 0                              | 0                              | 0                              | 0                              | 0                              | 0                              | 0                              | 0                              | 0                              | 0                              |    0                           | 0                              |                                |                                | 0                              | 0                              | 0                              | 0                              |                                | 0                              | 0                              |\n",
       "| 3                              | soupe geoffrey                 | FDJ - BigMat                   | + 00                           | 2326                           | FRA                            |  9                             | 2012                           | 2                              | NA                             | 2252                           | Soupe                          | Geoffrey                       | G.Soupe                        |  322                           | 19880322                       |  9                             | 177                            | 68                             | 67                             | 55                             | 64                             | 58                             | 65                             | 65                             | 65                             | 67                             | 65                             | 65                             | 62                             | 63                             | 68                             | Flat                           | Giro                           | G.Soupe                        | 0                              | 0                              | 4                              | 0                              | 3                              | 0                              | 0                              |   0                            | 0                              | 0                              | 0                              | 0                              | 0                              | 0                              | 0                              | 0                              | 0                              | 0                              | 0                              | 0                              | 0                              | 0                              | 0                              | 0                              | 0                              | 0                              | 0                              | 0                              | 0                              | 0                              |    0                           | 0                              |                                |                                | 0                              | 0                              | 0                              | 0                              |                                | 0                              | 0                              |\n",
       "| 4                              | farrar tyler                   | Garmin - Sharp                 | + 00                           |   53                           | USA                            | 10                             | 2012                           | 2                              | NA                             |  423                           | Farrar                         | Tyler                          | T.Farrar                       |  601                           | 19840602                       | 70                             | 183                            | 74                             | 77                             | 58                             | 71                             | 72                             | 70                             | 78                             | 82                             | 79                             | 75                             | 72                             | 75                             | 67                             | 62                             | Flat                           | Giro                           | T.Farrar                       | 0                              | 0                              | 6                              | 0                              | 3                              | 0                              | 0                              |  98                            | 0                              | 0                              | 0                              | 0                              | 0                              | 0                              | 0                              | 0                              | 0                              | 0                              | 0                              | 0                              | 0                              | 0                              | 0                              | 0                              | 0                              | 0                              | 0                              | 0                              | 0                              | 0                              |    0                           | 0                              |                                |                                | 0                              | 0                              | 0                              | 0                              | 25|13|135                      | 0                              | 0                              |\n",
       "| 5                              | ferrari roberto                | Androni Giocattoli - Venezuela | + 00                           | 2144                           | ITA                            | 23                             | 2012                           | 2                              | NA                             | 1075                           | Ferrari                        | Roberto                        | R.Ferrari                      |  204                           | 19830309                       | 26                             | 173                            | 70                             | 70                             | 60                             | 67                             | 58                             | 61                             | 63                             | 75                             | 73                             | 67                             | 67                             | 65                             | 66                             | 63                             | Flat                           | Giro                           | R.Ferrari                      | 0                              | 0                              | 5                              | 0                              | 3                              | 0                              | 0                              |   0                            | 0                              | 0                              | 0                              | 0                              | 0                              | 0                              | 0                              | 0                              | 0                              | 0                              | 0                              | 0                              | 0                              | 0                              | 0                              | 0                              | 0                              | 0                              | 0                              | 0                              | 0                              | 0                              |    0                           | 0                              |                                |                                | 0                              | 0                              | 0                              | 0                              |                                | 0                              | 0                              |\n",
       "| 6                              | renshaw mark                   | Rabobank                       | + 00                           |   97                           | AUS                            | 14                             | 2012                           | 2                              | NA                             | 1872                           | Renshaw                        | Mark                           | M.Renshaw                      | 2001                           | 19821022                       | 49                             | 179                            | 73                             | 75                             | 54                             | 64                             | 62                             | 65                             | 71                             | 77                             | 78                             | 67                             | 68                             | 70                             | 65                             | 56                             | Flat                           | Giro                           | M.Renshaw                      | 0                              | 0                              | 5                              | 0                              | 3                              | 0                              | 0                              |   0                            | 0                              | 0                              | 0                              | 0                              | 0                              | 0                              | 0                              | 0                              | 0                              | 0                              | 0                              | 0                              | 0                              | 0                              | 0                              | 0                              | 0                              | 0                              | 0                              | 0                              | 0                              | 0                              |    0                           | 0                              |                                |                                | 0                              | 0                              | 0                              | 0                              |                                | 0                              | 0                              |\n",
       "\n"
      ],
      "text/plain": [
       "  Pos Rider           Team                           Time     Rider_ID\n",
       "1 1   cavendish mark  Sky ProCycling                 04:53:12   14    \n",
       "2 2   goss matthew    Orica - GreenEDGE              + 00      512    \n",
       "3 3   soupe geoffrey  FDJ - BigMat                   + 00     2326    \n",
       "4 4   farrar tyler    Garmin - Sharp                 + 00       53    \n",
       "5 5   ferrari roberto Androni Giocattoli - Venezuela + 00     2144    \n",
       "6 6   renshaw mark    Rabobank                       + 00       97    \n",
       "  Rider_Country Team_ID Year Stage UCI ID   Family.Name Given.Name    \n",
       "1 GBR           44      2012 2     NA  1008 Cavendish   Mark          \n",
       "2 AUS            6      2012 2     NA   289 Goss        Matthew Harley\n",
       "3 FRA            9      2012 2     NA  2252 Soupe       Geoffrey      \n",
       "4 USA           10      2012 2     NA   423 Farrar      Tyler         \n",
       "5 ITA           23      2012 2     NA  1075 Ferrari     Roberto       \n",
       "6 AUS           14      2012 2     NA  1872 Renshaw     Mark          \n",
       "  Name        Region Birthday Popularity Size Weight FLAT MOUNTAIN DOWNHILL\n",
       "1 M.Cavendish 1801   19850521 82         175  69     78   57       70      \n",
       "2 M.Goss      2001   19861105 46         177  70     75   61       69      \n",
       "3 G.Soupe      322   19880322  9         177  68     67   55       64      \n",
       "4 T.Farrar     601   19840602 70         183  74     77   58       71      \n",
       "5 R.Ferrari    204   19830309 26         173  70     70   60       67      \n",
       "6 M.Renshaw   2001   19821022 49         179  73     75   54       64      \n",
       "  COBBLES TT PROLOGUE SPRINT ACCELERATION ENDURANCE RESISTANCE RECUP HILL\n",
       "1 67      63 73       83     83           76        75         76    66  \n",
       "2 69      66 67       78     78           74        73         70    73  \n",
       "3 58      65 65       65     67           65        65         62    63  \n",
       "4 72      70 78       82     79           75        72         75    67  \n",
       "5 58      61 63       75     73           67        67         65    66  \n",
       "6 62      65 71       77     78           67        68         70    65  \n",
       "  ATTACK Stage.Type Race gene_sz_firstlastname gene_f_popularity_max\n",
       "1 59     Flat       Giro M.Cavendish           0                    \n",
       "2 67     Flat       Giro M.Goss                0                    \n",
       "3 68     Flat       Giro G.Soupe               0                    \n",
       "4 62     Flat       Giro T.Farrar              0                    \n",
       "5 63     Flat       Giro R.Ferrari             0                    \n",
       "6 56     Flat       Giro M.Renshaw             0                    \n",
       "  value_i_rank_voted value_i_potentiel fkIDrace fkIDcyclist_state\n",
       "1 0                  7                 0        3                \n",
       "2 0                  6                 0        3                \n",
       "3 0                  4                 0        3                \n",
       "4 0                  6                 0        3                \n",
       "5 0                  5                 0        3                \n",
       "6 0                  5                 0        3                \n",
       "  fkIDtype_rider fkIDinjury fkIDtga_skin prerace_i_cyclist race_b_withdrawal\n",
       "1 0              0          114          0                 0                \n",
       "2 0              0           88          0                 0                \n",
       "3 0              0            0          0                 0                \n",
       "4 0              0           98          0                 0                \n",
       "5 0              0            0          0                 0                \n",
       "6 0              0            0          0                 0                \n",
       "  fkIDstaff_physician fkIDstaff_trainer limit_i_plain limit_i_mountain\n",
       "1 0                   0                 0             0               \n",
       "2 0                   0                 0             0               \n",
       "3 0                   0                 0             0               \n",
       "4 0                   0                 0             0               \n",
       "5 0                   0                 0             0               \n",
       "6 0                   0                 0             0               \n",
       "  limit_i_downhilling limit_i_cobble limit_i_timetrial limit_i_prologue\n",
       "1 0                   0              0                 0               \n",
       "2 0                   0              0                 0               \n",
       "3 0                   0              0                 0               \n",
       "4 0                   0              0                 0               \n",
       "5 0                   0              0                 0               \n",
       "6 0                   0              0                 0               \n",
       "  limit_i_sprint limit_i_acceleration limit_i_endurance limit_i_resistance\n",
       "1 0              0                    0                 0                 \n",
       "2 0              0                    0                 0                 \n",
       "3 0              0                    0                 0                 \n",
       "4 0              0                    0                 0                 \n",
       "5 0              0                    0                 0                 \n",
       "6 0              0                    0                 0                 \n",
       "  limit_i_recuperation limit_i_hill limit_i_baroudeur fitness_i_handicap\n",
       "1 0                    0            0                 0                 \n",
       "2 0                    0            0                 0                 \n",
       "3 0                    0            0                 0                 \n",
       "4 0                    0            0                 0                 \n",
       "5 0                    0            0                 0                 \n",
       "6 0                    0            0                 0                 \n",
       "  gene_b_selected_in_roster gene_b_will_retire fkIDtraining_camp gene_i_dossard\n",
       "1 0                         0                  0                 0             \n",
       "2 0                         0                  0                 0             \n",
       "3 0                         0                  0                 0             \n",
       "4 0                         0                  0                 0             \n",
       "5 0                         0                  0                 0             \n",
       "6 0                         0                  0                 0             \n",
       "  gene_i_champion_bit gene_b_nominated CONSTANT gene_sz_soundname\n",
       "1 -128                0                         Cavendish        \n",
       "2    0                0                                          \n",
       "3    0                0                                          \n",
       "4    0                0                                          \n",
       "5    0                0                                          \n",
       "6    0                0                                          \n",
       "  fkIDstate_roster gene_b_inshortlist gene_i_date_last_breakaway\n",
       "1 0                0                  0                         \n",
       "2 0                0                  0                         \n",
       "3 0                0                  0                         \n",
       "4 0                0                  0                         \n",
       "5 0                0                  0                         \n",
       "6 0                0                  0                         \n",
       "  gene_i_date_last_punchers gene_ilist_fkIDfavorite_races\n",
       "1 0                         25|77|175                    \n",
       "2 0                                                      \n",
       "3 0                                                      \n",
       "4 0                         25|13|135                    \n",
       "5 0                                                      \n",
       "6 0                                                      \n",
       "  gene_i_year_progression gene_i_day_progression\n",
       "1 0                       0                     \n",
       "2 0                       0                     \n",
       "3 0                       0                     \n",
       "4 0                       0                     \n",
       "5 0                       0                     \n",
       "6 0                       0                     "
      ]
     },
     "metadata": {},
     "output_type": "display_data"
    }
   ],
   "source": [
    "table = (read.csv(\"Data//Flat_races_final.csv\", sep = \";\"))\n",
    "head(table)"
   ]
  },
  {
   "cell_type": "code",
   "execution_count": 5,
   "id": "a27aa700",
   "metadata": {},
   "outputs": [],
   "source": [
    "table_train = table[table$Year<=2017,]"
   ]
  },
  {
   "cell_type": "code",
   "execution_count": 6,
   "id": "373d0b25",
   "metadata": {},
   "outputs": [],
   "source": [
    "table_val = table[(table$Year>2017)&(table$Year<=2019) ,]"
   ]
  },
  {
   "cell_type": "code",
   "execution_count": 7,
   "id": "8ab7d4ab",
   "metadata": {},
   "outputs": [],
   "source": [
    "table_test = table[table$Year>2019,]"
   ]
  },
  {
   "cell_type": "code",
   "execution_count": 201,
   "id": "38f0a0d6",
   "metadata": {
    "scrolled": false
   },
   "outputs": [
    {
     "name": "stderr",
     "output_type": "stream",
     "text": [
      "`summarise()` has grouped output by 'Race', 'Year'. You can override using the `.groups` argument.\n"
     ]
    }
   ],
   "source": [
    "basetable_train = table_train %>% group_by(Race, Year,Team) %>% summarise(flat_mean = round(mean(FLAT))\n",
    "                                             , mountain_mean = round(mean(MOUNTAIN))\n",
    "                                            , downhill_mean = round(mean(DOWNHILL))\n",
    "                                            ,cobbles_mean = round(mean(COBBLES))\n",
    "                                            ,tt_mean = round(mean(TT)),\n",
    "                                            ,prologue_mean = round(mean(PROLOGUE))\n",
    "                                            ,sprint_mean = round(mean(SPRINT))\n",
    "                                            ,acceleration_mean = round(mean(ACCELERATION))\n",
    "                                            ,endurance_mean = round(mean(ENDURANCE))\n",
    "                                            ,resistance_mean = round(mean(RESISTANCE))\n",
    "                                            ,recup_mean = round(mean(RECUP))\n",
    "                                            ,hill_mean = round(mean(HILL))\n",
    "                                            ,attack_mean = round(mean(ATTACK))\n",
    "                                            \n",
    "                                            ,flat_max = round(max(FLAT))\n",
    "                                            ,mountain_max = round(max(MOUNTAIN))\n",
    "                                            ,downhill_max = round(max(DOWNHILL))\n",
    "                                            ,cobbles_max = round(max(COBBLES))\n",
    "                                            ,tt_max = round(max(TT)),\n",
    "                                            ,prologue_max = round(max(PROLOGUE))\n",
    "                                            ,sprint_max = round(max(SPRINT))\n",
    "                                            ,acceleration_max = round(max(ACCELERATION))\n",
    "                                            ,endurance_max = round(max(ENDURANCE))\n",
    "                                            ,resistance_max = round(max(RESISTANCE))\n",
    "                                            ,recup_max = round(max(RECUP))\n",
    "                                            ,hill_max = round(max(HILL))\n",
    "                                            ,attack_max = round(max(ATTACK))\n",
    "                                            \n",
    "                                            ,flat_min = round(min(FLAT))\n",
    "                                            ,mountain_min = round(min(MOUNTAIN))\n",
    "                                            ,downhill_min = round(min(DOWNHILL))\n",
    "                                            ,cobbles_min = round(min(COBBLES))\n",
    "                                            ,tt_min = round(min(TT)),\n",
    "                                            ,prologue_min = round(min(PROLOGUE))\n",
    "                                            ,sprint_min = round(min(SPRINT))\n",
    "                                            ,acceleration_min = round(min(ACCELERATION))\n",
    "                                            ,endurance_min = round(min(ENDURANCE))\n",
    "                                            ,resistance_min = round(min(RESISTANCE))\n",
    "                                            ,recup_min = round(min(RECUP))\n",
    "                                            ,hill_min = round(min(HILL))\n",
    "                                            ,attack_min = round(min(ATTACK))\n",
    "                                    \n",
    "                                            ,best_position = min(Pos))"
   ]
  },
  {
   "cell_type": "code",
   "execution_count": 202,
   "id": "1d0688d8",
   "metadata": {
    "scrolled": false
   },
   "outputs": [
    {
     "name": "stderr",
     "output_type": "stream",
     "text": [
      "`summarise()` has grouped output by 'Race', 'Year'. You can override using the `.groups` argument.\n"
     ]
    }
   ],
   "source": [
    "basetable_val = table_val %>% group_by(Race, Year,Team) %>% summarise(flat_mean = round(mean(FLAT))\n",
    "                                             , mountain_mean = round(mean(MOUNTAIN))\n",
    "                                            , downhill_mean = round(mean(DOWNHILL))\n",
    "                                            ,cobbles_mean = round(mean(COBBLES))\n",
    "                                            ,tt_mean = round(mean(TT)),\n",
    "                                            ,prologue_mean = round(mean(PROLOGUE))\n",
    "                                            ,sprint_mean = round(mean(SPRINT))\n",
    "                                            ,acceleration_mean = round(mean(ACCELERATION))\n",
    "                                            ,endurance_mean = round(mean(ENDURANCE))\n",
    "                                            ,resistance_mean = round(mean(RESISTANCE))\n",
    "                                            ,recup_mean = round(mean(RECUP))\n",
    "                                            ,hill_mean = round(mean(HILL))\n",
    "                                            ,attack_mean = round(mean(ATTACK))\n",
    "                                            \n",
    "                                            ,flat_max = round(max(FLAT))\n",
    "                                            ,mountain_max = round(max(MOUNTAIN))\n",
    "                                            ,downhill_max = round(max(DOWNHILL))\n",
    "                                            ,cobbles_max = round(max(COBBLES))\n",
    "                                            ,tt_max = round(max(TT)),\n",
    "                                            ,prologue_max = round(max(PROLOGUE))\n",
    "                                            ,sprint_max = round(max(SPRINT))\n",
    "                                            ,acceleration_max = round(max(ACCELERATION))\n",
    "                                            ,endurance_max = round(max(ENDURANCE))\n",
    "                                            ,resistance_max = round(max(RESISTANCE))\n",
    "                                            ,recup_max = round(max(RECUP))\n",
    "                                            ,hill_max = round(max(HILL))\n",
    "                                            ,attack_max = round(max(ATTACK))\n",
    "                                            \n",
    "                                            ,flat_min = round(min(FLAT))\n",
    "                                            ,mountain_min = round(min(MOUNTAIN))\n",
    "                                            ,downhill_min = round(min(DOWNHILL))\n",
    "                                            ,cobbles_min = round(min(COBBLES))\n",
    "                                            ,tt_min = round(min(TT)),\n",
    "                                            ,prologue_min = round(min(PROLOGUE))\n",
    "                                            ,sprint_min = round(min(SPRINT))\n",
    "                                            ,acceleration_min = round(min(ACCELERATION))\n",
    "                                            ,endurance_min = round(min(ENDURANCE))\n",
    "                                            ,resistance_min = round(min(RESISTANCE))\n",
    "                                            ,recup_min = round(min(RECUP))\n",
    "                                            ,hill_min = round(min(HILL))\n",
    "                                            ,attack_min = round(min(ATTACK))\n",
    "                                    \n",
    "                                            ,best_position = min(Pos))"
   ]
  },
  {
   "cell_type": "code",
   "execution_count": 203,
   "id": "d5ead31a",
   "metadata": {
    "scrolled": false
   },
   "outputs": [
    {
     "name": "stderr",
     "output_type": "stream",
     "text": [
      "`summarise()` has grouped output by 'Race', 'Year'. You can override using the `.groups` argument.\n"
     ]
    }
   ],
   "source": [
    "basetable_test = table_test %>% group_by(Race, Year,Team) %>% summarise(flat_mean = round(mean(FLAT))\n",
    "                                             , mountain_mean = round(mean(MOUNTAIN))\n",
    "                                            , downhill_mean = round(mean(DOWNHILL))\n",
    "                                            ,cobbles_mean = round(mean(COBBLES))\n",
    "                                            ,tt_mean = round(mean(TT)),\n",
    "                                            ,prologue_mean = round(mean(PROLOGUE))\n",
    "                                            ,sprint_mean = round(mean(SPRINT))\n",
    "                                            ,acceleration_mean = round(mean(ACCELERATION))\n",
    "                                            ,endurance_mean = round(mean(ENDURANCE))\n",
    "                                            ,resistance_mean = round(mean(RESISTANCE))\n",
    "                                            ,recup_mean = round(mean(RECUP))\n",
    "                                            ,hill_mean = round(mean(HILL))\n",
    "                                            ,attack_mean = round(mean(ATTACK))\n",
    "                                            \n",
    "                                            ,flat_max = round(max(FLAT))\n",
    "                                            ,mountain_max = round(max(MOUNTAIN))\n",
    "                                            ,downhill_max = round(max(DOWNHILL))\n",
    "                                            ,cobbles_max = round(max(COBBLES))\n",
    "                                            ,tt_max = round(max(TT)),\n",
    "                                            ,prologue_max = round(max(PROLOGUE))\n",
    "                                            ,sprint_max = round(max(SPRINT))\n",
    "                                            ,acceleration_max = round(max(ACCELERATION))\n",
    "                                            ,endurance_max = round(max(ENDURANCE))\n",
    "                                            ,resistance_max = round(max(RESISTANCE))\n",
    "                                            ,recup_max = round(max(RECUP))\n",
    "                                            ,hill_max = round(max(HILL))\n",
    "                                            ,attack_max = round(max(ATTACK))\n",
    "                                            \n",
    "                                            ,flat_min = round(min(FLAT))\n",
    "                                            ,mountain_min = round(min(MOUNTAIN))\n",
    "                                            ,downhill_min = round(min(DOWNHILL))\n",
    "                                            ,cobbles_min = round(min(COBBLES))\n",
    "                                            ,tt_min = round(min(TT)),\n",
    "                                            ,prologue_min = round(min(PROLOGUE))\n",
    "                                            ,sprint_min = round(min(SPRINT))\n",
    "                                            ,acceleration_min = round(min(ACCELERATION))\n",
    "                                            ,endurance_min = round(min(ENDURANCE))\n",
    "                                            ,resistance_min = round(min(RESISTANCE))\n",
    "                                            ,recup_min = round(min(RECUP))\n",
    "                                            ,hill_min = round(min(HILL))\n",
    "                                            ,attack_min = round(min(ATTACK))\n",
    "                                    \n",
    "                                            ,best_position = min(Pos))"
   ]
  },
  {
   "cell_type": "code",
   "execution_count": 204,
   "id": "e70588ed",
   "metadata": {},
   "outputs": [],
   "source": [
    "basetable_train = (basetable_train)%>% drop_na()\n",
    "basetable_val = (basetable_val)%>% drop_na()\n",
    "basetable_test = (basetable_test)%>% drop_na()"
   ]
  },
  {
   "cell_type": "code",
   "execution_count": 240,
   "id": "c54f2b15",
   "metadata": {},
   "outputs": [
    {
     "name": "stderr",
     "output_type": "stream",
     "text": [
      "Warning message:\n",
      "\"Unknown or uninitialised column: `best_position`.\""
     ]
    },
    {
     "ename": "ERROR",
     "evalue": "Error: Assigned data `as.factor(ifelse(basetable_train$best_position <= 10, 1, 0))` must be compatible with existing data.\nx Existing data has 239 rows.\nx Assigned data has 0 rows.\ni Only vectors of size 1 are recycled.\n",
     "output_type": "error",
     "traceback": [
      "Error: Assigned data `as.factor(ifelse(basetable_train$best_position <= 10, 1, 0))` must be compatible with existing data.\nx Existing data has 239 rows.\nx Assigned data has 0 rows.\ni Only vectors of size 1 are recycled.\nTraceback:\n",
      "1. `$<-`(`*tmp*`, Top10, value = structure(integer(0), .Label = character(0), class = \"factor\"))",
      "2. `$<-.tbl_df`(`*tmp*`, Top10, value = structure(integer(0), .Label = character(0), class = \"factor\"))",
      "3. tbl_subassign(x, i = NULL, as_string(name), list(value), i_arg = NULL, \n .     j_arg = name, value_arg = substitute(value))",
      "4. vectbl_recycle_rhs(value, fast_nrow(x), length(j), i_arg = NULL, \n .     value_arg)",
      "5. withCallingHandlers(for (j in seq_along(value)) {\n .     if (!is.null(value[[j]])) {\n .         value[[j]] <- vec_recycle(value[[j]], nrow)\n .     }\n . }, vctrs_error_recycle_incompatible_size = function(cnd) {\n .     cnd_signal(error_assign_incompatible_size(nrow, value, j, \n .         i_arg, value_arg))\n . })",
      "6. vec_recycle(value[[j]], nrow)",
      "7. stop_recycle_incompatible_size(x_size = 0L, size = 239L, x_arg = \"\")",
      "8. stop_vctrs(x_size = x_size, y_size = size, x_arg = x_arg, class = c(\"vctrs_error_incompatible_size\", \n .     \"vctrs_error_recycle_incompatible_size\"))",
      "9. abort(message, class = c(class, \"vctrs_error\"), ...)",
      "10. signal_abort(cnd)",
      "11. signalCondition(cnd)",
      "12. (function (cnd) \n  . {\n  .     cnd_signal(error_assign_incompatible_size(nrow, value, j, \n  .         i_arg, value_arg))\n  . })(structure(list(message = \"\", trace = structure(list(calls = list(\n  .     IRkernel::main(), kernel$run(), IRkernel:::handle_shell(), \n  .     executor$execute(msg), base::tryCatch(evaluate(request$content$code, \n  .         envir = .GlobalEnv, output_handler = oh, stop_on_error = 1L), \n  .         interrupt = function(cond) interrupted <<- TRUE, error = .self$handle_error), \n  .     base:::tryCatchList(expr, classes, parentenv, handlers), \n  .     base:::tryCatchOne(tryCatchList(expr, names[-nh], parentenv, \n  .         handlers[-nh]), names[nh], parentenv, handlers[[nh]]), \n  .     base:::doTryCatch(return(expr), name, parentenv, handler), \n  .     base:::tryCatchList(expr, names[-nh], parentenv, handlers[-nh]), \n  .     base:::tryCatchOne(expr, names, parentenv, handlers[[1L]]), \n  .     base:::doTryCatch(return(expr), name, parentenv, handler), \n  .     evaluate::evaluate(request$content$code, envir = .GlobalEnv, \n  .         output_handler = oh, stop_on_error = 1L), evaluate:::evaluate_call(expr, \n  .         parsed$src[[i]], envir = envir, enclos = enclos, debug = debug, \n  .         last = i == length(out), use_try = stop_on_error != 2L, \n  .         keep_warning = keep_warning, keep_message = keep_message, \n  .         output_handler = output_handler, include_timing = include_timing), \n  .     evaluate:::timing_fn(handle(ev <- withCallingHandlers(withVisible(eval_with_user_handlers(expr, \n  .         envir, enclos, user_handlers)), warning = wHandler, error = eHandler, \n  .         message = mHandler))), evaluate:::handle(ev <- withCallingHandlers(withVisible(eval_with_user_handlers(expr, \n  .         envir, enclos, user_handlers)), warning = wHandler, error = eHandler, \n  .         message = mHandler)), base::try(f, silent = TRUE), base::tryCatch(expr, \n  .         error = function(e) {\n  .             call <- conditionCall(e)\n  .             if (!is.null(call)) {\n  .                 if (identical(call[[1L]], quote(doTryCatch))) \n  .                   call <- sys.call(-4L)\n  .                 dcall <- deparse(call)[1L]\n  .                 prefix <- paste(\"Error in\", dcall, \": \")\n  .                 LONG <- 75L\n  .                 sm <- strsplit(conditionMessage(e), \"\\n\")[[1L]]\n  .                 w <- 14L + nchar(dcall, type = \"w\") + nchar(sm[1L], \n  .                   type = \"w\")\n  .                 if (is.na(w)) \n  .                   w <- 14L + nchar(dcall, type = \"b\") + nchar(sm[1L], \n  .                     type = \"b\")\n  .                 if (w > LONG) \n  .                   prefix <- paste0(prefix, \"\\n  \")\n  .             }\n  .             else prefix <- \"Error : \"\n  .             msg <- paste0(prefix, conditionMessage(e), \"\\n\")\n  .             .Internal(seterrmessage(msg[1L]))\n  .             if (!silent && isTRUE(getOption(\"show.error.messages\"))) {\n  .                 cat(msg, file = outFile)\n  .                 .Internal(printDeferredWarnings())\n  .             }\n  .             invisible(structure(msg, class = \"try-error\", condition = e))\n  .         }), base:::tryCatchList(expr, classes, parentenv, handlers), \n  .     base:::tryCatchOne(expr, names, parentenv, handlers[[1L]]), \n  .     base:::doTryCatch(return(expr), name, parentenv, handler), \n  .     base::withCallingHandlers(withVisible(eval_with_user_handlers(expr, \n  .         envir, enclos, user_handlers)), warning = wHandler, error = eHandler, \n  .         message = mHandler), base::withVisible(eval_with_user_handlers(expr, \n  .         envir, enclos, user_handlers)), evaluate:::eval_with_user_handlers(expr, \n  .         envir, enclos, user_handlers), base::eval(expr, envir, \n  .         enclos), base::eval(expr, envir, enclos), base::`$<-`(`*tmp*`, \n  .         Top10, value = structure(integer(0), .Label = character(0), class = \"factor\")), \n  .     tibble:::`$<-.tbl_df`(`*tmp*`, Top10, value = structure(integer(0), .Label = character(0), class = \"factor\")), \n  .     tibble:::tbl_subassign(x, i = NULL, as_string(name), list(value), \n  .         i_arg = NULL, j_arg = name, value_arg = substitute(value)), \n  .     tibble:::vectbl_recycle_rhs(value, fast_nrow(x), length(j), \n  .         i_arg = NULL, value_arg), base::withCallingHandlers(for (j in seq_along(value)) {\n  .         if (!is.null(value[[j]])) {\n  .             value[[j]] <- vec_recycle(value[[j]], nrow)\n  .         }\n  .     }, vctrs_error_recycle_incompatible_size = function(cnd) {\n  .         cnd_signal(error_assign_incompatible_size(nrow, value, \n  .             j, i_arg, value_arg))\n  .     }), vctrs::vec_recycle(value[[j]], nrow), vctrs:::stop_recycle_incompatible_size(x_size = 0L, \n  .         size = 239L, x_arg = \"\"), vctrs:::stop_vctrs(x_size = x_size, \n  .         y_size = size, x_arg = x_arg, class = c(\"vctrs_error_incompatible_size\", \n  .             \"vctrs_error_recycle_incompatible_size\"))), parents = c(0L, \n  . 1L, 2L, 3L, 4L, 5L, 6L, 7L, 6L, 9L, 10L, 4L, 12L, 13L, 13L, 15L, \n  . 16L, 17L, 18L, 19L, 13L, 13L, 13L, 23L, 24L, 0L, 0L, 27L, 28L, \n  . 29L, 29L, 0L, 32L), indices = 1:33), class = \"rlang_trace\", version = 1L), \n  .     parent = NULL, x_size = 0L, y_size = 239L, x_arg = \"\"), class = c(\"vctrs_error_incompatible_size\", \n  . \"vctrs_error_recycle_incompatible_size\", \"vctrs_error\", \"rlang_error\", \n  . \"error\", \"condition\")))",
      "13. cnd_signal(error_assign_incompatible_size(nrow, value, j, i_arg, \n  .     value_arg))",
      "14. signal_abort(cnd)"
     ]
    }
   ],
   "source": [
    "basetable_train$Top10 = as.factor(ifelse(basetable_train$best_position <=10, 1,0))\n",
    "basetable_train$Top5 = as.factor(ifelse(basetable_train$best_position <=5, 1,0))\n",
    "basetable_train$Top4 = as.factor(ifelse(basetable_train$best_position <=4, 1,0))\n",
    "basetable_train$Top3 = as.factor(ifelse(basetable_train$best_position <=3, 1,0))"
   ]
  },
  {
   "cell_type": "code",
   "execution_count": 206,
   "id": "f7ee26a1",
   "metadata": {},
   "outputs": [
    {
     "data": {
      "text/plain": [
       "\n",
       "  0   1 \n",
       " 47 192 "
      ]
     },
     "metadata": {},
     "output_type": "display_data"
    }
   ],
   "source": [
    "table(basetable_train$Top10)"
   ]
  },
  {
   "cell_type": "code",
   "execution_count": 207,
   "id": "20c8e03c",
   "metadata": {},
   "outputs": [],
   "source": [
    "basetable_train$minutes_from_top = NULL\n",
    "basetable_train$best_position = NULL\n",
    "basetable_train$Team = NULL\n",
    "basetable_train$Year = NULL\n",
    "basetable_train$Stage = NULL\n",
    "basetable_train$Team_ID = NULL\n",
    "basetable_train$Race= NULL"
   ]
  },
  {
   "cell_type": "code",
   "execution_count": 208,
   "id": "5736bdb6",
   "metadata": {},
   "outputs": [],
   "source": [
    "basetable_val$Top10 = as.factor(ifelse(basetable_val$best_position <=10, 1,0))\n",
    "basetable_val$Top5 = as.factor(ifelse(basetable_val$best_position <=5, 1,0))\n",
    "basetable_val$Top4 = as.factor(ifelse(basetable_val$best_position <=4, 1,0))\n",
    "basetable_val$Top3 = as.factor(ifelse(basetable_val$best_position <=3, 1,0))"
   ]
  },
  {
   "cell_type": "code",
   "execution_count": 209,
   "id": "62a1bd58",
   "metadata": {},
   "outputs": [
    {
     "data": {
      "text/plain": [
       "\n",
       " 0  1 \n",
       "48 86 "
      ]
     },
     "metadata": {},
     "output_type": "display_data"
    }
   ],
   "source": [
    "table(basetable_val$Top10)"
   ]
  },
  {
   "cell_type": "code",
   "execution_count": 210,
   "id": "3529c6c5",
   "metadata": {},
   "outputs": [],
   "source": [
    "basetable_val$minutes_from_top = NULL\n",
    "basetable_val$best_position = NULL\n",
    "basetable_val$Team = NULL\n",
    "basetable_val$Year = NULL\n",
    "basetable_val$Stage = NULL\n",
    "basetable_val$Team_ID = NULL\n",
    "basetable_val$Race= NULL"
   ]
  },
  {
   "cell_type": "markdown",
   "id": "26d71240",
   "metadata": {},
   "source": [
    "# Prediction if finish in the top 10"
   ]
  },
  {
   "cell_type": "markdown",
   "id": "c77f8f0b",
   "metadata": {},
   "source": [
    "## Random Forest"
   ]
  },
  {
   "cell_type": "markdown",
   "id": "b7fd0bf4",
   "metadata": {},
   "source": [
    "## Tuning"
   ]
  },
  {
   "cell_type": "code",
   "execution_count": 211,
   "id": "8385a4b7",
   "metadata": {},
   "outputs": [
    {
     "data": {
      "text/html": [
       "735"
      ],
      "text/latex": [
       "735"
      ],
      "text/markdown": [
       "735"
      ],
      "text/plain": [
       "[1] 735"
      ]
     },
     "metadata": {},
     "output_type": "display_data"
    }
   ],
   "source": [
    "# hyperparameter grid search\n",
    "hyper_grid <- expand.grid(\n",
    "   num_trees = c(1000),\n",
    "  mtry       = seq(15, 35, by = 1),\n",
    "  node_size  = seq(1, 13, by = 2),\n",
    "  sampe_size = c(.55, .632, .70,0.75,.80),\n",
    "  OOB_RMSE   = 0\n",
    " \n",
    ")\n",
    "nrow(hyper_grid)"
   ]
  },
  {
   "cell_type": "code",
   "execution_count": 226,
   "id": "20c98230",
   "metadata": {},
   "outputs": [],
   "source": [
    "for(i in 1:nrow(hyper_grid)) {\n",
    "  \n",
    "  # train model\n",
    "  model <- ranger(\n",
    "    x               = basetable_train[,-(40:43)], \n",
    "    y               = basetable_train$Top5, \n",
    "    num.trees       = hyper_grid$mtry[i],\n",
    "    mtry            = hyper_grid$mtry[i],\n",
    "    min.node.size   = hyper_grid$node_size[i],\n",
    "    sample.fraction = hyper_grid$sampe_size[i],\n",
    "    probability     = TRUE,\n",
    "    seed            = 123\n",
    "  )\n",
    "  \n",
    "  # add OOB error to grid\n",
    "  hyper_grid$OOB_RMSE[i] <- sqrt(model$prediction.error)\n",
    "}"
   ]
  },
  {
   "cell_type": "code",
   "execution_count": 227,
   "id": "b12fe16a",
   "metadata": {
    "scrolled": true
   },
   "outputs": [
    {
     "data": {
      "text/html": [
       "<table>\n",
       "<thead><tr><th scope=col>num_trees</th><th scope=col>mtry</th><th scope=col>node_size</th><th scope=col>sampe_size</th><th scope=col>OOB_RMSE</th></tr></thead>\n",
       "<tbody>\n",
       "\t<tr><td>1000     </td><td>23       </td><td>13       </td><td>0.55     </td><td>0.4323601</td></tr>\n",
       "\t<tr><td>1000     </td><td>28       </td><td> 1       </td><td>0.55     </td><td>0.4336332</td></tr>\n",
       "\t<tr><td>1000     </td><td>23       </td><td> 9       </td><td>0.55     </td><td>0.4336788</td></tr>\n",
       "\t<tr><td>1000     </td><td>29       </td><td> 3       </td><td>0.55     </td><td>0.4342016</td></tr>\n",
       "\t<tr><td>1000     </td><td>23       </td><td> 1       </td><td>0.55     </td><td>0.4350425</td></tr>\n",
       "\t<tr><td>1000     </td><td>23       </td><td> 7       </td><td>0.55     </td><td>0.4354238</td></tr>\n",
       "\t<tr><td>1000     </td><td>28       </td><td>13       </td><td>0.55     </td><td>0.4363582</td></tr>\n",
       "\t<tr><td>1000     </td><td>29       </td><td> 1       </td><td>0.55     </td><td>0.4369861</td></tr>\n",
       "\t<tr><td>1000     </td><td>28       </td><td> 3       </td><td>0.55     </td><td>0.4378036</td></tr>\n",
       "\t<tr><td>1000     </td><td>23       </td><td>11       </td><td>0.55     </td><td>0.4379229</td></tr>\n",
       "</tbody>\n",
       "</table>\n"
      ],
      "text/latex": [
       "\\begin{tabular}{r|lllll}\n",
       " num\\_trees & mtry & node\\_size & sampe\\_size & OOB\\_RMSE\\\\\n",
       "\\hline\n",
       "\t 1000      & 23        & 13        & 0.55      & 0.4323601\\\\\n",
       "\t 1000      & 28        &  1        & 0.55      & 0.4336332\\\\\n",
       "\t 1000      & 23        &  9        & 0.55      & 0.4336788\\\\\n",
       "\t 1000      & 29        &  3        & 0.55      & 0.4342016\\\\\n",
       "\t 1000      & 23        &  1        & 0.55      & 0.4350425\\\\\n",
       "\t 1000      & 23        &  7        & 0.55      & 0.4354238\\\\\n",
       "\t 1000      & 28        & 13        & 0.55      & 0.4363582\\\\\n",
       "\t 1000      & 29        &  1        & 0.55      & 0.4369861\\\\\n",
       "\t 1000      & 28        &  3        & 0.55      & 0.4378036\\\\\n",
       "\t 1000      & 23        & 11        & 0.55      & 0.4379229\\\\\n",
       "\\end{tabular}\n"
      ],
      "text/markdown": [
       "\n",
       "| num_trees | mtry | node_size | sampe_size | OOB_RMSE |\n",
       "|---|---|---|---|---|\n",
       "| 1000      | 23        | 13        | 0.55      | 0.4323601 |\n",
       "| 1000      | 28        |  1        | 0.55      | 0.4336332 |\n",
       "| 1000      | 23        |  9        | 0.55      | 0.4336788 |\n",
       "| 1000      | 29        |  3        | 0.55      | 0.4342016 |\n",
       "| 1000      | 23        |  1        | 0.55      | 0.4350425 |\n",
       "| 1000      | 23        |  7        | 0.55      | 0.4354238 |\n",
       "| 1000      | 28        | 13        | 0.55      | 0.4363582 |\n",
       "| 1000      | 29        |  1        | 0.55      | 0.4369861 |\n",
       "| 1000      | 28        |  3        | 0.55      | 0.4378036 |\n",
       "| 1000      | 23        | 11        | 0.55      | 0.4379229 |\n",
       "\n"
      ],
      "text/plain": [
       "   num_trees mtry node_size sampe_size OOB_RMSE \n",
       "1  1000      23   13        0.55       0.4323601\n",
       "2  1000      28    1        0.55       0.4336332\n",
       "3  1000      23    9        0.55       0.4336788\n",
       "4  1000      29    3        0.55       0.4342016\n",
       "5  1000      23    1        0.55       0.4350425\n",
       "6  1000      23    7        0.55       0.4354238\n",
       "7  1000      28   13        0.55       0.4363582\n",
       "8  1000      29    1        0.55       0.4369861\n",
       "9  1000      28    3        0.55       0.4378036\n",
       "10 1000      23   11        0.55       0.4379229"
      ]
     },
     "metadata": {},
     "output_type": "display_data"
    }
   ],
   "source": [
    "hyper_grid %>% \n",
    "  dplyr::arrange(OOB_RMSE) %>%\n",
    "  head(10)\n"
   ]
  },
  {
   "cell_type": "markdown",
   "id": "3b98fcc8",
   "metadata": {},
   "source": [
    "### 5x2cv"
   ]
  },
  {
   "cell_type": "code",
   "execution_count": 228,
   "id": "50d24b63",
   "metadata": {
    "scrolled": false
   },
   "outputs": [
    {
     "data": {
      "image/png": "[encoded data removed]",
      "text/plain": [
       "plot without title"
      ]
     },
     "metadata": {},
     "output_type": "display_data"
    }
   ],
   "source": [
    "# By setting a new unique seed, you ensure a different\n",
    "# 'random' split\n",
    "seeds <- c(123, 246, 91, 949, 9000, 1860, 1853, 1416, 515, 369,145,36920,877,124,617,1743,4852,9001,9005,9004,14,15,19,18,246,47,1,2,3,4,5,6,7,20)  #give 10 random values\n",
    "all_aucs <- vector(length = length(seeds))\n",
    "\n",
    "for (i in 1:length(seeds)) {\n",
    "    set.seed(seeds[i])\n",
    "    allind <- sample(x = 1:nrow(basetable_train), size = nrow(basetable_train),\n",
    "        replace = TRUE)  # WITH replacement\n",
    "    \n",
    "\n",
    "    # block to get indices\n",
    "    trainind <- allind[1:round(length(allind) * 0.70)]\n",
    "    testind <- allind[!allind %in% trainind]  #get all indices which are not in training\n",
    "\n",
    "    #actual subsetting\n",
    "    train <- basetable_train[trainind, ]\n",
    "    yTRAIN <- train$Top10\n",
    "    train$Top10 = NULL\n",
    "    train$Top5 = NULL\n",
    "    train$Top4 = NULL\n",
    "    train$Top3 = NULL\n",
    "    \n",
    "    test <- basetable_train[testind, ]\n",
    "    yTEST <- test$Top10\n",
    "    test$Top10 <- NULL\n",
    "    test$Top5 = NULL\n",
    "    test$Top4 = NULL\n",
    "    test$Top3 = NULL\n",
    "    \n",
    "    #fit\n",
    "    model <- ranger(x=train, y = yTRAIN, num.trees = 500, mtry = 10, sample.fraction = 0.75, probability = TRUE)\n",
    "    # predict on second set (test)0\n",
    "    predictions =  predict(model,test)$predictions[,2]   \n",
    "    \n",
    "    # evaluate and store\n",
    "    all_aucs[i] <- AUC::auc(roc(predictions, yTEST))\n",
    "}\n",
    "\n",
    "# Plot\n",
    "plot(all_aucs, type = \"b\")"
   ]
  },
  {
   "cell_type": "code",
   "execution_count": 229,
   "id": "d637dcdc",
   "metadata": {},
   "outputs": [
    {
     "data": {
      "text/html": [
       "0.770694182231504"
      ],
      "text/latex": [
       "0.770694182231504"
      ],
      "text/markdown": [
       "0.770694182231504"
      ],
      "text/plain": [
       "[1] 0.7706942"
      ]
     },
     "metadata": {},
     "output_type": "display_data"
    }
   ],
   "source": [
    "mean(all_aucs)"
   ]
  },
  {
   "cell_type": "markdown",
   "id": "12b6b9f1",
   "metadata": {},
   "source": [
    "## Validation"
   ]
  },
  {
   "cell_type": "code",
   "execution_count": 231,
   "id": "d42e7104",
   "metadata": {
    "scrolled": true
   },
   "outputs": [],
   "source": [
    "set.seed(123)\n",
    "train <- basetable_train\n",
    "yTRAIN <- train$Top10\n",
    "train$Top10 = NULL\n",
    "train$Top5 = NULL\n",
    "train$Top4 = NULL\n",
    "train$Top3 = NULL\n",
    "\n",
    "test <- basetable_val\n",
    "yTEST <- test$Top10\n",
    "test$Top10 = NULL\n",
    "test$Top5 = NULL\n",
    "test$Top4 = NULL\n",
    "test$Top3 = NULL"
   ]
  },
  {
   "cell_type": "markdown",
   "id": "b7314a68",
   "metadata": {},
   "source": [
    "### Random Forest"
   ]
  },
  {
   "cell_type": "code",
   "execution_count": 232,
   "id": "cee41919",
   "metadata": {},
   "outputs": [
    {
     "data": {
      "text/html": [
       "0.852720450281426"
      ],
      "text/latex": [
       "0.852720450281426"
      ],
      "text/markdown": [
       "0.852720450281426"
      ],
      "text/plain": [
       "[1] 0.8527205"
      ]
     },
     "metadata": {},
     "output_type": "display_data"
    }
   ],
   "source": [
    "set.seed(123)\n",
    "#fit\n",
    "rFmodel <- randomForest(x=train, y = yTRAIN, ntree = 1000,mtry=15)\n",
    "# predict on second set (test)\n",
    "predictions <- predict(rFmodel, test, type = \"prob\")[, 2]\n",
    "\n",
    "AUC::auc(roc(predictions,factor(yTEST)))"
   ]
  },
  {
   "cell_type": "code",
   "execution_count": 233,
   "id": "7be804d8",
   "metadata": {},
   "outputs": [],
   "source": [
    "auc = AUC::auc(roc(predictions,factor(yTEST)))"
   ]
  },
  {
   "cell_type": "code",
   "execution_count": 234,
   "id": "0f031f07",
   "metadata": {},
   "outputs": [],
   "source": [
    "res = ifelse(predictions>=0.5,1,0)\n",
    "true_outcome = yTEST"
   ]
  },
  {
   "cell_type": "code",
   "execution_count": 235,
   "id": "007c6b45",
   "metadata": {
    "scrolled": true
   },
   "outputs": [
    {
     "data": {
      "text/plain": [
       "          Reference\n",
       "Prediction  0  1\n",
       "         0 52  6\n",
       "         1 30 46"
      ]
     },
     "metadata": {},
     "output_type": "display_data"
    },
    {
     "data": {
      "text/html": [
       "<span style=white-space:pre-wrap>'AUC:  0.852720450281426'</span>"
      ],
      "text/latex": [
       "'AUC:  0.852720450281426'"
      ],
      "text/markdown": [
       "<span style=white-space:pre-wrap>'AUC:  0.852720450281426'</span>"
      ],
      "text/plain": [
       "[1] \"AUC:  0.852720450281426\""
      ]
     },
     "metadata": {},
     "output_type": "display_data"
    },
    {
     "data": {
      "text/html": [
       "<span style=white-space:pre-wrap>'Accuracy:  0.73134328358209'</span>"
      ],
      "text/latex": [
       "'Accuracy:  0.73134328358209'"
      ],
      "text/markdown": [
       "<span style=white-space:pre-wrap>'Accuracy:  0.73134328358209'</span>"
      ],
      "text/plain": [
       "[1] \"Accuracy:  0.73134328358209\""
      ]
     },
     "metadata": {},
     "output_type": "display_data"
    },
    {
     "data": {
      "text/html": [
       "<span style=white-space:pre-wrap>'Recall:  0.884615384615385'</span>"
      ],
      "text/latex": [
       "'Recall:  0.884615384615385'"
      ],
      "text/markdown": [
       "<span style=white-space:pre-wrap>'Recall:  0.884615384615385'</span>"
      ],
      "text/plain": [
       "[1] \"Recall:  0.884615384615385\""
      ]
     },
     "metadata": {},
     "output_type": "display_data"
    },
    {
     "data": {
      "text/html": [
       "<span style=white-space:pre-wrap>'Precision:  0.605263157894737'</span>"
      ],
      "text/latex": [
       "'Precision:  0.605263157894737'"
      ],
      "text/markdown": [
       "<span style=white-space:pre-wrap>'Precision:  0.605263157894737'</span>"
      ],
      "text/plain": [
       "[1] \"Precision:  0.605263157894737\""
      ]
     },
     "metadata": {},
     "output_type": "display_data"
    }
   ],
   "source": [
    "confusionMatrix(as.factor(res), as.factor(true_outcome))[[2]]\n",
    "TN =(confusionMatrix(as.factor(res), as.factor(true_outcome)))[[2]][1,1]\n",
    "TP = (confusionMatrix(as.factor(res), as.factor(true_outcome)))[[2]][2,2]\n",
    "FN = (confusionMatrix(as.factor(res), as.factor(true_outcome)))[[2]][1,2]\n",
    "FP = (confusionMatrix(as.factor(res), as.factor(true_outcome)))[[2]][2,1]\n",
    "\n",
    "accuracy = (TP+TN)/(TP+FP+TN+FN)\n",
    "recall = TP/(TP+FN)\n",
    "precision = TP/(TP+FP)\n",
    "\n",
    "paste(\"AUC: \", auc)\n",
    "paste(\"Accuracy: \", accuracy)\n",
    "paste(\"Recall: \", recall)\n",
    "paste(\"Precision: \", precision)"
   ]
  },
  {
   "cell_type": "markdown",
   "id": "15555628",
   "metadata": {},
   "source": [
    "### Ranger"
   ]
  },
  {
   "cell_type": "code",
   "execution_count": 236,
   "id": "a1cafed8",
   "metadata": {},
   "outputs": [
    {
     "data": {
      "text/html": [
       "0.858348968105066"
      ],
      "text/latex": [
       "0.858348968105066"
      ],
      "text/markdown": [
       "0.858348968105066"
      ],
      "text/plain": [
       "[1] 0.858349"
      ]
     },
     "metadata": {},
     "output_type": "display_data"
    }
   ],
   "source": [
    "#fit\n",
    "model <- ranger(x=train, y = yTRAIN, num.trees = 1000, mtry = 8,min.node.size = 13, sample.fraction = 0.75, probability = TRUE, seed = 123)\n",
    "# predict on second set (test)\n",
    "predictions =  predict(model,test)$predictions[,2]\n",
    "\n",
    "AUC::auc(roc(predictions,factor(yTEST)))"
   ]
  },
  {
   "cell_type": "code",
   "execution_count": 237,
   "id": "feddd326",
   "metadata": {},
   "outputs": [],
   "source": [
    "auc = AUC::auc(roc(predictions,factor(yTEST)))"
   ]
  },
  {
   "cell_type": "code",
   "execution_count": 238,
   "id": "65fe9b78",
   "metadata": {},
   "outputs": [],
   "source": [
    "res = ifelse(predictions>=0.5,1,0)\n",
    "true_outcome = yTEST"
   ]
  },
  {
   "cell_type": "code",
   "execution_count": 239,
   "id": "42a695e4",
   "metadata": {
    "scrolled": true
   },
   "outputs": [
    {
     "data": {
      "text/plain": [
       "          Reference\n",
       "Prediction  0  1\n",
       "         0 53  5\n",
       "         1 29 47"
      ]
     },
     "metadata": {},
     "output_type": "display_data"
    },
    {
     "data": {
      "text/html": [
       "<span style=white-space:pre-wrap>'AUC:  0.858348968105066'</span>"
      ],
      "text/latex": [
       "'AUC:  0.858348968105066'"
      ],
      "text/markdown": [
       "<span style=white-space:pre-wrap>'AUC:  0.858348968105066'</span>"
      ],
      "text/plain": [
       "[1] \"AUC:  0.858348968105066\""
      ]
     },
     "metadata": {},
     "output_type": "display_data"
    },
    {
     "data": {
      "text/html": [
       "<span style=white-space:pre-wrap>'Accuracy:  0.746268656716418'</span>"
      ],
      "text/latex": [
       "'Accuracy:  0.746268656716418'"
      ],
      "text/markdown": [
       "<span style=white-space:pre-wrap>'Accuracy:  0.746268656716418'</span>"
      ],
      "text/plain": [
       "[1] \"Accuracy:  0.746268656716418\""
      ]
     },
     "metadata": {},
     "output_type": "display_data"
    },
    {
     "data": {
      "text/html": [
       "<span style=white-space:pre-wrap>'Recall:  0.903846153846154'</span>"
      ],
      "text/latex": [
       "'Recall:  0.903846153846154'"
      ],
      "text/markdown": [
       "<span style=white-space:pre-wrap>'Recall:  0.903846153846154'</span>"
      ],
      "text/plain": [
       "[1] \"Recall:  0.903846153846154\""
      ]
     },
     "metadata": {},
     "output_type": "display_data"
    },
    {
     "data": {
      "text/html": [
       "<span style=white-space:pre-wrap>'Precision:  0.618421052631579'</span>"
      ],
      "text/latex": [
       "'Precision:  0.618421052631579'"
      ],
      "text/markdown": [
       "<span style=white-space:pre-wrap>'Precision:  0.618421052631579'</span>"
      ],
      "text/plain": [
       "[1] \"Precision:  0.618421052631579\""
      ]
     },
     "metadata": {},
     "output_type": "display_data"
    }
   ],
   "source": [
    "confusionMatrix(as.factor(res), as.factor(true_outcome))[[2]]\n",
    "TN =(confusionMatrix(as.factor(res), as.factor(true_outcome)))[[2]][1,1]\n",
    "TP = (confusionMatrix(as.factor(res), as.factor(true_outcome)))[[2]][2,2]\n",
    "FN = (confusionMatrix(as.factor(res), as.factor(true_outcome)))[[2]][1,2]\n",
    "FP = (confusionMatrix(as.factor(res), as.factor(true_outcome)))[[2]][2,1]\n",
    "\n",
    "accuracy = (TP+TN)/(TP+FP+TN+FN)\n",
    "recall = TP/(TP+FN)\n",
    "precision = TP/(TP+FP)\n",
    "\n",
    "paste(\"AUC: \", auc)\n",
    "paste(\"Accuracy: \", accuracy)\n",
    "paste(\"Recall: \", recall)\n",
    "paste(\"Precision: \", precision)"
   ]
  },
  {
   "cell_type": "markdown",
   "id": "8561ac59",
   "metadata": {},
   "source": [
    "# Prediction if finish in the top 5"
   ]
  },
  {
   "cell_type": "markdown",
   "id": "ac7b140b",
   "metadata": {},
   "source": [
    "## Random Forest"
   ]
  },
  {
   "cell_type": "markdown",
   "id": "f98c4b55",
   "metadata": {},
   "source": [
    "## Tuning"
   ]
  },
  {
   "cell_type": "code",
   "execution_count": 241,
   "id": "aa0c4a1e",
   "metadata": {},
   "outputs": [
    {
     "data": {
      "text/html": [
       "735"
      ],
      "text/latex": [
       "735"
      ],
      "text/markdown": [
       "735"
      ],
      "text/plain": [
       "[1] 735"
      ]
     },
     "metadata": {},
     "output_type": "display_data"
    }
   ],
   "source": [
    "# hyperparameter grid search\n",
    "hyper_grid <- expand.grid(\n",
    "   num_trees = c(1000),\n",
    "  mtry       = seq(15, 35, by = 1),\n",
    "  node_size  = seq(1, 13, by = 2),\n",
    "  sampe_size = c(.55, .632, .70,0.75,.80),\n",
    "  OOB_RMSE   = 0\n",
    " \n",
    ")\n",
    "nrow(hyper_grid)"
   ]
  },
  {
   "cell_type": "code",
   "execution_count": 242,
   "id": "69f783be",
   "metadata": {},
   "outputs": [],
   "source": [
    "for(i in 1:nrow(hyper_grid)) {\n",
    "  \n",
    "  # train model\n",
    "  model <- ranger(\n",
    "    x               = basetable_train[,-(40:43)], \n",
    "    y               = basetable_train$Top5, \n",
    "    num.trees       = hyper_grid$mtry[i],\n",
    "    mtry            = hyper_grid$mtry[i],\n",
    "    min.node.size   = hyper_grid$node_size[i],\n",
    "    sample.fraction = hyper_grid$sampe_size[i],\n",
    "    probability     = TRUE,\n",
    "    seed            = 123\n",
    "  )\n",
    "  \n",
    "  # add OOB error to grid\n",
    "  hyper_grid$OOB_RMSE[i] <- sqrt(model$prediction.error)\n",
    "}"
   ]
  },
  {
   "cell_type": "code",
   "execution_count": 243,
   "id": "bf7382a7",
   "metadata": {
    "scrolled": true
   },
   "outputs": [
    {
     "data": {
      "text/html": [
       "<table>\n",
       "<thead><tr><th scope=col>num_trees</th><th scope=col>mtry</th><th scope=col>node_size</th><th scope=col>sampe_size</th><th scope=col>OOB_RMSE</th></tr></thead>\n",
       "<tbody>\n",
       "\t<tr><td>1000     </td><td>23       </td><td>13       </td><td>0.55     </td><td>0.4323601</td></tr>\n",
       "\t<tr><td>1000     </td><td>28       </td><td> 1       </td><td>0.55     </td><td>0.4336332</td></tr>\n",
       "\t<tr><td>1000     </td><td>23       </td><td> 9       </td><td>0.55     </td><td>0.4336788</td></tr>\n",
       "\t<tr><td>1000     </td><td>29       </td><td> 3       </td><td>0.55     </td><td>0.4342016</td></tr>\n",
       "\t<tr><td>1000     </td><td>23       </td><td> 1       </td><td>0.55     </td><td>0.4350425</td></tr>\n",
       "\t<tr><td>1000     </td><td>23       </td><td> 7       </td><td>0.55     </td><td>0.4354238</td></tr>\n",
       "\t<tr><td>1000     </td><td>28       </td><td>13       </td><td>0.55     </td><td>0.4363582</td></tr>\n",
       "\t<tr><td>1000     </td><td>29       </td><td> 1       </td><td>0.55     </td><td>0.4369861</td></tr>\n",
       "\t<tr><td>1000     </td><td>28       </td><td> 3       </td><td>0.55     </td><td>0.4378036</td></tr>\n",
       "\t<tr><td>1000     </td><td>23       </td><td>11       </td><td>0.55     </td><td>0.4379229</td></tr>\n",
       "</tbody>\n",
       "</table>\n"
      ],
      "text/latex": [
       "\\begin{tabular}{r|lllll}\n",
       " num\\_trees & mtry & node\\_size & sampe\\_size & OOB\\_RMSE\\\\\n",
       "\\hline\n",
       "\t 1000      & 23        & 13        & 0.55      & 0.4323601\\\\\n",
       "\t 1000      & 28        &  1        & 0.55      & 0.4336332\\\\\n",
       "\t 1000      & 23        &  9        & 0.55      & 0.4336788\\\\\n",
       "\t 1000      & 29        &  3        & 0.55      & 0.4342016\\\\\n",
       "\t 1000      & 23        &  1        & 0.55      & 0.4350425\\\\\n",
       "\t 1000      & 23        &  7        & 0.55      & 0.4354238\\\\\n",
       "\t 1000      & 28        & 13        & 0.55      & 0.4363582\\\\\n",
       "\t 1000      & 29        &  1        & 0.55      & 0.4369861\\\\\n",
       "\t 1000      & 28        &  3        & 0.55      & 0.4378036\\\\\n",
       "\t 1000      & 23        & 11        & 0.55      & 0.4379229\\\\\n",
       "\\end{tabular}\n"
      ],
      "text/markdown": [
       "\n",
       "| num_trees | mtry | node_size | sampe_size | OOB_RMSE |\n",
       "|---|---|---|---|---|\n",
       "| 1000      | 23        | 13        | 0.55      | 0.4323601 |\n",
       "| 1000      | 28        |  1        | 0.55      | 0.4336332 |\n",
       "| 1000      | 23        |  9        | 0.55      | 0.4336788 |\n",
       "| 1000      | 29        |  3        | 0.55      | 0.4342016 |\n",
       "| 1000      | 23        |  1        | 0.55      | 0.4350425 |\n",
       "| 1000      | 23        |  7        | 0.55      | 0.4354238 |\n",
       "| 1000      | 28        | 13        | 0.55      | 0.4363582 |\n",
       "| 1000      | 29        |  1        | 0.55      | 0.4369861 |\n",
       "| 1000      | 28        |  3        | 0.55      | 0.4378036 |\n",
       "| 1000      | 23        | 11        | 0.55      | 0.4379229 |\n",
       "\n"
      ],
      "text/plain": [
       "   num_trees mtry node_size sampe_size OOB_RMSE \n",
       "1  1000      23   13        0.55       0.4323601\n",
       "2  1000      28    1        0.55       0.4336332\n",
       "3  1000      23    9        0.55       0.4336788\n",
       "4  1000      29    3        0.55       0.4342016\n",
       "5  1000      23    1        0.55       0.4350425\n",
       "6  1000      23    7        0.55       0.4354238\n",
       "7  1000      28   13        0.55       0.4363582\n",
       "8  1000      29    1        0.55       0.4369861\n",
       "9  1000      28    3        0.55       0.4378036\n",
       "10 1000      23   11        0.55       0.4379229"
      ]
     },
     "metadata": {},
     "output_type": "display_data"
    }
   ],
   "source": [
    "hyper_grid %>% \n",
    "  dplyr::arrange(OOB_RMSE) %>%\n",
    "  head(10)\n"
   ]
  },
  {
   "cell_type": "markdown",
   "id": "5cd2d2a5",
   "metadata": {},
   "source": [
    "### 5x2cv"
   ]
  },
  {
   "cell_type": "code",
   "execution_count": 244,
   "id": "52732695",
   "metadata": {
    "scrolled": false
   },
   "outputs": [
    {
     "data": {
      "image/png": "[encoded data removed]",
      "text/plain": [
       "plot without title"
      ]
     },
     "metadata": {},
     "output_type": "display_data"
    }
   ],
   "source": [
    "# By setting a new unique seed, you ensure a different\n",
    "# 'random' split\n",
    "seeds <- c(123, 246, 91, 949, 9000, 1860, 1853, 1416, 515, 369,145,36920,877,124,617,1743,4852,9001,9005,9004,14,15,19,18,246,47,1,2,3,4,5,6,7,20)  #give 10 random values\n",
    "all_aucs <- vector(length = length(seeds))\n",
    "\n",
    "for (i in 1:length(seeds)) {\n",
    "    set.seed(seeds[i])\n",
    "    allind <- sample(x = 1:nrow(basetable_train), size = nrow(basetable_train),\n",
    "        replace = TRUE)  # WITH replacement\n",
    "    \n",
    "\n",
    "    # block to get indices\n",
    "    trainind <- allind[1:round(length(allind) * 0.70)]\n",
    "    testind <- allind[!allind %in% trainind]  #get all indices which are not in training\n",
    "\n",
    "    #actual subsetting\n",
    "    train <- basetable_train[trainind, ]\n",
    "    yTRAIN <- train$Top5\n",
    "    train$Top10 = NULL\n",
    "    train$Top5 = NULL\n",
    "    train$Top4 = NULL\n",
    "    train$Top3 = NULL\n",
    "    \n",
    "    test <- basetable_train[testind, ]\n",
    "    yTEST <- test$Top10\n",
    "    test$Top5 <- NULL\n",
    "    test$Top5 = NULL\n",
    "    test$Top4 = NULL\n",
    "    test$Top3 = NULL\n",
    "    \n",
    "    #fit\n",
    "    model <- ranger(x=train, y = yTRAIN, num.trees = 500, mtry = 10, sample.fraction = 0.75, probability = TRUE)\n",
    "    # predict on second set (test)0\n",
    "    predictions =  predict(model,test)$predictions[,2]   \n",
    "    \n",
    "    # evaluate and store\n",
    "    all_aucs[i] <- AUC::auc(roc(predictions, yTEST))\n",
    "}\n",
    "\n",
    "# Plot\n",
    "plot(all_aucs, type = \"b\")"
   ]
  },
  {
   "cell_type": "code",
   "execution_count": 245,
   "id": "0a627dd7",
   "metadata": {},
   "outputs": [
    {
     "data": {
      "text/html": [
       "0.799679071266768"
      ],
      "text/latex": [
       "0.799679071266768"
      ],
      "text/markdown": [
       "0.799679071266768"
      ],
      "text/plain": [
       "[1] 0.7996791"
      ]
     },
     "metadata": {},
     "output_type": "display_data"
    }
   ],
   "source": [
    "mean(all_aucs)"
   ]
  },
  {
   "cell_type": "markdown",
   "id": "471b9e80",
   "metadata": {},
   "source": [
    "## Validation"
   ]
  },
  {
   "cell_type": "code",
   "execution_count": 246,
   "id": "7a6db7d1",
   "metadata": {},
   "outputs": [
    {
     "data": {
      "text/html": [
       "<table>\n",
       "<thead><tr><th scope=col>flat_mean</th><th scope=col>mountain_mean</th><th scope=col>downhill_mean</th><th scope=col>cobbles_mean</th><th scope=col>tt_mean</th><th scope=col>prologue_mean</th><th scope=col>sprint_mean</th><th scope=col>acceleration_mean</th><th scope=col>endurance_mean</th><th scope=col>resistance_mean</th><th scope=col>recup_mean</th><th scope=col>hill_mean</th><th scope=col>attack_mean</th><th scope=col>flat_max</th><th scope=col>mountain_max</th><th scope=col>downhill_max</th><th scope=col>cobbles_max</th><th scope=col>tt_max</th><th scope=col>prologue_max</th><th scope=col>sprint_max</th><th scope=col>acceleration_max</th><th scope=col>endurance_max</th><th scope=col>resistance_max</th><th scope=col>recup_max</th><th scope=col>hill_max</th><th scope=col>attack_max</th><th scope=col>flat_min</th><th scope=col>mountain_min</th><th scope=col>downhill_min</th><th scope=col>cobbles_min</th><th scope=col>tt_min</th><th scope=col>prologue_min</th><th scope=col>sprint_min</th><th scope=col>acceleration_min</th><th scope=col>endurance_min</th><th scope=col>resistance_min</th><th scope=col>recup_min</th><th scope=col>hill_min</th><th scope=col>attack_min</th><th scope=col>Top10</th><th scope=col>Top5</th><th scope=col>Top4</th><th scope=col>Top3</th></tr></thead>\n",
       "<tbody>\n",
       "\t<tr><td>68</td><td>68</td><td>73</td><td>60</td><td>63</td><td>65</td><td>65</td><td>70</td><td>66</td><td>67</td><td>69</td><td>71</td><td>68</td><td>72</td><td>77</td><td>81</td><td>69</td><td>73</td><td>74</td><td>73</td><td>78</td><td>70</td><td>74</td><td>76</td><td>76</td><td>75</td><td>64</td><td>56</td><td>66</td><td>53</td><td>58</td><td>61</td><td>55</td><td>66</td><td>63</td><td>63</td><td>60</td><td>64</td><td>63</td><td>1 </td><td>0 </td><td>0 </td><td>0 </td></tr>\n",
       "\t<tr><td>69</td><td>65</td><td>67</td><td>59</td><td>64</td><td>64</td><td>67</td><td>70</td><td>66</td><td>64</td><td>67</td><td>69</td><td>68</td><td>72</td><td>74</td><td>72</td><td>66</td><td>72</td><td>73</td><td>75</td><td>76</td><td>70</td><td>66</td><td>71</td><td>75</td><td>76</td><td>65</td><td>54</td><td>63</td><td>55</td><td>59</td><td>58</td><td>60</td><td>63</td><td>63</td><td>62</td><td>65</td><td>60</td><td>61</td><td>1 </td><td>1 </td><td>0 </td><td>0 </td></tr>\n",
       "\t<tr><td>70</td><td>74</td><td>69</td><td>58</td><td>68</td><td>70</td><td>64</td><td>69</td><td>70</td><td>71</td><td>73</td><td>76</td><td>73</td><td>77</td><td>80</td><td>77</td><td>73</td><td>75</td><td>78</td><td>70</td><td>76</td><td>74</td><td>74</td><td>75</td><td>78</td><td>81</td><td>63</td><td>71</td><td>64</td><td>54</td><td>58</td><td>60</td><td>57</td><td>64</td><td>67</td><td>67</td><td>68</td><td>73</td><td>67</td><td>0 </td><td>0 </td><td>0 </td><td>0 </td></tr>\n",
       "\t<tr><td>70</td><td>70</td><td>71</td><td>60</td><td>64</td><td>66</td><td>65</td><td>71</td><td>68</td><td>68</td><td>70</td><td>74</td><td>68</td><td>74</td><td>80</td><td>82</td><td>71</td><td>71</td><td>72</td><td>77</td><td>78</td><td>73</td><td>74</td><td>76</td><td>78</td><td>76</td><td>64</td><td>62</td><td>65</td><td>55</td><td>58</td><td>59</td><td>55</td><td>59</td><td>60</td><td>62</td><td>65</td><td>70</td><td>59</td><td>1 </td><td>1 </td><td>1 </td><td>1 </td></tr>\n",
       "\t<tr><td>67</td><td>65</td><td>66</td><td>60</td><td>60</td><td>60</td><td>65</td><td>69</td><td>65</td><td>64</td><td>65</td><td>68</td><td>65</td><td>72</td><td>76</td><td>73</td><td>64</td><td>65</td><td>63</td><td>76</td><td>77</td><td>69</td><td>69</td><td>75</td><td>75</td><td>74</td><td>62</td><td>54</td><td>62</td><td>55</td><td>56</td><td>58</td><td>58</td><td>63</td><td>60</td><td>60</td><td>60</td><td>62</td><td>55</td><td>1 </td><td>0 </td><td>0 </td><td>0 </td></tr>\n",
       "\t<tr><td>73</td><td>69</td><td>71</td><td>68</td><td>69</td><td>71</td><td>66</td><td>70</td><td>70</td><td>71</td><td>71</td><td>74</td><td>68</td><td>77</td><td>76</td><td>79</td><td>78</td><td>82</td><td>82</td><td>75</td><td>78</td><td>74</td><td>76</td><td>78</td><td>77</td><td>81</td><td>66</td><td>61</td><td>67</td><td>60</td><td>65</td><td>64</td><td>58</td><td>62</td><td>65</td><td>67</td><td>66</td><td>70</td><td>57</td><td>1 </td><td>1 </td><td>1 </td><td>1 </td></tr>\n",
       "\t<tr><td>71</td><td>69</td><td>71</td><td>64</td><td>65</td><td>67</td><td>66</td><td>69</td><td>68</td><td>68</td><td>70</td><td>73</td><td>68</td><td>73</td><td>78</td><td>75</td><td>72</td><td>70</td><td>70</td><td>79</td><td>79</td><td>71</td><td>71</td><td>76</td><td>77</td><td>81</td><td>67</td><td>55</td><td>67</td><td>57</td><td>61</td><td>63</td><td>60</td><td>64</td><td>65</td><td>65</td><td>66</td><td>68</td><td>61</td><td>1 </td><td>1 </td><td>1 </td><td>1 </td></tr>\n",
       "\t<tr><td>69</td><td>71</td><td>68</td><td>59</td><td>65</td><td>66</td><td>62</td><td>68</td><td>67</td><td>68</td><td>71</td><td>72</td><td>69</td><td>73</td><td>79</td><td>75</td><td>61</td><td>68</td><td>69</td><td>74</td><td>75</td><td>70</td><td>74</td><td>77</td><td>78</td><td>77</td><td>63</td><td>65</td><td>64</td><td>54</td><td>59</td><td>61</td><td>55</td><td>58</td><td>62</td><td>65</td><td>67</td><td>69</td><td>55</td><td>1 </td><td>1 </td><td>0 </td><td>0 </td></tr>\n",
       "\t<tr><td>73</td><td>70</td><td>69</td><td>64</td><td>72</td><td>73</td><td>65</td><td>69</td><td>71</td><td>70</td><td>73</td><td>74</td><td>68</td><td>77</td><td>81</td><td>74</td><td>75</td><td>75</td><td>76</td><td>73</td><td>73</td><td>75</td><td>76</td><td>79</td><td>77</td><td>71</td><td>69</td><td>55</td><td>65</td><td>55</td><td>68</td><td>71</td><td>60</td><td>62</td><td>67</td><td>67</td><td>68</td><td>68</td><td>59</td><td>0 </td><td>0 </td><td>0 </td><td>0 </td></tr>\n",
       "\t<tr><td>71</td><td>64</td><td>71</td><td>65</td><td>65</td><td>67</td><td>67</td><td>70</td><td>67</td><td>66</td><td>67</td><td>69</td><td>69</td><td>73</td><td>76</td><td>75</td><td>69</td><td>74</td><td>73</td><td>75</td><td>76</td><td>73</td><td>72</td><td>71</td><td>78</td><td>77</td><td>60</td><td>55</td><td>67</td><td>54</td><td>56</td><td>59</td><td>57</td><td>59</td><td>58</td><td>60</td><td>62</td><td>61</td><td>61</td><td>1 </td><td>0 </td><td>0 </td><td>0 </td></tr>\n",
       "\t<tr><td>74</td><td>65</td><td>71</td><td>68</td><td>71</td><td>74</td><td>67</td><td>69</td><td>68</td><td>69</td><td>69</td><td>72</td><td>70</td><td>79</td><td>73</td><td>82</td><td>75</td><td>81</td><td>80</td><td>76</td><td>75</td><td>72</td><td>73</td><td>76</td><td>75</td><td>78</td><td>71</td><td>57</td><td>65</td><td>62</td><td>63</td><td>69</td><td>57</td><td>60</td><td>65</td><td>67</td><td>63</td><td>68</td><td>63</td><td>1 </td><td>1 </td><td>1 </td><td>0 </td></tr>\n",
       "\t<tr><td>74</td><td>65</td><td>70</td><td>69</td><td>67</td><td>70</td><td>66</td><td>70</td><td>69</td><td>69</td><td>70</td><td>72</td><td>70</td><td>76</td><td>75</td><td>80</td><td>78</td><td>77</td><td>78</td><td>76</td><td>76</td><td>76</td><td>80</td><td>78</td><td>79</td><td>82</td><td>72</td><td>56</td><td>65</td><td>62</td><td>60</td><td>63</td><td>55</td><td>60</td><td>66</td><td>64</td><td>62</td><td>62</td><td>61</td><td>1 </td><td>1 </td><td>0 </td><td>0 </td></tr>\n",
       "\t<tr><td>70</td><td>70</td><td>70</td><td>63</td><td>69</td><td>69</td><td>61</td><td>67</td><td>70</td><td>71</td><td>72</td><td>74</td><td>71</td><td>73</td><td>80</td><td>77</td><td>72</td><td>75</td><td>75</td><td>68</td><td>78</td><td>75</td><td>77</td><td>78</td><td>80</td><td>78</td><td>66</td><td>56</td><td>63</td><td>57</td><td>63</td><td>64</td><td>54</td><td>55</td><td>63</td><td>63</td><td>62</td><td>62</td><td>65</td><td>0 </td><td>0 </td><td>0 </td><td>0 </td></tr>\n",
       "\t<tr><td>66</td><td>74</td><td>68</td><td>57</td><td>64</td><td>66</td><td>61</td><td>68</td><td>66</td><td>67</td><td>69</td><td>73</td><td>67</td><td>70</td><td>78</td><td>72</td><td>63</td><td>72</td><td>73</td><td>67</td><td>76</td><td>69</td><td>69</td><td>72</td><td>76</td><td>70</td><td>61</td><td>68</td><td>63</td><td>54</td><td>59</td><td>61</td><td>55</td><td>61</td><td>61</td><td>62</td><td>64</td><td>66</td><td>63</td><td>0 </td><td>0 </td><td>0 </td><td>0 </td></tr>\n",
       "\t<tr><td>74</td><td>63</td><td>74</td><td>68</td><td>68</td><td>72</td><td>70</td><td>73</td><td>70</td><td>70</td><td>69</td><td>71</td><td>70</td><td>77</td><td>73</td><td>83</td><td>81</td><td>75</td><td>77</td><td>83</td><td>81</td><td>74</td><td>78</td><td>72</td><td>75</td><td>79</td><td>68</td><td>56</td><td>69</td><td>52</td><td>63</td><td>65</td><td>58</td><td>64</td><td>66</td><td>63</td><td>65</td><td>66</td><td>60</td><td>1 </td><td>1 </td><td>1 </td><td>1 </td></tr>\n",
       "\t<tr><td>71</td><td>67</td><td>69</td><td>63</td><td>63</td><td>66</td><td>67</td><td>70</td><td>69</td><td>68</td><td>69</td><td>71</td><td>68</td><td>74</td><td>78</td><td>74</td><td>73</td><td>68</td><td>73</td><td>79</td><td>78</td><td>74</td><td>75</td><td>74</td><td>78</td><td>73</td><td>66</td><td>55</td><td>64</td><td>55</td><td>61</td><td>63</td><td>54</td><td>60</td><td>65</td><td>65</td><td>65</td><td>63</td><td>58</td><td>1 </td><td>1 </td><td>1 </td><td>1 </td></tr>\n",
       "\t<tr><td>72</td><td>67</td><td>70</td><td>65</td><td>68</td><td>70</td><td>67</td><td>70</td><td>68</td><td>68</td><td>70</td><td>72</td><td>69</td><td>75</td><td>78</td><td>74</td><td>72</td><td>78</td><td>79</td><td>77</td><td>76</td><td>71</td><td>72</td><td>73</td><td>76</td><td>75</td><td>69</td><td>55</td><td>62</td><td>54</td><td>61</td><td>63</td><td>63</td><td>66</td><td>64</td><td>64</td><td>67</td><td>67</td><td>64</td><td>1 </td><td>1 </td><td>1 </td><td>1 </td></tr>\n",
       "\t<tr><td>70</td><td>74</td><td>69</td><td>61</td><td>71</td><td>72</td><td>61</td><td>69</td><td>71</td><td>72</td><td>75</td><td>75</td><td>70</td><td>79</td><td>83</td><td>76</td><td>73</td><td>79</td><td>78</td><td>65</td><td>80</td><td>76</td><td>78</td><td>82</td><td>80</td><td>74</td><td>62</td><td>61</td><td>63</td><td>53</td><td>57</td><td>60</td><td>56</td><td>54</td><td>67</td><td>67</td><td>67</td><td>72</td><td>67</td><td>0 </td><td>0 </td><td>0 </td><td>0 </td></tr>\n",
       "\t<tr><td>69</td><td>71</td><td>67</td><td>62</td><td>67</td><td>68</td><td>61</td><td>67</td><td>67</td><td>68</td><td>71</td><td>71</td><td>68</td><td>76</td><td>80</td><td>76</td><td>68</td><td>83</td><td>82</td><td>65</td><td>69</td><td>76</td><td>77</td><td>79</td><td>76</td><td>73</td><td>64</td><td>55</td><td>61</td><td>54</td><td>57</td><td>59</td><td>53</td><td>62</td><td>62</td><td>63</td><td>66</td><td>66</td><td>61</td><td>0 </td><td>0 </td><td>0 </td><td>0 </td></tr>\n",
       "\t<tr><td>70</td><td>66</td><td>73</td><td>64</td><td>69</td><td>70</td><td>64</td><td>69</td><td>67</td><td>68</td><td>68</td><td>72</td><td>70</td><td>75</td><td>75</td><td>81</td><td>75</td><td>78</td><td>77</td><td>72</td><td>75</td><td>73</td><td>73</td><td>76</td><td>78</td><td>79</td><td>64</td><td>57</td><td>66</td><td>54</td><td>61</td><td>62</td><td>57</td><td>59</td><td>63</td><td>64</td><td>63</td><td>65</td><td>60</td><td>1 </td><td>0 </td><td>0 </td><td>0 </td></tr>\n",
       "\t<tr><td>71</td><td>71</td><td>70</td><td>61</td><td>65</td><td>65</td><td>66</td><td>74</td><td>70</td><td>71</td><td>70</td><td>75</td><td>74</td><td>75</td><td>80</td><td>82</td><td>77</td><td>75</td><td>73</td><td>71</td><td>80</td><td>74</td><td>73</td><td>75</td><td>80</td><td>82</td><td>65</td><td>64</td><td>67</td><td>54</td><td>55</td><td>58</td><td>58</td><td>64</td><td>65</td><td>68</td><td>68</td><td>72</td><td>64</td><td>1 </td><td>0 </td><td>0 </td><td>0 </td></tr>\n",
       "\t<tr><td>68</td><td>59</td><td>67</td><td>62</td><td>61</td><td>62</td><td>66</td><td>67</td><td>63</td><td>62</td><td>64</td><td>64</td><td>66</td><td>72</td><td>73</td><td>71</td><td>67</td><td>67</td><td>67</td><td>78</td><td>77</td><td>66</td><td>65</td><td>71</td><td>73</td><td>76</td><td>64</td><td>54</td><td>61</td><td>54</td><td>56</td><td>57</td><td>53</td><td>57</td><td>59</td><td>57</td><td>56</td><td>59</td><td>57</td><td>1 </td><td>1 </td><td>1 </td><td>1 </td></tr>\n",
       "\t<tr><td>71</td><td>73</td><td>71</td><td>64</td><td>68</td><td>68</td><td>65</td><td>71</td><td>71</td><td>73</td><td>72</td><td>74</td><td>73</td><td>75</td><td>76</td><td>77</td><td>73</td><td>74</td><td>74</td><td>71</td><td>77</td><td>75</td><td>76</td><td>74</td><td>77</td><td>77</td><td>67</td><td>71</td><td>66</td><td>60</td><td>62</td><td>61</td><td>61</td><td>69</td><td>68</td><td>70</td><td>68</td><td>70</td><td>69</td><td>0 </td><td>0 </td><td>0 </td><td>0 </td></tr>\n",
       "\t<tr><td>71</td><td>70</td><td>69</td><td>63</td><td>66</td><td>66</td><td>69</td><td>73</td><td>72</td><td>72</td><td>71</td><td>74</td><td>73</td><td>74</td><td>76</td><td>73</td><td>68</td><td>74</td><td>72</td><td>77</td><td>77</td><td>75</td><td>76</td><td>75</td><td>76</td><td>79</td><td>65</td><td>61</td><td>63</td><td>60</td><td>60</td><td>62</td><td>63</td><td>69</td><td>64</td><td>67</td><td>63</td><td>71</td><td>68</td><td>1 </td><td>0 </td><td>0 </td><td>0 </td></tr>\n",
       "\t<tr><td>70</td><td>76</td><td>72</td><td>61</td><td>71</td><td>72</td><td>66</td><td>72</td><td>74</td><td>73</td><td>74</td><td>75</td><td>74</td><td>75</td><td>80</td><td>79</td><td>69</td><td>74</td><td>76</td><td>69</td><td>76</td><td>76</td><td>75</td><td>77</td><td>78</td><td>77</td><td>68</td><td>72</td><td>68</td><td>60</td><td>66</td><td>66</td><td>63</td><td>66</td><td>69</td><td>72</td><td>68</td><td>72</td><td>69</td><td>0 </td><td>0 </td><td>0 </td><td>0 </td></tr>\n",
       "\t<tr><td>71</td><td>74</td><td>73</td><td>65</td><td>67</td><td>68</td><td>66</td><td>71</td><td>72</td><td>73</td><td>73</td><td>74</td><td>74</td><td>75</td><td>80</td><td>81</td><td>74</td><td>74</td><td>73</td><td>73</td><td>76</td><td>78</td><td>75</td><td>83</td><td>78</td><td>81</td><td>67</td><td>68</td><td>66</td><td>60</td><td>60</td><td>62</td><td>61</td><td>65</td><td>65</td><td>70</td><td>65</td><td>72</td><td>69</td><td>0 </td><td>0 </td><td>0 </td><td>0 </td></tr>\n",
       "\t<tr><td>70</td><td>68</td><td>66</td><td>63</td><td>64</td><td>65</td><td>66</td><td>69</td><td>67</td><td>70</td><td>68</td><td>70</td><td>72</td><td>74</td><td>73</td><td>72</td><td>68</td><td>69</td><td>69</td><td>73</td><td>73</td><td>72</td><td>73</td><td>73</td><td>73</td><td>81</td><td>63</td><td>61</td><td>61</td><td>60</td><td>60</td><td>61</td><td>61</td><td>64</td><td>61</td><td>61</td><td>62</td><td>64</td><td>63</td><td>1 </td><td>0 </td><td>0 </td><td>0 </td></tr>\n",
       "\t<tr><td>73</td><td>71</td><td>70</td><td>64</td><td>66</td><td>68</td><td>72</td><td>75</td><td>73</td><td>74</td><td>72</td><td>73</td><td>72</td><td>77</td><td>79</td><td>75</td><td>73</td><td>72</td><td>72</td><td>81</td><td>80</td><td>79</td><td>77</td><td>76</td><td>78</td><td>81</td><td>69</td><td>61</td><td>67</td><td>60</td><td>63</td><td>61</td><td>64</td><td>69</td><td>67</td><td>72</td><td>66</td><td>66</td><td>62</td><td>1 </td><td>1 </td><td>1 </td><td>1 </td></tr>\n",
       "\t<tr><td>72</td><td>69</td><td>70</td><td>65</td><td>69</td><td>70</td><td>68</td><td>72</td><td>70</td><td>72</td><td>70</td><td>70</td><td>72</td><td>75</td><td>75</td><td>74</td><td>72</td><td>74</td><td>73</td><td>78</td><td>80</td><td>73</td><td>74</td><td>74</td><td>74</td><td>76</td><td>67</td><td>60</td><td>66</td><td>60</td><td>62</td><td>66</td><td>60</td><td>67</td><td>67</td><td>70</td><td>65</td><td>62</td><td>62</td><td>1 </td><td>0 </td><td>0 </td><td>0 </td></tr>\n",
       "\t<tr><td>74</td><td>68</td><td>71</td><td>70</td><td>69</td><td>70</td><td>70</td><td>73</td><td>74</td><td>75</td><td>71</td><td>72</td><td>71</td><td>79</td><td>76</td><td>77</td><td>77</td><td>78</td><td>77</td><td>80</td><td>82</td><td>78</td><td>79</td><td>75</td><td>76</td><td>78</td><td>67</td><td>61</td><td>66</td><td>60</td><td>62</td><td>66</td><td>62</td><td>67</td><td>68</td><td>72</td><td>67</td><td>66</td><td>64</td><td>1 </td><td>1 </td><td>1 </td><td>1 </td></tr>\n",
       "\t<tr><td>71</td><td>69</td><td>69</td><td>65</td><td>66</td><td>69</td><td>70</td><td>73</td><td>70</td><td>73</td><td>71</td><td>73</td><td>69</td><td>75</td><td>76</td><td>75</td><td>71</td><td>72</td><td>75</td><td>78</td><td>78</td><td>77</td><td>76</td><td>76</td><td>80</td><td>76</td><td>67</td><td>61</td><td>62</td><td>60</td><td>62</td><td>62</td><td>60</td><td>65</td><td>68</td><td>69</td><td>65</td><td>66</td><td>60</td><td>1 </td><td>1 </td><td>0 </td><td>0 </td></tr>\n",
       "\t<tr><td>70</td><td>73</td><td>69</td><td>63</td><td>67</td><td>68</td><td>66</td><td>71</td><td>70</td><td>71</td><td>71</td><td>74</td><td>72</td><td>76</td><td>77</td><td>76</td><td>74</td><td>73</td><td>73</td><td>77</td><td>78</td><td>76</td><td>75</td><td>75</td><td>76</td><td>79</td><td>63</td><td>62</td><td>65</td><td>60</td><td>60</td><td>60</td><td>61</td><td>65</td><td>65</td><td>67</td><td>67</td><td>71</td><td>64</td><td>1 </td><td>0 </td><td>0 </td><td>0 </td></tr>\n",
       "\t<tr><td>75</td><td>66</td><td>71</td><td>70</td><td>68</td><td>69</td><td>71</td><td>73</td><td>73</td><td>74</td><td>71</td><td>70</td><td>71</td><td>78</td><td>75</td><td>77</td><td>75</td><td>75</td><td>77</td><td>80</td><td>78</td><td>77</td><td>78</td><td>79</td><td>76</td><td>77</td><td>73</td><td>60</td><td>66</td><td>62</td><td>61</td><td>61</td><td>60</td><td>66</td><td>68</td><td>72</td><td>66</td><td>66</td><td>64</td><td>1 </td><td>1 </td><td>1 </td><td>1 </td></tr>\n",
       "\t<tr><td>71</td><td>66</td><td>70</td><td>64</td><td>63</td><td>65</td><td>68</td><td>70</td><td>70</td><td>71</td><td>68</td><td>70</td><td>72</td><td>76</td><td>75</td><td>74</td><td>69</td><td>69</td><td>68</td><td>75</td><td>77</td><td>75</td><td>75</td><td>74</td><td>75</td><td>79</td><td>64</td><td>60</td><td>63</td><td>60</td><td>60</td><td>61</td><td>61</td><td>61</td><td>61</td><td>63</td><td>61</td><td>60</td><td>65</td><td>1 </td><td>1 </td><td>0 </td><td>0 </td></tr>\n",
       "\t<tr><td>75</td><td>67</td><td>71</td><td>68</td><td>70</td><td>70</td><td>70</td><td>73</td><td>72</td><td>77</td><td>72</td><td>72</td><td>74</td><td>77</td><td>74</td><td>76</td><td>72</td><td>80</td><td>79</td><td>79</td><td>82</td><td>78</td><td>78</td><td>76</td><td>80</td><td>82</td><td>72</td><td>60</td><td>65</td><td>64</td><td>63</td><td>62</td><td>62</td><td>69</td><td>66</td><td>74</td><td>68</td><td>65</td><td>66</td><td>1 </td><td>1 </td><td>1 </td><td>1 </td></tr>\n",
       "\t<tr><td>72</td><td>74</td><td>71</td><td>66</td><td>72</td><td>72</td><td>65</td><td>71</td><td>73</td><td>74</td><td>73</td><td>75</td><td>75</td><td>78</td><td>81</td><td>75</td><td>76</td><td>76</td><td>77</td><td>67</td><td>77</td><td>76</td><td>76</td><td>75</td><td>78</td><td>79</td><td>68</td><td>67</td><td>68</td><td>60</td><td>69</td><td>67</td><td>61</td><td>67</td><td>66</td><td>72</td><td>68</td><td>71</td><td>70</td><td>0 </td><td>0 </td><td>0 </td><td>0 </td></tr>\n",
       "\t<tr><td>72</td><td>74</td><td>72</td><td>66</td><td>69</td><td>70</td><td>68</td><td>72</td><td>71</td><td>74</td><td>74</td><td>75</td><td>73</td><td>76</td><td>80</td><td>80</td><td>74</td><td>75</td><td>76</td><td>73</td><td>76</td><td>76</td><td>76</td><td>81</td><td>78</td><td>79</td><td>69</td><td>70</td><td>64</td><td>60</td><td>62</td><td>64</td><td>62</td><td>65</td><td>66</td><td>72</td><td>67</td><td>72</td><td>66</td><td>0 </td><td>0 </td><td>0 </td><td>0 </td></tr>\n",
       "\t<tr><td>72</td><td>67</td><td>68</td><td>63</td><td>62</td><td>64</td><td>71</td><td>73</td><td>71</td><td>71</td><td>69</td><td>71</td><td>70</td><td>75</td><td>73</td><td>76</td><td>68</td><td>66</td><td>68</td><td>75</td><td>76</td><td>76</td><td>75</td><td>74</td><td>76</td><td>76</td><td>67</td><td>64</td><td>63</td><td>60</td><td>60</td><td>60</td><td>65</td><td>68</td><td>66</td><td>67</td><td>62</td><td>67</td><td>60</td><td>1 </td><td>1 </td><td>1 </td><td>1 </td></tr>\n",
       "\t<tr><td>72</td><td>74</td><td>70</td><td>65</td><td>70</td><td>69</td><td>66</td><td>72</td><td>71</td><td>73</td><td>71</td><td>75</td><td>72</td><td>77</td><td>78</td><td>73</td><td>72</td><td>73</td><td>74</td><td>69</td><td>78</td><td>73</td><td>75</td><td>75</td><td>77</td><td>75</td><td>68</td><td>70</td><td>68</td><td>60</td><td>65</td><td>65</td><td>62</td><td>63</td><td>67</td><td>71</td><td>67</td><td>73</td><td>69</td><td>1 </td><td>0 </td><td>0 </td><td>0 </td></tr>\n",
       "\t<tr><td>72</td><td>71</td><td>72</td><td>65</td><td>70</td><td>71</td><td>67</td><td>70</td><td>72</td><td>73</td><td>73</td><td>72</td><td>72</td><td>76</td><td>79</td><td>80</td><td>73</td><td>79</td><td>79</td><td>72</td><td>74</td><td>75</td><td>78</td><td>77</td><td>78</td><td>79</td><td>67</td><td>62</td><td>67</td><td>60</td><td>64</td><td>64</td><td>62</td><td>65</td><td>68</td><td>71</td><td>69</td><td>66</td><td>66</td><td>0 </td><td>0 </td><td>0 </td><td>0 </td></tr>\n",
       "\t<tr><td>73</td><td>69</td><td>69</td><td>67</td><td>68</td><td>69</td><td>71</td><td>73</td><td>72</td><td>73</td><td>71</td><td>72</td><td>72</td><td>77</td><td>78</td><td>75</td><td>74</td><td>74</td><td>75</td><td>76</td><td>76</td><td>76</td><td>76</td><td>77</td><td>76</td><td>79</td><td>66</td><td>62</td><td>63</td><td>60</td><td>63</td><td>65</td><td>61</td><td>67</td><td>68</td><td>69</td><td>66</td><td>68</td><td>63</td><td>1 </td><td>0 </td><td>0 </td><td>0 </td></tr>\n",
       "\t<tr><td>72</td><td>74</td><td>69</td><td>64</td><td>70</td><td>71</td><td>65</td><td>70</td><td>70</td><td>73</td><td>74</td><td>74</td><td>73</td><td>78</td><td>80</td><td>76</td><td>69</td><td>81</td><td>78</td><td>69</td><td>74</td><td>76</td><td>79</td><td>79</td><td>77</td><td>78</td><td>69</td><td>71</td><td>66</td><td>60</td><td>65</td><td>63</td><td>62</td><td>66</td><td>66</td><td>71</td><td>68</td><td>71</td><td>68</td><td>0 </td><td>0 </td><td>0 </td><td>0 </td></tr>\n",
       "\t<tr><td>71</td><td>71</td><td>71</td><td>64</td><td>68</td><td>69</td><td>66</td><td>71</td><td>72</td><td>72</td><td>70</td><td>73</td><td>74</td><td>74</td><td>78</td><td>77</td><td>68</td><td>74</td><td>74</td><td>76</td><td>77</td><td>76</td><td>75</td><td>75</td><td>79</td><td>82</td><td>67</td><td>62</td><td>66</td><td>60</td><td>62</td><td>64</td><td>60</td><td>66</td><td>69</td><td>67</td><td>62</td><td>66</td><td>65</td><td>1 </td><td>1 </td><td>1 </td><td>0 </td></tr>\n",
       "\t<tr><td>73</td><td>68</td><td>70</td><td>68</td><td>68</td><td>70</td><td>71</td><td>74</td><td>71</td><td>74</td><td>70</td><td>73</td><td>72</td><td>76</td><td>76</td><td>76</td><td>73</td><td>71</td><td>77</td><td>81</td><td>81</td><td>75</td><td>76</td><td>73</td><td>80</td><td>78</td><td>70</td><td>60</td><td>63</td><td>60</td><td>63</td><td>64</td><td>66</td><td>68</td><td>66</td><td>68</td><td>64</td><td>68</td><td>63</td><td>1 </td><td>1 </td><td>1 </td><td>1 </td></tr>\n",
       "\t<tr><td>71</td><td>69</td><td>69</td><td>65</td><td>66</td><td>68</td><td>60</td><td>66</td><td>68</td><td>67</td><td>69</td><td>72</td><td>71</td><td>77</td><td>76</td><td>73</td><td>78</td><td>74</td><td>77</td><td>71</td><td>76</td><td>73</td><td>73</td><td>75</td><td>76</td><td>79</td><td>64</td><td>59</td><td>66</td><td>55</td><td>58</td><td>61</td><td>54</td><td>58</td><td>63</td><td>63</td><td>63</td><td>65</td><td>65</td><td>0 </td><td>0 </td><td>0 </td><td>0 </td></tr>\n",
       "\t<tr><td>68</td><td>66</td><td>67</td><td>61</td><td>65</td><td>67</td><td>61</td><td>66</td><td>64</td><td>65</td><td>66</td><td>70</td><td>69</td><td>71</td><td>74</td><td>69</td><td>67</td><td>70</td><td>71</td><td>65</td><td>72</td><td>67</td><td>69</td><td>73</td><td>74</td><td>74</td><td>62</td><td>56</td><td>63</td><td>54</td><td>59</td><td>59</td><td>56</td><td>64</td><td>59</td><td>61</td><td>58</td><td>64</td><td>60</td><td>0 </td><td>0 </td><td>0 </td><td>0 </td></tr>\n",
       "\t<tr><td>72</td><td>69</td><td>72</td><td>66</td><td>67</td><td>68</td><td>65</td><td>69</td><td>70</td><td>69</td><td>71</td><td>74</td><td>73</td><td>76</td><td>80</td><td>79</td><td>72</td><td>74</td><td>73</td><td>76</td><td>77</td><td>74</td><td>72</td><td>79</td><td>78</td><td>79</td><td>65</td><td>60</td><td>66</td><td>54</td><td>62</td><td>60</td><td>58</td><td>60</td><td>67</td><td>66</td><td>63</td><td>69</td><td>66</td><td>0 </td><td>0 </td><td>0 </td><td>0 </td></tr>\n",
       "\t<tr><td>71</td><td>71</td><td>71</td><td>66</td><td>69</td><td>71</td><td>67</td><td>70</td><td>69</td><td>70</td><td>70</td><td>74</td><td>68</td><td>75</td><td>79</td><td>75</td><td>74</td><td>76</td><td>80</td><td>77</td><td>79</td><td>75</td><td>75</td><td>76</td><td>78</td><td>75</td><td>60</td><td>64</td><td>65</td><td>60</td><td>60</td><td>63</td><td>57</td><td>60</td><td>61</td><td>65</td><td>62</td><td>69</td><td>60</td><td>1 </td><td>0 </td><td>0 </td><td>0 </td></tr>\n",
       "\t<tr><td>75</td><td>72</td><td>72</td><td>67</td><td>70</td><td>74</td><td>65</td><td>69</td><td>72</td><td>71</td><td>73</td><td>75</td><td>72</td><td>80</td><td>83</td><td>79</td><td>82</td><td>77</td><td>79</td><td>74</td><td>76</td><td>79</td><td>81</td><td>77</td><td>79</td><td>81</td><td>71</td><td>60</td><td>66</td><td>57</td><td>62</td><td>68</td><td>58</td><td>60</td><td>67</td><td>67</td><td>68</td><td>72</td><td>64</td><td>0 </td><td>0 </td><td>0 </td><td>0 </td></tr>\n",
       "\t<tr><td>75</td><td>64</td><td>70</td><td>72</td><td>69</td><td>72</td><td>69</td><td>70</td><td>72</td><td>72</td><td>69</td><td>71</td><td>70</td><td>80</td><td>77</td><td>84</td><td>83</td><td>79</td><td>80</td><td>80</td><td>80</td><td>82</td><td>82</td><td>77</td><td>78</td><td>80</td><td>69</td><td>54</td><td>65</td><td>60</td><td>59</td><td>62</td><td>61</td><td>61</td><td>66</td><td>68</td><td>61</td><td>61</td><td>61</td><td>1 </td><td>1 </td><td>1 </td><td>0 </td></tr>\n",
       "\t<tr><td>71</td><td>67</td><td>68</td><td>63</td><td>65</td><td>69</td><td>65</td><td>70</td><td>69</td><td>68</td><td>69</td><td>72</td><td>69</td><td>75</td><td>76</td><td>72</td><td>72</td><td>70</td><td>74</td><td>75</td><td>79</td><td>73</td><td>70</td><td>72</td><td>77</td><td>75</td><td>66</td><td>58</td><td>64</td><td>54</td><td>58</td><td>64</td><td>58</td><td>55</td><td>66</td><td>64</td><td>63</td><td>61</td><td>63</td><td>1 </td><td>0 </td><td>0 </td><td>0 </td></tr>\n",
       "\t<tr><td>69</td><td>67</td><td>68</td><td>60</td><td>66</td><td>67</td><td>63</td><td>69</td><td>67</td><td>67</td><td>66</td><td>71</td><td>72</td><td>73</td><td>75</td><td>75</td><td>65</td><td>71</td><td>73</td><td>75</td><td>76</td><td>74</td><td>76</td><td>74</td><td>77</td><td>76</td><td>67</td><td>58</td><td>64</td><td>55</td><td>59</td><td>62</td><td>55</td><td>61</td><td>62</td><td>57</td><td>60</td><td>65</td><td>65</td><td>0 </td><td>0 </td><td>0 </td><td>0 </td></tr>\n",
       "\t<tr><td>74</td><td>60</td><td>70</td><td>68</td><td>64</td><td>68</td><td>71</td><td>73</td><td>71</td><td>69</td><td>66</td><td>70</td><td>66</td><td>79</td><td>69</td><td>76</td><td>77</td><td>68</td><td>74</td><td>80</td><td>79</td><td>78</td><td>79</td><td>68</td><td>77</td><td>71</td><td>72</td><td>55</td><td>66</td><td>57</td><td>57</td><td>61</td><td>58</td><td>62</td><td>67</td><td>64</td><td>65</td><td>62</td><td>55</td><td>1 </td><td>1 </td><td>1 </td><td>1 </td></tr>\n",
       "\t<tr><td>70</td><td>69</td><td>68</td><td>62</td><td>69</td><td>71</td><td>66</td><td>71</td><td>67</td><td>67</td><td>68</td><td>72</td><td>71</td><td>74</td><td>76</td><td>75</td><td>65</td><td>73</td><td>77</td><td>74</td><td>75</td><td>72</td><td>71</td><td>75</td><td>78</td><td>77</td><td>64</td><td>62</td><td>61</td><td>58</td><td>63</td><td>64</td><td>52</td><td>60</td><td>60</td><td>60</td><td>59</td><td>63</td><td>65</td><td>0 </td><td>0 </td><td>0 </td><td>0 </td></tr>\n",
       "\t<tr><td>73</td><td>64</td><td>71</td><td>66</td><td>66</td><td>69</td><td>69</td><td>70</td><td>69</td><td>68</td><td>71</td><td>70</td><td>68</td><td>77</td><td>73</td><td>75</td><td>74</td><td>72</td><td>73</td><td>80</td><td>79</td><td>74</td><td>73</td><td>78</td><td>74</td><td>76</td><td>65</td><td>53</td><td>67</td><td>59</td><td>61</td><td>61</td><td>59</td><td>57</td><td>65</td><td>66</td><td>66</td><td>66</td><td>61</td><td>1 </td><td>0 </td><td>0 </td><td>0 </td></tr>\n",
       "\t<tr><td>72</td><td>67</td><td>69</td><td>63</td><td>71</td><td>73</td><td>64</td><td>70</td><td>69</td><td>70</td><td>70</td><td>73</td><td>69</td><td>73</td><td>76</td><td>77</td><td>72</td><td>75</td><td>78</td><td>73</td><td>78</td><td>75</td><td>73</td><td>77</td><td>77</td><td>75</td><td>69</td><td>58</td><td>61</td><td>57</td><td>67</td><td>68</td><td>58</td><td>65</td><td>62</td><td>66</td><td>63</td><td>64</td><td>65</td><td>0 </td><td>0 </td><td>0 </td><td>0 </td></tr>\n",
       "\t<tr><td>71</td><td>72</td><td>73</td><td>66</td><td>71</td><td>73</td><td>66</td><td>73</td><td>70</td><td>71</td><td>74</td><td>75</td><td>69</td><td>74</td><td>83</td><td>76</td><td>73</td><td>78</td><td>78</td><td>75</td><td>78</td><td>72</td><td>76</td><td>81</td><td>78</td><td>78</td><td>66</td><td>62</td><td>67</td><td>57</td><td>61</td><td>64</td><td>57</td><td>65</td><td>66</td><td>66</td><td>67</td><td>71</td><td>59</td><td>0 </td><td>0 </td><td>0 </td><td>0 </td></tr>\n",
       "\t<tr><td>65</td><td>66</td><td>68</td><td>57</td><td>61</td><td>62</td><td>62</td><td>67</td><td>64</td><td>65</td><td>66</td><td>69</td><td>66</td><td>71</td><td>75</td><td>77</td><td>67</td><td>67</td><td>68</td><td>74</td><td>75</td><td>69</td><td>68</td><td>71</td><td>76</td><td>76</td><td>60</td><td>56</td><td>61</td><td>53</td><td>56</td><td>57</td><td>55</td><td>58</td><td>59</td><td>61</td><td>62</td><td>65</td><td>60</td><td>0 </td><td>0 </td><td>0 </td><td>0 </td></tr>\n",
       "\t<tr><td>73</td><td>63</td><td>72</td><td>69</td><td>66</td><td>69</td><td>72</td><td>75</td><td>70</td><td>71</td><td>69</td><td>71</td><td>70</td><td>79</td><td>77</td><td>78</td><td>79</td><td>76</td><td>79</td><td>82</td><td>82</td><td>81</td><td>82</td><td>72</td><td>80</td><td>78</td><td>65</td><td>59</td><td>65</td><td>57</td><td>62</td><td>63</td><td>61</td><td>68</td><td>65</td><td>63</td><td>65</td><td>65</td><td>63</td><td>1 </td><td>1 </td><td>1 </td><td>1 </td></tr>\n",
       "\t<tr><td>72</td><td>67</td><td>68</td><td>67</td><td>66</td><td>68</td><td>66</td><td>68</td><td>70</td><td>69</td><td>69</td><td>72</td><td>71</td><td>79</td><td>75</td><td>74</td><td>81</td><td>75</td><td>74</td><td>72</td><td>72</td><td>78</td><td>72</td><td>74</td><td>74</td><td>78</td><td>66</td><td>59</td><td>64</td><td>55</td><td>61</td><td>64</td><td>54</td><td>60</td><td>65</td><td>66</td><td>65</td><td>67</td><td>62</td><td>0 </td><td>0 </td><td>0 </td><td>0 </td></tr>\n",
       "\t<tr><td>71</td><td>68</td><td>68</td><td>65</td><td>66</td><td>68</td><td>67</td><td>70</td><td>69</td><td>68</td><td>69</td><td>73</td><td>69</td><td>75</td><td>78</td><td>74</td><td>76</td><td>73</td><td>71</td><td>73</td><td>75</td><td>72</td><td>70</td><td>77</td><td>77</td><td>77</td><td>68</td><td>56</td><td>62</td><td>54</td><td>61</td><td>63</td><td>60</td><td>67</td><td>66</td><td>64</td><td>64</td><td>66</td><td>64</td><td>0 </td><td>0 </td><td>0 </td><td>0 </td></tr>\n",
       "\t<tr><td>70</td><td>64</td><td>70</td><td>63</td><td>66</td><td>69</td><td>67</td><td>71</td><td>67</td><td>66</td><td>68</td><td>70</td><td>67</td><td>78</td><td>76</td><td>77</td><td>77</td><td>70</td><td>73</td><td>76</td><td>76</td><td>73</td><td>73</td><td>72</td><td>76</td><td>71</td><td>63</td><td>55</td><td>66</td><td>53</td><td>62</td><td>65</td><td>59</td><td>64</td><td>62</td><td>64</td><td>63</td><td>66</td><td>61</td><td>0 </td><td>0 </td><td>0 </td><td>0 </td></tr>\n",
       "\t<tr><td>73</td><td>69</td><td>71</td><td>68</td><td>70</td><td>73</td><td>72</td><td>74</td><td>72</td><td>72</td><td>73</td><td>75</td><td>71</td><td>76</td><td>78</td><td>78</td><td>77</td><td>77</td><td>79</td><td>78</td><td>78</td><td>76</td><td>79</td><td>76</td><td>78</td><td>77</td><td>69</td><td>60</td><td>66</td><td>63</td><td>66</td><td>68</td><td>62</td><td>68</td><td>68</td><td>67</td><td>68</td><td>69</td><td>63</td><td>1 </td><td>0 </td><td>0 </td><td>0 </td></tr>\n",
       "\t<tr><td>73</td><td>65</td><td>69</td><td>70</td><td>67</td><td>71</td><td>67</td><td>71</td><td>72</td><td>70</td><td>69</td><td>72</td><td>69</td><td>77</td><td>79</td><td>76</td><td>80</td><td>74</td><td>75</td><td>78</td><td>77</td><td>77</td><td>75</td><td>78</td><td>80</td><td>75</td><td>64</td><td>59</td><td>66</td><td>60</td><td>64</td><td>64</td><td>58</td><td>64</td><td>67</td><td>66</td><td>62</td><td>67</td><td>64</td><td>1 </td><td>1 </td><td>0 </td><td>0 </td></tr>\n",
       "\t<tr><td>72</td><td>66</td><td>71</td><td>64</td><td>65</td><td>68</td><td>73</td><td>75</td><td>71</td><td>70</td><td>70</td><td>72</td><td>67</td><td>76</td><td>73</td><td>75</td><td>79</td><td>70</td><td>74</td><td>80</td><td>80</td><td>78</td><td>77</td><td>75</td><td>80</td><td>76</td><td>69</td><td>59</td><td>68</td><td>59</td><td>57</td><td>60</td><td>64</td><td>64</td><td>61</td><td>62</td><td>64</td><td>64</td><td>60</td><td>1 </td><td>1 </td><td>1 </td><td>1 </td></tr>\n",
       "\t<tr><td>70</td><td>72</td><td>68</td><td>64</td><td>68</td><td>67</td><td>64</td><td>68</td><td>72</td><td>72</td><td>69</td><td>73</td><td>72</td><td>78</td><td>77</td><td>74</td><td>77</td><td>73</td><td>74</td><td>66</td><td>71</td><td>78</td><td>76</td><td>74</td><td>76</td><td>80</td><td>62</td><td>62</td><td>60</td><td>60</td><td>62</td><td>60</td><td>61</td><td>64</td><td>68</td><td>66</td><td>64</td><td>67</td><td>68</td><td>0 </td><td>0 </td><td>0 </td><td>0 </td></tr>\n",
       "\t<tr><td>68</td><td>60</td><td>68</td><td>62</td><td>72</td><td>70</td><td>63</td><td>65</td><td>60</td><td>70</td><td>70</td><td>62</td><td>63</td><td>68</td><td>60</td><td>68</td><td>62</td><td>72</td><td>70</td><td>63</td><td>65</td><td>60</td><td>70</td><td>70</td><td>62</td><td>63</td><td>68</td><td>60</td><td>68</td><td>62</td><td>72</td><td>70</td><td>63</td><td>65</td><td>60</td><td>70</td><td>70</td><td>62</td><td>63</td><td>0 </td><td>0 </td><td>0 </td><td>0 </td></tr>\n",
       "\t<tr><td>69</td><td>74</td><td>70</td><td>61</td><td>69</td><td>68</td><td>65</td><td>70</td><td>71</td><td>72</td><td>71</td><td>73</td><td>72</td><td>74</td><td>76</td><td>80</td><td>63</td><td>76</td><td>74</td><td>70</td><td>75</td><td>76</td><td>77</td><td>77</td><td>75</td><td>81</td><td>63</td><td>69</td><td>63</td><td>60</td><td>64</td><td>64</td><td>60</td><td>65</td><td>63</td><td>65</td><td>66</td><td>66</td><td>62</td><td>0 </td><td>0 </td><td>0 </td><td>0 </td></tr>\n",
       "\t<tr><td>72</td><td>73</td><td>73</td><td>65</td><td>68</td><td>69</td><td>66</td><td>71</td><td>71</td><td>74</td><td>72</td><td>74</td><td>75</td><td>76</td><td>79</td><td>83</td><td>74</td><td>80</td><td>82</td><td>73</td><td>76</td><td>75</td><td>78</td><td>76</td><td>78</td><td>82</td><td>67</td><td>68</td><td>68</td><td>60</td><td>60</td><td>62</td><td>61</td><td>65</td><td>65</td><td>70</td><td>65</td><td>72</td><td>69</td><td>1 </td><td>1 </td><td>1 </td><td>0 </td></tr>\n",
       "\t<tr><td>76</td><td>67</td><td>71</td><td>73</td><td>71</td><td>73</td><td>68</td><td>71</td><td>74</td><td>76</td><td>73</td><td>72</td><td>74</td><td>80</td><td>76</td><td>81</td><td>79</td><td>78</td><td>78</td><td>79</td><td>81</td><td>78</td><td>78</td><td>79</td><td>79</td><td>78</td><td>71</td><td>63</td><td>67</td><td>60</td><td>60</td><td>62</td><td>64</td><td>66</td><td>70</td><td>73</td><td>66</td><td>67</td><td>69</td><td>1 </td><td>1 </td><td>1 </td><td>1 </td></tr>\n",
       "\t<tr><td>75</td><td>68</td><td>71</td><td>71</td><td>72</td><td>74</td><td>70</td><td>73</td><td>73</td><td>75</td><td>71</td><td>71</td><td>72</td><td>79</td><td>75</td><td>76</td><td>80</td><td>76</td><td>78</td><td>74</td><td>79</td><td>79</td><td>79</td><td>76</td><td>75</td><td>76</td><td>73</td><td>61</td><td>66</td><td>62</td><td>67</td><td>69</td><td>66</td><td>68</td><td>68</td><td>73</td><td>65</td><td>65</td><td>66</td><td>0 </td><td>0 </td><td>0 </td><td>0 </td></tr>\n",
       "\t<tr><td>76</td><td>68</td><td>72</td><td>71</td><td>70</td><td>72</td><td>72</td><td>74</td><td>74</td><td>77</td><td>74</td><td>72</td><td>72</td><td>78</td><td>79</td><td>77</td><td>79</td><td>77</td><td>78</td><td>80</td><td>82</td><td>78</td><td>79</td><td>76</td><td>77</td><td>79</td><td>73</td><td>61</td><td>68</td><td>60</td><td>62</td><td>64</td><td>61</td><td>68</td><td>71</td><td>74</td><td>71</td><td>67</td><td>64</td><td>1 </td><td>1 </td><td>1 </td><td>1 </td></tr>\n",
       "\t<tr><td>72</td><td>71</td><td>71</td><td>66</td><td>68</td><td>70</td><td>67</td><td>72</td><td>71</td><td>72</td><td>70</td><td>73</td><td>74</td><td>76</td><td>77</td><td>75</td><td>77</td><td>72</td><td>74</td><td>75</td><td>76</td><td>77</td><td>77</td><td>74</td><td>78</td><td>79</td><td>66</td><td>61</td><td>66</td><td>61</td><td>65</td><td>65</td><td>62</td><td>67</td><td>65</td><td>67</td><td>67</td><td>65</td><td>69</td><td>1 </td><td>0 </td><td>0 </td><td>0 </td></tr>\n",
       "\t<tr><td>73</td><td>68</td><td>69</td><td>67</td><td>70</td><td>71</td><td>68</td><td>71</td><td>72</td><td>73</td><td>70</td><td>71</td><td>71</td><td>79</td><td>77</td><td>75</td><td>80</td><td>73</td><td>74</td><td>77</td><td>78</td><td>79</td><td>78</td><td>74</td><td>76</td><td>79</td><td>68</td><td>60</td><td>64</td><td>60</td><td>63</td><td>66</td><td>61</td><td>65</td><td>68</td><td>69</td><td>64</td><td>66</td><td>66</td><td>0 </td><td>0 </td><td>0 </td><td>0 </td></tr>\n",
       "\t<tr><td>72</td><td>69</td><td>68</td><td>64</td><td>68</td><td>71</td><td>66</td><td>69</td><td>70</td><td>72</td><td>69</td><td>72</td><td>69</td><td>78</td><td>74</td><td>73</td><td>76</td><td>76</td><td>80</td><td>72</td><td>73</td><td>76</td><td>77</td><td>74</td><td>73</td><td>75</td><td>67</td><td>62</td><td>65</td><td>60</td><td>61</td><td>64</td><td>61</td><td>65</td><td>66</td><td>68</td><td>63</td><td>68</td><td>66</td><td>1 </td><td>0 </td><td>0 </td><td>0 </td></tr>\n",
       "\t<tr><td>72</td><td>64</td><td>72</td><td>66</td><td>64</td><td>66</td><td>68</td><td>70</td><td>70</td><td>72</td><td>68</td><td>71</td><td>74</td><td>73</td><td>64</td><td>73</td><td>66</td><td>65</td><td>66</td><td>70</td><td>73</td><td>71</td><td>73</td><td>68</td><td>72</td><td>78</td><td>72</td><td>64</td><td>72</td><td>65</td><td>62</td><td>66</td><td>66</td><td>68</td><td>69</td><td>71</td><td>67</td><td>70</td><td>71</td><td>1 </td><td>0 </td><td>0 </td><td>0 </td></tr>\n",
       "\t<tr><td>65</td><td>75</td><td>64</td><td>60</td><td>62</td><td>62</td><td>61</td><td>71</td><td>66</td><td>67</td><td>69</td><td>72</td><td>64</td><td>65</td><td>75</td><td>64</td><td>60</td><td>62</td><td>62</td><td>61</td><td>71</td><td>66</td><td>67</td><td>69</td><td>72</td><td>64</td><td>65</td><td>75</td><td>64</td><td>60</td><td>62</td><td>62</td><td>61</td><td>71</td><td>66</td><td>67</td><td>69</td><td>72</td><td>64</td><td>0 </td><td>0 </td><td>0 </td><td>0 </td></tr>\n",
       "\t<tr><td>73</td><td>69</td><td>69</td><td>68</td><td>65</td><td>66</td><td>68</td><td>71</td><td>73</td><td>74</td><td>70</td><td>72</td><td>74</td><td>78</td><td>75</td><td>75</td><td>78</td><td>73</td><td>73</td><td>73</td><td>74</td><td>78</td><td>78</td><td>74</td><td>80</td><td>79</td><td>69</td><td>60</td><td>63</td><td>64</td><td>60</td><td>62</td><td>62</td><td>66</td><td>67</td><td>69</td><td>62</td><td>62</td><td>65</td><td>0 </td><td>0 </td><td>0 </td><td>0 </td></tr>\n",
       "\t<tr><td>73</td><td>69</td><td>70</td><td>67</td><td>69</td><td>72</td><td>68</td><td>72</td><td>71</td><td>73</td><td>71</td><td>71</td><td>72</td><td>79</td><td>73</td><td>76</td><td>76</td><td>75</td><td>76</td><td>77</td><td>78</td><td>77</td><td>78</td><td>76</td><td>77</td><td>76</td><td>66</td><td>63</td><td>66</td><td>60</td><td>64</td><td>64</td><td>60</td><td>66</td><td>66</td><td>68</td><td>66</td><td>64</td><td>66</td><td>0 </td><td>0 </td><td>0 </td><td>0 </td></tr>\n",
       "\t<tr><td>72</td><td>73</td><td>70</td><td>66</td><td>68</td><td>70</td><td>68</td><td>72</td><td>72</td><td>73</td><td>72</td><td>74</td><td>73</td><td>76</td><td>77</td><td>75</td><td>76</td><td>74</td><td>75</td><td>75</td><td>76</td><td>76</td><td>76</td><td>77</td><td>77</td><td>79</td><td>67</td><td>66</td><td>64</td><td>60</td><td>62</td><td>65</td><td>61</td><td>65</td><td>66</td><td>72</td><td>66</td><td>72</td><td>66</td><td>0 </td><td>0 </td><td>0 </td><td>0 </td></tr>\n",
       "\t<tr><td>71</td><td>69</td><td>69</td><td>62</td><td>69</td><td>68</td><td>67</td><td>69</td><td>68</td><td>71</td><td>70</td><td>71</td><td>70</td><td>74</td><td>75</td><td>72</td><td>66</td><td>72</td><td>71</td><td>72</td><td>74</td><td>71</td><td>74</td><td>74</td><td>74</td><td>76</td><td>68</td><td>60</td><td>66</td><td>60</td><td>64</td><td>65</td><td>60</td><td>60</td><td>67</td><td>69</td><td>65</td><td>65</td><td>66</td><td>0 </td><td>0 </td><td>0 </td><td>0 </td></tr>\n",
       "\t<tr><td>67</td><td>60</td><td>66</td><td>63</td><td>61</td><td>64</td><td>68</td><td>70</td><td>63</td><td>63</td><td>65</td><td>63</td><td>72</td><td>67</td><td>60</td><td>66</td><td>63</td><td>61</td><td>64</td><td>68</td><td>70</td><td>63</td><td>63</td><td>65</td><td>63</td><td>72</td><td>67</td><td>60</td><td>66</td><td>63</td><td>61</td><td>64</td><td>68</td><td>70</td><td>63</td><td>63</td><td>65</td><td>63</td><td>72</td><td>0 </td><td>0 </td><td>0 </td><td>0 </td></tr>\n",
       "\t<tr><td>75</td><td>73</td><td>71</td><td>67</td><td>71</td><td>72</td><td>69</td><td>73</td><td>74</td><td>75</td><td>74</td><td>74</td><td>73</td><td>79</td><td>81</td><td>78</td><td>75</td><td>78</td><td>79</td><td>74</td><td>78</td><td>78</td><td>78</td><td>78</td><td>77</td><td>76</td><td>67</td><td>63</td><td>66</td><td>60</td><td>63</td><td>66</td><td>62</td><td>70</td><td>69</td><td>73</td><td>65</td><td>71</td><td>70</td><td>1 </td><td>1 </td><td>0 </td><td>0 </td></tr>\n",
       "\t<tr><td>72</td><td>70</td><td>68</td><td>68</td><td>66</td><td>67</td><td>68</td><td>70</td><td>72</td><td>74</td><td>69</td><td>73</td><td>73</td><td>76</td><td>76</td><td>71</td><td>74</td><td>73</td><td>74</td><td>73</td><td>71</td><td>75</td><td>76</td><td>74</td><td>76</td><td>77</td><td>67</td><td>61</td><td>64</td><td>62</td><td>63</td><td>63</td><td>63</td><td>68</td><td>68</td><td>71</td><td>63</td><td>69</td><td>67</td><td>0 </td><td>0 </td><td>0 </td><td>0 </td></tr>\n",
       "\t<tr><td>72</td><td>69</td><td>69</td><td>65</td><td>68</td><td>70</td><td>69</td><td>72</td><td>71</td><td>72</td><td>68</td><td>73</td><td>72</td><td>76</td><td>77</td><td>76</td><td>70</td><td>74</td><td>75</td><td>76</td><td>76</td><td>76</td><td>75</td><td>73</td><td>76</td><td>77</td><td>68</td><td>61</td><td>61</td><td>60</td><td>63</td><td>65</td><td>63</td><td>65</td><td>66</td><td>69</td><td>62</td><td>68</td><td>66</td><td>0 </td><td>0 </td><td>0 </td><td>0 </td></tr>\n",
       "\t<tr><td>75</td><td>72</td><td>72</td><td>69</td><td>73</td><td>74</td><td>70</td><td>73</td><td>73</td><td>75</td><td>74</td><td>74</td><td>72</td><td>78</td><td>78</td><td>76</td><td>74</td><td>75</td><td>78</td><td>77</td><td>79</td><td>77</td><td>79</td><td>79</td><td>78</td><td>77</td><td>72</td><td>66</td><td>66</td><td>62</td><td>70</td><td>70</td><td>63</td><td>67</td><td>67</td><td>72</td><td>65</td><td>68</td><td>66</td><td>1 </td><td>0 </td><td>0 </td><td>0 </td></tr>\n",
       "\t<tr><td>70</td><td>72</td><td>72</td><td>61</td><td>67</td><td>68</td><td>65</td><td>70</td><td>70</td><td>72</td><td>68</td><td>71</td><td>73</td><td>70</td><td>73</td><td>73</td><td>62</td><td>69</td><td>71</td><td>66</td><td>71</td><td>72</td><td>73</td><td>69</td><td>71</td><td>75</td><td>70</td><td>71</td><td>70</td><td>60</td><td>65</td><td>66</td><td>64</td><td>70</td><td>69</td><td>70</td><td>66</td><td>71</td><td>71</td><td>0 </td><td>0 </td><td>0 </td><td>0 </td></tr>\n",
       "\t<tr><td>71</td><td>68</td><td>68</td><td>65</td><td>66</td><td>68</td><td>68</td><td>71</td><td>71</td><td>72</td><td>71</td><td>72</td><td>73</td><td>76</td><td>75</td><td>74</td><td>69</td><td>71</td><td>72</td><td>76</td><td>77</td><td>75</td><td>75</td><td>75</td><td>77</td><td>80</td><td>67</td><td>63</td><td>63</td><td>62</td><td>62</td><td>65</td><td>62</td><td>66</td><td>66</td><td>68</td><td>61</td><td>69</td><td>62</td><td>1 </td><td>0 </td><td>0 </td><td>0 </td></tr>\n",
       "\t<tr><td>74</td><td>70</td><td>73</td><td>69</td><td>68</td><td>71</td><td>71</td><td>73</td><td>74</td><td>75</td><td>72</td><td>73</td><td>74</td><td>79</td><td>75</td><td>77</td><td>77</td><td>74</td><td>76</td><td>79</td><td>77</td><td>78</td><td>78</td><td>79</td><td>77</td><td>81</td><td>67</td><td>66</td><td>69</td><td>60</td><td>64</td><td>67</td><td>64</td><td>66</td><td>69</td><td>70</td><td>66</td><td>69</td><td>66</td><td>1 </td><td>1 </td><td>1 </td><td>1 </td></tr>\n",
       "\t<tr><td>73</td><td>71</td><td>71</td><td>67</td><td>70</td><td>72</td><td>69</td><td>73</td><td>75</td><td>74</td><td>72</td><td>74</td><td>73</td><td>78</td><td>78</td><td>76</td><td>78</td><td>74</td><td>77</td><td>80</td><td>78</td><td>80</td><td>79</td><td>80</td><td>78</td><td>78</td><td>69</td><td>62</td><td>63</td><td>60</td><td>63</td><td>62</td><td>63</td><td>68</td><td>68</td><td>72</td><td>64</td><td>70</td><td>68</td><td>0 </td><td>0 </td><td>0 </td><td>0 </td></tr>\n",
       "\t<tr><td>72</td><td>74</td><td>73</td><td>67</td><td>69</td><td>71</td><td>65</td><td>72</td><td>72</td><td>74</td><td>73</td><td>76</td><td>71</td><td>79</td><td>82</td><td>83</td><td>81</td><td>74</td><td>77</td><td>73</td><td>78</td><td>77</td><td>78</td><td>80</td><td>80</td><td>74</td><td>65</td><td>66</td><td>64</td><td>54</td><td>60</td><td>62</td><td>56</td><td>59</td><td>63</td><td>63</td><td>66</td><td>71</td><td>65</td><td>0 </td><td>0 </td><td>0 </td><td>0 </td></tr>\n",
       "\t<tr><td>72</td><td>71</td><td>72</td><td>66</td><td>68</td><td>69</td><td>65</td><td>68</td><td>71</td><td>70</td><td>72</td><td>75</td><td>73</td><td>77</td><td>80</td><td>79</td><td>76</td><td>75</td><td>78</td><td>76</td><td>77</td><td>77</td><td>74</td><td>79</td><td>79</td><td>81</td><td>65</td><td>60</td><td>66</td><td>54</td><td>62</td><td>60</td><td>58</td><td>60</td><td>67</td><td>66</td><td>68</td><td>69</td><td>66</td><td>1 </td><td>0 </td><td>0 </td><td>0 </td></tr>\n",
       "\t<tr><td>71</td><td>72</td><td>72</td><td>66</td><td>70</td><td>72</td><td>67</td><td>72</td><td>71</td><td>72</td><td>73</td><td>75</td><td>71</td><td>75</td><td>81</td><td>84</td><td>74</td><td>76</td><td>80</td><td>77</td><td>79</td><td>77</td><td>78</td><td>82</td><td>79</td><td>78</td><td>66</td><td>61</td><td>65</td><td>55</td><td>65</td><td>62</td><td>60</td><td>64</td><td>66</td><td>66</td><td>63</td><td>71</td><td>61</td><td>1 </td><td>1 </td><td>1 </td><td>1 </td></tr>\n",
       "\t<tr><td>74</td><td>71</td><td>72</td><td>67</td><td>71</td><td>75</td><td>67</td><td>71</td><td>71</td><td>71</td><td>72</td><td>75</td><td>70</td><td>80</td><td>83</td><td>79</td><td>82</td><td>77</td><td>79</td><td>74</td><td>76</td><td>79</td><td>81</td><td>76</td><td>79</td><td>76</td><td>69</td><td>60</td><td>66</td><td>57</td><td>62</td><td>69</td><td>58</td><td>60</td><td>67</td><td>67</td><td>68</td><td>72</td><td>64</td><td>1 </td><td>1 </td><td>0 </td><td>0 </td></tr>\n",
       "\t<tr><td>75</td><td>66</td><td>68</td><td>70</td><td>70</td><td>73</td><td>65</td><td>69</td><td>72</td><td>72</td><td>71</td><td>72</td><td>71</td><td>80</td><td>77</td><td>84</td><td>83</td><td>79</td><td>80</td><td>80</td><td>80</td><td>82</td><td>82</td><td>77</td><td>78</td><td>80</td><td>68</td><td>58</td><td>63</td><td>58</td><td>64</td><td>64</td><td>55</td><td>61</td><td>65</td><td>65</td><td>61</td><td>66</td><td>58</td><td>1 </td><td>1 </td><td>1 </td><td>1 </td></tr>\n",
       "\t<tr><td>71</td><td>67</td><td>69</td><td>62</td><td>67</td><td>70</td><td>68</td><td>72</td><td>69</td><td>70</td><td>69</td><td>74</td><td>71</td><td>75</td><td>75</td><td>75</td><td>72</td><td>71</td><td>78</td><td>78</td><td>77</td><td>72</td><td>73</td><td>77</td><td>77</td><td>79</td><td>66</td><td>57</td><td>66</td><td>53</td><td>63</td><td>64</td><td>60</td><td>68</td><td>67</td><td>67</td><td>66</td><td>71</td><td>66</td><td>1 </td><td>1 </td><td>1 </td><td>1 </td></tr>\n",
       "\t<tr><td>73</td><td>65</td><td>71</td><td>67</td><td>67</td><td>71</td><td>70</td><td>73</td><td>70</td><td>69</td><td>70</td><td>72</td><td>68</td><td>77</td><td>75</td><td>78</td><td>77</td><td>76</td><td>77</td><td>81</td><td>81</td><td>76</td><td>76</td><td>77</td><td>77</td><td>77</td><td>68</td><td>58</td><td>65</td><td>58</td><td>58</td><td>65</td><td>60</td><td>64</td><td>60</td><td>61</td><td>62</td><td>65</td><td>55</td><td>1 </td><td>1 </td><td>1 </td><td>0 </td></tr>\n",
       "\t<tr><td>72</td><td>66</td><td>70</td><td>66</td><td>69</td><td>71</td><td>65</td><td>70</td><td>69</td><td>70</td><td>67</td><td>72</td><td>72</td><td>77</td><td>75</td><td>80</td><td>76</td><td>74</td><td>77</td><td>75</td><td>76</td><td>74</td><td>76</td><td>74</td><td>77</td><td>78</td><td>67</td><td>58</td><td>66</td><td>59</td><td>62</td><td>62</td><td>55</td><td>64</td><td>65</td><td>65</td><td>60</td><td>68</td><td>65</td><td>1 </td><td>0 </td><td>0 </td><td>0 </td></tr>\n",
       "\t<tr><td>73</td><td>65</td><td>70</td><td>65</td><td>65</td><td>68</td><td>67</td><td>73</td><td>71</td><td>70</td><td>68</td><td>72</td><td>66</td><td>79</td><td>77</td><td>76</td><td>77</td><td>76</td><td>78</td><td>80</td><td>79</td><td>78</td><td>79</td><td>73</td><td>78</td><td>73</td><td>68</td><td>55</td><td>66</td><td>55</td><td>57</td><td>61</td><td>56</td><td>62</td><td>66</td><td>64</td><td>65</td><td>62</td><td>55</td><td>1 </td><td>1 </td><td>1 </td><td>1 </td></tr>\n",
       "\t<tr><td>72</td><td>69</td><td>69</td><td>64</td><td>70</td><td>72</td><td>66</td><td>67</td><td>67</td><td>69</td><td>72</td><td>72</td><td>69</td><td>79</td><td>80</td><td>82</td><td>75</td><td>81</td><td>80</td><td>82</td><td>80</td><td>70</td><td>75</td><td>77</td><td>79</td><td>78</td><td>65</td><td>55</td><td>65</td><td>57</td><td>62</td><td>65</td><td>59</td><td>60</td><td>64</td><td>64</td><td>66</td><td>61</td><td>62</td><td>1 </td><td>1 </td><td>1 </td><td>1 </td></tr>\n",
       "\t<tr><td>74</td><td>66</td><td>72</td><td>67</td><td>66</td><td>68</td><td>69</td><td>72</td><td>71</td><td>71</td><td>72</td><td>72</td><td>70</td><td>78</td><td>75</td><td>77</td><td>78</td><td>75</td><td>73</td><td>80</td><td>79</td><td>76</td><td>77</td><td>78</td><td>79</td><td>83</td><td>69</td><td>53</td><td>69</td><td>55</td><td>62</td><td>62</td><td>59</td><td>64</td><td>67</td><td>66</td><td>66</td><td>66</td><td>61</td><td>1 </td><td>1 </td><td>1 </td><td>1 </td></tr>\n",
       "\t<tr><td>73</td><td>67</td><td>69</td><td>67</td><td>70</td><td>73</td><td>65</td><td>68</td><td>70</td><td>70</td><td>70</td><td>72</td><td>69</td><td>77</td><td>79</td><td>74</td><td>77</td><td>76</td><td>79</td><td>76</td><td>78</td><td>73</td><td>76</td><td>78</td><td>78</td><td>78</td><td>68</td><td>56</td><td>61</td><td>59</td><td>63</td><td>66</td><td>57</td><td>59</td><td>62</td><td>66</td><td>63</td><td>64</td><td>64</td><td>1 </td><td>0 </td><td>0 </td><td>0 </td></tr>\n",
       "\t<tr><td>71</td><td>74</td><td>73</td><td>68</td><td>70</td><td>73</td><td>66</td><td>73</td><td>72</td><td>73</td><td>74</td><td>76</td><td>71</td><td>75</td><td>83</td><td>76</td><td>75</td><td>75</td><td>78</td><td>75</td><td>78</td><td>81</td><td>80</td><td>81</td><td>82</td><td>81</td><td>66</td><td>63</td><td>70</td><td>61</td><td>61</td><td>64</td><td>57</td><td>64</td><td>70</td><td>67</td><td>62</td><td>71</td><td>59</td><td>1 </td><td>0 </td><td>0 </td><td>0 </td></tr>\n",
       "\t<tr><td>76</td><td>65</td><td>74</td><td>72</td><td>71</td><td>74</td><td>71</td><td>74</td><td>74</td><td>74</td><td>70</td><td>74</td><td>71</td><td>81</td><td>77</td><td>82</td><td>82</td><td>77</td><td>80</td><td>82</td><td>82</td><td>81</td><td>82</td><td>78</td><td>82</td><td>78</td><td>70</td><td>58</td><td>65</td><td>64</td><td>63</td><td>63</td><td>65</td><td>66</td><td>65</td><td>63</td><td>65</td><td>65</td><td>63</td><td>1 </td><td>1 </td><td>1 </td><td>1 </td></tr>\n",
       "\t<tr><td>71</td><td>68</td><td>70</td><td>66</td><td>68</td><td>69</td><td>65</td><td>70</td><td>71</td><td>70</td><td>71</td><td>73</td><td>71</td><td>79</td><td>81</td><td>74</td><td>81</td><td>75</td><td>74</td><td>72</td><td>79</td><td>78</td><td>77</td><td>79</td><td>79</td><td>80</td><td>61</td><td>55</td><td>66</td><td>57</td><td>63</td><td>62</td><td>53</td><td>60</td><td>65</td><td>66</td><td>66</td><td>63</td><td>62</td><td>1 </td><td>0 </td><td>0 </td><td>0 </td></tr>\n",
       "\t<tr><td>70</td><td>69</td><td>71</td><td>61</td><td>63</td><td>66</td><td>68</td><td>72</td><td>69</td><td>70</td><td>70</td><td>74</td><td>73</td><td>74</td><td>79</td><td>77</td><td>67</td><td>71</td><td>74</td><td>73</td><td>76</td><td>71</td><td>74</td><td>78</td><td>78</td><td>79</td><td>68</td><td>64</td><td>67</td><td>55</td><td>59</td><td>60</td><td>64</td><td>66</td><td>64</td><td>64</td><td>63</td><td>70</td><td>67</td><td>0 </td><td>0 </td><td>0 </td><td>0 </td></tr>\n",
       "\t<tr><td>72</td><td>69</td><td>68</td><td>65</td><td>69</td><td>70</td><td>67</td><td>71</td><td>70</td><td>69</td><td>69</td><td>72</td><td>71</td><td>77</td><td>78</td><td>78</td><td>71</td><td>80</td><td>79</td><td>82</td><td>79</td><td>74</td><td>76</td><td>77</td><td>78</td><td>77</td><td>66</td><td>56</td><td>62</td><td>59</td><td>60</td><td>61</td><td>59</td><td>68</td><td>65</td><td>65</td><td>64</td><td>65</td><td>62</td><td>1 </td><td>1 </td><td>1 </td><td>1 </td></tr>\n",
       "\t<tr><td>73</td><td>74</td><td>71</td><td>68</td><td>74</td><td>75</td><td>66</td><td>72</td><td>72</td><td>74</td><td>71</td><td>75</td><td>69</td><td>79</td><td>83</td><td>82</td><td>78</td><td>80</td><td>81</td><td>73</td><td>76</td><td>80</td><td>81</td><td>82</td><td>81</td><td>81</td><td>65</td><td>55</td><td>65</td><td>55</td><td>66</td><td>66</td><td>59</td><td>67</td><td>65</td><td>67</td><td>63</td><td>64</td><td>59</td><td>0 </td><td>0 </td><td>0 </td><td>0 </td></tr>\n",
       "\t<tr><td>73</td><td>69</td><td>69</td><td>66</td><td>72</td><td>73</td><td>68</td><td>72</td><td>71</td><td>71</td><td>73</td><td>73</td><td>69</td><td>76</td><td>80</td><td>78</td><td>77</td><td>83</td><td>82</td><td>78</td><td>78</td><td>76</td><td>79</td><td>79</td><td>78</td><td>77</td><td>69</td><td>60</td><td>61</td><td>54</td><td>66</td><td>66</td><td>53</td><td>62</td><td>63</td><td>67</td><td>68</td><td>69</td><td>61</td><td>1 </td><td>0 </td><td>0 </td><td>0 </td></tr>\n",
       "\t<tr><td>73</td><td>67</td><td>70</td><td>68</td><td>67</td><td>69</td><td>67</td><td>71</td><td>71</td><td>70</td><td>69</td><td>73</td><td>70</td><td>77</td><td>79</td><td>76</td><td>80</td><td>74</td><td>75</td><td>78</td><td>77</td><td>77</td><td>75</td><td>78</td><td>80</td><td>80</td><td>64</td><td>60</td><td>64</td><td>57</td><td>58</td><td>61</td><td>58</td><td>66</td><td>65</td><td>66</td><td>65</td><td>67</td><td>64</td><td>1 </td><td>1 </td><td>1 </td><td>1 </td></tr>\n",
       "\t<tr><td>70</td><td>68</td><td>70</td><td>64</td><td>63</td><td>65</td><td>69</td><td>72</td><td>69</td><td>69</td><td>70</td><td>73</td><td>70</td><td>76</td><td>80</td><td>75</td><td>79</td><td>68</td><td>74</td><td>80</td><td>79</td><td>78</td><td>79</td><td>76</td><td>81</td><td>82</td><td>65</td><td>59</td><td>63</td><td>53</td><td>57</td><td>60</td><td>62</td><td>64</td><td>61</td><td>62</td><td>64</td><td>64</td><td>61</td><td>1 </td><td>1 </td><td>1 </td><td>1 </td></tr>\n",
       "\t<tr><td>72</td><td>65</td><td>70</td><td>66</td><td>65</td><td>67</td><td>67</td><td>70</td><td>69</td><td>69</td><td>68</td><td>72</td><td>68</td><td>76</td><td>77</td><td>77</td><td>76</td><td>71</td><td>76</td><td>75</td><td>76</td><td>74</td><td>72</td><td>72</td><td>75</td><td>78</td><td>67</td><td>54</td><td>66</td><td>59</td><td>59</td><td>61</td><td>57</td><td>65</td><td>66</td><td>66</td><td>64</td><td>70</td><td>55</td><td>1 </td><td>0 </td><td>0 </td><td>0 </td></tr>\n",
       "\t<tr><td>73</td><td>74</td><td>72</td><td>68</td><td>69</td><td>69</td><td>67</td><td>72</td><td>75</td><td>74</td><td>72</td><td>76</td><td>76</td><td>79</td><td>81</td><td>80</td><td>79</td><td>74</td><td>74</td><td>74</td><td>77</td><td>80</td><td>79</td><td>80</td><td>78</td><td>81</td><td>68</td><td>68</td><td>65</td><td>60</td><td>64</td><td>64</td><td>61</td><td>66</td><td>71</td><td>69</td><td>62</td><td>73</td><td>72</td><td>1 </td><td>0 </td><td>0 </td><td>0 </td></tr>\n",
       "\t<tr><td>74</td><td>75</td><td>73</td><td>68</td><td>72</td><td>72</td><td>71</td><td>73</td><td>74</td><td>76</td><td>72</td><td>75</td><td>77</td><td>78</td><td>79</td><td>80</td><td>74</td><td>76</td><td>75</td><td>77</td><td>76</td><td>80</td><td>79</td><td>77</td><td>80</td><td>81</td><td>69</td><td>71</td><td>66</td><td>60</td><td>68</td><td>68</td><td>69</td><td>69</td><td>70</td><td>71</td><td>67</td><td>72</td><td>69</td><td>0 </td><td>0 </td><td>0 </td><td>0 </td></tr>\n",
       "\t<tr><td>74</td><td>73</td><td>73</td><td>71</td><td>72</td><td>74</td><td>70</td><td>75</td><td>75</td><td>76</td><td>75</td><td>76</td><td>76</td><td>76</td><td>80</td><td>83</td><td>75</td><td>80</td><td>82</td><td>77</td><td>80</td><td>78</td><td>78</td><td>83</td><td>80</td><td>82</td><td>69</td><td>68</td><td>66</td><td>62</td><td>65</td><td>68</td><td>64</td><td>72</td><td>71</td><td>73</td><td>70</td><td>73</td><td>70</td><td>1 </td><td>1 </td><td>1 </td><td>0 </td></tr>\n",
       "\t<tr><td>75</td><td>71</td><td>71</td><td>71</td><td>72</td><td>73</td><td>69</td><td>72</td><td>75</td><td>76</td><td>73</td><td>75</td><td>75</td><td>80</td><td>79</td><td>81</td><td>79</td><td>76</td><td>78</td><td>79</td><td>81</td><td>78</td><td>78</td><td>79</td><td>79</td><td>79</td><td>70</td><td>63</td><td>67</td><td>60</td><td>69</td><td>69</td><td>63</td><td>67</td><td>70</td><td>74</td><td>66</td><td>71</td><td>69</td><td>1 </td><td>1 </td><td>1 </td><td>1 </td></tr>\n",
       "\t<tr><td>74</td><td>71</td><td>71</td><td>69</td><td>72</td><td>73</td><td>69</td><td>72</td><td>73</td><td>75</td><td>73</td><td>73</td><td>75</td><td>79</td><td>75</td><td>76</td><td>80</td><td>76</td><td>78</td><td>74</td><td>79</td><td>79</td><td>79</td><td>76</td><td>76</td><td>82</td><td>69</td><td>61</td><td>66</td><td>60</td><td>66</td><td>68</td><td>64</td><td>68</td><td>68</td><td>73</td><td>67</td><td>70</td><td>67</td><td>1 </td><td>0 </td><td>0 </td><td>0 </td></tr>\n",
       "\t<tr><td>72</td><td>71</td><td>70</td><td>64</td><td>68</td><td>69</td><td>69</td><td>72</td><td>72</td><td>72</td><td>71</td><td>74</td><td>74</td><td>77</td><td>74</td><td>74</td><td>73</td><td>74</td><td>77</td><td>78</td><td>78</td><td>76</td><td>77</td><td>78</td><td>77</td><td>81</td><td>69</td><td>63</td><td>64</td><td>60</td><td>64</td><td>65</td><td>65</td><td>67</td><td>68</td><td>66</td><td>68</td><td>71</td><td>69</td><td>1 </td><td>0 </td><td>0 </td><td>0 </td></tr>\n",
       "\t<tr><td>76</td><td>69</td><td>73</td><td>70</td><td>71</td><td>72</td><td>72</td><td>74</td><td>74</td><td>77</td><td>74</td><td>73</td><td>73</td><td>78</td><td>79</td><td>80</td><td>79</td><td>77</td><td>78</td><td>80</td><td>82</td><td>78</td><td>79</td><td>76</td><td>82</td><td>82</td><td>73</td><td>61</td><td>68</td><td>60</td><td>62</td><td>64</td><td>61</td><td>68</td><td>71</td><td>74</td><td>71</td><td>67</td><td>64</td><td>1 </td><td>1 </td><td>1 </td><td>1 </td></tr>\n",
       "\t<tr><td>74</td><td>71</td><td>72</td><td>68</td><td>70</td><td>72</td><td>69</td><td>72</td><td>72</td><td>74</td><td>72</td><td>73</td><td>73</td><td>78</td><td>77</td><td>76</td><td>77</td><td>75</td><td>77</td><td>78</td><td>78</td><td>77</td><td>77</td><td>78</td><td>78</td><td>79</td><td>66</td><td>62</td><td>66</td><td>60</td><td>62</td><td>65</td><td>62</td><td>68</td><td>67</td><td>68</td><td>67</td><td>70</td><td>62</td><td>1 </td><td>1 </td><td>1 </td><td>0 </td></tr>\n",
       "\t<tr><td>73</td><td>72</td><td>72</td><td>68</td><td>72</td><td>72</td><td>69</td><td>73</td><td>76</td><td>75</td><td>71</td><td>75</td><td>75</td><td>77</td><td>79</td><td>77</td><td>78</td><td>77</td><td>76</td><td>72</td><td>76</td><td>79</td><td>77</td><td>78</td><td>80</td><td>79</td><td>70</td><td>62</td><td>64</td><td>60</td><td>68</td><td>67</td><td>64</td><td>71</td><td>71</td><td>72</td><td>66</td><td>68</td><td>68</td><td>0 </td><td>0 </td><td>0 </td><td>0 </td></tr>\n",
       "\t<tr><td>72</td><td>72</td><td>71</td><td>66</td><td>71</td><td>73</td><td>69</td><td>73</td><td>75</td><td>73</td><td>72</td><td>74</td><td>73</td><td>78</td><td>80</td><td>74</td><td>76</td><td>76</td><td>80</td><td>73</td><td>77</td><td>77</td><td>77</td><td>76</td><td>78</td><td>81</td><td>67</td><td>63</td><td>68</td><td>62</td><td>68</td><td>69</td><td>63</td><td>69</td><td>72</td><td>70</td><td>67</td><td>66</td><td>62</td><td>0 </td><td>0 </td><td>0 </td><td>0 </td></tr>\n",
       "\t<tr><td>76</td><td>68</td><td>71</td><td>71</td><td>69</td><td>71</td><td>72</td><td>74</td><td>74</td><td>76</td><td>73</td><td>73</td><td>74</td><td>78</td><td>75</td><td>76</td><td>78</td><td>74</td><td>74</td><td>79</td><td>82</td><td>77</td><td>78</td><td>76</td><td>79</td><td>82</td><td>71</td><td>60</td><td>65</td><td>64</td><td>64</td><td>65</td><td>62</td><td>66</td><td>69</td><td>71</td><td>68</td><td>65</td><td>67</td><td>1 </td><td>1 </td><td>1 </td><td>1 </td></tr>\n",
       "\t<tr><td>74</td><td>73</td><td>73</td><td>68</td><td>72</td><td>74</td><td>68</td><td>72</td><td>74</td><td>75</td><td>74</td><td>74</td><td>75</td><td>79</td><td>81</td><td>76</td><td>76</td><td>76</td><td>77</td><td>77</td><td>78</td><td>77</td><td>78</td><td>76</td><td>78</td><td>79</td><td>71</td><td>63</td><td>68</td><td>60</td><td>66</td><td>68</td><td>64</td><td>67</td><td>68</td><td>72</td><td>71</td><td>66</td><td>66</td><td>1 </td><td>0 </td><td>0 </td><td>0 </td></tr>\n",
       "\t<tr><td>73</td><td>76</td><td>73</td><td>69</td><td>72</td><td>72</td><td>66</td><td>71</td><td>74</td><td>74</td><td>76</td><td>76</td><td>76</td><td>76</td><td>81</td><td>80</td><td>75</td><td>78</td><td>78</td><td>73</td><td>77</td><td>77</td><td>76</td><td>82</td><td>81</td><td>78</td><td>70</td><td>71</td><td>67</td><td>60</td><td>66</td><td>66</td><td>61</td><td>66</td><td>70</td><td>72</td><td>71</td><td>73</td><td>73</td><td>0 </td><td>0 </td><td>0 </td><td>0 </td></tr>\n",
       "\t<tr><td>71</td><td>70</td><td>70</td><td>65</td><td>67</td><td>68</td><td>68</td><td>70</td><td>70</td><td>72</td><td>70</td><td>72</td><td>73</td><td>77</td><td>77</td><td>77</td><td>73</td><td>71</td><td>73</td><td>79</td><td>76</td><td>74</td><td>76</td><td>76</td><td>76</td><td>81</td><td>67</td><td>63</td><td>65</td><td>62</td><td>63</td><td>65</td><td>62</td><td>61</td><td>67</td><td>70</td><td>65</td><td>66</td><td>69</td><td>1 </td><td>0 </td><td>0 </td><td>0 </td></tr>\n",
       "\t<tr><td>75</td><td>75</td><td>73</td><td>71</td><td>74</td><td>75</td><td>69</td><td>74</td><td>76</td><td>77</td><td>77</td><td>75</td><td>75</td><td>79</td><td>81</td><td>81</td><td>77</td><td>78</td><td>79</td><td>72</td><td>78</td><td>81</td><td>79</td><td>80</td><td>79</td><td>78</td><td>70</td><td>69</td><td>66</td><td>62</td><td>63</td><td>67</td><td>65</td><td>70</td><td>73</td><td>73</td><td>74</td><td>71</td><td>70</td><td>0 </td><td>0 </td><td>0 </td><td>0 </td></tr>\n",
       "\t<tr><td>75</td><td>70</td><td>72</td><td>71</td><td>69</td><td>70</td><td>69</td><td>72</td><td>75</td><td>76</td><td>73</td><td>73</td><td>74</td><td>79</td><td>80</td><td>81</td><td>79</td><td>79</td><td>76</td><td>82</td><td>81</td><td>78</td><td>79</td><td>80</td><td>76</td><td>80</td><td>69</td><td>60</td><td>67</td><td>60</td><td>60</td><td>61</td><td>62</td><td>66</td><td>74</td><td>73</td><td>65</td><td>66</td><td>63</td><td>1 </td><td>1 </td><td>1 </td><td>1 </td></tr>\n",
       "\t<tr><td>75</td><td>67</td><td>70</td><td>71</td><td>71</td><td>72</td><td>72</td><td>74</td><td>74</td><td>75</td><td>73</td><td>72</td><td>74</td><td>80</td><td>78</td><td>74</td><td>78</td><td>77</td><td>77</td><td>76</td><td>76</td><td>79</td><td>79</td><td>77</td><td>76</td><td>79</td><td>70</td><td>61</td><td>63</td><td>63</td><td>63</td><td>66</td><td>65</td><td>71</td><td>70</td><td>73</td><td>68</td><td>66</td><td>66</td><td>1 </td><td>1 </td><td>0 </td><td>0 </td></tr>\n",
       "\t<tr><td>74</td><td>70</td><td>71</td><td>68</td><td>73</td><td>74</td><td>70</td><td>72</td><td>72</td><td>75</td><td>74</td><td>73</td><td>72</td><td>78</td><td>78</td><td>76</td><td>74</td><td>76</td><td>78</td><td>77</td><td>79</td><td>77</td><td>79</td><td>79</td><td>78</td><td>77</td><td>72</td><td>61</td><td>66</td><td>62</td><td>65</td><td>66</td><td>63</td><td>66</td><td>66</td><td>72</td><td>64</td><td>68</td><td>66</td><td>1 </td><td>1 </td><td>1 </td><td>0 </td></tr>\n",
       "\t<tr><td>72</td><td>69</td><td>70</td><td>67</td><td>68</td><td>68</td><td>67</td><td>71</td><td>73</td><td>73</td><td>70</td><td>73</td><td>76</td><td>80</td><td>75</td><td>79</td><td>80</td><td>75</td><td>76</td><td>77</td><td>78</td><td>80</td><td>80</td><td>74</td><td>77</td><td>80</td><td>67</td><td>62</td><td>65</td><td>62</td><td>62</td><td>65</td><td>60</td><td>66</td><td>68</td><td>68</td><td>61</td><td>70</td><td>72</td><td>1 </td><td>1 </td><td>1 </td><td>1 </td></tr>\n",
       "\t<tr><td>73</td><td>74</td><td>72</td><td>68</td><td>70</td><td>71</td><td>69</td><td>74</td><td>74</td><td>74</td><td>73</td><td>75</td><td>77</td><td>79</td><td>80</td><td>75</td><td>77</td><td>75</td><td>76</td><td>76</td><td>77</td><td>77</td><td>78</td><td>75</td><td>79</td><td>82</td><td>69</td><td>66</td><td>68</td><td>62</td><td>63</td><td>64</td><td>62</td><td>71</td><td>71</td><td>72</td><td>71</td><td>72</td><td>70</td><td>1 </td><td>0 </td><td>0 </td><td>0 </td></tr>\n",
       "\t<tr><td>73</td><td>73</td><td>72</td><td>68</td><td>71</td><td>72</td><td>69</td><td>74</td><td>76</td><td>74</td><td>73</td><td>75</td><td>75</td><td>78</td><td>79</td><td>76</td><td>78</td><td>75</td><td>77</td><td>80</td><td>78</td><td>80</td><td>79</td><td>80</td><td>79</td><td>82</td><td>69</td><td>64</td><td>63</td><td>60</td><td>64</td><td>70</td><td>63</td><td>66</td><td>73</td><td>73</td><td>68</td><td>70</td><td>67</td><td>1 </td><td>1 </td><td>1 </td><td>1 </td></tr>\n",
       "\t<tr><td>72</td><td>68</td><td>68</td><td>69</td><td>64</td><td>66</td><td>69</td><td>72</td><td>73</td><td>73</td><td>68</td><td>73</td><td>73</td><td>74</td><td>77</td><td>75</td><td>75</td><td>68</td><td>70</td><td>76</td><td>78</td><td>76</td><td>77</td><td>76</td><td>76</td><td>75</td><td>67</td><td>61</td><td>61</td><td>60</td><td>60</td><td>60</td><td>65</td><td>65</td><td>67</td><td>70</td><td>62</td><td>67</td><td>69</td><td>1 </td><td>0 </td><td>0 </td><td>0 </td></tr>\n",
       "</tbody>\n",
       "</table>\n"
      ],
      "text/latex": [
       "\\begin{tabular}{r|lllllllllllllllllllllllllllllllllllllllllll}\n",
       " flat\\_mean & mountain\\_mean & downhill\\_mean & cobbles\\_mean & tt\\_mean & prologue\\_mean & sprint\\_mean & acceleration\\_mean & endurance\\_mean & resistance\\_mean & recup\\_mean & hill\\_mean & attack\\_mean & flat\\_max & mountain\\_max & downhill\\_max & cobbles\\_max & tt\\_max & prologue\\_max & sprint\\_max & acceleration\\_max & endurance\\_max & resistance\\_max & recup\\_max & hill\\_max & attack\\_max & flat\\_min & mountain\\_min & downhill\\_min & cobbles\\_min & tt\\_min & prologue\\_min & sprint\\_min & acceleration\\_min & endurance\\_min & resistance\\_min & recup\\_min & hill\\_min & attack\\_min & Top10 & Top5 & Top4 & Top3\\\\\n",
       "\\hline\n",
       "\t 68 & 68 & 73 & 60 & 63 & 65 & 65 & 70 & 66 & 67 & 69 & 71 & 68 & 72 & 77 & 81 & 69 & 73 & 74 & 73 & 78 & 70 & 74 & 76 & 76 & 75 & 64 & 56 & 66 & 53 & 58 & 61 & 55 & 66 & 63 & 63 & 60 & 64 & 63 & 1  & 0  & 0  & 0 \\\\\n",
       "\t 69 & 65 & 67 & 59 & 64 & 64 & 67 & 70 & 66 & 64 & 67 & 69 & 68 & 72 & 74 & 72 & 66 & 72 & 73 & 75 & 76 & 70 & 66 & 71 & 75 & 76 & 65 & 54 & 63 & 55 & 59 & 58 & 60 & 63 & 63 & 62 & 65 & 60 & 61 & 1  & 1  & 0  & 0 \\\\\n",
       "\t 70 & 74 & 69 & 58 & 68 & 70 & 64 & 69 & 70 & 71 & 73 & 76 & 73 & 77 & 80 & 77 & 73 & 75 & 78 & 70 & 76 & 74 & 74 & 75 & 78 & 81 & 63 & 71 & 64 & 54 & 58 & 60 & 57 & 64 & 67 & 67 & 68 & 73 & 67 & 0  & 0  & 0  & 0 \\\\\n",
       "\t 70 & 70 & 71 & 60 & 64 & 66 & 65 & 71 & 68 & 68 & 70 & 74 & 68 & 74 & 80 & 82 & 71 & 71 & 72 & 77 & 78 & 73 & 74 & 76 & 78 & 76 & 64 & 62 & 65 & 55 & 58 & 59 & 55 & 59 & 60 & 62 & 65 & 70 & 59 & 1  & 1  & 1  & 1 \\\\\n",
       "\t 67 & 65 & 66 & 60 & 60 & 60 & 65 & 69 & 65 & 64 & 65 & 68 & 65 & 72 & 76 & 73 & 64 & 65 & 63 & 76 & 77 & 69 & 69 & 75 & 75 & 74 & 62 & 54 & 62 & 55 & 56 & 58 & 58 & 63 & 60 & 60 & 60 & 62 & 55 & 1  & 0  & 0  & 0 \\\\\n",
       "\t 73 & 69 & 71 & 68 & 69 & 71 & 66 & 70 & 70 & 71 & 71 & 74 & 68 & 77 & 76 & 79 & 78 & 82 & 82 & 75 & 78 & 74 & 76 & 78 & 77 & 81 & 66 & 61 & 67 & 60 & 65 & 64 & 58 & 62 & 65 & 67 & 66 & 70 & 57 & 1  & 1  & 1  & 1 \\\\\n",
       "\t 71 & 69 & 71 & 64 & 65 & 67 & 66 & 69 & 68 & 68 & 70 & 73 & 68 & 73 & 78 & 75 & 72 & 70 & 70 & 79 & 79 & 71 & 71 & 76 & 77 & 81 & 67 & 55 & 67 & 57 & 61 & 63 & 60 & 64 & 65 & 65 & 66 & 68 & 61 & 1  & 1  & 1  & 1 \\\\\n",
       "\t 69 & 71 & 68 & 59 & 65 & 66 & 62 & 68 & 67 & 68 & 71 & 72 & 69 & 73 & 79 & 75 & 61 & 68 & 69 & 74 & 75 & 70 & 74 & 77 & 78 & 77 & 63 & 65 & 64 & 54 & 59 & 61 & 55 & 58 & 62 & 65 & 67 & 69 & 55 & 1  & 1  & 0  & 0 \\\\\n",
       "\t 73 & 70 & 69 & 64 & 72 & 73 & 65 & 69 & 71 & 70 & 73 & 74 & 68 & 77 & 81 & 74 & 75 & 75 & 76 & 73 & 73 & 75 & 76 & 79 & 77 & 71 & 69 & 55 & 65 & 55 & 68 & 71 & 60 & 62 & 67 & 67 & 68 & 68 & 59 & 0  & 0  & 0  & 0 \\\\\n",
       "\t 71 & 64 & 71 & 65 & 65 & 67 & 67 & 70 & 67 & 66 & 67 & 69 & 69 & 73 & 76 & 75 & 69 & 74 & 73 & 75 & 76 & 73 & 72 & 71 & 78 & 77 & 60 & 55 & 67 & 54 & 56 & 59 & 57 & 59 & 58 & 60 & 62 & 61 & 61 & 1  & 0  & 0  & 0 \\\\\n",
       "\t 74 & 65 & 71 & 68 & 71 & 74 & 67 & 69 & 68 & 69 & 69 & 72 & 70 & 79 & 73 & 82 & 75 & 81 & 80 & 76 & 75 & 72 & 73 & 76 & 75 & 78 & 71 & 57 & 65 & 62 & 63 & 69 & 57 & 60 & 65 & 67 & 63 & 68 & 63 & 1  & 1  & 1  & 0 \\\\\n",
       "\t 74 & 65 & 70 & 69 & 67 & 70 & 66 & 70 & 69 & 69 & 70 & 72 & 70 & 76 & 75 & 80 & 78 & 77 & 78 & 76 & 76 & 76 & 80 & 78 & 79 & 82 & 72 & 56 & 65 & 62 & 60 & 63 & 55 & 60 & 66 & 64 & 62 & 62 & 61 & 1  & 1  & 0  & 0 \\\\\n",
       "\t 70 & 70 & 70 & 63 & 69 & 69 & 61 & 67 & 70 & 71 & 72 & 74 & 71 & 73 & 80 & 77 & 72 & 75 & 75 & 68 & 78 & 75 & 77 & 78 & 80 & 78 & 66 & 56 & 63 & 57 & 63 & 64 & 54 & 55 & 63 & 63 & 62 & 62 & 65 & 0  & 0  & 0  & 0 \\\\\n",
       "\t 66 & 74 & 68 & 57 & 64 & 66 & 61 & 68 & 66 & 67 & 69 & 73 & 67 & 70 & 78 & 72 & 63 & 72 & 73 & 67 & 76 & 69 & 69 & 72 & 76 & 70 & 61 & 68 & 63 & 54 & 59 & 61 & 55 & 61 & 61 & 62 & 64 & 66 & 63 & 0  & 0  & 0  & 0 \\\\\n",
       "\t 74 & 63 & 74 & 68 & 68 & 72 & 70 & 73 & 70 & 70 & 69 & 71 & 70 & 77 & 73 & 83 & 81 & 75 & 77 & 83 & 81 & 74 & 78 & 72 & 75 & 79 & 68 & 56 & 69 & 52 & 63 & 65 & 58 & 64 & 66 & 63 & 65 & 66 & 60 & 1  & 1  & 1  & 1 \\\\\n",
       "\t 71 & 67 & 69 & 63 & 63 & 66 & 67 & 70 & 69 & 68 & 69 & 71 & 68 & 74 & 78 & 74 & 73 & 68 & 73 & 79 & 78 & 74 & 75 & 74 & 78 & 73 & 66 & 55 & 64 & 55 & 61 & 63 & 54 & 60 & 65 & 65 & 65 & 63 & 58 & 1  & 1  & 1  & 1 \\\\\n",
       "\t 72 & 67 & 70 & 65 & 68 & 70 & 67 & 70 & 68 & 68 & 70 & 72 & 69 & 75 & 78 & 74 & 72 & 78 & 79 & 77 & 76 & 71 & 72 & 73 & 76 & 75 & 69 & 55 & 62 & 54 & 61 & 63 & 63 & 66 & 64 & 64 & 67 & 67 & 64 & 1  & 1  & 1  & 1 \\\\\n",
       "\t 70 & 74 & 69 & 61 & 71 & 72 & 61 & 69 & 71 & 72 & 75 & 75 & 70 & 79 & 83 & 76 & 73 & 79 & 78 & 65 & 80 & 76 & 78 & 82 & 80 & 74 & 62 & 61 & 63 & 53 & 57 & 60 & 56 & 54 & 67 & 67 & 67 & 72 & 67 & 0  & 0  & 0  & 0 \\\\\n",
       "\t 69 & 71 & 67 & 62 & 67 & 68 & 61 & 67 & 67 & 68 & 71 & 71 & 68 & 76 & 80 & 76 & 68 & 83 & 82 & 65 & 69 & 76 & 77 & 79 & 76 & 73 & 64 & 55 & 61 & 54 & 57 & 59 & 53 & 62 & 62 & 63 & 66 & 66 & 61 & 0  & 0  & 0  & 0 \\\\\n",
       "\t 70 & 66 & 73 & 64 & 69 & 70 & 64 & 69 & 67 & 68 & 68 & 72 & 70 & 75 & 75 & 81 & 75 & 78 & 77 & 72 & 75 & 73 & 73 & 76 & 78 & 79 & 64 & 57 & 66 & 54 & 61 & 62 & 57 & 59 & 63 & 64 & 63 & 65 & 60 & 1  & 0  & 0  & 0 \\\\\n",
       "\t 71 & 71 & 70 & 61 & 65 & 65 & 66 & 74 & 70 & 71 & 70 & 75 & 74 & 75 & 80 & 82 & 77 & 75 & 73 & 71 & 80 & 74 & 73 & 75 & 80 & 82 & 65 & 64 & 67 & 54 & 55 & 58 & 58 & 64 & 65 & 68 & 68 & 72 & 64 & 1  & 0  & 0  & 0 \\\\\n",
       "\t 68 & 59 & 67 & 62 & 61 & 62 & 66 & 67 & 63 & 62 & 64 & 64 & 66 & 72 & 73 & 71 & 67 & 67 & 67 & 78 & 77 & 66 & 65 & 71 & 73 & 76 & 64 & 54 & 61 & 54 & 56 & 57 & 53 & 57 & 59 & 57 & 56 & 59 & 57 & 1  & 1  & 1  & 1 \\\\\n",
       "\t 71 & 73 & 71 & 64 & 68 & 68 & 65 & 71 & 71 & 73 & 72 & 74 & 73 & 75 & 76 & 77 & 73 & 74 & 74 & 71 & 77 & 75 & 76 & 74 & 77 & 77 & 67 & 71 & 66 & 60 & 62 & 61 & 61 & 69 & 68 & 70 & 68 & 70 & 69 & 0  & 0  & 0  & 0 \\\\\n",
       "\t 71 & 70 & 69 & 63 & 66 & 66 & 69 & 73 & 72 & 72 & 71 & 74 & 73 & 74 & 76 & 73 & 68 & 74 & 72 & 77 & 77 & 75 & 76 & 75 & 76 & 79 & 65 & 61 & 63 & 60 & 60 & 62 & 63 & 69 & 64 & 67 & 63 & 71 & 68 & 1  & 0  & 0  & 0 \\\\\n",
       "\t 70 & 76 & 72 & 61 & 71 & 72 & 66 & 72 & 74 & 73 & 74 & 75 & 74 & 75 & 80 & 79 & 69 & 74 & 76 & 69 & 76 & 76 & 75 & 77 & 78 & 77 & 68 & 72 & 68 & 60 & 66 & 66 & 63 & 66 & 69 & 72 & 68 & 72 & 69 & 0  & 0  & 0  & 0 \\\\\n",
       "\t 71 & 74 & 73 & 65 & 67 & 68 & 66 & 71 & 72 & 73 & 73 & 74 & 74 & 75 & 80 & 81 & 74 & 74 & 73 & 73 & 76 & 78 & 75 & 83 & 78 & 81 & 67 & 68 & 66 & 60 & 60 & 62 & 61 & 65 & 65 & 70 & 65 & 72 & 69 & 0  & 0  & 0  & 0 \\\\\n",
       "\t 70 & 68 & 66 & 63 & 64 & 65 & 66 & 69 & 67 & 70 & 68 & 70 & 72 & 74 & 73 & 72 & 68 & 69 & 69 & 73 & 73 & 72 & 73 & 73 & 73 & 81 & 63 & 61 & 61 & 60 & 60 & 61 & 61 & 64 & 61 & 61 & 62 & 64 & 63 & 1  & 0  & 0  & 0 \\\\\n",
       "\t 73 & 71 & 70 & 64 & 66 & 68 & 72 & 75 & 73 & 74 & 72 & 73 & 72 & 77 & 79 & 75 & 73 & 72 & 72 & 81 & 80 & 79 & 77 & 76 & 78 & 81 & 69 & 61 & 67 & 60 & 63 & 61 & 64 & 69 & 67 & 72 & 66 & 66 & 62 & 1  & 1  & 1  & 1 \\\\\n",
       "\t 72 & 69 & 70 & 65 & 69 & 70 & 68 & 72 & 70 & 72 & 70 & 70 & 72 & 75 & 75 & 74 & 72 & 74 & 73 & 78 & 80 & 73 & 74 & 74 & 74 & 76 & 67 & 60 & 66 & 60 & 62 & 66 & 60 & 67 & 67 & 70 & 65 & 62 & 62 & 1  & 0  & 0  & 0 \\\\\n",
       "\t 74 & 68 & 71 & 70 & 69 & 70 & 70 & 73 & 74 & 75 & 71 & 72 & 71 & 79 & 76 & 77 & 77 & 78 & 77 & 80 & 82 & 78 & 79 & 75 & 76 & 78 & 67 & 61 & 66 & 60 & 62 & 66 & 62 & 67 & 68 & 72 & 67 & 66 & 64 & 1  & 1  & 1  & 1 \\\\\n",
       "\t 71 & 69 & 69 & 65 & 66 & 69 & 70 & 73 & 70 & 73 & 71 & 73 & 69 & 75 & 76 & 75 & 71 & 72 & 75 & 78 & 78 & 77 & 76 & 76 & 80 & 76 & 67 & 61 & 62 & 60 & 62 & 62 & 60 & 65 & 68 & 69 & 65 & 66 & 60 & 1  & 1  & 0  & 0 \\\\\n",
       "\t 70 & 73 & 69 & 63 & 67 & 68 & 66 & 71 & 70 & 71 & 71 & 74 & 72 & 76 & 77 & 76 & 74 & 73 & 73 & 77 & 78 & 76 & 75 & 75 & 76 & 79 & 63 & 62 & 65 & 60 & 60 & 60 & 61 & 65 & 65 & 67 & 67 & 71 & 64 & 1  & 0  & 0  & 0 \\\\\n",
       "\t 75 & 66 & 71 & 70 & 68 & 69 & 71 & 73 & 73 & 74 & 71 & 70 & 71 & 78 & 75 & 77 & 75 & 75 & 77 & 80 & 78 & 77 & 78 & 79 & 76 & 77 & 73 & 60 & 66 & 62 & 61 & 61 & 60 & 66 & 68 & 72 & 66 & 66 & 64 & 1  & 1  & 1  & 1 \\\\\n",
       "\t 71 & 66 & 70 & 64 & 63 & 65 & 68 & 70 & 70 & 71 & 68 & 70 & 72 & 76 & 75 & 74 & 69 & 69 & 68 & 75 & 77 & 75 & 75 & 74 & 75 & 79 & 64 & 60 & 63 & 60 & 60 & 61 & 61 & 61 & 61 & 63 & 61 & 60 & 65 & 1  & 1  & 0  & 0 \\\\\n",
       "\t 75 & 67 & 71 & 68 & 70 & 70 & 70 & 73 & 72 & 77 & 72 & 72 & 74 & 77 & 74 & 76 & 72 & 80 & 79 & 79 & 82 & 78 & 78 & 76 & 80 & 82 & 72 & 60 & 65 & 64 & 63 & 62 & 62 & 69 & 66 & 74 & 68 & 65 & 66 & 1  & 1  & 1  & 1 \\\\\n",
       "\t 72 & 74 & 71 & 66 & 72 & 72 & 65 & 71 & 73 & 74 & 73 & 75 & 75 & 78 & 81 & 75 & 76 & 76 & 77 & 67 & 77 & 76 & 76 & 75 & 78 & 79 & 68 & 67 & 68 & 60 & 69 & 67 & 61 & 67 & 66 & 72 & 68 & 71 & 70 & 0  & 0  & 0  & 0 \\\\\n",
       "\t 72 & 74 & 72 & 66 & 69 & 70 & 68 & 72 & 71 & 74 & 74 & 75 & 73 & 76 & 80 & 80 & 74 & 75 & 76 & 73 & 76 & 76 & 76 & 81 & 78 & 79 & 69 & 70 & 64 & 60 & 62 & 64 & 62 & 65 & 66 & 72 & 67 & 72 & 66 & 0  & 0  & 0  & 0 \\\\\n",
       "\t 72 & 67 & 68 & 63 & 62 & 64 & 71 & 73 & 71 & 71 & 69 & 71 & 70 & 75 & 73 & 76 & 68 & 66 & 68 & 75 & 76 & 76 & 75 & 74 & 76 & 76 & 67 & 64 & 63 & 60 & 60 & 60 & 65 & 68 & 66 & 67 & 62 & 67 & 60 & 1  & 1  & 1  & 1 \\\\\n",
       "\t 72 & 74 & 70 & 65 & 70 & 69 & 66 & 72 & 71 & 73 & 71 & 75 & 72 & 77 & 78 & 73 & 72 & 73 & 74 & 69 & 78 & 73 & 75 & 75 & 77 & 75 & 68 & 70 & 68 & 60 & 65 & 65 & 62 & 63 & 67 & 71 & 67 & 73 & 69 & 1  & 0  & 0  & 0 \\\\\n",
       "\t 72 & 71 & 72 & 65 & 70 & 71 & 67 & 70 & 72 & 73 & 73 & 72 & 72 & 76 & 79 & 80 & 73 & 79 & 79 & 72 & 74 & 75 & 78 & 77 & 78 & 79 & 67 & 62 & 67 & 60 & 64 & 64 & 62 & 65 & 68 & 71 & 69 & 66 & 66 & 0  & 0  & 0  & 0 \\\\\n",
       "\t 73 & 69 & 69 & 67 & 68 & 69 & 71 & 73 & 72 & 73 & 71 & 72 & 72 & 77 & 78 & 75 & 74 & 74 & 75 & 76 & 76 & 76 & 76 & 77 & 76 & 79 & 66 & 62 & 63 & 60 & 63 & 65 & 61 & 67 & 68 & 69 & 66 & 68 & 63 & 1  & 0  & 0  & 0 \\\\\n",
       "\t 72 & 74 & 69 & 64 & 70 & 71 & 65 & 70 & 70 & 73 & 74 & 74 & 73 & 78 & 80 & 76 & 69 & 81 & 78 & 69 & 74 & 76 & 79 & 79 & 77 & 78 & 69 & 71 & 66 & 60 & 65 & 63 & 62 & 66 & 66 & 71 & 68 & 71 & 68 & 0  & 0  & 0  & 0 \\\\\n",
       "\t 71 & 71 & 71 & 64 & 68 & 69 & 66 & 71 & 72 & 72 & 70 & 73 & 74 & 74 & 78 & 77 & 68 & 74 & 74 & 76 & 77 & 76 & 75 & 75 & 79 & 82 & 67 & 62 & 66 & 60 & 62 & 64 & 60 & 66 & 69 & 67 & 62 & 66 & 65 & 1  & 1  & 1  & 0 \\\\\n",
       "\t 73 & 68 & 70 & 68 & 68 & 70 & 71 & 74 & 71 & 74 & 70 & 73 & 72 & 76 & 76 & 76 & 73 & 71 & 77 & 81 & 81 & 75 & 76 & 73 & 80 & 78 & 70 & 60 & 63 & 60 & 63 & 64 & 66 & 68 & 66 & 68 & 64 & 68 & 63 & 1  & 1  & 1  & 1 \\\\\n",
       "\t 71 & 69 & 69 & 65 & 66 & 68 & 60 & 66 & 68 & 67 & 69 & 72 & 71 & 77 & 76 & 73 & 78 & 74 & 77 & 71 & 76 & 73 & 73 & 75 & 76 & 79 & 64 & 59 & 66 & 55 & 58 & 61 & 54 & 58 & 63 & 63 & 63 & 65 & 65 & 0  & 0  & 0  & 0 \\\\\n",
       "\t 68 & 66 & 67 & 61 & 65 & 67 & 61 & 66 & 64 & 65 & 66 & 70 & 69 & 71 & 74 & 69 & 67 & 70 & 71 & 65 & 72 & 67 & 69 & 73 & 74 & 74 & 62 & 56 & 63 & 54 & 59 & 59 & 56 & 64 & 59 & 61 & 58 & 64 & 60 & 0  & 0  & 0  & 0 \\\\\n",
       "\t 72 & 69 & 72 & 66 & 67 & 68 & 65 & 69 & 70 & 69 & 71 & 74 & 73 & 76 & 80 & 79 & 72 & 74 & 73 & 76 & 77 & 74 & 72 & 79 & 78 & 79 & 65 & 60 & 66 & 54 & 62 & 60 & 58 & 60 & 67 & 66 & 63 & 69 & 66 & 0  & 0  & 0  & 0 \\\\\n",
       "\t 71 & 71 & 71 & 66 & 69 & 71 & 67 & 70 & 69 & 70 & 70 & 74 & 68 & 75 & 79 & 75 & 74 & 76 & 80 & 77 & 79 & 75 & 75 & 76 & 78 & 75 & 60 & 64 & 65 & 60 & 60 & 63 & 57 & 60 & 61 & 65 & 62 & 69 & 60 & 1  & 0  & 0  & 0 \\\\\n",
       "\t 75 & 72 & 72 & 67 & 70 & 74 & 65 & 69 & 72 & 71 & 73 & 75 & 72 & 80 & 83 & 79 & 82 & 77 & 79 & 74 & 76 & 79 & 81 & 77 & 79 & 81 & 71 & 60 & 66 & 57 & 62 & 68 & 58 & 60 & 67 & 67 & 68 & 72 & 64 & 0  & 0  & 0  & 0 \\\\\n",
       "\t 75 & 64 & 70 & 72 & 69 & 72 & 69 & 70 & 72 & 72 & 69 & 71 & 70 & 80 & 77 & 84 & 83 & 79 & 80 & 80 & 80 & 82 & 82 & 77 & 78 & 80 & 69 & 54 & 65 & 60 & 59 & 62 & 61 & 61 & 66 & 68 & 61 & 61 & 61 & 1  & 1  & 1  & 0 \\\\\n",
       "\t 71 & 67 & 68 & 63 & 65 & 69 & 65 & 70 & 69 & 68 & 69 & 72 & 69 & 75 & 76 & 72 & 72 & 70 & 74 & 75 & 79 & 73 & 70 & 72 & 77 & 75 & 66 & 58 & 64 & 54 & 58 & 64 & 58 & 55 & 66 & 64 & 63 & 61 & 63 & 1  & 0  & 0  & 0 \\\\\n",
       "\t 69 & 67 & 68 & 60 & 66 & 67 & 63 & 69 & 67 & 67 & 66 & 71 & 72 & 73 & 75 & 75 & 65 & 71 & 73 & 75 & 76 & 74 & 76 & 74 & 77 & 76 & 67 & 58 & 64 & 55 & 59 & 62 & 55 & 61 & 62 & 57 & 60 & 65 & 65 & 0  & 0  & 0  & 0 \\\\\n",
       "\t 74 & 60 & 70 & 68 & 64 & 68 & 71 & 73 & 71 & 69 & 66 & 70 & 66 & 79 & 69 & 76 & 77 & 68 & 74 & 80 & 79 & 78 & 79 & 68 & 77 & 71 & 72 & 55 & 66 & 57 & 57 & 61 & 58 & 62 & 67 & 64 & 65 & 62 & 55 & 1  & 1  & 1  & 1 \\\\\n",
       "\t 70 & 69 & 68 & 62 & 69 & 71 & 66 & 71 & 67 & 67 & 68 & 72 & 71 & 74 & 76 & 75 & 65 & 73 & 77 & 74 & 75 & 72 & 71 & 75 & 78 & 77 & 64 & 62 & 61 & 58 & 63 & 64 & 52 & 60 & 60 & 60 & 59 & 63 & 65 & 0  & 0  & 0  & 0 \\\\\n",
       "\t 73 & 64 & 71 & 66 & 66 & 69 & 69 & 70 & 69 & 68 & 71 & 70 & 68 & 77 & 73 & 75 & 74 & 72 & 73 & 80 & 79 & 74 & 73 & 78 & 74 & 76 & 65 & 53 & 67 & 59 & 61 & 61 & 59 & 57 & 65 & 66 & 66 & 66 & 61 & 1  & 0  & 0  & 0 \\\\\n",
       "\t 72 & 67 & 69 & 63 & 71 & 73 & 64 & 70 & 69 & 70 & 70 & 73 & 69 & 73 & 76 & 77 & 72 & 75 & 78 & 73 & 78 & 75 & 73 & 77 & 77 & 75 & 69 & 58 & 61 & 57 & 67 & 68 & 58 & 65 & 62 & 66 & 63 & 64 & 65 & 0  & 0  & 0  & 0 \\\\\n",
       "\t 71 & 72 & 73 & 66 & 71 & 73 & 66 & 73 & 70 & 71 & 74 & 75 & 69 & 74 & 83 & 76 & 73 & 78 & 78 & 75 & 78 & 72 & 76 & 81 & 78 & 78 & 66 & 62 & 67 & 57 & 61 & 64 & 57 & 65 & 66 & 66 & 67 & 71 & 59 & 0  & 0  & 0  & 0 \\\\\n",
       "\t 65 & 66 & 68 & 57 & 61 & 62 & 62 & 67 & 64 & 65 & 66 & 69 & 66 & 71 & 75 & 77 & 67 & 67 & 68 & 74 & 75 & 69 & 68 & 71 & 76 & 76 & 60 & 56 & 61 & 53 & 56 & 57 & 55 & 58 & 59 & 61 & 62 & 65 & 60 & 0  & 0  & 0  & 0 \\\\\n",
       "\t 73 & 63 & 72 & 69 & 66 & 69 & 72 & 75 & 70 & 71 & 69 & 71 & 70 & 79 & 77 & 78 & 79 & 76 & 79 & 82 & 82 & 81 & 82 & 72 & 80 & 78 & 65 & 59 & 65 & 57 & 62 & 63 & 61 & 68 & 65 & 63 & 65 & 65 & 63 & 1  & 1  & 1  & 1 \\\\\n",
       "\t 72 & 67 & 68 & 67 & 66 & 68 & 66 & 68 & 70 & 69 & 69 & 72 & 71 & 79 & 75 & 74 & 81 & 75 & 74 & 72 & 72 & 78 & 72 & 74 & 74 & 78 & 66 & 59 & 64 & 55 & 61 & 64 & 54 & 60 & 65 & 66 & 65 & 67 & 62 & 0  & 0  & 0  & 0 \\\\\n",
       "\t 71 & 68 & 68 & 65 & 66 & 68 & 67 & 70 & 69 & 68 & 69 & 73 & 69 & 75 & 78 & 74 & 76 & 73 & 71 & 73 & 75 & 72 & 70 & 77 & 77 & 77 & 68 & 56 & 62 & 54 & 61 & 63 & 60 & 67 & 66 & 64 & 64 & 66 & 64 & 0  & 0  & 0  & 0 \\\\\n",
       "\t 70 & 64 & 70 & 63 & 66 & 69 & 67 & 71 & 67 & 66 & 68 & 70 & 67 & 78 & 76 & 77 & 77 & 70 & 73 & 76 & 76 & 73 & 73 & 72 & 76 & 71 & 63 & 55 & 66 & 53 & 62 & 65 & 59 & 64 & 62 & 64 & 63 & 66 & 61 & 0  & 0  & 0  & 0 \\\\\n",
       "\t 73 & 69 & 71 & 68 & 70 & 73 & 72 & 74 & 72 & 72 & 73 & 75 & 71 & 76 & 78 & 78 & 77 & 77 & 79 & 78 & 78 & 76 & 79 & 76 & 78 & 77 & 69 & 60 & 66 & 63 & 66 & 68 & 62 & 68 & 68 & 67 & 68 & 69 & 63 & 1  & 0  & 0  & 0 \\\\\n",
       "\t 73 & 65 & 69 & 70 & 67 & 71 & 67 & 71 & 72 & 70 & 69 & 72 & 69 & 77 & 79 & 76 & 80 & 74 & 75 & 78 & 77 & 77 & 75 & 78 & 80 & 75 & 64 & 59 & 66 & 60 & 64 & 64 & 58 & 64 & 67 & 66 & 62 & 67 & 64 & 1  & 1  & 0  & 0 \\\\\n",
       "\t 72 & 66 & 71 & 64 & 65 & 68 & 73 & 75 & 71 & 70 & 70 & 72 & 67 & 76 & 73 & 75 & 79 & 70 & 74 & 80 & 80 & 78 & 77 & 75 & 80 & 76 & 69 & 59 & 68 & 59 & 57 & 60 & 64 & 64 & 61 & 62 & 64 & 64 & 60 & 1  & 1  & 1  & 1 \\\\\n",
       "\t 70 & 72 & 68 & 64 & 68 & 67 & 64 & 68 & 72 & 72 & 69 & 73 & 72 & 78 & 77 & 74 & 77 & 73 & 74 & 66 & 71 & 78 & 76 & 74 & 76 & 80 & 62 & 62 & 60 & 60 & 62 & 60 & 61 & 64 & 68 & 66 & 64 & 67 & 68 & 0  & 0  & 0  & 0 \\\\\n",
       "\t 68 & 60 & 68 & 62 & 72 & 70 & 63 & 65 & 60 & 70 & 70 & 62 & 63 & 68 & 60 & 68 & 62 & 72 & 70 & 63 & 65 & 60 & 70 & 70 & 62 & 63 & 68 & 60 & 68 & 62 & 72 & 70 & 63 & 65 & 60 & 70 & 70 & 62 & 63 & 0  & 0  & 0  & 0 \\\\\n",
       "\t 69 & 74 & 70 & 61 & 69 & 68 & 65 & 70 & 71 & 72 & 71 & 73 & 72 & 74 & 76 & 80 & 63 & 76 & 74 & 70 & 75 & 76 & 77 & 77 & 75 & 81 & 63 & 69 & 63 & 60 & 64 & 64 & 60 & 65 & 63 & 65 & 66 & 66 & 62 & 0  & 0  & 0  & 0 \\\\\n",
       "\t 72 & 73 & 73 & 65 & 68 & 69 & 66 & 71 & 71 & 74 & 72 & 74 & 75 & 76 & 79 & 83 & 74 & 80 & 82 & 73 & 76 & 75 & 78 & 76 & 78 & 82 & 67 & 68 & 68 & 60 & 60 & 62 & 61 & 65 & 65 & 70 & 65 & 72 & 69 & 1  & 1  & 1  & 0 \\\\\n",
       "\t 76 & 67 & 71 & 73 & 71 & 73 & 68 & 71 & 74 & 76 & 73 & 72 & 74 & 80 & 76 & 81 & 79 & 78 & 78 & 79 & 81 & 78 & 78 & 79 & 79 & 78 & 71 & 63 & 67 & 60 & 60 & 62 & 64 & 66 & 70 & 73 & 66 & 67 & 69 & 1  & 1  & 1  & 1 \\\\\n",
       "\t 75 & 68 & 71 & 71 & 72 & 74 & 70 & 73 & 73 & 75 & 71 & 71 & 72 & 79 & 75 & 76 & 80 & 76 & 78 & 74 & 79 & 79 & 79 & 76 & 75 & 76 & 73 & 61 & 66 & 62 & 67 & 69 & 66 & 68 & 68 & 73 & 65 & 65 & 66 & 0  & 0  & 0  & 0 \\\\\n",
       "\t 76 & 68 & 72 & 71 & 70 & 72 & 72 & 74 & 74 & 77 & 74 & 72 & 72 & 78 & 79 & 77 & 79 & 77 & 78 & 80 & 82 & 78 & 79 & 76 & 77 & 79 & 73 & 61 & 68 & 60 & 62 & 64 & 61 & 68 & 71 & 74 & 71 & 67 & 64 & 1  & 1  & 1  & 1 \\\\\n",
       "\t 72 & 71 & 71 & 66 & 68 & 70 & 67 & 72 & 71 & 72 & 70 & 73 & 74 & 76 & 77 & 75 & 77 & 72 & 74 & 75 & 76 & 77 & 77 & 74 & 78 & 79 & 66 & 61 & 66 & 61 & 65 & 65 & 62 & 67 & 65 & 67 & 67 & 65 & 69 & 1  & 0  & 0  & 0 \\\\\n",
       "\t 73 & 68 & 69 & 67 & 70 & 71 & 68 & 71 & 72 & 73 & 70 & 71 & 71 & 79 & 77 & 75 & 80 & 73 & 74 & 77 & 78 & 79 & 78 & 74 & 76 & 79 & 68 & 60 & 64 & 60 & 63 & 66 & 61 & 65 & 68 & 69 & 64 & 66 & 66 & 0  & 0  & 0  & 0 \\\\\n",
       "\t 72 & 69 & 68 & 64 & 68 & 71 & 66 & 69 & 70 & 72 & 69 & 72 & 69 & 78 & 74 & 73 & 76 & 76 & 80 & 72 & 73 & 76 & 77 & 74 & 73 & 75 & 67 & 62 & 65 & 60 & 61 & 64 & 61 & 65 & 66 & 68 & 63 & 68 & 66 & 1  & 0  & 0  & 0 \\\\\n",
       "\t 72 & 64 & 72 & 66 & 64 & 66 & 68 & 70 & 70 & 72 & 68 & 71 & 74 & 73 & 64 & 73 & 66 & 65 & 66 & 70 & 73 & 71 & 73 & 68 & 72 & 78 & 72 & 64 & 72 & 65 & 62 & 66 & 66 & 68 & 69 & 71 & 67 & 70 & 71 & 1  & 0  & 0  & 0 \\\\\n",
       "\t 65 & 75 & 64 & 60 & 62 & 62 & 61 & 71 & 66 & 67 & 69 & 72 & 64 & 65 & 75 & 64 & 60 & 62 & 62 & 61 & 71 & 66 & 67 & 69 & 72 & 64 & 65 & 75 & 64 & 60 & 62 & 62 & 61 & 71 & 66 & 67 & 69 & 72 & 64 & 0  & 0  & 0  & 0 \\\\\n",
       "\t 73 & 69 & 69 & 68 & 65 & 66 & 68 & 71 & 73 & 74 & 70 & 72 & 74 & 78 & 75 & 75 & 78 & 73 & 73 & 73 & 74 & 78 & 78 & 74 & 80 & 79 & 69 & 60 & 63 & 64 & 60 & 62 & 62 & 66 & 67 & 69 & 62 & 62 & 65 & 0  & 0  & 0  & 0 \\\\\n",
       "\t 73 & 69 & 70 & 67 & 69 & 72 & 68 & 72 & 71 & 73 & 71 & 71 & 72 & 79 & 73 & 76 & 76 & 75 & 76 & 77 & 78 & 77 & 78 & 76 & 77 & 76 & 66 & 63 & 66 & 60 & 64 & 64 & 60 & 66 & 66 & 68 & 66 & 64 & 66 & 0  & 0  & 0  & 0 \\\\\n",
       "\t 72 & 73 & 70 & 66 & 68 & 70 & 68 & 72 & 72 & 73 & 72 & 74 & 73 & 76 & 77 & 75 & 76 & 74 & 75 & 75 & 76 & 76 & 76 & 77 & 77 & 79 & 67 & 66 & 64 & 60 & 62 & 65 & 61 & 65 & 66 & 72 & 66 & 72 & 66 & 0  & 0  & 0  & 0 \\\\\n",
       "\t 71 & 69 & 69 & 62 & 69 & 68 & 67 & 69 & 68 & 71 & 70 & 71 & 70 & 74 & 75 & 72 & 66 & 72 & 71 & 72 & 74 & 71 & 74 & 74 & 74 & 76 & 68 & 60 & 66 & 60 & 64 & 65 & 60 & 60 & 67 & 69 & 65 & 65 & 66 & 0  & 0  & 0  & 0 \\\\\n",
       "\t 67 & 60 & 66 & 63 & 61 & 64 & 68 & 70 & 63 & 63 & 65 & 63 & 72 & 67 & 60 & 66 & 63 & 61 & 64 & 68 & 70 & 63 & 63 & 65 & 63 & 72 & 67 & 60 & 66 & 63 & 61 & 64 & 68 & 70 & 63 & 63 & 65 & 63 & 72 & 0  & 0  & 0  & 0 \\\\\n",
       "\t 75 & 73 & 71 & 67 & 71 & 72 & 69 & 73 & 74 & 75 & 74 & 74 & 73 & 79 & 81 & 78 & 75 & 78 & 79 & 74 & 78 & 78 & 78 & 78 & 77 & 76 & 67 & 63 & 66 & 60 & 63 & 66 & 62 & 70 & 69 & 73 & 65 & 71 & 70 & 1  & 1  & 0  & 0 \\\\\n",
       "\t 72 & 70 & 68 & 68 & 66 & 67 & 68 & 70 & 72 & 74 & 69 & 73 & 73 & 76 & 76 & 71 & 74 & 73 & 74 & 73 & 71 & 75 & 76 & 74 & 76 & 77 & 67 & 61 & 64 & 62 & 63 & 63 & 63 & 68 & 68 & 71 & 63 & 69 & 67 & 0  & 0  & 0  & 0 \\\\\n",
       "\t 72 & 69 & 69 & 65 & 68 & 70 & 69 & 72 & 71 & 72 & 68 & 73 & 72 & 76 & 77 & 76 & 70 & 74 & 75 & 76 & 76 & 76 & 75 & 73 & 76 & 77 & 68 & 61 & 61 & 60 & 63 & 65 & 63 & 65 & 66 & 69 & 62 & 68 & 66 & 0  & 0  & 0  & 0 \\\\\n",
       "\t 75 & 72 & 72 & 69 & 73 & 74 & 70 & 73 & 73 & 75 & 74 & 74 & 72 & 78 & 78 & 76 & 74 & 75 & 78 & 77 & 79 & 77 & 79 & 79 & 78 & 77 & 72 & 66 & 66 & 62 & 70 & 70 & 63 & 67 & 67 & 72 & 65 & 68 & 66 & 1  & 0  & 0  & 0 \\\\\n",
       "\t 70 & 72 & 72 & 61 & 67 & 68 & 65 & 70 & 70 & 72 & 68 & 71 & 73 & 70 & 73 & 73 & 62 & 69 & 71 & 66 & 71 & 72 & 73 & 69 & 71 & 75 & 70 & 71 & 70 & 60 & 65 & 66 & 64 & 70 & 69 & 70 & 66 & 71 & 71 & 0  & 0  & 0  & 0 \\\\\n",
       "\t 71 & 68 & 68 & 65 & 66 & 68 & 68 & 71 & 71 & 72 & 71 & 72 & 73 & 76 & 75 & 74 & 69 & 71 & 72 & 76 & 77 & 75 & 75 & 75 & 77 & 80 & 67 & 63 & 63 & 62 & 62 & 65 & 62 & 66 & 66 & 68 & 61 & 69 & 62 & 1  & 0  & 0  & 0 \\\\\n",
       "\t 74 & 70 & 73 & 69 & 68 & 71 & 71 & 73 & 74 & 75 & 72 & 73 & 74 & 79 & 75 & 77 & 77 & 74 & 76 & 79 & 77 & 78 & 78 & 79 & 77 & 81 & 67 & 66 & 69 & 60 & 64 & 67 & 64 & 66 & 69 & 70 & 66 & 69 & 66 & 1  & 1  & 1  & 1 \\\\\n",
       "\t 73 & 71 & 71 & 67 & 70 & 72 & 69 & 73 & 75 & 74 & 72 & 74 & 73 & 78 & 78 & 76 & 78 & 74 & 77 & 80 & 78 & 80 & 79 & 80 & 78 & 78 & 69 & 62 & 63 & 60 & 63 & 62 & 63 & 68 & 68 & 72 & 64 & 70 & 68 & 0  & 0  & 0  & 0 \\\\\n",
       "\t 72 & 74 & 73 & 67 & 69 & 71 & 65 & 72 & 72 & 74 & 73 & 76 & 71 & 79 & 82 & 83 & 81 & 74 & 77 & 73 & 78 & 77 & 78 & 80 & 80 & 74 & 65 & 66 & 64 & 54 & 60 & 62 & 56 & 59 & 63 & 63 & 66 & 71 & 65 & 0  & 0  & 0  & 0 \\\\\n",
       "\t 72 & 71 & 72 & 66 & 68 & 69 & 65 & 68 & 71 & 70 & 72 & 75 & 73 & 77 & 80 & 79 & 76 & 75 & 78 & 76 & 77 & 77 & 74 & 79 & 79 & 81 & 65 & 60 & 66 & 54 & 62 & 60 & 58 & 60 & 67 & 66 & 68 & 69 & 66 & 1  & 0  & 0  & 0 \\\\\n",
       "\t 71 & 72 & 72 & 66 & 70 & 72 & 67 & 72 & 71 & 72 & 73 & 75 & 71 & 75 & 81 & 84 & 74 & 76 & 80 & 77 & 79 & 77 & 78 & 82 & 79 & 78 & 66 & 61 & 65 & 55 & 65 & 62 & 60 & 64 & 66 & 66 & 63 & 71 & 61 & 1  & 1  & 1  & 1 \\\\\n",
       "\t 74 & 71 & 72 & 67 & 71 & 75 & 67 & 71 & 71 & 71 & 72 & 75 & 70 & 80 & 83 & 79 & 82 & 77 & 79 & 74 & 76 & 79 & 81 & 76 & 79 & 76 & 69 & 60 & 66 & 57 & 62 & 69 & 58 & 60 & 67 & 67 & 68 & 72 & 64 & 1  & 1  & 0  & 0 \\\\\n",
       "\t 75 & 66 & 68 & 70 & 70 & 73 & 65 & 69 & 72 & 72 & 71 & 72 & 71 & 80 & 77 & 84 & 83 & 79 & 80 & 80 & 80 & 82 & 82 & 77 & 78 & 80 & 68 & 58 & 63 & 58 & 64 & 64 & 55 & 61 & 65 & 65 & 61 & 66 & 58 & 1  & 1  & 1  & 1 \\\\\n",
       "\t 71 & 67 & 69 & 62 & 67 & 70 & 68 & 72 & 69 & 70 & 69 & 74 & 71 & 75 & 75 & 75 & 72 & 71 & 78 & 78 & 77 & 72 & 73 & 77 & 77 & 79 & 66 & 57 & 66 & 53 & 63 & 64 & 60 & 68 & 67 & 67 & 66 & 71 & 66 & 1  & 1  & 1  & 1 \\\\\n",
       "\t 73 & 65 & 71 & 67 & 67 & 71 & 70 & 73 & 70 & 69 & 70 & 72 & 68 & 77 & 75 & 78 & 77 & 76 & 77 & 81 & 81 & 76 & 76 & 77 & 77 & 77 & 68 & 58 & 65 & 58 & 58 & 65 & 60 & 64 & 60 & 61 & 62 & 65 & 55 & 1  & 1  & 1  & 0 \\\\\n",
       "\t 72 & 66 & 70 & 66 & 69 & 71 & 65 & 70 & 69 & 70 & 67 & 72 & 72 & 77 & 75 & 80 & 76 & 74 & 77 & 75 & 76 & 74 & 76 & 74 & 77 & 78 & 67 & 58 & 66 & 59 & 62 & 62 & 55 & 64 & 65 & 65 & 60 & 68 & 65 & 1  & 0  & 0  & 0 \\\\\n",
       "\t 73 & 65 & 70 & 65 & 65 & 68 & 67 & 73 & 71 & 70 & 68 & 72 & 66 & 79 & 77 & 76 & 77 & 76 & 78 & 80 & 79 & 78 & 79 & 73 & 78 & 73 & 68 & 55 & 66 & 55 & 57 & 61 & 56 & 62 & 66 & 64 & 65 & 62 & 55 & 1  & 1  & 1  & 1 \\\\\n",
       "\t 72 & 69 & 69 & 64 & 70 & 72 & 66 & 67 & 67 & 69 & 72 & 72 & 69 & 79 & 80 & 82 & 75 & 81 & 80 & 82 & 80 & 70 & 75 & 77 & 79 & 78 & 65 & 55 & 65 & 57 & 62 & 65 & 59 & 60 & 64 & 64 & 66 & 61 & 62 & 1  & 1  & 1  & 1 \\\\\n",
       "\t 74 & 66 & 72 & 67 & 66 & 68 & 69 & 72 & 71 & 71 & 72 & 72 & 70 & 78 & 75 & 77 & 78 & 75 & 73 & 80 & 79 & 76 & 77 & 78 & 79 & 83 & 69 & 53 & 69 & 55 & 62 & 62 & 59 & 64 & 67 & 66 & 66 & 66 & 61 & 1  & 1  & 1  & 1 \\\\\n",
       "\t 73 & 67 & 69 & 67 & 70 & 73 & 65 & 68 & 70 & 70 & 70 & 72 & 69 & 77 & 79 & 74 & 77 & 76 & 79 & 76 & 78 & 73 & 76 & 78 & 78 & 78 & 68 & 56 & 61 & 59 & 63 & 66 & 57 & 59 & 62 & 66 & 63 & 64 & 64 & 1  & 0  & 0  & 0 \\\\\n",
       "\t 71 & 74 & 73 & 68 & 70 & 73 & 66 & 73 & 72 & 73 & 74 & 76 & 71 & 75 & 83 & 76 & 75 & 75 & 78 & 75 & 78 & 81 & 80 & 81 & 82 & 81 & 66 & 63 & 70 & 61 & 61 & 64 & 57 & 64 & 70 & 67 & 62 & 71 & 59 & 1  & 0  & 0  & 0 \\\\\n",
       "\t 76 & 65 & 74 & 72 & 71 & 74 & 71 & 74 & 74 & 74 & 70 & 74 & 71 & 81 & 77 & 82 & 82 & 77 & 80 & 82 & 82 & 81 & 82 & 78 & 82 & 78 & 70 & 58 & 65 & 64 & 63 & 63 & 65 & 66 & 65 & 63 & 65 & 65 & 63 & 1  & 1  & 1  & 1 \\\\\n",
       "\t 71 & 68 & 70 & 66 & 68 & 69 & 65 & 70 & 71 & 70 & 71 & 73 & 71 & 79 & 81 & 74 & 81 & 75 & 74 & 72 & 79 & 78 & 77 & 79 & 79 & 80 & 61 & 55 & 66 & 57 & 63 & 62 & 53 & 60 & 65 & 66 & 66 & 63 & 62 & 1  & 0  & 0  & 0 \\\\\n",
       "\t 70 & 69 & 71 & 61 & 63 & 66 & 68 & 72 & 69 & 70 & 70 & 74 & 73 & 74 & 79 & 77 & 67 & 71 & 74 & 73 & 76 & 71 & 74 & 78 & 78 & 79 & 68 & 64 & 67 & 55 & 59 & 60 & 64 & 66 & 64 & 64 & 63 & 70 & 67 & 0  & 0  & 0  & 0 \\\\\n",
       "\t 72 & 69 & 68 & 65 & 69 & 70 & 67 & 71 & 70 & 69 & 69 & 72 & 71 & 77 & 78 & 78 & 71 & 80 & 79 & 82 & 79 & 74 & 76 & 77 & 78 & 77 & 66 & 56 & 62 & 59 & 60 & 61 & 59 & 68 & 65 & 65 & 64 & 65 & 62 & 1  & 1  & 1  & 1 \\\\\n",
       "\t 73 & 74 & 71 & 68 & 74 & 75 & 66 & 72 & 72 & 74 & 71 & 75 & 69 & 79 & 83 & 82 & 78 & 80 & 81 & 73 & 76 & 80 & 81 & 82 & 81 & 81 & 65 & 55 & 65 & 55 & 66 & 66 & 59 & 67 & 65 & 67 & 63 & 64 & 59 & 0  & 0  & 0  & 0 \\\\\n",
       "\t 73 & 69 & 69 & 66 & 72 & 73 & 68 & 72 & 71 & 71 & 73 & 73 & 69 & 76 & 80 & 78 & 77 & 83 & 82 & 78 & 78 & 76 & 79 & 79 & 78 & 77 & 69 & 60 & 61 & 54 & 66 & 66 & 53 & 62 & 63 & 67 & 68 & 69 & 61 & 1  & 0  & 0  & 0 \\\\\n",
       "\t 73 & 67 & 70 & 68 & 67 & 69 & 67 & 71 & 71 & 70 & 69 & 73 & 70 & 77 & 79 & 76 & 80 & 74 & 75 & 78 & 77 & 77 & 75 & 78 & 80 & 80 & 64 & 60 & 64 & 57 & 58 & 61 & 58 & 66 & 65 & 66 & 65 & 67 & 64 & 1  & 1  & 1  & 1 \\\\\n",
       "\t 70 & 68 & 70 & 64 & 63 & 65 & 69 & 72 & 69 & 69 & 70 & 73 & 70 & 76 & 80 & 75 & 79 & 68 & 74 & 80 & 79 & 78 & 79 & 76 & 81 & 82 & 65 & 59 & 63 & 53 & 57 & 60 & 62 & 64 & 61 & 62 & 64 & 64 & 61 & 1  & 1  & 1  & 1 \\\\\n",
       "\t 72 & 65 & 70 & 66 & 65 & 67 & 67 & 70 & 69 & 69 & 68 & 72 & 68 & 76 & 77 & 77 & 76 & 71 & 76 & 75 & 76 & 74 & 72 & 72 & 75 & 78 & 67 & 54 & 66 & 59 & 59 & 61 & 57 & 65 & 66 & 66 & 64 & 70 & 55 & 1  & 0  & 0  & 0 \\\\\n",
       "\t 73 & 74 & 72 & 68 & 69 & 69 & 67 & 72 & 75 & 74 & 72 & 76 & 76 & 79 & 81 & 80 & 79 & 74 & 74 & 74 & 77 & 80 & 79 & 80 & 78 & 81 & 68 & 68 & 65 & 60 & 64 & 64 & 61 & 66 & 71 & 69 & 62 & 73 & 72 & 1  & 0  & 0  & 0 \\\\\n",
       "\t 74 & 75 & 73 & 68 & 72 & 72 & 71 & 73 & 74 & 76 & 72 & 75 & 77 & 78 & 79 & 80 & 74 & 76 & 75 & 77 & 76 & 80 & 79 & 77 & 80 & 81 & 69 & 71 & 66 & 60 & 68 & 68 & 69 & 69 & 70 & 71 & 67 & 72 & 69 & 0  & 0  & 0  & 0 \\\\\n",
       "\t 74 & 73 & 73 & 71 & 72 & 74 & 70 & 75 & 75 & 76 & 75 & 76 & 76 & 76 & 80 & 83 & 75 & 80 & 82 & 77 & 80 & 78 & 78 & 83 & 80 & 82 & 69 & 68 & 66 & 62 & 65 & 68 & 64 & 72 & 71 & 73 & 70 & 73 & 70 & 1  & 1  & 1  & 0 \\\\\n",
       "\t 75 & 71 & 71 & 71 & 72 & 73 & 69 & 72 & 75 & 76 & 73 & 75 & 75 & 80 & 79 & 81 & 79 & 76 & 78 & 79 & 81 & 78 & 78 & 79 & 79 & 79 & 70 & 63 & 67 & 60 & 69 & 69 & 63 & 67 & 70 & 74 & 66 & 71 & 69 & 1  & 1  & 1  & 1 \\\\\n",
       "\t 74 & 71 & 71 & 69 & 72 & 73 & 69 & 72 & 73 & 75 & 73 & 73 & 75 & 79 & 75 & 76 & 80 & 76 & 78 & 74 & 79 & 79 & 79 & 76 & 76 & 82 & 69 & 61 & 66 & 60 & 66 & 68 & 64 & 68 & 68 & 73 & 67 & 70 & 67 & 1  & 0  & 0  & 0 \\\\\n",
       "\t 72 & 71 & 70 & 64 & 68 & 69 & 69 & 72 & 72 & 72 & 71 & 74 & 74 & 77 & 74 & 74 & 73 & 74 & 77 & 78 & 78 & 76 & 77 & 78 & 77 & 81 & 69 & 63 & 64 & 60 & 64 & 65 & 65 & 67 & 68 & 66 & 68 & 71 & 69 & 1  & 0  & 0  & 0 \\\\\n",
       "\t 76 & 69 & 73 & 70 & 71 & 72 & 72 & 74 & 74 & 77 & 74 & 73 & 73 & 78 & 79 & 80 & 79 & 77 & 78 & 80 & 82 & 78 & 79 & 76 & 82 & 82 & 73 & 61 & 68 & 60 & 62 & 64 & 61 & 68 & 71 & 74 & 71 & 67 & 64 & 1  & 1  & 1  & 1 \\\\\n",
       "\t 74 & 71 & 72 & 68 & 70 & 72 & 69 & 72 & 72 & 74 & 72 & 73 & 73 & 78 & 77 & 76 & 77 & 75 & 77 & 78 & 78 & 77 & 77 & 78 & 78 & 79 & 66 & 62 & 66 & 60 & 62 & 65 & 62 & 68 & 67 & 68 & 67 & 70 & 62 & 1  & 1  & 1  & 0 \\\\\n",
       "\t 73 & 72 & 72 & 68 & 72 & 72 & 69 & 73 & 76 & 75 & 71 & 75 & 75 & 77 & 79 & 77 & 78 & 77 & 76 & 72 & 76 & 79 & 77 & 78 & 80 & 79 & 70 & 62 & 64 & 60 & 68 & 67 & 64 & 71 & 71 & 72 & 66 & 68 & 68 & 0  & 0  & 0  & 0 \\\\\n",
       "\t 72 & 72 & 71 & 66 & 71 & 73 & 69 & 73 & 75 & 73 & 72 & 74 & 73 & 78 & 80 & 74 & 76 & 76 & 80 & 73 & 77 & 77 & 77 & 76 & 78 & 81 & 67 & 63 & 68 & 62 & 68 & 69 & 63 & 69 & 72 & 70 & 67 & 66 & 62 & 0  & 0  & 0  & 0 \\\\\n",
       "\t 76 & 68 & 71 & 71 & 69 & 71 & 72 & 74 & 74 & 76 & 73 & 73 & 74 & 78 & 75 & 76 & 78 & 74 & 74 & 79 & 82 & 77 & 78 & 76 & 79 & 82 & 71 & 60 & 65 & 64 & 64 & 65 & 62 & 66 & 69 & 71 & 68 & 65 & 67 & 1  & 1  & 1  & 1 \\\\\n",
       "\t 74 & 73 & 73 & 68 & 72 & 74 & 68 & 72 & 74 & 75 & 74 & 74 & 75 & 79 & 81 & 76 & 76 & 76 & 77 & 77 & 78 & 77 & 78 & 76 & 78 & 79 & 71 & 63 & 68 & 60 & 66 & 68 & 64 & 67 & 68 & 72 & 71 & 66 & 66 & 1  & 0  & 0  & 0 \\\\\n",
       "\t 73 & 76 & 73 & 69 & 72 & 72 & 66 & 71 & 74 & 74 & 76 & 76 & 76 & 76 & 81 & 80 & 75 & 78 & 78 & 73 & 77 & 77 & 76 & 82 & 81 & 78 & 70 & 71 & 67 & 60 & 66 & 66 & 61 & 66 & 70 & 72 & 71 & 73 & 73 & 0  & 0  & 0  & 0 \\\\\n",
       "\t 71 & 70 & 70 & 65 & 67 & 68 & 68 & 70 & 70 & 72 & 70 & 72 & 73 & 77 & 77 & 77 & 73 & 71 & 73 & 79 & 76 & 74 & 76 & 76 & 76 & 81 & 67 & 63 & 65 & 62 & 63 & 65 & 62 & 61 & 67 & 70 & 65 & 66 & 69 & 1  & 0  & 0  & 0 \\\\\n",
       "\t 75 & 75 & 73 & 71 & 74 & 75 & 69 & 74 & 76 & 77 & 77 & 75 & 75 & 79 & 81 & 81 & 77 & 78 & 79 & 72 & 78 & 81 & 79 & 80 & 79 & 78 & 70 & 69 & 66 & 62 & 63 & 67 & 65 & 70 & 73 & 73 & 74 & 71 & 70 & 0  & 0  & 0  & 0 \\\\\n",
       "\t 75 & 70 & 72 & 71 & 69 & 70 & 69 & 72 & 75 & 76 & 73 & 73 & 74 & 79 & 80 & 81 & 79 & 79 & 76 & 82 & 81 & 78 & 79 & 80 & 76 & 80 & 69 & 60 & 67 & 60 & 60 & 61 & 62 & 66 & 74 & 73 & 65 & 66 & 63 & 1  & 1  & 1  & 1 \\\\\n",
       "\t 75 & 67 & 70 & 71 & 71 & 72 & 72 & 74 & 74 & 75 & 73 & 72 & 74 & 80 & 78 & 74 & 78 & 77 & 77 & 76 & 76 & 79 & 79 & 77 & 76 & 79 & 70 & 61 & 63 & 63 & 63 & 66 & 65 & 71 & 70 & 73 & 68 & 66 & 66 & 1  & 1  & 0  & 0 \\\\\n",
       "\t 74 & 70 & 71 & 68 & 73 & 74 & 70 & 72 & 72 & 75 & 74 & 73 & 72 & 78 & 78 & 76 & 74 & 76 & 78 & 77 & 79 & 77 & 79 & 79 & 78 & 77 & 72 & 61 & 66 & 62 & 65 & 66 & 63 & 66 & 66 & 72 & 64 & 68 & 66 & 1  & 1  & 1  & 0 \\\\\n",
       "\t 72 & 69 & 70 & 67 & 68 & 68 & 67 & 71 & 73 & 73 & 70 & 73 & 76 & 80 & 75 & 79 & 80 & 75 & 76 & 77 & 78 & 80 & 80 & 74 & 77 & 80 & 67 & 62 & 65 & 62 & 62 & 65 & 60 & 66 & 68 & 68 & 61 & 70 & 72 & 1  & 1  & 1  & 1 \\\\\n",
       "\t 73 & 74 & 72 & 68 & 70 & 71 & 69 & 74 & 74 & 74 & 73 & 75 & 77 & 79 & 80 & 75 & 77 & 75 & 76 & 76 & 77 & 77 & 78 & 75 & 79 & 82 & 69 & 66 & 68 & 62 & 63 & 64 & 62 & 71 & 71 & 72 & 71 & 72 & 70 & 1  & 0  & 0  & 0 \\\\\n",
       "\t 73 & 73 & 72 & 68 & 71 & 72 & 69 & 74 & 76 & 74 & 73 & 75 & 75 & 78 & 79 & 76 & 78 & 75 & 77 & 80 & 78 & 80 & 79 & 80 & 79 & 82 & 69 & 64 & 63 & 60 & 64 & 70 & 63 & 66 & 73 & 73 & 68 & 70 & 67 & 1  & 1  & 1  & 1 \\\\\n",
       "\t 72 & 68 & 68 & 69 & 64 & 66 & 69 & 72 & 73 & 73 & 68 & 73 & 73 & 74 & 77 & 75 & 75 & 68 & 70 & 76 & 78 & 76 & 77 & 76 & 76 & 75 & 67 & 61 & 61 & 60 & 60 & 60 & 65 & 65 & 67 & 70 & 62 & 67 & 69 & 1  & 0  & 0  & 0 \\\\\n",
       "\\end{tabular}\n"
      ],
      "text/markdown": [
       "\n",
       "| flat_mean | mountain_mean | downhill_mean | cobbles_mean | tt_mean | prologue_mean | sprint_mean | acceleration_mean | endurance_mean | resistance_mean | recup_mean | hill_mean | attack_mean | flat_max | mountain_max | downhill_max | cobbles_max | tt_max | prologue_max | sprint_max | acceleration_max | endurance_max | resistance_max | recup_max | hill_max | attack_max | flat_min | mountain_min | downhill_min | cobbles_min | tt_min | prologue_min | sprint_min | acceleration_min | endurance_min | resistance_min | recup_min | hill_min | attack_min | Top10 | Top5 | Top4 | Top3 |\n",
       "|---|---|---|---|---|---|---|---|---|---|---|---|---|---|---|---|---|---|---|---|---|---|---|---|---|---|---|---|---|---|---|---|---|---|---|---|---|---|---|---|---|---|---|\n",
       "| 68 | 68 | 73 | 60 | 63 | 65 | 65 | 70 | 66 | 67 | 69 | 71 | 68 | 72 | 77 | 81 | 69 | 73 | 74 | 73 | 78 | 70 | 74 | 76 | 76 | 75 | 64 | 56 | 66 | 53 | 58 | 61 | 55 | 66 | 63 | 63 | 60 | 64 | 63 | 1  | 0  | 0  | 0  |\n",
       "| 69 | 65 | 67 | 59 | 64 | 64 | 67 | 70 | 66 | 64 | 67 | 69 | 68 | 72 | 74 | 72 | 66 | 72 | 73 | 75 | 76 | 70 | 66 | 71 | 75 | 76 | 65 | 54 | 63 | 55 | 59 | 58 | 60 | 63 | 63 | 62 | 65 | 60 | 61 | 1  | 1  | 0  | 0  |\n",
       "| 70 | 74 | 69 | 58 | 68 | 70 | 64 | 69 | 70 | 71 | 73 | 76 | 73 | 77 | 80 | 77 | 73 | 75 | 78 | 70 | 76 | 74 | 74 | 75 | 78 | 81 | 63 | 71 | 64 | 54 | 58 | 60 | 57 | 64 | 67 | 67 | 68 | 73 | 67 | 0  | 0  | 0  | 0  |\n",
       "| 70 | 70 | 71 | 60 | 64 | 66 | 65 | 71 | 68 | 68 | 70 | 74 | 68 | 74 | 80 | 82 | 71 | 71 | 72 | 77 | 78 | 73 | 74 | 76 | 78 | 76 | 64 | 62 | 65 | 55 | 58 | 59 | 55 | 59 | 60 | 62 | 65 | 70 | 59 | 1  | 1  | 1  | 1  |\n",
       "| 67 | 65 | 66 | 60 | 60 | 60 | 65 | 69 | 65 | 64 | 65 | 68 | 65 | 72 | 76 | 73 | 64 | 65 | 63 | 76 | 77 | 69 | 69 | 75 | 75 | 74 | 62 | 54 | 62 | 55 | 56 | 58 | 58 | 63 | 60 | 60 | 60 | 62 | 55 | 1  | 0  | 0  | 0  |\n",
       "| 73 | 69 | 71 | 68 | 69 | 71 | 66 | 70 | 70 | 71 | 71 | 74 | 68 | 77 | 76 | 79 | 78 | 82 | 82 | 75 | 78 | 74 | 76 | 78 | 77 | 81 | 66 | 61 | 67 | 60 | 65 | 64 | 58 | 62 | 65 | 67 | 66 | 70 | 57 | 1  | 1  | 1  | 1  |\n",
       "| 71 | 69 | 71 | 64 | 65 | 67 | 66 | 69 | 68 | 68 | 70 | 73 | 68 | 73 | 78 | 75 | 72 | 70 | 70 | 79 | 79 | 71 | 71 | 76 | 77 | 81 | 67 | 55 | 67 | 57 | 61 | 63 | 60 | 64 | 65 | 65 | 66 | 68 | 61 | 1  | 1  | 1  | 1  |\n",
       "| 69 | 71 | 68 | 59 | 65 | 66 | 62 | 68 | 67 | 68 | 71 | 72 | 69 | 73 | 79 | 75 | 61 | 68 | 69 | 74 | 75 | 70 | 74 | 77 | 78 | 77 | 63 | 65 | 64 | 54 | 59 | 61 | 55 | 58 | 62 | 65 | 67 | 69 | 55 | 1  | 1  | 0  | 0  |\n",
       "| 73 | 70 | 69 | 64 | 72 | 73 | 65 | 69 | 71 | 70 | 73 | 74 | 68 | 77 | 81 | 74 | 75 | 75 | 76 | 73 | 73 | 75 | 76 | 79 | 77 | 71 | 69 | 55 | 65 | 55 | 68 | 71 | 60 | 62 | 67 | 67 | 68 | 68 | 59 | 0  | 0  | 0  | 0  |\n",
       "| 71 | 64 | 71 | 65 | 65 | 67 | 67 | 70 | 67 | 66 | 67 | 69 | 69 | 73 | 76 | 75 | 69 | 74 | 73 | 75 | 76 | 73 | 72 | 71 | 78 | 77 | 60 | 55 | 67 | 54 | 56 | 59 | 57 | 59 | 58 | 60 | 62 | 61 | 61 | 1  | 0  | 0  | 0  |\n",
       "| 74 | 65 | 71 | 68 | 71 | 74 | 67 | 69 | 68 | 69 | 69 | 72 | 70 | 79 | 73 | 82 | 75 | 81 | 80 | 76 | 75 | 72 | 73 | 76 | 75 | 78 | 71 | 57 | 65 | 62 | 63 | 69 | 57 | 60 | 65 | 67 | 63 | 68 | 63 | 1  | 1  | 1  | 0  |\n",
       "| 74 | 65 | 70 | 69 | 67 | 70 | 66 | 70 | 69 | 69 | 70 | 72 | 70 | 76 | 75 | 80 | 78 | 77 | 78 | 76 | 76 | 76 | 80 | 78 | 79 | 82 | 72 | 56 | 65 | 62 | 60 | 63 | 55 | 60 | 66 | 64 | 62 | 62 | 61 | 1  | 1  | 0  | 0  |\n",
       "| 70 | 70 | 70 | 63 | 69 | 69 | 61 | 67 | 70 | 71 | 72 | 74 | 71 | 73 | 80 | 77 | 72 | 75 | 75 | 68 | 78 | 75 | 77 | 78 | 80 | 78 | 66 | 56 | 63 | 57 | 63 | 64 | 54 | 55 | 63 | 63 | 62 | 62 | 65 | 0  | 0  | 0  | 0  |\n",
       "| 66 | 74 | 68 | 57 | 64 | 66 | 61 | 68 | 66 | 67 | 69 | 73 | 67 | 70 | 78 | 72 | 63 | 72 | 73 | 67 | 76 | 69 | 69 | 72 | 76 | 70 | 61 | 68 | 63 | 54 | 59 | 61 | 55 | 61 | 61 | 62 | 64 | 66 | 63 | 0  | 0  | 0  | 0  |\n",
       "| 74 | 63 | 74 | 68 | 68 | 72 | 70 | 73 | 70 | 70 | 69 | 71 | 70 | 77 | 73 | 83 | 81 | 75 | 77 | 83 | 81 | 74 | 78 | 72 | 75 | 79 | 68 | 56 | 69 | 52 | 63 | 65 | 58 | 64 | 66 | 63 | 65 | 66 | 60 | 1  | 1  | 1  | 1  |\n",
       "| 71 | 67 | 69 | 63 | 63 | 66 | 67 | 70 | 69 | 68 | 69 | 71 | 68 | 74 | 78 | 74 | 73 | 68 | 73 | 79 | 78 | 74 | 75 | 74 | 78 | 73 | 66 | 55 | 64 | 55 | 61 | 63 | 54 | 60 | 65 | 65 | 65 | 63 | 58 | 1  | 1  | 1  | 1  |\n",
       "| 72 | 67 | 70 | 65 | 68 | 70 | 67 | 70 | 68 | 68 | 70 | 72 | 69 | 75 | 78 | 74 | 72 | 78 | 79 | 77 | 76 | 71 | 72 | 73 | 76 | 75 | 69 | 55 | 62 | 54 | 61 | 63 | 63 | 66 | 64 | 64 | 67 | 67 | 64 | 1  | 1  | 1  | 1  |\n",
       "| 70 | 74 | 69 | 61 | 71 | 72 | 61 | 69 | 71 | 72 | 75 | 75 | 70 | 79 | 83 | 76 | 73 | 79 | 78 | 65 | 80 | 76 | 78 | 82 | 80 | 74 | 62 | 61 | 63 | 53 | 57 | 60 | 56 | 54 | 67 | 67 | 67 | 72 | 67 | 0  | 0  | 0  | 0  |\n",
       "| 69 | 71 | 67 | 62 | 67 | 68 | 61 | 67 | 67 | 68 | 71 | 71 | 68 | 76 | 80 | 76 | 68 | 83 | 82 | 65 | 69 | 76 | 77 | 79 | 76 | 73 | 64 | 55 | 61 | 54 | 57 | 59 | 53 | 62 | 62 | 63 | 66 | 66 | 61 | 0  | 0  | 0  | 0  |\n",
       "| 70 | 66 | 73 | 64 | 69 | 70 | 64 | 69 | 67 | 68 | 68 | 72 | 70 | 75 | 75 | 81 | 75 | 78 | 77 | 72 | 75 | 73 | 73 | 76 | 78 | 79 | 64 | 57 | 66 | 54 | 61 | 62 | 57 | 59 | 63 | 64 | 63 | 65 | 60 | 1  | 0  | 0  | 0  |\n",
       "| 71 | 71 | 70 | 61 | 65 | 65 | 66 | 74 | 70 | 71 | 70 | 75 | 74 | 75 | 80 | 82 | 77 | 75 | 73 | 71 | 80 | 74 | 73 | 75 | 80 | 82 | 65 | 64 | 67 | 54 | 55 | 58 | 58 | 64 | 65 | 68 | 68 | 72 | 64 | 1  | 0  | 0  | 0  |\n",
       "| 68 | 59 | 67 | 62 | 61 | 62 | 66 | 67 | 63 | 62 | 64 | 64 | 66 | 72 | 73 | 71 | 67 | 67 | 67 | 78 | 77 | 66 | 65 | 71 | 73 | 76 | 64 | 54 | 61 | 54 | 56 | 57 | 53 | 57 | 59 | 57 | 56 | 59 | 57 | 1  | 1  | 1  | 1  |\n",
       "| 71 | 73 | 71 | 64 | 68 | 68 | 65 | 71 | 71 | 73 | 72 | 74 | 73 | 75 | 76 | 77 | 73 | 74 | 74 | 71 | 77 | 75 | 76 | 74 | 77 | 77 | 67 | 71 | 66 | 60 | 62 | 61 | 61 | 69 | 68 | 70 | 68 | 70 | 69 | 0  | 0  | 0  | 0  |\n",
       "| 71 | 70 | 69 | 63 | 66 | 66 | 69 | 73 | 72 | 72 | 71 | 74 | 73 | 74 | 76 | 73 | 68 | 74 | 72 | 77 | 77 | 75 | 76 | 75 | 76 | 79 | 65 | 61 | 63 | 60 | 60 | 62 | 63 | 69 | 64 | 67 | 63 | 71 | 68 | 1  | 0  | 0  | 0  |\n",
       "| 70 | 76 | 72 | 61 | 71 | 72 | 66 | 72 | 74 | 73 | 74 | 75 | 74 | 75 | 80 | 79 | 69 | 74 | 76 | 69 | 76 | 76 | 75 | 77 | 78 | 77 | 68 | 72 | 68 | 60 | 66 | 66 | 63 | 66 | 69 | 72 | 68 | 72 | 69 | 0  | 0  | 0  | 0  |\n",
       "| 71 | 74 | 73 | 65 | 67 | 68 | 66 | 71 | 72 | 73 | 73 | 74 | 74 | 75 | 80 | 81 | 74 | 74 | 73 | 73 | 76 | 78 | 75 | 83 | 78 | 81 | 67 | 68 | 66 | 60 | 60 | 62 | 61 | 65 | 65 | 70 | 65 | 72 | 69 | 0  | 0  | 0  | 0  |\n",
       "| 70 | 68 | 66 | 63 | 64 | 65 | 66 | 69 | 67 | 70 | 68 | 70 | 72 | 74 | 73 | 72 | 68 | 69 | 69 | 73 | 73 | 72 | 73 | 73 | 73 | 81 | 63 | 61 | 61 | 60 | 60 | 61 | 61 | 64 | 61 | 61 | 62 | 64 | 63 | 1  | 0  | 0  | 0  |\n",
       "| 73 | 71 | 70 | 64 | 66 | 68 | 72 | 75 | 73 | 74 | 72 | 73 | 72 | 77 | 79 | 75 | 73 | 72 | 72 | 81 | 80 | 79 | 77 | 76 | 78 | 81 | 69 | 61 | 67 | 60 | 63 | 61 | 64 | 69 | 67 | 72 | 66 | 66 | 62 | 1  | 1  | 1  | 1  |\n",
       "| 72 | 69 | 70 | 65 | 69 | 70 | 68 | 72 | 70 | 72 | 70 | 70 | 72 | 75 | 75 | 74 | 72 | 74 | 73 | 78 | 80 | 73 | 74 | 74 | 74 | 76 | 67 | 60 | 66 | 60 | 62 | 66 | 60 | 67 | 67 | 70 | 65 | 62 | 62 | 1  | 0  | 0  | 0  |\n",
       "| 74 | 68 | 71 | 70 | 69 | 70 | 70 | 73 | 74 | 75 | 71 | 72 | 71 | 79 | 76 | 77 | 77 | 78 | 77 | 80 | 82 | 78 | 79 | 75 | 76 | 78 | 67 | 61 | 66 | 60 | 62 | 66 | 62 | 67 | 68 | 72 | 67 | 66 | 64 | 1  | 1  | 1  | 1  |\n",
       "| 71 | 69 | 69 | 65 | 66 | 69 | 70 | 73 | 70 | 73 | 71 | 73 | 69 | 75 | 76 | 75 | 71 | 72 | 75 | 78 | 78 | 77 | 76 | 76 | 80 | 76 | 67 | 61 | 62 | 60 | 62 | 62 | 60 | 65 | 68 | 69 | 65 | 66 | 60 | 1  | 1  | 0  | 0  |\n",
       "| 70 | 73 | 69 | 63 | 67 | 68 | 66 | 71 | 70 | 71 | 71 | 74 | 72 | 76 | 77 | 76 | 74 | 73 | 73 | 77 | 78 | 76 | 75 | 75 | 76 | 79 | 63 | 62 | 65 | 60 | 60 | 60 | 61 | 65 | 65 | 67 | 67 | 71 | 64 | 1  | 0  | 0  | 0  |\n",
       "| 75 | 66 | 71 | 70 | 68 | 69 | 71 | 73 | 73 | 74 | 71 | 70 | 71 | 78 | 75 | 77 | 75 | 75 | 77 | 80 | 78 | 77 | 78 | 79 | 76 | 77 | 73 | 60 | 66 | 62 | 61 | 61 | 60 | 66 | 68 | 72 | 66 | 66 | 64 | 1  | 1  | 1  | 1  |\n",
       "| 71 | 66 | 70 | 64 | 63 | 65 | 68 | 70 | 70 | 71 | 68 | 70 | 72 | 76 | 75 | 74 | 69 | 69 | 68 | 75 | 77 | 75 | 75 | 74 | 75 | 79 | 64 | 60 | 63 | 60 | 60 | 61 | 61 | 61 | 61 | 63 | 61 | 60 | 65 | 1  | 1  | 0  | 0  |\n",
       "| 75 | 67 | 71 | 68 | 70 | 70 | 70 | 73 | 72 | 77 | 72 | 72 | 74 | 77 | 74 | 76 | 72 | 80 | 79 | 79 | 82 | 78 | 78 | 76 | 80 | 82 | 72 | 60 | 65 | 64 | 63 | 62 | 62 | 69 | 66 | 74 | 68 | 65 | 66 | 1  | 1  | 1  | 1  |\n",
       "| 72 | 74 | 71 | 66 | 72 | 72 | 65 | 71 | 73 | 74 | 73 | 75 | 75 | 78 | 81 | 75 | 76 | 76 | 77 | 67 | 77 | 76 | 76 | 75 | 78 | 79 | 68 | 67 | 68 | 60 | 69 | 67 | 61 | 67 | 66 | 72 | 68 | 71 | 70 | 0  | 0  | 0  | 0  |\n",
       "| 72 | 74 | 72 | 66 | 69 | 70 | 68 | 72 | 71 | 74 | 74 | 75 | 73 | 76 | 80 | 80 | 74 | 75 | 76 | 73 | 76 | 76 | 76 | 81 | 78 | 79 | 69 | 70 | 64 | 60 | 62 | 64 | 62 | 65 | 66 | 72 | 67 | 72 | 66 | 0  | 0  | 0  | 0  |\n",
       "| 72 | 67 | 68 | 63 | 62 | 64 | 71 | 73 | 71 | 71 | 69 | 71 | 70 | 75 | 73 | 76 | 68 | 66 | 68 | 75 | 76 | 76 | 75 | 74 | 76 | 76 | 67 | 64 | 63 | 60 | 60 | 60 | 65 | 68 | 66 | 67 | 62 | 67 | 60 | 1  | 1  | 1  | 1  |\n",
       "| 72 | 74 | 70 | 65 | 70 | 69 | 66 | 72 | 71 | 73 | 71 | 75 | 72 | 77 | 78 | 73 | 72 | 73 | 74 | 69 | 78 | 73 | 75 | 75 | 77 | 75 | 68 | 70 | 68 | 60 | 65 | 65 | 62 | 63 | 67 | 71 | 67 | 73 | 69 | 1  | 0  | 0  | 0  |\n",
       "| 72 | 71 | 72 | 65 | 70 | 71 | 67 | 70 | 72 | 73 | 73 | 72 | 72 | 76 | 79 | 80 | 73 | 79 | 79 | 72 | 74 | 75 | 78 | 77 | 78 | 79 | 67 | 62 | 67 | 60 | 64 | 64 | 62 | 65 | 68 | 71 | 69 | 66 | 66 | 0  | 0  | 0  | 0  |\n",
       "| 73 | 69 | 69 | 67 | 68 | 69 | 71 | 73 | 72 | 73 | 71 | 72 | 72 | 77 | 78 | 75 | 74 | 74 | 75 | 76 | 76 | 76 | 76 | 77 | 76 | 79 | 66 | 62 | 63 | 60 | 63 | 65 | 61 | 67 | 68 | 69 | 66 | 68 | 63 | 1  | 0  | 0  | 0  |\n",
       "| 72 | 74 | 69 | 64 | 70 | 71 | 65 | 70 | 70 | 73 | 74 | 74 | 73 | 78 | 80 | 76 | 69 | 81 | 78 | 69 | 74 | 76 | 79 | 79 | 77 | 78 | 69 | 71 | 66 | 60 | 65 | 63 | 62 | 66 | 66 | 71 | 68 | 71 | 68 | 0  | 0  | 0  | 0  |\n",
       "| 71 | 71 | 71 | 64 | 68 | 69 | 66 | 71 | 72 | 72 | 70 | 73 | 74 | 74 | 78 | 77 | 68 | 74 | 74 | 76 | 77 | 76 | 75 | 75 | 79 | 82 | 67 | 62 | 66 | 60 | 62 | 64 | 60 | 66 | 69 | 67 | 62 | 66 | 65 | 1  | 1  | 1  | 0  |\n",
       "| 73 | 68 | 70 | 68 | 68 | 70 | 71 | 74 | 71 | 74 | 70 | 73 | 72 | 76 | 76 | 76 | 73 | 71 | 77 | 81 | 81 | 75 | 76 | 73 | 80 | 78 | 70 | 60 | 63 | 60 | 63 | 64 | 66 | 68 | 66 | 68 | 64 | 68 | 63 | 1  | 1  | 1  | 1  |\n",
       "| 71 | 69 | 69 | 65 | 66 | 68 | 60 | 66 | 68 | 67 | 69 | 72 | 71 | 77 | 76 | 73 | 78 | 74 | 77 | 71 | 76 | 73 | 73 | 75 | 76 | 79 | 64 | 59 | 66 | 55 | 58 | 61 | 54 | 58 | 63 | 63 | 63 | 65 | 65 | 0  | 0  | 0  | 0  |\n",
       "| 68 | 66 | 67 | 61 | 65 | 67 | 61 | 66 | 64 | 65 | 66 | 70 | 69 | 71 | 74 | 69 | 67 | 70 | 71 | 65 | 72 | 67 | 69 | 73 | 74 | 74 | 62 | 56 | 63 | 54 | 59 | 59 | 56 | 64 | 59 | 61 | 58 | 64 | 60 | 0  | 0  | 0  | 0  |\n",
       "| 72 | 69 | 72 | 66 | 67 | 68 | 65 | 69 | 70 | 69 | 71 | 74 | 73 | 76 | 80 | 79 | 72 | 74 | 73 | 76 | 77 | 74 | 72 | 79 | 78 | 79 | 65 | 60 | 66 | 54 | 62 | 60 | 58 | 60 | 67 | 66 | 63 | 69 | 66 | 0  | 0  | 0  | 0  |\n",
       "| 71 | 71 | 71 | 66 | 69 | 71 | 67 | 70 | 69 | 70 | 70 | 74 | 68 | 75 | 79 | 75 | 74 | 76 | 80 | 77 | 79 | 75 | 75 | 76 | 78 | 75 | 60 | 64 | 65 | 60 | 60 | 63 | 57 | 60 | 61 | 65 | 62 | 69 | 60 | 1  | 0  | 0  | 0  |\n",
       "| 75 | 72 | 72 | 67 | 70 | 74 | 65 | 69 | 72 | 71 | 73 | 75 | 72 | 80 | 83 | 79 | 82 | 77 | 79 | 74 | 76 | 79 | 81 | 77 | 79 | 81 | 71 | 60 | 66 | 57 | 62 | 68 | 58 | 60 | 67 | 67 | 68 | 72 | 64 | 0  | 0  | 0  | 0  |\n",
       "| 75 | 64 | 70 | 72 | 69 | 72 | 69 | 70 | 72 | 72 | 69 | 71 | 70 | 80 | 77 | 84 | 83 | 79 | 80 | 80 | 80 | 82 | 82 | 77 | 78 | 80 | 69 | 54 | 65 | 60 | 59 | 62 | 61 | 61 | 66 | 68 | 61 | 61 | 61 | 1  | 1  | 1  | 0  |\n",
       "| 71 | 67 | 68 | 63 | 65 | 69 | 65 | 70 | 69 | 68 | 69 | 72 | 69 | 75 | 76 | 72 | 72 | 70 | 74 | 75 | 79 | 73 | 70 | 72 | 77 | 75 | 66 | 58 | 64 | 54 | 58 | 64 | 58 | 55 | 66 | 64 | 63 | 61 | 63 | 1  | 0  | 0  | 0  |\n",
       "| 69 | 67 | 68 | 60 | 66 | 67 | 63 | 69 | 67 | 67 | 66 | 71 | 72 | 73 | 75 | 75 | 65 | 71 | 73 | 75 | 76 | 74 | 76 | 74 | 77 | 76 | 67 | 58 | 64 | 55 | 59 | 62 | 55 | 61 | 62 | 57 | 60 | 65 | 65 | 0  | 0  | 0  | 0  |\n",
       "| 74 | 60 | 70 | 68 | 64 | 68 | 71 | 73 | 71 | 69 | 66 | 70 | 66 | 79 | 69 | 76 | 77 | 68 | 74 | 80 | 79 | 78 | 79 | 68 | 77 | 71 | 72 | 55 | 66 | 57 | 57 | 61 | 58 | 62 | 67 | 64 | 65 | 62 | 55 | 1  | 1  | 1  | 1  |\n",
       "| 70 | 69 | 68 | 62 | 69 | 71 | 66 | 71 | 67 | 67 | 68 | 72 | 71 | 74 | 76 | 75 | 65 | 73 | 77 | 74 | 75 | 72 | 71 | 75 | 78 | 77 | 64 | 62 | 61 | 58 | 63 | 64 | 52 | 60 | 60 | 60 | 59 | 63 | 65 | 0  | 0  | 0  | 0  |\n",
       "| 73 | 64 | 71 | 66 | 66 | 69 | 69 | 70 | 69 | 68 | 71 | 70 | 68 | 77 | 73 | 75 | 74 | 72 | 73 | 80 | 79 | 74 | 73 | 78 | 74 | 76 | 65 | 53 | 67 | 59 | 61 | 61 | 59 | 57 | 65 | 66 | 66 | 66 | 61 | 1  | 0  | 0  | 0  |\n",
       "| 72 | 67 | 69 | 63 | 71 | 73 | 64 | 70 | 69 | 70 | 70 | 73 | 69 | 73 | 76 | 77 | 72 | 75 | 78 | 73 | 78 | 75 | 73 | 77 | 77 | 75 | 69 | 58 | 61 | 57 | 67 | 68 | 58 | 65 | 62 | 66 | 63 | 64 | 65 | 0  | 0  | 0  | 0  |\n",
       "| 71 | 72 | 73 | 66 | 71 | 73 | 66 | 73 | 70 | 71 | 74 | 75 | 69 | 74 | 83 | 76 | 73 | 78 | 78 | 75 | 78 | 72 | 76 | 81 | 78 | 78 | 66 | 62 | 67 | 57 | 61 | 64 | 57 | 65 | 66 | 66 | 67 | 71 | 59 | 0  | 0  | 0  | 0  |\n",
       "| 65 | 66 | 68 | 57 | 61 | 62 | 62 | 67 | 64 | 65 | 66 | 69 | 66 | 71 | 75 | 77 | 67 | 67 | 68 | 74 | 75 | 69 | 68 | 71 | 76 | 76 | 60 | 56 | 61 | 53 | 56 | 57 | 55 | 58 | 59 | 61 | 62 | 65 | 60 | 0  | 0  | 0  | 0  |\n",
       "| 73 | 63 | 72 | 69 | 66 | 69 | 72 | 75 | 70 | 71 | 69 | 71 | 70 | 79 | 77 | 78 | 79 | 76 | 79 | 82 | 82 | 81 | 82 | 72 | 80 | 78 | 65 | 59 | 65 | 57 | 62 | 63 | 61 | 68 | 65 | 63 | 65 | 65 | 63 | 1  | 1  | 1  | 1  |\n",
       "| 72 | 67 | 68 | 67 | 66 | 68 | 66 | 68 | 70 | 69 | 69 | 72 | 71 | 79 | 75 | 74 | 81 | 75 | 74 | 72 | 72 | 78 | 72 | 74 | 74 | 78 | 66 | 59 | 64 | 55 | 61 | 64 | 54 | 60 | 65 | 66 | 65 | 67 | 62 | 0  | 0  | 0  | 0  |\n",
       "| 71 | 68 | 68 | 65 | 66 | 68 | 67 | 70 | 69 | 68 | 69 | 73 | 69 | 75 | 78 | 74 | 76 | 73 | 71 | 73 | 75 | 72 | 70 | 77 | 77 | 77 | 68 | 56 | 62 | 54 | 61 | 63 | 60 | 67 | 66 | 64 | 64 | 66 | 64 | 0  | 0  | 0  | 0  |\n",
       "| 70 | 64 | 70 | 63 | 66 | 69 | 67 | 71 | 67 | 66 | 68 | 70 | 67 | 78 | 76 | 77 | 77 | 70 | 73 | 76 | 76 | 73 | 73 | 72 | 76 | 71 | 63 | 55 | 66 | 53 | 62 | 65 | 59 | 64 | 62 | 64 | 63 | 66 | 61 | 0  | 0  | 0  | 0  |\n",
       "| 73 | 69 | 71 | 68 | 70 | 73 | 72 | 74 | 72 | 72 | 73 | 75 | 71 | 76 | 78 | 78 | 77 | 77 | 79 | 78 | 78 | 76 | 79 | 76 | 78 | 77 | 69 | 60 | 66 | 63 | 66 | 68 | 62 | 68 | 68 | 67 | 68 | 69 | 63 | 1  | 0  | 0  | 0  |\n",
       "| 73 | 65 | 69 | 70 | 67 | 71 | 67 | 71 | 72 | 70 | 69 | 72 | 69 | 77 | 79 | 76 | 80 | 74 | 75 | 78 | 77 | 77 | 75 | 78 | 80 | 75 | 64 | 59 | 66 | 60 | 64 | 64 | 58 | 64 | 67 | 66 | 62 | 67 | 64 | 1  | 1  | 0  | 0  |\n",
       "| 72 | 66 | 71 | 64 | 65 | 68 | 73 | 75 | 71 | 70 | 70 | 72 | 67 | 76 | 73 | 75 | 79 | 70 | 74 | 80 | 80 | 78 | 77 | 75 | 80 | 76 | 69 | 59 | 68 | 59 | 57 | 60 | 64 | 64 | 61 | 62 | 64 | 64 | 60 | 1  | 1  | 1  | 1  |\n",
       "| 70 | 72 | 68 | 64 | 68 | 67 | 64 | 68 | 72 | 72 | 69 | 73 | 72 | 78 | 77 | 74 | 77 | 73 | 74 | 66 | 71 | 78 | 76 | 74 | 76 | 80 | 62 | 62 | 60 | 60 | 62 | 60 | 61 | 64 | 68 | 66 | 64 | 67 | 68 | 0  | 0  | 0  | 0  |\n",
       "| 68 | 60 | 68 | 62 | 72 | 70 | 63 | 65 | 60 | 70 | 70 | 62 | 63 | 68 | 60 | 68 | 62 | 72 | 70 | 63 | 65 | 60 | 70 | 70 | 62 | 63 | 68 | 60 | 68 | 62 | 72 | 70 | 63 | 65 | 60 | 70 | 70 | 62 | 63 | 0  | 0  | 0  | 0  |\n",
       "| 69 | 74 | 70 | 61 | 69 | 68 | 65 | 70 | 71 | 72 | 71 | 73 | 72 | 74 | 76 | 80 | 63 | 76 | 74 | 70 | 75 | 76 | 77 | 77 | 75 | 81 | 63 | 69 | 63 | 60 | 64 | 64 | 60 | 65 | 63 | 65 | 66 | 66 | 62 | 0  | 0  | 0  | 0  |\n",
       "| 72 | 73 | 73 | 65 | 68 | 69 | 66 | 71 | 71 | 74 | 72 | 74 | 75 | 76 | 79 | 83 | 74 | 80 | 82 | 73 | 76 | 75 | 78 | 76 | 78 | 82 | 67 | 68 | 68 | 60 | 60 | 62 | 61 | 65 | 65 | 70 | 65 | 72 | 69 | 1  | 1  | 1  | 0  |\n",
       "| 76 | 67 | 71 | 73 | 71 | 73 | 68 | 71 | 74 | 76 | 73 | 72 | 74 | 80 | 76 | 81 | 79 | 78 | 78 | 79 | 81 | 78 | 78 | 79 | 79 | 78 | 71 | 63 | 67 | 60 | 60 | 62 | 64 | 66 | 70 | 73 | 66 | 67 | 69 | 1  | 1  | 1  | 1  |\n",
       "| 75 | 68 | 71 | 71 | 72 | 74 | 70 | 73 | 73 | 75 | 71 | 71 | 72 | 79 | 75 | 76 | 80 | 76 | 78 | 74 | 79 | 79 | 79 | 76 | 75 | 76 | 73 | 61 | 66 | 62 | 67 | 69 | 66 | 68 | 68 | 73 | 65 | 65 | 66 | 0  | 0  | 0  | 0  |\n",
       "| 76 | 68 | 72 | 71 | 70 | 72 | 72 | 74 | 74 | 77 | 74 | 72 | 72 | 78 | 79 | 77 | 79 | 77 | 78 | 80 | 82 | 78 | 79 | 76 | 77 | 79 | 73 | 61 | 68 | 60 | 62 | 64 | 61 | 68 | 71 | 74 | 71 | 67 | 64 | 1  | 1  | 1  | 1  |\n",
       "| 72 | 71 | 71 | 66 | 68 | 70 | 67 | 72 | 71 | 72 | 70 | 73 | 74 | 76 | 77 | 75 | 77 | 72 | 74 | 75 | 76 | 77 | 77 | 74 | 78 | 79 | 66 | 61 | 66 | 61 | 65 | 65 | 62 | 67 | 65 | 67 | 67 | 65 | 69 | 1  | 0  | 0  | 0  |\n",
       "| 73 | 68 | 69 | 67 | 70 | 71 | 68 | 71 | 72 | 73 | 70 | 71 | 71 | 79 | 77 | 75 | 80 | 73 | 74 | 77 | 78 | 79 | 78 | 74 | 76 | 79 | 68 | 60 | 64 | 60 | 63 | 66 | 61 | 65 | 68 | 69 | 64 | 66 | 66 | 0  | 0  | 0  | 0  |\n",
       "| 72 | 69 | 68 | 64 | 68 | 71 | 66 | 69 | 70 | 72 | 69 | 72 | 69 | 78 | 74 | 73 | 76 | 76 | 80 | 72 | 73 | 76 | 77 | 74 | 73 | 75 | 67 | 62 | 65 | 60 | 61 | 64 | 61 | 65 | 66 | 68 | 63 | 68 | 66 | 1  | 0  | 0  | 0  |\n",
       "| 72 | 64 | 72 | 66 | 64 | 66 | 68 | 70 | 70 | 72 | 68 | 71 | 74 | 73 | 64 | 73 | 66 | 65 | 66 | 70 | 73 | 71 | 73 | 68 | 72 | 78 | 72 | 64 | 72 | 65 | 62 | 66 | 66 | 68 | 69 | 71 | 67 | 70 | 71 | 1  | 0  | 0  | 0  |\n",
       "| 65 | 75 | 64 | 60 | 62 | 62 | 61 | 71 | 66 | 67 | 69 | 72 | 64 | 65 | 75 | 64 | 60 | 62 | 62 | 61 | 71 | 66 | 67 | 69 | 72 | 64 | 65 | 75 | 64 | 60 | 62 | 62 | 61 | 71 | 66 | 67 | 69 | 72 | 64 | 0  | 0  | 0  | 0  |\n",
       "| 73 | 69 | 69 | 68 | 65 | 66 | 68 | 71 | 73 | 74 | 70 | 72 | 74 | 78 | 75 | 75 | 78 | 73 | 73 | 73 | 74 | 78 | 78 | 74 | 80 | 79 | 69 | 60 | 63 | 64 | 60 | 62 | 62 | 66 | 67 | 69 | 62 | 62 | 65 | 0  | 0  | 0  | 0  |\n",
       "| 73 | 69 | 70 | 67 | 69 | 72 | 68 | 72 | 71 | 73 | 71 | 71 | 72 | 79 | 73 | 76 | 76 | 75 | 76 | 77 | 78 | 77 | 78 | 76 | 77 | 76 | 66 | 63 | 66 | 60 | 64 | 64 | 60 | 66 | 66 | 68 | 66 | 64 | 66 | 0  | 0  | 0  | 0  |\n",
       "| 72 | 73 | 70 | 66 | 68 | 70 | 68 | 72 | 72 | 73 | 72 | 74 | 73 | 76 | 77 | 75 | 76 | 74 | 75 | 75 | 76 | 76 | 76 | 77 | 77 | 79 | 67 | 66 | 64 | 60 | 62 | 65 | 61 | 65 | 66 | 72 | 66 | 72 | 66 | 0  | 0  | 0  | 0  |\n",
       "| 71 | 69 | 69 | 62 | 69 | 68 | 67 | 69 | 68 | 71 | 70 | 71 | 70 | 74 | 75 | 72 | 66 | 72 | 71 | 72 | 74 | 71 | 74 | 74 | 74 | 76 | 68 | 60 | 66 | 60 | 64 | 65 | 60 | 60 | 67 | 69 | 65 | 65 | 66 | 0  | 0  | 0  | 0  |\n",
       "| 67 | 60 | 66 | 63 | 61 | 64 | 68 | 70 | 63 | 63 | 65 | 63 | 72 | 67 | 60 | 66 | 63 | 61 | 64 | 68 | 70 | 63 | 63 | 65 | 63 | 72 | 67 | 60 | 66 | 63 | 61 | 64 | 68 | 70 | 63 | 63 | 65 | 63 | 72 | 0  | 0  | 0  | 0  |\n",
       "| 75 | 73 | 71 | 67 | 71 | 72 | 69 | 73 | 74 | 75 | 74 | 74 | 73 | 79 | 81 | 78 | 75 | 78 | 79 | 74 | 78 | 78 | 78 | 78 | 77 | 76 | 67 | 63 | 66 | 60 | 63 | 66 | 62 | 70 | 69 | 73 | 65 | 71 | 70 | 1  | 1  | 0  | 0  |\n",
       "| 72 | 70 | 68 | 68 | 66 | 67 | 68 | 70 | 72 | 74 | 69 | 73 | 73 | 76 | 76 | 71 | 74 | 73 | 74 | 73 | 71 | 75 | 76 | 74 | 76 | 77 | 67 | 61 | 64 | 62 | 63 | 63 | 63 | 68 | 68 | 71 | 63 | 69 | 67 | 0  | 0  | 0  | 0  |\n",
       "| 72 | 69 | 69 | 65 | 68 | 70 | 69 | 72 | 71 | 72 | 68 | 73 | 72 | 76 | 77 | 76 | 70 | 74 | 75 | 76 | 76 | 76 | 75 | 73 | 76 | 77 | 68 | 61 | 61 | 60 | 63 | 65 | 63 | 65 | 66 | 69 | 62 | 68 | 66 | 0  | 0  | 0  | 0  |\n",
       "| 75 | 72 | 72 | 69 | 73 | 74 | 70 | 73 | 73 | 75 | 74 | 74 | 72 | 78 | 78 | 76 | 74 | 75 | 78 | 77 | 79 | 77 | 79 | 79 | 78 | 77 | 72 | 66 | 66 | 62 | 70 | 70 | 63 | 67 | 67 | 72 | 65 | 68 | 66 | 1  | 0  | 0  | 0  |\n",
       "| 70 | 72 | 72 | 61 | 67 | 68 | 65 | 70 | 70 | 72 | 68 | 71 | 73 | 70 | 73 | 73 | 62 | 69 | 71 | 66 | 71 | 72 | 73 | 69 | 71 | 75 | 70 | 71 | 70 | 60 | 65 | 66 | 64 | 70 | 69 | 70 | 66 | 71 | 71 | 0  | 0  | 0  | 0  |\n",
       "| 71 | 68 | 68 | 65 | 66 | 68 | 68 | 71 | 71 | 72 | 71 | 72 | 73 | 76 | 75 | 74 | 69 | 71 | 72 | 76 | 77 | 75 | 75 | 75 | 77 | 80 | 67 | 63 | 63 | 62 | 62 | 65 | 62 | 66 | 66 | 68 | 61 | 69 | 62 | 1  | 0  | 0  | 0  |\n",
       "| 74 | 70 | 73 | 69 | 68 | 71 | 71 | 73 | 74 | 75 | 72 | 73 | 74 | 79 | 75 | 77 | 77 | 74 | 76 | 79 | 77 | 78 | 78 | 79 | 77 | 81 | 67 | 66 | 69 | 60 | 64 | 67 | 64 | 66 | 69 | 70 | 66 | 69 | 66 | 1  | 1  | 1  | 1  |\n",
       "| 73 | 71 | 71 | 67 | 70 | 72 | 69 | 73 | 75 | 74 | 72 | 74 | 73 | 78 | 78 | 76 | 78 | 74 | 77 | 80 | 78 | 80 | 79 | 80 | 78 | 78 | 69 | 62 | 63 | 60 | 63 | 62 | 63 | 68 | 68 | 72 | 64 | 70 | 68 | 0  | 0  | 0  | 0  |\n",
       "| 72 | 74 | 73 | 67 | 69 | 71 | 65 | 72 | 72 | 74 | 73 | 76 | 71 | 79 | 82 | 83 | 81 | 74 | 77 | 73 | 78 | 77 | 78 | 80 | 80 | 74 | 65 | 66 | 64 | 54 | 60 | 62 | 56 | 59 | 63 | 63 | 66 | 71 | 65 | 0  | 0  | 0  | 0  |\n",
       "| 72 | 71 | 72 | 66 | 68 | 69 | 65 | 68 | 71 | 70 | 72 | 75 | 73 | 77 | 80 | 79 | 76 | 75 | 78 | 76 | 77 | 77 | 74 | 79 | 79 | 81 | 65 | 60 | 66 | 54 | 62 | 60 | 58 | 60 | 67 | 66 | 68 | 69 | 66 | 1  | 0  | 0  | 0  |\n",
       "| 71 | 72 | 72 | 66 | 70 | 72 | 67 | 72 | 71 | 72 | 73 | 75 | 71 | 75 | 81 | 84 | 74 | 76 | 80 | 77 | 79 | 77 | 78 | 82 | 79 | 78 | 66 | 61 | 65 | 55 | 65 | 62 | 60 | 64 | 66 | 66 | 63 | 71 | 61 | 1  | 1  | 1  | 1  |\n",
       "| 74 | 71 | 72 | 67 | 71 | 75 | 67 | 71 | 71 | 71 | 72 | 75 | 70 | 80 | 83 | 79 | 82 | 77 | 79 | 74 | 76 | 79 | 81 | 76 | 79 | 76 | 69 | 60 | 66 | 57 | 62 | 69 | 58 | 60 | 67 | 67 | 68 | 72 | 64 | 1  | 1  | 0  | 0  |\n",
       "| 75 | 66 | 68 | 70 | 70 | 73 | 65 | 69 | 72 | 72 | 71 | 72 | 71 | 80 | 77 | 84 | 83 | 79 | 80 | 80 | 80 | 82 | 82 | 77 | 78 | 80 | 68 | 58 | 63 | 58 | 64 | 64 | 55 | 61 | 65 | 65 | 61 | 66 | 58 | 1  | 1  | 1  | 1  |\n",
       "| 71 | 67 | 69 | 62 | 67 | 70 | 68 | 72 | 69 | 70 | 69 | 74 | 71 | 75 | 75 | 75 | 72 | 71 | 78 | 78 | 77 | 72 | 73 | 77 | 77 | 79 | 66 | 57 | 66 | 53 | 63 | 64 | 60 | 68 | 67 | 67 | 66 | 71 | 66 | 1  | 1  | 1  | 1  |\n",
       "| 73 | 65 | 71 | 67 | 67 | 71 | 70 | 73 | 70 | 69 | 70 | 72 | 68 | 77 | 75 | 78 | 77 | 76 | 77 | 81 | 81 | 76 | 76 | 77 | 77 | 77 | 68 | 58 | 65 | 58 | 58 | 65 | 60 | 64 | 60 | 61 | 62 | 65 | 55 | 1  | 1  | 1  | 0  |\n",
       "| 72 | 66 | 70 | 66 | 69 | 71 | 65 | 70 | 69 | 70 | 67 | 72 | 72 | 77 | 75 | 80 | 76 | 74 | 77 | 75 | 76 | 74 | 76 | 74 | 77 | 78 | 67 | 58 | 66 | 59 | 62 | 62 | 55 | 64 | 65 | 65 | 60 | 68 | 65 | 1  | 0  | 0  | 0  |\n",
       "| 73 | 65 | 70 | 65 | 65 | 68 | 67 | 73 | 71 | 70 | 68 | 72 | 66 | 79 | 77 | 76 | 77 | 76 | 78 | 80 | 79 | 78 | 79 | 73 | 78 | 73 | 68 | 55 | 66 | 55 | 57 | 61 | 56 | 62 | 66 | 64 | 65 | 62 | 55 | 1  | 1  | 1  | 1  |\n",
       "| 72 | 69 | 69 | 64 | 70 | 72 | 66 | 67 | 67 | 69 | 72 | 72 | 69 | 79 | 80 | 82 | 75 | 81 | 80 | 82 | 80 | 70 | 75 | 77 | 79 | 78 | 65 | 55 | 65 | 57 | 62 | 65 | 59 | 60 | 64 | 64 | 66 | 61 | 62 | 1  | 1  | 1  | 1  |\n",
       "| 74 | 66 | 72 | 67 | 66 | 68 | 69 | 72 | 71 | 71 | 72 | 72 | 70 | 78 | 75 | 77 | 78 | 75 | 73 | 80 | 79 | 76 | 77 | 78 | 79 | 83 | 69 | 53 | 69 | 55 | 62 | 62 | 59 | 64 | 67 | 66 | 66 | 66 | 61 | 1  | 1  | 1  | 1  |\n",
       "| 73 | 67 | 69 | 67 | 70 | 73 | 65 | 68 | 70 | 70 | 70 | 72 | 69 | 77 | 79 | 74 | 77 | 76 | 79 | 76 | 78 | 73 | 76 | 78 | 78 | 78 | 68 | 56 | 61 | 59 | 63 | 66 | 57 | 59 | 62 | 66 | 63 | 64 | 64 | 1  | 0  | 0  | 0  |\n",
       "| 71 | 74 | 73 | 68 | 70 | 73 | 66 | 73 | 72 | 73 | 74 | 76 | 71 | 75 | 83 | 76 | 75 | 75 | 78 | 75 | 78 | 81 | 80 | 81 | 82 | 81 | 66 | 63 | 70 | 61 | 61 | 64 | 57 | 64 | 70 | 67 | 62 | 71 | 59 | 1  | 0  | 0  | 0  |\n",
       "| 76 | 65 | 74 | 72 | 71 | 74 | 71 | 74 | 74 | 74 | 70 | 74 | 71 | 81 | 77 | 82 | 82 | 77 | 80 | 82 | 82 | 81 | 82 | 78 | 82 | 78 | 70 | 58 | 65 | 64 | 63 | 63 | 65 | 66 | 65 | 63 | 65 | 65 | 63 | 1  | 1  | 1  | 1  |\n",
       "| 71 | 68 | 70 | 66 | 68 | 69 | 65 | 70 | 71 | 70 | 71 | 73 | 71 | 79 | 81 | 74 | 81 | 75 | 74 | 72 | 79 | 78 | 77 | 79 | 79 | 80 | 61 | 55 | 66 | 57 | 63 | 62 | 53 | 60 | 65 | 66 | 66 | 63 | 62 | 1  | 0  | 0  | 0  |\n",
       "| 70 | 69 | 71 | 61 | 63 | 66 | 68 | 72 | 69 | 70 | 70 | 74 | 73 | 74 | 79 | 77 | 67 | 71 | 74 | 73 | 76 | 71 | 74 | 78 | 78 | 79 | 68 | 64 | 67 | 55 | 59 | 60 | 64 | 66 | 64 | 64 | 63 | 70 | 67 | 0  | 0  | 0  | 0  |\n",
       "| 72 | 69 | 68 | 65 | 69 | 70 | 67 | 71 | 70 | 69 | 69 | 72 | 71 | 77 | 78 | 78 | 71 | 80 | 79 | 82 | 79 | 74 | 76 | 77 | 78 | 77 | 66 | 56 | 62 | 59 | 60 | 61 | 59 | 68 | 65 | 65 | 64 | 65 | 62 | 1  | 1  | 1  | 1  |\n",
       "| 73 | 74 | 71 | 68 | 74 | 75 | 66 | 72 | 72 | 74 | 71 | 75 | 69 | 79 | 83 | 82 | 78 | 80 | 81 | 73 | 76 | 80 | 81 | 82 | 81 | 81 | 65 | 55 | 65 | 55 | 66 | 66 | 59 | 67 | 65 | 67 | 63 | 64 | 59 | 0  | 0  | 0  | 0  |\n",
       "| 73 | 69 | 69 | 66 | 72 | 73 | 68 | 72 | 71 | 71 | 73 | 73 | 69 | 76 | 80 | 78 | 77 | 83 | 82 | 78 | 78 | 76 | 79 | 79 | 78 | 77 | 69 | 60 | 61 | 54 | 66 | 66 | 53 | 62 | 63 | 67 | 68 | 69 | 61 | 1  | 0  | 0  | 0  |\n",
       "| 73 | 67 | 70 | 68 | 67 | 69 | 67 | 71 | 71 | 70 | 69 | 73 | 70 | 77 | 79 | 76 | 80 | 74 | 75 | 78 | 77 | 77 | 75 | 78 | 80 | 80 | 64 | 60 | 64 | 57 | 58 | 61 | 58 | 66 | 65 | 66 | 65 | 67 | 64 | 1  | 1  | 1  | 1  |\n",
       "| 70 | 68 | 70 | 64 | 63 | 65 | 69 | 72 | 69 | 69 | 70 | 73 | 70 | 76 | 80 | 75 | 79 | 68 | 74 | 80 | 79 | 78 | 79 | 76 | 81 | 82 | 65 | 59 | 63 | 53 | 57 | 60 | 62 | 64 | 61 | 62 | 64 | 64 | 61 | 1  | 1  | 1  | 1  |\n",
       "| 72 | 65 | 70 | 66 | 65 | 67 | 67 | 70 | 69 | 69 | 68 | 72 | 68 | 76 | 77 | 77 | 76 | 71 | 76 | 75 | 76 | 74 | 72 | 72 | 75 | 78 | 67 | 54 | 66 | 59 | 59 | 61 | 57 | 65 | 66 | 66 | 64 | 70 | 55 | 1  | 0  | 0  | 0  |\n",
       "| 73 | 74 | 72 | 68 | 69 | 69 | 67 | 72 | 75 | 74 | 72 | 76 | 76 | 79 | 81 | 80 | 79 | 74 | 74 | 74 | 77 | 80 | 79 | 80 | 78 | 81 | 68 | 68 | 65 | 60 | 64 | 64 | 61 | 66 | 71 | 69 | 62 | 73 | 72 | 1  | 0  | 0  | 0  |\n",
       "| 74 | 75 | 73 | 68 | 72 | 72 | 71 | 73 | 74 | 76 | 72 | 75 | 77 | 78 | 79 | 80 | 74 | 76 | 75 | 77 | 76 | 80 | 79 | 77 | 80 | 81 | 69 | 71 | 66 | 60 | 68 | 68 | 69 | 69 | 70 | 71 | 67 | 72 | 69 | 0  | 0  | 0  | 0  |\n",
       "| 74 | 73 | 73 | 71 | 72 | 74 | 70 | 75 | 75 | 76 | 75 | 76 | 76 | 76 | 80 | 83 | 75 | 80 | 82 | 77 | 80 | 78 | 78 | 83 | 80 | 82 | 69 | 68 | 66 | 62 | 65 | 68 | 64 | 72 | 71 | 73 | 70 | 73 | 70 | 1  | 1  | 1  | 0  |\n",
       "| 75 | 71 | 71 | 71 | 72 | 73 | 69 | 72 | 75 | 76 | 73 | 75 | 75 | 80 | 79 | 81 | 79 | 76 | 78 | 79 | 81 | 78 | 78 | 79 | 79 | 79 | 70 | 63 | 67 | 60 | 69 | 69 | 63 | 67 | 70 | 74 | 66 | 71 | 69 | 1  | 1  | 1  | 1  |\n",
       "| 74 | 71 | 71 | 69 | 72 | 73 | 69 | 72 | 73 | 75 | 73 | 73 | 75 | 79 | 75 | 76 | 80 | 76 | 78 | 74 | 79 | 79 | 79 | 76 | 76 | 82 | 69 | 61 | 66 | 60 | 66 | 68 | 64 | 68 | 68 | 73 | 67 | 70 | 67 | 1  | 0  | 0  | 0  |\n",
       "| 72 | 71 | 70 | 64 | 68 | 69 | 69 | 72 | 72 | 72 | 71 | 74 | 74 | 77 | 74 | 74 | 73 | 74 | 77 | 78 | 78 | 76 | 77 | 78 | 77 | 81 | 69 | 63 | 64 | 60 | 64 | 65 | 65 | 67 | 68 | 66 | 68 | 71 | 69 | 1  | 0  | 0  | 0  |\n",
       "| 76 | 69 | 73 | 70 | 71 | 72 | 72 | 74 | 74 | 77 | 74 | 73 | 73 | 78 | 79 | 80 | 79 | 77 | 78 | 80 | 82 | 78 | 79 | 76 | 82 | 82 | 73 | 61 | 68 | 60 | 62 | 64 | 61 | 68 | 71 | 74 | 71 | 67 | 64 | 1  | 1  | 1  | 1  |\n",
       "| 74 | 71 | 72 | 68 | 70 | 72 | 69 | 72 | 72 | 74 | 72 | 73 | 73 | 78 | 77 | 76 | 77 | 75 | 77 | 78 | 78 | 77 | 77 | 78 | 78 | 79 | 66 | 62 | 66 | 60 | 62 | 65 | 62 | 68 | 67 | 68 | 67 | 70 | 62 | 1  | 1  | 1  | 0  |\n",
       "| 73 | 72 | 72 | 68 | 72 | 72 | 69 | 73 | 76 | 75 | 71 | 75 | 75 | 77 | 79 | 77 | 78 | 77 | 76 | 72 | 76 | 79 | 77 | 78 | 80 | 79 | 70 | 62 | 64 | 60 | 68 | 67 | 64 | 71 | 71 | 72 | 66 | 68 | 68 | 0  | 0  | 0  | 0  |\n",
       "| 72 | 72 | 71 | 66 | 71 | 73 | 69 | 73 | 75 | 73 | 72 | 74 | 73 | 78 | 80 | 74 | 76 | 76 | 80 | 73 | 77 | 77 | 77 | 76 | 78 | 81 | 67 | 63 | 68 | 62 | 68 | 69 | 63 | 69 | 72 | 70 | 67 | 66 | 62 | 0  | 0  | 0  | 0  |\n",
       "| 76 | 68 | 71 | 71 | 69 | 71 | 72 | 74 | 74 | 76 | 73 | 73 | 74 | 78 | 75 | 76 | 78 | 74 | 74 | 79 | 82 | 77 | 78 | 76 | 79 | 82 | 71 | 60 | 65 | 64 | 64 | 65 | 62 | 66 | 69 | 71 | 68 | 65 | 67 | 1  | 1  | 1  | 1  |\n",
       "| 74 | 73 | 73 | 68 | 72 | 74 | 68 | 72 | 74 | 75 | 74 | 74 | 75 | 79 | 81 | 76 | 76 | 76 | 77 | 77 | 78 | 77 | 78 | 76 | 78 | 79 | 71 | 63 | 68 | 60 | 66 | 68 | 64 | 67 | 68 | 72 | 71 | 66 | 66 | 1  | 0  | 0  | 0  |\n",
       "| 73 | 76 | 73 | 69 | 72 | 72 | 66 | 71 | 74 | 74 | 76 | 76 | 76 | 76 | 81 | 80 | 75 | 78 | 78 | 73 | 77 | 77 | 76 | 82 | 81 | 78 | 70 | 71 | 67 | 60 | 66 | 66 | 61 | 66 | 70 | 72 | 71 | 73 | 73 | 0  | 0  | 0  | 0  |\n",
       "| 71 | 70 | 70 | 65 | 67 | 68 | 68 | 70 | 70 | 72 | 70 | 72 | 73 | 77 | 77 | 77 | 73 | 71 | 73 | 79 | 76 | 74 | 76 | 76 | 76 | 81 | 67 | 63 | 65 | 62 | 63 | 65 | 62 | 61 | 67 | 70 | 65 | 66 | 69 | 1  | 0  | 0  | 0  |\n",
       "| 75 | 75 | 73 | 71 | 74 | 75 | 69 | 74 | 76 | 77 | 77 | 75 | 75 | 79 | 81 | 81 | 77 | 78 | 79 | 72 | 78 | 81 | 79 | 80 | 79 | 78 | 70 | 69 | 66 | 62 | 63 | 67 | 65 | 70 | 73 | 73 | 74 | 71 | 70 | 0  | 0  | 0  | 0  |\n",
       "| 75 | 70 | 72 | 71 | 69 | 70 | 69 | 72 | 75 | 76 | 73 | 73 | 74 | 79 | 80 | 81 | 79 | 79 | 76 | 82 | 81 | 78 | 79 | 80 | 76 | 80 | 69 | 60 | 67 | 60 | 60 | 61 | 62 | 66 | 74 | 73 | 65 | 66 | 63 | 1  | 1  | 1  | 1  |\n",
       "| 75 | 67 | 70 | 71 | 71 | 72 | 72 | 74 | 74 | 75 | 73 | 72 | 74 | 80 | 78 | 74 | 78 | 77 | 77 | 76 | 76 | 79 | 79 | 77 | 76 | 79 | 70 | 61 | 63 | 63 | 63 | 66 | 65 | 71 | 70 | 73 | 68 | 66 | 66 | 1  | 1  | 0  | 0  |\n",
       "| 74 | 70 | 71 | 68 | 73 | 74 | 70 | 72 | 72 | 75 | 74 | 73 | 72 | 78 | 78 | 76 | 74 | 76 | 78 | 77 | 79 | 77 | 79 | 79 | 78 | 77 | 72 | 61 | 66 | 62 | 65 | 66 | 63 | 66 | 66 | 72 | 64 | 68 | 66 | 1  | 1  | 1  | 0  |\n",
       "| 72 | 69 | 70 | 67 | 68 | 68 | 67 | 71 | 73 | 73 | 70 | 73 | 76 | 80 | 75 | 79 | 80 | 75 | 76 | 77 | 78 | 80 | 80 | 74 | 77 | 80 | 67 | 62 | 65 | 62 | 62 | 65 | 60 | 66 | 68 | 68 | 61 | 70 | 72 | 1  | 1  | 1  | 1  |\n",
       "| 73 | 74 | 72 | 68 | 70 | 71 | 69 | 74 | 74 | 74 | 73 | 75 | 77 | 79 | 80 | 75 | 77 | 75 | 76 | 76 | 77 | 77 | 78 | 75 | 79 | 82 | 69 | 66 | 68 | 62 | 63 | 64 | 62 | 71 | 71 | 72 | 71 | 72 | 70 | 1  | 0  | 0  | 0  |\n",
       "| 73 | 73 | 72 | 68 | 71 | 72 | 69 | 74 | 76 | 74 | 73 | 75 | 75 | 78 | 79 | 76 | 78 | 75 | 77 | 80 | 78 | 80 | 79 | 80 | 79 | 82 | 69 | 64 | 63 | 60 | 64 | 70 | 63 | 66 | 73 | 73 | 68 | 70 | 67 | 1  | 1  | 1  | 1  |\n",
       "| 72 | 68 | 68 | 69 | 64 | 66 | 69 | 72 | 73 | 73 | 68 | 73 | 73 | 74 | 77 | 75 | 75 | 68 | 70 | 76 | 78 | 76 | 77 | 76 | 76 | 75 | 67 | 61 | 61 | 60 | 60 | 60 | 65 | 65 | 67 | 70 | 62 | 67 | 69 | 1  | 0  | 0  | 0  |\n",
       "\n"
      ],
      "text/plain": [
       "    flat_mean mountain_mean downhill_mean cobbles_mean tt_mean prologue_mean\n",
       "1   68        68            73            60           63      65           \n",
       "2   69        65            67            59           64      64           \n",
       "3   70        74            69            58           68      70           \n",
       "4   70        70            71            60           64      66           \n",
       "5   67        65            66            60           60      60           \n",
       "6   73        69            71            68           69      71           \n",
       "7   71        69            71            64           65      67           \n",
       "8   69        71            68            59           65      66           \n",
       "9   73        70            69            64           72      73           \n",
       "10  71        64            71            65           65      67           \n",
       "11  74        65            71            68           71      74           \n",
       "12  74        65            70            69           67      70           \n",
       "13  70        70            70            63           69      69           \n",
       "14  66        74            68            57           64      66           \n",
       "15  74        63            74            68           68      72           \n",
       "16  71        67            69            63           63      66           \n",
       "17  72        67            70            65           68      70           \n",
       "18  70        74            69            61           71      72           \n",
       "19  69        71            67            62           67      68           \n",
       "20  70        66            73            64           69      70           \n",
       "21  71        71            70            61           65      65           \n",
       "22  68        59            67            62           61      62           \n",
       "23  71        73            71            64           68      68           \n",
       "24  71        70            69            63           66      66           \n",
       "25  70        76            72            61           71      72           \n",
       "26  71        74            73            65           67      68           \n",
       "27  70        68            66            63           64      65           \n",
       "28  73        71            70            64           66      68           \n",
       "29  72        69            70            65           69      70           \n",
       "30  74        68            71            70           69      70           \n",
       "31  71        69            69            65           66      69           \n",
       "32  70        73            69            63           67      68           \n",
       "33  75        66            71            70           68      69           \n",
       "34  71        66            70            64           63      65           \n",
       "35  75        67            71            68           70      70           \n",
       "36  72        74            71            66           72      72           \n",
       "37  72        74            72            66           69      70           \n",
       "38  72        67            68            63           62      64           \n",
       "39  72        74            70            65           70      69           \n",
       "40  72        71            72            65           70      71           \n",
       "41  73        69            69            67           68      69           \n",
       "42  72        74            69            64           70      71           \n",
       "43  71        71            71            64           68      69           \n",
       "44  73        68            70            68           68      70           \n",
       "45  71        69            69            65           66      68           \n",
       "46  68        66            67            61           65      67           \n",
       "47  72        69            72            66           67      68           \n",
       "48  71        71            71            66           69      71           \n",
       "49  75        72            72            67           70      74           \n",
       "50  75        64            70            72           69      72           \n",
       "51  71        67            68            63           65      69           \n",
       "52  69        67            68            60           66      67           \n",
       "53  74        60            70            68           64      68           \n",
       "54  70        69            68            62           69      71           \n",
       "55  73        64            71            66           66      69           \n",
       "56  72        67            69            63           71      73           \n",
       "57  71        72            73            66           71      73           \n",
       "58  65        66            68            57           61      62           \n",
       "59  73        63            72            69           66      69           \n",
       "60  72        67            68            67           66      68           \n",
       "61  71        68            68            65           66      68           \n",
       "62  70        64            70            63           66      69           \n",
       "63  73        69            71            68           70      73           \n",
       "64  73        65            69            70           67      71           \n",
       "65  72        66            71            64           65      68           \n",
       "66  70        72            68            64           68      67           \n",
       "67  68        60            68            62           72      70           \n",
       "68  69        74            70            61           69      68           \n",
       "69  72        73            73            65           68      69           \n",
       "70  76        67            71            73           71      73           \n",
       "71  75        68            71            71           72      74           \n",
       "72  76        68            72            71           70      72           \n",
       "73  72        71            71            66           68      70           \n",
       "74  73        68            69            67           70      71           \n",
       "75  72        69            68            64           68      71           \n",
       "76  72        64            72            66           64      66           \n",
       "77  65        75            64            60           62      62           \n",
       "78  73        69            69            68           65      66           \n",
       "79  73        69            70            67           69      72           \n",
       "80  72        73            70            66           68      70           \n",
       "81  71        69            69            62           69      68           \n",
       "82  67        60            66            63           61      64           \n",
       "83  75        73            71            67           71      72           \n",
       "84  72        70            68            68           66      67           \n",
       "85  72        69            69            65           68      70           \n",
       "86  75        72            72            69           73      74           \n",
       "87  70        72            72            61           67      68           \n",
       "88  71        68            68            65           66      68           \n",
       "89  74        70            73            69           68      71           \n",
       "90  73        71            71            67           70      72           \n",
       "91  72        74            73            67           69      71           \n",
       "92  72        71            72            66           68      69           \n",
       "93  71        72            72            66           70      72           \n",
       "94  74        71            72            67           71      75           \n",
       "95  75        66            68            70           70      73           \n",
       "96  71        67            69            62           67      70           \n",
       "97  73        65            71            67           67      71           \n",
       "98  72        66            70            66           69      71           \n",
       "99  73        65            70            65           65      68           \n",
       "100 72        69            69            64           70      72           \n",
       "101 74        66            72            67           66      68           \n",
       "102 73        67            69            67           70      73           \n",
       "103 71        74            73            68           70      73           \n",
       "104 76        65            74            72           71      74           \n",
       "105 71        68            70            66           68      69           \n",
       "106 70        69            71            61           63      66           \n",
       "107 72        69            68            65           69      70           \n",
       "108 73        74            71            68           74      75           \n",
       "109 73        69            69            66           72      73           \n",
       "110 73        67            70            68           67      69           \n",
       "111 70        68            70            64           63      65           \n",
       "112 72        65            70            66           65      67           \n",
       "113 73        74            72            68           69      69           \n",
       "114 74        75            73            68           72      72           \n",
       "115 74        73            73            71           72      74           \n",
       "116 75        71            71            71           72      73           \n",
       "117 74        71            71            69           72      73           \n",
       "118 72        71            70            64           68      69           \n",
       "119 76        69            73            70           71      72           \n",
       "120 74        71            72            68           70      72           \n",
       "121 73        72            72            68           72      72           \n",
       "122 72        72            71            66           71      73           \n",
       "123 76        68            71            71           69      71           \n",
       "124 74        73            73            68           72      74           \n",
       "125 73        76            73            69           72      72           \n",
       "126 71        70            70            65           67      68           \n",
       "127 75        75            73            71           74      75           \n",
       "128 75        70            72            71           69      70           \n",
       "129 75        67            70            71           71      72           \n",
       "130 74        70            71            68           73      74           \n",
       "131 72        69            70            67           68      68           \n",
       "132 73        74            72            68           70      71           \n",
       "133 73        73            72            68           71      72           \n",
       "134 72        68            68            69           64      66           \n",
       "    sprint_mean acceleration_mean endurance_mean resistance_mean recup_mean\n",
       "1   65          70                66             67              69        \n",
       "2   67          70                66             64              67        \n",
       "3   64          69                70             71              73        \n",
       "4   65          71                68             68              70        \n",
       "5   65          69                65             64              65        \n",
       "6   66          70                70             71              71        \n",
       "7   66          69                68             68              70        \n",
       "8   62          68                67             68              71        \n",
       "9   65          69                71             70              73        \n",
       "10  67          70                67             66              67        \n",
       "11  67          69                68             69              69        \n",
       "12  66          70                69             69              70        \n",
       "13  61          67                70             71              72        \n",
       "14  61          68                66             67              69        \n",
       "15  70          73                70             70              69        \n",
       "16  67          70                69             68              69        \n",
       "17  67          70                68             68              70        \n",
       "18  61          69                71             72              75        \n",
       "19  61          67                67             68              71        \n",
       "20  64          69                67             68              68        \n",
       "21  66          74                70             71              70        \n",
       "22  66          67                63             62              64        \n",
       "23  65          71                71             73              72        \n",
       "24  69          73                72             72              71        \n",
       "25  66          72                74             73              74        \n",
       "26  66          71                72             73              73        \n",
       "27  66          69                67             70              68        \n",
       "28  72          75                73             74              72        \n",
       "29  68          72                70             72              70        \n",
       "30  70          73                74             75              71        \n",
       "31  70          73                70             73              71        \n",
       "32  66          71                70             71              71        \n",
       "33  71          73                73             74              71        \n",
       "34  68          70                70             71              68        \n",
       "35  70          73                72             77              72        \n",
       "36  65          71                73             74              73        \n",
       "37  68          72                71             74              74        \n",
       "38  71          73                71             71              69        \n",
       "39  66          72                71             73              71        \n",
       "40  67          70                72             73              73        \n",
       "41  71          73                72             73              71        \n",
       "42  65          70                70             73              74        \n",
       "43  66          71                72             72              70        \n",
       "44  71          74                71             74              70        \n",
       "45  60          66                68             67              69        \n",
       "46  61          66                64             65              66        \n",
       "47  65          69                70             69              71        \n",
       "48  67          70                69             70              70        \n",
       "49  65          69                72             71              73        \n",
       "50  69          70                72             72              69        \n",
       "51  65          70                69             68              69        \n",
       "52  63          69                67             67              66        \n",
       "53  71          73                71             69              66        \n",
       "54  66          71                67             67              68        \n",
       "55  69          70                69             68              71        \n",
       "56  64          70                69             70              70        \n",
       "57  66          73                70             71              74        \n",
       "58  62          67                64             65              66        \n",
       "59  72          75                70             71              69        \n",
       "60  66          68                70             69              69        \n",
       "61  67          70                69             68              69        \n",
       "62  67          71                67             66              68        \n",
       "63  72          74                72             72              73        \n",
       "64  67          71                72             70              69        \n",
       "65  73          75                71             70              70        \n",
       "66  64          68                72             72              69        \n",
       "67  63          65                60             70              70        \n",
       "68  65          70                71             72              71        \n",
       "69  66          71                71             74              72        \n",
       "70  68          71                74             76              73        \n",
       "71  70          73                73             75              71        \n",
       "72  72          74                74             77              74        \n",
       "73  67          72                71             72              70        \n",
       "74  68          71                72             73              70        \n",
       "75  66          69                70             72              69        \n",
       "76  68          70                70             72              68        \n",
       "77  61          71                66             67              69        \n",
       "78  68          71                73             74              70        \n",
       "79  68          72                71             73              71        \n",
       "80  68          72                72             73              72        \n",
       "81  67          69                68             71              70        \n",
       "82  68          70                63             63              65        \n",
       "83  69          73                74             75              74        \n",
       "84  68          70                72             74              69        \n",
       "85  69          72                71             72              68        \n",
       "86  70          73                73             75              74        \n",
       "87  65          70                70             72              68        \n",
       "88  68          71                71             72              71        \n",
       "89  71          73                74             75              72        \n",
       "90  69          73                75             74              72        \n",
       "91  65          72                72             74              73        \n",
       "92  65          68                71             70              72        \n",
       "93  67          72                71             72              73        \n",
       "94  67          71                71             71              72        \n",
       "95  65          69                72             72              71        \n",
       "96  68          72                69             70              69        \n",
       "97  70          73                70             69              70        \n",
       "98  65          70                69             70              67        \n",
       "99  67          73                71             70              68        \n",
       "100 66          67                67             69              72        \n",
       "101 69          72                71             71              72        \n",
       "102 65          68                70             70              70        \n",
       "103 66          73                72             73              74        \n",
       "104 71          74                74             74              70        \n",
       "105 65          70                71             70              71        \n",
       "106 68          72                69             70              70        \n",
       "107 67          71                70             69              69        \n",
       "108 66          72                72             74              71        \n",
       "109 68          72                71             71              73        \n",
       "110 67          71                71             70              69        \n",
       "111 69          72                69             69              70        \n",
       "112 67          70                69             69              68        \n",
       "113 67          72                75             74              72        \n",
       "114 71          73                74             76              72        \n",
       "115 70          75                75             76              75        \n",
       "116 69          72                75             76              73        \n",
       "117 69          72                73             75              73        \n",
       "118 69          72                72             72              71        \n",
       "119 72          74                74             77              74        \n",
       "120 69          72                72             74              72        \n",
       "121 69          73                76             75              71        \n",
       "122 69          73                75             73              72        \n",
       "123 72          74                74             76              73        \n",
       "124 68          72                74             75              74        \n",
       "125 66          71                74             74              76        \n",
       "126 68          70                70             72              70        \n",
       "127 69          74                76             77              77        \n",
       "128 69          72                75             76              73        \n",
       "129 72          74                74             75              73        \n",
       "130 70          72                72             75              74        \n",
       "131 67          71                73             73              70        \n",
       "132 69          74                74             74              73        \n",
       "133 69          74                76             74              73        \n",
       "134 69          72                73             73              68        \n",
       "    hill_mean attack_mean flat_max mountain_max downhill_max cobbles_max tt_max\n",
       "1   71        68          72       77           81           69          73    \n",
       "2   69        68          72       74           72           66          72    \n",
       "3   76        73          77       80           77           73          75    \n",
       "4   74        68          74       80           82           71          71    \n",
       "5   68        65          72       76           73           64          65    \n",
       "6   74        68          77       76           79           78          82    \n",
       "7   73        68          73       78           75           72          70    \n",
       "8   72        69          73       79           75           61          68    \n",
       "9   74        68          77       81           74           75          75    \n",
       "10  69        69          73       76           75           69          74    \n",
       "11  72        70          79       73           82           75          81    \n",
       "12  72        70          76       75           80           78          77    \n",
       "13  74        71          73       80           77           72          75    \n",
       "14  73        67          70       78           72           63          72    \n",
       "15  71        70          77       73           83           81          75    \n",
       "16  71        68          74       78           74           73          68    \n",
       "17  72        69          75       78           74           72          78    \n",
       "18  75        70          79       83           76           73          79    \n",
       "19  71        68          76       80           76           68          83    \n",
       "20  72        70          75       75           81           75          78    \n",
       "21  75        74          75       80           82           77          75    \n",
       "22  64        66          72       73           71           67          67    \n",
       "23  74        73          75       76           77           73          74    \n",
       "24  74        73          74       76           73           68          74    \n",
       "25  75        74          75       80           79           69          74    \n",
       "26  74        74          75       80           81           74          74    \n",
       "27  70        72          74       73           72           68          69    \n",
       "28  73        72          77       79           75           73          72    \n",
       "29  70        72          75       75           74           72          74    \n",
       "30  72        71          79       76           77           77          78    \n",
       "31  73        69          75       76           75           71          72    \n",
       "32  74        72          76       77           76           74          73    \n",
       "33  70        71          78       75           77           75          75    \n",
       "34  70        72          76       75           74           69          69    \n",
       "35  72        74          77       74           76           72          80    \n",
       "36  75        75          78       81           75           76          76    \n",
       "37  75        73          76       80           80           74          75    \n",
       "38  71        70          75       73           76           68          66    \n",
       "39  75        72          77       78           73           72          73    \n",
       "40  72        72          76       79           80           73          79    \n",
       "41  72        72          77       78           75           74          74    \n",
       "42  74        73          78       80           76           69          81    \n",
       "43  73        74          74       78           77           68          74    \n",
       "44  73        72          76       76           76           73          71    \n",
       "45  72        71          77       76           73           78          74    \n",
       "46  70        69          71       74           69           67          70    \n",
       "47  74        73          76       80           79           72          74    \n",
       "48  74        68          75       79           75           74          76    \n",
       "49  75        72          80       83           79           82          77    \n",
       "50  71        70          80       77           84           83          79    \n",
       "51  72        69          75       76           72           72          70    \n",
       "52  71        72          73       75           75           65          71    \n",
       "53  70        66          79       69           76           77          68    \n",
       "54  72        71          74       76           75           65          73    \n",
       "55  70        68          77       73           75           74          72    \n",
       "56  73        69          73       76           77           72          75    \n",
       "57  75        69          74       83           76           73          78    \n",
       "58  69        66          71       75           77           67          67    \n",
       "59  71        70          79       77           78           79          76    \n",
       "60  72        71          79       75           74           81          75    \n",
       "61  73        69          75       78           74           76          73    \n",
       "62  70        67          78       76           77           77          70    \n",
       "63  75        71          76       78           78           77          77    \n",
       "64  72        69          77       79           76           80          74    \n",
       "65  72        67          76       73           75           79          70    \n",
       "66  73        72          78       77           74           77          73    \n",
       "67  62        63          68       60           68           62          72    \n",
       "68  73        72          74       76           80           63          76    \n",
       "69  74        75          76       79           83           74          80    \n",
       "70  72        74          80       76           81           79          78    \n",
       "71  71        72          79       75           76           80          76    \n",
       "72  72        72          78       79           77           79          77    \n",
       "73  73        74          76       77           75           77          72    \n",
       "74  71        71          79       77           75           80          73    \n",
       "75  72        69          78       74           73           76          76    \n",
       "76  71        74          73       64           73           66          65    \n",
       "77  72        64          65       75           64           60          62    \n",
       "78  72        74          78       75           75           78          73    \n",
       "79  71        72          79       73           76           76          75    \n",
       "80  74        73          76       77           75           76          74    \n",
       "81  71        70          74       75           72           66          72    \n",
       "82  63        72          67       60           66           63          61    \n",
       "83  74        73          79       81           78           75          78    \n",
       "84  73        73          76       76           71           74          73    \n",
       "85  73        72          76       77           76           70          74    \n",
       "86  74        72          78       78           76           74          75    \n",
       "87  71        73          70       73           73           62          69    \n",
       "88  72        73          76       75           74           69          71    \n",
       "89  73        74          79       75           77           77          74    \n",
       "90  74        73          78       78           76           78          74    \n",
       "91  76        71          79       82           83           81          74    \n",
       "92  75        73          77       80           79           76          75    \n",
       "93  75        71          75       81           84           74          76    \n",
       "94  75        70          80       83           79           82          77    \n",
       "95  72        71          80       77           84           83          79    \n",
       "96  74        71          75       75           75           72          71    \n",
       "97  72        68          77       75           78           77          76    \n",
       "98  72        72          77       75           80           76          74    \n",
       "99  72        66          79       77           76           77          76    \n",
       "100 72        69          79       80           82           75          81    \n",
       "101 72        70          78       75           77           78          75    \n",
       "102 72        69          77       79           74           77          76    \n",
       "103 76        71          75       83           76           75          75    \n",
       "104 74        71          81       77           82           82          77    \n",
       "105 73        71          79       81           74           81          75    \n",
       "106 74        73          74       79           77           67          71    \n",
       "107 72        71          77       78           78           71          80    \n",
       "108 75        69          79       83           82           78          80    \n",
       "109 73        69          76       80           78           77          83    \n",
       "110 73        70          77       79           76           80          74    \n",
       "111 73        70          76       80           75           79          68    \n",
       "112 72        68          76       77           77           76          71    \n",
       "113 76        76          79       81           80           79          74    \n",
       "114 75        77          78       79           80           74          76    \n",
       "115 76        76          76       80           83           75          80    \n",
       "116 75        75          80       79           81           79          76    \n",
       "117 73        75          79       75           76           80          76    \n",
       "118 74        74          77       74           74           73          74    \n",
       "119 73        73          78       79           80           79          77    \n",
       "120 73        73          78       77           76           77          75    \n",
       "121 75        75          77       79           77           78          77    \n",
       "122 74        73          78       80           74           76          76    \n",
       "123 73        74          78       75           76           78          74    \n",
       "124 74        75          79       81           76           76          76    \n",
       "125 76        76          76       81           80           75          78    \n",
       "126 72        73          77       77           77           73          71    \n",
       "127 75        75          79       81           81           77          78    \n",
       "128 73        74          79       80           81           79          79    \n",
       "129 72        74          80       78           74           78          77    \n",
       "130 73        72          78       78           76           74          76    \n",
       "131 73        76          80       75           79           80          75    \n",
       "132 75        77          79       80           75           77          75    \n",
       "133 75        75          78       79           76           78          75    \n",
       "134 73        73          74       77           75           75          68    \n",
       "    prologue_max sprint_max acceleration_max endurance_max resistance_max\n",
       "1   74           73         78               70            74            \n",
       "2   73           75         76               70            66            \n",
       "3   78           70         76               74            74            \n",
       "4   72           77         78               73            74            \n",
       "5   63           76         77               69            69            \n",
       "6   82           75         78               74            76            \n",
       "7   70           79         79               71            71            \n",
       "8   69           74         75               70            74            \n",
       "9   76           73         73               75            76            \n",
       "10  73           75         76               73            72            \n",
       "11  80           76         75               72            73            \n",
       "12  78           76         76               76            80            \n",
       "13  75           68         78               75            77            \n",
       "14  73           67         76               69            69            \n",
       "15  77           83         81               74            78            \n",
       "16  73           79         78               74            75            \n",
       "17  79           77         76               71            72            \n",
       "18  78           65         80               76            78            \n",
       "19  82           65         69               76            77            \n",
       "20  77           72         75               73            73            \n",
       "21  73           71         80               74            73            \n",
       "22  67           78         77               66            65            \n",
       "23  74           71         77               75            76            \n",
       "24  72           77         77               75            76            \n",
       "25  76           69         76               76            75            \n",
       "26  73           73         76               78            75            \n",
       "27  69           73         73               72            73            \n",
       "28  72           81         80               79            77            \n",
       "29  73           78         80               73            74            \n",
       "30  77           80         82               78            79            \n",
       "31  75           78         78               77            76            \n",
       "32  73           77         78               76            75            \n",
       "33  77           80         78               77            78            \n",
       "34  68           75         77               75            75            \n",
       "35  79           79         82               78            78            \n",
       "36  77           67         77               76            76            \n",
       "37  76           73         76               76            76            \n",
       "38  68           75         76               76            75            \n",
       "39  74           69         78               73            75            \n",
       "40  79           72         74               75            78            \n",
       "41  75           76         76               76            76            \n",
       "42  78           69         74               76            79            \n",
       "43  74           76         77               76            75            \n",
       "44  77           81         81               75            76            \n",
       "45  77           71         76               73            73            \n",
       "46  71           65         72               67            69            \n",
       "47  73           76         77               74            72            \n",
       "48  80           77         79               75            75            \n",
       "49  79           74         76               79            81            \n",
       "50  80           80         80               82            82            \n",
       "51  74           75         79               73            70            \n",
       "52  73           75         76               74            76            \n",
       "53  74           80         79               78            79            \n",
       "54  77           74         75               72            71            \n",
       "55  73           80         79               74            73            \n",
       "56  78           73         78               75            73            \n",
       "57  78           75         78               72            76            \n",
       "58  68           74         75               69            68            \n",
       "59  79           82         82               81            82            \n",
       "60  74           72         72               78            72            \n",
       "61  71           73         75               72            70            \n",
       "62  73           76         76               73            73            \n",
       "63  79           78         78               76            79            \n",
       "64  75           78         77               77            75            \n",
       "65  74           80         80               78            77            \n",
       "66  74           66         71               78            76            \n",
       "67  70           63         65               60            70            \n",
       "68  74           70         75               76            77            \n",
       "69  82           73         76               75            78            \n",
       "70  78           79         81               78            78            \n",
       "71  78           74         79               79            79            \n",
       "72  78           80         82               78            79            \n",
       "73  74           75         76               77            77            \n",
       "74  74           77         78               79            78            \n",
       "75  80           72         73               76            77            \n",
       "76  66           70         73               71            73            \n",
       "77  62           61         71               66            67            \n",
       "78  73           73         74               78            78            \n",
       "79  76           77         78               77            78            \n",
       "80  75           75         76               76            76            \n",
       "81  71           72         74               71            74            \n",
       "82  64           68         70               63            63            \n",
       "83  79           74         78               78            78            \n",
       "84  74           73         71               75            76            \n",
       "85  75           76         76               76            75            \n",
       "86  78           77         79               77            79            \n",
       "87  71           66         71               72            73            \n",
       "88  72           76         77               75            75            \n",
       "89  76           79         77               78            78            \n",
       "90  77           80         78               80            79            \n",
       "91  77           73         78               77            78            \n",
       "92  78           76         77               77            74            \n",
       "93  80           77         79               77            78            \n",
       "94  79           74         76               79            81            \n",
       "95  80           80         80               82            82            \n",
       "96  78           78         77               72            73            \n",
       "97  77           81         81               76            76            \n",
       "98  77           75         76               74            76            \n",
       "99  78           80         79               78            79            \n",
       "100 80           82         80               70            75            \n",
       "101 73           80         79               76            77            \n",
       "102 79           76         78               73            76            \n",
       "103 78           75         78               81            80            \n",
       "104 80           82         82               81            82            \n",
       "105 74           72         79               78            77            \n",
       "106 74           73         76               71            74            \n",
       "107 79           82         79               74            76            \n",
       "108 81           73         76               80            81            \n",
       "109 82           78         78               76            79            \n",
       "110 75           78         77               77            75            \n",
       "111 74           80         79               78            79            \n",
       "112 76           75         76               74            72            \n",
       "113 74           74         77               80            79            \n",
       "114 75           77         76               80            79            \n",
       "115 82           77         80               78            78            \n",
       "116 78           79         81               78            78            \n",
       "117 78           74         79               79            79            \n",
       "118 77           78         78               76            77            \n",
       "119 78           80         82               78            79            \n",
       "120 77           78         78               77            77            \n",
       "121 76           72         76               79            77            \n",
       "122 80           73         77               77            77            \n",
       "123 74           79         82               77            78            \n",
       "124 77           77         78               77            78            \n",
       "125 78           73         77               77            76            \n",
       "126 73           79         76               74            76            \n",
       "127 79           72         78               81            79            \n",
       "128 76           82         81               78            79            \n",
       "129 77           76         76               79            79            \n",
       "130 78           77         79               77            79            \n",
       "131 76           77         78               80            80            \n",
       "132 76           76         77               77            78            \n",
       "133 77           80         78               80            79            \n",
       "134 70           76         78               76            77            \n",
       "    recup_max hill_max attack_max flat_min mountain_min downhill_min\n",
       "1   76        76       75         64       56           66          \n",
       "2   71        75       76         65       54           63          \n",
       "3   75        78       81         63       71           64          \n",
       "4   76        78       76         64       62           65          \n",
       "5   75        75       74         62       54           62          \n",
       "6   78        77       81         66       61           67          \n",
       "7   76        77       81         67       55           67          \n",
       "8   77        78       77         63       65           64          \n",
       "9   79        77       71         69       55           65          \n",
       "10  71        78       77         60       55           67          \n",
       "11  76        75       78         71       57           65          \n",
       "12  78        79       82         72       56           65          \n",
       "13  78        80       78         66       56           63          \n",
       "14  72        76       70         61       68           63          \n",
       "15  72        75       79         68       56           69          \n",
       "16  74        78       73         66       55           64          \n",
       "17  73        76       75         69       55           62          \n",
       "18  82        80       74         62       61           63          \n",
       "19  79        76       73         64       55           61          \n",
       "20  76        78       79         64       57           66          \n",
       "21  75        80       82         65       64           67          \n",
       "22  71        73       76         64       54           61          \n",
       "23  74        77       77         67       71           66          \n",
       "24  75        76       79         65       61           63          \n",
       "25  77        78       77         68       72           68          \n",
       "26  83        78       81         67       68           66          \n",
       "27  73        73       81         63       61           61          \n",
       "28  76        78       81         69       61           67          \n",
       "29  74        74       76         67       60           66          \n",
       "30  75        76       78         67       61           66          \n",
       "31  76        80       76         67       61           62          \n",
       "32  75        76       79         63       62           65          \n",
       "33  79        76       77         73       60           66          \n",
       "34  74        75       79         64       60           63          \n",
       "35  76        80       82         72       60           65          \n",
       "36  75        78       79         68       67           68          \n",
       "37  81        78       79         69       70           64          \n",
       "38  74        76       76         67       64           63          \n",
       "39  75        77       75         68       70           68          \n",
       "40  77        78       79         67       62           67          \n",
       "41  77        76       79         66       62           63          \n",
       "42  79        77       78         69       71           66          \n",
       "43  75        79       82         67       62           66          \n",
       "44  73        80       78         70       60           63          \n",
       "45  75        76       79         64       59           66          \n",
       "46  73        74       74         62       56           63          \n",
       "47  79        78       79         65       60           66          \n",
       "48  76        78       75         60       64           65          \n",
       "49  77        79       81         71       60           66          \n",
       "50  77        78       80         69       54           65          \n",
       "51  72        77       75         66       58           64          \n",
       "52  74        77       76         67       58           64          \n",
       "53  68        77       71         72       55           66          \n",
       "54  75        78       77         64       62           61          \n",
       "55  78        74       76         65       53           67          \n",
       "56  77        77       75         69       58           61          \n",
       "57  81        78       78         66       62           67          \n",
       "58  71        76       76         60       56           61          \n",
       "59  72        80       78         65       59           65          \n",
       "60  74        74       78         66       59           64          \n",
       "61  77        77       77         68       56           62          \n",
       "62  72        76       71         63       55           66          \n",
       "63  76        78       77         69       60           66          \n",
       "64  78        80       75         64       59           66          \n",
       "65  75        80       76         69       59           68          \n",
       "66  74        76       80         62       62           60          \n",
       "67  70        62       63         68       60           68          \n",
       "68  77        75       81         63       69           63          \n",
       "69  76        78       82         67       68           68          \n",
       "70  79        79       78         71       63           67          \n",
       "71  76        75       76         73       61           66          \n",
       "72  76        77       79         73       61           68          \n",
       "73  74        78       79         66       61           66          \n",
       "74  74        76       79         68       60           64          \n",
       "75  74        73       75         67       62           65          \n",
       "76  68        72       78         72       64           72          \n",
       "77  69        72       64         65       75           64          \n",
       "78  74        80       79         69       60           63          \n",
       "79  76        77       76         66       63           66          \n",
       "80  77        77       79         67       66           64          \n",
       "81  74        74       76         68       60           66          \n",
       "82  65        63       72         67       60           66          \n",
       "83  78        77       76         67       63           66          \n",
       "84  74        76       77         67       61           64          \n",
       "85  73        76       77         68       61           61          \n",
       "86  79        78       77         72       66           66          \n",
       "87  69        71       75         70       71           70          \n",
       "88  75        77       80         67       63           63          \n",
       "89  79        77       81         67       66           69          \n",
       "90  80        78       78         69       62           63          \n",
       "91  80        80       74         65       66           64          \n",
       "92  79        79       81         65       60           66          \n",
       "93  82        79       78         66       61           65          \n",
       "94  76        79       76         69       60           66          \n",
       "95  77        78       80         68       58           63          \n",
       "96  77        77       79         66       57           66          \n",
       "97  77        77       77         68       58           65          \n",
       "98  74        77       78         67       58           66          \n",
       "99  73        78       73         68       55           66          \n",
       "100 77        79       78         65       55           65          \n",
       "101 78        79       83         69       53           69          \n",
       "102 78        78       78         68       56           61          \n",
       "103 81        82       81         66       63           70          \n",
       "104 78        82       78         70       58           65          \n",
       "105 79        79       80         61       55           66          \n",
       "106 78        78       79         68       64           67          \n",
       "107 77        78       77         66       56           62          \n",
       "108 82        81       81         65       55           65          \n",
       "109 79        78       77         69       60           61          \n",
       "110 78        80       80         64       60           64          \n",
       "111 76        81       82         65       59           63          \n",
       "112 72        75       78         67       54           66          \n",
       "113 80        78       81         68       68           65          \n",
       "114 77        80       81         69       71           66          \n",
       "115 83        80       82         69       68           66          \n",
       "116 79        79       79         70       63           67          \n",
       "117 76        76       82         69       61           66          \n",
       "118 78        77       81         69       63           64          \n",
       "119 76        82       82         73       61           68          \n",
       "120 78        78       79         66       62           66          \n",
       "121 78        80       79         70       62           64          \n",
       "122 76        78       81         67       63           68          \n",
       "123 76        79       82         71       60           65          \n",
       "124 76        78       79         71       63           68          \n",
       "125 82        81       78         70       71           67          \n",
       "126 76        76       81         67       63           65          \n",
       "127 80        79       78         70       69           66          \n",
       "128 80        76       80         69       60           67          \n",
       "129 77        76       79         70       61           63          \n",
       "130 79        78       77         72       61           66          \n",
       "131 74        77       80         67       62           65          \n",
       "132 75        79       82         69       66           68          \n",
       "133 80        79       82         69       64           63          \n",
       "134 76        76       75         67       61           61          \n",
       "    cobbles_min tt_min prologue_min sprint_min acceleration_min endurance_min\n",
       "1   53          58     61           55         66               63           \n",
       "2   55          59     58           60         63               63           \n",
       "3   54          58     60           57         64               67           \n",
       "4   55          58     59           55         59               60           \n",
       "5   55          56     58           58         63               60           \n",
       "6   60          65     64           58         62               65           \n",
       "7   57          61     63           60         64               65           \n",
       "8   54          59     61           55         58               62           \n",
       "9   55          68     71           60         62               67           \n",
       "10  54          56     59           57         59               58           \n",
       "11  62          63     69           57         60               65           \n",
       "12  62          60     63           55         60               66           \n",
       "13  57          63     64           54         55               63           \n",
       "14  54          59     61           55         61               61           \n",
       "15  52          63     65           58         64               66           \n",
       "16  55          61     63           54         60               65           \n",
       "17  54          61     63           63         66               64           \n",
       "18  53          57     60           56         54               67           \n",
       "19  54          57     59           53         62               62           \n",
       "20  54          61     62           57         59               63           \n",
       "21  54          55     58           58         64               65           \n",
       "22  54          56     57           53         57               59           \n",
       "23  60          62     61           61         69               68           \n",
       "24  60          60     62           63         69               64           \n",
       "25  60          66     66           63         66               69           \n",
       "26  60          60     62           61         65               65           \n",
       "27  60          60     61           61         64               61           \n",
       "28  60          63     61           64         69               67           \n",
       "29  60          62     66           60         67               67           \n",
       "30  60          62     66           62         67               68           \n",
       "31  60          62     62           60         65               68           \n",
       "32  60          60     60           61         65               65           \n",
       "33  62          61     61           60         66               68           \n",
       "34  60          60     61           61         61               61           \n",
       "35  64          63     62           62         69               66           \n",
       "36  60          69     67           61         67               66           \n",
       "37  60          62     64           62         65               66           \n",
       "38  60          60     60           65         68               66           \n",
       "39  60          65     65           62         63               67           \n",
       "40  60          64     64           62         65               68           \n",
       "41  60          63     65           61         67               68           \n",
       "42  60          65     63           62         66               66           \n",
       "43  60          62     64           60         66               69           \n",
       "44  60          63     64           66         68               66           \n",
       "45  55          58     61           54         58               63           \n",
       "46  54          59     59           56         64               59           \n",
       "47  54          62     60           58         60               67           \n",
       "48  60          60     63           57         60               61           \n",
       "49  57          62     68           58         60               67           \n",
       "50  60          59     62           61         61               66           \n",
       "51  54          58     64           58         55               66           \n",
       "52  55          59     62           55         61               62           \n",
       "53  57          57     61           58         62               67           \n",
       "54  58          63     64           52         60               60           \n",
       "55  59          61     61           59         57               65           \n",
       "56  57          67     68           58         65               62           \n",
       "57  57          61     64           57         65               66           \n",
       "58  53          56     57           55         58               59           \n",
       "59  57          62     63           61         68               65           \n",
       "60  55          61     64           54         60               65           \n",
       "61  54          61     63           60         67               66           \n",
       "62  53          62     65           59         64               62           \n",
       "63  63          66     68           62         68               68           \n",
       "64  60          64     64           58         64               67           \n",
       "65  59          57     60           64         64               61           \n",
       "66  60          62     60           61         64               68           \n",
       "67  62          72     70           63         65               60           \n",
       "68  60          64     64           60         65               63           \n",
       "69  60          60     62           61         65               65           \n",
       "70  60          60     62           64         66               70           \n",
       "71  62          67     69           66         68               68           \n",
       "72  60          62     64           61         68               71           \n",
       "73  61          65     65           62         67               65           \n",
       "74  60          63     66           61         65               68           \n",
       "75  60          61     64           61         65               66           \n",
       "76  65          62     66           66         68               69           \n",
       "77  60          62     62           61         71               66           \n",
       "78  64          60     62           62         66               67           \n",
       "79  60          64     64           60         66               66           \n",
       "80  60          62     65           61         65               66           \n",
       "81  60          64     65           60         60               67           \n",
       "82  63          61     64           68         70               63           \n",
       "83  60          63     66           62         70               69           \n",
       "84  62          63     63           63         68               68           \n",
       "85  60          63     65           63         65               66           \n",
       "86  62          70     70           63         67               67           \n",
       "87  60          65     66           64         70               69           \n",
       "88  62          62     65           62         66               66           \n",
       "89  60          64     67           64         66               69           \n",
       "90  60          63     62           63         68               68           \n",
       "91  54          60     62           56         59               63           \n",
       "92  54          62     60           58         60               67           \n",
       "93  55          65     62           60         64               66           \n",
       "94  57          62     69           58         60               67           \n",
       "95  58          64     64           55         61               65           \n",
       "96  53          63     64           60         68               67           \n",
       "97  58          58     65           60         64               60           \n",
       "98  59          62     62           55         64               65           \n",
       "99  55          57     61           56         62               66           \n",
       "100 57          62     65           59         60               64           \n",
       "101 55          62     62           59         64               67           \n",
       "102 59          63     66           57         59               62           \n",
       "103 61          61     64           57         64               70           \n",
       "104 64          63     63           65         66               65           \n",
       "105 57          63     62           53         60               65           \n",
       "106 55          59     60           64         66               64           \n",
       "107 59          60     61           59         68               65           \n",
       "108 55          66     66           59         67               65           \n",
       "109 54          66     66           53         62               63           \n",
       "110 57          58     61           58         66               65           \n",
       "111 53          57     60           62         64               61           \n",
       "112 59          59     61           57         65               66           \n",
       "113 60          64     64           61         66               71           \n",
       "114 60          68     68           69         69               70           \n",
       "115 62          65     68           64         72               71           \n",
       "116 60          69     69           63         67               70           \n",
       "117 60          66     68           64         68               68           \n",
       "118 60          64     65           65         67               68           \n",
       "119 60          62     64           61         68               71           \n",
       "120 60          62     65           62         68               67           \n",
       "121 60          68     67           64         71               71           \n",
       "122 62          68     69           63         69               72           \n",
       "123 64          64     65           62         66               69           \n",
       "124 60          66     68           64         67               68           \n",
       "125 60          66     66           61         66               70           \n",
       "126 62          63     65           62         61               67           \n",
       "127 62          63     67           65         70               73           \n",
       "128 60          60     61           62         66               74           \n",
       "129 63          63     66           65         71               70           \n",
       "130 62          65     66           63         66               66           \n",
       "131 62          62     65           60         66               68           \n",
       "132 62          63     64           62         71               71           \n",
       "133 60          64     70           63         66               73           \n",
       "134 60          60     60           65         65               67           \n",
       "    resistance_min recup_min hill_min attack_min Top10 Top5 Top4 Top3\n",
       "1   63             60        64       63         1     0    0    0   \n",
       "2   62             65        60       61         1     1    0    0   \n",
       "3   67             68        73       67         0     0    0    0   \n",
       "4   62             65        70       59         1     1    1    1   \n",
       "5   60             60        62       55         1     0    0    0   \n",
       "6   67             66        70       57         1     1    1    1   \n",
       "7   65             66        68       61         1     1    1    1   \n",
       "8   65             67        69       55         1     1    0    0   \n",
       "9   67             68        68       59         0     0    0    0   \n",
       "10  60             62        61       61         1     0    0    0   \n",
       "11  67             63        68       63         1     1    1    0   \n",
       "12  64             62        62       61         1     1    0    0   \n",
       "13  63             62        62       65         0     0    0    0   \n",
       "14  62             64        66       63         0     0    0    0   \n",
       "15  63             65        66       60         1     1    1    1   \n",
       "16  65             65        63       58         1     1    1    1   \n",
       "17  64             67        67       64         1     1    1    1   \n",
       "18  67             67        72       67         0     0    0    0   \n",
       "19  63             66        66       61         0     0    0    0   \n",
       "20  64             63        65       60         1     0    0    0   \n",
       "21  68             68        72       64         1     0    0    0   \n",
       "22  57             56        59       57         1     1    1    1   \n",
       "23  70             68        70       69         0     0    0    0   \n",
       "24  67             63        71       68         1     0    0    0   \n",
       "25  72             68        72       69         0     0    0    0   \n",
       "26  70             65        72       69         0     0    0    0   \n",
       "27  61             62        64       63         1     0    0    0   \n",
       "28  72             66        66       62         1     1    1    1   \n",
       "29  70             65        62       62         1     0    0    0   \n",
       "30  72             67        66       64         1     1    1    1   \n",
       "31  69             65        66       60         1     1    0    0   \n",
       "32  67             67        71       64         1     0    0    0   \n",
       "33  72             66        66       64         1     1    1    1   \n",
       "34  63             61        60       65         1     1    0    0   \n",
       "35  74             68        65       66         1     1    1    1   \n",
       "36  72             68        71       70         0     0    0    0   \n",
       "37  72             67        72       66         0     0    0    0   \n",
       "38  67             62        67       60         1     1    1    1   \n",
       "39  71             67        73       69         1     0    0    0   \n",
       "40  71             69        66       66         0     0    0    0   \n",
       "41  69             66        68       63         1     0    0    0   \n",
       "42  71             68        71       68         0     0    0    0   \n",
       "43  67             62        66       65         1     1    1    0   \n",
       "44  68             64        68       63         1     1    1    1   \n",
       "45  63             63        65       65         0     0    0    0   \n",
       "46  61             58        64       60         0     0    0    0   \n",
       "47  66             63        69       66         0     0    0    0   \n",
       "48  65             62        69       60         1     0    0    0   \n",
       "49  67             68        72       64         0     0    0    0   \n",
       "50  68             61        61       61         1     1    1    0   \n",
       "51  64             63        61       63         1     0    0    0   \n",
       "52  57             60        65       65         0     0    0    0   \n",
       "53  64             65        62       55         1     1    1    1   \n",
       "54  60             59        63       65         0     0    0    0   \n",
       "55  66             66        66       61         1     0    0    0   \n",
       "56  66             63        64       65         0     0    0    0   \n",
       "57  66             67        71       59         0     0    0    0   \n",
       "58  61             62        65       60         0     0    0    0   \n",
       "59  63             65        65       63         1     1    1    1   \n",
       "60  66             65        67       62         0     0    0    0   \n",
       "61  64             64        66       64         0     0    0    0   \n",
       "62  64             63        66       61         0     0    0    0   \n",
       "63  67             68        69       63         1     0    0    0   \n",
       "64  66             62        67       64         1     1    0    0   \n",
       "65  62             64        64       60         1     1    1    1   \n",
       "66  66             64        67       68         0     0    0    0   \n",
       "67  70             70        62       63         0     0    0    0   \n",
       "68  65             66        66       62         0     0    0    0   \n",
       "69  70             65        72       69         1     1    1    0   \n",
       "70  73             66        67       69         1     1    1    1   \n",
       "71  73             65        65       66         0     0    0    0   \n",
       "72  74             71        67       64         1     1    1    1   \n",
       "73  67             67        65       69         1     0    0    0   \n",
       "74  69             64        66       66         0     0    0    0   \n",
       "75  68             63        68       66         1     0    0    0   \n",
       "76  71             67        70       71         1     0    0    0   \n",
       "77  67             69        72       64         0     0    0    0   \n",
       "78  69             62        62       65         0     0    0    0   \n",
       "79  68             66        64       66         0     0    0    0   \n",
       "80  72             66        72       66         0     0    0    0   \n",
       "81  69             65        65       66         0     0    0    0   \n",
       "82  63             65        63       72         0     0    0    0   \n",
       "83  73             65        71       70         1     1    0    0   \n",
       "84  71             63        69       67         0     0    0    0   \n",
       "85  69             62        68       66         0     0    0    0   \n",
       "86  72             65        68       66         1     0    0    0   \n",
       "87  70             66        71       71         0     0    0    0   \n",
       "88  68             61        69       62         1     0    0    0   \n",
       "89  70             66        69       66         1     1    1    1   \n",
       "90  72             64        70       68         0     0    0    0   \n",
       "91  63             66        71       65         0     0    0    0   \n",
       "92  66             68        69       66         1     0    0    0   \n",
       "93  66             63        71       61         1     1    1    1   \n",
       "94  67             68        72       64         1     1    0    0   \n",
       "95  65             61        66       58         1     1    1    1   \n",
       "96  67             66        71       66         1     1    1    1   \n",
       "97  61             62        65       55         1     1    1    0   \n",
       "98  65             60        68       65         1     0    0    0   \n",
       "99  64             65        62       55         1     1    1    1   \n",
       "100 64             66        61       62         1     1    1    1   \n",
       "101 66             66        66       61         1     1    1    1   \n",
       "102 66             63        64       64         1     0    0    0   \n",
       "103 67             62        71       59         1     0    0    0   \n",
       "104 63             65        65       63         1     1    1    1   \n",
       "105 66             66        63       62         1     0    0    0   \n",
       "106 64             63        70       67         0     0    0    0   \n",
       "107 65             64        65       62         1     1    1    1   \n",
       "108 67             63        64       59         0     0    0    0   \n",
       "109 67             68        69       61         1     0    0    0   \n",
       "110 66             65        67       64         1     1    1    1   \n",
       "111 62             64        64       61         1     1    1    1   \n",
       "112 66             64        70       55         1     0    0    0   \n",
       "113 69             62        73       72         1     0    0    0   \n",
       "114 71             67        72       69         0     0    0    0   \n",
       "115 73             70        73       70         1     1    1    0   \n",
       "116 74             66        71       69         1     1    1    1   \n",
       "117 73             67        70       67         1     0    0    0   \n",
       "118 66             68        71       69         1     0    0    0   \n",
       "119 74             71        67       64         1     1    1    1   \n",
       "120 68             67        70       62         1     1    1    0   \n",
       "121 72             66        68       68         0     0    0    0   \n",
       "122 70             67        66       62         0     0    0    0   \n",
       "123 71             68        65       67         1     1    1    1   \n",
       "124 72             71        66       66         1     0    0    0   \n",
       "125 72             71        73       73         0     0    0    0   \n",
       "126 70             65        66       69         1     0    0    0   \n",
       "127 73             74        71       70         0     0    0    0   \n",
       "128 73             65        66       63         1     1    1    1   \n",
       "129 73             68        66       66         1     1    0    0   \n",
       "130 72             64        68       66         1     1    1    0   \n",
       "131 68             61        70       72         1     1    1    1   \n",
       "132 72             71        72       70         1     0    0    0   \n",
       "133 73             68        70       67         1     1    1    1   \n",
       "134 70             62        67       69         1     0    0    0   "
      ]
     },
     "metadata": {},
     "output_type": "display_data"
    }
   ],
   "source": [
    "basetable_val"
   ]
  },
  {
   "cell_type": "code",
   "execution_count": 256,
   "id": "38224bcb",
   "metadata": {
    "scrolled": true
   },
   "outputs": [],
   "source": [
    "set.seed(123)\n",
    "train <- basetable_train\n",
    "yTRAIN <- train$Top5\n",
    "train$Top10 = NULL\n",
    "train$Top5 = NULL\n",
    "train$Top4 = NULL\n",
    "train$Top3 = NULL\n",
    "\n",
    "test <- basetable_val\n",
    "yTEST <- test$Top5\n",
    "test$Top10 = NULL\n",
    "test$Top5 = NULL\n",
    "test$Top4 = NULL\n",
    "test$Top3 = NULL"
   ]
  },
  {
   "cell_type": "markdown",
   "id": "ce90f6ae",
   "metadata": {},
   "source": [
    "### Random Forest"
   ]
  },
  {
   "cell_type": "code",
   "execution_count": 257,
   "id": "8e7b51fb",
   "metadata": {},
   "outputs": [
    {
     "data": {
      "text/html": [
       "0.852720450281426"
      ],
      "text/latex": [
       "0.852720450281426"
      ],
      "text/markdown": [
       "0.852720450281426"
      ],
      "text/plain": [
       "[1] 0.8527205"
      ]
     },
     "metadata": {},
     "output_type": "display_data"
    }
   ],
   "source": [
    "set.seed(123)\n",
    "#fit\n",
    "rFmodel <- randomForest(x=train, y = yTRAIN, ntree = 1000,mtry=15)\n",
    "# predict on second set (test)\n",
    "predictions <- predict(rFmodel, test, type = \"prob\")[, 2]\n",
    "\n",
    "AUC::auc(roc(predictions,factor(yTEST)))"
   ]
  },
  {
   "cell_type": "code",
   "execution_count": 258,
   "id": "9aec2dad",
   "metadata": {},
   "outputs": [],
   "source": [
    "auc = AUC::auc(roc(predictions,factor(yTEST)))"
   ]
  },
  {
   "cell_type": "code",
   "execution_count": 259,
   "id": "62ce39ce",
   "metadata": {},
   "outputs": [],
   "source": [
    "res = ifelse(predictions>=0.5,1,0)\n",
    "true_outcome = yTEST"
   ]
  },
  {
   "cell_type": "code",
   "execution_count": 260,
   "id": "64f21d64",
   "metadata": {
    "scrolled": true
   },
   "outputs": [
    {
     "data": {
      "text/plain": [
       "          Reference\n",
       "Prediction  0  1\n",
       "         0 52  6\n",
       "         1 30 46"
      ]
     },
     "metadata": {},
     "output_type": "display_data"
    },
    {
     "data": {
      "text/html": [
       "<span style=white-space:pre-wrap>'AUC:  0.852720450281426'</span>"
      ],
      "text/latex": [
       "'AUC:  0.852720450281426'"
      ],
      "text/markdown": [
       "<span style=white-space:pre-wrap>'AUC:  0.852720450281426'</span>"
      ],
      "text/plain": [
       "[1] \"AUC:  0.852720450281426\""
      ]
     },
     "metadata": {},
     "output_type": "display_data"
    },
    {
     "data": {
      "text/html": [
       "<span style=white-space:pre-wrap>'Accuracy:  0.73134328358209'</span>"
      ],
      "text/latex": [
       "'Accuracy:  0.73134328358209'"
      ],
      "text/markdown": [
       "<span style=white-space:pre-wrap>'Accuracy:  0.73134328358209'</span>"
      ],
      "text/plain": [
       "[1] \"Accuracy:  0.73134328358209\""
      ]
     },
     "metadata": {},
     "output_type": "display_data"
    },
    {
     "data": {
      "text/html": [
       "<span style=white-space:pre-wrap>'Recall:  0.884615384615385'</span>"
      ],
      "text/latex": [
       "'Recall:  0.884615384615385'"
      ],
      "text/markdown": [
       "<span style=white-space:pre-wrap>'Recall:  0.884615384615385'</span>"
      ],
      "text/plain": [
       "[1] \"Recall:  0.884615384615385\""
      ]
     },
     "metadata": {},
     "output_type": "display_data"
    },
    {
     "data": {
      "text/html": [
       "<span style=white-space:pre-wrap>'Precision:  0.605263157894737'</span>"
      ],
      "text/latex": [
       "'Precision:  0.605263157894737'"
      ],
      "text/markdown": [
       "<span style=white-space:pre-wrap>'Precision:  0.605263157894737'</span>"
      ],
      "text/plain": [
       "[1] \"Precision:  0.605263157894737\""
      ]
     },
     "metadata": {},
     "output_type": "display_data"
    }
   ],
   "source": [
    "confusionMatrix(as.factor(res), as.factor(true_outcome))[[2]]\n",
    "TN =(confusionMatrix(as.factor(res), as.factor(true_outcome)))[[2]][1,1]\n",
    "TP = (confusionMatrix(as.factor(res), as.factor(true_outcome)))[[2]][2,2]\n",
    "FN = (confusionMatrix(as.factor(res), as.factor(true_outcome)))[[2]][1,2]\n",
    "FP = (confusionMatrix(as.factor(res), as.factor(true_outcome)))[[2]][2,1]\n",
    "\n",
    "accuracy = (TP+TN)/(TP+FP+TN+FN)\n",
    "recall = TP/(TP+FN)\n",
    "precision = TP/(TP+FP)\n",
    "\n",
    "paste(\"AUC: \", auc)\n",
    "paste(\"Accuracy: \", accuracy)\n",
    "paste(\"Recall: \", recall)\n",
    "paste(\"Precision: \", precision)"
   ]
  },
  {
   "cell_type": "markdown",
   "id": "da77b8ca",
   "metadata": {},
   "source": [
    "### Ranger"
   ]
  },
  {
   "cell_type": "code",
   "execution_count": 261,
   "id": "06a34dce",
   "metadata": {},
   "outputs": [
    {
     "data": {
      "text/html": [
       "0.858348968105066"
      ],
      "text/latex": [
       "0.858348968105066"
      ],
      "text/markdown": [
       "0.858348968105066"
      ],
      "text/plain": [
       "[1] 0.858349"
      ]
     },
     "metadata": {},
     "output_type": "display_data"
    }
   ],
   "source": [
    "#fit\n",
    "model <- ranger(x=train, y = yTRAIN, num.trees = 1000, mtry = 8,min.node.size = 13, sample.fraction = 0.75, probability = TRUE, seed = 123)\n",
    "# predict on second set (test)\n",
    "predictions =  predict(model,test)$predictions[,2]\n",
    "\n",
    "AUC::auc(roc(predictions,factor(yTEST)))"
   ]
  },
  {
   "cell_type": "code",
   "execution_count": 262,
   "id": "4dbccb23",
   "metadata": {},
   "outputs": [],
   "source": [
    "auc = AUC::auc(roc(predictions,factor(yTEST)))"
   ]
  },
  {
   "cell_type": "code",
   "execution_count": 263,
   "id": "60f740e9",
   "metadata": {},
   "outputs": [],
   "source": [
    "res = ifelse(predictions>=0.5,1,0)\n",
    "true_outcome = yTEST"
   ]
  },
  {
   "cell_type": "code",
   "execution_count": 264,
   "id": "4476de1c",
   "metadata": {},
   "outputs": [
    {
     "data": {
      "text/plain": [
       "          Reference\n",
       "Prediction  0  1\n",
       "         0 53  5\n",
       "         1 29 47"
      ]
     },
     "metadata": {},
     "output_type": "display_data"
    },
    {
     "data": {
      "text/html": [
       "<span style=white-space:pre-wrap>'AUC:  0.858348968105066'</span>"
      ],
      "text/latex": [
       "'AUC:  0.858348968105066'"
      ],
      "text/markdown": [
       "<span style=white-space:pre-wrap>'AUC:  0.858348968105066'</span>"
      ],
      "text/plain": [
       "[1] \"AUC:  0.858348968105066\""
      ]
     },
     "metadata": {},
     "output_type": "display_data"
    },
    {
     "data": {
      "text/html": [
       "<span style=white-space:pre-wrap>'Accuracy:  0.746268656716418'</span>"
      ],
      "text/latex": [
       "'Accuracy:  0.746268656716418'"
      ],
      "text/markdown": [
       "<span style=white-space:pre-wrap>'Accuracy:  0.746268656716418'</span>"
      ],
      "text/plain": [
       "[1] \"Accuracy:  0.746268656716418\""
      ]
     },
     "metadata": {},
     "output_type": "display_data"
    },
    {
     "data": {
      "text/html": [
       "<span style=white-space:pre-wrap>'Recall:  0.903846153846154'</span>"
      ],
      "text/latex": [
       "'Recall:  0.903846153846154'"
      ],
      "text/markdown": [
       "<span style=white-space:pre-wrap>'Recall:  0.903846153846154'</span>"
      ],
      "text/plain": [
       "[1] \"Recall:  0.903846153846154\""
      ]
     },
     "metadata": {},
     "output_type": "display_data"
    },
    {
     "data": {
      "text/html": [
       "<span style=white-space:pre-wrap>'Precision:  0.618421052631579'</span>"
      ],
      "text/latex": [
       "'Precision:  0.618421052631579'"
      ],
      "text/markdown": [
       "<span style=white-space:pre-wrap>'Precision:  0.618421052631579'</span>"
      ],
      "text/plain": [
       "[1] \"Precision:  0.618421052631579\""
      ]
     },
     "metadata": {},
     "output_type": "display_data"
    }
   ],
   "source": [
    "confusionMatrix(as.factor(res), as.factor(true_outcome))[[2]]\n",
    "TN =(confusionMatrix(as.factor(res), as.factor(true_outcome)))[[2]][1,1]\n",
    "TP = (confusionMatrix(as.factor(res), as.factor(true_outcome)))[[2]][2,2]\n",
    "FN = (confusionMatrix(as.factor(res), as.factor(true_outcome)))[[2]][1,2]\n",
    "FP = (confusionMatrix(as.factor(res), as.factor(true_outcome)))[[2]][2,1]\n",
    "\n",
    "accuracy = (TP+TN)/(TP+FP+TN+FN)\n",
    "recall = TP/(TP+FN)\n",
    "precision = TP/(TP+FP)\n",
    "\n",
    "paste(\"AUC: \", auc)\n",
    "paste(\"Accuracy: \", accuracy)\n",
    "paste(\"Recall: \", recall)\n",
    "paste(\"Precision: \", precision)"
   ]
  }
 ],
 "metadata": {
  "hide_input": false,
  "kernelspec": {
   "display_name": "R",
   "language": "R",
   "name": "ir"
  },
  "language_info": {
   "codemirror_mode": "r",
   "file_extension": ".r",
   "mimetype": "text/x-r-source",
   "name": "R",
   "pygments_lexer": "r",
   "version": "3.6.1"
  }
 },
 "nbformat": 4,
 "nbformat_minor": 5
}
