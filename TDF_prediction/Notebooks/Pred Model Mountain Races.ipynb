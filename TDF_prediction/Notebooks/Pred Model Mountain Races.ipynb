{
 "cells": [
  {
   "cell_type": "code",
   "execution_count": null,
   "id": "a79d6c53",
   "metadata": {
    "vscode": {
     "languageId": "r"
    }
   },
   "outputs": [
    {
     "ename": "",
     "evalue": "",
     "output_type": "error",
     "traceback": [
      "\u001b[1;31mFailed to start the Kernel. \n",
      "dyld[12757]: Library not loaded: @rpath/libreadline.6.2.dylib\n",
      "  Referenced from: /opt/anaconda3/lib/R/lib/libR.dylib\n",
      "  Reason: tried: '/opt/anaconda3/lib/R/lib/../../libreadline.6.2.dylib' (no such file), '/opt/anaconda3/lib/R/bin/exec/../../../libreadline.6.2.dylib' (no such file), '/opt/anaconda3/lib/R/bin/exec/../../../libreadline.6.2.dylib' (no such file), '/opt/anaconda3/lib/R/lib/libreadline.6.2.dylib' (no such file), '/opt/anaconda3/lib/libreadline.6.2.dylib' (no such file), '/opt/anaconda3/libreadline.6.2.dylib' (no such file). \n",
      "View Jupyter <a href='command:jupyter.viewOutput'>log</a> for further details."
     ]
    }
   ],
   "source": [
    "library(pacman)\n",
    "p_load(lubridate, AUC, tidyverse)\n",
    "\n",
    "p_load(magrittr) \n",
    "p_load(dplyr)\n",
    "p_load(tidyverse)\n",
    "p_load(tidyr)\n",
    "p_load(pacman)\n",
    "p_load(rlist)\n",
    "p_load(dummy)\n",
    "p_load(e1071)\n",
    "p_load(ROSE)\n",
    "p_load(rotationForest)\n",
    "p_load(xgboost)"
   ]
  },
  {
   "cell_type": "code",
   "execution_count": null,
   "id": "070d509d",
   "metadata": {
    "vscode": {
     "languageId": "r"
    }
   },
   "outputs": [
    {
     "ename": "",
     "evalue": "",
     "output_type": "error",
     "traceback": [
      "\u001b[1;31mFailed to start the Kernel. \n",
      "dyld[12757]: Library not loaded: @rpath/libreadline.6.2.dylib\n",
      "  Referenced from: /opt/anaconda3/lib/R/lib/libR.dylib\n",
      "  Reason: tried: '/opt/anaconda3/lib/R/lib/../../libreadline.6.2.dylib' (no such file), '/opt/anaconda3/lib/R/bin/exec/../../../libreadline.6.2.dylib' (no such file), '/opt/anaconda3/lib/R/bin/exec/../../../libreadline.6.2.dylib' (no such file), '/opt/anaconda3/lib/R/lib/libreadline.6.2.dylib' (no such file), '/opt/anaconda3/lib/libreadline.6.2.dylib' (no such file), '/opt/anaconda3/libreadline.6.2.dylib' (no such file). \n",
      "View Jupyter <a href='command:jupyter.viewOutput'>log</a> for further details."
     ]
    }
   ],
   "source": [
    "p_load(caret)\n",
    "\n",
    "p_load(FNN)\n",
    "\n",
    "p_load(randomForest)\n",
    "\n",
    "options(repr.matrix.max.cols=1000, repr.matrix.max.rows=1000)"
   ]
  },
  {
   "cell_type": "code",
   "execution_count": null,
   "id": "9edae20a",
   "metadata": {
    "vscode": {
     "languageId": "r"
    }
   },
   "outputs": [
    {
     "ename": "",
     "evalue": "",
     "output_type": "error",
     "traceback": [
      "\u001b[1;31mFailed to start the Kernel. \n",
      "dyld[12757]: Library not loaded: @rpath/libreadline.6.2.dylib\n",
      "  Referenced from: /opt/anaconda3/lib/R/lib/libR.dylib\n",
      "  Reason: tried: '/opt/anaconda3/lib/R/lib/../../libreadline.6.2.dylib' (no such file), '/opt/anaconda3/lib/R/bin/exec/../../../libreadline.6.2.dylib' (no such file), '/opt/anaconda3/lib/R/bin/exec/../../../libreadline.6.2.dylib' (no such file), '/opt/anaconda3/lib/R/lib/libreadline.6.2.dylib' (no such file), '/opt/anaconda3/lib/libreadline.6.2.dylib' (no such file), '/opt/anaconda3/libreadline.6.2.dylib' (no such file). \n",
      "View Jupyter <a href='command:jupyter.viewOutput'>log</a> for further details."
     ]
    }
   ],
   "source": [
    "p_load(ranger)"
   ]
  },
  {
   "cell_type": "markdown",
   "id": "b3088e99",
   "metadata": {},
   "source": [
    "# Building basetable"
   ]
  },
  {
   "cell_type": "code",
   "execution_count": null,
   "id": "39abb9b3",
   "metadata": {
    "vscode": {
     "languageId": "r"
    }
   },
   "outputs": [
    {
     "data": {
      "text/html": [
       "<table>\n",
       "<thead><tr><th scope=col>Pos</th><th scope=col>Rider</th><th scope=col>Team</th><th scope=col>Time</th><th scope=col>Rider_ID</th><th scope=col>Rider_Country</th><th scope=col>Team_ID</th><th scope=col>Year</th><th scope=col>Stage</th><th scope=col>UCI</th><th scope=col>ID</th><th scope=col>Stage.Type</th><th scope=col>Race</th><th scope=col>Family.Name</th><th scope=col>Given.Name</th><th scope=col>Name</th><th scope=col>Region</th><th scope=col>Birthday</th><th scope=col>Popularity</th><th scope=col>Size</th><th scope=col>Weight</th><th scope=col>FLAT</th><th scope=col>MOUNTAIN</th><th scope=col>DOWNHILL</th><th scope=col>COBBLES</th><th scope=col>TT</th><th scope=col>PROLOGUE</th><th scope=col>SPRINT</th><th scope=col>ACCELERATION</th><th scope=col>ENDURANCE</th><th scope=col>RESISTANCE</th><th scope=col>RECUP</th><th scope=col>HILL</th><th scope=col>ATTACK</th><th scope=col>gene_sz_firstlastname</th><th scope=col>gene_f_popularity_max</th><th scope=col>value_i_rank_voted</th><th scope=col>value_i_potentiel</th><th scope=col>fkIDrace</th><th scope=col>fkIDcyclist_state</th><th scope=col>fkIDtype_rider</th><th scope=col>fkIDinjury</th><th scope=col>fkIDtga_skin</th><th scope=col>prerace_i_cyclist</th><th scope=col>race_b_withdrawal</th><th scope=col>fkIDstaff_physician</th><th scope=col>fkIDstaff_trainer</th><th scope=col>limit_i_plain</th><th scope=col>limit_i_mountain</th><th scope=col>limit_i_downhilling</th><th scope=col>limit_i_cobble</th><th scope=col>limit_i_timetrial</th><th scope=col>limit_i_prologue</th><th scope=col>limit_i_sprint</th><th scope=col>limit_i_acceleration</th><th scope=col>limit_i_endurance</th><th scope=col>limit_i_resistance</th><th scope=col>limit_i_recuperation</th><th scope=col>limit_i_hill</th><th scope=col>limit_i_baroudeur</th><th scope=col>fitness_i_handicap</th><th scope=col>gene_b_selected_in_roster</th><th scope=col>gene_b_will_retire</th><th scope=col>fkIDtraining_camp</th><th scope=col>gene_i_dossard</th><th scope=col>gene_i_champion_bit</th><th scope=col>gene_b_nominated</th><th scope=col>CONSTANT</th><th scope=col>gene_sz_soundname</th><th scope=col>fkIDstate_roster</th><th scope=col>gene_b_inshortlist</th><th scope=col>gene_i_date_last_breakaway</th><th scope=col>gene_i_date_last_punchers</th><th scope=col>gene_ilist_fkIDfavorite_races</th><th scope=col>gene_i_year_progression</th><th scope=col>gene_i_day_progression</th></tr></thead>\n",
       "<tbody>\n",
       "\t<tr><td>1                             </td><td>amador andrey                 </td><td>Movistar Team                 </td><td>05:33:36                      </td><td> 745                          </td><td>CRC                           </td><td>5                             </td><td>2012                          </td><td>14                            </td><td>NA                            </td><td> 432                          </td><td>Mountain                      </td><td>Giro                          </td><td>Amador Bikkazakova            </td><td>Andrey                        </td><td>A.Amador Bikkazakova          </td><td>6101                          </td><td>19860829                      </td><td>21                            </td><td>180                           </td><td>73                            </td><td>65                            </td><td>69                            </td><td>65                            </td><td>53                            </td><td>68                            </td><td>68                            </td><td>60                            </td><td>66                            </td><td>65                            </td><td>65                            </td><td>68                            </td><td>68                            </td><td>63                            </td><td>A.Amador Bikkazakova          </td><td>0                             </td><td>0                             </td><td>5                             </td><td>0                             </td><td>3                             </td><td>0                             </td><td>0                             </td><td> 0                            </td><td>0                             </td><td>0                             </td><td>0                             </td><td>0                             </td><td>0                             </td><td>0                             </td><td>0                             </td><td>0                             </td><td>0                             </td><td>0                             </td><td>0                             </td><td>0                             </td><td>0                             </td><td>0                             </td><td>0                             </td><td>0                             </td><td>0                             </td><td>0                             </td><td>0                             </td><td>0                             </td><td>0                             </td><td>0                             </td><td>0                             </td><td>0                             </td><td>                              </td><td>                              </td><td>0                             </td><td>0                             </td><td>0                             </td><td>0                             </td><td>                              </td><td>0                             </td><td>0                             </td></tr>\n",
       "\t<tr><td>2                             </td><td>barta jan                     </td><td>Team NetApp                   </td><td>+ 00                          </td><td> 990                          </td><td>CZE                           </td><td>57                            </td><td>2012                          </td><td>14                            </td><td>NA                            </td><td>2280                          </td><td>Mountain                      </td><td>Giro                          </td><td>Bárta                         </td><td>Jan                           </td><td>J.Bárta                       </td><td>3301                          </td><td>19841207                      </td><td>11                            </td><td>184                           </td><td>73                            </td><td>68                            </td><td>63                            </td><td>67                            </td><td>58                            </td><td>68                            </td><td>67                            </td><td>61                            </td><td>66                            </td><td>64                            </td><td>67                            </td><td>64                            </td><td>66                            </td><td>72                            </td><td>J.Bárta                       </td><td>0                             </td><td>0                             </td><td>4                             </td><td>0                             </td><td>3                             </td><td>0                             </td><td>0                             </td><td> 0                            </td><td>0                             </td><td>0                             </td><td>0                             </td><td>0                             </td><td>0                             </td><td>0                             </td><td>0                             </td><td>0                             </td><td>0                             </td><td>0                             </td><td>0                             </td><td>0                             </td><td>0                             </td><td>0                             </td><td>0                             </td><td>0                             </td><td>0                             </td><td>0                             </td><td>0                             </td><td>0                             </td><td>0                             </td><td>0                             </td><td>0                             </td><td>0                             </td><td>                              </td><td>                              </td><td>0                             </td><td>0                             </td><td>0                             </td><td>0                             </td><td>                              </td><td>0                             </td><td>0                             </td></tr>\n",
       "\t<tr><td>3                             </td><td>de marchi alessandro          </td><td>Androni Giocattoli - Venezuela</td><td>+ 02                          </td><td>3103                          </td><td>ITA                           </td><td>23                            </td><td>2012                          </td><td>14                            </td><td>NA                            </td><td>2400                          </td><td>Mountain                      </td><td>Giro                          </td><td>De Marchi                     </td><td>Alessandro                    </td><td>A.De Marchi                   </td><td> 201                          </td><td>19860519                      </td><td> 7                            </td><td>181                           </td><td>68                            </td><td>65                            </td><td>63                            </td><td>63                            </td><td>53                            </td><td>64                            </td><td>64                            </td><td>61                            </td><td>60                            </td><td>65                            </td><td>64                            </td><td>62                            </td><td>65                            </td><td>64                            </td><td>A.De Marchi                   </td><td>0                             </td><td>0                             </td><td>3                             </td><td>0                             </td><td>3                             </td><td>0                             </td><td>0                             </td><td> 0                            </td><td>0                             </td><td>0                             </td><td>0                             </td><td>0                             </td><td>0                             </td><td>0                             </td><td>0                             </td><td>0                             </td><td>0                             </td><td>0                             </td><td>0                             </td><td>0                             </td><td>0                             </td><td>0                             </td><td>0                             </td><td>0                             </td><td>0                             </td><td>0                             </td><td>0                             </td><td>0                             </td><td>0                             </td><td>0                             </td><td>0                             </td><td>0                             </td><td>                              </td><td>                              </td><td>0                             </td><td>0                             </td><td>0                             </td><td>0                             </td><td>                              </td><td>0                             </td><td>0                             </td></tr>\n",
       "\t<tr><td>4                             </td><td>hesjedal ryder                </td><td>Garmin - Sharp                </td><td>+ 20                          </td><td>  52                          </td><td>CAN                           </td><td>10                            </td><td>2012                          </td><td>14                            </td><td>NA                            </td><td> 376                          </td><td>Mountain                      </td><td>Giro                          </td><td>Hesjedal                      </td><td>Ryder                         </td><td>R.Hesjedal                    </td><td>2201                          </td><td>19801209                      </td><td>59                            </td><td>188                           </td><td>72                            </td><td>72                            </td><td>77                            </td><td>76                            </td><td>66                            </td><td>71                            </td><td>72                            </td><td>58                            </td><td>67                            </td><td>75                            </td><td>75                            </td><td>77                            </td><td>78                            </td><td>69                            </td><td>R.Hesjedal                    </td><td>0                             </td><td>0                             </td><td>5                             </td><td>0                             </td><td>3                             </td><td>0                             </td><td>0                             </td><td>83                            </td><td>0                             </td><td>0                             </td><td>0                             </td><td>0                             </td><td>0                             </td><td>0                             </td><td>0                             </td><td>0                             </td><td>0                             </td><td>0                             </td><td>0                             </td><td>0                             </td><td>0                             </td><td>0                             </td><td>0                             </td><td>0                             </td><td>0                             </td><td>0                             </td><td>0                             </td><td>0                             </td><td>0                             </td><td>0                             </td><td>1                             </td><td>0                             </td><td>                              </td><td>                              </td><td>0                             </td><td>0                             </td><td>0                             </td><td>0                             </td><td>                              </td><td>0                             </td><td>0                             </td></tr>\n",
       "\t<tr><td>5                             </td><td>tiralongo paolo               </td><td>Astana Pro Team               </td><td>+ 46                          </td><td> 359                          </td><td>ITA                           </td><td>25                            </td><td>2012                          </td><td>14                            </td><td>NA                            </td><td> 506                          </td><td>Mountain                      </td><td>Giro                          </td><td>Tiralongo                     </td><td>Paolo                         </td><td>P.Tiralongo                   </td><td> 219                          </td><td>19770708                      </td><td>36                            </td><td>169                           </td><td>69                            </td><td>66                            </td><td>74                            </td><td>64                            </td><td>52                            </td><td>65                            </td><td>66                            </td><td>61                            </td><td>66                            </td><td>70                            </td><td>72                            </td><td>75                            </td><td>72                            </td><td>72                            </td><td>P.Tiralongo                   </td><td>0                             </td><td>0                             </td><td>4                             </td><td>0                             </td><td>3                             </td><td>0                             </td><td>0                             </td><td> 0                            </td><td>0                             </td><td>0                             </td><td>0                             </td><td>0                             </td><td>0                             </td><td>0                             </td><td>0                             </td><td>0                             </td><td>0                             </td><td>0                             </td><td>0                             </td><td>0                             </td><td>0                             </td><td>0                             </td><td>0                             </td><td>0                             </td><td>0                             </td><td>0                             </td><td>0                             </td><td>0                             </td><td>0                             </td><td>0                             </td><td>0                             </td><td>0                             </td><td>                              </td><td>                              </td><td>0                             </td><td>0                             </td><td>0                             </td><td>0                             </td><td>                              </td><td>0                             </td><td>0                             </td></tr>\n",
       "\t<tr><td>6                             </td><td>uran rigoberto                </td><td>Sky ProCycling                </td><td>+ 46                          </td><td> 117                          </td><td>COL                           </td><td>44                            </td><td>2012                          </td><td>14                            </td><td>NA                            </td><td> 566                          </td><td>Mountain                      </td><td>Giro                          </td><td>Urán Urán                     </td><td>Rigoberto                     </td><td>R.Urán Urán                   </td><td>1101                          </td><td>19870126                      </td><td>45                            </td><td>173                           </td><td>62                            </td><td>67                            </td><td>75                            </td><td>66                            </td><td>52                            </td><td>70                            </td><td>70                            </td><td>64                            </td><td>76                            </td><td>71                            </td><td>73                            </td><td>71                            </td><td>76                            </td><td>75                            </td><td>R.Urán Urán                   </td><td>0                             </td><td>0                             </td><td>6                             </td><td>0                             </td><td>3                             </td><td>0                             </td><td>0                             </td><td> 0                            </td><td>0                             </td><td>0                             </td><td>0                             </td><td>0                             </td><td>0                             </td><td>0                             </td><td>0                             </td><td>0                             </td><td>0                             </td><td>0                             </td><td>0                             </td><td>0                             </td><td>0                             </td><td>0                             </td><td>0                             </td><td>0                             </td><td>0                             </td><td>0                             </td><td>0                             </td><td>0                             </td><td>0                             </td><td>0                             </td><td>0                             </td><td>0                             </td><td>                              </td><td>                              </td><td>0                             </td><td>0                             </td><td>0                             </td><td>0                             </td><td>                              </td><td>0                             </td><td>0                             </td></tr>\n",
       "</tbody>\n",
       "</table>\n"
      ],
      "text/latex": [
       "\\begin{tabular}{r|llllllllllllllllllllllllllllllllllllllllllllllllllllllllllllllllllllllllllll}\n",
       " Pos & Rider & Team & Time & Rider\\_ID & Rider\\_Country & Team\\_ID & Year & Stage & UCI & ID & Stage.Type & Race & Family.Name & Given.Name & Name & Region & Birthday & Popularity & Size & Weight & FLAT & MOUNTAIN & DOWNHILL & COBBLES & TT & PROLOGUE & SPRINT & ACCELERATION & ENDURANCE & RESISTANCE & RECUP & HILL & ATTACK & gene\\_sz\\_firstlastname & gene\\_f\\_popularity\\_max & value\\_i\\_rank\\_voted & value\\_i\\_potentiel & fkIDrace & fkIDcyclist\\_state & fkIDtype\\_rider & fkIDinjury & fkIDtga\\_skin & prerace\\_i\\_cyclist & race\\_b\\_withdrawal & fkIDstaff\\_physician & fkIDstaff\\_trainer & limit\\_i\\_plain & limit\\_i\\_mountain & limit\\_i\\_downhilling & limit\\_i\\_cobble & limit\\_i\\_timetrial & limit\\_i\\_prologue & limit\\_i\\_sprint & limit\\_i\\_acceleration & limit\\_i\\_endurance & limit\\_i\\_resistance & limit\\_i\\_recuperation & limit\\_i\\_hill & limit\\_i\\_baroudeur & fitness\\_i\\_handicap & gene\\_b\\_selected\\_in\\_roster & gene\\_b\\_will\\_retire & fkIDtraining\\_camp & gene\\_i\\_dossard & gene\\_i\\_champion\\_bit & gene\\_b\\_nominated & CONSTANT & gene\\_sz\\_soundname & fkIDstate\\_roster & gene\\_b\\_inshortlist & gene\\_i\\_date\\_last\\_breakaway & gene\\_i\\_date\\_last\\_punchers & gene\\_ilist\\_fkIDfavorite\\_races & gene\\_i\\_year\\_progression & gene\\_i\\_day\\_progression\\\\\n",
       "\\hline\n",
       "\t 1                              & amador andrey                  & Movistar Team                  & 05:33:36                       &  745                           & CRC                            & 5                              & 2012                           & 14                             & NA                             &  432                           & Mountain                       & Giro                           & Amador Bikkazakova             & Andrey                         & A.Amador Bikkazakova           & 6101                           & 19860829                       & 21                             & 180                            & 73                             & 65                             & 69                             & 65                             & 53                             & 68                             & 68                             & 60                             & 66                             & 65                             & 65                             & 68                             & 68                             & 63                             & A.Amador Bikkazakova           & 0                              & 0                              & 5                              & 0                              & 3                              & 0                              & 0                              &  0                             & 0                              & 0                              & 0                              & 0                              & 0                              & 0                              & 0                              & 0                              & 0                              & 0                              & 0                              & 0                              & 0                              & 0                              & 0                              & 0                              & 0                              & 0                              & 0                              & 0                              & 0                              & 0                              & 0                              & 0                              &                                &                                & 0                              & 0                              & 0                              & 0                              &                                & 0                              & 0                             \\\\\n",
       "\t 2                              & barta jan                      & Team NetApp                    & + 00                           &  990                           & CZE                            & 57                             & 2012                           & 14                             & NA                             & 2280                           & Mountain                       & Giro                           & Bárta                          & Jan                            & J.Bárta                        & 3301                           & 19841207                       & 11                             & 184                            & 73                             & 68                             & 63                             & 67                             & 58                             & 68                             & 67                             & 61                             & 66                             & 64                             & 67                             & 64                             & 66                             & 72                             & J.Bárta                        & 0                              & 0                              & 4                              & 0                              & 3                              & 0                              & 0                              &  0                             & 0                              & 0                              & 0                              & 0                              & 0                              & 0                              & 0                              & 0                              & 0                              & 0                              & 0                              & 0                              & 0                              & 0                              & 0                              & 0                              & 0                              & 0                              & 0                              & 0                              & 0                              & 0                              & 0                              & 0                              &                                &                                & 0                              & 0                              & 0                              & 0                              &                                & 0                              & 0                             \\\\\n",
       "\t 3                              & de marchi alessandro           & Androni Giocattoli - Venezuela & + 02                           & 3103                           & ITA                            & 23                             & 2012                           & 14                             & NA                             & 2400                           & Mountain                       & Giro                           & De Marchi                      & Alessandro                     & A.De Marchi                    &  201                           & 19860519                       &  7                             & 181                            & 68                             & 65                             & 63                             & 63                             & 53                             & 64                             & 64                             & 61                             & 60                             & 65                             & 64                             & 62                             & 65                             & 64                             & A.De Marchi                    & 0                              & 0                              & 3                              & 0                              & 3                              & 0                              & 0                              &  0                             & 0                              & 0                              & 0                              & 0                              & 0                              & 0                              & 0                              & 0                              & 0                              & 0                              & 0                              & 0                              & 0                              & 0                              & 0                              & 0                              & 0                              & 0                              & 0                              & 0                              & 0                              & 0                              & 0                              & 0                              &                                &                                & 0                              & 0                              & 0                              & 0                              &                                & 0                              & 0                             \\\\\n",
       "\t 4                              & hesjedal ryder                 & Garmin - Sharp                 & + 20                           &   52                           & CAN                            & 10                             & 2012                           & 14                             & NA                             &  376                           & Mountain                       & Giro                           & Hesjedal                       & Ryder                          & R.Hesjedal                     & 2201                           & 19801209                       & 59                             & 188                            & 72                             & 72                             & 77                             & 76                             & 66                             & 71                             & 72                             & 58                             & 67                             & 75                             & 75                             & 77                             & 78                             & 69                             & R.Hesjedal                     & 0                              & 0                              & 5                              & 0                              & 3                              & 0                              & 0                              & 83                             & 0                              & 0                              & 0                              & 0                              & 0                              & 0                              & 0                              & 0                              & 0                              & 0                              & 0                              & 0                              & 0                              & 0                              & 0                              & 0                              & 0                              & 0                              & 0                              & 0                              & 0                              & 0                              & 1                              & 0                              &                                &                                & 0                              & 0                              & 0                              & 0                              &                                & 0                              & 0                             \\\\\n",
       "\t 5                              & tiralongo paolo                & Astana Pro Team                & + 46                           &  359                           & ITA                            & 25                             & 2012                           & 14                             & NA                             &  506                           & Mountain                       & Giro                           & Tiralongo                      & Paolo                          & P.Tiralongo                    &  219                           & 19770708                       & 36                             & 169                            & 69                             & 66                             & 74                             & 64                             & 52                             & 65                             & 66                             & 61                             & 66                             & 70                             & 72                             & 75                             & 72                             & 72                             & P.Tiralongo                    & 0                              & 0                              & 4                              & 0                              & 3                              & 0                              & 0                              &  0                             & 0                              & 0                              & 0                              & 0                              & 0                              & 0                              & 0                              & 0                              & 0                              & 0                              & 0                              & 0                              & 0                              & 0                              & 0                              & 0                              & 0                              & 0                              & 0                              & 0                              & 0                              & 0                              & 0                              & 0                              &                                &                                & 0                              & 0                              & 0                              & 0                              &                                & 0                              & 0                             \\\\\n",
       "\t 6                              & uran rigoberto                 & Sky ProCycling                 & + 46                           &  117                           & COL                            & 44                             & 2012                           & 14                             & NA                             &  566                           & Mountain                       & Giro                           & Urán Urán                      & Rigoberto                      & R.Urán Urán                    & 1101                           & 19870126                       & 45                             & 173                            & 62                             & 67                             & 75                             & 66                             & 52                             & 70                             & 70                             & 64                             & 76                             & 71                             & 73                             & 71                             & 76                             & 75                             & R.Urán Urán                    & 0                              & 0                              & 6                              & 0                              & 3                              & 0                              & 0                              &  0                             & 0                              & 0                              & 0                              & 0                              & 0                              & 0                              & 0                              & 0                              & 0                              & 0                              & 0                              & 0                              & 0                              & 0                              & 0                              & 0                              & 0                              & 0                              & 0                              & 0                              & 0                              & 0                              & 0                              & 0                              &                                &                                & 0                              & 0                              & 0                              & 0                              &                                & 0                              & 0                             \\\\\n",
       "\\end{tabular}\n"
      ],
      "text/markdown": [
       "\n",
       "| Pos | Rider | Team | Time | Rider_ID | Rider_Country | Team_ID | Year | Stage | UCI | ID | Stage.Type | Race | Family.Name | Given.Name | Name | Region | Birthday | Popularity | Size | Weight | FLAT | MOUNTAIN | DOWNHILL | COBBLES | TT | PROLOGUE | SPRINT | ACCELERATION | ENDURANCE | RESISTANCE | RECUP | HILL | ATTACK | gene_sz_firstlastname | gene_f_popularity_max | value_i_rank_voted | value_i_potentiel | fkIDrace | fkIDcyclist_state | fkIDtype_rider | fkIDinjury | fkIDtga_skin | prerace_i_cyclist | race_b_withdrawal | fkIDstaff_physician | fkIDstaff_trainer | limit_i_plain | limit_i_mountain | limit_i_downhilling | limit_i_cobble | limit_i_timetrial | limit_i_prologue | limit_i_sprint | limit_i_acceleration | limit_i_endurance | limit_i_resistance | limit_i_recuperation | limit_i_hill | limit_i_baroudeur | fitness_i_handicap | gene_b_selected_in_roster | gene_b_will_retire | fkIDtraining_camp | gene_i_dossard | gene_i_champion_bit | gene_b_nominated | CONSTANT | gene_sz_soundname | fkIDstate_roster | gene_b_inshortlist | gene_i_date_last_breakaway | gene_i_date_last_punchers | gene_ilist_fkIDfavorite_races | gene_i_year_progression | gene_i_day_progression |\n",
       "|---|---|---|---|---|---|---|---|---|---|---|---|---|---|---|---|---|---|---|---|---|---|---|---|---|---|---|---|---|---|---|---|---|---|---|---|---|---|---|---|---|---|---|---|---|---|---|---|---|---|---|---|---|---|---|---|---|---|---|---|---|---|---|---|---|---|---|---|---|---|---|---|---|---|---|---|\n",
       "| 1                              | amador andrey                  | Movistar Team                  | 05:33:36                       |  745                           | CRC                            | 5                              | 2012                           | 14                             | NA                             |  432                           | Mountain                       | Giro                           | Amador Bikkazakova             | Andrey                         | A.Amador Bikkazakova           | 6101                           | 19860829                       | 21                             | 180                            | 73                             | 65                             | 69                             | 65                             | 53                             | 68                             | 68                             | 60                             | 66                             | 65                             | 65                             | 68                             | 68                             | 63                             | A.Amador Bikkazakova           | 0                              | 0                              | 5                              | 0                              | 3                              | 0                              | 0                              |  0                             | 0                              | 0                              | 0                              | 0                              | 0                              | 0                              | 0                              | 0                              | 0                              | 0                              | 0                              | 0                              | 0                              | 0                              | 0                              | 0                              | 0                              | 0                              | 0                              | 0                              | 0                              | 0                              | 0                              | 0                              |                                |                                | 0                              | 0                              | 0                              | 0                              |                                | 0                              | 0                              |\n",
       "| 2                              | barta jan                      | Team NetApp                    | + 00                           |  990                           | CZE                            | 57                             | 2012                           | 14                             | NA                             | 2280                           | Mountain                       | Giro                           | Bárta                          | Jan                            | J.Bárta                        | 3301                           | 19841207                       | 11                             | 184                            | 73                             | 68                             | 63                             | 67                             | 58                             | 68                             | 67                             | 61                             | 66                             | 64                             | 67                             | 64                             | 66                             | 72                             | J.Bárta                        | 0                              | 0                              | 4                              | 0                              | 3                              | 0                              | 0                              |  0                             | 0                              | 0                              | 0                              | 0                              | 0                              | 0                              | 0                              | 0                              | 0                              | 0                              | 0                              | 0                              | 0                              | 0                              | 0                              | 0                              | 0                              | 0                              | 0                              | 0                              | 0                              | 0                              | 0                              | 0                              |                                |                                | 0                              | 0                              | 0                              | 0                              |                                | 0                              | 0                              |\n",
       "| 3                              | de marchi alessandro           | Androni Giocattoli - Venezuela | + 02                           | 3103                           | ITA                            | 23                             | 2012                           | 14                             | NA                             | 2400                           | Mountain                       | Giro                           | De Marchi                      | Alessandro                     | A.De Marchi                    |  201                           | 19860519                       |  7                             | 181                            | 68                             | 65                             | 63                             | 63                             | 53                             | 64                             | 64                             | 61                             | 60                             | 65                             | 64                             | 62                             | 65                             | 64                             | A.De Marchi                    | 0                              | 0                              | 3                              | 0                              | 3                              | 0                              | 0                              |  0                             | 0                              | 0                              | 0                              | 0                              | 0                              | 0                              | 0                              | 0                              | 0                              | 0                              | 0                              | 0                              | 0                              | 0                              | 0                              | 0                              | 0                              | 0                              | 0                              | 0                              | 0                              | 0                              | 0                              | 0                              |                                |                                | 0                              | 0                              | 0                              | 0                              |                                | 0                              | 0                              |\n",
       "| 4                              | hesjedal ryder                 | Garmin - Sharp                 | + 20                           |   52                           | CAN                            | 10                             | 2012                           | 14                             | NA                             |  376                           | Mountain                       | Giro                           | Hesjedal                       | Ryder                          | R.Hesjedal                     | 2201                           | 19801209                       | 59                             | 188                            | 72                             | 72                             | 77                             | 76                             | 66                             | 71                             | 72                             | 58                             | 67                             | 75                             | 75                             | 77                             | 78                             | 69                             | R.Hesjedal                     | 0                              | 0                              | 5                              | 0                              | 3                              | 0                              | 0                              | 83                             | 0                              | 0                              | 0                              | 0                              | 0                              | 0                              | 0                              | 0                              | 0                              | 0                              | 0                              | 0                              | 0                              | 0                              | 0                              | 0                              | 0                              | 0                              | 0                              | 0                              | 0                              | 0                              | 1                              | 0                              |                                |                                | 0                              | 0                              | 0                              | 0                              |                                | 0                              | 0                              |\n",
       "| 5                              | tiralongo paolo                | Astana Pro Team                | + 46                           |  359                           | ITA                            | 25                             | 2012                           | 14                             | NA                             |  506                           | Mountain                       | Giro                           | Tiralongo                      | Paolo                          | P.Tiralongo                    |  219                           | 19770708                       | 36                             | 169                            | 69                             | 66                             | 74                             | 64                             | 52                             | 65                             | 66                             | 61                             | 66                             | 70                             | 72                             | 75                             | 72                             | 72                             | P.Tiralongo                    | 0                              | 0                              | 4                              | 0                              | 3                              | 0                              | 0                              |  0                             | 0                              | 0                              | 0                              | 0                              | 0                              | 0                              | 0                              | 0                              | 0                              | 0                              | 0                              | 0                              | 0                              | 0                              | 0                              | 0                              | 0                              | 0                              | 0                              | 0                              | 0                              | 0                              | 0                              | 0                              |                                |                                | 0                              | 0                              | 0                              | 0                              |                                | 0                              | 0                              |\n",
       "| 6                              | uran rigoberto                 | Sky ProCycling                 | + 46                           |  117                           | COL                            | 44                             | 2012                           | 14                             | NA                             |  566                           | Mountain                       | Giro                           | Urán Urán                      | Rigoberto                      | R.Urán Urán                    | 1101                           | 19870126                       | 45                             | 173                            | 62                             | 67                             | 75                             | 66                             | 52                             | 70                             | 70                             | 64                             | 76                             | 71                             | 73                             | 71                             | 76                             | 75                             | R.Urán Urán                    | 0                              | 0                              | 6                              | 0                              | 3                              | 0                              | 0                              |  0                             | 0                              | 0                              | 0                              | 0                              | 0                              | 0                              | 0                              | 0                              | 0                              | 0                              | 0                              | 0                              | 0                              | 0                              | 0                              | 0                              | 0                              | 0                              | 0                              | 0                              | 0                              | 0                              | 0                              | 0                              |                                |                                | 0                              | 0                              | 0                              | 0                              |                                | 0                              | 0                              |\n",
       "\n"
      ],
      "text/plain": [
       "  Pos Rider                Team                           Time     Rider_ID\n",
       "1 1   amador andrey        Movistar Team                  05:33:36  745    \n",
       "2 2   barta jan            Team NetApp                    + 00      990    \n",
       "3 3   de marchi alessandro Androni Giocattoli - Venezuela + 02     3103    \n",
       "4 4   hesjedal ryder       Garmin - Sharp                 + 20       52    \n",
       "5 5   tiralongo paolo      Astana Pro Team                + 46      359    \n",
       "6 6   uran rigoberto       Sky ProCycling                 + 46      117    \n",
       "  Rider_Country Team_ID Year Stage UCI ID   Stage.Type Race Family.Name       \n",
       "1 CRC           5       2012 14    NA   432 Mountain   Giro Amador Bikkazakova\n",
       "2 CZE           57      2012 14    NA  2280 Mountain   Giro Bárta             \n",
       "3 ITA           23      2012 14    NA  2400 Mountain   Giro De Marchi         \n",
       "4 CAN           10      2012 14    NA   376 Mountain   Giro Hesjedal          \n",
       "5 ITA           25      2012 14    NA   506 Mountain   Giro Tiralongo         \n",
       "6 COL           44      2012 14    NA   566 Mountain   Giro Urán Urán         \n",
       "  Given.Name Name                 Region Birthday Popularity Size Weight FLAT\n",
       "1 Andrey     A.Amador Bikkazakova 6101   19860829 21         180  73     65  \n",
       "2 Jan        J.Bárta              3301   19841207 11         184  73     68  \n",
       "3 Alessandro A.De Marchi           201   19860519  7         181  68     65  \n",
       "4 Ryder      R.Hesjedal           2201   19801209 59         188  72     72  \n",
       "5 Paolo      P.Tiralongo           219   19770708 36         169  69     66  \n",
       "6 Rigoberto  R.Urán Urán          1101   19870126 45         173  62     67  \n",
       "  MOUNTAIN DOWNHILL COBBLES TT PROLOGUE SPRINT ACCELERATION ENDURANCE\n",
       "1 69       65       53      68 68       60     66           65       \n",
       "2 63       67       58      68 67       61     66           64       \n",
       "3 63       63       53      64 64       61     60           65       \n",
       "4 77       76       66      71 72       58     67           75       \n",
       "5 74       64       52      65 66       61     66           70       \n",
       "6 75       66       52      70 70       64     76           71       \n",
       "  RESISTANCE RECUP HILL ATTACK gene_sz_firstlastname gene_f_popularity_max\n",
       "1 65         68    68   63     A.Amador Bikkazakova  0                    \n",
       "2 67         64    66   72     J.Bárta               0                    \n",
       "3 64         62    65   64     A.De Marchi           0                    \n",
       "4 75         77    78   69     R.Hesjedal            0                    \n",
       "5 72         75    72   72     P.Tiralongo           0                    \n",
       "6 73         71    76   75     R.Urán Urán           0                    \n",
       "  value_i_rank_voted value_i_potentiel fkIDrace fkIDcyclist_state\n",
       "1 0                  5                 0        3                \n",
       "2 0                  4                 0        3                \n",
       "3 0                  3                 0        3                \n",
       "4 0                  5                 0        3                \n",
       "5 0                  4                 0        3                \n",
       "6 0                  6                 0        3                \n",
       "  fkIDtype_rider fkIDinjury fkIDtga_skin prerace_i_cyclist race_b_withdrawal\n",
       "1 0              0           0           0                 0                \n",
       "2 0              0           0           0                 0                \n",
       "3 0              0           0           0                 0                \n",
       "4 0              0          83           0                 0                \n",
       "5 0              0           0           0                 0                \n",
       "6 0              0           0           0                 0                \n",
       "  fkIDstaff_physician fkIDstaff_trainer limit_i_plain limit_i_mountain\n",
       "1 0                   0                 0             0               \n",
       "2 0                   0                 0             0               \n",
       "3 0                   0                 0             0               \n",
       "4 0                   0                 0             0               \n",
       "5 0                   0                 0             0               \n",
       "6 0                   0                 0             0               \n",
       "  limit_i_downhilling limit_i_cobble limit_i_timetrial limit_i_prologue\n",
       "1 0                   0              0                 0               \n",
       "2 0                   0              0                 0               \n",
       "3 0                   0              0                 0               \n",
       "4 0                   0              0                 0               \n",
       "5 0                   0              0                 0               \n",
       "6 0                   0              0                 0               \n",
       "  limit_i_sprint limit_i_acceleration limit_i_endurance limit_i_resistance\n",
       "1 0              0                    0                 0                 \n",
       "2 0              0                    0                 0                 \n",
       "3 0              0                    0                 0                 \n",
       "4 0              0                    0                 0                 \n",
       "5 0              0                    0                 0                 \n",
       "6 0              0                    0                 0                 \n",
       "  limit_i_recuperation limit_i_hill limit_i_baroudeur fitness_i_handicap\n",
       "1 0                    0            0                 0                 \n",
       "2 0                    0            0                 0                 \n",
       "3 0                    0            0                 0                 \n",
       "4 0                    0            0                 0                 \n",
       "5 0                    0            0                 0                 \n",
       "6 0                    0            0                 0                 \n",
       "  gene_b_selected_in_roster gene_b_will_retire fkIDtraining_camp gene_i_dossard\n",
       "1 0                         0                  0                 0             \n",
       "2 0                         0                  0                 0             \n",
       "3 0                         0                  0                 0             \n",
       "4 0                         0                  0                 0             \n",
       "5 0                         0                  0                 0             \n",
       "6 0                         0                  0                 0             \n",
       "  gene_i_champion_bit gene_b_nominated CONSTANT gene_sz_soundname\n",
       "1 0                   0                                          \n",
       "2 0                   0                                          \n",
       "3 0                   0                                          \n",
       "4 1                   0                                          \n",
       "5 0                   0                                          \n",
       "6 0                   0                                          \n",
       "  fkIDstate_roster gene_b_inshortlist gene_i_date_last_breakaway\n",
       "1 0                0                  0                         \n",
       "2 0                0                  0                         \n",
       "3 0                0                  0                         \n",
       "4 0                0                  0                         \n",
       "5 0                0                  0                         \n",
       "6 0                0                  0                         \n",
       "  gene_i_date_last_punchers gene_ilist_fkIDfavorite_races\n",
       "1 0                                                      \n",
       "2 0                                                      \n",
       "3 0                                                      \n",
       "4 0                                                      \n",
       "5 0                                                      \n",
       "6 0                                                      \n",
       "  gene_i_year_progression gene_i_day_progression\n",
       "1 0                       0                     \n",
       "2 0                       0                     \n",
       "3 0                       0                     \n",
       "4 0                       0                     \n",
       "5 0                       0                     \n",
       "6 0                       0                     "
      ]
     },
     "metadata": {},
     "output_type": "display_data"
    },
    {
     "ename": "",
     "evalue": "",
     "output_type": "error",
     "traceback": [
      "\u001b[1;31mFailed to start the Kernel. \n",
      "dyld[12757]: Library not loaded: @rpath/libreadline.6.2.dylib\n",
      "  Referenced from: /opt/anaconda3/lib/R/lib/libR.dylib\n",
      "  Reason: tried: '/opt/anaconda3/lib/R/lib/../../libreadline.6.2.dylib' (no such file), '/opt/anaconda3/lib/R/bin/exec/../../../libreadline.6.2.dylib' (no such file), '/opt/anaconda3/lib/R/bin/exec/../../../libreadline.6.2.dylib' (no such file), '/opt/anaconda3/lib/R/lib/libreadline.6.2.dylib' (no such file), '/opt/anaconda3/lib/libreadline.6.2.dylib' (no such file), '/opt/anaconda3/libreadline.6.2.dylib' (no such file). \n",
      "View Jupyter <a href='command:jupyter.viewOutput'>log</a> for further details."
     ]
    }
   ],
   "source": [
    "table = (read.csv(\"Data//Mountain_races_final.csv\", sep = \";\"))\n",
    "head(table)"
   ]
  },
  {
   "cell_type": "code",
   "execution_count": null,
   "id": "b198a530",
   "metadata": {
    "vscode": {
     "languageId": "r"
    }
   },
   "outputs": [
    {
     "ename": "",
     "evalue": "",
     "output_type": "error",
     "traceback": [
      "\u001b[1;31mFailed to start the Kernel. \n",
      "dyld[12757]: Library not loaded: @rpath/libreadline.6.2.dylib\n",
      "  Referenced from: /opt/anaconda3/lib/R/lib/libR.dylib\n",
      "  Reason: tried: '/opt/anaconda3/lib/R/lib/../../libreadline.6.2.dylib' (no such file), '/opt/anaconda3/lib/R/bin/exec/../../../libreadline.6.2.dylib' (no such file), '/opt/anaconda3/lib/R/bin/exec/../../../libreadline.6.2.dylib' (no such file), '/opt/anaconda3/lib/R/lib/libreadline.6.2.dylib' (no such file), '/opt/anaconda3/lib/libreadline.6.2.dylib' (no such file), '/opt/anaconda3/libreadline.6.2.dylib' (no such file). \n",
      "View Jupyter <a href='command:jupyter.viewOutput'>log</a> for further details."
     ]
    }
   ],
   "source": [
    "table_train = table[table$Year<=2017,]"
   ]
  },
  {
   "cell_type": "code",
   "execution_count": null,
   "id": "e7612b54",
   "metadata": {
    "vscode": {
     "languageId": "r"
    }
   },
   "outputs": [
    {
     "ename": "",
     "evalue": "",
     "output_type": "error",
     "traceback": [
      "\u001b[1;31mFailed to start the Kernel. \n",
      "dyld[12757]: Library not loaded: @rpath/libreadline.6.2.dylib\n",
      "  Referenced from: /opt/anaconda3/lib/R/lib/libR.dylib\n",
      "  Reason: tried: '/opt/anaconda3/lib/R/lib/../../libreadline.6.2.dylib' (no such file), '/opt/anaconda3/lib/R/bin/exec/../../../libreadline.6.2.dylib' (no such file), '/opt/anaconda3/lib/R/bin/exec/../../../libreadline.6.2.dylib' (no such file), '/opt/anaconda3/lib/R/lib/libreadline.6.2.dylib' (no such file), '/opt/anaconda3/lib/libreadline.6.2.dylib' (no such file), '/opt/anaconda3/libreadline.6.2.dylib' (no such file). \n",
      "View Jupyter <a href='command:jupyter.viewOutput'>log</a> for further details."
     ]
    }
   ],
   "source": [
    "table_val = table[(table$Year>2017)&(table$Year<=2019) ,]"
   ]
  },
  {
   "cell_type": "code",
   "execution_count": null,
   "id": "171e1c50",
   "metadata": {
    "vscode": {
     "languageId": "r"
    }
   },
   "outputs": [
    {
     "ename": "",
     "evalue": "",
     "output_type": "error",
     "traceback": [
      "\u001b[1;31mFailed to start the Kernel. \n",
      "dyld[12757]: Library not loaded: @rpath/libreadline.6.2.dylib\n",
      "  Referenced from: /opt/anaconda3/lib/R/lib/libR.dylib\n",
      "  Reason: tried: '/opt/anaconda3/lib/R/lib/../../libreadline.6.2.dylib' (no such file), '/opt/anaconda3/lib/R/bin/exec/../../../libreadline.6.2.dylib' (no such file), '/opt/anaconda3/lib/R/bin/exec/../../../libreadline.6.2.dylib' (no such file), '/opt/anaconda3/lib/R/lib/libreadline.6.2.dylib' (no such file), '/opt/anaconda3/lib/libreadline.6.2.dylib' (no such file), '/opt/anaconda3/libreadline.6.2.dylib' (no such file). \n",
      "View Jupyter <a href='command:jupyter.viewOutput'>log</a> for further details."
     ]
    }
   ],
   "source": [
    "table_test = table[table$Year>2019,]"
   ]
  },
  {
   "cell_type": "code",
   "execution_count": null,
   "id": "38f0a0d6",
   "metadata": {
    "scrolled": false,
    "vscode": {
     "languageId": "r"
    }
   },
   "outputs": [
    {
     "name": "stderr",
     "output_type": "stream",
     "text": [
      "`summarise()` has grouped output by 'Race', 'Year'. You can override using the `.groups` argument.\n"
     ]
    },
    {
     "ename": "",
     "evalue": "",
     "output_type": "error",
     "traceback": [
      "\u001b[1;31mFailed to start the Kernel. \n",
      "dyld[12757]: Library not loaded: @rpath/libreadline.6.2.dylib\n",
      "  Referenced from: /opt/anaconda3/lib/R/lib/libR.dylib\n",
      "  Reason: tried: '/opt/anaconda3/lib/R/lib/../../libreadline.6.2.dylib' (no such file), '/opt/anaconda3/lib/R/bin/exec/../../../libreadline.6.2.dylib' (no such file), '/opt/anaconda3/lib/R/bin/exec/../../../libreadline.6.2.dylib' (no such file), '/opt/anaconda3/lib/R/lib/libreadline.6.2.dylib' (no such file), '/opt/anaconda3/lib/libreadline.6.2.dylib' (no such file), '/opt/anaconda3/libreadline.6.2.dylib' (no such file). \n",
      "View Jupyter <a href='command:jupyter.viewOutput'>log</a> for further details."
     ]
    }
   ],
   "source": [
    "basetable_train = table_train %>% group_by(Race, Year,Team) %>% summarise(flat_mean = round(mean(FLAT))\n",
    "                                             , mountain_mean = round(mean(MOUNTAIN))\n",
    "                                            , downhill_mean = round(mean(DOWNHILL))\n",
    "                                            ,cobbles_mean = round(mean(COBBLES))\n",
    "                                            ,tt_mean = round(mean(TT)),\n",
    "                                            ,prologue_mean = round(mean(PROLOGUE))\n",
    "                                            ,sprint_mean = round(mean(SPRINT))\n",
    "                                            ,acceleration_mean = round(mean(ACCELERATION))\n",
    "                                            ,endurance_mean = round(mean(ENDURANCE))\n",
    "                                            ,resistance_mean = round(mean(RESISTANCE))\n",
    "                                            ,recup_mean = round(mean(RECUP))\n",
    "                                            ,hill_mean = round(mean(HILL))\n",
    "                                            ,attack_mean = round(mean(ATTACK))\n",
    "                                            \n",
    "                                            ,flat_max = round(max(FLAT))\n",
    "                                            ,mountain_max = round(max(MOUNTAIN))\n",
    "                                            ,downhill_max = round(max(DOWNHILL))\n",
    "                                            ,cobbles_max = round(max(COBBLES))\n",
    "                                            ,tt_max = round(max(TT)),\n",
    "                                            ,prologue_max = round(max(PROLOGUE))\n",
    "                                            ,sprint_max = round(max(SPRINT))\n",
    "                                            ,acceleration_max = round(max(ACCELERATION))\n",
    "                                            ,endurance_max = round(max(ENDURANCE))\n",
    "                                            ,resistance_max = round(max(RESISTANCE))\n",
    "                                            ,recup_max = round(max(RECUP))\n",
    "                                            ,hill_max = round(max(HILL))\n",
    "                                            ,attack_max = round(max(ATTACK))\n",
    "                                            \n",
    "                                            ,flat_min = round(min(FLAT))\n",
    "                                            ,mountain_min = round(min(MOUNTAIN))\n",
    "                                            ,downhill_min = round(min(DOWNHILL))\n",
    "                                            ,cobbles_min = round(min(COBBLES))\n",
    "                                            ,tt_min = round(min(TT)),\n",
    "                                            ,prologue_min = round(min(PROLOGUE))\n",
    "                                            ,sprint_min = round(min(SPRINT))\n",
    "                                            ,acceleration_min = round(min(ACCELERATION))\n",
    "                                            ,endurance_min = round(min(ENDURANCE))\n",
    "                                            ,resistance_min = round(min(RESISTANCE))\n",
    "                                            ,recup_min = round(min(RECUP))\n",
    "                                            ,hill_min = round(min(HILL))\n",
    "                                            ,attack_min = round(min(ATTACK))\n",
    "                                    \n",
    "                                            ,best_position = min(Pos))"
   ]
  },
  {
   "cell_type": "code",
   "execution_count": null,
   "id": "d46df086",
   "metadata": {
    "scrolled": false,
    "vscode": {
     "languageId": "r"
    }
   },
   "outputs": [
    {
     "name": "stderr",
     "output_type": "stream",
     "text": [
      "`summarise()` has grouped output by 'Race', 'Year'. You can override using the `.groups` argument.\n"
     ]
    },
    {
     "ename": "",
     "evalue": "",
     "output_type": "error",
     "traceback": [
      "\u001b[1;31mFailed to start the Kernel. \n",
      "dyld[12757]: Library not loaded: @rpath/libreadline.6.2.dylib\n",
      "  Referenced from: /opt/anaconda3/lib/R/lib/libR.dylib\n",
      "  Reason: tried: '/opt/anaconda3/lib/R/lib/../../libreadline.6.2.dylib' (no such file), '/opt/anaconda3/lib/R/bin/exec/../../../libreadline.6.2.dylib' (no such file), '/opt/anaconda3/lib/R/bin/exec/../../../libreadline.6.2.dylib' (no such file), '/opt/anaconda3/lib/R/lib/libreadline.6.2.dylib' (no such file), '/opt/anaconda3/lib/libreadline.6.2.dylib' (no such file), '/opt/anaconda3/libreadline.6.2.dylib' (no such file). \n",
      "View Jupyter <a href='command:jupyter.viewOutput'>log</a> for further details."
     ]
    }
   ],
   "source": [
    "basetable_val = table_val %>% group_by(Race, Year,Team) %>% summarise(flat_mean = round(mean(FLAT))\n",
    "                                             , mountain_mean = round(mean(MOUNTAIN))\n",
    "                                            , downhill_mean = round(mean(DOWNHILL))\n",
    "                                            ,cobbles_mean = round(mean(COBBLES))\n",
    "                                            ,tt_mean = round(mean(TT)),\n",
    "                                            ,prologue_mean = round(mean(PROLOGUE))\n",
    "                                            ,sprint_mean = round(mean(SPRINT))\n",
    "                                            ,acceleration_mean = round(mean(ACCELERATION))\n",
    "                                            ,endurance_mean = round(mean(ENDURANCE))\n",
    "                                            ,resistance_mean = round(mean(RESISTANCE))\n",
    "                                            ,recup_mean = round(mean(RECUP))\n",
    "                                            ,hill_mean = round(mean(HILL))\n",
    "                                            ,attack_mean = round(mean(ATTACK))\n",
    "                                            \n",
    "                                            ,flat_max = round(max(FLAT))\n",
    "                                            ,mountain_max = round(max(MOUNTAIN))\n",
    "                                            ,downhill_max = round(max(DOWNHILL))\n",
    "                                            ,cobbles_max = round(max(COBBLES))\n",
    "                                            ,tt_max = round(max(TT)),\n",
    "                                            ,prologue_max = round(max(PROLOGUE))\n",
    "                                            ,sprint_max = round(max(SPRINT))\n",
    "                                            ,acceleration_max = round(max(ACCELERATION))\n",
    "                                            ,endurance_max = round(max(ENDURANCE))\n",
    "                                            ,resistance_max = round(max(RESISTANCE))\n",
    "                                            ,recup_max = round(max(RECUP))\n",
    "                                            ,hill_max = round(max(HILL))\n",
    "                                            ,attack_max = round(max(ATTACK))\n",
    "                                            \n",
    "                                            ,flat_min = round(min(FLAT))\n",
    "                                            ,mountain_min = round(min(MOUNTAIN))\n",
    "                                            ,downhill_min = round(min(DOWNHILL))\n",
    "                                            ,cobbles_min = round(min(COBBLES))\n",
    "                                            ,tt_min = round(min(TT)),\n",
    "                                            ,prologue_min = round(min(PROLOGUE))\n",
    "                                            ,sprint_min = round(min(SPRINT))\n",
    "                                            ,acceleration_min = round(min(ACCELERATION))\n",
    "                                            ,endurance_min = round(min(ENDURANCE))\n",
    "                                            ,resistance_min = round(min(RESISTANCE))\n",
    "                                            ,recup_min = round(min(RECUP))\n",
    "                                            ,hill_min = round(min(HILL))\n",
    "                                            ,attack_min = round(min(ATTACK))\n",
    "                                    \n",
    "                                            ,best_position = min(Pos))"
   ]
  },
  {
   "cell_type": "code",
   "execution_count": null,
   "id": "d93a60bf",
   "metadata": {
    "scrolled": false,
    "vscode": {
     "languageId": "r"
    }
   },
   "outputs": [
    {
     "name": "stderr",
     "output_type": "stream",
     "text": [
      "`summarise()` has grouped output by 'Race', 'Year'. You can override using the `.groups` argument.\n"
     ]
    },
    {
     "ename": "",
     "evalue": "",
     "output_type": "error",
     "traceback": [
      "\u001b[1;31mFailed to start the Kernel. \n",
      "dyld[12757]: Library not loaded: @rpath/libreadline.6.2.dylib\n",
      "  Referenced from: /opt/anaconda3/lib/R/lib/libR.dylib\n",
      "  Reason: tried: '/opt/anaconda3/lib/R/lib/../../libreadline.6.2.dylib' (no such file), '/opt/anaconda3/lib/R/bin/exec/../../../libreadline.6.2.dylib' (no such file), '/opt/anaconda3/lib/R/bin/exec/../../../libreadline.6.2.dylib' (no such file), '/opt/anaconda3/lib/R/lib/libreadline.6.2.dylib' (no such file), '/opt/anaconda3/lib/libreadline.6.2.dylib' (no such file), '/opt/anaconda3/libreadline.6.2.dylib' (no such file). \n",
      "View Jupyter <a href='command:jupyter.viewOutput'>log</a> for further details."
     ]
    }
   ],
   "source": [
    "basetable_test = table_test %>% group_by(Race, Year,Team) %>% summarise(flat_mean = round(mean(FLAT))\n",
    "                                             , mountain_mean = round(mean(MOUNTAIN))\n",
    "                                            , downhill_mean = round(mean(DOWNHILL))\n",
    "                                            ,cobbles_mean = round(mean(COBBLES))\n",
    "                                            ,tt_mean = round(mean(TT)),\n",
    "                                            ,prologue_mean = round(mean(PROLOGUE))\n",
    "                                            ,sprint_mean = round(mean(SPRINT))\n",
    "                                            ,acceleration_mean = round(mean(ACCELERATION))\n",
    "                                            ,endurance_mean = round(mean(ENDURANCE))\n",
    "                                            ,resistance_mean = round(mean(RESISTANCE))\n",
    "                                            ,recup_mean = round(mean(RECUP))\n",
    "                                            ,hill_mean = round(mean(HILL))\n",
    "                                            ,attack_mean = round(mean(ATTACK))\n",
    "                                            \n",
    "                                            ,flat_max = round(max(FLAT))\n",
    "                                            ,mountain_max = round(max(MOUNTAIN))\n",
    "                                            ,downhill_max = round(max(DOWNHILL))\n",
    "                                            ,cobbles_max = round(max(COBBLES))\n",
    "                                            ,tt_max = round(max(TT)),\n",
    "                                            ,prologue_max = round(max(PROLOGUE))\n",
    "                                            ,sprint_max = round(max(SPRINT))\n",
    "                                            ,acceleration_max = round(max(ACCELERATION))\n",
    "                                            ,endurance_max = round(max(ENDURANCE))\n",
    "                                            ,resistance_max = round(max(RESISTANCE))\n",
    "                                            ,recup_max = round(max(RECUP))\n",
    "                                            ,hill_max = round(max(HILL))\n",
    "                                            ,attack_max = round(max(ATTACK))\n",
    "                                            \n",
    "                                            ,flat_min = round(min(FLAT))\n",
    "                                            ,mountain_min = round(min(MOUNTAIN))\n",
    "                                            ,downhill_min = round(min(DOWNHILL))\n",
    "                                            ,cobbles_min = round(min(COBBLES))\n",
    "                                            ,tt_min = round(min(TT)),\n",
    "                                            ,prologue_min = round(min(PROLOGUE))\n",
    "                                            ,sprint_min = round(min(SPRINT))\n",
    "                                            ,acceleration_min = round(min(ACCELERATION))\n",
    "                                            ,endurance_min = round(min(ENDURANCE))\n",
    "                                            ,resistance_min = round(min(RESISTANCE))\n",
    "                                            ,recup_min = round(min(RECUP))\n",
    "                                            ,hill_min = round(min(HILL))\n",
    "                                            ,attack_min = round(min(ATTACK))\n",
    "                                    \n",
    "                                            ,best_position = min(Pos))"
   ]
  },
  {
   "cell_type": "code",
   "execution_count": null,
   "id": "e70588ed",
   "metadata": {
    "vscode": {
     "languageId": "r"
    }
   },
   "outputs": [
    {
     "ename": "",
     "evalue": "",
     "output_type": "error",
     "traceback": [
      "\u001b[1;31mFailed to start the Kernel. \n",
      "dyld[12757]: Library not loaded: @rpath/libreadline.6.2.dylib\n",
      "  Referenced from: /opt/anaconda3/lib/R/lib/libR.dylib\n",
      "  Reason: tried: '/opt/anaconda3/lib/R/lib/../../libreadline.6.2.dylib' (no such file), '/opt/anaconda3/lib/R/bin/exec/../../../libreadline.6.2.dylib' (no such file), '/opt/anaconda3/lib/R/bin/exec/../../../libreadline.6.2.dylib' (no such file), '/opt/anaconda3/lib/R/lib/libreadline.6.2.dylib' (no such file), '/opt/anaconda3/lib/libreadline.6.2.dylib' (no such file), '/opt/anaconda3/libreadline.6.2.dylib' (no such file). \n",
      "View Jupyter <a href='command:jupyter.viewOutput'>log</a> for further details."
     ]
    }
   ],
   "source": [
    "basetable_train = (basetable_train)%>% drop_na()\n",
    "basetable_val = (basetable_val)%>% drop_na()\n",
    "basetable_test = (basetable_test)%>% drop_na()"
   ]
  },
  {
   "cell_type": "code",
   "execution_count": null,
   "id": "ce666cac",
   "metadata": {
    "vscode": {
     "languageId": "r"
    }
   },
   "outputs": [
    {
     "ename": "",
     "evalue": "",
     "output_type": "error",
     "traceback": [
      "\u001b[1;31mFailed to start the Kernel. \n",
      "dyld[12757]: Library not loaded: @rpath/libreadline.6.2.dylib\n",
      "  Referenced from: /opt/anaconda3/lib/R/lib/libR.dylib\n",
      "  Reason: tried: '/opt/anaconda3/lib/R/lib/../../libreadline.6.2.dylib' (no such file), '/opt/anaconda3/lib/R/bin/exec/../../../libreadline.6.2.dylib' (no such file), '/opt/anaconda3/lib/R/bin/exec/../../../libreadline.6.2.dylib' (no such file), '/opt/anaconda3/lib/R/lib/libreadline.6.2.dylib' (no such file), '/opt/anaconda3/lib/libreadline.6.2.dylib' (no such file), '/opt/anaconda3/libreadline.6.2.dylib' (no such file). \n",
      "View Jupyter <a href='command:jupyter.viewOutput'>log</a> for further details."
     ]
    }
   ],
   "source": [
    "basetable_train$Top10 = as.factor(ifelse(basetable_train$best_position <=10, 1,0))\n",
    "basetable_train$Top5 = as.factor(ifelse(basetable_train$best_position <=5, 1,0))\n",
    "basetable_train$Top4 = as.factor(ifelse(basetable_train$best_position <=4, 1,0))\n",
    "basetable_train$Top3 = as.factor(ifelse(basetable_train$best_position <=3, 1,0))"
   ]
  },
  {
   "cell_type": "code",
   "execution_count": null,
   "id": "dcd50baa",
   "metadata": {
    "vscode": {
     "languageId": "r"
    }
   },
   "outputs": [
    {
     "data": {
      "text/plain": [
       "\n",
       "  0   1 \n",
       "102 203 "
      ]
     },
     "metadata": {},
     "output_type": "display_data"
    },
    {
     "ename": "",
     "evalue": "",
     "output_type": "error",
     "traceback": [
      "\u001b[1;31mFailed to start the Kernel. \n",
      "dyld[12757]: Library not loaded: @rpath/libreadline.6.2.dylib\n",
      "  Referenced from: /opt/anaconda3/lib/R/lib/libR.dylib\n",
      "  Reason: tried: '/opt/anaconda3/lib/R/lib/../../libreadline.6.2.dylib' (no such file), '/opt/anaconda3/lib/R/bin/exec/../../../libreadline.6.2.dylib' (no such file), '/opt/anaconda3/lib/R/bin/exec/../../../libreadline.6.2.dylib' (no such file), '/opt/anaconda3/lib/R/lib/libreadline.6.2.dylib' (no such file), '/opt/anaconda3/lib/libreadline.6.2.dylib' (no such file), '/opt/anaconda3/libreadline.6.2.dylib' (no such file). \n",
      "View Jupyter <a href='command:jupyter.viewOutput'>log</a> for further details."
     ]
    }
   ],
   "source": [
    "table(basetable_train$Top10)"
   ]
  },
  {
   "cell_type": "code",
   "execution_count": null,
   "id": "b3c1249b",
   "metadata": {
    "vscode": {
     "languageId": "r"
    }
   },
   "outputs": [
    {
     "ename": "",
     "evalue": "",
     "output_type": "error",
     "traceback": [
      "\u001b[1;31mFailed to start the Kernel. \n",
      "dyld[12757]: Library not loaded: @rpath/libreadline.6.2.dylib\n",
      "  Referenced from: /opt/anaconda3/lib/R/lib/libR.dylib\n",
      "  Reason: tried: '/opt/anaconda3/lib/R/lib/../../libreadline.6.2.dylib' (no such file), '/opt/anaconda3/lib/R/bin/exec/../../../libreadline.6.2.dylib' (no such file), '/opt/anaconda3/lib/R/bin/exec/../../../libreadline.6.2.dylib' (no such file), '/opt/anaconda3/lib/R/lib/libreadline.6.2.dylib' (no such file), '/opt/anaconda3/lib/libreadline.6.2.dylib' (no such file), '/opt/anaconda3/libreadline.6.2.dylib' (no such file). \n",
      "View Jupyter <a href='command:jupyter.viewOutput'>log</a> for further details."
     ]
    }
   ],
   "source": [
    "basetable_train$minutes_from_top = NULL\n",
    "basetable_train$best_position = NULL\n",
    "basetable_train$Team = NULL\n",
    "basetable_train$Year = NULL\n",
    "basetable_train$Stage = NULL\n",
    "basetable_train$Team_ID = NULL\n",
    "basetable_train$Race= NULL\n",
    "table_train <- basetable_train\n",
    "table_test<- basetable_test\n",
    "table_val <- basetable_val"
   ]
  },
  {
   "cell_type": "code",
   "execution_count": null,
   "id": "e4255660",
   "metadata": {
    "vscode": {
     "languageId": "r"
    }
   },
   "outputs": [
    {
     "ename": "",
     "evalue": "",
     "output_type": "error",
     "traceback": [
      "\u001b[1;31mFailed to start the Kernel. \n",
      "dyld[12757]: Library not loaded: @rpath/libreadline.6.2.dylib\n",
      "  Referenced from: /opt/anaconda3/lib/R/lib/libR.dylib\n",
      "  Reason: tried: '/opt/anaconda3/lib/R/lib/../../libreadline.6.2.dylib' (no such file), '/opt/anaconda3/lib/R/bin/exec/../../../libreadline.6.2.dylib' (no such file), '/opt/anaconda3/lib/R/bin/exec/../../../libreadline.6.2.dylib' (no such file), '/opt/anaconda3/lib/R/lib/libreadline.6.2.dylib' (no such file), '/opt/anaconda3/lib/libreadline.6.2.dylib' (no such file), '/opt/anaconda3/libreadline.6.2.dylib' (no such file). \n",
      "View Jupyter <a href='command:jupyter.viewOutput'>log</a> for further details."
     ]
    }
   ],
   "source": [
    "basetable_val$Top10 = as.factor(ifelse(basetable_val$best_position <=10, 1,0))\n",
    "basetable_val$Top5 = as.factor(ifelse(basetable_val$best_position <=5, 1,0))\n",
    "basetable_val$Top4 = as.factor(ifelse(basetable_val$best_position <=4, 1,0))\n",
    "basetable_val$Top3 = as.factor(ifelse(basetable_val$best_position <=3, 1,0))"
   ]
  },
  {
   "cell_type": "code",
   "execution_count": null,
   "id": "dee6245a",
   "metadata": {
    "vscode": {
     "languageId": "r"
    }
   },
   "outputs": [
    {
     "data": {
      "text/plain": [
       "\n",
       " 0  1 \n",
       "44 90 "
      ]
     },
     "metadata": {},
     "output_type": "display_data"
    },
    {
     "ename": "",
     "evalue": "",
     "output_type": "error",
     "traceback": [
      "\u001b[1;31mFailed to start the Kernel. \n",
      "dyld[12757]: Library not loaded: @rpath/libreadline.6.2.dylib\n",
      "  Referenced from: /opt/anaconda3/lib/R/lib/libR.dylib\n",
      "  Reason: tried: '/opt/anaconda3/lib/R/lib/../../libreadline.6.2.dylib' (no such file), '/opt/anaconda3/lib/R/bin/exec/../../../libreadline.6.2.dylib' (no such file), '/opt/anaconda3/lib/R/bin/exec/../../../libreadline.6.2.dylib' (no such file), '/opt/anaconda3/lib/R/lib/libreadline.6.2.dylib' (no such file), '/opt/anaconda3/lib/libreadline.6.2.dylib' (no such file), '/opt/anaconda3/libreadline.6.2.dylib' (no such file). \n",
      "View Jupyter <a href='command:jupyter.viewOutput'>log</a> for further details."
     ]
    }
   ],
   "source": [
    "table(basetable_val$Top10)"
   ]
  },
  {
   "cell_type": "code",
   "execution_count": null,
   "id": "e684cd0f",
   "metadata": {
    "vscode": {
     "languageId": "r"
    }
   },
   "outputs": [
    {
     "ename": "",
     "evalue": "",
     "output_type": "error",
     "traceback": [
      "\u001b[1;31mFailed to start the Kernel. \n",
      "dyld[12757]: Library not loaded: @rpath/libreadline.6.2.dylib\n",
      "  Referenced from: /opt/anaconda3/lib/R/lib/libR.dylib\n",
      "  Reason: tried: '/opt/anaconda3/lib/R/lib/../../libreadline.6.2.dylib' (no such file), '/opt/anaconda3/lib/R/bin/exec/../../../libreadline.6.2.dylib' (no such file), '/opt/anaconda3/lib/R/bin/exec/../../../libreadline.6.2.dylib' (no such file), '/opt/anaconda3/lib/R/lib/libreadline.6.2.dylib' (no such file), '/opt/anaconda3/lib/libreadline.6.2.dylib' (no such file), '/opt/anaconda3/libreadline.6.2.dylib' (no such file). \n",
      "View Jupyter <a href='command:jupyter.viewOutput'>log</a> for further details."
     ]
    }
   ],
   "source": [
    "basetable_val$minutes_from_top = NULL\n",
    "basetable_val$best_position = NULL\n",
    "basetable_val$Team = NULL\n",
    "basetable_val$Year = NULL\n",
    "basetable_val$Stage = NULL\n",
    "basetable_val$Team_ID = NULL\n",
    "basetable_val$Race= NULL"
   ]
  },
  {
   "cell_type": "markdown",
   "id": "26d71240",
   "metadata": {},
   "source": [
    "# Prediction if finish in the top 10"
   ]
  },
  {
   "cell_type": "markdown",
   "id": "c77f8f0b",
   "metadata": {},
   "source": [
    "## Random Forest"
   ]
  },
  {
   "cell_type": "markdown",
   "id": "b7fd0bf4",
   "metadata": {},
   "source": [
    "## Tuning"
   ]
  },
  {
   "cell_type": "code",
   "execution_count": null,
   "id": "211afbdd",
   "metadata": {
    "scrolled": true,
    "vscode": {
     "languageId": "r"
    }
   },
   "outputs": [
    {
     "name": "stdout",
     "output_type": "stream",
     "text": [
      "-0.03191489 1e-09 \n",
      "0.0106383 1e-09 \n",
      "0 1e-09 \n"
     ]
    },
    {
     "data": {
      "text/html": [
       "<table>\n",
       "<thead><tr><th></th><th scope=col>mtry</th><th scope=col>OOBError</th></tr></thead>\n",
       "<tbody>\n",
       "\t<tr><th scope=row>1.OOB</th><td>1        </td><td>0.3049180</td></tr>\n",
       "\t<tr><th scope=row>2.OOB</th><td>2        </td><td>0.3049180</td></tr>\n",
       "\t<tr><th scope=row>3.OOB</th><td>3        </td><td>0.3081967</td></tr>\n",
       "\t<tr><th scope=row>4.OOB</th><td>4        </td><td>0.3180328</td></tr>\n",
       "</tbody>\n",
       "</table>\n"
      ],
      "text/latex": [
       "\\begin{tabular}{r|ll}\n",
       "  & mtry & OOBError\\\\\n",
       "\\hline\n",
       "\t1.OOB & 1         & 0.3049180\\\\\n",
       "\t2.OOB & 2         & 0.3049180\\\\\n",
       "\t3.OOB & 3         & 0.3081967\\\\\n",
       "\t4.OOB & 4         & 0.3180328\\\\\n",
       "\\end{tabular}\n"
      ],
      "text/markdown": [
       "\n",
       "| <!--/--> | mtry | OOBError |\n",
       "|---|---|---|\n",
       "| 1.OOB | 1         | 0.3049180 |\n",
       "| 2.OOB | 2         | 0.3049180 |\n",
       "| 3.OOB | 3         | 0.3081967 |\n",
       "| 4.OOB | 4         | 0.3180328 |\n",
       "\n"
      ],
      "text/plain": [
       "      mtry OOBError \n",
       "1.OOB 1    0.3049180\n",
       "2.OOB 2    0.3049180\n",
       "3.OOB 3    0.3081967\n",
       "4.OOB 4    0.3180328"
      ]
     },
     "metadata": {},
     "output_type": "display_data"
    },
    {
     "data": {
      "image/png": "[encoded data removed]",
      "text/plain": [
       "plot without title"
      ]
     },
     "metadata": {},
     "output_type": "display_data"
    },
    {
     "ename": "",
     "evalue": "",
     "output_type": "error",
     "traceback": [
      "\u001b[1;31mFailed to start the Kernel. \n",
      "dyld[12757]: Library not loaded: @rpath/libreadline.6.2.dylib\n",
      "  Referenced from: /opt/anaconda3/lib/R/lib/libR.dylib\n",
      "  Reason: tried: '/opt/anaconda3/lib/R/lib/../../libreadline.6.2.dylib' (no such file), '/opt/anaconda3/lib/R/bin/exec/../../../libreadline.6.2.dylib' (no such file), '/opt/anaconda3/lib/R/bin/exec/../../../libreadline.6.2.dylib' (no such file), '/opt/anaconda3/lib/R/lib/libreadline.6.2.dylib' (no such file), '/opt/anaconda3/lib/libreadline.6.2.dylib' (no such file), '/opt/anaconda3/libreadline.6.2.dylib' (no such file). \n",
      "View Jupyter <a href='command:jupyter.viewOutput'>log</a> for further details."
     ]
    }
   ],
   "source": [
    "set.seed(123)\n",
    "m2 = tuneRF(basetable_train[,-(40:43)], basetable_train$Top10,mtryStart=3,step=0.9,ntreeTry = 1000,trace = FALSE,improve=0.000000001)\n",
    "m2"
   ]
  },
  {
   "cell_type": "code",
   "execution_count": null,
   "id": "824f102c",
   "metadata": {
    "vscode": {
     "languageId": "r"
    }
   },
   "outputs": [
    {
     "data": {
      "text/html": [
       "455"
      ],
      "text/latex": [
       "455"
      ],
      "text/markdown": [
       "455"
      ],
      "text/plain": [
       "[1] 455"
      ]
     },
     "metadata": {},
     "output_type": "display_data"
    },
    {
     "ename": "",
     "evalue": "",
     "output_type": "error",
     "traceback": [
      "\u001b[1;31mFailed to start the Kernel. \n",
      "dyld[12757]: Library not loaded: @rpath/libreadline.6.2.dylib\n",
      "  Referenced from: /opt/anaconda3/lib/R/lib/libR.dylib\n",
      "  Reason: tried: '/opt/anaconda3/lib/R/lib/../../libreadline.6.2.dylib' (no such file), '/opt/anaconda3/lib/R/bin/exec/../../../libreadline.6.2.dylib' (no such file), '/opt/anaconda3/lib/R/bin/exec/../../../libreadline.6.2.dylib' (no such file), '/opt/anaconda3/lib/R/lib/libreadline.6.2.dylib' (no such file), '/opt/anaconda3/lib/libreadline.6.2.dylib' (no such file), '/opt/anaconda3/libreadline.6.2.dylib' (no such file). \n",
      "View Jupyter <a href='command:jupyter.viewOutput'>log</a> for further details."
     ]
    }
   ],
   "source": [
    "# hyperparameter grid search\n",
    "hyper_grid <- expand.grid(\n",
    "   num_trees = c(1000),\n",
    "  mtry       = seq(1, 13, by = 1),\n",
    "  node_size  = seq(1, 13, by = 2),\n",
    "  sampe_size = c(.55, .632, .70,0.75,.80),\n",
    "  OOB_RMSE   = 0\n",
    " \n",
    ")\n",
    "nrow(hyper_grid)"
   ]
  },
  {
   "cell_type": "code",
   "execution_count": null,
   "id": "bf87a8f6",
   "metadata": {
    "vscode": {
     "languageId": "r"
    }
   },
   "outputs": [
    {
     "ename": "",
     "evalue": "",
     "output_type": "error",
     "traceback": [
      "\u001b[1;31mFailed to start the Kernel. \n",
      "dyld[12757]: Library not loaded: @rpath/libreadline.6.2.dylib\n",
      "  Referenced from: /opt/anaconda3/lib/R/lib/libR.dylib\n",
      "  Reason: tried: '/opt/anaconda3/lib/R/lib/../../libreadline.6.2.dylib' (no such file), '/opt/anaconda3/lib/R/bin/exec/../../../libreadline.6.2.dylib' (no such file), '/opt/anaconda3/lib/R/bin/exec/../../../libreadline.6.2.dylib' (no such file), '/opt/anaconda3/lib/R/lib/libreadline.6.2.dylib' (no such file), '/opt/anaconda3/lib/libreadline.6.2.dylib' (no such file), '/opt/anaconda3/libreadline.6.2.dylib' (no such file). \n",
      "View Jupyter <a href='command:jupyter.viewOutput'>log</a> for further details."
     ]
    }
   ],
   "source": [
    "for(i in 1:nrow(hyper_grid)) {\n",
    "  \n",
    "  # train model\n",
    "  model <- ranger(\n",
    "    x               = basetable_train[,-(40:43)], \n",
    "    y               = basetable_train$Top10, \n",
    "    num.trees       = hyper_grid$mtry[i],\n",
    "    mtry            = hyper_grid$mtry[i],\n",
    "    min.node.size   = hyper_grid$node_size[i],\n",
    "    sample.fraction = hyper_grid$sampe_size[i],\n",
    "    probability     = TRUE,\n",
    "    seed            = 123\n",
    "  )\n",
    "  \n",
    "  # add OOB error to grid\n",
    "  hyper_grid$OOB_RMSE[i] <- sqrt(model$prediction.error)\n",
    "}"
   ]
  },
  {
   "cell_type": "code",
   "execution_count": null,
   "id": "a087b217",
   "metadata": {
    "scrolled": true,
    "vscode": {
     "languageId": "r"
    }
   },
   "outputs": [
    {
     "data": {
      "text/html": [
       "<table>\n",
       "<thead><tr><th scope=col>num_trees</th><th scope=col>mtry</th><th scope=col>node_size</th><th scope=col>sampe_size</th><th scope=col>OOB_RMSE</th></tr></thead>\n",
       "<tbody>\n",
       "\t<tr><td>1000     </td><td> 8       </td><td>13       </td><td>0.750    </td><td>0.4649227</td></tr>\n",
       "\t<tr><td>1000     </td><td>12       </td><td>13       </td><td>0.750    </td><td>0.4663225</td></tr>\n",
       "\t<tr><td>1000     </td><td>11       </td><td>13       </td><td>0.632    </td><td>0.4679434</td></tr>\n",
       "\t<tr><td>1000     </td><td> 8       </td><td>11       </td><td>0.750    </td><td>0.4679802</td></tr>\n",
       "\t<tr><td>1000     </td><td>13       </td><td> 5       </td><td>0.800    </td><td>0.4688233</td></tr>\n",
       "\t<tr><td>1000     </td><td>12       </td><td> 7       </td><td>0.550    </td><td>0.4694210</td></tr>\n",
       "\t<tr><td>1000     </td><td>13       </td><td> 1       </td><td>0.800    </td><td>0.4715967</td></tr>\n",
       "\t<tr><td>1000     </td><td>11       </td><td>11       </td><td>0.632    </td><td>0.4717581</td></tr>\n",
       "\t<tr><td>1000     </td><td>10       </td><td>13       </td><td>0.750    </td><td>0.4721002</td></tr>\n",
       "\t<tr><td>1000     </td><td> 8       </td><td> 7       </td><td>0.750    </td><td>0.4728764</td></tr>\n",
       "</tbody>\n",
       "</table>\n"
      ],
      "text/latex": [
       "\\begin{tabular}{r|lllll}\n",
       " num\\_trees & mtry & node\\_size & sampe\\_size & OOB\\_RMSE\\\\\n",
       "\\hline\n",
       "\t 1000      &  8        & 13        & 0.750     & 0.4649227\\\\\n",
       "\t 1000      & 12        & 13        & 0.750     & 0.4663225\\\\\n",
       "\t 1000      & 11        & 13        & 0.632     & 0.4679434\\\\\n",
       "\t 1000      &  8        & 11        & 0.750     & 0.4679802\\\\\n",
       "\t 1000      & 13        &  5        & 0.800     & 0.4688233\\\\\n",
       "\t 1000      & 12        &  7        & 0.550     & 0.4694210\\\\\n",
       "\t 1000      & 13        &  1        & 0.800     & 0.4715967\\\\\n",
       "\t 1000      & 11        & 11        & 0.632     & 0.4717581\\\\\n",
       "\t 1000      & 10        & 13        & 0.750     & 0.4721002\\\\\n",
       "\t 1000      &  8        &  7        & 0.750     & 0.4728764\\\\\n",
       "\\end{tabular}\n"
      ],
      "text/markdown": [
       "\n",
       "| num_trees | mtry | node_size | sampe_size | OOB_RMSE |\n",
       "|---|---|---|---|---|\n",
       "| 1000      |  8        | 13        | 0.750     | 0.4649227 |\n",
       "| 1000      | 12        | 13        | 0.750     | 0.4663225 |\n",
       "| 1000      | 11        | 13        | 0.632     | 0.4679434 |\n",
       "| 1000      |  8        | 11        | 0.750     | 0.4679802 |\n",
       "| 1000      | 13        |  5        | 0.800     | 0.4688233 |\n",
       "| 1000      | 12        |  7        | 0.550     | 0.4694210 |\n",
       "| 1000      | 13        |  1        | 0.800     | 0.4715967 |\n",
       "| 1000      | 11        | 11        | 0.632     | 0.4717581 |\n",
       "| 1000      | 10        | 13        | 0.750     | 0.4721002 |\n",
       "| 1000      |  8        |  7        | 0.750     | 0.4728764 |\n",
       "\n"
      ],
      "text/plain": [
       "   num_trees mtry node_size sampe_size OOB_RMSE \n",
       "1  1000       8   13        0.750      0.4649227\n",
       "2  1000      12   13        0.750      0.4663225\n",
       "3  1000      11   13        0.632      0.4679434\n",
       "4  1000       8   11        0.750      0.4679802\n",
       "5  1000      13    5        0.800      0.4688233\n",
       "6  1000      12    7        0.550      0.4694210\n",
       "7  1000      13    1        0.800      0.4715967\n",
       "8  1000      11   11        0.632      0.4717581\n",
       "9  1000      10   13        0.750      0.4721002\n",
       "10 1000       8    7        0.750      0.4728764"
      ]
     },
     "metadata": {},
     "output_type": "display_data"
    },
    {
     "ename": "",
     "evalue": "",
     "output_type": "error",
     "traceback": [
      "\u001b[1;31mFailed to start the Kernel. \n",
      "dyld[12757]: Library not loaded: @rpath/libreadline.6.2.dylib\n",
      "  Referenced from: /opt/anaconda3/lib/R/lib/libR.dylib\n",
      "  Reason: tried: '/opt/anaconda3/lib/R/lib/../../libreadline.6.2.dylib' (no such file), '/opt/anaconda3/lib/R/bin/exec/../../../libreadline.6.2.dylib' (no such file), '/opt/anaconda3/lib/R/bin/exec/../../../libreadline.6.2.dylib' (no such file), '/opt/anaconda3/lib/R/lib/libreadline.6.2.dylib' (no such file), '/opt/anaconda3/lib/libreadline.6.2.dylib' (no such file), '/opt/anaconda3/libreadline.6.2.dylib' (no such file). \n",
      "View Jupyter <a href='command:jupyter.viewOutput'>log</a> for further details."
     ]
    }
   ],
   "source": [
    "hyper_grid %>% \n",
    "  dplyr::arrange(OOB_RMSE) %>%\n",
    "  head(10)\n"
   ]
  },
  {
   "cell_type": "markdown",
   "id": "fa586d35",
   "metadata": {},
   "source": [
    "### 5x2cv"
   ]
  },
  {
   "cell_type": "code",
   "execution_count": null,
   "id": "bfe12287",
   "metadata": {
    "scrolled": false,
    "vscode": {
     "languageId": "r"
    }
   },
   "outputs": [
    {
     "data": {
      "image/png": "[encoded data removed]",
      "text/plain": [
       "plot without title"
      ]
     },
     "metadata": {},
     "output_type": "display_data"
    },
    {
     "ename": "",
     "evalue": "",
     "output_type": "error",
     "traceback": [
      "\u001b[1;31mFailed to start the Kernel. \n",
      "dyld[12757]: Library not loaded: @rpath/libreadline.6.2.dylib\n",
      "  Referenced from: /opt/anaconda3/lib/R/lib/libR.dylib\n",
      "  Reason: tried: '/opt/anaconda3/lib/R/lib/../../libreadline.6.2.dylib' (no such file), '/opt/anaconda3/lib/R/bin/exec/../../../libreadline.6.2.dylib' (no such file), '/opt/anaconda3/lib/R/bin/exec/../../../libreadline.6.2.dylib' (no such file), '/opt/anaconda3/lib/R/lib/libreadline.6.2.dylib' (no such file), '/opt/anaconda3/lib/libreadline.6.2.dylib' (no such file), '/opt/anaconda3/libreadline.6.2.dylib' (no such file). \n",
      "View Jupyter <a href='command:jupyter.viewOutput'>log</a> for further details."
     ]
    }
   ],
   "source": [
    "# By setting a new unique seed, you ensure a different\n",
    "# 'random' split\n",
    "seeds <- c(123, 246, 91, 949, 9000, 1860, 1853, 1416, 515, 369,145,36920,877,124,617,1743,4852,9001,9005,9004,14,15,19,18,246,47,1,2,3,4,5,6,7,20)  #give 10 random values\n",
    "all_aucs <- vector(length = length(seeds))\n",
    "\n",
    "for (i in 1:length(seeds)) {\n",
    "    set.seed(seeds[i])\n",
    "    allind <- sample(x = 1:nrow(basetable_train), size = nrow(basetable_train),\n",
    "        replace = TRUE)  # WITH replacement\n",
    "    \n",
    "\n",
    "    # block to get indices\n",
    "    trainind <- allind[1:round(length(allind) * 0.70)]\n",
    "    testind <- allind[!allind %in% trainind]  #get all indices which are not in training\n",
    "\n",
    "    #actual subsetting\n",
    "    train <- basetable_train[trainind, ]\n",
    "    yTRAIN <- train$Top10\n",
    "    train$Top10 = NULL\n",
    "    train$Top5 = NULL\n",
    "    train$Top4 = NULL\n",
    "    train$Top3 = NULL\n",
    "    \n",
    "    test <- basetable_train[testind, ]\n",
    "    yTEST <- test$Top10\n",
    "    test$Top10 <- NULL\n",
    "    test$Top5 = NULL\n",
    "    test$Top4 = NULL\n",
    "    test$Top3 = NULL\n",
    "    \n",
    "    #fit\n",
    "    model <- ranger(x=train, y = yTRAIN, num.trees = 500, mtry = 8,min.node.size = 13, sample.fraction = 0.75, probability = TRUE)\n",
    "    # predict on second set (test)0\n",
    "    predictions =  predict(model,test)$predictions[,2]   \n",
    "    \n",
    "    # evaluate and store\n",
    "    all_aucs[i] <- AUC::auc(roc(predictions, yTEST))\n",
    "}\n",
    "\n",
    "# Plot\n",
    "plot(all_aucs, type = \"b\")"
   ]
  },
  {
   "cell_type": "code",
   "execution_count": null,
   "id": "b5c3ed81",
   "metadata": {
    "vscode": {
     "languageId": "r"
    }
   },
   "outputs": [
    {
     "data": {
      "text/html": [
       "0.670566274430805"
      ],
      "text/latex": [
       "0.670566274430805"
      ],
      "text/markdown": [
       "0.670566274430805"
      ],
      "text/plain": [
       "[1] 0.6705663"
      ]
     },
     "metadata": {},
     "output_type": "display_data"
    },
    {
     "ename": "",
     "evalue": "",
     "output_type": "error",
     "traceback": [
      "\u001b[1;31mFailed to start the Kernel. \n",
      "dyld[12757]: Library not loaded: @rpath/libreadline.6.2.dylib\n",
      "  Referenced from: /opt/anaconda3/lib/R/lib/libR.dylib\n",
      "  Reason: tried: '/opt/anaconda3/lib/R/lib/../../libreadline.6.2.dylib' (no such file), '/opt/anaconda3/lib/R/bin/exec/../../../libreadline.6.2.dylib' (no such file), '/opt/anaconda3/lib/R/bin/exec/../../../libreadline.6.2.dylib' (no such file), '/opt/anaconda3/lib/R/lib/libreadline.6.2.dylib' (no such file), '/opt/anaconda3/lib/libreadline.6.2.dylib' (no such file), '/opt/anaconda3/libreadline.6.2.dylib' (no such file). \n",
      "View Jupyter <a href='command:jupyter.viewOutput'>log</a> for further details."
     ]
    }
   ],
   "source": [
    "mean(all_aucs)"
   ]
  },
  {
   "cell_type": "markdown",
   "id": "ffa2bdfa",
   "metadata": {},
   "source": [
    "## Validation"
   ]
  },
  {
   "cell_type": "code",
   "execution_count": null,
   "id": "b405bb27",
   "metadata": {
    "scrolled": true,
    "vscode": {
     "languageId": "r"
    }
   },
   "outputs": [
    {
     "data": {
      "text/html": [
       "0.71489898989899"
      ],
      "text/latex": [
       "0.71489898989899"
      ],
      "text/markdown": [
       "0.71489898989899"
      ],
      "text/plain": [
       "[1] 0.714899"
      ]
     },
     "metadata": {},
     "output_type": "display_data"
    },
    {
     "ename": "",
     "evalue": "",
     "output_type": "error",
     "traceback": [
      "\u001b[1;31mFailed to start the Kernel. \n",
      "dyld[12757]: Library not loaded: @rpath/libreadline.6.2.dylib\n",
      "  Referenced from: /opt/anaconda3/lib/R/lib/libR.dylib\n",
      "  Reason: tried: '/opt/anaconda3/lib/R/lib/../../libreadline.6.2.dylib' (no such file), '/opt/anaconda3/lib/R/bin/exec/../../../libreadline.6.2.dylib' (no such file), '/opt/anaconda3/lib/R/bin/exec/../../../libreadline.6.2.dylib' (no such file), '/opt/anaconda3/lib/R/lib/libreadline.6.2.dylib' (no such file), '/opt/anaconda3/lib/libreadline.6.2.dylib' (no such file), '/opt/anaconda3/libreadline.6.2.dylib' (no such file). \n",
      "View Jupyter <a href='command:jupyter.viewOutput'>log</a> for further details."
     ]
    }
   ],
   "source": [
    "set.seed(123)\n",
    "train <- basetable_train\n",
    "yTRAIN <- train$Top10\n",
    "train$Top10 = NULL\n",
    "train$Top5 = NULL\n",
    "train$Top4 = NULL\n",
    "train$Top3 = NULL\n",
    "\n",
    "test <- basetable_val\n",
    "yTEST <- test$Top10\n",
    "test$Top10 = NULL\n",
    "test$Top5 = NULL\n",
    "test$Top4 = NULL\n",
    "test$Top3 = NULL\n",
    "\n",
    "#fit\n",
    "rFmodel <- randomForest(x=train, y = yTRAIN, ntree = 1000,mtry=3)\n",
    "# predict on second set (test)\n",
    "predictions <- predict(rFmodel, test, type = \"prob\")[, 2]\n",
    "\n",
    "AUC::auc(roc(predictions,factor(yTEST)))"
   ]
  },
  {
   "cell_type": "code",
   "execution_count": null,
   "id": "4e7452a3",
   "metadata": {
    "vscode": {
     "languageId": "r"
    }
   },
   "outputs": [
    {
     "ename": "",
     "evalue": "",
     "output_type": "error",
     "traceback": [
      "\u001b[1;31mFailed to start the Kernel. \n",
      "dyld[12757]: Library not loaded: @rpath/libreadline.6.2.dylib\n",
      "  Referenced from: /opt/anaconda3/lib/R/lib/libR.dylib\n",
      "  Reason: tried: '/opt/anaconda3/lib/R/lib/../../libreadline.6.2.dylib' (no such file), '/opt/anaconda3/lib/R/bin/exec/../../../libreadline.6.2.dylib' (no such file), '/opt/anaconda3/lib/R/bin/exec/../../../libreadline.6.2.dylib' (no such file), '/opt/anaconda3/lib/R/lib/libreadline.6.2.dylib' (no such file), '/opt/anaconda3/lib/libreadline.6.2.dylib' (no such file), '/opt/anaconda3/libreadline.6.2.dylib' (no such file). \n",
      "View Jupyter <a href='command:jupyter.viewOutput'>log</a> for further details."
     ]
    }
   ],
   "source": [
    "auc = AUC::auc(roc(predictions,factor(yTEST)))"
   ]
  },
  {
   "cell_type": "code",
   "execution_count": null,
   "id": "02c3f38c",
   "metadata": {
    "vscode": {
     "languageId": "r"
    }
   },
   "outputs": [
    {
     "ename": "",
     "evalue": "",
     "output_type": "error",
     "traceback": [
      "\u001b[1;31mFailed to start the Kernel. \n",
      "dyld[12757]: Library not loaded: @rpath/libreadline.6.2.dylib\n",
      "  Referenced from: /opt/anaconda3/lib/R/lib/libR.dylib\n",
      "  Reason: tried: '/opt/anaconda3/lib/R/lib/../../libreadline.6.2.dylib' (no such file), '/opt/anaconda3/lib/R/bin/exec/../../../libreadline.6.2.dylib' (no such file), '/opt/anaconda3/lib/R/bin/exec/../../../libreadline.6.2.dylib' (no such file), '/opt/anaconda3/lib/R/lib/libreadline.6.2.dylib' (no such file), '/opt/anaconda3/lib/libreadline.6.2.dylib' (no such file), '/opt/anaconda3/libreadline.6.2.dylib' (no such file). \n",
      "View Jupyter <a href='command:jupyter.viewOutput'>log</a> for further details."
     ]
    }
   ],
   "source": [
    "res = ifelse(predictions>=0.5,1,0)\n",
    "true_outcome = yTEST"
   ]
  },
  {
   "cell_type": "code",
   "execution_count": null,
   "id": "09e07d69",
   "metadata": {
    "vscode": {
     "languageId": "r"
    }
   },
   "outputs": [
    {
     "data": {
      "text/plain": [
       "          Reference\n",
       "Prediction  0  1\n",
       "         0  8  4\n",
       "         1 36 86"
      ]
     },
     "metadata": {},
     "output_type": "display_data"
    },
    {
     "data": {
      "text/html": [
       "<span style=white-space:pre-wrap>'AUC:  0.71489898989899'</span>"
      ],
      "text/latex": [
       "'AUC:  0.71489898989899'"
      ],
      "text/markdown": [
       "<span style=white-space:pre-wrap>'AUC:  0.71489898989899'</span>"
      ],
      "text/plain": [
       "[1] \"AUC:  0.71489898989899\""
      ]
     },
     "metadata": {},
     "output_type": "display_data"
    },
    {
     "data": {
      "text/html": [
       "<span style=white-space:pre-wrap>'Accuracy:  0.701492537313433'</span>"
      ],
      "text/latex": [
       "'Accuracy:  0.701492537313433'"
      ],
      "text/markdown": [
       "<span style=white-space:pre-wrap>'Accuracy:  0.701492537313433'</span>"
      ],
      "text/plain": [
       "[1] \"Accuracy:  0.701492537313433\""
      ]
     },
     "metadata": {},
     "output_type": "display_data"
    },
    {
     "data": {
      "text/html": [
       "<span style=white-space:pre-wrap>'Recall:  0.955555555555556'</span>"
      ],
      "text/latex": [
       "'Recall:  0.955555555555556'"
      ],
      "text/markdown": [
       "<span style=white-space:pre-wrap>'Recall:  0.955555555555556'</span>"
      ],
      "text/plain": [
       "[1] \"Recall:  0.955555555555556\""
      ]
     },
     "metadata": {},
     "output_type": "display_data"
    },
    {
     "data": {
      "text/html": [
       "<span style=white-space:pre-wrap>'Precision:  0.704918032786885'</span>"
      ],
      "text/latex": [
       "'Precision:  0.704918032786885'"
      ],
      "text/markdown": [
       "<span style=white-space:pre-wrap>'Precision:  0.704918032786885'</span>"
      ],
      "text/plain": [
       "[1] \"Precision:  0.704918032786885\""
      ]
     },
     "metadata": {},
     "output_type": "display_data"
    },
    {
     "ename": "",
     "evalue": "",
     "output_type": "error",
     "traceback": [
      "\u001b[1;31mFailed to start the Kernel. \n",
      "dyld[12757]: Library not loaded: @rpath/libreadline.6.2.dylib\n",
      "  Referenced from: /opt/anaconda3/lib/R/lib/libR.dylib\n",
      "  Reason: tried: '/opt/anaconda3/lib/R/lib/../../libreadline.6.2.dylib' (no such file), '/opt/anaconda3/lib/R/bin/exec/../../../libreadline.6.2.dylib' (no such file), '/opt/anaconda3/lib/R/bin/exec/../../../libreadline.6.2.dylib' (no such file), '/opt/anaconda3/lib/R/lib/libreadline.6.2.dylib' (no such file), '/opt/anaconda3/lib/libreadline.6.2.dylib' (no such file), '/opt/anaconda3/libreadline.6.2.dylib' (no such file). \n",
      "View Jupyter <a href='command:jupyter.viewOutput'>log</a> for further details."
     ]
    }
   ],
   "source": [
    "confusionMatrix(as.factor(res), as.factor(true_outcome))[[2]]\n",
    "TN =(confusionMatrix(as.factor(res), as.factor(true_outcome)))[[2]][1,1]\n",
    "TP = (confusionMatrix(as.factor(res), as.factor(true_outcome)))[[2]][2,2]\n",
    "FN = (confusionMatrix(as.factor(res), as.factor(true_outcome)))[[2]][1,2]\n",
    "FP = (confusionMatrix(as.factor(res), as.factor(true_outcome)))[[2]][2,1]\n",
    "\n",
    "accuracy = (TP+TN)/(TP+FP+TN+FN)\n",
    "recall = TP/(TP+FN)\n",
    "precision = TP/(TP+FP)\n",
    "\n",
    "paste(\"AUC: \", auc)\n",
    "paste(\"Accuracy: \", accuracy)\n",
    "paste(\"Recall: \", recall)\n",
    "paste(\"Precision: \", precision)"
   ]
  },
  {
   "cell_type": "code",
   "execution_count": null,
   "id": "ec594c81",
   "metadata": {
    "vscode": {
     "languageId": "r"
    }
   },
   "outputs": [
    {
     "data": {
      "text/html": [
       "0.683080808080808"
      ],
      "text/latex": [
       "0.683080808080808"
      ],
      "text/markdown": [
       "0.683080808080808"
      ],
      "text/plain": [
       "[1] 0.6830808"
      ]
     },
     "metadata": {},
     "output_type": "display_data"
    },
    {
     "ename": "",
     "evalue": "",
     "output_type": "error",
     "traceback": [
      "\u001b[1;31mFailed to start the Kernel. \n",
      "dyld[12757]: Library not loaded: @rpath/libreadline.6.2.dylib\n",
      "  Referenced from: /opt/anaconda3/lib/R/lib/libR.dylib\n",
      "  Reason: tried: '/opt/anaconda3/lib/R/lib/../../libreadline.6.2.dylib' (no such file), '/opt/anaconda3/lib/R/bin/exec/../../../libreadline.6.2.dylib' (no such file), '/opt/anaconda3/lib/R/bin/exec/../../../libreadline.6.2.dylib' (no such file), '/opt/anaconda3/lib/R/lib/libreadline.6.2.dylib' (no such file), '/opt/anaconda3/lib/libreadline.6.2.dylib' (no such file), '/opt/anaconda3/libreadline.6.2.dylib' (no such file). \n",
      "View Jupyter <a href='command:jupyter.viewOutput'>log</a> for further details."
     ]
    }
   ],
   "source": [
    "#fit\n",
    "model <- ranger(x=train, y = yTRAIN, num.trees = 1000, mtry = 8,min.node.size = 13, sample.fraction = 0.75, probability = TRUE, seed = 123)\n",
    "# predict on second set (test)\n",
    "predictions =  predict(model,test)$predictions[,2]\n",
    "\n",
    "AUC::auc(roc(predictions,factor(yTEST)))"
   ]
  },
  {
   "cell_type": "code",
   "execution_count": null,
   "id": "01a162ce",
   "metadata": {
    "vscode": {
     "languageId": "r"
    }
   },
   "outputs": [
    {
     "ename": "",
     "evalue": "",
     "output_type": "error",
     "traceback": [
      "\u001b[1;31mFailed to start the Kernel. \n",
      "dyld[12757]: Library not loaded: @rpath/libreadline.6.2.dylib\n",
      "  Referenced from: /opt/anaconda3/lib/R/lib/libR.dylib\n",
      "  Reason: tried: '/opt/anaconda3/lib/R/lib/../../libreadline.6.2.dylib' (no such file), '/opt/anaconda3/lib/R/bin/exec/../../../libreadline.6.2.dylib' (no such file), '/opt/anaconda3/lib/R/bin/exec/../../../libreadline.6.2.dylib' (no such file), '/opt/anaconda3/lib/R/lib/libreadline.6.2.dylib' (no such file), '/opt/anaconda3/lib/libreadline.6.2.dylib' (no such file), '/opt/anaconda3/libreadline.6.2.dylib' (no such file). \n",
      "View Jupyter <a href='command:jupyter.viewOutput'>log</a> for further details."
     ]
    }
   ],
   "source": [
    "auc = AUC::auc(roc(predictions,factor(yTEST)))"
   ]
  },
  {
   "cell_type": "code",
   "execution_count": null,
   "id": "3bf1ba60",
   "metadata": {
    "vscode": {
     "languageId": "r"
    }
   },
   "outputs": [
    {
     "ename": "",
     "evalue": "",
     "output_type": "error",
     "traceback": [
      "\u001b[1;31mFailed to start the Kernel. \n",
      "dyld[12757]: Library not loaded: @rpath/libreadline.6.2.dylib\n",
      "  Referenced from: /opt/anaconda3/lib/R/lib/libR.dylib\n",
      "  Reason: tried: '/opt/anaconda3/lib/R/lib/../../libreadline.6.2.dylib' (no such file), '/opt/anaconda3/lib/R/bin/exec/../../../libreadline.6.2.dylib' (no such file), '/opt/anaconda3/lib/R/bin/exec/../../../libreadline.6.2.dylib' (no such file), '/opt/anaconda3/lib/R/lib/libreadline.6.2.dylib' (no such file), '/opt/anaconda3/lib/libreadline.6.2.dylib' (no such file), '/opt/anaconda3/libreadline.6.2.dylib' (no such file). \n",
      "View Jupyter <a href='command:jupyter.viewOutput'>log</a> for further details."
     ]
    }
   ],
   "source": [
    "res = ifelse(predictions>=0.5,1,0)\n",
    "true_outcome = yTEST"
   ]
  },
  {
   "cell_type": "code",
   "execution_count": null,
   "id": "44c9c946",
   "metadata": {
    "scrolled": true,
    "vscode": {
     "languageId": "r"
    }
   },
   "outputs": [
    {
     "data": {
      "text/plain": [
       "          Reference\n",
       "Prediction  0  1\n",
       "         0 13  5\n",
       "         1 31 85"
      ]
     },
     "metadata": {},
     "output_type": "display_data"
    },
    {
     "data": {
      "text/html": [
       "<span style=white-space:pre-wrap>'AUC:  0.683080808080808'</span>"
      ],
      "text/latex": [
       "'AUC:  0.683080808080808'"
      ],
      "text/markdown": [
       "<span style=white-space:pre-wrap>'AUC:  0.683080808080808'</span>"
      ],
      "text/plain": [
       "[1] \"AUC:  0.683080808080808\""
      ]
     },
     "metadata": {},
     "output_type": "display_data"
    },
    {
     "data": {
      "text/html": [
       "<span style=white-space:pre-wrap>'Accuracy:  0.73134328358209'</span>"
      ],
      "text/latex": [
       "'Accuracy:  0.73134328358209'"
      ],
      "text/markdown": [
       "<span style=white-space:pre-wrap>'Accuracy:  0.73134328358209'</span>"
      ],
      "text/plain": [
       "[1] \"Accuracy:  0.73134328358209\""
      ]
     },
     "metadata": {},
     "output_type": "display_data"
    },
    {
     "data": {
      "text/html": [
       "<span style=white-space:pre-wrap>'Recall:  0.944444444444444'</span>"
      ],
      "text/latex": [
       "'Recall:  0.944444444444444'"
      ],
      "text/markdown": [
       "<span style=white-space:pre-wrap>'Recall:  0.944444444444444'</span>"
      ],
      "text/plain": [
       "[1] \"Recall:  0.944444444444444\""
      ]
     },
     "metadata": {},
     "output_type": "display_data"
    },
    {
     "data": {
      "text/html": [
       "<span style=white-space:pre-wrap>'Precision:  0.732758620689655'</span>"
      ],
      "text/latex": [
       "'Precision:  0.732758620689655'"
      ],
      "text/markdown": [
       "<span style=white-space:pre-wrap>'Precision:  0.732758620689655'</span>"
      ],
      "text/plain": [
       "[1] \"Precision:  0.732758620689655\""
      ]
     },
     "metadata": {},
     "output_type": "display_data"
    },
    {
     "ename": "",
     "evalue": "",
     "output_type": "error",
     "traceback": [
      "\u001b[1;31mFailed to start the Kernel. \n",
      "dyld[12757]: Library not loaded: @rpath/libreadline.6.2.dylib\n",
      "  Referenced from: /opt/anaconda3/lib/R/lib/libR.dylib\n",
      "  Reason: tried: '/opt/anaconda3/lib/R/lib/../../libreadline.6.2.dylib' (no such file), '/opt/anaconda3/lib/R/bin/exec/../../../libreadline.6.2.dylib' (no such file), '/opt/anaconda3/lib/R/bin/exec/../../../libreadline.6.2.dylib' (no such file), '/opt/anaconda3/lib/R/lib/libreadline.6.2.dylib' (no such file), '/opt/anaconda3/lib/libreadline.6.2.dylib' (no such file), '/opt/anaconda3/libreadline.6.2.dylib' (no such file). \n",
      "View Jupyter <a href='command:jupyter.viewOutput'>log</a> for further details."
     ]
    }
   ],
   "source": [
    "confusionMatrix(as.factor(res), as.factor(true_outcome))[[2]]\n",
    "TN =(confusionMatrix(as.factor(res), as.factor(true_outcome)))[[2]][1,1]\n",
    "TP = (confusionMatrix(as.factor(res), as.factor(true_outcome)))[[2]][2,2]\n",
    "FN = (confusionMatrix(as.factor(res), as.factor(true_outcome)))[[2]][1,2]\n",
    "FP = (confusionMatrix(as.factor(res), as.factor(true_outcome)))[[2]][2,1]\n",
    "\n",
    "accuracy = (TP+TN)/(TP+FP+TN+FN)\n",
    "recall = TP/(TP+FN)\n",
    "precision = TP/(TP+FP)\n",
    "\n",
    "paste(\"AUC: \", auc)\n",
    "paste(\"Accuracy: \", accuracy)\n",
    "paste(\"Recall: \", recall)\n",
    "paste(\"Precision: \", precision)"
   ]
  },
  {
   "cell_type": "markdown",
   "id": "21661593",
   "metadata": {},
   "source": [
    "## XGBoost"
   ]
  },
  {
   "cell_type": "markdown",
   "id": "e5efaf70",
   "metadata": {},
   "source": [
    "### Boruta & VarSelRF"
   ]
  },
  {
   "cell_type": "code",
   "execution_count": null,
   "id": "68919057",
   "metadata": {
    "vscode": {
     "languageId": "r"
    }
   },
   "outputs": [],
   "source": [
    "#feature selection on basetable_train\n",
    "#boruta\n",
    "table_train10 <- table_train\n",
    "table_val10 <- table_val\n",
    "table_train10$Top5 <- NULL\n",
    "table_train10$Top4 <- NULL\n",
    "table_train10$Top3 <- NULL\n",
    "table_val10$Top5 <- NULL\n",
    "table_val10$Top4 <- NULL\n",
    "table_val10$Top3 <- NULL\n",
    "\n",
    "\n",
    "rf_boruta <- Boruta(table_train10[, !names(table_train10) %in% c(\"Top10\"\n",
    ")], table_train10$Top10, doTrace = 0)\n",
    "\n",
    "varsel_boruta <- names(rf_boruta$finalDecision[rf_boruta$finalDecision ==\n",
    "                                                 \"Confirmed\"])\n",
    "\n",
    "\n",
    "#Here less features are included in the model so we choose varsel_boruta as a feature selection method\n",
    "##varSelRF\n",
    "rf_vsrf <- varSelRF(table_train10[, !names(table_train10) %in% c(\"Top10\")], table_train10$Top10, vars.drop.frac = 0.1,\n",
    "                    ntree = 500, ntreeIterat = 100)\n",
    "varsel_vsrf <- rf_vsrf$selected.vars\n",
    "\n",
    "#new train en val set\n",
    "y_train <- table_train10$Top10\n",
    "train <- table_train10\n",
    "train$Top10<- NULL\n",
    "\n",
    "y_val <- table_val10$Top10\n",
    "val <- table_val10\n",
    "val$Top10 <-NULL\n",
    "\n",
    "test <- table_test\n",
    "\n",
    "train_fs <- train[varsel_boruta]\n",
    "val_fs <- val[varsel_boruta]\n",
    "test_fs <- test[varsel_boruta]"
   ]
  },
  {
   "cell_type": "markdown",
   "id": "3d81314e",
   "metadata": {},
   "source": [
    "### Train"
   ]
  },
  {
   "cell_type": "code",
   "execution_count": null,
   "id": "373deb13",
   "metadata": {
    "vscode": {
     "languageId": "r"
    }
   },
   "outputs": [],
   "source": [
    "#preparing matrices\n",
    "#convert all data to numeric format\n",
    "trainxgb <- train_fs %>% mutate_if(is.factor, as.character)  %>% mutate_if(is.character, as.numeric)\n",
    "testxgb <- test_fs %>% mutate_if(is.factor, as.character)  %>% mutate_if(is.character, as.numeric)\n",
    "valxgb <- val_fs %>% mutate_if(is.factor, as.character)  %>% mutate_if(is.character, as.numeric)\n",
    "\n",
    "dtrain <- xgb.DMatrix(data = as.matrix(trainxgb),\n",
    "                      label = as.numeric(as.character(y_train))) \n",
    "dval <- xgb.DMatrix(data = as.matrix(valxgb), \n",
    "                    label = as.numeric(as.character(y_val))) \n",
    "dtest <- xgb.DMatrix(data = as.matrix(testxgb))\n",
    "\n",
    "\n",
    "#plotting learning curve of the number of iterations\n",
    "#Need to have watchlist and verbose turned on\n",
    "watchlist <- list(train=dtrain, test=dval)\n",
    "xgbModel_opt <- xgb.train(data = dtrain, \n",
    "                          nrounds = 150, \n",
    "                          objective = \"binary:logistic\", \n",
    "                          verbose = 2, \n",
    "                          watchlist = watchlist,\n",
    "                          eval_metric = 'auc')\n",
    "\n",
    "history <- xgbModel_opt$evaluation_log\n",
    "\n",
    "history %>% pivot_longer(2:3, names_to = \"set\", values_to = \"performance\") %>% \n",
    "  ggplot(., aes(iter, performance, col = set))+\n",
    "  geom_point()+ geom_line()+\n",
    "  facet_wrap(~set)"
   ]
  },
  {
   "cell_type": "markdown",
   "id": "3b99509b",
   "metadata": {},
   "source": [
    "### Validation"
   ]
  },
  {
   "cell_type": "code",
   "execution_count": null,
   "id": "6fb5895e",
   "metadata": {
    "vscode": {
     "languageId": "r"
    }
   },
   "outputs": [],
   "source": [
    "##Optimize nrounds BEST\n",
    "opt_iter <- history$iter[which.max(history$test_auc)]\n",
    "\n",
    "xgbModel_opt <- xgb.train(data = dtrain, \n",
    "                          nrounds = 5, \n",
    "                          objective = \"binary:logistic\",\n",
    "                          eta = 0.52,\n",
    "                          verbose = 0, \n",
    "                          eval_metric = 'auc')\n",
    "\n",
    "predxgb <- predict(xgbModel_opt,dval)\n",
    "AUC::auc(roc(predxgb,y_val))"
   ]
  },
  {
   "cell_type": "markdown",
   "id": "33a297eb",
   "metadata": {},
   "source": [
    "### Test"
   ]
  },
  {
   "cell_type": "code",
   "execution_count": null,
   "id": "59c0b9b9",
   "metadata": {
    "vscode": {
     "languageId": "r"
    }
   },
   "outputs": [],
   "source": [
    "predxgb <- predict(xgbModel_opt,dtest)\n",
    "predxgb <-ifelse(predxgb>=0.5,1,0)"
   ]
  },
  {
   "cell_type": "markdown",
   "id": "c9ea9f6d",
   "metadata": {},
   "source": [
    "# Prediction if finish in the top 5"
   ]
  },
  {
   "cell_type": "markdown",
   "id": "9af51f69",
   "metadata": {},
   "source": [
    "## Random Forest"
   ]
  },
  {
   "cell_type": "markdown",
   "id": "db518724",
   "metadata": {},
   "source": [
    "## Tuning"
   ]
  },
  {
   "cell_type": "code",
   "execution_count": null,
   "id": "42deb46b",
   "metadata": {
    "vscode": {
     "languageId": "r"
    }
   },
   "outputs": [
    {
     "data": {
      "text/html": [
       "455"
      ],
      "text/latex": [
       "455"
      ],
      "text/markdown": [
       "455"
      ],
      "text/plain": [
       "[1] 455"
      ]
     },
     "metadata": {},
     "output_type": "display_data"
    },
    {
     "ename": "",
     "evalue": "",
     "output_type": "error",
     "traceback": [
      "\u001b[1;31mFailed to start the Kernel. \n",
      "dyld[12757]: Library not loaded: @rpath/libreadline.6.2.dylib\n",
      "  Referenced from: /opt/anaconda3/lib/R/lib/libR.dylib\n",
      "  Reason: tried: '/opt/anaconda3/lib/R/lib/../../libreadline.6.2.dylib' (no such file), '/opt/anaconda3/lib/R/bin/exec/../../../libreadline.6.2.dylib' (no such file), '/opt/anaconda3/lib/R/bin/exec/../../../libreadline.6.2.dylib' (no such file), '/opt/anaconda3/lib/R/lib/libreadline.6.2.dylib' (no such file), '/opt/anaconda3/lib/libreadline.6.2.dylib' (no such file), '/opt/anaconda3/libreadline.6.2.dylib' (no such file). \n",
      "View Jupyter <a href='command:jupyter.viewOutput'>log</a> for further details."
     ]
    }
   ],
   "source": [
    "# hyperparameter grid search\n",
    "hyper_grid <- expand.grid(\n",
    "   num_trees = c(1000),\n",
    "  mtry       = seq(1, 13, by = 1),\n",
    "  node_size  = seq(1, 13, by = 2),\n",
    "  sampe_size = c(.55, .632, .70,0.75,.80),\n",
    "  OOB_RMSE   = 0\n",
    " \n",
    ")\n",
    "nrow(hyper_grid)"
   ]
  },
  {
   "cell_type": "code",
   "execution_count": null,
   "id": "facda6da",
   "metadata": {
    "vscode": {
     "languageId": "r"
    }
   },
   "outputs": [
    {
     "ename": "",
     "evalue": "",
     "output_type": "error",
     "traceback": [
      "\u001b[1;31mFailed to start the Kernel. \n",
      "dyld[12757]: Library not loaded: @rpath/libreadline.6.2.dylib\n",
      "  Referenced from: /opt/anaconda3/lib/R/lib/libR.dylib\n",
      "  Reason: tried: '/opt/anaconda3/lib/R/lib/../../libreadline.6.2.dylib' (no such file), '/opt/anaconda3/lib/R/bin/exec/../../../libreadline.6.2.dylib' (no such file), '/opt/anaconda3/lib/R/bin/exec/../../../libreadline.6.2.dylib' (no such file), '/opt/anaconda3/lib/R/lib/libreadline.6.2.dylib' (no such file), '/opt/anaconda3/lib/libreadline.6.2.dylib' (no such file), '/opt/anaconda3/libreadline.6.2.dylib' (no such file). \n",
      "View Jupyter <a href='command:jupyter.viewOutput'>log</a> for further details."
     ]
    }
   ],
   "source": [
    "for(i in 1:nrow(hyper_grid)) {\n",
    "  \n",
    "  # train model\n",
    "  model <- ranger(\n",
    "    x               = basetable_train[,-(40:43)], \n",
    "    y               = basetable_train$Top5, \n",
    "    num.trees       = hyper_grid$mtry[i],\n",
    "    mtry            = hyper_grid$mtry[i],\n",
    "    min.node.size   = hyper_grid$node_size[i],\n",
    "    sample.fraction = hyper_grid$sampe_size[i],\n",
    "    probability     = TRUE,\n",
    "    seed            = 123\n",
    "  )\n",
    "  \n",
    "  # add OOB error to grid\n",
    "  hyper_grid$OOB_RMSE[i] <- sqrt(model$prediction.error)\n",
    "}"
   ]
  },
  {
   "cell_type": "code",
   "execution_count": null,
   "id": "93b67aec",
   "metadata": {
    "scrolled": true,
    "vscode": {
     "languageId": "r"
    }
   },
   "outputs": [
    {
     "data": {
      "text/html": [
       "<table>\n",
       "<thead><tr><th scope=col>num_trees</th><th scope=col>mtry</th><th scope=col>node_size</th><th scope=col>sampe_size</th><th scope=col>OOB_RMSE</th></tr></thead>\n",
       "<tbody>\n",
       "\t<tr><td>1000     </td><td>12       </td><td>13       </td><td>0.550    </td><td>0.4825089</td></tr>\n",
       "\t<tr><td>1000     </td><td>12       </td><td>11       </td><td>0.550    </td><td>0.4867816</td></tr>\n",
       "\t<tr><td>1000     </td><td>11       </td><td>13       </td><td>0.550    </td><td>0.4885454</td></tr>\n",
       "\t<tr><td>1000     </td><td>13       </td><td>11       </td><td>0.700    </td><td>0.4892480</td></tr>\n",
       "\t<tr><td>1000     </td><td>12       </td><td>13       </td><td>0.632    </td><td>0.4904381</td></tr>\n",
       "\t<tr><td>1000     </td><td>11       </td><td>11       </td><td>0.550    </td><td>0.4912506</td></tr>\n",
       "\t<tr><td>1000     </td><td>12       </td><td>11       </td><td>0.632    </td><td>0.4921804</td></tr>\n",
       "\t<tr><td>1000     </td><td>13       </td><td>13       </td><td>0.700    </td><td>0.4931203</td></tr>\n",
       "\t<tr><td>1000     </td><td> 8       </td><td> 5       </td><td>0.550    </td><td>0.4949395</td></tr>\n",
       "\t<tr><td>1000     </td><td>12       </td><td> 5       </td><td>0.550    </td><td>0.4954629</td></tr>\n",
       "</tbody>\n",
       "</table>\n"
      ],
      "text/latex": [
       "\\begin{tabular}{r|lllll}\n",
       " num\\_trees & mtry & node\\_size & sampe\\_size & OOB\\_RMSE\\\\\n",
       "\\hline\n",
       "\t 1000      & 12        & 13        & 0.550     & 0.4825089\\\\\n",
       "\t 1000      & 12        & 11        & 0.550     & 0.4867816\\\\\n",
       "\t 1000      & 11        & 13        & 0.550     & 0.4885454\\\\\n",
       "\t 1000      & 13        & 11        & 0.700     & 0.4892480\\\\\n",
       "\t 1000      & 12        & 13        & 0.632     & 0.4904381\\\\\n",
       "\t 1000      & 11        & 11        & 0.550     & 0.4912506\\\\\n",
       "\t 1000      & 12        & 11        & 0.632     & 0.4921804\\\\\n",
       "\t 1000      & 13        & 13        & 0.700     & 0.4931203\\\\\n",
       "\t 1000      &  8        &  5        & 0.550     & 0.4949395\\\\\n",
       "\t 1000      & 12        &  5        & 0.550     & 0.4954629\\\\\n",
       "\\end{tabular}\n"
      ],
      "text/markdown": [
       "\n",
       "| num_trees | mtry | node_size | sampe_size | OOB_RMSE |\n",
       "|---|---|---|---|---|\n",
       "| 1000      | 12        | 13        | 0.550     | 0.4825089 |\n",
       "| 1000      | 12        | 11        | 0.550     | 0.4867816 |\n",
       "| 1000      | 11        | 13        | 0.550     | 0.4885454 |\n",
       "| 1000      | 13        | 11        | 0.700     | 0.4892480 |\n",
       "| 1000      | 12        | 13        | 0.632     | 0.4904381 |\n",
       "| 1000      | 11        | 11        | 0.550     | 0.4912506 |\n",
       "| 1000      | 12        | 11        | 0.632     | 0.4921804 |\n",
       "| 1000      | 13        | 13        | 0.700     | 0.4931203 |\n",
       "| 1000      |  8        |  5        | 0.550     | 0.4949395 |\n",
       "| 1000      | 12        |  5        | 0.550     | 0.4954629 |\n",
       "\n"
      ],
      "text/plain": [
       "   num_trees mtry node_size sampe_size OOB_RMSE \n",
       "1  1000      12   13        0.550      0.4825089\n",
       "2  1000      12   11        0.550      0.4867816\n",
       "3  1000      11   13        0.550      0.4885454\n",
       "4  1000      13   11        0.700      0.4892480\n",
       "5  1000      12   13        0.632      0.4904381\n",
       "6  1000      11   11        0.550      0.4912506\n",
       "7  1000      12   11        0.632      0.4921804\n",
       "8  1000      13   13        0.700      0.4931203\n",
       "9  1000       8    5        0.550      0.4949395\n",
       "10 1000      12    5        0.550      0.4954629"
      ]
     },
     "metadata": {},
     "output_type": "display_data"
    },
    {
     "ename": "",
     "evalue": "",
     "output_type": "error",
     "traceback": [
      "\u001b[1;31mFailed to start the Kernel. \n",
      "dyld[12757]: Library not loaded: @rpath/libreadline.6.2.dylib\n",
      "  Referenced from: /opt/anaconda3/lib/R/lib/libR.dylib\n",
      "  Reason: tried: '/opt/anaconda3/lib/R/lib/../../libreadline.6.2.dylib' (no such file), '/opt/anaconda3/lib/R/bin/exec/../../../libreadline.6.2.dylib' (no such file), '/opt/anaconda3/lib/R/bin/exec/../../../libreadline.6.2.dylib' (no such file), '/opt/anaconda3/lib/R/lib/libreadline.6.2.dylib' (no such file), '/opt/anaconda3/lib/libreadline.6.2.dylib' (no such file), '/opt/anaconda3/libreadline.6.2.dylib' (no such file). \n",
      "View Jupyter <a href='command:jupyter.viewOutput'>log</a> for further details."
     ]
    }
   ],
   "source": [
    "hyper_grid %>% \n",
    "  dplyr::arrange(OOB_RMSE) %>%\n",
    "  head(10)\n"
   ]
  },
  {
   "cell_type": "markdown",
   "id": "0fbb0a49",
   "metadata": {},
   "source": [
    "### 5x2cv"
   ]
  },
  {
   "cell_type": "code",
   "execution_count": null,
   "id": "3aae6e05",
   "metadata": {
    "scrolled": false,
    "vscode": {
     "languageId": "r"
    }
   },
   "outputs": [
    {
     "data": {
      "image/png": "[encoded data removed]",
      "text/plain": [
       "plot without title"
      ]
     },
     "metadata": {},
     "output_type": "display_data"
    },
    {
     "ename": "",
     "evalue": "",
     "output_type": "error",
     "traceback": [
      "\u001b[1;31mFailed to start the Kernel. \n",
      "dyld[12757]: Library not loaded: @rpath/libreadline.6.2.dylib\n",
      "  Referenced from: /opt/anaconda3/lib/R/lib/libR.dylib\n",
      "  Reason: tried: '/opt/anaconda3/lib/R/lib/../../libreadline.6.2.dylib' (no such file), '/opt/anaconda3/lib/R/bin/exec/../../../libreadline.6.2.dylib' (no such file), '/opt/anaconda3/lib/R/bin/exec/../../../libreadline.6.2.dylib' (no such file), '/opt/anaconda3/lib/R/lib/libreadline.6.2.dylib' (no such file), '/opt/anaconda3/lib/libreadline.6.2.dylib' (no such file), '/opt/anaconda3/libreadline.6.2.dylib' (no such file). \n",
      "View Jupyter <a href='command:jupyter.viewOutput'>log</a> for further details."
     ]
    }
   ],
   "source": [
    "# By setting a new unique seed, you ensure a different\n",
    "# 'random' split\n",
    "seeds <- c(123, 246, 91, 949, 9000, 1860, 1853, 1416, 515, 369,145,36920,877,124,617,1743,4852,9001,9005,9004,14,15,19,18,246,47,1,2,3,4,5,6,7,20)  #give 10 random values\n",
    "all_aucs <- vector(length = length(seeds))\n",
    "\n",
    "for (i in 1:length(seeds)) {\n",
    "    set.seed(seeds[i])\n",
    "    allind <- sample(x = 1:nrow(basetable_train), size = nrow(basetable_train),\n",
    "        replace = TRUE)  # WITH replacement\n",
    "    \n",
    "\n",
    "    # block to get indices\n",
    "    trainind <- allind[1:round(length(allind) * 0.70)]\n",
    "    testind <- allind[!allind %in% trainind]  #get all indices which are not in training\n",
    "\n",
    "    #actual subsetting\n",
    "    train <- basetable_train[trainind, ]\n",
    "    yTRAIN <- train$Top10\n",
    "    train$Top10 = NULL\n",
    "    train$Top5 = NULL\n",
    "    train$Top4 = NULL\n",
    "    train$Top3 = NULL\n",
    "    \n",
    "    test <- basetable_train[testind, ]\n",
    "    yTEST <- test$Top10\n",
    "    test$Top10 <- NULL\n",
    "    test$Top5 = NULL\n",
    "    test$Top4 = NULL\n",
    "    test$Top3 = NULL\n",
    "    \n",
    "    #fit\n",
    "    model <- ranger(x=train, y = yTRAIN, num.trees = 500, mtry = 8,min.node.size = 13, sample.fraction = 0.75, probability = TRUE)\n",
    "    # predict on second set (test)0\n",
    "    predictions =  predict(model,test)$predictions[,2]   \n",
    "    \n",
    "    # evaluate and store\n",
    "    all_aucs[i] <- AUC::auc(roc(predictions, yTEST))\n",
    "}\n",
    "\n",
    "# Plot\n",
    "plot(all_aucs, type = \"b\")"
   ]
  },
  {
   "cell_type": "code",
   "execution_count": null,
   "id": "7eac1876",
   "metadata": {
    "vscode": {
     "languageId": "r"
    }
   },
   "outputs": [
    {
     "data": {
      "text/html": [
       "0.670566274430805"
      ],
      "text/latex": [
       "0.670566274430805"
      ],
      "text/markdown": [
       "0.670566274430805"
      ],
      "text/plain": [
       "[1] 0.6705663"
      ]
     },
     "metadata": {},
     "output_type": "display_data"
    },
    {
     "ename": "",
     "evalue": "",
     "output_type": "error",
     "traceback": [
      "\u001b[1;31mFailed to start the Kernel. \n",
      "dyld[12757]: Library not loaded: @rpath/libreadline.6.2.dylib\n",
      "  Referenced from: /opt/anaconda3/lib/R/lib/libR.dylib\n",
      "  Reason: tried: '/opt/anaconda3/lib/R/lib/../../libreadline.6.2.dylib' (no such file), '/opt/anaconda3/lib/R/bin/exec/../../../libreadline.6.2.dylib' (no such file), '/opt/anaconda3/lib/R/bin/exec/../../../libreadline.6.2.dylib' (no such file), '/opt/anaconda3/lib/R/lib/libreadline.6.2.dylib' (no such file), '/opt/anaconda3/lib/libreadline.6.2.dylib' (no such file), '/opt/anaconda3/libreadline.6.2.dylib' (no such file). \n",
      "View Jupyter <a href='command:jupyter.viewOutput'>log</a> for further details."
     ]
    }
   ],
   "source": [
    "mean(all_aucs)"
   ]
  },
  {
   "cell_type": "markdown",
   "id": "803ffb64",
   "metadata": {},
   "source": [
    "## Validation"
   ]
  },
  {
   "cell_type": "code",
   "execution_count": null,
   "id": "2f534eda",
   "metadata": {
    "scrolled": true,
    "vscode": {
     "languageId": "r"
    }
   },
   "outputs": [
    {
     "data": {
      "text/html": [
       "0.655191622103387"
      ],
      "text/latex": [
       "0.655191622103387"
      ],
      "text/markdown": [
       "0.655191622103387"
      ],
      "text/plain": [
       "[1] 0.6551916"
      ]
     },
     "metadata": {},
     "output_type": "display_data"
    },
    {
     "ename": "",
     "evalue": "",
     "output_type": "error",
     "traceback": [
      "\u001b[1;31mFailed to start the Kernel. \n",
      "dyld[12757]: Library not loaded: @rpath/libreadline.6.2.dylib\n",
      "  Referenced from: /opt/anaconda3/lib/R/lib/libR.dylib\n",
      "  Reason: tried: '/opt/anaconda3/lib/R/lib/../../libreadline.6.2.dylib' (no such file), '/opt/anaconda3/lib/R/bin/exec/../../../libreadline.6.2.dylib' (no such file), '/opt/anaconda3/lib/R/bin/exec/../../../libreadline.6.2.dylib' (no such file), '/opt/anaconda3/lib/R/lib/libreadline.6.2.dylib' (no such file), '/opt/anaconda3/lib/libreadline.6.2.dylib' (no such file), '/opt/anaconda3/libreadline.6.2.dylib' (no such file). \n",
      "View Jupyter <a href='command:jupyter.viewOutput'>log</a> for further details."
     ]
    }
   ],
   "source": [
    "set.seed(123)\n",
    "train <- basetable_train\n",
    "yTRAIN <- train$Top5\n",
    "train$Top10 = NULL\n",
    "train$Top5 = NULL\n",
    "train$Top4 = NULL\n",
    "train$Top3 = NULL\n",
    "\n",
    "test <- basetable_val\n",
    "yTEST <- test$Top5\n",
    "test$Top10 = NULL\n",
    "test$Top5 = NULL\n",
    "test$Top4 = NULL\n",
    "test$Top3 = NULL\n",
    "\n",
    "#fit\n",
    "rFmodel <- randomForest(x=train, y = yTRAIN, ntree = 1000,mtry=8)\n",
    "# predict on second set (test)\n",
    "predictions <- predict(rFmodel, test, type = \"prob\")[, 2]\n",
    "\n",
    "AUC::auc(roc(predictions,factor(yTEST)))"
   ]
  },
  {
   "cell_type": "code",
   "execution_count": null,
   "id": "67226c76",
   "metadata": {
    "vscode": {
     "languageId": "r"
    }
   },
   "outputs": [
    {
     "ename": "",
     "evalue": "",
     "output_type": "error",
     "traceback": [
      "\u001b[1;31mFailed to start the Kernel. \n",
      "dyld[12757]: Library not loaded: @rpath/libreadline.6.2.dylib\n",
      "  Referenced from: /opt/anaconda3/lib/R/lib/libR.dylib\n",
      "  Reason: tried: '/opt/anaconda3/lib/R/lib/../../libreadline.6.2.dylib' (no such file), '/opt/anaconda3/lib/R/bin/exec/../../../libreadline.6.2.dylib' (no such file), '/opt/anaconda3/lib/R/bin/exec/../../../libreadline.6.2.dylib' (no such file), '/opt/anaconda3/lib/R/lib/libreadline.6.2.dylib' (no such file), '/opt/anaconda3/lib/libreadline.6.2.dylib' (no such file), '/opt/anaconda3/libreadline.6.2.dylib' (no such file). \n",
      "View Jupyter <a href='command:jupyter.viewOutput'>log</a> for further details."
     ]
    }
   ],
   "source": [
    "auc = AUC::auc(roc(predictions,factor(yTEST)))"
   ]
  },
  {
   "cell_type": "code",
   "execution_count": null,
   "id": "f50e7e81",
   "metadata": {
    "vscode": {
     "languageId": "r"
    }
   },
   "outputs": [
    {
     "ename": "",
     "evalue": "",
     "output_type": "error",
     "traceback": [
      "\u001b[1;31mFailed to start the Kernel. \n",
      "dyld[12757]: Library not loaded: @rpath/libreadline.6.2.dylib\n",
      "  Referenced from: /opt/anaconda3/lib/R/lib/libR.dylib\n",
      "  Reason: tried: '/opt/anaconda3/lib/R/lib/../../libreadline.6.2.dylib' (no such file), '/opt/anaconda3/lib/R/bin/exec/../../../libreadline.6.2.dylib' (no such file), '/opt/anaconda3/lib/R/bin/exec/../../../libreadline.6.2.dylib' (no such file), '/opt/anaconda3/lib/R/lib/libreadline.6.2.dylib' (no such file), '/opt/anaconda3/lib/libreadline.6.2.dylib' (no such file), '/opt/anaconda3/libreadline.6.2.dylib' (no such file). \n",
      "View Jupyter <a href='command:jupyter.viewOutput'>log</a> for further details."
     ]
    }
   ],
   "source": [
    "res = ifelse(predictions>=0.5,1,0)\n",
    "true_outcome = yTEST"
   ]
  },
  {
   "cell_type": "code",
   "execution_count": null,
   "id": "82178d9c",
   "metadata": {
    "vscode": {
     "languageId": "r"
    }
   },
   "outputs": [
    {
     "data": {
      "text/plain": [
       "          Reference\n",
       "Prediction  0  1\n",
       "         0 27 18\n",
       "         1 39 50"
      ]
     },
     "metadata": {},
     "output_type": "display_data"
    },
    {
     "data": {
      "text/html": [
       "<span style=white-space:pre-wrap>'AUC:  0.655191622103387'</span>"
      ],
      "text/latex": [
       "'AUC:  0.655191622103387'"
      ],
      "text/markdown": [
       "<span style=white-space:pre-wrap>'AUC:  0.655191622103387'</span>"
      ],
      "text/plain": [
       "[1] \"AUC:  0.655191622103387\""
      ]
     },
     "metadata": {},
     "output_type": "display_data"
    },
    {
     "data": {
      "text/html": [
       "<span style=white-space:pre-wrap>'Accuracy:  0.574626865671642'</span>"
      ],
      "text/latex": [
       "'Accuracy:  0.574626865671642'"
      ],
      "text/markdown": [
       "<span style=white-space:pre-wrap>'Accuracy:  0.574626865671642'</span>"
      ],
      "text/plain": [
       "[1] \"Accuracy:  0.574626865671642\""
      ]
     },
     "metadata": {},
     "output_type": "display_data"
    },
    {
     "data": {
      "text/html": [
       "<span style=white-space:pre-wrap>'Recall:  0.735294117647059'</span>"
      ],
      "text/latex": [
       "'Recall:  0.735294117647059'"
      ],
      "text/markdown": [
       "<span style=white-space:pre-wrap>'Recall:  0.735294117647059'</span>"
      ],
      "text/plain": [
       "[1] \"Recall:  0.735294117647059\""
      ]
     },
     "metadata": {},
     "output_type": "display_data"
    },
    {
     "data": {
      "text/html": [
       "<span style=white-space:pre-wrap>'Precision:  0.561797752808989'</span>"
      ],
      "text/latex": [
       "'Precision:  0.561797752808989'"
      ],
      "text/markdown": [
       "<span style=white-space:pre-wrap>'Precision:  0.561797752808989'</span>"
      ],
      "text/plain": [
       "[1] \"Precision:  0.561797752808989\""
      ]
     },
     "metadata": {},
     "output_type": "display_data"
    },
    {
     "ename": "",
     "evalue": "",
     "output_type": "error",
     "traceback": [
      "\u001b[1;31mFailed to start the Kernel. \n",
      "dyld[12757]: Library not loaded: @rpath/libreadline.6.2.dylib\n",
      "  Referenced from: /opt/anaconda3/lib/R/lib/libR.dylib\n",
      "  Reason: tried: '/opt/anaconda3/lib/R/lib/../../libreadline.6.2.dylib' (no such file), '/opt/anaconda3/lib/R/bin/exec/../../../libreadline.6.2.dylib' (no such file), '/opt/anaconda3/lib/R/bin/exec/../../../libreadline.6.2.dylib' (no such file), '/opt/anaconda3/lib/R/lib/libreadline.6.2.dylib' (no such file), '/opt/anaconda3/lib/libreadline.6.2.dylib' (no such file), '/opt/anaconda3/libreadline.6.2.dylib' (no such file). \n",
      "View Jupyter <a href='command:jupyter.viewOutput'>log</a> for further details."
     ]
    }
   ],
   "source": [
    "confusionMatrix(as.factor(res), as.factor(true_outcome))[[2]]\n",
    "TN =(confusionMatrix(as.factor(res), as.factor(true_outcome)))[[2]][1,1]\n",
    "TP = (confusionMatrix(as.factor(res), as.factor(true_outcome)))[[2]][2,2]\n",
    "FN = (confusionMatrix(as.factor(res), as.factor(true_outcome)))[[2]][1,2]\n",
    "FP = (confusionMatrix(as.factor(res), as.factor(true_outcome)))[[2]][2,1]\n",
    "\n",
    "accuracy = (TP+TN)/(TP+FP+TN+FN)\n",
    "recall = TP/(TP+FN)\n",
    "precision = TP/(TP+FP)\n",
    "\n",
    "paste(\"AUC: \", auc)\n",
    "paste(\"Accuracy: \", accuracy)\n",
    "paste(\"Recall: \", recall)\n",
    "paste(\"Precision: \", precision)"
   ]
  },
  {
   "cell_type": "code",
   "execution_count": null,
   "id": "447f87d3",
   "metadata": {
    "vscode": {
     "languageId": "r"
    }
   },
   "outputs": [
    {
     "data": {
      "text/html": [
       "0.683080808080808"
      ],
      "text/latex": [
       "0.683080808080808"
      ],
      "text/markdown": [
       "0.683080808080808"
      ],
      "text/plain": [
       "[1] 0.6830808"
      ]
     },
     "metadata": {},
     "output_type": "display_data"
    },
    {
     "ename": "",
     "evalue": "",
     "output_type": "error",
     "traceback": [
      "\u001b[1;31mFailed to start the Kernel. \n",
      "dyld[12757]: Library not loaded: @rpath/libreadline.6.2.dylib\n",
      "  Referenced from: /opt/anaconda3/lib/R/lib/libR.dylib\n",
      "  Reason: tried: '/opt/anaconda3/lib/R/lib/../../libreadline.6.2.dylib' (no such file), '/opt/anaconda3/lib/R/bin/exec/../../../libreadline.6.2.dylib' (no such file), '/opt/anaconda3/lib/R/bin/exec/../../../libreadline.6.2.dylib' (no such file), '/opt/anaconda3/lib/R/lib/libreadline.6.2.dylib' (no such file), '/opt/anaconda3/lib/libreadline.6.2.dylib' (no such file), '/opt/anaconda3/libreadline.6.2.dylib' (no such file). \n",
      "View Jupyter <a href='command:jupyter.viewOutput'>log</a> for further details."
     ]
    }
   ],
   "source": [
    "#fit\n",
    "model <- ranger(x=train, y = yTRAIN, num.trees = 1000, mtry = 8,min.node.size = 13, sample.fraction = 0.75, probability = TRUE, seed = 123)\n",
    "# predict on second set (test)\n",
    "predictions =  predict(model,test)$predictions[,2]\n",
    "\n",
    "AUC::auc(roc(predictions,factor(yTEST)))"
   ]
  },
  {
   "cell_type": "code",
   "execution_count": null,
   "id": "e76fccd1",
   "metadata": {
    "vscode": {
     "languageId": "r"
    }
   },
   "outputs": [
    {
     "ename": "",
     "evalue": "",
     "output_type": "error",
     "traceback": [
      "\u001b[1;31mFailed to start the Kernel. \n",
      "dyld[12757]: Library not loaded: @rpath/libreadline.6.2.dylib\n",
      "  Referenced from: /opt/anaconda3/lib/R/lib/libR.dylib\n",
      "  Reason: tried: '/opt/anaconda3/lib/R/lib/../../libreadline.6.2.dylib' (no such file), '/opt/anaconda3/lib/R/bin/exec/../../../libreadline.6.2.dylib' (no such file), '/opt/anaconda3/lib/R/bin/exec/../../../libreadline.6.2.dylib' (no such file), '/opt/anaconda3/lib/R/lib/libreadline.6.2.dylib' (no such file), '/opt/anaconda3/lib/libreadline.6.2.dylib' (no such file), '/opt/anaconda3/libreadline.6.2.dylib' (no such file). \n",
      "View Jupyter <a href='command:jupyter.viewOutput'>log</a> for further details."
     ]
    }
   ],
   "source": [
    "auc = AUC::auc(roc(predictions,factor(yTEST)))"
   ]
  },
  {
   "cell_type": "code",
   "execution_count": null,
   "id": "3220ff4f",
   "metadata": {
    "vscode": {
     "languageId": "r"
    }
   },
   "outputs": [
    {
     "ename": "",
     "evalue": "",
     "output_type": "error",
     "traceback": [
      "\u001b[1;31mFailed to start the Kernel. \n",
      "dyld[12757]: Library not loaded: @rpath/libreadline.6.2.dylib\n",
      "  Referenced from: /opt/anaconda3/lib/R/lib/libR.dylib\n",
      "  Reason: tried: '/opt/anaconda3/lib/R/lib/../../libreadline.6.2.dylib' (no such file), '/opt/anaconda3/lib/R/bin/exec/../../../libreadline.6.2.dylib' (no such file), '/opt/anaconda3/lib/R/bin/exec/../../../libreadline.6.2.dylib' (no such file), '/opt/anaconda3/lib/R/lib/libreadline.6.2.dylib' (no such file), '/opt/anaconda3/lib/libreadline.6.2.dylib' (no such file), '/opt/anaconda3/libreadline.6.2.dylib' (no such file). \n",
      "View Jupyter <a href='command:jupyter.viewOutput'>log</a> for further details."
     ]
    }
   ],
   "source": [
    "res = ifelse(predictions>=0.5,1,0)\n",
    "true_outcome = yTEST"
   ]
  },
  {
   "cell_type": "code",
   "execution_count": null,
   "id": "83495988",
   "metadata": {
    "vscode": {
     "languageId": "r"
    }
   },
   "outputs": [
    {
     "data": {
      "text/plain": [
       "          Reference\n",
       "Prediction  0  1\n",
       "         0 13  5\n",
       "         1 31 85"
      ]
     },
     "metadata": {},
     "output_type": "display_data"
    },
    {
     "data": {
      "text/html": [
       "<span style=white-space:pre-wrap>'AUC:  0.683080808080808'</span>"
      ],
      "text/latex": [
       "'AUC:  0.683080808080808'"
      ],
      "text/markdown": [
       "<span style=white-space:pre-wrap>'AUC:  0.683080808080808'</span>"
      ],
      "text/plain": [
       "[1] \"AUC:  0.683080808080808\""
      ]
     },
     "metadata": {},
     "output_type": "display_data"
    },
    {
     "data": {
      "text/html": [
       "<span style=white-space:pre-wrap>'Accuracy:  0.73134328358209'</span>"
      ],
      "text/latex": [
       "'Accuracy:  0.73134328358209'"
      ],
      "text/markdown": [
       "<span style=white-space:pre-wrap>'Accuracy:  0.73134328358209'</span>"
      ],
      "text/plain": [
       "[1] \"Accuracy:  0.73134328358209\""
      ]
     },
     "metadata": {},
     "output_type": "display_data"
    },
    {
     "data": {
      "text/html": [
       "<span style=white-space:pre-wrap>'Recall:  0.944444444444444'</span>"
      ],
      "text/latex": [
       "'Recall:  0.944444444444444'"
      ],
      "text/markdown": [
       "<span style=white-space:pre-wrap>'Recall:  0.944444444444444'</span>"
      ],
      "text/plain": [
       "[1] \"Recall:  0.944444444444444\""
      ]
     },
     "metadata": {},
     "output_type": "display_data"
    },
    {
     "data": {
      "text/html": [
       "<span style=white-space:pre-wrap>'Precision:  0.732758620689655'</span>"
      ],
      "text/latex": [
       "'Precision:  0.732758620689655'"
      ],
      "text/markdown": [
       "<span style=white-space:pre-wrap>'Precision:  0.732758620689655'</span>"
      ],
      "text/plain": [
       "[1] \"Precision:  0.732758620689655\""
      ]
     },
     "metadata": {},
     "output_type": "display_data"
    },
    {
     "ename": "",
     "evalue": "",
     "output_type": "error",
     "traceback": [
      "\u001b[1;31mFailed to start the Kernel. \n",
      "dyld[12757]: Library not loaded: @rpath/libreadline.6.2.dylib\n",
      "  Referenced from: /opt/anaconda3/lib/R/lib/libR.dylib\n",
      "  Reason: tried: '/opt/anaconda3/lib/R/lib/../../libreadline.6.2.dylib' (no such file), '/opt/anaconda3/lib/R/bin/exec/../../../libreadline.6.2.dylib' (no such file), '/opt/anaconda3/lib/R/bin/exec/../../../libreadline.6.2.dylib' (no such file), '/opt/anaconda3/lib/R/lib/libreadline.6.2.dylib' (no such file), '/opt/anaconda3/lib/libreadline.6.2.dylib' (no such file), '/opt/anaconda3/libreadline.6.2.dylib' (no such file). \n",
      "View Jupyter <a href='command:jupyter.viewOutput'>log</a> for further details."
     ]
    }
   ],
   "source": [
    "confusionMatrix(as.factor(res), as.factor(true_outcome))[[2]]\n",
    "TN =(confusionMatrix(as.factor(res), as.factor(true_outcome)))[[2]][1,1]\n",
    "TP = (confusionMatrix(as.factor(res), as.factor(true_outcome)))[[2]][2,2]\n",
    "FN = (confusionMatrix(as.factor(res), as.factor(true_outcome)))[[2]][1,2]\n",
    "FP = (confusionMatrix(as.factor(res), as.factor(true_outcome)))[[2]][2,1]\n",
    "\n",
    "accuracy = (TP+TN)/(TP+FP+TN+FN)\n",
    "recall = TP/(TP+FN)\n",
    "precision = TP/(TP+FP)\n",
    "\n",
    "paste(\"AUC: \", auc)\n",
    "paste(\"Accuracy: \", accuracy)\n",
    "paste(\"Recall: \", recall)\n",
    "paste(\"Precision: \", precision)"
   ]
  }
 ],
 "metadata": {
  "hide_input": false,
  "kernelspec": {
   "display_name": "R",
   "language": "R",
   "name": "ir"
  },
  "language_info": {
   "codemirror_mode": "r",
   "file_extension": ".r",
   "mimetype": "text/x-r-source",
   "name": "R",
   "pygments_lexer": "r",
   "version": "3.6.1"
  }
 },
 "nbformat": 4,
 "nbformat_minor": 5
}
