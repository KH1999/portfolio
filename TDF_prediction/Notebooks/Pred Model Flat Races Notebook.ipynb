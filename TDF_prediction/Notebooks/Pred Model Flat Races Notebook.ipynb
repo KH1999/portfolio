{
 "cells": [
  {
   "cell_type": "code",
   "execution_count": 1,
   "id": "a79d6c53",
   "metadata": {},
   "outputs": [
    {
     "name": "stderr",
     "output_type": "stream",
     "text": [
      "also installing the dependency 'jsonlite'\n",
      "\n",
      "Warning message:\n",
      "\"unable to access index for repository http://www.stats.ox.ac.uk/pub/RWin/bin/windows/contrib/3.6:\n",
      "  cannot open URL 'http://www.stats.ox.ac.uk/pub/RWin/bin/windows/contrib/3.6/PACKAGES'\""
     ]
    },
    {
     "name": "stdout",
     "output_type": "stream",
     "text": [
      "\n",
      "  There is a binary version available but the source version is later:\n",
      "         binary source needs_compilation\n",
      "jsonlite  1.7.2  1.8.0              TRUE\n",
      "\n",
      "  Binaries will be installed\n",
      "package 'jsonlite' successfully unpacked and MD5 sums checked\n"
     ]
    },
    {
     "name": "stderr",
     "output_type": "stream",
     "text": [
      "Warning message:\n",
      "\"cannot remove prior installation of package 'jsonlite'\"Warning message in file.copy(savedcopy, lib, recursive = TRUE):\n",
      "\"problem copying C:\\Users\\jordy\\anaconda3\\envs\\R2\\Lib\\R\\library\\00LOCK\\jsonlite\\libs\\x64\\jsonlite.dll to C:\\Users\\jordy\\anaconda3\\envs\\R2\\Lib\\R\\library\\jsonlite\\libs\\x64\\jsonlite.dll: Permission denied\"Warning message:\n",
      "\"restored 'jsonlite'\""
     ]
    },
    {
     "name": "stdout",
     "output_type": "stream",
     "text": [
      "package 'tidyverse' successfully unpacked and MD5 sums checked\n",
      "\n",
      "The downloaded binary packages are in\n",
      "\tC:\\Users\\jordy\\AppData\\Local\\Temp\\Rtmpu468OP\\downloaded_packages\n"
     ]
    },
    {
     "name": "stderr",
     "output_type": "stream",
     "text": [
      "\n",
      "tidyverse installed\n",
      "Warning message:\n",
      "\"package 'tidyverse' was built under R version 3.6.3\"Warning message in p_load(lubridate, AUC, tidyverse):\n",
      "\"Failed to install/load:\n",
      "tidyverse\"also installing the dependency 'jsonlite'\n",
      "\n",
      "Warning message:\n",
      "\"unable to access index for repository http://www.stats.ox.ac.uk/pub/RWin/bin/windows/contrib/3.6:\n",
      "  cannot open URL 'http://www.stats.ox.ac.uk/pub/RWin/bin/windows/contrib/3.6/PACKAGES'\""
     ]
    },
    {
     "name": "stdout",
     "output_type": "stream",
     "text": [
      "\n",
      "  There is a binary version available but the source version is later:\n",
      "         binary source needs_compilation\n",
      "jsonlite  1.7.2  1.8.0              TRUE\n",
      "\n",
      "  Binaries will be installed\n",
      "package 'jsonlite' successfully unpacked and MD5 sums checked\n"
     ]
    },
    {
     "name": "stderr",
     "output_type": "stream",
     "text": [
      "Warning message:\n",
      "\"cannot remove prior installation of package 'jsonlite'\"Warning message in file.copy(savedcopy, lib, recursive = TRUE):\n",
      "\"problem copying C:\\Users\\jordy\\anaconda3\\envs\\R2\\Lib\\R\\library\\00LOCK\\jsonlite\\libs\\x64\\jsonlite.dll to C:\\Users\\jordy\\anaconda3\\envs\\R2\\Lib\\R\\library\\jsonlite\\libs\\x64\\jsonlite.dll: Permission denied\"Warning message:\n",
      "\"restored 'jsonlite'\""
     ]
    },
    {
     "name": "stdout",
     "output_type": "stream",
     "text": [
      "package 'tidyverse' successfully unpacked and MD5 sums checked\n",
      "\n",
      "The downloaded binary packages are in\n",
      "\tC:\\Users\\jordy\\AppData\\Local\\Temp\\Rtmpu468OP\\downloaded_packages\n"
     ]
    },
    {
     "name": "stderr",
     "output_type": "stream",
     "text": [
      "\n",
      "tidyverse installed\n",
      "Warning message:\n",
      "\"package 'tidyverse' was built under R version 3.6.3\"Warning message in p_load(tidyverse):\n",
      "\"Failed to install/load:\n",
      "tidyverse\""
     ]
    }
   ],
   "source": [
    "library(pacman)\n",
    "p_load(lubridate, AUC, tidyverse)\n",
    "\n",
    "p_load(magrittr) \n",
    "p_load(dplyr)\n",
    "p_load(tidyverse)\n",
    "p_load(tidyr)\n",
    "p_load(pacman)\n",
    "p_load(rlist)\n",
    "p_load(dummy)\n",
    "p_load(e1071)\n",
    "p_load(ROSE)\n",
    "p_load(rotationForest)\n",
    "p_load(xgboost)"
   ]
  },
  {
   "cell_type": "code",
   "execution_count": 2,
   "id": "070d509d",
   "metadata": {},
   "outputs": [],
   "source": [
    "p_load(caret)\n",
    "\n",
    "p_load(FNN)\n",
    "\n",
    "p_load(randomForest)\n",
    "\n",
    "options(repr.matrix.max.cols=1000, repr.matrix.max.rows=1000)"
   ]
  },
  {
   "cell_type": "code",
   "execution_count": 3,
   "id": "e2e2b666",
   "metadata": {},
   "outputs": [],
   "source": [
    "p_load(ranger)"
   ]
  },
  {
   "cell_type": "markdown",
   "id": "b3088e99",
   "metadata": {},
   "source": [
    "# Building basetable"
   ]
  },
  {
   "cell_type": "code",
   "execution_count": 5,
   "id": "39abb9b3",
   "metadata": {},
   "outputs": [
    {
     "name": "stderr",
     "output_type": "stream",
     "text": [
      "Warning message in file(file, \"rt\"):\n",
      "\"cannot open file 'Data//Flat_races_final.csv': No such file or directory\""
     ]
    },
    {
     "ename": "ERROR",
     "evalue": "Error in file(file, \"rt\"): cannot open the connection\n",
     "output_type": "error",
     "traceback": [
      "Error in file(file, \"rt\"): cannot open the connection\nTraceback:\n",
      "1. read.csv(\"Data//Flat_races_final.csv\", sep = \";\")",
      "2. read.table(file = file, header = header, sep = sep, quote = quote, \n .     dec = dec, fill = fill, comment.char = comment.char, ...)",
      "3. file(file, \"rt\")"
     ]
    }
   ],
   "source": [
    "table = (read.csv(\"\", sep = \";\"))\n",
    "head(table)"
   ]
  },
  {
   "cell_type": "code",
   "execution_count": null,
   "id": "a27aa700",
   "metadata": {},
   "outputs": [],
   "source": [
    "table_train = table[table$Year<=2017,]"
   ]
  },
  {
   "cell_type": "code",
   "execution_count": null,
   "id": "373d0b25",
   "metadata": {},
   "outputs": [],
   "source": [
    "table_val = table[(table$Year>2017)&(table$Year<=2019) ,]"
   ]
  },
  {
   "cell_type": "code",
   "execution_count": null,
   "id": "8ab7d4ab",
   "metadata": {},
   "outputs": [],
   "source": [
    "table_test = table[table$Year>2019,]"
   ]
  },
  {
   "cell_type": "code",
   "execution_count": null,
   "id": "86cbb9ee",
   "metadata": {},
   "outputs": [],
   "source": [
    "table_train2 = table[table$Year<=2019,]"
   ]
  },
  {
   "cell_type": "code",
   "execution_count": 9,
   "id": "38f0a0d6",
   "metadata": {
    "scrolled": false
   },
   "outputs": [
    {
     "name": "stderr",
     "output_type": "stream",
     "text": [
      "`summarise()` has grouped output by 'Race', 'Year'. You can override using the `.groups` argument.\n"
     ]
    }
   ],
   "source": [
    "basetable_train = table_train %>% group_by(Race, Year,Team) %>% summarise(flat_mean = round(mean(FLAT))\n",
    "                                             , mountain_mean = round(mean(MOUNTAIN))\n",
    "                                            , downhill_mean = round(mean(DOWNHILL))\n",
    "                                            ,cobbles_mean = round(mean(COBBLES))\n",
    "                                            ,tt_mean = round(mean(TT)),\n",
    "                                            ,prologue_mean = round(mean(PROLOGUE))\n",
    "                                            ,sprint_mean = round(mean(SPRINT))\n",
    "                                            ,acceleration_mean = round(mean(ACCELERATION))\n",
    "                                            ,endurance_mean = round(mean(ENDURANCE))\n",
    "                                            ,resistance_mean = round(mean(RESISTANCE))\n",
    "                                            ,recup_mean = round(mean(RECUP))\n",
    "                                            ,hill_mean = round(mean(HILL))\n",
    "                                            ,attack_mean = round(mean(ATTACK))\n",
    "                                            \n",
    "                                            ,flat_max = round(max(FLAT))\n",
    "                                            ,mountain_max = round(max(MOUNTAIN))\n",
    "                                            ,downhill_max = round(max(DOWNHILL))\n",
    "                                            ,cobbles_max = round(max(COBBLES))\n",
    "                                            ,tt_max = round(max(TT)),\n",
    "                                            ,prologue_max = round(max(PROLOGUE))\n",
    "                                            ,sprint_max = round(max(SPRINT))\n",
    "                                            ,acceleration_max = round(max(ACCELERATION))\n",
    "                                            ,endurance_max = round(max(ENDURANCE))\n",
    "                                            ,resistance_max = round(max(RESISTANCE))\n",
    "                                            ,recup_max = round(max(RECUP))\n",
    "                                            ,hill_max = round(max(HILL))\n",
    "                                            ,attack_max = round(max(ATTACK))\n",
    "                                            \n",
    "                                            ,flat_min = round(min(FLAT))\n",
    "                                            ,mountain_min = round(min(MOUNTAIN))\n",
    "                                            ,downhill_min = round(min(DOWNHILL))\n",
    "                                            ,cobbles_min = round(min(COBBLES))\n",
    "                                            ,tt_min = round(min(TT)),\n",
    "                                            ,prologue_min = round(min(PROLOGUE))\n",
    "                                            ,sprint_min = round(min(SPRINT))\n",
    "                                            ,acceleration_min = round(min(ACCELERATION))\n",
    "                                            ,endurance_min = round(min(ENDURANCE))\n",
    "                                            ,resistance_min = round(min(RESISTANCE))\n",
    "                                            ,recup_min = round(min(RECUP))\n",
    "                                            ,hill_min = round(min(HILL))\n",
    "                                            ,attack_min = round(min(ATTACK))\n",
    "                                    \n",
    "                                            ,best_position = min(Pos))"
   ]
  },
  {
   "cell_type": "code",
   "execution_count": 10,
   "id": "1d0688d8",
   "metadata": {
    "scrolled": false
   },
   "outputs": [
    {
     "name": "stderr",
     "output_type": "stream",
     "text": [
      "`summarise()` has grouped output by 'Race', 'Year'. You can override using the `.groups` argument.\n"
     ]
    }
   ],
   "source": [
    "basetable_val = table_val %>% group_by(Race, Year,Team) %>% summarise(flat_mean = round(mean(FLAT))\n",
    "                                             , mountain_mean = round(mean(MOUNTAIN))\n",
    "                                            , downhill_mean = round(mean(DOWNHILL))\n",
    "                                            ,cobbles_mean = round(mean(COBBLES))\n",
    "                                            ,tt_mean = round(mean(TT)),\n",
    "                                            ,prologue_mean = round(mean(PROLOGUE))\n",
    "                                            ,sprint_mean = round(mean(SPRINT))\n",
    "                                            ,acceleration_mean = round(mean(ACCELERATION))\n",
    "                                            ,endurance_mean = round(mean(ENDURANCE))\n",
    "                                            ,resistance_mean = round(mean(RESISTANCE))\n",
    "                                            ,recup_mean = round(mean(RECUP))\n",
    "                                            ,hill_mean = round(mean(HILL))\n",
    "                                            ,attack_mean = round(mean(ATTACK))\n",
    "                                            \n",
    "                                            ,flat_max = round(max(FLAT))\n",
    "                                            ,mountain_max = round(max(MOUNTAIN))\n",
    "                                            ,downhill_max = round(max(DOWNHILL))\n",
    "                                            ,cobbles_max = round(max(COBBLES))\n",
    "                                            ,tt_max = round(max(TT)),\n",
    "                                            ,prologue_max = round(max(PROLOGUE))\n",
    "                                            ,sprint_max = round(max(SPRINT))\n",
    "                                            ,acceleration_max = round(max(ACCELERATION))\n",
    "                                            ,endurance_max = round(max(ENDURANCE))\n",
    "                                            ,resistance_max = round(max(RESISTANCE))\n",
    "                                            ,recup_max = round(max(RECUP))\n",
    "                                            ,hill_max = round(max(HILL))\n",
    "                                            ,attack_max = round(max(ATTACK))\n",
    "                                            \n",
    "                                            ,flat_min = round(min(FLAT))\n",
    "                                            ,mountain_min = round(min(MOUNTAIN))\n",
    "                                            ,downhill_min = round(min(DOWNHILL))\n",
    "                                            ,cobbles_min = round(min(COBBLES))\n",
    "                                            ,tt_min = round(min(TT)),\n",
    "                                            ,prologue_min = round(min(PROLOGUE))\n",
    "                                            ,sprint_min = round(min(SPRINT))\n",
    "                                            ,acceleration_min = round(min(ACCELERATION))\n",
    "                                            ,endurance_min = round(min(ENDURANCE))\n",
    "                                            ,resistance_min = round(min(RESISTANCE))\n",
    "                                            ,recup_min = round(min(RECUP))\n",
    "                                            ,hill_min = round(min(HILL))\n",
    "                                            ,attack_min = round(min(ATTACK))\n",
    "                                    \n",
    "                                            ,best_position = min(Pos))"
   ]
  },
  {
   "cell_type": "code",
   "execution_count": 11,
   "id": "d5ead31a",
   "metadata": {
    "scrolled": false
   },
   "outputs": [
    {
     "name": "stderr",
     "output_type": "stream",
     "text": [
      "`summarise()` has grouped output by 'Race', 'Year'. You can override using the `.groups` argument.\n"
     ]
    }
   ],
   "source": [
    "basetable_test = table_test %>% group_by(Race, Year,Team) %>% summarise(flat_mean = round(mean(FLAT))\n",
    "                                             , mountain_mean = round(mean(MOUNTAIN))\n",
    "                                            , downhill_mean = round(mean(DOWNHILL))\n",
    "                                            ,cobbles_mean = round(mean(COBBLES))\n",
    "                                            ,tt_mean = round(mean(TT)),\n",
    "                                            ,prologue_mean = round(mean(PROLOGUE))\n",
    "                                            ,sprint_mean = round(mean(SPRINT))\n",
    "                                            ,acceleration_mean = round(mean(ACCELERATION))\n",
    "                                            ,endurance_mean = round(mean(ENDURANCE))\n",
    "                                            ,resistance_mean = round(mean(RESISTANCE))\n",
    "                                            ,recup_mean = round(mean(RECUP))\n",
    "                                            ,hill_mean = round(mean(HILL))\n",
    "                                            ,attack_mean = round(mean(ATTACK))\n",
    "                                            \n",
    "                                            ,flat_max = round(max(FLAT))\n",
    "                                            ,mountain_max = round(max(MOUNTAIN))\n",
    "                                            ,downhill_max = round(max(DOWNHILL))\n",
    "                                            ,cobbles_max = round(max(COBBLES))\n",
    "                                            ,tt_max = round(max(TT)),\n",
    "                                            ,prologue_max = round(max(PROLOGUE))\n",
    "                                            ,sprint_max = round(max(SPRINT))\n",
    "                                            ,acceleration_max = round(max(ACCELERATION))\n",
    "                                            ,endurance_max = round(max(ENDURANCE))\n",
    "                                            ,resistance_max = round(max(RESISTANCE))\n",
    "                                            ,recup_max = round(max(RECUP))\n",
    "                                            ,hill_max = round(max(HILL))\n",
    "                                            ,attack_max = round(max(ATTACK))\n",
    "                                            \n",
    "                                            ,flat_min = round(min(FLAT))\n",
    "                                            ,mountain_min = round(min(MOUNTAIN))\n",
    "                                            ,downhill_min = round(min(DOWNHILL))\n",
    "                                            ,cobbles_min = round(min(COBBLES))\n",
    "                                            ,tt_min = round(min(TT)),\n",
    "                                            ,prologue_min = round(min(PROLOGUE))\n",
    "                                            ,sprint_min = round(min(SPRINT))\n",
    "                                            ,acceleration_min = round(min(ACCELERATION))\n",
    "                                            ,endurance_min = round(min(ENDURANCE))\n",
    "                                            ,resistance_min = round(min(RESISTANCE))\n",
    "                                            ,recup_min = round(min(RECUP))\n",
    "                                            ,hill_min = round(min(HILL))\n",
    "                                            ,attack_min = round(min(ATTACK))\n",
    "                                    \n",
    "                                            ,best_position = min(Pos))"
   ]
  },
  {
   "cell_type": "code",
   "execution_count": 12,
   "id": "c38da091",
   "metadata": {},
   "outputs": [
    {
     "name": "stderr",
     "output_type": "stream",
     "text": [
      "`summarise()` has grouped output by 'Race', 'Year'. You can override using the `.groups` argument.\n"
     ]
    }
   ],
   "source": [
    "basetable = table_train2 %>% group_by(Race, Year,Team) %>% summarise(flat_mean = round(mean(FLAT))\n",
    "                                             , mountain_mean = round(mean(MOUNTAIN))\n",
    "                                            , downhill_mean = round(mean(DOWNHILL))\n",
    "                                            ,cobbles_mean = round(mean(COBBLES))\n",
    "                                            ,tt_mean = round(mean(TT)),\n",
    "                                            ,prologue_mean = round(mean(PROLOGUE))\n",
    "                                            ,sprint_mean = round(mean(SPRINT))\n",
    "                                            ,acceleration_mean = round(mean(ACCELERATION))\n",
    "                                            ,endurance_mean = round(mean(ENDURANCE))\n",
    "                                            ,resistance_mean = round(mean(RESISTANCE))\n",
    "                                            ,recup_mean = round(mean(RECUP))\n",
    "                                            ,hill_mean = round(mean(HILL))\n",
    "                                            ,attack_mean = round(mean(ATTACK))\n",
    "                                            \n",
    "                                            ,flat_max = round(max(FLAT))\n",
    "                                            ,mountain_max = round(max(MOUNTAIN))\n",
    "                                            ,downhill_max = round(max(DOWNHILL))\n",
    "                                            ,cobbles_max = round(max(COBBLES))\n",
    "                                            ,tt_max = round(max(TT)),\n",
    "                                            ,prologue_max = round(max(PROLOGUE))\n",
    "                                            ,sprint_max = round(max(SPRINT))\n",
    "                                            ,acceleration_max = round(max(ACCELERATION))\n",
    "                                            ,endurance_max = round(max(ENDURANCE))\n",
    "                                            ,resistance_max = round(max(RESISTANCE))\n",
    "                                            ,recup_max = round(max(RECUP))\n",
    "                                            ,hill_max = round(max(HILL))\n",
    "                                            ,attack_max = round(max(ATTACK))\n",
    "                                            \n",
    "                                            ,flat_min = round(min(FLAT))\n",
    "                                            ,mountain_min = round(min(MOUNTAIN))\n",
    "                                            ,downhill_min = round(min(DOWNHILL))\n",
    "                                            ,cobbles_min = round(min(COBBLES))\n",
    "                                            ,tt_min = round(min(TT)),\n",
    "                                            ,prologue_min = round(min(PROLOGUE))\n",
    "                                            ,sprint_min = round(min(SPRINT))\n",
    "                                            ,acceleration_min = round(min(ACCELERATION))\n",
    "                                            ,endurance_min = round(min(ENDURANCE))\n",
    "                                            ,resistance_min = round(min(RESISTANCE))\n",
    "                                            ,recup_min = round(min(RECUP))\n",
    "                                            ,hill_min = round(min(HILL))\n",
    "                                            ,attack_min = round(min(ATTACK))\n",
    "                                    \n",
    "                                            ,best_position = min(Pos))"
   ]
  },
  {
   "cell_type": "code",
   "execution_count": 13,
   "id": "e70588ed",
   "metadata": {},
   "outputs": [],
   "source": [
    "basetable_train = (basetable_train)%>% drop_na()\n",
    "basetable_val = (basetable_val)%>% drop_na()\n",
    "basetable_test = (basetable_test)%>% drop_na()\n",
    "basetable = (basetable)%>% drop_na()"
   ]
  },
  {
   "cell_type": "code",
   "execution_count": 14,
   "id": "abe9bb32",
   "metadata": {},
   "outputs": [],
   "source": [
    "basetable_train$Top10 = as.factor(ifelse(basetable_train$best_position <=10, 1,0))\n",
    "basetable_train$Top5 = as.factor(ifelse(basetable_train$best_position <=5, 1,0))\n",
    "basetable_train$Top4 = as.factor(ifelse(basetable_train$best_position <=4, 1,0))\n",
    "basetable_train$Top3 = as.factor(ifelse(basetable_train$best_position <=3, 1,0))\n",
    "basetable_train$Top2 = as.factor(ifelse(basetable_train$best_position <=2, 1,0))"
   ]
  },
  {
   "cell_type": "code",
   "execution_count": 15,
   "id": "0ec41eae",
   "metadata": {
    "scrolled": true
   },
   "outputs": [
    {
     "data": {
      "text/plain": [
       "\n",
       "  0   1 \n",
       " 47 192 "
      ]
     },
     "metadata": {},
     "output_type": "display_data"
    }
   ],
   "source": [
    "table(basetable_train$Top10)"
   ]
  },
  {
   "cell_type": "code",
   "execution_count": 16,
   "id": "96358fee",
   "metadata": {},
   "outputs": [],
   "source": [
    "basetable_train$minutes_from_top = NULL\n",
    "basetable_train$best_position = NULL\n",
    "basetable_train$Team = NULL\n",
    "basetable_train$Year = NULL\n",
    "basetable_train$Stage = NULL\n",
    "basetable_train$Team_ID = NULL\n",
    "basetable_train$Race= NULL"
   ]
  },
  {
   "cell_type": "code",
   "execution_count": 17,
   "id": "a027c000",
   "metadata": {},
   "outputs": [],
   "source": [
    "basetable_val$Top10 = as.factor(ifelse(basetable_val$best_position <=10, 1,0))\n",
    "basetable_val$Top5 = as.factor(ifelse(basetable_val$best_position <=5, 1,0))\n",
    "basetable_val$Top4 = as.factor(ifelse(basetable_val$best_position <=4, 1,0))\n",
    "basetable_val$Top3 = as.factor(ifelse(basetable_val$best_position <=3, 1,0))\n",
    "basetable_val$Top2 = as.factor(ifelse(basetable_val$best_position <=2, 1,0))"
   ]
  },
  {
   "cell_type": "code",
   "execution_count": 18,
   "id": "061fa4e0",
   "metadata": {},
   "outputs": [
    {
     "data": {
      "text/plain": [
       "\n",
       " 0  1 \n",
       "48 86 "
      ]
     },
     "metadata": {},
     "output_type": "display_data"
    }
   ],
   "source": [
    "table(basetable_val$Top10)"
   ]
  },
  {
   "cell_type": "code",
   "execution_count": 19,
   "id": "c87236cd",
   "metadata": {},
   "outputs": [],
   "source": [
    "basetable_test$minutes_from_top = NULL\n",
    "basetable_val$best_position = NULL\n",
    "basetable_val$Team = NULL\n",
    "basetable_val$Year = NULL\n",
    "basetable_val$Stage = NULL\n",
    "basetable_val$Team_ID = NULL\n",
    "basetable_val$Race= NULL"
   ]
  },
  {
   "cell_type": "code",
   "execution_count": 20,
   "id": "6371367d",
   "metadata": {},
   "outputs": [],
   "source": [
    "basetable_test$Top10 = as.factor(ifelse(basetable_test$best_position <=10, 1,0))\n",
    "basetable_test$Top5 = as.factor(ifelse(basetable_test$best_position <=5, 1,0))\n",
    "basetable_test$Top4 = as.factor(ifelse(basetable_test$best_position <=4, 1,0))\n",
    "basetable_test$Top3 = as.factor(ifelse(basetable_test$best_position <=3, 1,0))\n",
    "basetable_test$Top2 = as.factor(ifelse(basetable_test$best_position <=2, 1,0))"
   ]
  },
  {
   "cell_type": "code",
   "execution_count": 21,
   "id": "ec23ca8b",
   "metadata": {},
   "outputs": [
    {
     "data": {
      "text/plain": [
       "\n",
       " 0  1 \n",
       "39 51 "
      ]
     },
     "metadata": {},
     "output_type": "display_data"
    }
   ],
   "source": [
    "table(basetable_test$Top5)"
   ]
  },
  {
   "cell_type": "code",
   "execution_count": 22,
   "id": "2601c355",
   "metadata": {},
   "outputs": [],
   "source": [
    "basetable_test$minutes_from_top = NULL\n",
    "basetable_test$best_position = NULL\n",
    "basetable_test$Team = NULL\n",
    "basetable_test$Year = NULL\n",
    "basetable_test$Stage = NULL\n",
    "basetable_test$Team_ID = NULL\n",
    "basetable_test$Race= NULL"
   ]
  },
  {
   "cell_type": "code",
   "execution_count": 23,
   "id": "029fc237",
   "metadata": {},
   "outputs": [],
   "source": [
    "basetable$Top10 = as.factor(ifelse(basetable$best_position <=10, 1,0))\n",
    "basetable$Top5 = as.factor(ifelse(basetable$best_position <=5, 1,0))\n",
    "basetable$Top4 = as.factor(ifelse(basetable$best_position <=4, 1,0))\n",
    "basetable$Top3 = as.factor(ifelse(basetable$best_position <=3, 1,0))\n",
    "basetable$Top2 = as.factor(ifelse(basetable$best_position <=2, 1,0))"
   ]
  },
  {
   "cell_type": "code",
   "execution_count": 24,
   "id": "82b1124e",
   "metadata": {},
   "outputs": [
    {
     "data": {
      "text/plain": [
       "\n",
       "  0   1 \n",
       "187 186 "
      ]
     },
     "metadata": {},
     "output_type": "display_data"
    }
   ],
   "source": [
    "table(basetable$Top5)"
   ]
  },
  {
   "cell_type": "code",
   "execution_count": 25,
   "id": "95b7db09",
   "metadata": {},
   "outputs": [],
   "source": [
    "basetable$minutes_from_top = NULL\n",
    "basetable$best_position = NULL\n",
    "basetable$Team = NULL\n",
    "basetable$Year = NULL\n",
    "basetable$Stage = NULL\n",
    "basetable$Team_ID = NULL\n",
    "basetable$Race= NULL"
   ]
  },
  {
   "cell_type": "markdown",
   "id": "26d71240",
   "metadata": {},
   "source": [
    "# Prediction if finish in the top 10"
   ]
  },
  {
   "cell_type": "markdown",
   "id": "c77f8f0b",
   "metadata": {},
   "source": [
    "## Random Forest"
   ]
  },
  {
   "cell_type": "markdown",
   "id": "b7fd0bf4",
   "metadata": {},
   "source": [
    "## Tuning"
   ]
  },
  {
   "cell_type": "code",
   "execution_count": 26,
   "id": "8385a4b7",
   "metadata": {},
   "outputs": [
    {
     "data": {
      "text/html": [
       "735"
      ],
      "text/latex": [
       "735"
      ],
      "text/markdown": [
       "735"
      ],
      "text/plain": [
       "[1] 735"
      ]
     },
     "metadata": {},
     "output_type": "display_data"
    }
   ],
   "source": [
    "# hyperparameter grid search\n",
    "hyper_grid <- expand.grid(\n",
    "   num_trees = c(1000),\n",
    "  mtry       = seq(15, 35, by = 1),\n",
    "  node_size  = seq(1, 13, by = 2),\n",
    "  sampe_size = c(.55, .632, .70,0.75,.80),\n",
    "  OOB_RMSE   = 0\n",
    " \n",
    ")\n",
    "nrow(hyper_grid)"
   ]
  },
  {
   "cell_type": "code",
   "execution_count": 27,
   "id": "20c98230",
   "metadata": {},
   "outputs": [],
   "source": [
    "for(i in 1:nrow(hyper_grid)) {\n",
    "  \n",
    "  # train model\n",
    "  model <- ranger(\n",
    "    x               = basetable_train[,-(40:43)], \n",
    "    y               = basetable_train$Top5, \n",
    "    num.trees       = hyper_grid$mtry[i],\n",
    "    mtry            = hyper_grid$mtry[i],\n",
    "    min.node.size   = hyper_grid$node_size[i],\n",
    "    sample.fraction = hyper_grid$sampe_size[i],\n",
    "    probability     = TRUE,\n",
    "    seed            = 123\n",
    "  )\n",
    "  \n",
    "  # add OOB error to grid\n",
    "  hyper_grid$OOB_RMSE[i] <- sqrt(model$prediction.error)\n",
    "}"
   ]
  },
  {
   "cell_type": "code",
   "execution_count": 28,
   "id": "b12fe16a",
   "metadata": {
    "scrolled": true
   },
   "outputs": [
    {
     "data": {
      "text/html": [
       "<table>\n",
       "<thead><tr><th scope=col>num_trees</th><th scope=col>mtry</th><th scope=col>node_size</th><th scope=col>sampe_size</th><th scope=col>OOB_RMSE</th></tr></thead>\n",
       "<tbody>\n",
       "\t<tr><td>1000     </td><td>30       </td><td>13       </td><td>0.632    </td><td>0.3837289</td></tr>\n",
       "\t<tr><td>1000     </td><td>28       </td><td>13       </td><td>0.632    </td><td>0.3845342</td></tr>\n",
       "\t<tr><td>1000     </td><td>17       </td><td>11       </td><td>0.700    </td><td>0.3863841</td></tr>\n",
       "\t<tr><td>1000     </td><td>30       </td><td>11       </td><td>0.632    </td><td>0.3864613</td></tr>\n",
       "\t<tr><td>1000     </td><td>28       </td><td>11       </td><td>0.632    </td><td>0.3865449</td></tr>\n",
       "\t<tr><td>1000     </td><td>32       </td><td> 5       </td><td>0.750    </td><td>0.3867561</td></tr>\n",
       "\t<tr><td>1000     </td><td>32       </td><td>13       </td><td>0.750    </td><td>0.3867869</td></tr>\n",
       "\t<tr><td>1000     </td><td>27       </td><td> 1       </td><td>0.700    </td><td>0.3869678</td></tr>\n",
       "\t<tr><td>1000     </td><td>32       </td><td> 3       </td><td>0.750    </td><td>0.3872050</td></tr>\n",
       "\t<tr><td>1000     </td><td>20       </td><td>13       </td><td>0.632    </td><td>0.3875571</td></tr>\n",
       "</tbody>\n",
       "</table>\n"
      ],
      "text/latex": [
       "\\begin{tabular}{r|lllll}\n",
       " num\\_trees & mtry & node\\_size & sampe\\_size & OOB\\_RMSE\\\\\n",
       "\\hline\n",
       "\t 1000      & 30        & 13        & 0.632     & 0.3837289\\\\\n",
       "\t 1000      & 28        & 13        & 0.632     & 0.3845342\\\\\n",
       "\t 1000      & 17        & 11        & 0.700     & 0.3863841\\\\\n",
       "\t 1000      & 30        & 11        & 0.632     & 0.3864613\\\\\n",
       "\t 1000      & 28        & 11        & 0.632     & 0.3865449\\\\\n",
       "\t 1000      & 32        &  5        & 0.750     & 0.3867561\\\\\n",
       "\t 1000      & 32        & 13        & 0.750     & 0.3867869\\\\\n",
       "\t 1000      & 27        &  1        & 0.700     & 0.3869678\\\\\n",
       "\t 1000      & 32        &  3        & 0.750     & 0.3872050\\\\\n",
       "\t 1000      & 20        & 13        & 0.632     & 0.3875571\\\\\n",
       "\\end{tabular}\n"
      ],
      "text/markdown": [
       "\n",
       "| num_trees | mtry | node_size | sampe_size | OOB_RMSE |\n",
       "|---|---|---|---|---|\n",
       "| 1000      | 30        | 13        | 0.632     | 0.3837289 |\n",
       "| 1000      | 28        | 13        | 0.632     | 0.3845342 |\n",
       "| 1000      | 17        | 11        | 0.700     | 0.3863841 |\n",
       "| 1000      | 30        | 11        | 0.632     | 0.3864613 |\n",
       "| 1000      | 28        | 11        | 0.632     | 0.3865449 |\n",
       "| 1000      | 32        |  5        | 0.750     | 0.3867561 |\n",
       "| 1000      | 32        | 13        | 0.750     | 0.3867869 |\n",
       "| 1000      | 27        |  1        | 0.700     | 0.3869678 |\n",
       "| 1000      | 32        |  3        | 0.750     | 0.3872050 |\n",
       "| 1000      | 20        | 13        | 0.632     | 0.3875571 |\n",
       "\n"
      ],
      "text/plain": [
       "   num_trees mtry node_size sampe_size OOB_RMSE \n",
       "1  1000      30   13        0.632      0.3837289\n",
       "2  1000      28   13        0.632      0.3845342\n",
       "3  1000      17   11        0.700      0.3863841\n",
       "4  1000      30   11        0.632      0.3864613\n",
       "5  1000      28   11        0.632      0.3865449\n",
       "6  1000      32    5        0.750      0.3867561\n",
       "7  1000      32   13        0.750      0.3867869\n",
       "8  1000      27    1        0.700      0.3869678\n",
       "9  1000      32    3        0.750      0.3872050\n",
       "10 1000      20   13        0.632      0.3875571"
      ]
     },
     "metadata": {},
     "output_type": "display_data"
    }
   ],
   "source": [
    "hyper_grid %>% \n",
    "  dplyr::arrange(OOB_RMSE) %>%\n",
    "  head(10)\n"
   ]
  },
  {
   "cell_type": "markdown",
   "id": "3b98fcc8",
   "metadata": {},
   "source": [
    "### 5x2cv"
   ]
  },
  {
   "cell_type": "code",
   "execution_count": 398,
   "id": "50d24b63",
   "metadata": {
    "scrolled": false
   },
   "outputs": [
    {
     "data": {
      "image/png": "[encoded data removed]",
      "text/plain": [
       "plot without title"
      ]
     },
     "metadata": {},
     "output_type": "display_data"
    }
   ],
   "source": [
    "# By setting a new unique seed, you ensure a different\n",
    "# 'random' split\n",
    "seeds <- c(123, 246, 91, 949, 9000, 1860, 1853, 1416, 515, 369,145,36920,877,124,617,1743,4852,9001,9005,9004,14,15,19,18,246,47,1,2,3,4,5,6,7,20)  #give 10 random values\n",
    "all_aucs <- vector(length = length(seeds))\n",
    "\n",
    "for (i in 1:length(seeds)) {\n",
    "    set.seed(seeds[i])\n",
    "    allind <- sample(x = 1:nrow(basetable_train), size = nrow(basetable_train),\n",
    "        replace = TRUE)  # WITH replacement\n",
    "    \n",
    "\n",
    "    # block to get indices\n",
    "    trainind <- allind[1:round(length(allind) * 0.70)]\n",
    "    testind <- allind[!allind %in% trainind]  #get all indices which are not in training\n",
    "\n",
    "    #actual subsetting\n",
    "    train <- basetable_train[trainind, ]\n",
    "    yTRAIN <- train$Top10\n",
    "    train$Top10 = NULL\n",
    "    train$Top5 = NULL\n",
    "    train$Top4 = NULL\n",
    "    train$Top3 = NULL\n",
    "    \n",
    "    test <- basetable_train[testind, ]\n",
    "    yTEST <- test$Top10\n",
    "    test$Top10 <- NULL\n",
    "    test$Top5 = NULL\n",
    "    test$Top4 = NULL\n",
    "    test$Top3 = NULL\n",
    "    \n",
    "    #fit\n",
    "    model <- ranger(x=train, y = yTRAIN, num.trees = 500, mtry = 10, sample.fraction = 0.75, probability = TRUE)\n",
    "    # predict on second set (test)0\n",
    "    predictions =  predict(model,test)$predictions[,2]   \n",
    "    \n",
    "    # evaluate and store\n",
    "    all_aucs[i] <- AUC::auc(roc(predictions, yTEST))\n",
    "}\n",
    "\n",
    "# Plot\n",
    "plot(all_aucs, type = \"b\")"
   ]
  },
  {
   "cell_type": "code",
   "execution_count": 399,
   "id": "d637dcdc",
   "metadata": {},
   "outputs": [
    {
     "data": {
      "text/html": [
       "0.80650276240933"
      ],
      "text/latex": [
       "0.80650276240933"
      ],
      "text/markdown": [
       "0.80650276240933"
      ],
      "text/plain": [
       "[1] 0.8065028"
      ]
     },
     "metadata": {},
     "output_type": "display_data"
    }
   ],
   "source": [
    "mean(all_aucs)"
   ]
  },
  {
   "cell_type": "markdown",
   "id": "12b6b9f1",
   "metadata": {},
   "source": [
    "## Validation"
   ]
  },
  {
   "cell_type": "code",
   "execution_count": 29,
   "id": "d42e7104",
   "metadata": {
    "scrolled": true
   },
   "outputs": [],
   "source": [
    "set.seed(123)\n",
    "train <- basetable\n",
    "yTRAIN <- train$Top10\n",
    "train$Top10 = NULL\n",
    "train$Top5 = NULL\n",
    "train$Top4 = NULL\n",
    "train$Top3 = NULL\n",
    "train$Top2 = NULL\n",
    "\n",
    "test <- basetable_test\n",
    "yTEST <- test$Top10\n",
    "test$Top10 = NULL\n",
    "test$Top5 = NULL\n",
    "test$Top4 = NULL\n",
    "test$Top3 = NULL\n",
    "test$Top2 = NULL"
   ]
  },
  {
   "cell_type": "markdown",
   "id": "fd7ab080",
   "metadata": {},
   "source": [
    "### Random Forest"
   ]
  },
  {
   "cell_type": "code",
   "execution_count": 30,
   "id": "0258d321",
   "metadata": {},
   "outputs": [
    {
     "data": {
      "text/html": [
       "0.87964527027027"
      ],
      "text/latex": [
       "0.87964527027027"
      ],
      "text/markdown": [
       "0.87964527027027"
      ],
      "text/plain": [
       "[1] 0.8796453"
      ]
     },
     "metadata": {},
     "output_type": "display_data"
    }
   ],
   "source": [
    "set.seed(123)\n",
    "#fit\n",
    "rFmodel <- randomForest(x=train, y = yTRAIN, ntree = 1000,mtry=11)\n",
    "# predict on second set (test)\n",
    "predictions <- predict(rFmodel, test, type = \"prob\")[, 2]\n",
    "\n",
    "AUC::auc(roc(predictions,factor(yTEST)))"
   ]
  },
  {
   "cell_type": "code",
   "execution_count": 31,
   "id": "7be804d8",
   "metadata": {},
   "outputs": [],
   "source": [
    "auc = AUC::auc(roc(predictions,factor(yTEST)))"
   ]
  },
  {
   "cell_type": "code",
   "execution_count": 32,
   "id": "0f031f07",
   "metadata": {},
   "outputs": [],
   "source": [
    "res = ifelse(predictions>=0.5,1,0)\n",
    "true_outcome = yTEST"
   ]
  },
  {
   "cell_type": "code",
   "execution_count": 33,
   "id": "007c6b45",
   "metadata": {
    "scrolled": true
   },
   "outputs": [
    {
     "data": {
      "text/plain": [
       "          Reference\n",
       "Prediction  0  1\n",
       "         0 12 15\n",
       "         1  4 59"
      ]
     },
     "metadata": {},
     "output_type": "display_data"
    },
    {
     "data": {
      "text/html": [
       "<span style=white-space:pre-wrap>'AUC:  0.87964527027027'</span>"
      ],
      "text/latex": [
       "'AUC:  0.87964527027027'"
      ],
      "text/markdown": [
       "<span style=white-space:pre-wrap>'AUC:  0.87964527027027'</span>"
      ],
      "text/plain": [
       "[1] \"AUC:  0.87964527027027\""
      ]
     },
     "metadata": {},
     "output_type": "display_data"
    },
    {
     "data": {
      "text/html": [
       "<span style=white-space:pre-wrap>'Accuracy:  0.788888888888889'</span>"
      ],
      "text/latex": [
       "'Accuracy:  0.788888888888889'"
      ],
      "text/markdown": [
       "<span style=white-space:pre-wrap>'Accuracy:  0.788888888888889'</span>"
      ],
      "text/plain": [
       "[1] \"Accuracy:  0.788888888888889\""
      ]
     },
     "metadata": {},
     "output_type": "display_data"
    },
    {
     "data": {
      "text/html": [
       "<span style=white-space:pre-wrap>'Recall:  0.797297297297297'</span>"
      ],
      "text/latex": [
       "'Recall:  0.797297297297297'"
      ],
      "text/markdown": [
       "<span style=white-space:pre-wrap>'Recall:  0.797297297297297'</span>"
      ],
      "text/plain": [
       "[1] \"Recall:  0.797297297297297\""
      ]
     },
     "metadata": {},
     "output_type": "display_data"
    },
    {
     "data": {
      "text/html": [
       "<span style=white-space:pre-wrap>'Precision:  0.936507936507937'</span>"
      ],
      "text/latex": [
       "'Precision:  0.936507936507937'"
      ],
      "text/markdown": [
       "<span style=white-space:pre-wrap>'Precision:  0.936507936507937'</span>"
      ],
      "text/plain": [
       "[1] \"Precision:  0.936507936507937\""
      ]
     },
     "metadata": {},
     "output_type": "display_data"
    }
   ],
   "source": [
    "confusionMatrix(as.factor(res), as.factor(true_outcome))[[2]]\n",
    "TN =(confusionMatrix(as.factor(res), as.factor(true_outcome)))[[2]][1,1]\n",
    "TP = (confusionMatrix(as.factor(res), as.factor(true_outcome)))[[2]][2,2]\n",
    "FN = (confusionMatrix(as.factor(res), as.factor(true_outcome)))[[2]][1,2]\n",
    "FP = (confusionMatrix(as.factor(res), as.factor(true_outcome)))[[2]][2,1]\n",
    "\n",
    "accuracy = (TP+TN)/(TP+FP+TN+FN)\n",
    "recall = TP/(TP+FN)\n",
    "precision = TP/(TP+FP)\n",
    "\n",
    "paste(\"AUC: \", auc)\n",
    "paste(\"Accuracy: \", accuracy)\n",
    "paste(\"Recall: \", recall)\n",
    "paste(\"Precision: \", precision)"
   ]
  },
  {
   "cell_type": "markdown",
   "id": "bb7ca394",
   "metadata": {},
   "source": [
    "### Ranger"
   ]
  },
  {
   "cell_type": "code",
   "execution_count": 34,
   "id": "a1cafed8",
   "metadata": {},
   "outputs": [
    {
     "data": {
      "text/html": [
       "0.88597972972973"
      ],
      "text/latex": [
       "0.88597972972973"
      ],
      "text/markdown": [
       "0.88597972972973"
      ],
      "text/plain": [
       "[1] 0.8859797"
      ]
     },
     "metadata": {},
     "output_type": "display_data"
    }
   ],
   "source": [
    "#fit\n",
    "model <- ranger(x=train, y = yTRAIN, num.trees = 1000, mtry = 8,min.node.size = 13, sample.fraction = 0.75, probability = TRUE, seed = 123)\n",
    "# predict on second set (test)\n",
    "predictions =  predict(model,test)$predictions[,2]\n",
    "\n",
    "AUC::auc(roc(predictions,factor(yTEST)))"
   ]
  },
  {
   "cell_type": "code",
   "execution_count": 35,
   "id": "feddd326",
   "metadata": {},
   "outputs": [],
   "source": [
    "auc = AUC::auc(roc(predictions,factor(yTEST)))"
   ]
  },
  {
   "cell_type": "code",
   "execution_count": 36,
   "id": "65fe9b78",
   "metadata": {},
   "outputs": [],
   "source": [
    "res = ifelse(predictions>=0.5,1,0)\n",
    "true_outcome = yTEST"
   ]
  },
  {
   "cell_type": "code",
   "execution_count": 37,
   "id": "42a695e4",
   "metadata": {
    "scrolled": true
   },
   "outputs": [
    {
     "data": {
      "text/plain": [
       "          Reference\n",
       "Prediction  0  1\n",
       "         0 12 13\n",
       "         1  4 61"
      ]
     },
     "metadata": {},
     "output_type": "display_data"
    },
    {
     "data": {
      "text/html": [
       "<span style=white-space:pre-wrap>'AUC:  0.88597972972973'</span>"
      ],
      "text/latex": [
       "'AUC:  0.88597972972973'"
      ],
      "text/markdown": [
       "<span style=white-space:pre-wrap>'AUC:  0.88597972972973'</span>"
      ],
      "text/plain": [
       "[1] \"AUC:  0.88597972972973\""
      ]
     },
     "metadata": {},
     "output_type": "display_data"
    },
    {
     "data": {
      "text/html": [
       "<span style=white-space:pre-wrap>'Accuracy:  0.811111111111111'</span>"
      ],
      "text/latex": [
       "'Accuracy:  0.811111111111111'"
      ],
      "text/markdown": [
       "<span style=white-space:pre-wrap>'Accuracy:  0.811111111111111'</span>"
      ],
      "text/plain": [
       "[1] \"Accuracy:  0.811111111111111\""
      ]
     },
     "metadata": {},
     "output_type": "display_data"
    },
    {
     "data": {
      "text/html": [
       "<span style=white-space:pre-wrap>'Recall:  0.824324324324324'</span>"
      ],
      "text/latex": [
       "'Recall:  0.824324324324324'"
      ],
      "text/markdown": [
       "<span style=white-space:pre-wrap>'Recall:  0.824324324324324'</span>"
      ],
      "text/plain": [
       "[1] \"Recall:  0.824324324324324\""
      ]
     },
     "metadata": {},
     "output_type": "display_data"
    },
    {
     "data": {
      "text/html": [
       "<span style=white-space:pre-wrap>'Precision:  0.938461538461538'</span>"
      ],
      "text/latex": [
       "'Precision:  0.938461538461538'"
      ],
      "text/markdown": [
       "<span style=white-space:pre-wrap>'Precision:  0.938461538461538'</span>"
      ],
      "text/plain": [
       "[1] \"Precision:  0.938461538461538\""
      ]
     },
     "metadata": {},
     "output_type": "display_data"
    }
   ],
   "source": [
    "confusionMatrix(as.factor(res), as.factor(true_outcome))[[2]]\n",
    "TN =(confusionMatrix(as.factor(res), as.factor(true_outcome)))[[2]][1,1]\n",
    "TP = (confusionMatrix(as.factor(res), as.factor(true_outcome)))[[2]][2,2]\n",
    "FN = (confusionMatrix(as.factor(res), as.factor(true_outcome)))[[2]][1,2]\n",
    "FP = (confusionMatrix(as.factor(res), as.factor(true_outcome)))[[2]][2,1]\n",
    "\n",
    "accuracy = (TP+TN)/(TP+FP+TN+FN)\n",
    "recall = TP/(TP+FN)\n",
    "precision = TP/(TP+FP)\n",
    "\n",
    "paste(\"AUC: \", auc)\n",
    "paste(\"Accuracy: \", accuracy)\n",
    "paste(\"Recall: \", recall)\n",
    "paste(\"Precision: \", precision)"
   ]
  },
  {
   "cell_type": "markdown",
   "id": "20adb827",
   "metadata": {},
   "source": [
    "# Prediction if finish in the top 5"
   ]
  },
  {
   "cell_type": "markdown",
   "id": "29290b57",
   "metadata": {},
   "source": [
    "## Random Forest"
   ]
  },
  {
   "cell_type": "markdown",
   "id": "1ce5af7b",
   "metadata": {},
   "source": [
    "## Tuning"
   ]
  },
  {
   "cell_type": "code",
   "execution_count": 38,
   "id": "07d59a9a",
   "metadata": {},
   "outputs": [
    {
     "data": {
      "text/html": [
       "735"
      ],
      "text/latex": [
       "735"
      ],
      "text/markdown": [
       "735"
      ],
      "text/plain": [
       "[1] 735"
      ]
     },
     "metadata": {},
     "output_type": "display_data"
    }
   ],
   "source": [
    "# hyperparameter grid search\n",
    "hyper_grid <- expand.grid(\n",
    "   num_trees = c(1000),\n",
    "  mtry       = seq(15, 35, by = 1),\n",
    "  node_size  = seq(1, 13, by = 2),\n",
    "  sampe_size = c(.55, .632, .70,0.75,.80),\n",
    "  OOB_RMSE   = 0\n",
    " \n",
    ")\n",
    "nrow(hyper_grid)"
   ]
  },
  {
   "cell_type": "code",
   "execution_count": 39,
   "id": "5ea3d5e2",
   "metadata": {},
   "outputs": [],
   "source": [
    "for(i in 1:nrow(hyper_grid)) {\n",
    "  \n",
    "  # train model\n",
    "  model <- ranger(\n",
    "    x               = basetable_train[,-(40:43)], \n",
    "    y               = basetable_train$Top5, \n",
    "    num.trees       = hyper_grid$mtry[i],\n",
    "    mtry            = hyper_grid$mtry[i],\n",
    "    min.node.size   = hyper_grid$node_size[i],\n",
    "    sample.fraction = hyper_grid$sampe_size[i],\n",
    "    probability     = TRUE,\n",
    "    seed            = 123\n",
    "  )\n",
    "  \n",
    "  # add OOB error to grid\n",
    "  hyper_grid$OOB_RMSE[i] <- sqrt(model$prediction.error)\n",
    "}"
   ]
  },
  {
   "cell_type": "code",
   "execution_count": 40,
   "id": "0dff80bb",
   "metadata": {
    "scrolled": true
   },
   "outputs": [
    {
     "data": {
      "text/html": [
       "<table>\n",
       "<thead><tr><th scope=col>num_trees</th><th scope=col>mtry</th><th scope=col>node_size</th><th scope=col>sampe_size</th><th scope=col>OOB_RMSE</th></tr></thead>\n",
       "<tbody>\n",
       "\t<tr><td>1000     </td><td>30       </td><td>13       </td><td>0.632    </td><td>0.3837289</td></tr>\n",
       "\t<tr><td>1000     </td><td>28       </td><td>13       </td><td>0.632    </td><td>0.3845342</td></tr>\n",
       "\t<tr><td>1000     </td><td>17       </td><td>11       </td><td>0.700    </td><td>0.3863841</td></tr>\n",
       "\t<tr><td>1000     </td><td>30       </td><td>11       </td><td>0.632    </td><td>0.3864613</td></tr>\n",
       "\t<tr><td>1000     </td><td>28       </td><td>11       </td><td>0.632    </td><td>0.3865449</td></tr>\n",
       "\t<tr><td>1000     </td><td>32       </td><td> 5       </td><td>0.750    </td><td>0.3867561</td></tr>\n",
       "\t<tr><td>1000     </td><td>32       </td><td>13       </td><td>0.750    </td><td>0.3867869</td></tr>\n",
       "\t<tr><td>1000     </td><td>27       </td><td> 1       </td><td>0.700    </td><td>0.3869678</td></tr>\n",
       "\t<tr><td>1000     </td><td>32       </td><td> 3       </td><td>0.750    </td><td>0.3872050</td></tr>\n",
       "\t<tr><td>1000     </td><td>20       </td><td>13       </td><td>0.632    </td><td>0.3875571</td></tr>\n",
       "</tbody>\n",
       "</table>\n"
      ],
      "text/latex": [
       "\\begin{tabular}{r|lllll}\n",
       " num\\_trees & mtry & node\\_size & sampe\\_size & OOB\\_RMSE\\\\\n",
       "\\hline\n",
       "\t 1000      & 30        & 13        & 0.632     & 0.3837289\\\\\n",
       "\t 1000      & 28        & 13        & 0.632     & 0.3845342\\\\\n",
       "\t 1000      & 17        & 11        & 0.700     & 0.3863841\\\\\n",
       "\t 1000      & 30        & 11        & 0.632     & 0.3864613\\\\\n",
       "\t 1000      & 28        & 11        & 0.632     & 0.3865449\\\\\n",
       "\t 1000      & 32        &  5        & 0.750     & 0.3867561\\\\\n",
       "\t 1000      & 32        & 13        & 0.750     & 0.3867869\\\\\n",
       "\t 1000      & 27        &  1        & 0.700     & 0.3869678\\\\\n",
       "\t 1000      & 32        &  3        & 0.750     & 0.3872050\\\\\n",
       "\t 1000      & 20        & 13        & 0.632     & 0.3875571\\\\\n",
       "\\end{tabular}\n"
      ],
      "text/markdown": [
       "\n",
       "| num_trees | mtry | node_size | sampe_size | OOB_RMSE |\n",
       "|---|---|---|---|---|\n",
       "| 1000      | 30        | 13        | 0.632     | 0.3837289 |\n",
       "| 1000      | 28        | 13        | 0.632     | 0.3845342 |\n",
       "| 1000      | 17        | 11        | 0.700     | 0.3863841 |\n",
       "| 1000      | 30        | 11        | 0.632     | 0.3864613 |\n",
       "| 1000      | 28        | 11        | 0.632     | 0.3865449 |\n",
       "| 1000      | 32        |  5        | 0.750     | 0.3867561 |\n",
       "| 1000      | 32        | 13        | 0.750     | 0.3867869 |\n",
       "| 1000      | 27        |  1        | 0.700     | 0.3869678 |\n",
       "| 1000      | 32        |  3        | 0.750     | 0.3872050 |\n",
       "| 1000      | 20        | 13        | 0.632     | 0.3875571 |\n",
       "\n"
      ],
      "text/plain": [
       "   num_trees mtry node_size sampe_size OOB_RMSE \n",
       "1  1000      30   13        0.632      0.3837289\n",
       "2  1000      28   13        0.632      0.3845342\n",
       "3  1000      17   11        0.700      0.3863841\n",
       "4  1000      30   11        0.632      0.3864613\n",
       "5  1000      28   11        0.632      0.3865449\n",
       "6  1000      32    5        0.750      0.3867561\n",
       "7  1000      32   13        0.750      0.3867869\n",
       "8  1000      27    1        0.700      0.3869678\n",
       "9  1000      32    3        0.750      0.3872050\n",
       "10 1000      20   13        0.632      0.3875571"
      ]
     },
     "metadata": {},
     "output_type": "display_data"
    }
   ],
   "source": [
    "hyper_grid %>% \n",
    "  dplyr::arrange(OOB_RMSE) %>%\n",
    "  head(10)\n"
   ]
  },
  {
   "cell_type": "markdown",
   "id": "f67ed87b",
   "metadata": {},
   "source": [
    "### 5x2cv"
   ]
  },
  {
   "cell_type": "code",
   "execution_count": 41,
   "id": "4c3cd92a",
   "metadata": {
    "scrolled": false
   },
   "outputs": [
    {
     "data": {
      "image/png": "[encoded data removed]",
      "text/plain": [
       "plot without title"
      ]
     },
     "metadata": {},
     "output_type": "display_data"
    }
   ],
   "source": [
    "# By setting a new unique seed, you ensure a different\n",
    "# 'random' split\n",
    "seeds <- c(123, 246, 91, 949, 9000, 1860, 1853, 1416, 515, 369,145,36920,877,124,617,1743,4852,9001,9005,9004,14,15,19,18,246,47,1,2,3,4,5,6,7,20)  #give 10 random values\n",
    "all_aucs <- vector(length = length(seeds))\n",
    "\n",
    "for (i in 1:length(seeds)) {\n",
    "    set.seed(seeds[i])\n",
    "    allind <- sample(x = 1:nrow(basetable_train), size = nrow(basetable_train),\n",
    "        replace = TRUE)  # WITH replacement\n",
    "    \n",
    "\n",
    "    # block to get indices\n",
    "    trainind <- allind[1:round(length(allind) * 0.70)]\n",
    "    testind <- allind[!allind %in% trainind]  #get all indices which are not in training\n",
    "\n",
    "    #actual subsetting\n",
    "    train <- basetable_train[trainind, ]\n",
    "    yTRAIN <- train$Top5\n",
    "    train$Top10 = NULL\n",
    "    train$Top5 = NULL\n",
    "    train$Top4 = NULL\n",
    "    train$Top3 = NULL\n",
    "    \n",
    "    test <- basetable_train[testind, ]\n",
    "    yTEST <- test$Top5\n",
    "    test$Top5 <- NULL\n",
    "    test$Top5 = NULL\n",
    "    test$Top4 = NULL\n",
    "    test$Top3 = NULL\n",
    "    \n",
    "    #fit\n",
    "    model <- ranger(x=train, y = yTRAIN, num.trees = 500, mtry = 10, sample.fraction = 0.75, probability = TRUE)\n",
    "    # predict on second set (test)0\n",
    "    predictions =  predict(model,test)$predictions[,2]   \n",
    "    \n",
    "    # evaluate and store\n",
    "    all_aucs[i] <- AUC::auc(roc(predictions, yTEST))\n",
    "}\n",
    "\n",
    "# Plot\n",
    "plot(all_aucs, type = \"b\")"
   ]
  },
  {
   "cell_type": "code",
   "execution_count": 42,
   "id": "f3836663",
   "metadata": {},
   "outputs": [
    {
     "data": {
      "text/html": [
       "0.851180286476205"
      ],
      "text/latex": [
       "0.851180286476205"
      ],
      "text/markdown": [
       "0.851180286476205"
      ],
      "text/plain": [
       "[1] 0.8511803"
      ]
     },
     "metadata": {},
     "output_type": "display_data"
    }
   ],
   "source": [
    "mean(all_aucs)"
   ]
  },
  {
   "cell_type": "markdown",
   "id": "5e5328ca",
   "metadata": {},
   "source": [
    "## Validation"
   ]
  },
  {
   "cell_type": "code",
   "execution_count": 49,
   "id": "8f4c8ce3",
   "metadata": {
    "scrolled": true
   },
   "outputs": [],
   "source": [
    "set.seed(123)\n",
    "train <- basetable_train\n",
    "yTRAIN <- train$Top5\n",
    "train$Top10 = NULL\n",
    "train$Top5 = NULL\n",
    "train$Top4 = NULL\n",
    "train$Top3 = NULL\n",
    "\n",
    "test <- basetable_val\n",
    "yTEST <- test$Top5\n",
    "test$Top10 = NULL\n",
    "test$Top5 = NULL\n",
    "test$Top4 = NULL\n",
    "test$Top3 = NULL"
   ]
  },
  {
   "cell_type": "markdown",
   "id": "3ae0dc1b",
   "metadata": {},
   "source": [
    "### Random Forest"
   ]
  },
  {
   "cell_type": "code",
   "execution_count": 50,
   "id": "117a80bb",
   "metadata": {},
   "outputs": [
    {
     "data": {
      "text/html": [
       "0.889188555347092"
      ],
      "text/latex": [
       "0.889188555347092"
      ],
      "text/markdown": [
       "0.889188555347092"
      ],
      "text/plain": [
       "[1] 0.8891886"
      ]
     },
     "metadata": {},
     "output_type": "display_data"
    }
   ],
   "source": [
    "set.seed(123)\n",
    "#fit\n",
    "rFmodel <- randomForest(x=train, y = yTRAIN, ntree = 1000,mtry=15)\n",
    "# predict on second set (test)\n",
    "predictions <- predict(rFmodel, test, type = \"prob\")[, 2]\n",
    "\n",
    "AUC::auc(roc(predictions,factor(yTEST)))"
   ]
  },
  {
   "cell_type": "code",
   "execution_count": 51,
   "id": "d4e3d98e",
   "metadata": {},
   "outputs": [],
   "source": [
    "auc = AUC::auc(roc(predictions,factor(yTEST)))"
   ]
  },
  {
   "cell_type": "code",
   "execution_count": 52,
   "id": "c2c2d814",
   "metadata": {},
   "outputs": [],
   "source": [
    "res = ifelse(predictions>=0.5,1,0)\n",
    "true_outcome = yTEST"
   ]
  },
  {
   "cell_type": "code",
   "execution_count": 53,
   "id": "ed38aa81",
   "metadata": {
    "scrolled": true
   },
   "outputs": [
    {
     "data": {
      "text/plain": [
       "          Reference\n",
       "Prediction  0  1\n",
       "         0 57  8\n",
       "         1 25 44"
      ]
     },
     "metadata": {},
     "output_type": "display_data"
    },
    {
     "data": {
      "text/html": [
       "<span style=white-space:pre-wrap>'AUC:  0.889188555347092'</span>"
      ],
      "text/latex": [
       "'AUC:  0.889188555347092'"
      ],
      "text/markdown": [
       "<span style=white-space:pre-wrap>'AUC:  0.889188555347092'</span>"
      ],
      "text/plain": [
       "[1] \"AUC:  0.889188555347092\""
      ]
     },
     "metadata": {},
     "output_type": "display_data"
    },
    {
     "data": {
      "text/html": [
       "<span style=white-space:pre-wrap>'Accuracy:  0.753731343283582'</span>"
      ],
      "text/latex": [
       "'Accuracy:  0.753731343283582'"
      ],
      "text/markdown": [
       "<span style=white-space:pre-wrap>'Accuracy:  0.753731343283582'</span>"
      ],
      "text/plain": [
       "[1] \"Accuracy:  0.753731343283582\""
      ]
     },
     "metadata": {},
     "output_type": "display_data"
    },
    {
     "data": {
      "text/html": [
       "<span style=white-space:pre-wrap>'Recall:  0.846153846153846'</span>"
      ],
      "text/latex": [
       "'Recall:  0.846153846153846'"
      ],
      "text/markdown": [
       "<span style=white-space:pre-wrap>'Recall:  0.846153846153846'</span>"
      ],
      "text/plain": [
       "[1] \"Recall:  0.846153846153846\""
      ]
     },
     "metadata": {},
     "output_type": "display_data"
    },
    {
     "data": {
      "text/html": [
       "<span style=white-space:pre-wrap>'Precision:  0.63768115942029'</span>"
      ],
      "text/latex": [
       "'Precision:  0.63768115942029'"
      ],
      "text/markdown": [
       "<span style=white-space:pre-wrap>'Precision:  0.63768115942029'</span>"
      ],
      "text/plain": [
       "[1] \"Precision:  0.63768115942029\""
      ]
     },
     "metadata": {},
     "output_type": "display_data"
    }
   ],
   "source": [
    "confusionMatrix(as.factor(res), as.factor(true_outcome))[[2]]\n",
    "TN =(confusionMatrix(as.factor(res), as.factor(true_outcome)))[[2]][1,1]\n",
    "TP = (confusionMatrix(as.factor(res), as.factor(true_outcome)))[[2]][2,2]\n",
    "FN = (confusionMatrix(as.factor(res), as.factor(true_outcome)))[[2]][1,2]\n",
    "FP = (confusionMatrix(as.factor(res), as.factor(true_outcome)))[[2]][2,1]\n",
    "\n",
    "accuracy = (TP+TN)/(TP+FP+TN+FN)\n",
    "recall = TP/(TP+FN)\n",
    "precision = TP/(TP+FP)\n",
    "\n",
    "paste(\"AUC: \", auc)\n",
    "paste(\"Accuracy: \", accuracy)\n",
    "paste(\"Recall: \", recall)\n",
    "paste(\"Precision: \", precision)"
   ]
  },
  {
   "cell_type": "markdown",
   "id": "162d0c5a",
   "metadata": {},
   "source": [
    "### Ranger"
   ]
  },
  {
   "cell_type": "code",
   "execution_count": 54,
   "id": "cf4ba9af",
   "metadata": {},
   "outputs": [
    {
     "data": {
      "text/html": [
       "<table>\n",
       "<thead><tr><th scope=col>flat_mean</th><th scope=col>mountain_mean</th><th scope=col>downhill_mean</th><th scope=col>cobbles_mean</th><th scope=col>tt_mean</th><th scope=col>prologue_mean</th><th scope=col>sprint_mean</th><th scope=col>acceleration_mean</th><th scope=col>endurance_mean</th><th scope=col>resistance_mean</th><th scope=col>recup_mean</th><th scope=col>hill_mean</th><th scope=col>attack_mean</th><th scope=col>flat_max</th><th scope=col>mountain_max</th><th scope=col>downhill_max</th><th scope=col>cobbles_max</th><th scope=col>tt_max</th><th scope=col>prologue_max</th><th scope=col>sprint_max</th><th scope=col>acceleration_max</th><th scope=col>endurance_max</th><th scope=col>resistance_max</th><th scope=col>recup_max</th><th scope=col>hill_max</th><th scope=col>attack_max</th><th scope=col>flat_min</th><th scope=col>mountain_min</th><th scope=col>downhill_min</th><th scope=col>cobbles_min</th><th scope=col>tt_min</th><th scope=col>prologue_min</th><th scope=col>sprint_min</th><th scope=col>acceleration_min</th><th scope=col>endurance_min</th><th scope=col>resistance_min</th><th scope=col>recup_min</th><th scope=col>hill_min</th><th scope=col>attack_min</th><th scope=col>Top2</th></tr></thead>\n",
       "<tbody>\n",
       "\t<tr><td>68</td><td>68</td><td>73</td><td>60</td><td>63</td><td>65</td><td>65</td><td>70</td><td>66</td><td>67</td><td>69</td><td>71</td><td>68</td><td>72</td><td>77</td><td>81</td><td>69</td><td>73</td><td>74</td><td>73</td><td>78</td><td>70</td><td>74</td><td>76</td><td>76</td><td>75</td><td>64</td><td>56</td><td>66</td><td>53</td><td>58</td><td>61</td><td>55</td><td>66</td><td>63</td><td>63</td><td>60</td><td>64</td><td>63</td><td>0 </td></tr>\n",
       "\t<tr><td>69</td><td>65</td><td>67</td><td>59</td><td>64</td><td>64</td><td>67</td><td>70</td><td>66</td><td>64</td><td>67</td><td>69</td><td>68</td><td>72</td><td>74</td><td>72</td><td>66</td><td>72</td><td>73</td><td>75</td><td>76</td><td>70</td><td>66</td><td>71</td><td>75</td><td>76</td><td>65</td><td>54</td><td>63</td><td>55</td><td>59</td><td>58</td><td>60</td><td>63</td><td>63</td><td>62</td><td>65</td><td>60</td><td>61</td><td>0 </td></tr>\n",
       "\t<tr><td>70</td><td>74</td><td>69</td><td>58</td><td>68</td><td>70</td><td>64</td><td>69</td><td>70</td><td>71</td><td>73</td><td>76</td><td>73</td><td>77</td><td>80</td><td>77</td><td>73</td><td>75</td><td>78</td><td>70</td><td>76</td><td>74</td><td>74</td><td>75</td><td>78</td><td>81</td><td>63</td><td>71</td><td>64</td><td>54</td><td>58</td><td>60</td><td>57</td><td>64</td><td>67</td><td>67</td><td>68</td><td>73</td><td>67</td><td>0 </td></tr>\n",
       "\t<tr><td>70</td><td>70</td><td>71</td><td>60</td><td>64</td><td>66</td><td>65</td><td>71</td><td>68</td><td>68</td><td>70</td><td>74</td><td>68</td><td>74</td><td>80</td><td>82</td><td>71</td><td>71</td><td>72</td><td>77</td><td>78</td><td>73</td><td>74</td><td>76</td><td>78</td><td>76</td><td>64</td><td>62</td><td>65</td><td>55</td><td>58</td><td>59</td><td>55</td><td>59</td><td>60</td><td>62</td><td>65</td><td>70</td><td>59</td><td>0 </td></tr>\n",
       "\t<tr><td>67</td><td>65</td><td>66</td><td>60</td><td>60</td><td>60</td><td>65</td><td>69</td><td>65</td><td>64</td><td>65</td><td>68</td><td>65</td><td>72</td><td>76</td><td>73</td><td>64</td><td>65</td><td>63</td><td>76</td><td>77</td><td>69</td><td>69</td><td>75</td><td>75</td><td>74</td><td>62</td><td>54</td><td>62</td><td>55</td><td>56</td><td>58</td><td>58</td><td>63</td><td>60</td><td>60</td><td>60</td><td>62</td><td>55</td><td>0 </td></tr>\n",
       "\t<tr><td>73</td><td>69</td><td>71</td><td>68</td><td>69</td><td>71</td><td>66</td><td>70</td><td>70</td><td>71</td><td>71</td><td>74</td><td>68</td><td>77</td><td>76</td><td>79</td><td>78</td><td>82</td><td>82</td><td>75</td><td>78</td><td>74</td><td>76</td><td>78</td><td>77</td><td>81</td><td>66</td><td>61</td><td>67</td><td>60</td><td>65</td><td>64</td><td>58</td><td>62</td><td>65</td><td>67</td><td>66</td><td>70</td><td>57</td><td>0 </td></tr>\n",
       "</tbody>\n",
       "</table>\n"
      ],
      "text/latex": [
       "\\begin{tabular}{r|llllllllllllllllllllllllllllllllllllllll}\n",
       " flat\\_mean & mountain\\_mean & downhill\\_mean & cobbles\\_mean & tt\\_mean & prologue\\_mean & sprint\\_mean & acceleration\\_mean & endurance\\_mean & resistance\\_mean & recup\\_mean & hill\\_mean & attack\\_mean & flat\\_max & mountain\\_max & downhill\\_max & cobbles\\_max & tt\\_max & prologue\\_max & sprint\\_max & acceleration\\_max & endurance\\_max & resistance\\_max & recup\\_max & hill\\_max & attack\\_max & flat\\_min & mountain\\_min & downhill\\_min & cobbles\\_min & tt\\_min & prologue\\_min & sprint\\_min & acceleration\\_min & endurance\\_min & resistance\\_min & recup\\_min & hill\\_min & attack\\_min & Top2\\\\\n",
       "\\hline\n",
       "\t 68 & 68 & 73 & 60 & 63 & 65 & 65 & 70 & 66 & 67 & 69 & 71 & 68 & 72 & 77 & 81 & 69 & 73 & 74 & 73 & 78 & 70 & 74 & 76 & 76 & 75 & 64 & 56 & 66 & 53 & 58 & 61 & 55 & 66 & 63 & 63 & 60 & 64 & 63 & 0 \\\\\n",
       "\t 69 & 65 & 67 & 59 & 64 & 64 & 67 & 70 & 66 & 64 & 67 & 69 & 68 & 72 & 74 & 72 & 66 & 72 & 73 & 75 & 76 & 70 & 66 & 71 & 75 & 76 & 65 & 54 & 63 & 55 & 59 & 58 & 60 & 63 & 63 & 62 & 65 & 60 & 61 & 0 \\\\\n",
       "\t 70 & 74 & 69 & 58 & 68 & 70 & 64 & 69 & 70 & 71 & 73 & 76 & 73 & 77 & 80 & 77 & 73 & 75 & 78 & 70 & 76 & 74 & 74 & 75 & 78 & 81 & 63 & 71 & 64 & 54 & 58 & 60 & 57 & 64 & 67 & 67 & 68 & 73 & 67 & 0 \\\\\n",
       "\t 70 & 70 & 71 & 60 & 64 & 66 & 65 & 71 & 68 & 68 & 70 & 74 & 68 & 74 & 80 & 82 & 71 & 71 & 72 & 77 & 78 & 73 & 74 & 76 & 78 & 76 & 64 & 62 & 65 & 55 & 58 & 59 & 55 & 59 & 60 & 62 & 65 & 70 & 59 & 0 \\\\\n",
       "\t 67 & 65 & 66 & 60 & 60 & 60 & 65 & 69 & 65 & 64 & 65 & 68 & 65 & 72 & 76 & 73 & 64 & 65 & 63 & 76 & 77 & 69 & 69 & 75 & 75 & 74 & 62 & 54 & 62 & 55 & 56 & 58 & 58 & 63 & 60 & 60 & 60 & 62 & 55 & 0 \\\\\n",
       "\t 73 & 69 & 71 & 68 & 69 & 71 & 66 & 70 & 70 & 71 & 71 & 74 & 68 & 77 & 76 & 79 & 78 & 82 & 82 & 75 & 78 & 74 & 76 & 78 & 77 & 81 & 66 & 61 & 67 & 60 & 65 & 64 & 58 & 62 & 65 & 67 & 66 & 70 & 57 & 0 \\\\\n",
       "\\end{tabular}\n"
      ],
      "text/markdown": [
       "\n",
       "| flat_mean | mountain_mean | downhill_mean | cobbles_mean | tt_mean | prologue_mean | sprint_mean | acceleration_mean | endurance_mean | resistance_mean | recup_mean | hill_mean | attack_mean | flat_max | mountain_max | downhill_max | cobbles_max | tt_max | prologue_max | sprint_max | acceleration_max | endurance_max | resistance_max | recup_max | hill_max | attack_max | flat_min | mountain_min | downhill_min | cobbles_min | tt_min | prologue_min | sprint_min | acceleration_min | endurance_min | resistance_min | recup_min | hill_min | attack_min | Top2 |\n",
       "|---|---|---|---|---|---|---|---|---|---|---|---|---|---|---|---|---|---|---|---|---|---|---|---|---|---|---|---|---|---|---|---|---|---|---|---|---|---|---|---|\n",
       "| 68 | 68 | 73 | 60 | 63 | 65 | 65 | 70 | 66 | 67 | 69 | 71 | 68 | 72 | 77 | 81 | 69 | 73 | 74 | 73 | 78 | 70 | 74 | 76 | 76 | 75 | 64 | 56 | 66 | 53 | 58 | 61 | 55 | 66 | 63 | 63 | 60 | 64 | 63 | 0  |\n",
       "| 69 | 65 | 67 | 59 | 64 | 64 | 67 | 70 | 66 | 64 | 67 | 69 | 68 | 72 | 74 | 72 | 66 | 72 | 73 | 75 | 76 | 70 | 66 | 71 | 75 | 76 | 65 | 54 | 63 | 55 | 59 | 58 | 60 | 63 | 63 | 62 | 65 | 60 | 61 | 0  |\n",
       "| 70 | 74 | 69 | 58 | 68 | 70 | 64 | 69 | 70 | 71 | 73 | 76 | 73 | 77 | 80 | 77 | 73 | 75 | 78 | 70 | 76 | 74 | 74 | 75 | 78 | 81 | 63 | 71 | 64 | 54 | 58 | 60 | 57 | 64 | 67 | 67 | 68 | 73 | 67 | 0  |\n",
       "| 70 | 70 | 71 | 60 | 64 | 66 | 65 | 71 | 68 | 68 | 70 | 74 | 68 | 74 | 80 | 82 | 71 | 71 | 72 | 77 | 78 | 73 | 74 | 76 | 78 | 76 | 64 | 62 | 65 | 55 | 58 | 59 | 55 | 59 | 60 | 62 | 65 | 70 | 59 | 0  |\n",
       "| 67 | 65 | 66 | 60 | 60 | 60 | 65 | 69 | 65 | 64 | 65 | 68 | 65 | 72 | 76 | 73 | 64 | 65 | 63 | 76 | 77 | 69 | 69 | 75 | 75 | 74 | 62 | 54 | 62 | 55 | 56 | 58 | 58 | 63 | 60 | 60 | 60 | 62 | 55 | 0  |\n",
       "| 73 | 69 | 71 | 68 | 69 | 71 | 66 | 70 | 70 | 71 | 71 | 74 | 68 | 77 | 76 | 79 | 78 | 82 | 82 | 75 | 78 | 74 | 76 | 78 | 77 | 81 | 66 | 61 | 67 | 60 | 65 | 64 | 58 | 62 | 65 | 67 | 66 | 70 | 57 | 0  |\n",
       "\n"
      ],
      "text/plain": [
       "  flat_mean mountain_mean downhill_mean cobbles_mean tt_mean prologue_mean\n",
       "1 68        68            73            60           63      65           \n",
       "2 69        65            67            59           64      64           \n",
       "3 70        74            69            58           68      70           \n",
       "4 70        70            71            60           64      66           \n",
       "5 67        65            66            60           60      60           \n",
       "6 73        69            71            68           69      71           \n",
       "  sprint_mean acceleration_mean endurance_mean resistance_mean recup_mean\n",
       "1 65          70                66             67              69        \n",
       "2 67          70                66             64              67        \n",
       "3 64          69                70             71              73        \n",
       "4 65          71                68             68              70        \n",
       "5 65          69                65             64              65        \n",
       "6 66          70                70             71              71        \n",
       "  hill_mean attack_mean flat_max mountain_max downhill_max cobbles_max tt_max\n",
       "1 71        68          72       77           81           69          73    \n",
       "2 69        68          72       74           72           66          72    \n",
       "3 76        73          77       80           77           73          75    \n",
       "4 74        68          74       80           82           71          71    \n",
       "5 68        65          72       76           73           64          65    \n",
       "6 74        68          77       76           79           78          82    \n",
       "  prologue_max sprint_max acceleration_max endurance_max resistance_max\n",
       "1 74           73         78               70            74            \n",
       "2 73           75         76               70            66            \n",
       "3 78           70         76               74            74            \n",
       "4 72           77         78               73            74            \n",
       "5 63           76         77               69            69            \n",
       "6 82           75         78               74            76            \n",
       "  recup_max hill_max attack_max flat_min mountain_min downhill_min cobbles_min\n",
       "1 76        76       75         64       56           66           53         \n",
       "2 71        75       76         65       54           63           55         \n",
       "3 75        78       81         63       71           64           54         \n",
       "4 76        78       76         64       62           65           55         \n",
       "5 75        75       74         62       54           62           55         \n",
       "6 78        77       81         66       61           67           60         \n",
       "  tt_min prologue_min sprint_min acceleration_min endurance_min resistance_min\n",
       "1 58     61           55         66               63            63            \n",
       "2 59     58           60         63               63            62            \n",
       "3 58     60           57         64               67            67            \n",
       "4 58     59           55         59               60            62            \n",
       "5 56     58           58         63               60            60            \n",
       "6 65     64           58         62               65            67            \n",
       "  recup_min hill_min attack_min Top2\n",
       "1 60        64       63         0   \n",
       "2 65        60       61         0   \n",
       "3 68        73       67         0   \n",
       "4 65        70       59         0   \n",
       "5 60        62       55         0   \n",
       "6 66        70       57         0   "
      ]
     },
     "metadata": {},
     "output_type": "display_data"
    }
   ],
   "source": [
    "head(test)"
   ]
  },
  {
   "cell_type": "code",
   "execution_count": 55,
   "id": "b77b083b",
   "metadata": {},
   "outputs": [
    {
     "data": {
      "text/html": [
       "0.889305816135084"
      ],
      "text/latex": [
       "0.889305816135084"
      ],
      "text/markdown": [
       "0.889305816135084"
      ],
      "text/plain": [
       "[1] 0.8893058"
      ]
     },
     "metadata": {},
     "output_type": "display_data"
    }
   ],
   "source": [
    "#fit\n",
    "model <- ranger(x=train, y = yTRAIN, num.trees = 1000, mtry = 8,min.node.size = 13, sample.fraction = 0.75, probability = TRUE, seed = 123)\n",
    "# predict on second set (test)\n",
    "predictions =  predict(model,test)$predictions[,2]\n",
    "\n",
    "AUC::auc(roc(predictions,factor(yTEST)))"
   ]
  },
  {
   "cell_type": "code",
   "execution_count": 56,
   "id": "1005c67b",
   "metadata": {},
   "outputs": [],
   "source": [
    "auc = AUC::auc(roc(predictions,factor(yTEST)))"
   ]
  },
  {
   "cell_type": "code",
   "execution_count": 57,
   "id": "71222743",
   "metadata": {},
   "outputs": [],
   "source": [
    "res = ifelse(predictions>=0.5,1,0)\n",
    "true_outcome = yTEST"
   ]
  },
  {
   "cell_type": "code",
   "execution_count": 58,
   "id": "6771e11e",
   "metadata": {},
   "outputs": [
    {
     "data": {
      "text/plain": [
       "          Reference\n",
       "Prediction  0  1\n",
       "         0 57  6\n",
       "         1 25 46"
      ]
     },
     "metadata": {},
     "output_type": "display_data"
    },
    {
     "data": {
      "text/html": [
       "<span style=white-space:pre-wrap>'AUC:  0.889305816135084'</span>"
      ],
      "text/latex": [
       "'AUC:  0.889305816135084'"
      ],
      "text/markdown": [
       "<span style=white-space:pre-wrap>'AUC:  0.889305816135084'</span>"
      ],
      "text/plain": [
       "[1] \"AUC:  0.889305816135084\""
      ]
     },
     "metadata": {},
     "output_type": "display_data"
    },
    {
     "data": {
      "text/html": [
       "<span style=white-space:pre-wrap>'Accuracy:  0.76865671641791'</span>"
      ],
      "text/latex": [
       "'Accuracy:  0.76865671641791'"
      ],
      "text/markdown": [
       "<span style=white-space:pre-wrap>'Accuracy:  0.76865671641791'</span>"
      ],
      "text/plain": [
       "[1] \"Accuracy:  0.76865671641791\""
      ]
     },
     "metadata": {},
     "output_type": "display_data"
    },
    {
     "data": {
      "text/html": [
       "<span style=white-space:pre-wrap>'Recall:  0.884615384615385'</span>"
      ],
      "text/latex": [
       "'Recall:  0.884615384615385'"
      ],
      "text/markdown": [
       "<span style=white-space:pre-wrap>'Recall:  0.884615384615385'</span>"
      ],
      "text/plain": [
       "[1] \"Recall:  0.884615384615385\""
      ]
     },
     "metadata": {},
     "output_type": "display_data"
    },
    {
     "data": {
      "text/html": [
       "<span style=white-space:pre-wrap>'Precision:  0.647887323943662'</span>"
      ],
      "text/latex": [
       "'Precision:  0.647887323943662'"
      ],
      "text/markdown": [
       "<span style=white-space:pre-wrap>'Precision:  0.647887323943662'</span>"
      ],
      "text/plain": [
       "[1] \"Precision:  0.647887323943662\""
      ]
     },
     "metadata": {},
     "output_type": "display_data"
    }
   ],
   "source": [
    "confusionMatrix(as.factor(res), as.factor(true_outcome))[[2]]\n",
    "TN =(confusionMatrix(as.factor(res), as.factor(true_outcome)))[[2]][1,1]\n",
    "TP = (confusionMatrix(as.factor(res), as.factor(true_outcome)))[[2]][2,2]\n",
    "FN = (confusionMatrix(as.factor(res), as.factor(true_outcome)))[[2]][1,2]\n",
    "FP = (confusionMatrix(as.factor(res), as.factor(true_outcome)))[[2]][2,1]\n",
    "\n",
    "accuracy = (TP+TN)/(TP+FP+TN+FN)\n",
    "recall = TP/(TP+FN)\n",
    "precision = TP/(TP+FP)\n",
    "\n",
    "paste(\"AUC: \", auc)\n",
    "paste(\"Accuracy: \", accuracy)\n",
    "paste(\"Recall: \", recall)\n",
    "paste(\"Precision: \", precision)"
   ]
  }
 ],
 "metadata": {
  "hide_input": false,
  "kernelspec": {
   "display_name": "R",
   "language": "R",
   "name": "ir"
  },
  "language_info": {
   "codemirror_mode": "r",
   "file_extension": ".r",
   "mimetype": "text/x-r-source",
   "name": "R",
   "pygments_lexer": "r",
   "version": "3.6.1"
  }
 },
 "nbformat": 4,
 "nbformat_minor": 5
}
