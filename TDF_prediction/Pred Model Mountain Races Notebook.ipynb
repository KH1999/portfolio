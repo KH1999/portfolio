{
 "cells": [
  {
   "cell_type": "code",
   "execution_count": 1,
   "id": "a79d6c53",
   "metadata": {
    "vscode": {
     "languageId": "r"
    }
   },
   "outputs": [
    {
     "name": "stderr",
     "output_type": "stream",
     "text": [
      "also installing the dependency 'jsonlite'\n",
      "\n",
      "Warning message:\n",
      "\"unable to access index for repository http://www.stats.ox.ac.uk/pub/RWin/bin/windows/contrib/3.6:\n",
      "  cannot open URL 'http://www.stats.ox.ac.uk/pub/RWin/bin/windows/contrib/3.6/PACKAGES'\""
     ]
    },
    {
     "name": "stdout",
     "output_type": "stream",
     "text": [
      "\n",
      "  There is a binary version available but the source version is later:\n",
      "         binary source needs_compilation\n",
      "jsonlite  1.7.2  1.8.0              TRUE\n",
      "\n",
      "  Binaries will be installed\n",
      "package 'jsonlite' successfully unpacked and MD5 sums checked\n"
     ]
    },
    {
     "name": "stderr",
     "output_type": "stream",
     "text": [
      "Warning message:\n",
      "\"cannot remove prior installation of package 'jsonlite'\"Warning message in file.copy(savedcopy, lib, recursive = TRUE):\n",
      "\"problem copying C:\\Users\\jordy\\anaconda3\\envs\\R2\\Lib\\R\\library\\00LOCK\\jsonlite\\libs\\x64\\jsonlite.dll to C:\\Users\\jordy\\anaconda3\\envs\\R2\\Lib\\R\\library\\jsonlite\\libs\\x64\\jsonlite.dll: Permission denied\"Warning message:\n",
      "\"restored 'jsonlite'\""
     ]
    },
    {
     "name": "stdout",
     "output_type": "stream",
     "text": [
      "package 'tidyverse' successfully unpacked and MD5 sums checked\n",
      "\n",
      "The downloaded binary packages are in\n",
      "\tC:\\Users\\jordy\\AppData\\Local\\Temp\\RtmpU3xEIk\\downloaded_packages\n"
     ]
    },
    {
     "name": "stderr",
     "output_type": "stream",
     "text": [
      "\n",
      "tidyverse installed\n",
      "Warning message:\n",
      "\"package 'tidyverse' was built under R version 3.6.3\"Warning message in p_load(lubridate, AUC, tidyverse, magrittr, dplyr, tidyr, rlist, :\n",
      "\"Failed to install/load:\n",
      "tidyverse\""
     ]
    }
   ],
   "source": [
    "library(pacman)\n",
    "p_load(lubridate, AUC, tidyverse,magrittr, dplyr, tidyr,rlist,dummy , e1071, ROSE , rotationForest, xgboost, Boruta, varSelRF)"
   ]
  },
  {
   "cell_type": "code",
   "execution_count": 2,
   "id": "070d509d",
   "metadata": {
    "vscode": {
     "languageId": "r"
    }
   },
   "outputs": [],
   "source": [
    "p_load(caret)\n",
    "\n",
    "p_load(FNN)\n",
    "\n",
    "p_load(randomForest)\n",
    "\n",
    "options(repr.matrix.max.cols=1000, repr.matrix.max.rows=1000)"
   ]
  },
  {
   "cell_type": "code",
   "execution_count": 3,
   "id": "e2e2b666",
   "metadata": {
    "vscode": {
     "languageId": "r"
    }
   },
   "outputs": [],
   "source": [
    "p_load(ranger)"
   ]
  },
  {
   "cell_type": "code",
   "execution_count": 4,
   "id": "8b99323a",
   "metadata": {},
   "outputs": [],
   "source": [
    "p_load(ada)\n",
    "p_load(remotes)"
   ]
  },
  {
   "cell_type": "markdown",
   "id": "b3088e99",
   "metadata": {},
   "source": [
    "# Building basetable"
   ]
  },
  {
   "cell_type": "code",
   "execution_count": 5,
   "id": "39abb9b3",
   "metadata": {
    "vscode": {
     "languageId": "r"
    }
   },
   "outputs": [
    {
     "data": {
      "text/html": [
       "<table>\n",
       "<thead><tr><th scope=col>Pos</th><th scope=col>Rider</th><th scope=col>Team</th><th scope=col>Time</th><th scope=col>Rider_ID</th><th scope=col>Rider_Country</th><th scope=col>Team_ID</th><th scope=col>Year</th><th scope=col>Stage</th><th scope=col>UCI</th><th scope=col>ID</th><th scope=col>Stage.Type</th><th scope=col>Race</th><th scope=col>ACCELERATION</th><th scope=col>ATTACK</th><th scope=col>Birthday</th><th scope=col>COBBLES</th><th scope=col>CONSTANT</th><th scope=col>DOWNHILL</th><th scope=col>ENDURANCE</th><th scope=col>FLAT</th><th scope=col>Family.Name</th><th scope=col>Given.Name</th><th scope=col>HILL</th><th scope=col>MOUNTAIN</th><th scope=col>Match</th><th scope=col>Name</th><th scope=col>PROLOGUE</th><th scope=col>Popularity</th><th scope=col>RECUP</th><th scope=col>RESISTANCE</th><th scope=col>Region</th><th scope=col>SPRINT</th><th scope=col>Size</th><th scope=col>TT</th><th scope=col>Weight</th><th scope=col>fitness_i_handicap</th><th scope=col>fkIDcyclist_state</th><th scope=col>fkIDinjury</th><th scope=col>fkIDrace</th><th scope=col>fkIDstaff_physician</th><th scope=col>fkIDstaff_trainer</th><th scope=col>fkIDstate_roster</th><th scope=col>fkIDtga_skin</th><th scope=col>fkIDtraining_camp</th><th scope=col>fkIDtype_rider</th><th scope=col>gene_b_inshortlist</th><th scope=col>gene_b_nominated</th><th scope=col>gene_b_selected_in_roster</th><th scope=col>gene_b_will_retire</th><th scope=col>gene_f_popularity_max</th><th scope=col>gene_i_champion_bit</th><th scope=col>gene_i_date_last_breakaway</th><th scope=col>gene_i_date_last_punchers</th><th scope=col>gene_i_day_progression</th><th scope=col>gene_i_dossard</th><th scope=col>gene_i_year_progression</th><th scope=col>gene_ilist_fkIDfavorite_races</th><th scope=col>gene_sz_firstlastname</th><th scope=col>gene_sz_soundname</th><th scope=col>limit_i_acceleration</th><th scope=col>limit_i_baroudeur</th><th scope=col>limit_i_cobble</th><th scope=col>limit_i_downhilling</th><th scope=col>limit_i_endurance</th><th scope=col>limit_i_hill</th><th scope=col>limit_i_mountain</th><th scope=col>limit_i_plain</th><th scope=col>limit_i_prologue</th><th scope=col>limit_i_recuperation</th><th scope=col>limit_i_resistance</th><th scope=col>limit_i_sprint</th><th scope=col>limit_i_timetrial</th><th scope=col>prerace_i_cyclist</th><th scope=col>race_b_withdrawal</th><th scope=col>value_i_potentiel</th><th scope=col>value_i_rank_voted</th></tr></thead>\n",
       "<tbody>\n",
       "\t<tr><td>1                             </td><td>amador andrey                 </td><td>Movistar Team                 </td><td>05:33:36                      </td><td> 745                          </td><td>CRC                           </td><td>5                             </td><td>2012                          </td><td>14                            </td><td>NA                            </td><td> 432                          </td><td>Mountain                      </td><td>Giro                          </td><td>66                            </td><td>63                            </td><td>19860829                      </td><td>53                            </td><td>                              </td><td>65                            </td><td>65                            </td><td>65                            </td><td>Amador Bikkazakova            </td><td>Andrey                        </td><td>68                            </td><td>69                            </td><td>NA                            </td><td>A.Amador Bikkazakova          </td><td>68                            </td><td>21                            </td><td>68                            </td><td>65                            </td><td>6101                          </td><td>60                            </td><td>180                           </td><td>68                            </td><td>73                            </td><td>0                             </td><td>3                             </td><td>0                             </td><td>0                             </td><td>0                             </td><td>0                             </td><td>0                             </td><td> 0                            </td><td>0                             </td><td>0                             </td><td>0                             </td><td>0                             </td><td>0                             </td><td>0                             </td><td>0                             </td><td>0                             </td><td>0                             </td><td>0                             </td><td>0                             </td><td>0                             </td><td>0                             </td><td>                              </td><td>A.Amador Bikkazakova          </td><td>                              </td><td>0                             </td><td>0                             </td><td>0                             </td><td>0                             </td><td>0                             </td><td>0                             </td><td>0                             </td><td>0                             </td><td>0                             </td><td>0                             </td><td>0                             </td><td>0                             </td><td>0                             </td><td>0                             </td><td>0                             </td><td>5                             </td><td>0                             </td></tr>\n",
       "\t<tr><td>2                             </td><td>barta jan                     </td><td>Team NetApp                   </td><td>+ 00                          </td><td> 990                          </td><td>CZE                           </td><td>57                            </td><td>2012                          </td><td>14                            </td><td>NA                            </td><td>2280                          </td><td>Mountain                      </td><td>Giro                          </td><td>66                            </td><td>72                            </td><td>19841207                      </td><td>58                            </td><td>                              </td><td>67                            </td><td>64                            </td><td>68                            </td><td>Bárta                         </td><td>Jan                           </td><td>66                            </td><td>63                            </td><td>NA                            </td><td>J.Bárta                       </td><td>67                            </td><td>11                            </td><td>64                            </td><td>67                            </td><td>3301                          </td><td>61                            </td><td>184                           </td><td>68                            </td><td>73                            </td><td>0                             </td><td>3                             </td><td>0                             </td><td>0                             </td><td>0                             </td><td>0                             </td><td>0                             </td><td> 0                            </td><td>0                             </td><td>0                             </td><td>0                             </td><td>0                             </td><td>0                             </td><td>0                             </td><td>0                             </td><td>0                             </td><td>0                             </td><td>0                             </td><td>0                             </td><td>0                             </td><td>0                             </td><td>                              </td><td>J.Bárta                       </td><td>                              </td><td>0                             </td><td>0                             </td><td>0                             </td><td>0                             </td><td>0                             </td><td>0                             </td><td>0                             </td><td>0                             </td><td>0                             </td><td>0                             </td><td>0                             </td><td>0                             </td><td>0                             </td><td>0                             </td><td>0                             </td><td>4                             </td><td>0                             </td></tr>\n",
       "\t<tr><td>3                             </td><td>de marchi alessandro          </td><td>Androni Giocattoli - Venezuela</td><td>+ 02                          </td><td>3103                          </td><td>ITA                           </td><td>23                            </td><td>2012                          </td><td>14                            </td><td>NA                            </td><td>2400                          </td><td>Mountain                      </td><td>Giro                          </td><td>60                            </td><td>64                            </td><td>19860519                      </td><td>53                            </td><td>                              </td><td>63                            </td><td>65                            </td><td>65                            </td><td>De Marchi                     </td><td>Alessandro                    </td><td>65                            </td><td>63                            </td><td>NA                            </td><td>A.De Marchi                   </td><td>64                            </td><td> 7                            </td><td>62                            </td><td>64                            </td><td> 201                          </td><td>61                            </td><td>181                           </td><td>64                            </td><td>68                            </td><td>0                             </td><td>3                             </td><td>0                             </td><td>0                             </td><td>0                             </td><td>0                             </td><td>0                             </td><td> 0                            </td><td>0                             </td><td>0                             </td><td>0                             </td><td>0                             </td><td>0                             </td><td>0                             </td><td>0                             </td><td>0                             </td><td>0                             </td><td>0                             </td><td>0                             </td><td>0                             </td><td>0                             </td><td>                              </td><td>A.De Marchi                   </td><td>                              </td><td>0                             </td><td>0                             </td><td>0                             </td><td>0                             </td><td>0                             </td><td>0                             </td><td>0                             </td><td>0                             </td><td>0                             </td><td>0                             </td><td>0                             </td><td>0                             </td><td>0                             </td><td>0                             </td><td>0                             </td><td>3                             </td><td>0                             </td></tr>\n",
       "\t<tr><td>4                             </td><td>hesjedal ryder                </td><td>Garmin - Sharp                </td><td>+ 20                          </td><td>  52                          </td><td>CAN                           </td><td>10                            </td><td>2012                          </td><td>14                            </td><td>NA                            </td><td> 376                          </td><td>Mountain                      </td><td>Giro                          </td><td>67                            </td><td>69                            </td><td>19801209                      </td><td>66                            </td><td>                              </td><td>76                            </td><td>75                            </td><td>72                            </td><td>Hesjedal                      </td><td>Ryder                         </td><td>78                            </td><td>77                            </td><td>NA                            </td><td>R.Hesjedal                    </td><td>72                            </td><td>59                            </td><td>77                            </td><td>75                            </td><td>2201                          </td><td>58                            </td><td>188                           </td><td>71                            </td><td>72                            </td><td>0                             </td><td>3                             </td><td>0                             </td><td>0                             </td><td>0                             </td><td>0                             </td><td>0                             </td><td>83                            </td><td>0                             </td><td>0                             </td><td>0                             </td><td>0                             </td><td>0                             </td><td>0                             </td><td>0                             </td><td>1                             </td><td>0                             </td><td>0                             </td><td>0                             </td><td>0                             </td><td>0                             </td><td>                              </td><td>R.Hesjedal                    </td><td>                              </td><td>0                             </td><td>0                             </td><td>0                             </td><td>0                             </td><td>0                             </td><td>0                             </td><td>0                             </td><td>0                             </td><td>0                             </td><td>0                             </td><td>0                             </td><td>0                             </td><td>0                             </td><td>0                             </td><td>0                             </td><td>5                             </td><td>0                             </td></tr>\n",
       "\t<tr><td>5                             </td><td>tiralongo paolo               </td><td>Astana Pro Team               </td><td>+ 46                          </td><td> 359                          </td><td>ITA                           </td><td>25                            </td><td>2012                          </td><td>14                            </td><td>NA                            </td><td> 506                          </td><td>Mountain                      </td><td>Giro                          </td><td>66                            </td><td>72                            </td><td>19770708                      </td><td>52                            </td><td>                              </td><td>64                            </td><td>70                            </td><td>66                            </td><td>Tiralongo                     </td><td>Paolo                         </td><td>72                            </td><td>74                            </td><td>NA                            </td><td>P.Tiralongo                   </td><td>66                            </td><td>36                            </td><td>75                            </td><td>72                            </td><td> 219                          </td><td>61                            </td><td>169                           </td><td>65                            </td><td>69                            </td><td>0                             </td><td>3                             </td><td>0                             </td><td>0                             </td><td>0                             </td><td>0                             </td><td>0                             </td><td> 0                            </td><td>0                             </td><td>0                             </td><td>0                             </td><td>0                             </td><td>0                             </td><td>0                             </td><td>0                             </td><td>0                             </td><td>0                             </td><td>0                             </td><td>0                             </td><td>0                             </td><td>0                             </td><td>                              </td><td>P.Tiralongo                   </td><td>                              </td><td>0                             </td><td>0                             </td><td>0                             </td><td>0                             </td><td>0                             </td><td>0                             </td><td>0                             </td><td>0                             </td><td>0                             </td><td>0                             </td><td>0                             </td><td>0                             </td><td>0                             </td><td>0                             </td><td>0                             </td><td>4                             </td><td>0                             </td></tr>\n",
       "\t<tr><td>6                             </td><td>uran rigoberto                </td><td>Sky ProCycling                </td><td>+ 46                          </td><td> 117                          </td><td>COL                           </td><td>44                            </td><td>2012                          </td><td>14                            </td><td>NA                            </td><td> 566                          </td><td>Mountain                      </td><td>Giro                          </td><td>76                            </td><td>75                            </td><td>19870126                      </td><td>52                            </td><td>                              </td><td>66                            </td><td>71                            </td><td>67                            </td><td>Urán Urán                     </td><td>Rigoberto                     </td><td>76                            </td><td>75                            </td><td>NA                            </td><td>R.Urán Urán                   </td><td>70                            </td><td>45                            </td><td>71                            </td><td>73                            </td><td>1101                          </td><td>64                            </td><td>173                           </td><td>70                            </td><td>62                            </td><td>0                             </td><td>3                             </td><td>0                             </td><td>0                             </td><td>0                             </td><td>0                             </td><td>0                             </td><td> 0                            </td><td>0                             </td><td>0                             </td><td>0                             </td><td>0                             </td><td>0                             </td><td>0                             </td><td>0                             </td><td>0                             </td><td>0                             </td><td>0                             </td><td>0                             </td><td>0                             </td><td>0                             </td><td>                              </td><td>R.Urán Urán                   </td><td>                              </td><td>0                             </td><td>0                             </td><td>0                             </td><td>0                             </td><td>0                             </td><td>0                             </td><td>0                             </td><td>0                             </td><td>0                             </td><td>0                             </td><td>0                             </td><td>0                             </td><td>0                             </td><td>0                             </td><td>0                             </td><td>6                             </td><td>0                             </td></tr>\n",
       "</tbody>\n",
       "</table>\n"
      ],
      "text/latex": [
       "\\begin{tabular}{r|lllllllllllllllllllllllllllllllllllllllllllllllllllllllllllllllllllllllllllll}\n",
       " Pos & Rider & Team & Time & Rider\\_ID & Rider\\_Country & Team\\_ID & Year & Stage & UCI & ID & Stage.Type & Race & ACCELERATION & ATTACK & Birthday & COBBLES & CONSTANT & DOWNHILL & ENDURANCE & FLAT & Family.Name & Given.Name & HILL & MOUNTAIN & Match & Name & PROLOGUE & Popularity & RECUP & RESISTANCE & Region & SPRINT & Size & TT & Weight & fitness\\_i\\_handicap & fkIDcyclist\\_state & fkIDinjury & fkIDrace & fkIDstaff\\_physician & fkIDstaff\\_trainer & fkIDstate\\_roster & fkIDtga\\_skin & fkIDtraining\\_camp & fkIDtype\\_rider & gene\\_b\\_inshortlist & gene\\_b\\_nominated & gene\\_b\\_selected\\_in\\_roster & gene\\_b\\_will\\_retire & gene\\_f\\_popularity\\_max & gene\\_i\\_champion\\_bit & gene\\_i\\_date\\_last\\_breakaway & gene\\_i\\_date\\_last\\_punchers & gene\\_i\\_day\\_progression & gene\\_i\\_dossard & gene\\_i\\_year\\_progression & gene\\_ilist\\_fkIDfavorite\\_races & gene\\_sz\\_firstlastname & gene\\_sz\\_soundname & limit\\_i\\_acceleration & limit\\_i\\_baroudeur & limit\\_i\\_cobble & limit\\_i\\_downhilling & limit\\_i\\_endurance & limit\\_i\\_hill & limit\\_i\\_mountain & limit\\_i\\_plain & limit\\_i\\_prologue & limit\\_i\\_recuperation & limit\\_i\\_resistance & limit\\_i\\_sprint & limit\\_i\\_timetrial & prerace\\_i\\_cyclist & race\\_b\\_withdrawal & value\\_i\\_potentiel & value\\_i\\_rank\\_voted\\\\\n",
       "\\hline\n",
       "\t 1                              & amador andrey                  & Movistar Team                  & 05:33:36                       &  745                           & CRC                            & 5                              & 2012                           & 14                             & NA                             &  432                           & Mountain                       & Giro                           & 66                             & 63                             & 19860829                       & 53                             &                                & 65                             & 65                             & 65                             & Amador Bikkazakova             & Andrey                         & 68                             & 69                             & NA                             & A.Amador Bikkazakova           & 68                             & 21                             & 68                             & 65                             & 6101                           & 60                             & 180                            & 68                             & 73                             & 0                              & 3                              & 0                              & 0                              & 0                              & 0                              & 0                              &  0                             & 0                              & 0                              & 0                              & 0                              & 0                              & 0                              & 0                              & 0                              & 0                              & 0                              & 0                              & 0                              & 0                              &                                & A.Amador Bikkazakova           &                                & 0                              & 0                              & 0                              & 0                              & 0                              & 0                              & 0                              & 0                              & 0                              & 0                              & 0                              & 0                              & 0                              & 0                              & 0                              & 5                              & 0                             \\\\\n",
       "\t 2                              & barta jan                      & Team NetApp                    & + 00                           &  990                           & CZE                            & 57                             & 2012                           & 14                             & NA                             & 2280                           & Mountain                       & Giro                           & 66                             & 72                             & 19841207                       & 58                             &                                & 67                             & 64                             & 68                             & Bárta                          & Jan                            & 66                             & 63                             & NA                             & J.Bárta                        & 67                             & 11                             & 64                             & 67                             & 3301                           & 61                             & 184                            & 68                             & 73                             & 0                              & 3                              & 0                              & 0                              & 0                              & 0                              & 0                              &  0                             & 0                              & 0                              & 0                              & 0                              & 0                              & 0                              & 0                              & 0                              & 0                              & 0                              & 0                              & 0                              & 0                              &                                & J.Bárta                        &                                & 0                              & 0                              & 0                              & 0                              & 0                              & 0                              & 0                              & 0                              & 0                              & 0                              & 0                              & 0                              & 0                              & 0                              & 0                              & 4                              & 0                             \\\\\n",
       "\t 3                              & de marchi alessandro           & Androni Giocattoli - Venezuela & + 02                           & 3103                           & ITA                            & 23                             & 2012                           & 14                             & NA                             & 2400                           & Mountain                       & Giro                           & 60                             & 64                             & 19860519                       & 53                             &                                & 63                             & 65                             & 65                             & De Marchi                      & Alessandro                     & 65                             & 63                             & NA                             & A.De Marchi                    & 64                             &  7                             & 62                             & 64                             &  201                           & 61                             & 181                            & 64                             & 68                             & 0                              & 3                              & 0                              & 0                              & 0                              & 0                              & 0                              &  0                             & 0                              & 0                              & 0                              & 0                              & 0                              & 0                              & 0                              & 0                              & 0                              & 0                              & 0                              & 0                              & 0                              &                                & A.De Marchi                    &                                & 0                              & 0                              & 0                              & 0                              & 0                              & 0                              & 0                              & 0                              & 0                              & 0                              & 0                              & 0                              & 0                              & 0                              & 0                              & 3                              & 0                             \\\\\n",
       "\t 4                              & hesjedal ryder                 & Garmin - Sharp                 & + 20                           &   52                           & CAN                            & 10                             & 2012                           & 14                             & NA                             &  376                           & Mountain                       & Giro                           & 67                             & 69                             & 19801209                       & 66                             &                                & 76                             & 75                             & 72                             & Hesjedal                       & Ryder                          & 78                             & 77                             & NA                             & R.Hesjedal                     & 72                             & 59                             & 77                             & 75                             & 2201                           & 58                             & 188                            & 71                             & 72                             & 0                              & 3                              & 0                              & 0                              & 0                              & 0                              & 0                              & 83                             & 0                              & 0                              & 0                              & 0                              & 0                              & 0                              & 0                              & 1                              & 0                              & 0                              & 0                              & 0                              & 0                              &                                & R.Hesjedal                     &                                & 0                              & 0                              & 0                              & 0                              & 0                              & 0                              & 0                              & 0                              & 0                              & 0                              & 0                              & 0                              & 0                              & 0                              & 0                              & 5                              & 0                             \\\\\n",
       "\t 5                              & tiralongo paolo                & Astana Pro Team                & + 46                           &  359                           & ITA                            & 25                             & 2012                           & 14                             & NA                             &  506                           & Mountain                       & Giro                           & 66                             & 72                             & 19770708                       & 52                             &                                & 64                             & 70                             & 66                             & Tiralongo                      & Paolo                          & 72                             & 74                             & NA                             & P.Tiralongo                    & 66                             & 36                             & 75                             & 72                             &  219                           & 61                             & 169                            & 65                             & 69                             & 0                              & 3                              & 0                              & 0                              & 0                              & 0                              & 0                              &  0                             & 0                              & 0                              & 0                              & 0                              & 0                              & 0                              & 0                              & 0                              & 0                              & 0                              & 0                              & 0                              & 0                              &                                & P.Tiralongo                    &                                & 0                              & 0                              & 0                              & 0                              & 0                              & 0                              & 0                              & 0                              & 0                              & 0                              & 0                              & 0                              & 0                              & 0                              & 0                              & 4                              & 0                             \\\\\n",
       "\t 6                              & uran rigoberto                 & Sky ProCycling                 & + 46                           &  117                           & COL                            & 44                             & 2012                           & 14                             & NA                             &  566                           & Mountain                       & Giro                           & 76                             & 75                             & 19870126                       & 52                             &                                & 66                             & 71                             & 67                             & Urán Urán                      & Rigoberto                      & 76                             & 75                             & NA                             & R.Urán Urán                    & 70                             & 45                             & 71                             & 73                             & 1101                           & 64                             & 173                            & 70                             & 62                             & 0                              & 3                              & 0                              & 0                              & 0                              & 0                              & 0                              &  0                             & 0                              & 0                              & 0                              & 0                              & 0                              & 0                              & 0                              & 0                              & 0                              & 0                              & 0                              & 0                              & 0                              &                                & R.Urán Urán                    &                                & 0                              & 0                              & 0                              & 0                              & 0                              & 0                              & 0                              & 0                              & 0                              & 0                              & 0                              & 0                              & 0                              & 0                              & 0                              & 6                              & 0                             \\\\\n",
       "\\end{tabular}\n"
      ],
      "text/markdown": [
       "\n",
       "| Pos | Rider | Team | Time | Rider_ID | Rider_Country | Team_ID | Year | Stage | UCI | ID | Stage.Type | Race | ACCELERATION | ATTACK | Birthday | COBBLES | CONSTANT | DOWNHILL | ENDURANCE | FLAT | Family.Name | Given.Name | HILL | MOUNTAIN | Match | Name | PROLOGUE | Popularity | RECUP | RESISTANCE | Region | SPRINT | Size | TT | Weight | fitness_i_handicap | fkIDcyclist_state | fkIDinjury | fkIDrace | fkIDstaff_physician | fkIDstaff_trainer | fkIDstate_roster | fkIDtga_skin | fkIDtraining_camp | fkIDtype_rider | gene_b_inshortlist | gene_b_nominated | gene_b_selected_in_roster | gene_b_will_retire | gene_f_popularity_max | gene_i_champion_bit | gene_i_date_last_breakaway | gene_i_date_last_punchers | gene_i_day_progression | gene_i_dossard | gene_i_year_progression | gene_ilist_fkIDfavorite_races | gene_sz_firstlastname | gene_sz_soundname | limit_i_acceleration | limit_i_baroudeur | limit_i_cobble | limit_i_downhilling | limit_i_endurance | limit_i_hill | limit_i_mountain | limit_i_plain | limit_i_prologue | limit_i_recuperation | limit_i_resistance | limit_i_sprint | limit_i_timetrial | prerace_i_cyclist | race_b_withdrawal | value_i_potentiel | value_i_rank_voted |\n",
       "|---|---|---|---|---|---|---|---|---|---|---|---|---|---|---|---|---|---|---|---|---|---|---|---|---|---|---|---|---|---|---|---|---|---|---|---|---|---|---|---|---|---|---|---|---|---|---|---|---|---|---|---|---|---|---|---|---|---|---|---|---|---|---|---|---|---|---|---|---|---|---|---|---|---|---|---|---|\n",
       "| 1                              | amador andrey                  | Movistar Team                  | 05:33:36                       |  745                           | CRC                            | 5                              | 2012                           | 14                             | NA                             |  432                           | Mountain                       | Giro                           | 66                             | 63                             | 19860829                       | 53                             |                                | 65                             | 65                             | 65                             | Amador Bikkazakova             | Andrey                         | 68                             | 69                             | NA                             | A.Amador Bikkazakova           | 68                             | 21                             | 68                             | 65                             | 6101                           | 60                             | 180                            | 68                             | 73                             | 0                              | 3                              | 0                              | 0                              | 0                              | 0                              | 0                              |  0                             | 0                              | 0                              | 0                              | 0                              | 0                              | 0                              | 0                              | 0                              | 0                              | 0                              | 0                              | 0                              | 0                              |                                | A.Amador Bikkazakova           |                                | 0                              | 0                              | 0                              | 0                              | 0                              | 0                              | 0                              | 0                              | 0                              | 0                              | 0                              | 0                              | 0                              | 0                              | 0                              | 5                              | 0                              |\n",
       "| 2                              | barta jan                      | Team NetApp                    | + 00                           |  990                           | CZE                            | 57                             | 2012                           | 14                             | NA                             | 2280                           | Mountain                       | Giro                           | 66                             | 72                             | 19841207                       | 58                             |                                | 67                             | 64                             | 68                             | Bárta                          | Jan                            | 66                             | 63                             | NA                             | J.Bárta                        | 67                             | 11                             | 64                             | 67                             | 3301                           | 61                             | 184                            | 68                             | 73                             | 0                              | 3                              | 0                              | 0                              | 0                              | 0                              | 0                              |  0                             | 0                              | 0                              | 0                              | 0                              | 0                              | 0                              | 0                              | 0                              | 0                              | 0                              | 0                              | 0                              | 0                              |                                | J.Bárta                        |                                | 0                              | 0                              | 0                              | 0                              | 0                              | 0                              | 0                              | 0                              | 0                              | 0                              | 0                              | 0                              | 0                              | 0                              | 0                              | 4                              | 0                              |\n",
       "| 3                              | de marchi alessandro           | Androni Giocattoli - Venezuela | + 02                           | 3103                           | ITA                            | 23                             | 2012                           | 14                             | NA                             | 2400                           | Mountain                       | Giro                           | 60                             | 64                             | 19860519                       | 53                             |                                | 63                             | 65                             | 65                             | De Marchi                      | Alessandro                     | 65                             | 63                             | NA                             | A.De Marchi                    | 64                             |  7                             | 62                             | 64                             |  201                           | 61                             | 181                            | 64                             | 68                             | 0                              | 3                              | 0                              | 0                              | 0                              | 0                              | 0                              |  0                             | 0                              | 0                              | 0                              | 0                              | 0                              | 0                              | 0                              | 0                              | 0                              | 0                              | 0                              | 0                              | 0                              |                                | A.De Marchi                    |                                | 0                              | 0                              | 0                              | 0                              | 0                              | 0                              | 0                              | 0                              | 0                              | 0                              | 0                              | 0                              | 0                              | 0                              | 0                              | 3                              | 0                              |\n",
       "| 4                              | hesjedal ryder                 | Garmin - Sharp                 | + 20                           |   52                           | CAN                            | 10                             | 2012                           | 14                             | NA                             |  376                           | Mountain                       | Giro                           | 67                             | 69                             | 19801209                       | 66                             |                                | 76                             | 75                             | 72                             | Hesjedal                       | Ryder                          | 78                             | 77                             | NA                             | R.Hesjedal                     | 72                             | 59                             | 77                             | 75                             | 2201                           | 58                             | 188                            | 71                             | 72                             | 0                              | 3                              | 0                              | 0                              | 0                              | 0                              | 0                              | 83                             | 0                              | 0                              | 0                              | 0                              | 0                              | 0                              | 0                              | 1                              | 0                              | 0                              | 0                              | 0                              | 0                              |                                | R.Hesjedal                     |                                | 0                              | 0                              | 0                              | 0                              | 0                              | 0                              | 0                              | 0                              | 0                              | 0                              | 0                              | 0                              | 0                              | 0                              | 0                              | 5                              | 0                              |\n",
       "| 5                              | tiralongo paolo                | Astana Pro Team                | + 46                           |  359                           | ITA                            | 25                             | 2012                           | 14                             | NA                             |  506                           | Mountain                       | Giro                           | 66                             | 72                             | 19770708                       | 52                             |                                | 64                             | 70                             | 66                             | Tiralongo                      | Paolo                          | 72                             | 74                             | NA                             | P.Tiralongo                    | 66                             | 36                             | 75                             | 72                             |  219                           | 61                             | 169                            | 65                             | 69                             | 0                              | 3                              | 0                              | 0                              | 0                              | 0                              | 0                              |  0                             | 0                              | 0                              | 0                              | 0                              | 0                              | 0                              | 0                              | 0                              | 0                              | 0                              | 0                              | 0                              | 0                              |                                | P.Tiralongo                    |                                | 0                              | 0                              | 0                              | 0                              | 0                              | 0                              | 0                              | 0                              | 0                              | 0                              | 0                              | 0                              | 0                              | 0                              | 0                              | 4                              | 0                              |\n",
       "| 6                              | uran rigoberto                 | Sky ProCycling                 | + 46                           |  117                           | COL                            | 44                             | 2012                           | 14                             | NA                             |  566                           | Mountain                       | Giro                           | 76                             | 75                             | 19870126                       | 52                             |                                | 66                             | 71                             | 67                             | Urán Urán                      | Rigoberto                      | 76                             | 75                             | NA                             | R.Urán Urán                    | 70                             | 45                             | 71                             | 73                             | 1101                           | 64                             | 173                            | 70                             | 62                             | 0                              | 3                              | 0                              | 0                              | 0                              | 0                              | 0                              |  0                             | 0                              | 0                              | 0                              | 0                              | 0                              | 0                              | 0                              | 0                              | 0                              | 0                              | 0                              | 0                              | 0                              |                                | R.Urán Urán                    |                                | 0                              | 0                              | 0                              | 0                              | 0                              | 0                              | 0                              | 0                              | 0                              | 0                              | 0                              | 0                              | 0                              | 0                              | 0                              | 6                              | 0                              |\n",
       "\n"
      ],
      "text/plain": [
       "  Pos Rider                Team                           Time     Rider_ID\n",
       "1 1   amador andrey        Movistar Team                  05:33:36  745    \n",
       "2 2   barta jan            Team NetApp                    + 00      990    \n",
       "3 3   de marchi alessandro Androni Giocattoli - Venezuela + 02     3103    \n",
       "4 4   hesjedal ryder       Garmin - Sharp                 + 20       52    \n",
       "5 5   tiralongo paolo      Astana Pro Team                + 46      359    \n",
       "6 6   uran rigoberto       Sky ProCycling                 + 46      117    \n",
       "  Rider_Country Team_ID Year Stage UCI ID   Stage.Type Race ACCELERATION ATTACK\n",
       "1 CRC           5       2012 14    NA   432 Mountain   Giro 66           63    \n",
       "2 CZE           57      2012 14    NA  2280 Mountain   Giro 66           72    \n",
       "3 ITA           23      2012 14    NA  2400 Mountain   Giro 60           64    \n",
       "4 CAN           10      2012 14    NA   376 Mountain   Giro 67           69    \n",
       "5 ITA           25      2012 14    NA   506 Mountain   Giro 66           72    \n",
       "6 COL           44      2012 14    NA   566 Mountain   Giro 76           75    \n",
       "  Birthday COBBLES CONSTANT DOWNHILL ENDURANCE FLAT Family.Name       \n",
       "1 19860829 53               65       65        65   Amador Bikkazakova\n",
       "2 19841207 58               67       64        68   Bárta             \n",
       "3 19860519 53               63       65        65   De Marchi         \n",
       "4 19801209 66               76       75        72   Hesjedal          \n",
       "5 19770708 52               64       70        66   Tiralongo         \n",
       "6 19870126 52               66       71        67   Urán Urán         \n",
       "  Given.Name HILL MOUNTAIN Match Name                 PROLOGUE Popularity RECUP\n",
       "1 Andrey     68   69       NA    A.Amador Bikkazakova 68       21         68   \n",
       "2 Jan        66   63       NA    J.Bárta              67       11         64   \n",
       "3 Alessandro 65   63       NA    A.De Marchi          64        7         62   \n",
       "4 Ryder      78   77       NA    R.Hesjedal           72       59         77   \n",
       "5 Paolo      72   74       NA    P.Tiralongo          66       36         75   \n",
       "6 Rigoberto  76   75       NA    R.Urán Urán          70       45         71   \n",
       "  RESISTANCE Region SPRINT Size TT Weight fitness_i_handicap fkIDcyclist_state\n",
       "1 65         6101   60     180  68 73     0                  3                \n",
       "2 67         3301   61     184  68 73     0                  3                \n",
       "3 64          201   61     181  64 68     0                  3                \n",
       "4 75         2201   58     188  71 72     0                  3                \n",
       "5 72          219   61     169  65 69     0                  3                \n",
       "6 73         1101   64     173  70 62     0                  3                \n",
       "  fkIDinjury fkIDrace fkIDstaff_physician fkIDstaff_trainer fkIDstate_roster\n",
       "1 0          0        0                   0                 0               \n",
       "2 0          0        0                   0                 0               \n",
       "3 0          0        0                   0                 0               \n",
       "4 0          0        0                   0                 0               \n",
       "5 0          0        0                   0                 0               \n",
       "6 0          0        0                   0                 0               \n",
       "  fkIDtga_skin fkIDtraining_camp fkIDtype_rider gene_b_inshortlist\n",
       "1  0           0                 0              0                 \n",
       "2  0           0                 0              0                 \n",
       "3  0           0                 0              0                 \n",
       "4 83           0                 0              0                 \n",
       "5  0           0                 0              0                 \n",
       "6  0           0                 0              0                 \n",
       "  gene_b_nominated gene_b_selected_in_roster gene_b_will_retire\n",
       "1 0                0                         0                 \n",
       "2 0                0                         0                 \n",
       "3 0                0                         0                 \n",
       "4 0                0                         0                 \n",
       "5 0                0                         0                 \n",
       "6 0                0                         0                 \n",
       "  gene_f_popularity_max gene_i_champion_bit gene_i_date_last_breakaway\n",
       "1 0                     0                   0                         \n",
       "2 0                     0                   0                         \n",
       "3 0                     0                   0                         \n",
       "4 0                     1                   0                         \n",
       "5 0                     0                   0                         \n",
       "6 0                     0                   0                         \n",
       "  gene_i_date_last_punchers gene_i_day_progression gene_i_dossard\n",
       "1 0                         0                      0             \n",
       "2 0                         0                      0             \n",
       "3 0                         0                      0             \n",
       "4 0                         0                      0             \n",
       "5 0                         0                      0             \n",
       "6 0                         0                      0             \n",
       "  gene_i_year_progression gene_ilist_fkIDfavorite_races gene_sz_firstlastname\n",
       "1 0                                                     A.Amador Bikkazakova \n",
       "2 0                                                     J.Bárta              \n",
       "3 0                                                     A.De Marchi          \n",
       "4 0                                                     R.Hesjedal           \n",
       "5 0                                                     P.Tiralongo          \n",
       "6 0                                                     R.Urán Urán          \n",
       "  gene_sz_soundname limit_i_acceleration limit_i_baroudeur limit_i_cobble\n",
       "1                   0                    0                 0             \n",
       "2                   0                    0                 0             \n",
       "3                   0                    0                 0             \n",
       "4                   0                    0                 0             \n",
       "5                   0                    0                 0             \n",
       "6                   0                    0                 0             \n",
       "  limit_i_downhilling limit_i_endurance limit_i_hill limit_i_mountain\n",
       "1 0                   0                 0            0               \n",
       "2 0                   0                 0            0               \n",
       "3 0                   0                 0            0               \n",
       "4 0                   0                 0            0               \n",
       "5 0                   0                 0            0               \n",
       "6 0                   0                 0            0               \n",
       "  limit_i_plain limit_i_prologue limit_i_recuperation limit_i_resistance\n",
       "1 0             0                0                    0                 \n",
       "2 0             0                0                    0                 \n",
       "3 0             0                0                    0                 \n",
       "4 0             0                0                    0                 \n",
       "5 0             0                0                    0                 \n",
       "6 0             0                0                    0                 \n",
       "  limit_i_sprint limit_i_timetrial prerace_i_cyclist race_b_withdrawal\n",
       "1 0              0                 0                 0                \n",
       "2 0              0                 0                 0                \n",
       "3 0              0                 0                 0                \n",
       "4 0              0                 0                 0                \n",
       "5 0              0                 0                 0                \n",
       "6 0              0                 0                 0                \n",
       "  value_i_potentiel value_i_rank_voted\n",
       "1 5                 0                 \n",
       "2 4                 0                 \n",
       "3 3                 0                 \n",
       "4 5                 0                 \n",
       "5 4                 0                 \n",
       "6 6                 0                 "
      ]
     },
     "metadata": {},
     "output_type": "display_data"
    }
   ],
   "source": [
    "table = (read.csv(\"Data//Mountain_races_final2.csv\", sep = \";\"))\n",
    "head(table)\n",
    "\n",
    "table_train = table[table$Year<=2017,]\n",
    "\n",
    "table_val = table[(table$Year>2017)&(table$Year<=2019) ,]\n",
    "\n",
    "table_trainandval = table[table$Year<=2019,]\n",
    "\n",
    "table_test = table[table$Year>2019,]"
   ]
  },
  {
   "cell_type": "code",
   "execution_count": 6,
   "id": "38f0a0d6",
   "metadata": {
    "scrolled": false,
    "vscode": {
     "languageId": "r"
    }
   },
   "outputs": [
    {
     "name": "stderr",
     "output_type": "stream",
     "text": [
      "`summarise()` has grouped output by 'Race', 'Year'. You can override using the `.groups` argument.\n",
      "`summarise()` has grouped output by 'Race', 'Year'. You can override using the `.groups` argument.\n",
      "`summarise()` has grouped output by 'Race', 'Year'. You can override using the `.groups` argument.\n",
      "`summarise()` has grouped output by 'Race', 'Year'. You can override using the `.groups` argument.\n"
     ]
    }
   ],
   "source": [
    "basetable_train = table_train %>% group_by(Race, Year,Team) %>% summarise(flat_mean = round(mean(FLAT))\n",
    "                                             , mountain_mean = round(mean(MOUNTAIN))\n",
    "                                            , downhill_mean = round(mean(DOWNHILL))\n",
    "                                            ,cobbles_mean = round(mean(COBBLES))\n",
    "                                            ,tt_mean = round(mean(TT)),\n",
    "                                            ,prologue_mean = round(mean(PROLOGUE))\n",
    "                                            ,sprint_mean = round(mean(SPRINT))\n",
    "                                            ,acceleration_mean = round(mean(ACCELERATION))\n",
    "                                            ,endurance_mean = round(mean(ENDURANCE))\n",
    "                                            ,resistance_mean = round(mean(RESISTANCE))\n",
    "                                            ,recup_mean = round(mean(RECUP))\n",
    "                                            ,hill_mean = round(mean(HILL))\n",
    "                                            ,attack_mean = round(mean(ATTACK))\n",
    "                                            \n",
    "                                            ,flat_max = round(max(FLAT))\n",
    "                                            ,mountain_max = round(max(MOUNTAIN))\n",
    "                                            ,downhill_max = round(max(DOWNHILL))\n",
    "                                            ,cobbles_max = round(max(COBBLES))\n",
    "                                            ,tt_max = round(max(TT)),\n",
    "                                            ,prologue_max = round(max(PROLOGUE))\n",
    "                                            ,sprint_max = round(max(SPRINT))\n",
    "                                            ,acceleration_max = round(max(ACCELERATION))\n",
    "                                            ,endurance_max = round(max(ENDURANCE))\n",
    "                                            ,resistance_max = round(max(RESISTANCE))\n",
    "                                            ,recup_max = round(max(RECUP))\n",
    "                                            ,hill_max = round(max(HILL))\n",
    "                                            ,attack_max = round(max(ATTACK))\n",
    "                                            \n",
    "                                            ,flat_min = round(min(FLAT))\n",
    "                                            ,mountain_min = round(min(MOUNTAIN))\n",
    "                                            ,downhill_min = round(min(DOWNHILL))\n",
    "                                            ,cobbles_min = round(min(COBBLES))\n",
    "                                            ,tt_min = round(min(TT)),\n",
    "                                            ,prologue_min = round(min(PROLOGUE))\n",
    "                                            ,sprint_min = round(min(SPRINT))\n",
    "                                            ,acceleration_min = round(min(ACCELERATION))\n",
    "                                            ,endurance_min = round(min(ENDURANCE))\n",
    "                                            ,resistance_min = round(min(RESISTANCE))\n",
    "                                            ,recup_min = round(min(RECUP))\n",
    "                                            ,hill_min = round(min(HILL))\n",
    "                                            ,attack_min = round(min(ATTACK))\n",
    "                                    \n",
    "                                            ,best_position = min(Pos))\n",
    "\n",
    "basetable_val = table_val %>% group_by(Race, Year,Team) %>% summarise(flat_mean = round(mean(FLAT))\n",
    "                                             , mountain_mean = round(mean(MOUNTAIN))\n",
    "                                            , downhill_mean = round(mean(DOWNHILL))\n",
    "                                            ,cobbles_mean = round(mean(COBBLES))\n",
    "                                            ,tt_mean = round(mean(TT)),\n",
    "                                            ,prologue_mean = round(mean(PROLOGUE))\n",
    "                                            ,sprint_mean = round(mean(SPRINT))\n",
    "                                            ,acceleration_mean = round(mean(ACCELERATION))\n",
    "                                            ,endurance_mean = round(mean(ENDURANCE))\n",
    "                                            ,resistance_mean = round(mean(RESISTANCE))\n",
    "                                            ,recup_mean = round(mean(RECUP))\n",
    "                                            ,hill_mean = round(mean(HILL))\n",
    "                                            ,attack_mean = round(mean(ATTACK))\n",
    "                                            \n",
    "                                            ,flat_max = round(max(FLAT))\n",
    "                                            ,mountain_max = round(max(MOUNTAIN))\n",
    "                                            ,downhill_max = round(max(DOWNHILL))\n",
    "                                            ,cobbles_max = round(max(COBBLES))\n",
    "                                            ,tt_max = round(max(TT)),\n",
    "                                            ,prologue_max = round(max(PROLOGUE))\n",
    "                                            ,sprint_max = round(max(SPRINT))\n",
    "                                            ,acceleration_max = round(max(ACCELERATION))\n",
    "                                            ,endurance_max = round(max(ENDURANCE))\n",
    "                                            ,resistance_max = round(max(RESISTANCE))\n",
    "                                            ,recup_max = round(max(RECUP))\n",
    "                                            ,hill_max = round(max(HILL))\n",
    "                                            ,attack_max = round(max(ATTACK))\n",
    "                                            \n",
    "                                            ,flat_min = round(min(FLAT))\n",
    "                                            ,mountain_min = round(min(MOUNTAIN))\n",
    "                                            ,downhill_min = round(min(DOWNHILL))\n",
    "                                            ,cobbles_min = round(min(COBBLES))\n",
    "                                            ,tt_min = round(min(TT)),\n",
    "                                            ,prologue_min = round(min(PROLOGUE))\n",
    "                                            ,sprint_min = round(min(SPRINT))\n",
    "                                            ,acceleration_min = round(min(ACCELERATION))\n",
    "                                            ,endurance_min = round(min(ENDURANCE))\n",
    "                                            ,resistance_min = round(min(RESISTANCE))\n",
    "                                            ,recup_min = round(min(RECUP))\n",
    "                                            ,hill_min = round(min(HILL))\n",
    "                                            ,attack_min = round(min(ATTACK))\n",
    "                                    \n",
    "                                            ,best_position = min(Pos))\n",
    "\n",
    "basetable_test = table_test %>% group_by(Race, Year,Team) %>% summarise(flat_mean = round(mean(FLAT))\n",
    "                                             , mountain_mean = round(mean(MOUNTAIN))\n",
    "                                            , downhill_mean = round(mean(DOWNHILL))\n",
    "                                            ,cobbles_mean = round(mean(COBBLES))\n",
    "                                            ,tt_mean = round(mean(TT)),\n",
    "                                            ,prologue_mean = round(mean(PROLOGUE))\n",
    "                                            ,sprint_mean = round(mean(SPRINT))\n",
    "                                            ,acceleration_mean = round(mean(ACCELERATION))\n",
    "                                            ,endurance_mean = round(mean(ENDURANCE))\n",
    "                                            ,resistance_mean = round(mean(RESISTANCE))\n",
    "                                            ,recup_mean = round(mean(RECUP))\n",
    "                                            ,hill_mean = round(mean(HILL))\n",
    "                                            ,attack_mean = round(mean(ATTACK))\n",
    "                                            \n",
    "                                            ,flat_max = round(max(FLAT))\n",
    "                                            ,mountain_max = round(max(MOUNTAIN))\n",
    "                                            ,downhill_max = round(max(DOWNHILL))\n",
    "                                            ,cobbles_max = round(max(COBBLES))\n",
    "                                            ,tt_max = round(max(TT)),\n",
    "                                            ,prologue_max = round(max(PROLOGUE))\n",
    "                                            ,sprint_max = round(max(SPRINT))\n",
    "                                            ,acceleration_max = round(max(ACCELERATION))\n",
    "                                            ,endurance_max = round(max(ENDURANCE))\n",
    "                                            ,resistance_max = round(max(RESISTANCE))\n",
    "                                            ,recup_max = round(max(RECUP))\n",
    "                                            ,hill_max = round(max(HILL))\n",
    "                                            ,attack_max = round(max(ATTACK))\n",
    "                                            \n",
    "                                            ,flat_min = round(min(FLAT))\n",
    "                                            ,mountain_min = round(min(MOUNTAIN))\n",
    "                                            ,downhill_min = round(min(DOWNHILL))\n",
    "                                            ,cobbles_min = round(min(COBBLES))\n",
    "                                            ,tt_min = round(min(TT)),\n",
    "                                            ,prologue_min = round(min(PROLOGUE))\n",
    "                                            ,sprint_min = round(min(SPRINT))\n",
    "                                            ,acceleration_min = round(min(ACCELERATION))\n",
    "                                            ,endurance_min = round(min(ENDURANCE))\n",
    "                                            ,resistance_min = round(min(RESISTANCE))\n",
    "                                            ,recup_min = round(min(RECUP))\n",
    "                                            ,hill_min = round(min(HILL))\n",
    "                                            ,attack_min = round(min(ATTACK))\n",
    "                                    \n",
    "                                            ,best_position = min(Pos))\n",
    "\n",
    "basetable = table_trainandval %>% group_by(Race, Year,Team) %>% summarise(flat_mean = round(mean(FLAT))\n",
    "                                             , mountain_mean = round(mean(MOUNTAIN))\n",
    "                                            , downhill_mean = round(mean(DOWNHILL))\n",
    "                                            ,cobbles_mean = round(mean(COBBLES))\n",
    "                                            ,tt_mean = round(mean(TT)),\n",
    "                                            ,prologue_mean = round(mean(PROLOGUE))\n",
    "                                            ,sprint_mean = round(mean(SPRINT))\n",
    "                                            ,acceleration_mean = round(mean(ACCELERATION))\n",
    "                                            ,endurance_mean = round(mean(ENDURANCE))\n",
    "                                            ,resistance_mean = round(mean(RESISTANCE))\n",
    "                                            ,recup_mean = round(mean(RECUP))\n",
    "                                            ,hill_mean = round(mean(HILL))\n",
    "                                            ,attack_mean = round(mean(ATTACK))\n",
    "                                            \n",
    "                                            ,flat_max = round(max(FLAT))\n",
    "                                            ,mountain_max = round(max(MOUNTAIN))\n",
    "                                            ,downhill_max = round(max(DOWNHILL))\n",
    "                                            ,cobbles_max = round(max(COBBLES))\n",
    "                                            ,tt_max = round(max(TT)),\n",
    "                                            ,prologue_max = round(max(PROLOGUE))\n",
    "                                            ,sprint_max = round(max(SPRINT))\n",
    "                                            ,acceleration_max = round(max(ACCELERATION))\n",
    "                                            ,endurance_max = round(max(ENDURANCE))\n",
    "                                            ,resistance_max = round(max(RESISTANCE))\n",
    "                                            ,recup_max = round(max(RECUP))\n",
    "                                            ,hill_max = round(max(HILL))\n",
    "                                            ,attack_max = round(max(ATTACK))\n",
    "                                            \n",
    "                                            ,flat_min = round(min(FLAT))\n",
    "                                            ,mountain_min = round(min(MOUNTAIN))\n",
    "                                            ,downhill_min = round(min(DOWNHILL))\n",
    "                                            ,cobbles_min = round(min(COBBLES))\n",
    "                                            ,tt_min = round(min(TT)),\n",
    "                                            ,prologue_min = round(min(PROLOGUE))\n",
    "                                            ,sprint_min = round(min(SPRINT))\n",
    "                                            ,acceleration_min = round(min(ACCELERATION))\n",
    "                                            ,endurance_min = round(min(ENDURANCE))\n",
    "                                            ,resistance_min = round(min(RESISTANCE))\n",
    "                                            ,recup_min = round(min(RECUP))\n",
    "                                            ,hill_min = round(min(HILL))\n",
    "                                            ,attack_min = round(min(ATTACK))\n",
    "                                    \n",
    "                                            ,best_position = min(Pos))"
   ]
  },
  {
   "cell_type": "code",
   "execution_count": 7,
   "id": "e70588ed",
   "metadata": {
    "vscode": {
     "languageId": "r"
    }
   },
   "outputs": [
    {
     "data": {
      "text/plain": [
       "\n",
       "  0   1 \n",
       "125 179 "
      ]
     },
     "metadata": {},
     "output_type": "display_data"
    },
    {
     "data": {
      "text/plain": [
       "\n",
       " 0  1 \n",
       "58 76 "
      ]
     },
     "metadata": {},
     "output_type": "display_data"
    },
    {
     "data": {
      "text/plain": [
       "\n",
       " 0  1 \n",
       "47 69 "
      ]
     },
     "metadata": {},
     "output_type": "display_data"
    },
    {
     "data": {
      "text/plain": [
       "\n",
       "  0   1 \n",
       "183 255 "
      ]
     },
     "metadata": {},
     "output_type": "display_data"
    }
   ],
   "source": [
    "basetable_train = (basetable_train)%>% drop_na()\n",
    "basetable_val = (basetable_val)%>% drop_na()\n",
    "basetable_test = (basetable_test)%>% drop_na()\n",
    "basetable = (basetable)%>% drop_na()\n",
    "\n",
    "#Training set\n",
    "basetable_train$Top10 = as.factor(ifelse(basetable_train$best_position <=10, 1,0))\n",
    "basetable_train$Top5 = as.factor(ifelse(basetable_train$best_position <=5, 1,0))\n",
    "basetable_train$Top4 = as.factor(ifelse(basetable_train$best_position <=4, 1,0))\n",
    "basetable_train$Top3 = as.factor(ifelse(basetable_train$best_position <=3, 1,0))\n",
    "basetable_train$Top2 = as.factor(ifelse(basetable_train$best_position <=2, 1,0))\n",
    "\n",
    "table(basetable_train$Top5)\n",
    "\n",
    "basetable_train$minutes_from_top = NULL\n",
    "basetable_train$best_position = NULL\n",
    "basetable_train$Team = NULL\n",
    "basetable_train$Year = NULL\n",
    "basetable_train$Stage = NULL\n",
    "basetable_train$Team_ID = NULL\n",
    "basetable_train$Race= NULL\n",
    "\n",
    "#Validation set\n",
    "basetable_val$Top10 = as.factor(ifelse(basetable_val$best_position <=10, 1,0))\n",
    "basetable_val$Top5 = as.factor(ifelse(basetable_val$best_position <=5, 1,0))\n",
    "basetable_val$Top4 = as.factor(ifelse(basetable_val$best_position <=4, 1,0))\n",
    "basetable_val$Top3 = as.factor(ifelse(basetable_val$best_position <=3, 1,0))\n",
    "basetable_val$Top2 = as.factor(ifelse(basetable_val$best_position <=2, 1,0))\n",
    "\n",
    "table(basetable_val$Top5)\n",
    "\n",
    "\n",
    "basetable_val$minutes_from_top = NULL\n",
    "basetable_val$best_position = NULL\n",
    "basetable_val$Team = NULL\n",
    "basetable_val$Year = NULL\n",
    "basetable_val$Stage = NULL\n",
    "basetable_val$Team_ID = NULL\n",
    "basetable_val$Race= NULL\n",
    "\n",
    "#Test set\n",
    "basetable_test$Top10 = as.factor(ifelse(basetable_test$best_position <=10, 1,0))\n",
    "basetable_test$Top5 = as.factor(ifelse(basetable_test$best_position <=5, 1,0))\n",
    "basetable_test$Top4 = as.factor(ifelse(basetable_test$best_position <=4, 1,0))\n",
    "basetable_test$Top3 = as.factor(ifelse(basetable_test$best_position <=3, 1,0))\n",
    "basetable_test$Top2 = as.factor(ifelse(basetable_test$best_position <=2, 1,0))\n",
    "\n",
    "table(basetable_test$Top5)\n",
    "\n",
    "basetable_test$minutes_from_top = NULL\n",
    "basetable_test$best_position = NULL\n",
    "basetable_test$Team = NULL\n",
    "basetable_test$Year = NULL\n",
    "basetable_test$Stage = NULL\n",
    "basetable_test$Team_ID = NULL\n",
    "basetable_test$Race= NULL\n",
    "\n",
    "basetable$Top10 = as.factor(ifelse(basetable$best_position <=10, 1,0))\n",
    "basetable$Top5 = as.factor(ifelse(basetable$best_position <=5, 1,0))\n",
    "basetable$Top4 = as.factor(ifelse(basetable$best_position <=4, 1,0))\n",
    "basetable$Top3 = as.factor(ifelse(basetable$best_position <=3, 1,0))\n",
    "basetable$Top2 = as.factor(ifelse(basetable$best_position <=2, 1,0))\n",
    "\n",
    "table(basetable$Top5)\n",
    "\n",
    "basetable$minutes_from_top = NULL\n",
    "basetable$best_position = NULL\n",
    "basetable$Team = NULL\n",
    "basetable$Year = NULL\n",
    "basetable$Stage = NULL\n",
    "basetable$Team_ID = NULL\n",
    "basetable$Race= NULL\n",
    "\n",
    "table_train <- basetable_train\n",
    "table_test<- basetable_test\n",
    "table_val <- basetable_val\n",
    "table_trainval = basetable"
   ]
  },
  {
   "cell_type": "markdown",
   "id": "5bade802",
   "metadata": {},
   "source": [
    "# Feature Selection"
   ]
  },
  {
   "cell_type": "markdown",
   "id": "f8d84044",
   "metadata": {},
   "source": [
    "## Variable selection: Boruta & varSelRF"
   ]
  },
  {
   "cell_type": "code",
   "execution_count": 11,
   "id": "df5b3491",
   "metadata": {
    "vscode": {
     "languageId": "r"
    }
   },
   "outputs": [],
   "source": [
    "#Preparing the train and validation tables\n",
    "table_train5 <- table_train\n",
    "table_val5 <- table_val\n",
    "table_test5 <- table_test\n",
    "\n",
    "table_train5$Top10 <- NULL\n",
    "table_train5$Top4 <- NULL\n",
    "table_train5$Top3 <- NULL\n",
    "table_train5$Top2 <- NULL\n",
    "\n",
    "table_val5$Top10 <- NULL\n",
    "table_val5$Top4 <- NULL\n",
    "table_val5$Top3 <- NULL\n",
    "table_val5$Top2 <- NULL\n",
    "\n",
    "table_test5$Top10 <- NULL\n",
    "table_test5$Top4 <- NULL\n",
    "table_test5$Top3 <- NULL\n",
    "table_test5$Top2 <- NULL"
   ]
  },
  {
   "cell_type": "code",
   "execution_count": 12,
   "id": "2d75078c",
   "metadata": {},
   "outputs": [
    {
     "data": {
      "text/html": [
       "<table>\n",
       "<thead><tr><th scope=col>flat_mean</th><th scope=col>mountain_mean</th><th scope=col>downhill_mean</th><th scope=col>cobbles_mean</th><th scope=col>tt_mean</th><th scope=col>prologue_mean</th><th scope=col>sprint_mean</th><th scope=col>acceleration_mean</th><th scope=col>endurance_mean</th><th scope=col>resistance_mean</th><th scope=col>recup_mean</th><th scope=col>hill_mean</th><th scope=col>attack_mean</th><th scope=col>flat_max</th><th scope=col>mountain_max</th><th scope=col>downhill_max</th><th scope=col>cobbles_max</th><th scope=col>tt_max</th><th scope=col>prologue_max</th><th scope=col>sprint_max</th><th scope=col>acceleration_max</th><th scope=col>endurance_max</th><th scope=col>resistance_max</th><th scope=col>recup_max</th><th scope=col>hill_max</th><th scope=col>attack_max</th><th scope=col>flat_min</th><th scope=col>mountain_min</th><th scope=col>downhill_min</th><th scope=col>cobbles_min</th><th scope=col>tt_min</th><th scope=col>prologue_min</th><th scope=col>sprint_min</th><th scope=col>acceleration_min</th><th scope=col>endurance_min</th><th scope=col>resistance_min</th><th scope=col>recup_min</th><th scope=col>hill_min</th><th scope=col>attack_min</th><th scope=col>Top5</th></tr></thead>\n",
       "<tbody>\n",
       "\t<tr><td>66</td><td>69</td><td>68</td><td>57</td><td>63</td><td>64</td><td>63</td><td>68</td><td>66</td><td>67</td><td>68</td><td>68</td><td>68</td><td>71</td><td>78</td><td>78</td><td>61</td><td>68</td><td>69</td><td>75</td><td>74</td><td>72</td><td>74</td><td>75</td><td>75</td><td>73</td><td>64</td><td>58</td><td>61</td><td>54</td><td>58</td><td>61</td><td>56</td><td>61</td><td>63</td><td>64</td><td>63</td><td>65</td><td>61</td><td>0 </td></tr>\n",
       "\t<tr><td>66</td><td>70</td><td>66</td><td>55</td><td>64</td><td>64</td><td>64</td><td>69</td><td>67</td><td>69</td><td>67</td><td>70</td><td>70</td><td>70</td><td>79</td><td>70</td><td>68</td><td>68</td><td>70</td><td>75</td><td>75</td><td>69</td><td>74</td><td>72</td><td>74</td><td>80</td><td>64</td><td>60</td><td>63</td><td>51</td><td>60</td><td>60</td><td>56</td><td>60</td><td>64</td><td>64</td><td>62</td><td>65</td><td>63</td><td>1 </td></tr>\n",
       "\t<tr><td>68</td><td>70</td><td>65</td><td>57</td><td>67</td><td>67</td><td>62</td><td>68</td><td>68</td><td>69</td><td>69</td><td>71</td><td>69</td><td>74</td><td>78</td><td>70</td><td>68</td><td>76</td><td>76</td><td>72</td><td>76</td><td>74</td><td>76</td><td>76</td><td>78</td><td>72</td><td>63</td><td>62</td><td>62</td><td>52</td><td>58</td><td>61</td><td>56</td><td>63</td><td>65</td><td>64</td><td>63</td><td>67</td><td>62</td><td>1 </td></tr>\n",
       "\t<tr><td>70</td><td>67</td><td>67</td><td>60</td><td>66</td><td>68</td><td>63</td><td>69</td><td>68</td><td>69</td><td>67</td><td>70</td><td>72</td><td>79</td><td>75</td><td>73</td><td>80</td><td>77</td><td>76</td><td>73</td><td>73</td><td>77</td><td>74</td><td>75</td><td>75</td><td>78</td><td>65</td><td>59</td><td>63</td><td>53</td><td>58</td><td>59</td><td>56</td><td>62</td><td>66</td><td>64</td><td>62</td><td>64</td><td>64</td><td>0 </td></tr>\n",
       "\t<tr><td>66</td><td>63</td><td>64</td><td>55</td><td>60</td><td>61</td><td>64</td><td>66</td><td>65</td><td>65</td><td>64</td><td>67</td><td>68</td><td>72</td><td>75</td><td>71</td><td>59</td><td>63</td><td>65</td><td>76</td><td>77</td><td>70</td><td>72</td><td>71</td><td>73</td><td>73</td><td>63</td><td>56</td><td>60</td><td>53</td><td>58</td><td>58</td><td>58</td><td>61</td><td>62</td><td>61</td><td>60</td><td>62</td><td>63</td><td>1 </td></tr>\n",
       "\t<tr><td>65</td><td>68</td><td>66</td><td>55</td><td>61</td><td>62</td><td>59</td><td>64</td><td>66</td><td>66</td><td>66</td><td>68</td><td>69</td><td>69</td><td>76</td><td>69</td><td>57</td><td>67</td><td>68</td><td>63</td><td>70</td><td>72</td><td>73</td><td>73</td><td>74</td><td>82</td><td>62</td><td>56</td><td>62</td><td>53</td><td>57</td><td>58</td><td>55</td><td>61</td><td>62</td><td>61</td><td>59</td><td>62</td><td>62</td><td>1 </td></tr>\n",
       "</tbody>\n",
       "</table>\n"
      ],
      "text/latex": [
       "\\begin{tabular}{r|llllllllllllllllllllllllllllllllllllllll}\n",
       " flat\\_mean & mountain\\_mean & downhill\\_mean & cobbles\\_mean & tt\\_mean & prologue\\_mean & sprint\\_mean & acceleration\\_mean & endurance\\_mean & resistance\\_mean & recup\\_mean & hill\\_mean & attack\\_mean & flat\\_max & mountain\\_max & downhill\\_max & cobbles\\_max & tt\\_max & prologue\\_max & sprint\\_max & acceleration\\_max & endurance\\_max & resistance\\_max & recup\\_max & hill\\_max & attack\\_max & flat\\_min & mountain\\_min & downhill\\_min & cobbles\\_min & tt\\_min & prologue\\_min & sprint\\_min & acceleration\\_min & endurance\\_min & resistance\\_min & recup\\_min & hill\\_min & attack\\_min & Top5\\\\\n",
       "\\hline\n",
       "\t 66 & 69 & 68 & 57 & 63 & 64 & 63 & 68 & 66 & 67 & 68 & 68 & 68 & 71 & 78 & 78 & 61 & 68 & 69 & 75 & 74 & 72 & 74 & 75 & 75 & 73 & 64 & 58 & 61 & 54 & 58 & 61 & 56 & 61 & 63 & 64 & 63 & 65 & 61 & 0 \\\\\n",
       "\t 66 & 70 & 66 & 55 & 64 & 64 & 64 & 69 & 67 & 69 & 67 & 70 & 70 & 70 & 79 & 70 & 68 & 68 & 70 & 75 & 75 & 69 & 74 & 72 & 74 & 80 & 64 & 60 & 63 & 51 & 60 & 60 & 56 & 60 & 64 & 64 & 62 & 65 & 63 & 1 \\\\\n",
       "\t 68 & 70 & 65 & 57 & 67 & 67 & 62 & 68 & 68 & 69 & 69 & 71 & 69 & 74 & 78 & 70 & 68 & 76 & 76 & 72 & 76 & 74 & 76 & 76 & 78 & 72 & 63 & 62 & 62 & 52 & 58 & 61 & 56 & 63 & 65 & 64 & 63 & 67 & 62 & 1 \\\\\n",
       "\t 70 & 67 & 67 & 60 & 66 & 68 & 63 & 69 & 68 & 69 & 67 & 70 & 72 & 79 & 75 & 73 & 80 & 77 & 76 & 73 & 73 & 77 & 74 & 75 & 75 & 78 & 65 & 59 & 63 & 53 & 58 & 59 & 56 & 62 & 66 & 64 & 62 & 64 & 64 & 0 \\\\\n",
       "\t 66 & 63 & 64 & 55 & 60 & 61 & 64 & 66 & 65 & 65 & 64 & 67 & 68 & 72 & 75 & 71 & 59 & 63 & 65 & 76 & 77 & 70 & 72 & 71 & 73 & 73 & 63 & 56 & 60 & 53 & 58 & 58 & 58 & 61 & 62 & 61 & 60 & 62 & 63 & 1 \\\\\n",
       "\t 65 & 68 & 66 & 55 & 61 & 62 & 59 & 64 & 66 & 66 & 66 & 68 & 69 & 69 & 76 & 69 & 57 & 67 & 68 & 63 & 70 & 72 & 73 & 73 & 74 & 82 & 62 & 56 & 62 & 53 & 57 & 58 & 55 & 61 & 62 & 61 & 59 & 62 & 62 & 1 \\\\\n",
       "\\end{tabular}\n"
      ],
      "text/markdown": [
       "\n",
       "| flat_mean | mountain_mean | downhill_mean | cobbles_mean | tt_mean | prologue_mean | sprint_mean | acceleration_mean | endurance_mean | resistance_mean | recup_mean | hill_mean | attack_mean | flat_max | mountain_max | downhill_max | cobbles_max | tt_max | prologue_max | sprint_max | acceleration_max | endurance_max | resistance_max | recup_max | hill_max | attack_max | flat_min | mountain_min | downhill_min | cobbles_min | tt_min | prologue_min | sprint_min | acceleration_min | endurance_min | resistance_min | recup_min | hill_min | attack_min | Top5 |\n",
       "|---|---|---|---|---|---|---|---|---|---|---|---|---|---|---|---|---|---|---|---|---|---|---|---|---|---|---|---|---|---|---|---|---|---|---|---|---|---|---|---|\n",
       "| 66 | 69 | 68 | 57 | 63 | 64 | 63 | 68 | 66 | 67 | 68 | 68 | 68 | 71 | 78 | 78 | 61 | 68 | 69 | 75 | 74 | 72 | 74 | 75 | 75 | 73 | 64 | 58 | 61 | 54 | 58 | 61 | 56 | 61 | 63 | 64 | 63 | 65 | 61 | 0  |\n",
       "| 66 | 70 | 66 | 55 | 64 | 64 | 64 | 69 | 67 | 69 | 67 | 70 | 70 | 70 | 79 | 70 | 68 | 68 | 70 | 75 | 75 | 69 | 74 | 72 | 74 | 80 | 64 | 60 | 63 | 51 | 60 | 60 | 56 | 60 | 64 | 64 | 62 | 65 | 63 | 1  |\n",
       "| 68 | 70 | 65 | 57 | 67 | 67 | 62 | 68 | 68 | 69 | 69 | 71 | 69 | 74 | 78 | 70 | 68 | 76 | 76 | 72 | 76 | 74 | 76 | 76 | 78 | 72 | 63 | 62 | 62 | 52 | 58 | 61 | 56 | 63 | 65 | 64 | 63 | 67 | 62 | 1  |\n",
       "| 70 | 67 | 67 | 60 | 66 | 68 | 63 | 69 | 68 | 69 | 67 | 70 | 72 | 79 | 75 | 73 | 80 | 77 | 76 | 73 | 73 | 77 | 74 | 75 | 75 | 78 | 65 | 59 | 63 | 53 | 58 | 59 | 56 | 62 | 66 | 64 | 62 | 64 | 64 | 0  |\n",
       "| 66 | 63 | 64 | 55 | 60 | 61 | 64 | 66 | 65 | 65 | 64 | 67 | 68 | 72 | 75 | 71 | 59 | 63 | 65 | 76 | 77 | 70 | 72 | 71 | 73 | 73 | 63 | 56 | 60 | 53 | 58 | 58 | 58 | 61 | 62 | 61 | 60 | 62 | 63 | 1  |\n",
       "| 65 | 68 | 66 | 55 | 61 | 62 | 59 | 64 | 66 | 66 | 66 | 68 | 69 | 69 | 76 | 69 | 57 | 67 | 68 | 63 | 70 | 72 | 73 | 73 | 74 | 82 | 62 | 56 | 62 | 53 | 57 | 58 | 55 | 61 | 62 | 61 | 59 | 62 | 62 | 1  |\n",
       "\n"
      ],
      "text/plain": [
       "  flat_mean mountain_mean downhill_mean cobbles_mean tt_mean prologue_mean\n",
       "1 66        69            68            57           63      64           \n",
       "2 66        70            66            55           64      64           \n",
       "3 68        70            65            57           67      67           \n",
       "4 70        67            67            60           66      68           \n",
       "5 66        63            64            55           60      61           \n",
       "6 65        68            66            55           61      62           \n",
       "  sprint_mean acceleration_mean endurance_mean resistance_mean recup_mean\n",
       "1 63          68                66             67              68        \n",
       "2 64          69                67             69              67        \n",
       "3 62          68                68             69              69        \n",
       "4 63          69                68             69              67        \n",
       "5 64          66                65             65              64        \n",
       "6 59          64                66             66              66        \n",
       "  hill_mean attack_mean flat_max mountain_max downhill_max cobbles_max tt_max\n",
       "1 68        68          71       78           78           61          68    \n",
       "2 70        70          70       79           70           68          68    \n",
       "3 71        69          74       78           70           68          76    \n",
       "4 70        72          79       75           73           80          77    \n",
       "5 67        68          72       75           71           59          63    \n",
       "6 68        69          69       76           69           57          67    \n",
       "  prologue_max sprint_max acceleration_max endurance_max resistance_max\n",
       "1 69           75         74               72            74            \n",
       "2 70           75         75               69            74            \n",
       "3 76           72         76               74            76            \n",
       "4 76           73         73               77            74            \n",
       "5 65           76         77               70            72            \n",
       "6 68           63         70               72            73            \n",
       "  recup_max hill_max attack_max flat_min mountain_min downhill_min cobbles_min\n",
       "1 75        75       73         64       58           61           54         \n",
       "2 72        74       80         64       60           63           51         \n",
       "3 76        78       72         63       62           62           52         \n",
       "4 75        75       78         65       59           63           53         \n",
       "5 71        73       73         63       56           60           53         \n",
       "6 73        74       82         62       56           62           53         \n",
       "  tt_min prologue_min sprint_min acceleration_min endurance_min resistance_min\n",
       "1 58     61           56         61               63            64            \n",
       "2 60     60           56         60               64            64            \n",
       "3 58     61           56         63               65            64            \n",
       "4 58     59           56         62               66            64            \n",
       "5 58     58           58         61               62            61            \n",
       "6 57     58           55         61               62            61            \n",
       "  recup_min hill_min attack_min Top5\n",
       "1 63        65       61         0   \n",
       "2 62        65       63         1   \n",
       "3 63        67       62         1   \n",
       "4 62        64       64         0   \n",
       "5 60        62       63         1   \n",
       "6 59        62       62         1   "
      ]
     },
     "metadata": {},
     "output_type": "display_data"
    }
   ],
   "source": [
    "head(table_train5)"
   ]
  },
  {
   "cell_type": "code",
   "execution_count": 13,
   "id": "794f327e",
   "metadata": {
    "vscode": {
     "languageId": "r"
    }
   },
   "outputs": [],
   "source": [
    "#Variable selection: Boruta\n",
    "rf_boruta <- Boruta(table_train5[, !names(table_train5) %in% c(\"Top5\")], table_train5$Top5, doTrace = 0, maxRuns = 500)"
   ]
  },
  {
   "cell_type": "code",
   "execution_count": 14,
   "id": "2e85bb4c",
   "metadata": {
    "vscode": {
     "languageId": "r"
    }
   },
   "outputs": [],
   "source": [
    "varsel_boruta <- names(rf_boruta$finalDecision[rf_boruta$finalDecision == \"Confirmed\"])\n",
    "\n",
    "\n",
    "##Variable selection :varSelRF\n",
    "rf_vsrf <- varSelRF(table_train5[, !names(table_train5) %in% c(\"Top5\")], table_train5$Top5, vars.drop.frac = 0.15,  ntree = 350, ntreeIterat = 100)\n",
    "varsel_vsrf <- rf_vsrf$selected.vars"
   ]
  },
  {
   "cell_type": "code",
   "execution_count": 15,
   "id": "69ae3396",
   "metadata": {},
   "outputs": [
    {
     "data": {
      "text/html": [
       "<ol class=list-inline>\n",
       "\t<li>'mountain_mean'</li>\n",
       "\t<li>'cobbles_mean'</li>\n",
       "\t<li>'tt_mean'</li>\n",
       "\t<li>'resistance_mean'</li>\n",
       "\t<li>'hill_mean'</li>\n",
       "\t<li>'mountain_max'</li>\n",
       "\t<li>'tt_max'</li>\n",
       "\t<li>'recup_max'</li>\n",
       "\t<li>'hill_max'</li>\n",
       "\t<li>'mountain_min'</li>\n",
       "</ol>\n"
      ],
      "text/latex": [
       "\\begin{enumerate*}\n",
       "\\item 'mountain\\_mean'\n",
       "\\item 'cobbles\\_mean'\n",
       "\\item 'tt\\_mean'\n",
       "\\item 'resistance\\_mean'\n",
       "\\item 'hill\\_mean'\n",
       "\\item 'mountain\\_max'\n",
       "\\item 'tt\\_max'\n",
       "\\item 'recup\\_max'\n",
       "\\item 'hill\\_max'\n",
       "\\item 'mountain\\_min'\n",
       "\\end{enumerate*}\n"
      ],
      "text/markdown": [
       "1. 'mountain_mean'\n",
       "2. 'cobbles_mean'\n",
       "3. 'tt_mean'\n",
       "4. 'resistance_mean'\n",
       "5. 'hill_mean'\n",
       "6. 'mountain_max'\n",
       "7. 'tt_max'\n",
       "8. 'recup_max'\n",
       "9. 'hill_max'\n",
       "10. 'mountain_min'\n",
       "\n",
       "\n"
      ],
      "text/plain": [
       " [1] \"mountain_mean\"   \"cobbles_mean\"    \"tt_mean\"         \"resistance_mean\"\n",
       " [5] \"hill_mean\"       \"mountain_max\"    \"tt_max\"          \"recup_max\"      \n",
       " [9] \"hill_max\"        \"mountain_min\"   "
      ]
     },
     "metadata": {},
     "output_type": "display_data"
    }
   ],
   "source": [
    "varsel_boruta"
   ]
  },
  {
   "cell_type": "markdown",
   "id": "dec56311",
   "metadata": {},
   "source": [
    "In all models boruta variables perform better"
   ]
  },
  {
   "cell_type": "markdown",
   "id": "d9834799",
   "metadata": {},
   "source": [
    "# Prediction if finish in the top 5"
   ]
  },
  {
   "cell_type": "code",
   "execution_count": 34,
   "id": "e2b94cdd",
   "metadata": {
    "scrolled": true,
    "vscode": {
     "languageId": "r"
    }
   },
   "outputs": [],
   "source": [
    "set.seed(123)\n",
    "train <- basetable_train\n",
    "yTRAIN <- train$Top5\n",
    "train$Top10 = NULL\n",
    "train$Top5 = NULL\n",
    "train$Top4 = NULL\n",
    "train$Top3 = NULL\n",
    "train$Top2 = NULL\n",
    "\n",
    "val <- basetable_val\n",
    "yVAL <- val$Top5\n",
    "val$Top10 = NULL\n",
    "val$Top5 = NULL\n",
    "val$Top4 = NULL\n",
    "val$Top3 = NULL\n",
    "val$Top2 = NULL"
   ]
  },
  {
   "cell_type": "code",
   "execution_count": 35,
   "id": "d46c1aa2",
   "metadata": {},
   "outputs": [],
   "source": [
    "#Boruto performs better\n",
    "train = train[varsel_boruta]\n",
    "val = val[varsel_boruta]"
   ]
  },
  {
   "cell_type": "code",
   "execution_count": 36,
   "id": "7282b62a",
   "metadata": {},
   "outputs": [
    {
     "data": {
      "text/html": [
       "9"
      ],
      "text/latex": [
       "9"
      ],
      "text/markdown": [
       "9"
      ],
      "text/plain": [
       "[1] 9"
      ]
     },
     "metadata": {},
     "output_type": "display_data"
    }
   ],
   "source": [
    "ncol(train)"
   ]
  },
  {
   "cell_type": "markdown",
   "id": "fe8779ef",
   "metadata": {},
   "source": [
    "## Ranger"
   ]
  },
  {
   "cell_type": "markdown",
   "id": "dfe2c8fa",
   "metadata": {},
   "source": [
    "### Tuning"
   ]
  },
  {
   "cell_type": "code",
   "execution_count": 37,
   "id": "01ea63a2",
   "metadata": {
    "vscode": {
     "languageId": "r"
    }
   },
   "outputs": [],
   "source": [
    "# hyperparameter grid search\n",
    "hyper_grid <- expand.grid(\n",
    "  num_trees = c(1000),\n",
    "  mtry       = seq(1, ncol(train), by = 1),\n",
    "  node_size  = seq(1, 15, by = 2),\n",
    "  sampe_size = c(.55, .632, .70,0.75,.80) \n",
    ")"
   ]
  },
  {
   "cell_type": "code",
   "execution_count": 38,
   "id": "f9e83f78",
   "metadata": {
    "vscode": {
     "languageId": "r"
    }
   },
   "outputs": [],
   "source": [
    "for(i in 1:nrow(hyper_grid)) {\n",
    "  \n",
    "  # train model\n",
    "  model <- ranger(\n",
    "    x               = train, \n",
    "    y               = yTRAIN, \n",
    "    num.trees       = hyper_grid$num_trees[i],\n",
    "    mtry            = hyper_grid$mtry[i],\n",
    "    min.node.size   = hyper_grid$node_size[i],\n",
    "    sample.fraction = hyper_grid$sampe_size[i],\n",
    "    probability     = TRUE,\n",
    "    seed            = 123\n",
    "  )\n",
    "  predictions =  predict(model,val)$predictions[,2]\n",
    "  auc = AUC::auc(roc(predictions,factor(yVAL)))\n",
    "  hyper_grid$AUC[i] <- auc\n",
    "}"
   ]
  },
  {
   "cell_type": "code",
   "execution_count": 50,
   "id": "2ac2a2ee",
   "metadata": {
    "scrolled": false,
    "vscode": {
     "languageId": "r"
    }
   },
   "outputs": [
    {
     "data": {
      "text/html": [
       "<table>\n",
       "<thead><tr><th></th><th scope=col>num_trees</th><th scope=col>mtry</th><th scope=col>node_size</th><th scope=col>sampe_size</th><th scope=col>AUC</th></tr></thead>\n",
       "<tbody>\n",
       "\t<tr><th scope=row>356</th><td>1000     </td><td>1        </td><td>7        </td><td>0.800    </td><td>0.6960073</td></tr>\n",
       "\t<tr><th scope=row>357</th><td>1000     </td><td>1        </td><td>5        </td><td>0.800    </td><td>0.6966878</td></tr>\n",
       "\t<tr><th scope=row>358</th><td>1000     </td><td>1        </td><td>3        </td><td>0.632    </td><td>0.6966878</td></tr>\n",
       "\t<tr><th scope=row>359</th><td>1000     </td><td>1        </td><td>3        </td><td>0.800    </td><td>0.6975953</td></tr>\n",
       "\t<tr><th scope=row>360</th><td>1000     </td><td>1        </td><td>5        </td><td>0.550    </td><td>0.6982759</td></tr>\n",
       "</tbody>\n",
       "</table>\n"
      ],
      "text/latex": [
       "\\begin{tabular}{r|lllll}\n",
       "  & num\\_trees & mtry & node\\_size & sampe\\_size & AUC\\\\\n",
       "\\hline\n",
       "\t356 & 1000      & 1         & 7         & 0.800     & 0.6960073\\\\\n",
       "\t357 & 1000      & 1         & 5         & 0.800     & 0.6966878\\\\\n",
       "\t358 & 1000      & 1         & 3         & 0.632     & 0.6966878\\\\\n",
       "\t359 & 1000      & 1         & 3         & 0.800     & 0.6975953\\\\\n",
       "\t360 & 1000      & 1         & 5         & 0.550     & 0.6982759\\\\\n",
       "\\end{tabular}\n"
      ],
      "text/markdown": [
       "\n",
       "| <!--/--> | num_trees | mtry | node_size | sampe_size | AUC |\n",
       "|---|---|---|---|---|---|\n",
       "| 356 | 1000      | 1         | 7         | 0.800     | 0.6960073 |\n",
       "| 357 | 1000      | 1         | 5         | 0.800     | 0.6966878 |\n",
       "| 358 | 1000      | 1         | 3         | 0.632     | 0.6966878 |\n",
       "| 359 | 1000      | 1         | 3         | 0.800     | 0.6975953 |\n",
       "| 360 | 1000      | 1         | 5         | 0.550     | 0.6982759 |\n",
       "\n"
      ],
      "text/plain": [
       "    num_trees mtry node_size sampe_size AUC      \n",
       "356 1000      1    7         0.800      0.6960073\n",
       "357 1000      1    5         0.800      0.6966878\n",
       "358 1000      1    3         0.632      0.6966878\n",
       "359 1000      1    3         0.800      0.6975953\n",
       "360 1000      1    5         0.550      0.6982759"
      ]
     },
     "metadata": {},
     "output_type": "display_data"
    }
   ],
   "source": [
    "hyper_grid %>% \n",
    "  dplyr::arrange(AUC) %>%\n",
    "  tail(5)\n"
   ]
  },
  {
   "cell_type": "markdown",
   "id": "6503792d",
   "metadata": {},
   "source": [
    "### Validation"
   ]
  },
  {
   "cell_type": "code",
   "execution_count": 41,
   "id": "371cdcbe",
   "metadata": {
    "vscode": {
     "languageId": "r"
    }
   },
   "outputs": [
    {
     "data": {
      "text/html": [
       "0.682622504537205"
      ],
      "text/latex": [
       "0.682622504537205"
      ],
      "text/markdown": [
       "0.682622504537205"
      ],
      "text/plain": [
       "[1] 0.6826225"
      ]
     },
     "metadata": {},
     "output_type": "display_data"
    }
   ],
   "source": [
    "#No tuning\n",
    "model <- ranger(x=train, y = yTRAIN, num.trees = 1000, probability = TRUE, seed = 123)\n",
    "predictions =  predict(model,val)$predictions[,2]\n",
    "AUC::auc(roc(predictions,factor(yVAL)))"
   ]
  },
  {
   "cell_type": "code",
   "execution_count": 42,
   "id": "804d5b48",
   "metadata": {
    "vscode": {
     "languageId": "r"
    }
   },
   "outputs": [
    {
     "data": {
      "text/html": [
       "0.698275862068966"
      ],
      "text/latex": [
       "0.698275862068966"
      ],
      "text/markdown": [
       "0.698275862068966"
      ],
      "text/plain": [
       "[1] 0.6982759"
      ]
     },
     "metadata": {},
     "output_type": "display_data"
    }
   ],
   "source": [
    "#With tuning\n",
    "model <- ranger(x=train, y = yTRAIN, num.trees = 1000, mtry = 1, min.node.size = 5, sample.fraction = 0.550, probability = TRUE, seed = 123)\n",
    "predictions =  predict(model,val)$predictions[,2]\n",
    "auc = AUC::auc(roc(predictions,factor(yVAL)))\n",
    "AUC::auc(roc(predictions,factor(yVAL)))"
   ]
  },
  {
   "cell_type": "code",
   "execution_count": 43,
   "id": "49384dda",
   "metadata": {
    "vscode": {
     "languageId": "r"
    }
   },
   "outputs": [],
   "source": [
    "res = ifelse(predictions>=0.5,1,0)\n",
    "true_outcome = yVAL"
   ]
  },
  {
   "cell_type": "code",
   "execution_count": 44,
   "id": "6c35f14b",
   "metadata": {
    "scrolled": false,
    "vscode": {
     "languageId": "r"
    }
   },
   "outputs": [
    {
     "data": {
      "text/plain": [
       "          Reference\n",
       "Prediction  0  1\n",
       "         0 29 20\n",
       "         1 29 56"
      ]
     },
     "metadata": {},
     "output_type": "display_data"
    },
    {
     "data": {
      "text/html": [
       "<span style=white-space:pre-wrap>'AUC:  0.698275862068966'</span>"
      ],
      "text/latex": [
       "'AUC:  0.698275862068966'"
      ],
      "text/markdown": [
       "<span style=white-space:pre-wrap>'AUC:  0.698275862068966'</span>"
      ],
      "text/plain": [
       "[1] \"AUC:  0.698275862068966\""
      ]
     },
     "metadata": {},
     "output_type": "display_data"
    },
    {
     "data": {
      "text/html": [
       "<span style=white-space:pre-wrap>'Accuracy:  0.634328358208955'</span>"
      ],
      "text/latex": [
       "'Accuracy:  0.634328358208955'"
      ],
      "text/markdown": [
       "<span style=white-space:pre-wrap>'Accuracy:  0.634328358208955'</span>"
      ],
      "text/plain": [
       "[1] \"Accuracy:  0.634328358208955\""
      ]
     },
     "metadata": {},
     "output_type": "display_data"
    },
    {
     "data": {
      "text/html": [
       "<span style=white-space:pre-wrap>'Recall:  0.736842105263158'</span>"
      ],
      "text/latex": [
       "'Recall:  0.736842105263158'"
      ],
      "text/markdown": [
       "<span style=white-space:pre-wrap>'Recall:  0.736842105263158'</span>"
      ],
      "text/plain": [
       "[1] \"Recall:  0.736842105263158\""
      ]
     },
     "metadata": {},
     "output_type": "display_data"
    },
    {
     "data": {
      "text/html": [
       "<span style=white-space:pre-wrap>'Precision:  0.658823529411765'</span>"
      ],
      "text/latex": [
       "'Precision:  0.658823529411765'"
      ],
      "text/markdown": [
       "<span style=white-space:pre-wrap>'Precision:  0.658823529411765'</span>"
      ],
      "text/plain": [
       "[1] \"Precision:  0.658823529411765\""
      ]
     },
     "metadata": {},
     "output_type": "display_data"
    }
   ],
   "source": [
    "confusionMatrix(as.factor(res), as.factor(true_outcome))[[2]]\n",
    "TN =(confusionMatrix(as.factor(res), as.factor(true_outcome)))[[2]][1,1]\n",
    "TP = (confusionMatrix(as.factor(res), as.factor(true_outcome)))[[2]][2,2]\n",
    "FN = (confusionMatrix(as.factor(res), as.factor(true_outcome)))[[2]][1,2]\n",
    "FP = (confusionMatrix(as.factor(res), as.factor(true_outcome)))[[2]][2,1]\n",
    "\n",
    "accuracy = (TP+TN)/(TP+FP+TN+FN)\n",
    "recall = TP/(TP+FN)\n",
    "precision = TP/(TP+FP)\n",
    "\n",
    "paste(\"AUC: \", auc)\n",
    "paste(\"Accuracy: \", accuracy)\n",
    "paste(\"Recall: \", recall)\n",
    "paste(\"Precision: \", precision)"
   ]
  },
  {
   "cell_type": "markdown",
   "id": "e2f6d393",
   "metadata": {},
   "source": [
    "### Test"
   ]
  },
  {
   "cell_type": "code",
   "execution_count": 45,
   "id": "9f5b6596",
   "metadata": {},
   "outputs": [],
   "source": [
    "set.seed(123)\n",
    "train <- basetable\n",
    "yTRAIN <- train$Top5\n",
    "train$Top10 = NULL\n",
    "train$Top5 = NULL\n",
    "train$Top4 = NULL\n",
    "train$Top3 = NULL\n",
    "train$Top2 = NULL\n",
    "\n",
    "test <- basetable_test\n",
    "yTEST <- test$Top5\n",
    "test$Top10 = NULL\n",
    "test$Top5 = NULL\n",
    "test$Top4 = NULL\n",
    "test$Top3 = NULL\n",
    "test$Top2 = NULL"
   ]
  },
  {
   "cell_type": "code",
   "execution_count": 46,
   "id": "9ece5015",
   "metadata": {},
   "outputs": [],
   "source": [
    "train = train[varsel_boruta]\n",
    "test = test[varsel_boruta]"
   ]
  },
  {
   "cell_type": "code",
   "execution_count": 47,
   "id": "95b6862e",
   "metadata": {},
   "outputs": [
    {
     "data": {
      "text/html": [
       "0.77027443724946"
      ],
      "text/latex": [
       "0.77027443724946"
      ],
      "text/markdown": [
       "0.77027443724946"
      ],
      "text/plain": [
       "[1] 0.7702744"
      ]
     },
     "metadata": {},
     "output_type": "display_data"
    }
   ],
   "source": [
    "model <- ranger(x=train, y = yTRAIN, num.trees = 1000, mtry = 1, min.node.size = 5, sample.fraction = 0.550, probability = TRUE, seed = 123)\n",
    "predictions =  predict(model,test)$predictions[,2]\n",
    "auc = AUC::auc(roc(predictions,factor(yTEST)))\n",
    "AUC::auc(roc(predictions,factor(yTEST)))"
   ]
  },
  {
   "cell_type": "code",
   "execution_count": 48,
   "id": "ae7f4491",
   "metadata": {
    "vscode": {
     "languageId": "r"
    }
   },
   "outputs": [],
   "source": [
    "res = ifelse(predictions>=0.5,1,0)\n",
    "true_outcome = yTEST"
   ]
  },
  {
   "cell_type": "code",
   "execution_count": 49,
   "id": "129a07e0",
   "metadata": {
    "scrolled": true,
    "vscode": {
     "languageId": "r"
    }
   },
   "outputs": [
    {
     "data": {
      "text/plain": [
       "          Reference\n",
       "Prediction  0  1\n",
       "         0 22 10\n",
       "         1 25 59"
      ]
     },
     "metadata": {},
     "output_type": "display_data"
    },
    {
     "data": {
      "text/html": [
       "<span style=white-space:pre-wrap>'AUC:  0.77027443724946'</span>"
      ],
      "text/latex": [
       "'AUC:  0.77027443724946'"
      ],
      "text/markdown": [
       "<span style=white-space:pre-wrap>'AUC:  0.77027443724946'</span>"
      ],
      "text/plain": [
       "[1] \"AUC:  0.77027443724946\""
      ]
     },
     "metadata": {},
     "output_type": "display_data"
    },
    {
     "data": {
      "text/html": [
       "<span style=white-space:pre-wrap>'Accuracy:  0.698275862068966'</span>"
      ],
      "text/latex": [
       "'Accuracy:  0.698275862068966'"
      ],
      "text/markdown": [
       "<span style=white-space:pre-wrap>'Accuracy:  0.698275862068966'</span>"
      ],
      "text/plain": [
       "[1] \"Accuracy:  0.698275862068966\""
      ]
     },
     "metadata": {},
     "output_type": "display_data"
    },
    {
     "data": {
      "text/html": [
       "<span style=white-space:pre-wrap>'Recall:  0.855072463768116'</span>"
      ],
      "text/latex": [
       "'Recall:  0.855072463768116'"
      ],
      "text/markdown": [
       "<span style=white-space:pre-wrap>'Recall:  0.855072463768116'</span>"
      ],
      "text/plain": [
       "[1] \"Recall:  0.855072463768116\""
      ]
     },
     "metadata": {},
     "output_type": "display_data"
    },
    {
     "data": {
      "text/html": [
       "<span style=white-space:pre-wrap>'Precision:  0.702380952380952'</span>"
      ],
      "text/latex": [
       "'Precision:  0.702380952380952'"
      ],
      "text/markdown": [
       "<span style=white-space:pre-wrap>'Precision:  0.702380952380952'</span>"
      ],
      "text/plain": [
       "[1] \"Precision:  0.702380952380952\""
      ]
     },
     "metadata": {},
     "output_type": "display_data"
    }
   ],
   "source": [
    "confusionMatrix(as.factor(res), as.factor(true_outcome))[[2]]\n",
    "TN =(confusionMatrix(as.factor(res), as.factor(true_outcome)))[[2]][1,1]\n",
    "TP = (confusionMatrix(as.factor(res), as.factor(true_outcome)))[[2]][2,2]\n",
    "FN = (confusionMatrix(as.factor(res), as.factor(true_outcome)))[[2]][1,2]\n",
    "FP = (confusionMatrix(as.factor(res), as.factor(true_outcome)))[[2]][2,1]\n",
    "\n",
    "accuracy = (TP+TN)/(TP+FP+TN+FN)\n",
    "recall = TP/(TP+FN)\n",
    "precision = TP/(TP+FP)\n",
    "\n",
    "paste(\"AUC: \", auc)\n",
    "paste(\"Accuracy: \", accuracy)\n",
    "paste(\"Recall: \", recall)\n",
    "paste(\"Precision: \", precision)"
   ]
  },
  {
   "cell_type": "markdown",
   "id": "cd25ca92",
   "metadata": {},
   "source": [
    "## Random Forest"
   ]
  },
  {
   "cell_type": "code",
   "execution_count": 51,
   "id": "b48e39ff",
   "metadata": {},
   "outputs": [],
   "source": [
    "set.seed(123)\n",
    "train <- basetable_train\n",
    "yTRAIN <- train$Top5\n",
    "train$Top10 = NULL\n",
    "train$Top5 = NULL\n",
    "train$Top4 = NULL\n",
    "train$Top3 = NULL\n",
    "train$Top2 = NULL\n",
    "\n",
    "val <- basetable_val\n",
    "yVAL <- val$Top5\n",
    "val$Top10 = NULL\n",
    "val$Top5 = NULL\n",
    "val$Top4 = NULL\n",
    "val$Top3 = NULL\n",
    "val$Top2 = NULL"
   ]
  },
  {
   "cell_type": "code",
   "execution_count": 52,
   "id": "2496abdc",
   "metadata": {},
   "outputs": [],
   "source": [
    "train = train[varsel_boruta]\n",
    "val = val[varsel_boruta]"
   ]
  },
  {
   "cell_type": "markdown",
   "id": "c39fe82b",
   "metadata": {},
   "source": [
    "### Tuning"
   ]
  },
  {
   "cell_type": "code",
   "execution_count": 53,
   "id": "69b53af6",
   "metadata": {
    "vscode": {
     "languageId": "r"
    }
   },
   "outputs": [],
   "source": [
    "# hyperparameter grid search\n",
    "hyper_grid <- expand.grid(\n",
    "num_trees = c(1000),\n",
    "  mtry       = seq(1, ncol(train), by = 1),\n",
    "  node_size  = seq(1, 15, by = 3),\n",
    "  sampe_size = c(.55, .632, .70,0.75,.80) \n",
    ")"
   ]
  },
  {
   "cell_type": "code",
   "execution_count": 54,
   "id": "52567df9",
   "metadata": {
    "vscode": {
     "languageId": "r"
    }
   },
   "outputs": [],
   "source": [
    "for(i in 1:nrow(hyper_grid)) {\n",
    "  set.seed(123)\n",
    "  # train model\n",
    "  model <- randomForest(\n",
    "    x               = train, \n",
    "    y               = yTRAIN, \n",
    "    ntree           = hyper_grid$num_trees[i],\n",
    "    mtry            = hyper_grid$mtry[i],\n",
    "    node_size       = hyper_grid$node_size[i],\n",
    "    sample_frac     = hyper_grid$sampe_size[i]\n",
    "  )\n",
    "  predictions <- predict(model, val, type = \"prob\")[, 2]\n",
    "  auc = AUC::auc(roc(predictions,factor(yVAL)))\n",
    "  hyper_grid$AUC[i] <- auc\n",
    "}"
   ]
  },
  {
   "cell_type": "code",
   "execution_count": 60,
   "id": "a4063f05",
   "metadata": {
    "scrolled": true,
    "vscode": {
     "languageId": "r"
    }
   },
   "outputs": [
    {
     "data": {
      "text/html": [
       "<table>\n",
       "<thead><tr><th></th><th scope=col>num_trees</th><th scope=col>mtry</th><th scope=col>node_size</th><th scope=col>sampe_size</th><th scope=col>AUC</th></tr></thead>\n",
       "<tbody>\n",
       "\t<tr><th scope=row>221</th><td>1000    </td><td>2       </td><td> 1      </td><td>0.8     </td><td>0.697255</td></tr>\n",
       "\t<tr><th scope=row>222</th><td>1000    </td><td>2       </td><td> 4      </td><td>0.8     </td><td>0.697255</td></tr>\n",
       "\t<tr><th scope=row>223</th><td>1000    </td><td>2       </td><td> 7      </td><td>0.8     </td><td>0.697255</td></tr>\n",
       "\t<tr><th scope=row>224</th><td>1000    </td><td>2       </td><td>10      </td><td>0.8     </td><td>0.697255</td></tr>\n",
       "\t<tr><th scope=row>225</th><td>1000    </td><td>2       </td><td>13      </td><td>0.8     </td><td>0.697255</td></tr>\n",
       "</tbody>\n",
       "</table>\n"
      ],
      "text/latex": [
       "\\begin{tabular}{r|lllll}\n",
       "  & num\\_trees & mtry & node\\_size & sampe\\_size & AUC\\\\\n",
       "\\hline\n",
       "\t221 & 1000     & 2        &  1       & 0.8      & 0.697255\\\\\n",
       "\t222 & 1000     & 2        &  4       & 0.8      & 0.697255\\\\\n",
       "\t223 & 1000     & 2        &  7       & 0.8      & 0.697255\\\\\n",
       "\t224 & 1000     & 2        & 10       & 0.8      & 0.697255\\\\\n",
       "\t225 & 1000     & 2        & 13       & 0.8      & 0.697255\\\\\n",
       "\\end{tabular}\n"
      ],
      "text/markdown": [
       "\n",
       "| <!--/--> | num_trees | mtry | node_size | sampe_size | AUC |\n",
       "|---|---|---|---|---|---|\n",
       "| 221 | 1000     | 2        |  1       | 0.8      | 0.697255 |\n",
       "| 222 | 1000     | 2        |  4       | 0.8      | 0.697255 |\n",
       "| 223 | 1000     | 2        |  7       | 0.8      | 0.697255 |\n",
       "| 224 | 1000     | 2        | 10       | 0.8      | 0.697255 |\n",
       "| 225 | 1000     | 2        | 13       | 0.8      | 0.697255 |\n",
       "\n"
      ],
      "text/plain": [
       "    num_trees mtry node_size sampe_size AUC     \n",
       "221 1000      2     1        0.8        0.697255\n",
       "222 1000      2     4        0.8        0.697255\n",
       "223 1000      2     7        0.8        0.697255\n",
       "224 1000      2    10        0.8        0.697255\n",
       "225 1000      2    13        0.8        0.697255"
      ]
     },
     "metadata": {},
     "output_type": "display_data"
    }
   ],
   "source": [
    "hyper_grid %>% \n",
    "  dplyr::arrange(AUC) %>%\n",
    "  tail(5)\n"
   ]
  },
  {
   "cell_type": "markdown",
   "id": "352227a5",
   "metadata": {},
   "source": [
    "### Validation"
   ]
  },
  {
   "cell_type": "code",
   "execution_count": 61,
   "id": "ae78f336",
   "metadata": {
    "vscode": {
     "languageId": "r"
    }
   },
   "outputs": [
    {
     "data": {
      "text/html": [
       "0.689882032667877"
      ],
      "text/latex": [
       "0.689882032667877"
      ],
      "text/markdown": [
       "0.689882032667877"
      ],
      "text/plain": [
       "[1] 0.689882"
      ]
     },
     "metadata": {},
     "output_type": "display_data"
    }
   ],
   "source": [
    "#No Tuning\n",
    "set.seed(123)\n",
    "rFmodel <- randomForest(x=train, y = yTRAIN, ntree = 1000)\n",
    "predictions <- predict(rFmodel, val, type = \"prob\")[, 2]\n",
    "\n",
    "AUC::auc(roc(predictions,factor(yVAL)))"
   ]
  },
  {
   "cell_type": "code",
   "execution_count": 62,
   "id": "cc164b19",
   "metadata": {
    "vscode": {
     "languageId": "r"
    }
   },
   "outputs": [
    {
     "data": {
      "text/html": [
       "0.69725499092559"
      ],
      "text/latex": [
       "0.69725499092559"
      ],
      "text/markdown": [
       "0.69725499092559"
      ],
      "text/plain": [
       "[1] 0.697255"
      ]
     },
     "metadata": {},
     "output_type": "display_data"
    }
   ],
   "source": [
    "#Tuning\n",
    "set.seed(123)\n",
    "rFmodel <- randomForest(x=train, y = yTRAIN, ntree = 1000,mtry=2)\n",
    "predictions <- predict(rFmodel, val, type = \"prob\")[, 2]\n",
    "\n",
    "AUC::auc(roc(predictions,factor(yVAL)))"
   ]
  },
  {
   "cell_type": "code",
   "execution_count": 63,
   "id": "e6d1494c",
   "metadata": {
    "vscode": {
     "languageId": "r"
    }
   },
   "outputs": [],
   "source": [
    "auc = AUC::auc(roc(predictions,factor(yVAL)))"
   ]
  },
  {
   "cell_type": "code",
   "execution_count": 64,
   "id": "7703fbe5",
   "metadata": {
    "vscode": {
     "languageId": "r"
    }
   },
   "outputs": [],
   "source": [
    "res = ifelse(predictions>=0.5,1,0)\n",
    "true_outcome = yVAL"
   ]
  },
  {
   "cell_type": "code",
   "execution_count": 65,
   "id": "7a84e95e",
   "metadata": {
    "scrolled": true,
    "vscode": {
     "languageId": "r"
    }
   },
   "outputs": [
    {
     "data": {
      "text/plain": [
       "          Reference\n",
       "Prediction  0  1\n",
       "         0 30 19\n",
       "         1 28 57"
      ]
     },
     "metadata": {},
     "output_type": "display_data"
    },
    {
     "data": {
      "text/html": [
       "<span style=white-space:pre-wrap>'AUC:  0.69725499092559'</span>"
      ],
      "text/latex": [
       "'AUC:  0.69725499092559'"
      ],
      "text/markdown": [
       "<span style=white-space:pre-wrap>'AUC:  0.69725499092559'</span>"
      ],
      "text/plain": [
       "[1] \"AUC:  0.69725499092559\""
      ]
     },
     "metadata": {},
     "output_type": "display_data"
    },
    {
     "data": {
      "text/html": [
       "<span style=white-space:pre-wrap>'Accuracy:  0.649253731343284'</span>"
      ],
      "text/latex": [
       "'Accuracy:  0.649253731343284'"
      ],
      "text/markdown": [
       "<span style=white-space:pre-wrap>'Accuracy:  0.649253731343284'</span>"
      ],
      "text/plain": [
       "[1] \"Accuracy:  0.649253731343284\""
      ]
     },
     "metadata": {},
     "output_type": "display_data"
    },
    {
     "data": {
      "text/html": [
       "<span style=white-space:pre-wrap>'Recall:  0.75'</span>"
      ],
      "text/latex": [
       "'Recall:  0.75'"
      ],
      "text/markdown": [
       "<span style=white-space:pre-wrap>'Recall:  0.75'</span>"
      ],
      "text/plain": [
       "[1] \"Recall:  0.75\""
      ]
     },
     "metadata": {},
     "output_type": "display_data"
    },
    {
     "data": {
      "text/html": [
       "<span style=white-space:pre-wrap>'Precision:  0.670588235294118'</span>"
      ],
      "text/latex": [
       "'Precision:  0.670588235294118'"
      ],
      "text/markdown": [
       "<span style=white-space:pre-wrap>'Precision:  0.670588235294118'</span>"
      ],
      "text/plain": [
       "[1] \"Precision:  0.670588235294118\""
      ]
     },
     "metadata": {},
     "output_type": "display_data"
    }
   ],
   "source": [
    "confusionMatrix(as.factor(res), as.factor(true_outcome))[[2]]\n",
    "TN =(confusionMatrix(as.factor(res), as.factor(true_outcome)))[[2]][1,1]\n",
    "TP = (confusionMatrix(as.factor(res), as.factor(true_outcome)))[[2]][2,2]\n",
    "FN = (confusionMatrix(as.factor(res), as.factor(true_outcome)))[[2]][1,2]\n",
    "FP = (confusionMatrix(as.factor(res), as.factor(true_outcome)))[[2]][2,1]\n",
    "\n",
    "accuracy = (TP+TN)/(TP+FP+TN+FN)\n",
    "recall = TP/(TP+FN)\n",
    "precision = TP/(TP+FP)\n",
    "\n",
    "paste(\"AUC: \", auc)\n",
    "paste(\"Accuracy: \", accuracy)\n",
    "paste(\"Recall: \", recall)\n",
    "paste(\"Precision: \", precision)"
   ]
  },
  {
   "cell_type": "markdown",
   "id": "232478aa",
   "metadata": {},
   "source": [
    "### Test"
   ]
  },
  {
   "cell_type": "code",
   "execution_count": 68,
   "id": "361ed0f0",
   "metadata": {},
   "outputs": [],
   "source": [
    "set.seed(123)\n",
    "#Basetable is the combination of the validation and training set\n",
    "train <- basetable\n",
    "yTRAIN <- train$Top5\n",
    "train$Top10 = NULL\n",
    "train$Top5 = NULL\n",
    "train$Top4 = NULL\n",
    "train$Top3 = NULL\n",
    "train$Top2 = NULL\n",
    "\n",
    "test <- basetable_test\n",
    "yTEST <- test$Top5\n",
    "test$Top10 = NULL\n",
    "test$Top5 = NULL\n",
    "test$Top4 = NULL\n",
    "test$Top3 = NULL\n",
    "test$Top2 = NULL"
   ]
  },
  {
   "cell_type": "code",
   "execution_count": 69,
   "id": "0854ddfe",
   "metadata": {},
   "outputs": [],
   "source": [
    "train = train[varsel_boruta]\n",
    "test = test[varsel_boruta]"
   ]
  },
  {
   "cell_type": "code",
   "execution_count": 70,
   "id": "fbdc5c7e",
   "metadata": {},
   "outputs": [
    {
     "data": {
      "text/html": [
       "0.743447425223558"
      ],
      "text/latex": [
       "0.743447425223558"
      ],
      "text/markdown": [
       "0.743447425223558"
      ],
      "text/plain": [
       "[1] 0.7434474"
      ]
     },
     "metadata": {},
     "output_type": "display_data"
    }
   ],
   "source": [
    "set.seed(123)\n",
    "rFmodel <- randomForest(x=train, y = yTRAIN, ntree = 1000,mtry=2)\n",
    "predictions <- predict(rFmodel, test, type = \"prob\")[, 2]\n",
    "\n",
    "auc = AUC::auc(roc(predictions,factor(yTEST)))\n",
    "AUC::auc(roc(predictions,factor(yTEST)))"
   ]
  },
  {
   "cell_type": "code",
   "execution_count": 71,
   "id": "82ab91ca",
   "metadata": {
    "vscode": {
     "languageId": "r"
    }
   },
   "outputs": [],
   "source": [
    "res = ifelse(predictions>=0.5,1,0)\n",
    "true_outcome = yTEST"
   ]
  },
  {
   "cell_type": "code",
   "execution_count": 72,
   "id": "320ffb8e",
   "metadata": {
    "scrolled": false,
    "vscode": {
     "languageId": "r"
    }
   },
   "outputs": [
    {
     "data": {
      "text/plain": [
       "          Reference\n",
       "Prediction  0  1\n",
       "         0 23 12\n",
       "         1 24 57"
      ]
     },
     "metadata": {},
     "output_type": "display_data"
    },
    {
     "data": {
      "text/html": [
       "<span style=white-space:pre-wrap>'AUC:  0.743447425223558'</span>"
      ],
      "text/latex": [
       "'AUC:  0.743447425223558'"
      ],
      "text/markdown": [
       "<span style=white-space:pre-wrap>'AUC:  0.743447425223558'</span>"
      ],
      "text/plain": [
       "[1] \"AUC:  0.743447425223558\""
      ]
     },
     "metadata": {},
     "output_type": "display_data"
    },
    {
     "data": {
      "text/html": [
       "<span style=white-space:pre-wrap>'Accuracy:  0.689655172413793'</span>"
      ],
      "text/latex": [
       "'Accuracy:  0.689655172413793'"
      ],
      "text/markdown": [
       "<span style=white-space:pre-wrap>'Accuracy:  0.689655172413793'</span>"
      ],
      "text/plain": [
       "[1] \"Accuracy:  0.689655172413793\""
      ]
     },
     "metadata": {},
     "output_type": "display_data"
    },
    {
     "data": {
      "text/html": [
       "<span style=white-space:pre-wrap>'Recall:  0.826086956521739'</span>"
      ],
      "text/latex": [
       "'Recall:  0.826086956521739'"
      ],
      "text/markdown": [
       "<span style=white-space:pre-wrap>'Recall:  0.826086956521739'</span>"
      ],
      "text/plain": [
       "[1] \"Recall:  0.826086956521739\""
      ]
     },
     "metadata": {},
     "output_type": "display_data"
    },
    {
     "data": {
      "text/html": [
       "<span style=white-space:pre-wrap>'Precision:  0.703703703703704'</span>"
      ],
      "text/latex": [
       "'Precision:  0.703703703703704'"
      ],
      "text/markdown": [
       "<span style=white-space:pre-wrap>'Precision:  0.703703703703704'</span>"
      ],
      "text/plain": [
       "[1] \"Precision:  0.703703703703704\""
      ]
     },
     "metadata": {},
     "output_type": "display_data"
    }
   ],
   "source": [
    "confusionMatrix(as.factor(res), as.factor(true_outcome))[[2]]\n",
    "TN =(confusionMatrix(as.factor(res), as.factor(true_outcome)))[[2]][1,1]\n",
    "TP = (confusionMatrix(as.factor(res), as.factor(true_outcome)))[[2]][2,2]\n",
    "FN = (confusionMatrix(as.factor(res), as.factor(true_outcome)))[[2]][1,2]\n",
    "FP = (confusionMatrix(as.factor(res), as.factor(true_outcome)))[[2]][2,1]\n",
    "\n",
    "accuracy = (TP+TN)/(TP+FP+TN+FN)\n",
    "recall = TP/(TP+FN)\n",
    "precision = TP/(TP+FP)\n",
    "\n",
    "paste(\"AUC: \", auc)\n",
    "paste(\"Accuracy: \", accuracy)\n",
    "paste(\"Recall: \", recall)\n",
    "paste(\"Precision: \", precision)"
   ]
  },
  {
   "cell_type": "markdown",
   "id": "b6203855",
   "metadata": {},
   "source": [
    "## XGBoost"
   ]
  },
  {
   "cell_type": "code",
   "execution_count": 27,
   "id": "1b02f97f",
   "metadata": {
    "vscode": {
     "languageId": "r"
    }
   },
   "outputs": [],
   "source": [
    "#Preparing the train and validation tables\n",
    "table_train5 <- table_train\n",
    "table_val5 <- table_val\n",
    "table_test5 <- table_test\n",
    "table_trainval5 <- table_trainval\n",
    "\n",
    "table_train5$Top10 <- NULL\n",
    "table_train5$Top4 <- NULL\n",
    "table_train5$Top3 <- NULL\n",
    "table_train5$Top2 <- NULL\n",
    "\n",
    "table_val5$Top10 <- NULL\n",
    "table_val5$Top4 <- NULL\n",
    "table_val5$Top3 <- NULL\n",
    "table_val5$Top2 <- NULL\n",
    "\n",
    "table_test5$Top10 <- NULL\n",
    "table_test5$Top4 <- NULL\n",
    "table_test5$Top3 <- NULL\n",
    "table_test5$Top2 <- NULL\n",
    "\n",
    "table_trainval5$Top10 <- NULL\n",
    "table_trainval5$Top4 <- NULL\n",
    "table_trainval5$Top3 <- NULL\n",
    "table_trainval5$Top2 <- NULL"
   ]
  },
  {
   "cell_type": "code",
   "execution_count": 28,
   "id": "adca5f62",
   "metadata": {
    "vscode": {
     "languageId": "r"
    }
   },
   "outputs": [],
   "source": [
    "#new train en val set\n",
    "y_train <- table_train5$Top5\n",
    "train <- table_train5\n",
    "train$Top5<- NULL\n",
    "\n",
    "y_val <- table_val5$Top5\n",
    "val <- table_val5\n",
    "val$Top5 <-NULL\n",
    "\n",
    "y_test <- table_test5$Top5\n",
    "test <- table_test\n",
    "table_test5$Top5 <- NULL\n",
    "\n",
    "y_trainval <- table_trainval5$Top5\n",
    "trainval <- table_trainval5\n",
    "table_trainval5$Top5 <- NULL"
   ]
  },
  {
   "cell_type": "code",
   "execution_count": 29,
   "id": "c579cea6",
   "metadata": {
    "vscode": {
     "languageId": "r"
    }
   },
   "outputs": [],
   "source": [
    "train_fs <- train[varsel_boruta]\n",
    "val_fs <- val[varsel_boruta]\n",
    "test_fs <- test[varsel_boruta]\n",
    "trainval_fs = trainval[varsel_boruta]"
   ]
  },
  {
   "cell_type": "code",
   "execution_count": 30,
   "id": "df01211a",
   "metadata": {},
   "outputs": [
    {
     "data": {
      "text/html": [
       "<table>\n",
       "<thead><tr><th scope=col>mountain_mean</th><th scope=col>cobbles_mean</th><th scope=col>tt_mean</th><th scope=col>resistance_mean</th><th scope=col>hill_mean</th><th scope=col>mountain_max</th><th scope=col>tt_max</th><th scope=col>recup_max</th><th scope=col>hill_max</th><th scope=col>mountain_min</th></tr></thead>\n",
       "<tbody>\n",
       "\t<tr><td>69</td><td>57</td><td>63</td><td>67</td><td>68</td><td>78</td><td>68</td><td>75</td><td>75</td><td>58</td></tr>\n",
       "\t<tr><td>70</td><td>55</td><td>64</td><td>69</td><td>70</td><td>79</td><td>68</td><td>72</td><td>74</td><td>60</td></tr>\n",
       "</tbody>\n",
       "</table>\n"
      ],
      "text/latex": [
       "\\begin{tabular}{r|llllllllll}\n",
       " mountain\\_mean & cobbles\\_mean & tt\\_mean & resistance\\_mean & hill\\_mean & mountain\\_max & tt\\_max & recup\\_max & hill\\_max & mountain\\_min\\\\\n",
       "\\hline\n",
       "\t 69 & 57 & 63 & 67 & 68 & 78 & 68 & 75 & 75 & 58\\\\\n",
       "\t 70 & 55 & 64 & 69 & 70 & 79 & 68 & 72 & 74 & 60\\\\\n",
       "\\end{tabular}\n"
      ],
      "text/markdown": [
       "\n",
       "| mountain_mean | cobbles_mean | tt_mean | resistance_mean | hill_mean | mountain_max | tt_max | recup_max | hill_max | mountain_min |\n",
       "|---|---|---|---|---|---|---|---|---|---|\n",
       "| 69 | 57 | 63 | 67 | 68 | 78 | 68 | 75 | 75 | 58 |\n",
       "| 70 | 55 | 64 | 69 | 70 | 79 | 68 | 72 | 74 | 60 |\n",
       "\n"
      ],
      "text/plain": [
       "  mountain_mean cobbles_mean tt_mean resistance_mean hill_mean mountain_max\n",
       "1 69            57           63      67              68        78          \n",
       "2 70            55           64      69              70        79          \n",
       "  tt_max recup_max hill_max mountain_min\n",
       "1 68     75        75       58          \n",
       "2 68     72        74       60          "
      ]
     },
     "metadata": {},
     "output_type": "display_data"
    }
   ],
   "source": [
    "head(train_fs,n = 2)"
   ]
  },
  {
   "cell_type": "code",
   "execution_count": 31,
   "id": "2253411f",
   "metadata": {},
   "outputs": [
    {
     "data": {
      "text/html": [
       "<table>\n",
       "<thead><tr><th scope=col>mountain_mean</th><th scope=col>cobbles_mean</th><th scope=col>tt_mean</th><th scope=col>resistance_mean</th><th scope=col>hill_mean</th><th scope=col>mountain_max</th><th scope=col>tt_max</th><th scope=col>recup_max</th><th scope=col>hill_max</th><th scope=col>mountain_min</th></tr></thead>\n",
       "<tbody>\n",
       "\t<tr><td>68</td><td>60</td><td>63</td><td>67</td><td>71</td><td>77</td><td>73</td><td>76</td><td>76</td><td>56</td></tr>\n",
       "\t<tr><td>65</td><td>59</td><td>64</td><td>64</td><td>69</td><td>74</td><td>72</td><td>71</td><td>75</td><td>54</td></tr>\n",
       "</tbody>\n",
       "</table>\n"
      ],
      "text/latex": [
       "\\begin{tabular}{r|llllllllll}\n",
       " mountain\\_mean & cobbles\\_mean & tt\\_mean & resistance\\_mean & hill\\_mean & mountain\\_max & tt\\_max & recup\\_max & hill\\_max & mountain\\_min\\\\\n",
       "\\hline\n",
       "\t 68 & 60 & 63 & 67 & 71 & 77 & 73 & 76 & 76 & 56\\\\\n",
       "\t 65 & 59 & 64 & 64 & 69 & 74 & 72 & 71 & 75 & 54\\\\\n",
       "\\end{tabular}\n"
      ],
      "text/markdown": [
       "\n",
       "| mountain_mean | cobbles_mean | tt_mean | resistance_mean | hill_mean | mountain_max | tt_max | recup_max | hill_max | mountain_min |\n",
       "|---|---|---|---|---|---|---|---|---|---|\n",
       "| 68 | 60 | 63 | 67 | 71 | 77 | 73 | 76 | 76 | 56 |\n",
       "| 65 | 59 | 64 | 64 | 69 | 74 | 72 | 71 | 75 | 54 |\n",
       "\n"
      ],
      "text/plain": [
       "  mountain_mean cobbles_mean tt_mean resistance_mean hill_mean mountain_max\n",
       "1 68            60           63      67              71        77          \n",
       "2 65            59           64      64              69        74          \n",
       "  tt_max recup_max hill_max mountain_min\n",
       "1 73     76        76       56          \n",
       "2 72     71        75       54          "
      ]
     },
     "metadata": {},
     "output_type": "display_data"
    }
   ],
   "source": [
    "head(val_fs,n = 2)"
   ]
  },
  {
   "cell_type": "code",
   "execution_count": 32,
   "id": "1a45b6a7",
   "metadata": {},
   "outputs": [
    {
     "data": {
      "text/html": [
       "<table>\n",
       "<thead><tr><th scope=col>mountain_mean</th><th scope=col>cobbles_mean</th><th scope=col>tt_mean</th><th scope=col>resistance_mean</th><th scope=col>hill_mean</th><th scope=col>mountain_max</th><th scope=col>tt_max</th><th scope=col>recup_max</th><th scope=col>hill_max</th><th scope=col>mountain_min</th></tr></thead>\n",
       "<tbody>\n",
       "\t<tr><td>73</td><td>63</td><td>66</td><td>72</td><td>73</td><td>76</td><td>74</td><td>74</td><td>76</td><td>71</td></tr>\n",
       "\t<tr><td>70</td><td>61</td><td>63</td><td>69</td><td>71</td><td>72</td><td>65</td><td>72</td><td>73</td><td>65</td></tr>\n",
       "</tbody>\n",
       "</table>\n"
      ],
      "text/latex": [
       "\\begin{tabular}{r|llllllllll}\n",
       " mountain\\_mean & cobbles\\_mean & tt\\_mean & resistance\\_mean & hill\\_mean & mountain\\_max & tt\\_max & recup\\_max & hill\\_max & mountain\\_min\\\\\n",
       "\\hline\n",
       "\t 73 & 63 & 66 & 72 & 73 & 76 & 74 & 74 & 76 & 71\\\\\n",
       "\t 70 & 61 & 63 & 69 & 71 & 72 & 65 & 72 & 73 & 65\\\\\n",
       "\\end{tabular}\n"
      ],
      "text/markdown": [
       "\n",
       "| mountain_mean | cobbles_mean | tt_mean | resistance_mean | hill_mean | mountain_max | tt_max | recup_max | hill_max | mountain_min |\n",
       "|---|---|---|---|---|---|---|---|---|---|\n",
       "| 73 | 63 | 66 | 72 | 73 | 76 | 74 | 74 | 76 | 71 |\n",
       "| 70 | 61 | 63 | 69 | 71 | 72 | 65 | 72 | 73 | 65 |\n",
       "\n"
      ],
      "text/plain": [
       "  mountain_mean cobbles_mean tt_mean resistance_mean hill_mean mountain_max\n",
       "1 73            63           66      72              73        76          \n",
       "2 70            61           63      69              71        72          \n",
       "  tt_max recup_max hill_max mountain_min\n",
       "1 74     74        76       71          \n",
       "2 65     72        73       65          "
      ]
     },
     "metadata": {},
     "output_type": "display_data"
    }
   ],
   "source": [
    "head(test_fs,n = 2)"
   ]
  },
  {
   "cell_type": "code",
   "execution_count": 33,
   "id": "06bf6afa",
   "metadata": {},
   "outputs": [
    {
     "data": {
      "text/html": [
       "<table>\n",
       "<thead><tr><th scope=col>mountain_mean</th><th scope=col>cobbles_mean</th><th scope=col>tt_mean</th><th scope=col>resistance_mean</th><th scope=col>hill_mean</th><th scope=col>mountain_max</th><th scope=col>tt_max</th><th scope=col>recup_max</th><th scope=col>hill_max</th><th scope=col>mountain_min</th></tr></thead>\n",
       "<tbody>\n",
       "\t<tr><td>69</td><td>57</td><td>63</td><td>67</td><td>68</td><td>78</td><td>68</td><td>75</td><td>75</td><td>58</td></tr>\n",
       "\t<tr><td>70</td><td>55</td><td>64</td><td>69</td><td>70</td><td>79</td><td>68</td><td>72</td><td>74</td><td>60</td></tr>\n",
       "</tbody>\n",
       "</table>\n"
      ],
      "text/latex": [
       "\\begin{tabular}{r|llllllllll}\n",
       " mountain\\_mean & cobbles\\_mean & tt\\_mean & resistance\\_mean & hill\\_mean & mountain\\_max & tt\\_max & recup\\_max & hill\\_max & mountain\\_min\\\\\n",
       "\\hline\n",
       "\t 69 & 57 & 63 & 67 & 68 & 78 & 68 & 75 & 75 & 58\\\\\n",
       "\t 70 & 55 & 64 & 69 & 70 & 79 & 68 & 72 & 74 & 60\\\\\n",
       "\\end{tabular}\n"
      ],
      "text/markdown": [
       "\n",
       "| mountain_mean | cobbles_mean | tt_mean | resistance_mean | hill_mean | mountain_max | tt_max | recup_max | hill_max | mountain_min |\n",
       "|---|---|---|---|---|---|---|---|---|---|\n",
       "| 69 | 57 | 63 | 67 | 68 | 78 | 68 | 75 | 75 | 58 |\n",
       "| 70 | 55 | 64 | 69 | 70 | 79 | 68 | 72 | 74 | 60 |\n",
       "\n"
      ],
      "text/plain": [
       "  mountain_mean cobbles_mean tt_mean resistance_mean hill_mean mountain_max\n",
       "1 69            57           63      67              68        78          \n",
       "2 70            55           64      69              70        79          \n",
       "  tt_max recup_max hill_max mountain_min\n",
       "1 68     75        75       58          \n",
       "2 68     72        74       60          "
      ]
     },
     "metadata": {},
     "output_type": "display_data"
    }
   ],
   "source": [
    "head(trainval_fs,n = 2)"
   ]
  },
  {
   "cell_type": "markdown",
   "id": "c9e013e7",
   "metadata": {},
   "source": [
    "### Tuning"
   ]
  },
  {
   "cell_type": "code",
   "execution_count": 34,
   "id": "690798ed",
   "metadata": {
    "vscode": {
     "languageId": "r"
    }
   },
   "outputs": [],
   "source": [
    "#preparing matrices\n",
    "#convert all data to numeric format\n",
    "trainxgb <- train_fs %>% mutate_if(is.factor, as.character)  %>% mutate_if(is.character, as.numeric)\n",
    "testxgb <- test_fs %>% mutate_if(is.factor, as.character)  %>% mutate_if(is.character, as.numeric)\n",
    "valxgb <- val_fs %>% mutate_if(is.factor, as.character)  %>% mutate_if(is.character, as.numeric)\n",
    "trainvalxgb = trainval_fs %>% mutate_if(is.factor, as.character)  %>% mutate_if(is.character, as.numeric)"
   ]
  },
  {
   "cell_type": "code",
   "execution_count": 35,
   "id": "71a8190d",
   "metadata": {
    "vscode": {
     "languageId": "r"
    }
   },
   "outputs": [],
   "source": [
    "dtrain <- xgb.DMatrix(data = as.matrix(trainxgb), label = as.numeric(as.character(y_train))) \n",
    "dval <- xgb.DMatrix(data = as.matrix(valxgb), label = as.numeric(as.character(y_val))) \n",
    "dtest <- xgb.DMatrix(data = as.matrix(testxgb))\n",
    "dtrainval = xgb.DMatrix(data = as.matrix(trainvalxgb), label = as.numeric(as.character(y_trainval))) "
   ]
  },
  {
   "cell_type": "code",
   "execution_count": 36,
   "id": "0c601e88",
   "metadata": {
    "scrolled": false,
    "vscode": {
     "languageId": "r"
    }
   },
   "outputs": [
    {
     "name": "stdout",
     "output_type": "stream",
     "text": [
      "[1]\ttrain-auc:0.901274\ttest-auc:0.684437 \n",
      "[2]\ttrain-auc:0.933296\ttest-auc:0.679333 \n",
      "[3]\ttrain-auc:0.936961\ttest-auc:0.675930 \n",
      "[4]\ttrain-auc:0.946190\ttest-auc:0.686139 \n",
      "[5]\ttrain-auc:0.945028\ttest-auc:0.688748 \n",
      "[6]\ttrain-auc:0.959374\ttest-auc:0.675250 \n",
      "[7]\ttrain-auc:0.959799\ttest-auc:0.670712 \n",
      "[8]\ttrain-auc:0.963240\ttest-auc:0.662999 \n",
      "[9]\ttrain-auc:0.964983\ttest-auc:0.663226 \n",
      "[10]\ttrain-auc:0.968425\ttest-auc:0.670939 \n",
      "[11]\ttrain-auc:0.971464\ttest-auc:0.670259 \n",
      "[12]\ttrain-auc:0.973944\ttest-auc:0.678312 \n",
      "[13]\ttrain-auc:0.977743\ttest-auc:0.681261 \n",
      "[14]\ttrain-auc:0.980201\ttest-auc:0.682396 \n",
      "[15]\ttrain-auc:0.981408\ttest-auc:0.679900 \n",
      "[16]\ttrain-auc:0.982391\ttest-auc:0.679900 \n",
      "[17]\ttrain-auc:0.983866\ttest-auc:0.677518 \n",
      "[18]\ttrain-auc:0.985341\ttest-auc:0.673888 \n",
      "[19]\ttrain-auc:0.986816\ttest-auc:0.670712 \n",
      "[20]\ttrain-auc:0.987620\ttest-auc:0.668217 \n"
     ]
    },
    {
     "data": {
      "image/png": "[encoded data removed]",
      "text/plain": [
       "plot without title"
      ]
     },
     "metadata": {},
     "output_type": "display_data"
    }
   ],
   "source": [
    "#plotting learning curve of the number of iterations\n",
    "#Need to have watchlist and verbose turned on\n",
    "watchlist <- list(train=dtrain, test=dval)\n",
    "set.seed(123)\n",
    "xgbModel_opt <- xgb.train(\n",
    "    data = dtrain, \n",
    "    nrounds = 20,\n",
    "    eta= 0.1,\n",
    "    objective = \"binary:logistic\", \n",
    "    verbose = 2, \n",
    "    watchlist = watchlist,\n",
    "    eval_metric = 'auc',\n",
    ")\n",
    "\n",
    "history <- xgbModel_opt$evaluation_log\n",
    "\n",
    "history %>% pivot_longer(2:3, names_to = \"set\", values_to = \"performance\") %>% \n",
    "  ggplot(., aes(iter, performance, col = set))+\n",
    "  geom_point()+ geom_line()+\n",
    "  facet_wrap(~set)"
   ]
  },
  {
   "cell_type": "code",
   "execution_count": 39,
   "id": "9f357ff3",
   "metadata": {},
   "outputs": [
    {
     "data": {
      "text/html": [
       "5"
      ],
      "text/latex": [
       "5"
      ],
      "text/markdown": [
       "5"
      ],
      "text/plain": [
       "[1] 5"
      ]
     },
     "metadata": {},
     "output_type": "display_data"
    }
   ],
   "source": [
    "opt_iter"
   ]
  },
  {
   "cell_type": "markdown",
   "id": "d52b9854",
   "metadata": {},
   "source": [
    "### Validation"
   ]
  },
  {
   "cell_type": "code",
   "execution_count": 38,
   "id": "e76cbca6",
   "metadata": {
    "vscode": {
     "languageId": "r"
    }
   },
   "outputs": [
    {
     "data": {
      "text/html": [
       "0.688747731397459"
      ],
      "text/latex": [
       "0.688747731397459"
      ],
      "text/markdown": [
       "0.688747731397459"
      ],
      "text/plain": [
       "[1] 0.6887477"
      ]
     },
     "metadata": {},
     "output_type": "display_data"
    }
   ],
   "source": [
    "set.seed(123)\n",
    "##Optimize nrounds BEST\n",
    "opt_iter <- history$iter[which.max(history$test_auc)]\n",
    "\n",
    "xgbModel_opt <- xgb.train(\n",
    "    data          = dtrain, \n",
    "    nrounds       = opt_iter, \n",
    "    objective     = \"binary:logistic\",\n",
    "    eta           = 0.1,\n",
    "    verbose       = 2, \n",
    "    eval_metric   = 'auc'\n",
    ")\n",
    "\n",
    "predxgb <- predict(xgbModel_opt,dval)\n",
    "auc <-AUC::auc(roc(predxgb,y_val))\n",
    "AUC::auc(roc(predxgb,y_val))"
   ]
  },
  {
   "cell_type": "code",
   "execution_count": 118,
   "id": "6431f802",
   "metadata": {
    "vscode": {
     "languageId": "r"
    }
   },
   "outputs": [
    {
     "data": {
      "text/plain": [
       "          Reference\n",
       "Prediction  0  1\n",
       "         0 34 19\n",
       "         1 24 57"
      ]
     },
     "metadata": {},
     "output_type": "display_data"
    },
    {
     "data": {
      "text/html": [
       "<span style=white-space:pre-wrap>'AUC:  0.698729582577132'</span>"
      ],
      "text/latex": [
       "'AUC:  0.698729582577132'"
      ],
      "text/markdown": [
       "<span style=white-space:pre-wrap>'AUC:  0.698729582577132'</span>"
      ],
      "text/plain": [
       "[1] \"AUC:  0.698729582577132\""
      ]
     },
     "metadata": {},
     "output_type": "display_data"
    },
    {
     "data": {
      "text/html": [
       "<span style=white-space:pre-wrap>'Accuracy:  0.67910447761194'</span>"
      ],
      "text/latex": [
       "'Accuracy:  0.67910447761194'"
      ],
      "text/markdown": [
       "<span style=white-space:pre-wrap>'Accuracy:  0.67910447761194'</span>"
      ],
      "text/plain": [
       "[1] \"Accuracy:  0.67910447761194\""
      ]
     },
     "metadata": {},
     "output_type": "display_data"
    },
    {
     "data": {
      "text/html": [
       "<span style=white-space:pre-wrap>'Recall:  0.75'</span>"
      ],
      "text/latex": [
       "'Recall:  0.75'"
      ],
      "text/markdown": [
       "<span style=white-space:pre-wrap>'Recall:  0.75'</span>"
      ],
      "text/plain": [
       "[1] \"Recall:  0.75\""
      ]
     },
     "metadata": {},
     "output_type": "display_data"
    },
    {
     "data": {
      "text/html": [
       "<span style=white-space:pre-wrap>'Precision:  0.703703703703704'</span>"
      ],
      "text/latex": [
       "'Precision:  0.703703703703704'"
      ],
      "text/markdown": [
       "<span style=white-space:pre-wrap>'Precision:  0.703703703703704'</span>"
      ],
      "text/plain": [
       "[1] \"Precision:  0.703703703703704\""
      ]
     },
     "metadata": {},
     "output_type": "display_data"
    }
   ],
   "source": [
    "res <-ifelse(predxgb>=0.5,1,0)\n",
    "true_outcome <- y_val\n",
    "\n",
    "confusionMatrix(as.factor(res), as.factor(true_outcome))[[2]]\n",
    "TN =(confusionMatrix(as.factor(res), as.factor(true_outcome)))[[2]][1,1]\n",
    "TP = (confusionMatrix(as.factor(res), as.factor(true_outcome)))[[2]][2,2]\n",
    "FN = (confusionMatrix(as.factor(res), as.factor(true_outcome)))[[2]][1,2]\n",
    "FP = (confusionMatrix(as.factor(res), as.factor(true_outcome)))[[2]][2,1]\n",
    "\n",
    "accuracy = (TP+TN)/(TP+FP+TN+FN)\n",
    "recall = TP/(TP+FN)\n",
    "precision = TP/(TP+FP)\n",
    "\n",
    "paste(\"AUC: \", auc)\n",
    "paste(\"Accuracy: \", accuracy)\n",
    "paste(\"Recall: \", recall)\n",
    "paste(\"Precision: \", precision)"
   ]
  },
  {
   "cell_type": "markdown",
   "id": "de9881cc",
   "metadata": {},
   "source": [
    "### Test"
   ]
  },
  {
   "cell_type": "code",
   "execution_count": 40,
   "id": "ea840ae4",
   "metadata": {},
   "outputs": [],
   "source": [
    "set.seed(123)\n",
    "##Optimize nrounds BEST\n",
    "opt_iter <- history$iter[which.max(history$test_auc)]\n",
    "\n",
    "xgbModel_opt <- xgb.train(\n",
    "    data          = dtrainval, \n",
    "    nrounds       = 15, \n",
    "    objective     = \"binary:logistic\",\n",
    "    eta           = 0.1,\n",
    "    verbose       = 2, \n",
    "    eval_metric   = 'auc'\n",
    ")"
   ]
  },
  {
   "cell_type": "code",
   "execution_count": 41,
   "id": "57680512",
   "metadata": {
    "vscode": {
     "languageId": "r"
    }
   },
   "outputs": [
    {
     "data": {
      "text/plain": [
       "          Reference\n",
       "Prediction  0  1\n",
       "         0 27 26\n",
       "         1 20 43"
      ]
     },
     "metadata": {},
     "output_type": "display_data"
    },
    {
     "data": {
      "text/html": [
       "<span style=white-space:pre-wrap>'AUC:  0.661116250385446'</span>"
      ],
      "text/latex": [
       "'AUC:  0.661116250385446'"
      ],
      "text/markdown": [
       "<span style=white-space:pre-wrap>'AUC:  0.661116250385446'</span>"
      ],
      "text/plain": [
       "[1] \"AUC:  0.661116250385446\""
      ]
     },
     "metadata": {},
     "output_type": "display_data"
    },
    {
     "data": {
      "text/html": [
       "<span style=white-space:pre-wrap>'Accuracy:  0.603448275862069'</span>"
      ],
      "text/latex": [
       "'Accuracy:  0.603448275862069'"
      ],
      "text/markdown": [
       "<span style=white-space:pre-wrap>'Accuracy:  0.603448275862069'</span>"
      ],
      "text/plain": [
       "[1] \"Accuracy:  0.603448275862069\""
      ]
     },
     "metadata": {},
     "output_type": "display_data"
    },
    {
     "data": {
      "text/html": [
       "<span style=white-space:pre-wrap>'Recall:  0.623188405797101'</span>"
      ],
      "text/latex": [
       "'Recall:  0.623188405797101'"
      ],
      "text/markdown": [
       "<span style=white-space:pre-wrap>'Recall:  0.623188405797101'</span>"
      ],
      "text/plain": [
       "[1] \"Recall:  0.623188405797101\""
      ]
     },
     "metadata": {},
     "output_type": "display_data"
    },
    {
     "data": {
      "text/html": [
       "<span style=white-space:pre-wrap>'Precision:  0.682539682539683'</span>"
      ],
      "text/latex": [
       "'Precision:  0.682539682539683'"
      ],
      "text/markdown": [
       "<span style=white-space:pre-wrap>'Precision:  0.682539682539683'</span>"
      ],
      "text/plain": [
       "[1] \"Precision:  0.682539682539683\""
      ]
     },
     "metadata": {},
     "output_type": "display_data"
    }
   ],
   "source": [
    "#Although a lower AUC the recall and precision i significantly better than both ranger and random forest\n",
    "set.seed(123)\n",
    "predxgb <- predict(xgbModel_opt,dtest)\n",
    "auc <-AUC::auc(roc(predxgb,y_test))\n",
    "res <-ifelse(predxgb>=0.5,1,0)\n",
    "true_outcome <- y_test\n",
    "\n",
    "\n",
    "confusionMatrix(as.factor(res), as.factor(true_outcome))[[2]]\n",
    "TN =(confusionMatrix(as.factor(res), as.factor(true_outcome)))[[2]][1,1]\n",
    "TP = (confusionMatrix(as.factor(res), as.factor(true_outcome)))[[2]][2,2]\n",
    "FN = (confusionMatrix(as.factor(res), as.factor(true_outcome)))[[2]][1,2]\n",
    "FP = (confusionMatrix(as.factor(res), as.factor(true_outcome)))[[2]][2,1]\n",
    "\n",
    "accuracy = (TP+TN)/(TP+FP+TN+FN)\n",
    "recall = TP/(TP+FN)\n",
    "precision = TP/(TP+FP)\n",
    "\n",
    "paste(\"AUC: \", auc)\n",
    "paste(\"Accuracy: \", accuracy)\n",
    "paste(\"Recall: \", recall)\n",
    "paste(\"Precision: \", precision)"
   ]
  },
  {
   "cell_type": "markdown",
   "id": "ba4f2e54",
   "metadata": {},
   "source": [
    "## LightGBM"
   ]
  },
  {
   "cell_type": "code",
   "execution_count": 34,
   "id": "b1bb9695",
   "metadata": {
    "vscode": {
     "languageId": "r"
    }
   },
   "outputs": [],
   "source": [
    "#Preparing the train and validation tables\n",
    "table_train5 <- table_train\n",
    "table_val5 <- table_val\n",
    "table_test5 <- table_test\n",
    "table_trainval5 <- table_trainval\n",
    "\n",
    "table_train5$Top10 <- NULL\n",
    "table_train5$Top4 <- NULL\n",
    "table_train5$Top3 <- NULL\n",
    "table_train5$Top2 <- NULL\n",
    "\n",
    "table_val5$Top10 <- NULL\n",
    "table_val5$Top4 <- NULL\n",
    "table_val5$Top3 <- NULL\n",
    "table_val5$Top2 <- NULL\n",
    "\n",
    "table_test5$Top10 <- NULL\n",
    "table_test5$Top4 <- NULL\n",
    "table_test5$Top3 <- NULL\n",
    "table_test5$Top2 <- NULL\n",
    "\n",
    "table_trainval5$Top10 <- NULL\n",
    "table_trainval5$Top4 <- NULL\n",
    "table_trainval5$Top3 <- NULL\n",
    "table_trainval5$Top2 <- NULL"
   ]
  },
  {
   "cell_type": "code",
   "execution_count": 35,
   "id": "18126f88",
   "metadata": {
    "vscode": {
     "languageId": "r"
    }
   },
   "outputs": [],
   "source": [
    "#new train en val set\n",
    "y_train <- table_train5$Top5\n",
    "train <- table_train5\n",
    "train$Top5<- NULL\n",
    "\n",
    "y_val <- table_val5$Top5\n",
    "val <- table_val5\n",
    "val$Top5 <-NULL\n",
    "\n",
    "y_test <- table_test5$Top5\n",
    "test <- table_test\n",
    "table_test5$Top5 <- NULL\n",
    "\n",
    "#Combining test and validationset together\n",
    "y_trainval <- table_trainval5$Top5\n",
    "trainval <- table_trainval5\n",
    "trainval$Top5<- NULL"
   ]
  },
  {
   "cell_type": "code",
   "execution_count": 36,
   "id": "ba02c373",
   "metadata": {
    "vscode": {
     "languageId": "r"
    }
   },
   "outputs": [],
   "source": [
    "train_fs <- train[varsel_boruta]\n",
    "val_fs <- val[varsel_boruta]\n",
    "test_fs <- test[varsel_boruta]\n",
    "trainval_fs = trainval[varsel_boruta]"
   ]
  },
  {
   "cell_type": "markdown",
   "id": "ca9199f2",
   "metadata": {},
   "source": [
    "### Tuning"
   ]
  },
  {
   "cell_type": "code",
   "execution_count": null,
   "id": "d174abc4",
   "metadata": {
    "vscode": {
     "languageId": "r"
    }
   },
   "outputs": [],
   "source": [
    "leaves <- c(2, 4, 6, 8)\n",
    "nround <- c(2, 5, 10, 20, 50, 100, 200)\n",
    "learning_rate <- c(0.01, 0.05, 0.1, 0.2, 0.5)\n",
    "\n",
    "# create data frame of all possible combinations\n",
    "params <- expand.grid(leaves, nround, learning_rate)\n",
    "colnames(params) <- c(\"leaves\", \"nround\", \"learning_rate\")\n",
    "\n",
    "aucs <- vector()\n",
    "for (row in 1:nrow(params)) {\n",
    "  # set parameters\n",
    "  par <- params[row, ]\n",
    "  param_set <- list(num_leaves = par[, \"leaves\"],\n",
    "                    learning_rate = par[,\"learning_rate\"],\n",
    "                    objective = \"binary\", boosting = \"gbdt\",\n",
    "                    num_iterations = par[, \"nround\"])\n",
    "  # model\n",
    "  lgbm_model <- lightgbm(data = as.matrix(train_fs),\n",
    "                         params = param_set, label = as.numeric(as.character(y_train)),\n",
    "                         verbose = -1)\n",
    "\n",
    "  # predict\n",
    "  pred <- predict(lgbm_model, as.matrix(val_fs))\n",
    "  \n",
    "  # evaluate\n",
    "  aucs[row] <- AUC::auc(AUC::roc(pred, y_val))\n",
    "}"
   ]
  },
  {
   "cell_type": "code",
   "execution_count": null,
   "id": "784ef62a",
   "metadata": {
    "vscode": {
     "languageId": "r"
    }
   },
   "outputs": [],
   "source": [
    "(optimal_paramsLGBM <- params[which.max(aucs), ])"
   ]
  },
  {
   "cell_type": "markdown",
   "id": "bbdeb8e7",
   "metadata": {},
   "source": [
    "### Build optimal model"
   ]
  },
  {
   "cell_type": "code",
   "execution_count": null,
   "id": "8459649e",
   "metadata": {
    "vscode": {
     "languageId": "r"
    }
   },
   "outputs": [],
   "source": [
    "# Build the final model on the optimal parameters\n",
    "final_param_set <- list(num_leaves = optimal_paramsLGBM[, \"leaves\"],\n",
    "                        learning_rate = optimal_paramsLGBM[, \"learning_rate\"], objective = \"binary\",\n",
    "                        boosting = \"gbdt\", num_iterations = optimal_paramsLGBM[,\n",
    "                                                                               \"nround\"])\n",
    "\n",
    "lgbm_model <- lightgbm(data = as.matrix(train_fs), params = final_param_set,\n",
    "                       label = as.numeric(as.character(y_train)), verbose = -1)"
   ]
  },
  {
   "cell_type": "markdown",
   "id": "9e65d694",
   "metadata": {},
   "source": [
    "### Validation"
   ]
  },
  {
   "cell_type": "code",
   "execution_count": null,
   "id": "a1db11be",
   "metadata": {
    "vscode": {
     "languageId": "r"
    }
   },
   "outputs": [],
   "source": [
    "# Predict\n",
    "predlgbm <- predict(lgbm_model, as.matrix(val_fs))\n",
    "# Evaluate\n",
    "AUC::auc(AUC::roc(predlgbm, y_val))"
   ]
  },
  {
   "cell_type": "markdown",
   "id": "e4cb20db",
   "metadata": {},
   "source": [
    "### Test"
   ]
  },
  {
   "cell_type": "code",
   "execution_count": null,
   "id": "4e32efdc",
   "metadata": {
    "vscode": {
     "languageId": "r"
    }
   },
   "outputs": [],
   "source": [
    "predlgbm <- predict(lgbm_model, as.matrix(test_fs))\n",
    "auc <-AUC::auc(AUC::roc(predlgbm, y_test))"
   ]
  },
  {
   "cell_type": "code",
   "execution_count": null,
   "id": "e5525fba",
   "metadata": {
    "vscode": {
     "languageId": "r"
    }
   },
   "outputs": [],
   "source": [
    "res <-ifelse(predlgbm>=0.5,1,0)\n",
    "true_outcome <- y_test\n",
    "\n",
    "\n",
    "confusionMatrix(as.factor(res), as.factor(true_outcome))[[2]]\n",
    "TN =(confusionMatrix(as.factor(res), as.factor(true_outcome)))[[2]][1,1]\n",
    "TP = (confusionMatrix(as.factor(res), as.factor(true_outcome)))[[2]][2,2]\n",
    "FN = (confusionMatrix(as.factor(res), as.factor(true_outcome)))[[2]][1,2]\n",
    "FP = (confusionMatrix(as.factor(res), as.factor(true_outcome)))[[2]][2,1]\n",
    "\n",
    "accuracy = (TP+TN)/(TP+FP+TN+FN)\n",
    "recall = TP/(TP+FN)\n",
    "precision = TP/(TP+FP)\n",
    "\n",
    "paste(\"Accuracy: \", accuracy)\n",
    "paste(\"Recall: \", recall)\n",
    "paste(\"Precision: \", precision)\n",
    "\n"
   ]
  },
  {
   "cell_type": "markdown",
   "id": "01e06146",
   "metadata": {},
   "source": [
    "# Rotation forest\n"
   ]
  },
  {
   "cell_type": "code",
   "execution_count": 170,
   "id": "ba1cb341",
   "metadata": {
    "scrolled": true,
    "vscode": {
     "languageId": "r"
    }
   },
   "outputs": [],
   "source": [
    "set.seed(123)\n",
    "train <- basetable_train\n",
    "yTRAIN <- train$Top5\n",
    "train$Top10 = NULL\n",
    "train$Top5 = NULL\n",
    "train$Top4 = NULL\n",
    "train$Top3 = NULL\n",
    "train$Top2 = NULL\n",
    "\n",
    "val <- basetable_val\n",
    "yVAL <- val$Top5\n",
    "val$Top10 = NULL\n",
    "val$Top5 = NULL\n",
    "val$Top4 = NULL\n",
    "val$Top3 = NULL\n",
    "val$Top2 = NULL"
   ]
  },
  {
   "cell_type": "code",
   "execution_count": 128,
   "id": "e4885e36",
   "metadata": {},
   "outputs": [],
   "source": [
    "#Boruto performs better\n",
    "train = train[varsel_boruta]\n",
    "val = val[varsel_boruta]"
   ]
  },
  {
   "cell_type": "markdown",
   "id": "2cafee0c",
   "metadata": {},
   "source": [
    "### Tuning"
   ]
  },
  {
   "cell_type": "code",
   "execution_count": 130,
   "id": "6ce073d3",
   "metadata": {
    "vscode": {
     "languageId": "r"
    }
   },
   "outputs": [],
   "source": [
    "# hyperparameter grid search\n",
    "hyper_grid <- expand.grid(\n",
    "  L       = seq(1, 20, by = 1),\n",
    "  K       = seq(1, round(ncol(train)/2), by = 1)\n",
    ")"
   ]
  },
  {
   "cell_type": "code",
   "execution_count": 131,
   "id": "fc013b5d",
   "metadata": {},
   "outputs": [
    {
     "data": {
      "text/html": [
       "9"
      ],
      "text/latex": [
       "9"
      ],
      "text/markdown": [
       "9"
      ],
      "text/plain": [
       "[1] 9"
      ]
     },
     "metadata": {},
     "output_type": "display_data"
    }
   ],
   "source": [
    "ncol(train)"
   ]
  },
  {
   "cell_type": "code",
   "execution_count": 132,
   "id": "3bafae6c",
   "metadata": {
    "vscode": {
     "languageId": "r"
    }
   },
   "outputs": [],
   "source": [
    "for(i in 1:nrow(hyper_grid)) {\n",
    "  set.seed(123)\n",
    "  # train model\n",
    "  RoFmodel <- rotationForest(\n",
    "    x               = train, \n",
    "    y               = yTRAIN, \n",
    "    L               = hyper_grid$L[i],\n",
    "    K               = hyper_grid$K[i],\n",
    "  )\n",
    "  predictions =  predict(RoFmodel, val)\n",
    "  auc = AUC::auc(roc(predictions,factor(yVAL)))\n",
    "  hyper_grid$AUC[i] <- auc\n",
    "}"
   ]
  },
  {
   "cell_type": "code",
   "execution_count": 133,
   "id": "9e1bc9dd",
   "metadata": {
    "scrolled": false,
    "vscode": {
     "languageId": "r"
    }
   },
   "outputs": [
    {
     "data": {
      "text/html": [
       "<table>\n",
       "<thead><tr><th></th><th scope=col>L</th><th scope=col>K</th><th scope=col>AUC</th></tr></thead>\n",
       "<tbody>\n",
       "\t<tr><th scope=row>76</th><td>11       </td><td>2        </td><td>0.7104129</td></tr>\n",
       "\t<tr><th scope=row>77</th><td> 9       </td><td>2        </td><td>0.7115472</td></tr>\n",
       "\t<tr><th scope=row>78</th><td>12       </td><td>2        </td><td>0.7146098</td></tr>\n",
       "\t<tr><th scope=row>79</th><td>13       </td><td>2        </td><td>0.7148367</td></tr>\n",
       "\t<tr><th scope=row>80</th><td>10       </td><td>2        </td><td>0.7183530</td></tr>\n",
       "</tbody>\n",
       "</table>\n"
      ],
      "text/latex": [
       "\\begin{tabular}{r|lll}\n",
       "  & L & K & AUC\\\\\n",
       "\\hline\n",
       "\t76 & 11        & 2         & 0.7104129\\\\\n",
       "\t77 &  9        & 2         & 0.7115472\\\\\n",
       "\t78 & 12        & 2         & 0.7146098\\\\\n",
       "\t79 & 13        & 2         & 0.7148367\\\\\n",
       "\t80 & 10        & 2         & 0.7183530\\\\\n",
       "\\end{tabular}\n"
      ],
      "text/markdown": [
       "\n",
       "| <!--/--> | L | K | AUC |\n",
       "|---|---|---|---|\n",
       "| 76 | 11        | 2         | 0.7104129 |\n",
       "| 77 |  9        | 2         | 0.7115472 |\n",
       "| 78 | 12        | 2         | 0.7146098 |\n",
       "| 79 | 13        | 2         | 0.7148367 |\n",
       "| 80 | 10        | 2         | 0.7183530 |\n",
       "\n"
      ],
      "text/plain": [
       "   L  K AUC      \n",
       "76 11 2 0.7104129\n",
       "77  9 2 0.7115472\n",
       "78 12 2 0.7146098\n",
       "79 13 2 0.7148367\n",
       "80 10 2 0.7183530"
      ]
     },
     "metadata": {},
     "output_type": "display_data"
    }
   ],
   "source": [
    "hyper_grid %>% \n",
    "  dplyr::arrange(AUC) %>%\n",
    "  tail(5)\n"
   ]
  },
  {
   "cell_type": "markdown",
   "id": "269720a8",
   "metadata": {},
   "source": [
    "### Validation"
   ]
  },
  {
   "cell_type": "code",
   "execution_count": 171,
   "id": "8fa4fd58",
   "metadata": {
    "vscode": {
     "languageId": "r"
    }
   },
   "outputs": [
    {
     "data": {
      "text/html": [
       "0.736357511789805"
      ],
      "text/latex": [
       "0.736357511789805"
      ],
      "text/markdown": [
       "0.736357511789805"
      ],
      "text/plain": [
       "[1] 0.7363575"
      ]
     },
     "metadata": {},
     "output_type": "display_data"
    }
   ],
   "source": [
    "#No tuning\n",
    "set.seed(123)\n",
    "RoFmodel <- rotationForest(x=train, y = yTRAIN)\n",
    "predictions =  predict(RoFmodel,val)\n",
    "AUC::auc(roc(predictions,factor(yVAL)))"
   ]
  },
  {
   "cell_type": "code",
   "execution_count": 172,
   "id": "227ec9c7",
   "metadata": {
    "vscode": {
     "languageId": "r"
    }
   },
   "outputs": [
    {
     "data": {
      "text/html": [
       "0.627891309229732"
      ],
      "text/latex": [
       "0.627891309229732"
      ],
      "text/markdown": [
       "0.627891309229732"
      ],
      "text/plain": [
       "[1] 0.6278913"
      ]
     },
     "metadata": {},
     "output_type": "display_data"
    }
   ],
   "source": [
    "#With tuning\n",
    "set.seed(123)\n",
    "RoFmodel <- rotationForest(x=train, y = yTRAIN, L=10, K=2)\n",
    "predictions =  predict(RoFmodel, val)\n",
    "auc = AUC::auc(roc(predictions,factor(yVAL)))\n",
    "AUC::auc(roc(predictions,factor(yVAL)))"
   ]
  },
  {
   "cell_type": "code",
   "execution_count": 136,
   "id": "8155d16b",
   "metadata": {
    "vscode": {
     "languageId": "r"
    }
   },
   "outputs": [],
   "source": [
    "res = ifelse(predictions>=0.5,1,0)\n",
    "true_outcome = yVAL"
   ]
  },
  {
   "cell_type": "code",
   "execution_count": 137,
   "id": "f574dd0d",
   "metadata": {
    "scrolled": false,
    "vscode": {
     "languageId": "r"
    }
   },
   "outputs": [
    {
     "data": {
      "text/plain": [
       "          Reference\n",
       "Prediction  0  1\n",
       "         0 33 19\n",
       "         1 25 57"
      ]
     },
     "metadata": {},
     "output_type": "display_data"
    },
    {
     "data": {
      "text/html": [
       "<span style=white-space:pre-wrap>'AUC:  0.718352994555354'</span>"
      ],
      "text/latex": [
       "'AUC:  0.718352994555354'"
      ],
      "text/markdown": [
       "<span style=white-space:pre-wrap>'AUC:  0.718352994555354'</span>"
      ],
      "text/plain": [
       "[1] \"AUC:  0.718352994555354\""
      ]
     },
     "metadata": {},
     "output_type": "display_data"
    },
    {
     "data": {
      "text/html": [
       "<span style=white-space:pre-wrap>'Accuracy:  0.671641791044776'</span>"
      ],
      "text/latex": [
       "'Accuracy:  0.671641791044776'"
      ],
      "text/markdown": [
       "<span style=white-space:pre-wrap>'Accuracy:  0.671641791044776'</span>"
      ],
      "text/plain": [
       "[1] \"Accuracy:  0.671641791044776\""
      ]
     },
     "metadata": {},
     "output_type": "display_data"
    },
    {
     "data": {
      "text/html": [
       "<span style=white-space:pre-wrap>'Recall:  0.75'</span>"
      ],
      "text/latex": [
       "'Recall:  0.75'"
      ],
      "text/markdown": [
       "<span style=white-space:pre-wrap>'Recall:  0.75'</span>"
      ],
      "text/plain": [
       "[1] \"Recall:  0.75\""
      ]
     },
     "metadata": {},
     "output_type": "display_data"
    },
    {
     "data": {
      "text/html": [
       "<span style=white-space:pre-wrap>'Precision:  0.695121951219512'</span>"
      ],
      "text/latex": [
       "'Precision:  0.695121951219512'"
      ],
      "text/markdown": [
       "<span style=white-space:pre-wrap>'Precision:  0.695121951219512'</span>"
      ],
      "text/plain": [
       "[1] \"Precision:  0.695121951219512\""
      ]
     },
     "metadata": {},
     "output_type": "display_data"
    }
   ],
   "source": [
    "confusionMatrix(as.factor(res), as.factor(true_outcome))[[2]]\n",
    "TN =(confusionMatrix(as.factor(res), as.factor(true_outcome)))[[2]][1,1]\n",
    "TP = (confusionMatrix(as.factor(res), as.factor(true_outcome)))[[2]][2,2]\n",
    "FN = (confusionMatrix(as.factor(res), as.factor(true_outcome)))[[2]][1,2]\n",
    "FP = (confusionMatrix(as.factor(res), as.factor(true_outcome)))[[2]][2,1]\n",
    "\n",
    "accuracy = (TP+TN)/(TP+FP+TN+FN)\n",
    "recall = TP/(TP+FN)\n",
    "precision = TP/(TP+FP)\n",
    "\n",
    "paste(\"AUC: \", auc)\n",
    "paste(\"Accuracy: \", accuracy)\n",
    "paste(\"Recall: \", recall)\n",
    "paste(\"Precision: \", precision)"
   ]
  },
  {
   "cell_type": "markdown",
   "id": "1d08904e",
   "metadata": {},
   "source": [
    "### Test"
   ]
  },
  {
   "cell_type": "code",
   "execution_count": 138,
   "id": "84938f1c",
   "metadata": {},
   "outputs": [],
   "source": [
    "set.seed(123)\n",
    "train <- basetable\n",
    "yTRAIN <- train$Top5\n",
    "train$Top10 = NULL\n",
    "train$Top5 = NULL\n",
    "train$Top4 = NULL\n",
    "train$Top3 = NULL\n",
    "train$Top2 = NULL\n",
    "\n",
    "test <- basetable_test\n",
    "yTEST <- test$Top5\n",
    "test$Top10 = NULL\n",
    "test$Top5 = NULL\n",
    "test$Top4 = NULL\n",
    "test$Top3 = NULL\n",
    "test$Top2 = NULL"
   ]
  },
  {
   "cell_type": "code",
   "execution_count": 139,
   "id": "55a23855",
   "metadata": {},
   "outputs": [],
   "source": [
    "train = train[varsel_boruta]\n",
    "test = test[varsel_boruta]"
   ]
  },
  {
   "cell_type": "code",
   "execution_count": 143,
   "id": "d6ac4913",
   "metadata": {},
   "outputs": [
    {
     "data": {
      "text/html": [
       "0.758402713536849"
      ],
      "text/latex": [
       "0.758402713536849"
      ],
      "text/markdown": [
       "0.758402713536849"
      ],
      "text/plain": [
       "[1] 0.7584027"
      ]
     },
     "metadata": {},
     "output_type": "display_data"
    }
   ],
   "source": [
    "set.seed(123)\n",
    "model <- rotationForest(x=train, y = yTRAIN, L=10, K=2)\n",
    "predictions =  predict(model,test)\n",
    "auc = AUC::auc(roc(predictions,factor(yTEST)))\n",
    "AUC::auc(roc(predictions,factor(yTEST)))"
   ]
  },
  {
   "cell_type": "code",
   "execution_count": 144,
   "id": "d8401c34",
   "metadata": {
    "vscode": {
     "languageId": "r"
    }
   },
   "outputs": [],
   "source": [
    "res = ifelse(predictions>=0.5,1,0)\n",
    "true_outcome = yTEST"
   ]
  },
  {
   "cell_type": "code",
   "execution_count": 145,
   "id": "ae1a5d34",
   "metadata": {
    "scrolled": false,
    "vscode": {
     "languageId": "r"
    }
   },
   "outputs": [
    {
     "data": {
      "text/plain": [
       "          Reference\n",
       "Prediction  0  1\n",
       "         0 23  9\n",
       "         1 24 60"
      ]
     },
     "metadata": {},
     "output_type": "display_data"
    },
    {
     "data": {
      "text/html": [
       "<span style=white-space:pre-wrap>'AUC:  0.758402713536849'</span>"
      ],
      "text/latex": [
       "'AUC:  0.758402713536849'"
      ],
      "text/markdown": [
       "<span style=white-space:pre-wrap>'AUC:  0.758402713536849'</span>"
      ],
      "text/plain": [
       "[1] \"AUC:  0.758402713536849\""
      ]
     },
     "metadata": {},
     "output_type": "display_data"
    },
    {
     "data": {
      "text/html": [
       "<span style=white-space:pre-wrap>'Accuracy:  0.71551724137931'</span>"
      ],
      "text/latex": [
       "'Accuracy:  0.71551724137931'"
      ],
      "text/markdown": [
       "<span style=white-space:pre-wrap>'Accuracy:  0.71551724137931'</span>"
      ],
      "text/plain": [
       "[1] \"Accuracy:  0.71551724137931\""
      ]
     },
     "metadata": {},
     "output_type": "display_data"
    },
    {
     "data": {
      "text/html": [
       "<span style=white-space:pre-wrap>'Recall:  0.869565217391304'</span>"
      ],
      "text/latex": [
       "'Recall:  0.869565217391304'"
      ],
      "text/markdown": [
       "<span style=white-space:pre-wrap>'Recall:  0.869565217391304'</span>"
      ],
      "text/plain": [
       "[1] \"Recall:  0.869565217391304\""
      ]
     },
     "metadata": {},
     "output_type": "display_data"
    },
    {
     "data": {
      "text/html": [
       "<span style=white-space:pre-wrap>'Precision:  0.714285714285714'</span>"
      ],
      "text/latex": [
       "'Precision:  0.714285714285714'"
      ],
      "text/markdown": [
       "<span style=white-space:pre-wrap>'Precision:  0.714285714285714'</span>"
      ],
      "text/plain": [
       "[1] \"Precision:  0.714285714285714\""
      ]
     },
     "metadata": {},
     "output_type": "display_data"
    }
   ],
   "source": [
    "confusionMatrix(as.factor(res), as.factor(true_outcome))[[2]]\n",
    "TN =(confusionMatrix(as.factor(res), as.factor(true_outcome)))[[2]][1,1]\n",
    "TP = (confusionMatrix(as.factor(res), as.factor(true_outcome)))[[2]][2,2]\n",
    "FN = (confusionMatrix(as.factor(res), as.factor(true_outcome)))[[2]][1,2]\n",
    "FP = (confusionMatrix(as.factor(res), as.factor(true_outcome)))[[2]][2,1]\n",
    "\n",
    "accuracy = (TP+TN)/(TP+FP+TN+FN)\n",
    "recall = TP/(TP+FN)\n",
    "precision = TP/(TP+FP)\n",
    "\n",
    "paste(\"AUC: \", auc)\n",
    "paste(\"Accuracy: \", accuracy)\n",
    "paste(\"Recall: \", recall)\n",
    "paste(\"Precision: \", precision)"
   ]
  },
  {
   "cell_type": "markdown",
   "id": "21d2a968",
   "metadata": {},
   "source": [
    "# Catboost"
   ]
  },
  {
   "cell_type": "code",
   "execution_count": 159,
   "id": "16480b02",
   "metadata": {},
   "outputs": [
    {
     "ename": "ERROR",
     "evalue": "Error in catboost.load_pool(data = data.matrix(basetable_train[, -(40:44)]), : could not find function \"catboost.load_pool\"\n",
     "output_type": "error",
     "traceback": [
      "Error in catboost.load_pool(data = data.matrix(basetable_train[, -(40:44)]), : could not find function \"catboost.load_pool\"\nTraceback:\n"
     ]
    }
   ],
   "source": [
    "train_pool <- catboost.load_pool(data = data.matrix(basetable_train[,-(40:44)]),label = as.numeric(as.character(basetable_train$Top5)))\n",
    "val_pool <- catboost.load_pool(data = data.matrix(basetable_val[,-(40:44)]), label = as.numeric(as.character(basetable_val$Top5)))"
   ]
  },
  {
   "cell_type": "code",
   "execution_count": null,
   "id": "be32ef5a",
   "metadata": {},
   "outputs": [],
   "source": [
    "# parameter tuning with caret\n",
    "fit_control <- trainControl(method = \"cv\",\n",
    "                            number = 4,\n",
    "                            classProbs = TRUE)\n",
    "\n",
    "grid <- expand.grid(depth = c(4, 6, 8),\n",
    "                    learning_rate = c(0.1,0.5,1),\n",
    "                    iterations = 100,\n",
    "                    l2_leaf_reg = c(0.001, 0.01, 0.1, 1),\n",
    "                    rsm = 0.95,\n",
    "                    border_count = 64)\n",
    "report <- train(basetable_train[,-(40:44)], as.factor(make.names(basetable_train$Top5)),\n",
    "                method = catboost.caret,\n",
    "                logging_level = 'Verbose', preProc = NULL,\n",
    "                tuneGrid = grid, trControl = fit_control)\n",
    "\n",
    "print(report)\n",
    "#extract best parameters\n",
    "params <- list(loss_function = 'Logloss',\n",
    "               iterations = 100, \n",
    "               depth = 8, \n",
    "               learning_rate = 0.1,\n",
    "               l2_leaf_reg = 0.001, #L2 regularization \n",
    "               metric_period=10)\n",
    "\n",
    "importance <- varImp(report, scale = FALSE)\n",
    "print(importance)"
   ]
  },
  {
   "cell_type": "code",
   "execution_count": null,
   "id": "3a3bfb2b",
   "metadata": {},
   "outputs": [],
   "source": [
    "# train model\n",
    "catboost_train <- catboost.train(train_pool,  NULL, params = params)\n",
    "\n",
    "preds_cad_train <- catboost.predict(catboost_train, val_pool)\n",
    "\n",
    "AUC::auc(AUC::roc(preds_cad_train,basetable_val$Top5)) # Validation set AUC"
   ]
  },
  {
   "cell_type": "code",
   "execution_count": null,
   "id": "d2656477",
   "metadata": {},
   "outputs": [],
   "source": [
    "# now for test set\n",
    "big_pool <- catboost.load_pool(data = data.matrix(basetable[,-(40:44)]), \n",
    "                                 label = as.numeric(as.character(basetable$Top5)))\n",
    "test_pool <- catboost.load_pool(data = data.matrix(basetable_test[,-(40:44)]), \n",
    "                               label = as.numeric(as.character(basetable_test$Top5)))\n",
    "\n",
    "catboost_test <- catboost.train(big_pool,  NULL, params = params)\n",
    "\n",
    "preds_cad_test <- catboost.predict(catboost_test, test_pool)\n",
    "\n",
    "AUC::auc(AUC::roc(preds_cad_test,basetable_test$Top5)) # Test set AUC"
   ]
  },
  {
   "cell_type": "code",
   "execution_count": null,
   "id": "2ab9ebd6",
   "metadata": {},
   "outputs": [],
   "source": [
    "# check accuracy\n",
    "res <-ifelse(preds_cad_test>=0.5,1,0)\n",
    "true_outcome <- basetable_test$Top5\n",
    "\n",
    "\n",
    "confusionMatrix(as.factor(res), as.factor(true_outcome))[[2]]\n",
    "TN =(confusionMatrix(as.factor(res), as.factor(true_outcome)))[[2]][1,1]\n",
    "TP = (confusionMatrix(as.factor(res), as.factor(true_outcome)))[[2]][2,2]\n",
    "FN = (confusionMatrix(as.factor(res), as.factor(true_outcome)))[[2]][1,2]\n",
    "FP = (confusionMatrix(as.factor(res), as.factor(true_outcome)))[[2]][2,1]\n",
    "\n",
    "accuracy = (TP+TN)/(TP+FP+TN+FN)\n",
    "recall = TP/(TP+FN)\n",
    "precision = TP/(TP+FP)\n",
    "accuracy"
   ]
  },
  {
   "cell_type": "markdown",
   "id": "d7469c6e",
   "metadata": {},
   "source": [
    "# AdaBoost"
   ]
  },
  {
   "cell_type": "code",
   "execution_count": null,
   "id": "31e3f61a",
   "metadata": {},
   "outputs": [],
   "source": [
    "p_load(ada)\n",
    "#Prepating the train and validation tables\n",
    "table_train5 <- table_train\n",
    "table_val5 <- table_val\n",
    "table_test5 <- table_test\n",
    "table_train5$Top10 <- NULL\n",
    "table_train5$Top4 <- NULL\n",
    "table_train5$Top3 <- NULL\n",
    "table_train5$Top2 <- NULL\n",
    "table_val5$Top10 <- NULL\n",
    "table_val5$Top4 <- NULL\n",
    "table_val5$Top3 <- NULL\n",
    "table_val5$Top2 <- NULL\n",
    "table_test5$Top10 <- NULL\n",
    "table_test5$Top4 <- NULL\n",
    "table_test5$Top3 <- NULL\n",
    "table_test5$Top2 <- NULL\n",
    "\n",
    "# Perform Boruta search\n",
    "boruta_output <- Boruta(Top5 ~ ., data=na.omit(table_train5), doTrace=0) \n",
    "boruta_signif <- getSelectedAttributes(boruta_output, withTentative = TRUE)\n",
    "print(boruta_signif) \n",
    "\n",
    "roughFixMod <- TentativeRoughFix(boruta_output)\n",
    "boruta_signif <- getSelectedAttributes(roughFixMod)\n",
    "print(boruta_signif)\n",
    "imps <- attStats(roughFixMod)\n",
    "imps2 = imps[imps$decision != 'Rejected', c('meanImp', 'decision')]\n",
    "head(imps2[order(-imps2$meanImp), ])  # descending sort\n",
    "plot(boruta_output, cex.axis=.7, las=2, xlab=\"\", main=\"Variable Importance\")  \n",
    "\n",
    "#new train en val set\n",
    "y_train <- table_train5$Top5\n",
    "train <- table_train5\n",
    "train$Top5<- NULL\n",
    "\n",
    "y_val <- table_val5$Top5\n",
    "val <- table_val5\n",
    "val$Top5 <-NULL\n",
    "\n",
    "y_test <- table_test5$Top5\n",
    "test <- table_test\n",
    "table_test5$Top5 <- NULL\n",
    "\n",
    "\n",
    "train_fs <- train[boruta_signif]\n",
    "val_fs <- val[boruta_signif]\n",
    "test_fs <- test[boruta_signif]"
   ]
  },
  {
   "cell_type": "code",
   "execution_count": null,
   "id": "6a7fa2c2",
   "metadata": {},
   "outputs": [],
   "source": [
    "\n",
    "#preparing matrices\n",
    "#convert all data to numeric format\n",
    "trainxgb <- train_fs %>% mutate_if(is.factor, as.character)  %>% mutate_if(is.character, as.numeric)\n",
    "testxgb <- test_fs %>% mutate_if(is.factor, as.character)  %>% mutate_if(is.character, as.numeric)\n",
    "valxgb <- val_fs %>% mutate_if(is.factor, as.character)  %>% mutate_if(is.character, as.numeric)\n",
    "\n",
    "dtrain <- xgb.DMatrix(data = as.matrix(trainxgb),\n",
    "                      label = as.numeric(as.character(y_train))) \n",
    "dval <- xgb.DMatrix(data = as.matrix(valxgb), \n",
    "                    label = as.numeric(as.character(y_val))) \n",
    "dtest <- xgb.DMatrix(data = as.matrix(testxgb))\n",
    "\n",
    "\n",
    "watchlist <- list(train=dtrain, test=dval)\n",
    "adaModel_opt <- xgb.train(data = dtrain, \n",
    "                          nrounds = 20, \n",
    "                          eta=0.1,\n",
    "                          objective = \"binary:logistic\", \n",
    "                          verbose = 2, \n",
    "                          watchlist = watchlist,\n",
    "                          eval_metric = 'auc')\n",
    "\n",
    "history <- adaModel_opt$evaluation_log\n",
    "\n",
    "history %>% pivot_longer(2:3,names_to = \"set\", values_to = \"performance\") %>% \n",
    "  ggplot(., aes(iter, performance, col = set))+\n",
    "  geom_point() + geom_line() + \n",
    "  facet_wrap(~set, )\n",
    "\n",
    "\n",
    "opt_iter <- history$iter[which.max(history$test_auc)]\n",
    "adaModel_opt <- xgb.train(data = dtrain, \n",
    "                          nrounds = opt_iter, \n",
    "                          eta=0.1,\n",
    "                          objective = \"binary:logistic\", \n",
    "                          verbose = 2, \n",
    "                          eval_metric = 'auc')\n",
    "\n",
    "ABmodel <- ada(y_train ~ . ,train_fs,iter=opt_iter)\n",
    "\n",
    "predAB <- as.numeric(predict(ABmodel,val_fs,type=\"probs\")[,2])\n",
    "AUC::auc(roc(predAB,y_val))\n",
    "\n",
    "predAB <- as.numeric(predict(ABmodel,test_fs,type=\"probs\")[,2])\n",
    "auc <-AUC::auc(roc(predAB,y_test))"
   ]
  },
  {
   "cell_type": "code",
   "execution_count": null,
   "id": "f1926922",
   "metadata": {},
   "outputs": [],
   "source": [
    "\n",
    "res <-ifelse(predAB>=0.5,1,0)\n",
    "true_outcome <- y_test\n",
    "\n",
    "\n",
    "confusionMatrix(as.factor(res), as.factor(true_outcome))[[2]]\n",
    "TN =(confusionMatrix(as.factor(res), as.factor(true_outcome)))[[2]][1,1]\n",
    "TP = (confusionMatrix(as.factor(res), as.factor(true_outcome)))[[2]][2,2]\n",
    "FN = (confusionMatrix(as.factor(res), as.factor(true_outcome)))[[2]][1,2]\n",
    "FP = (confusionMatrix(as.factor(res), as.factor(true_outcome)))[[2]][2,1]\n",
    "\n",
    "accuracy = (TP+TN)/(TP+FP+TN+FN)\n",
    "recall = TP/(TP+FN)\n",
    "precision = TP/(TP+FP)\n",
    "\n",
    "paste(\"AUC: \", auc)\n",
    "paste(\"Accuracy: \", accuracy)\n",
    "paste(\"Recall: \", recall)\n",
    "paste(\"Precision: \", precision)"
   ]
  },
  {
   "cell_type": "markdown",
   "id": "b11de988",
   "metadata": {},
   "source": [
    "# Heterogenous ensemble"
   ]
  },
  {
   "cell_type": "code",
   "execution_count": null,
   "id": "b20e362b",
   "metadata": {},
   "outputs": [],
   "source": [
    "\n",
    "# adaboost & rotation\n",
    "finalpredictions <- (auc_RoF/(auc_RoF + auc_ada)) * pred_RoF_test + (auc_ada/(auc_RoF + auc_ada)) * predAB\n",
    "\n",
    "AUC::auc(AUC::roc(finalpredictions, basetable_test$Top5))\n",
    "\n",
    "# accuracy\n",
    "res <-ifelse(finalpredictions>=0.5,1,0)\n",
    "true_outcome <- basetable_test$Top5\n",
    "\n",
    "\n",
    "confusionMatrix(as.factor(res), as.factor(true_outcome))[[2]]\n",
    "TN =(confusionMatrix(as.factor(res), as.factor(true_outcome)))[[2]][1,1]\n",
    "TP = (confusionMatrix(as.factor(res), as.factor(true_outcome)))[[2]][2,2]\n",
    "FN = (confusionMatrix(as.factor(res), as.factor(true_outcome)))[[2]][1,2]\n",
    "FP = (confusionMatrix(as.factor(res), as.factor(true_outcome)))[[2]][2,1]\n",
    "\n",
    "accuracy = (TP+TN)/(TP+FP+TN+FN)\n",
    "recall = TP/(TP+FN)\n",
    "precision = TP/(TP+FP)\n",
    "accuracy\n"
   ]
  }
 ],
 "metadata": {
  "hide_input": false,
  "kernelspec": {
   "display_name": "R",
   "language": "R",
   "name": "ir"
  },
  "language_info": {
   "codemirror_mode": "r",
   "file_extension": ".r",
   "mimetype": "text/x-r-source",
   "name": "R",
   "pygments_lexer": "r",
   "version": "3.6.1"
  }
 },
 "nbformat": 4,
 "nbformat_minor": 5
}
